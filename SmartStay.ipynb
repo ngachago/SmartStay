{
 "cells": [
  {
   "cell_type": "markdown",
   "metadata": {
    "heading_collapsed": true
   },
   "source": [
    "## Overview\n",
    "\n",
    "This notebook explores the Datafiniti Hotel Reviews dataset provided on [Kaggle](https://www.kaggle.com/datafiniti/hotel-reviews)"
   ]
  },
  {
   "cell_type": "code",
   "execution_count": 110,
   "metadata": {
    "hidden": true
   },
   "outputs": [
    {
     "name": "stderr",
     "output_type": "stream",
     "text": [
      "[nltk_data] Downloading package stopwords to\n",
      "[nltk_data]     C:\\Users\\njeri\\AppData\\Roaming\\nltk_data...\n",
      "[nltk_data]   Package stopwords is already up-to-date!\n",
      "[nltk_data] Downloading package punkt to\n",
      "[nltk_data]     C:\\Users\\njeri\\AppData\\Roaming\\nltk_data...\n",
      "[nltk_data]   Package punkt is already up-to-date!\n",
      "[nltk_data] Downloading package wordnet to\n",
      "[nltk_data]     C:\\Users\\njeri\\AppData\\Roaming\\nltk_data...\n",
      "[nltk_data]   Package wordnet is already up-to-date!\n"
     ]
    }
   ],
   "source": [
    "# Data processing\n",
    "import pandas as pd\n",
    "from urllib.parse import urlparse\n",
    "import string\n",
    "from nltk.corpus import stopwords \n",
    "from nltk.tokenize import word_tokenize\n",
    "import nltk\n",
    "nltk.download('stopwords')\n",
    "nltk.download('punkt')\n",
    "from nltk.stem import WordNetLemmatizer\n",
    "nltk.download('wordnet')\n",
    "\n",
    "# ML modeling\n",
    "from sklearn.model_selection import GridSearchCV\n",
    "from sklearn.pipeline import Pipeline\n",
    "from sklearn.feature_extraction.text import TfidfVectorizer\n",
    "from sklearn.naive_bayes import MultinomialNB\n",
    "from sklearn.metrics import f1_score\n",
    "from sklearn.dummy import DummyClassifier\n",
    "from wordcloud import WordCloud\n",
    "import pyLDAvis.gensim\n",
    "import pickle \n",
    "import pyLDAvis\n",
    "import os\n",
    "import gensim\n",
    "import gensim.corpora as corpora\n",
    "from pprint import pprint"
   ]
  },
  {
   "cell_type": "code",
   "execution_count": 98,
   "metadata": {
    "hidden": true
   },
   "outputs": [
    {
     "name": "stderr",
     "output_type": "stream",
     "text": [
      "c:\\users\\njeri\\.venvs\\smart_stay\\lib\\site-packages\\ipykernel\\ipkernel.py:283: DeprecationWarning: `should_run_async` will not call `transform_cell` automatically in the future. Please pass the result to `transformed_cell` argument and any exception that happen during thetransform in `preprocessing_exc_tuple` in IPython 7.17 and above.\n",
      "  and should_run_async(code)\n"
     ]
    }
   ],
   "source": [
    "import warnings\n",
    "warnings.filterwarnings(\"ignore\", category=DeprecationWarning)"
   ]
  },
  {
   "cell_type": "markdown",
   "metadata": {
    "heading_collapsed": true
   },
   "source": [
    "## Load data"
   ]
  },
  {
   "cell_type": "code",
   "execution_count": 2,
   "metadata": {
    "hidden": true
   },
   "outputs": [
    {
     "name": "stderr",
     "output_type": "stream",
     "text": [
      "c:\\users\\njeri\\.venvs\\smart_stay\\lib\\site-packages\\ipykernel\\ipkernel.py:283: DeprecationWarning: `should_run_async` will not call `transform_cell` automatically in the future. Please pass the result to `transformed_cell` argument and any exception that happen during thetransform in `preprocessing_exc_tuple` in IPython 7.17 and above.\n",
      "  and should_run_async(code)\n"
     ]
    },
    {
     "data": {
      "text/plain": [
       "(10000, 25)"
      ]
     },
     "execution_count": 2,
     "metadata": {},
     "output_type": "execute_result"
    }
   ],
   "source": [
    "df_1 = pd.read_csv('data/Datafiniti_Hotel_Reviews.csv')\n",
    "df_1.shape"
   ]
  },
  {
   "cell_type": "code",
   "execution_count": 3,
   "metadata": {
    "hidden": true
   },
   "outputs": [
    {
     "name": "stderr",
     "output_type": "stream",
     "text": [
      "c:\\users\\njeri\\.venvs\\smart_stay\\lib\\site-packages\\ipykernel\\ipkernel.py:283: DeprecationWarning: `should_run_async` will not call `transform_cell` automatically in the future. Please pass the result to `transformed_cell` argument and any exception that happen during thetransform in `preprocessing_exc_tuple` in IPython 7.17 and above.\n",
      "  and should_run_async(code)\n"
     ]
    },
    {
     "data": {
      "text/plain": [
       "Index(['id', 'dateAdded', 'dateUpdated', 'address', 'categories',\n",
       "       'primaryCategories', 'city', 'country', 'keys', 'latitude', 'longitude',\n",
       "       'name', 'postalCode', 'province', 'reviews.date', 'reviews.dateAdded',\n",
       "       'reviews.dateSeen', 'reviews.rating', 'reviews.sourceURLs',\n",
       "       'reviews.text', 'reviews.title', 'reviews.userCity',\n",
       "       'reviews.userProvince', 'reviews.username', 'sourceURLs', 'websites'],\n",
       "      dtype='object')"
      ]
     },
     "execution_count": 3,
     "metadata": {},
     "output_type": "execute_result"
    }
   ],
   "source": [
    "df_2 = pd.read_csv('data/Datafiniti_Hotel_Reviews_Jun19.csv')\n",
    "df_2.columns"
   ]
  },
  {
   "cell_type": "code",
   "execution_count": 4,
   "metadata": {
    "hidden": true
   },
   "outputs": [
    {
     "name": "stderr",
     "output_type": "stream",
     "text": [
      "c:\\users\\njeri\\.venvs\\smart_stay\\lib\\site-packages\\ipykernel\\ipkernel.py:283: DeprecationWarning: `should_run_async` will not call `transform_cell` automatically in the future. Please pass the result to `transformed_cell` argument and any exception that happen during thetransform in `preprocessing_exc_tuple` in IPython 7.17 and above.\n",
      "  and should_run_async(code)\n"
     ]
    },
    {
     "data": {
      "text/plain": [
       "(10000, 25)"
      ]
     },
     "execution_count": 4,
     "metadata": {},
     "output_type": "execute_result"
    }
   ],
   "source": [
    "# Make sure columns match before concatenating\n",
    "df_2 = df_2.drop(columns='reviews.dateAdded')\n",
    "df_2.shape"
   ]
  },
  {
   "cell_type": "code",
   "execution_count": 5,
   "metadata": {
    "hidden": true
   },
   "outputs": [
    {
     "name": "stderr",
     "output_type": "stream",
     "text": [
      "c:\\users\\njeri\\.venvs\\smart_stay\\lib\\site-packages\\ipykernel\\ipkernel.py:283: DeprecationWarning: `should_run_async` will not call `transform_cell` automatically in the future. Please pass the result to `transformed_cell` argument and any exception that happen during thetransform in `preprocessing_exc_tuple` in IPython 7.17 and above.\n",
      "  and should_run_async(code)\n"
     ]
    },
    {
     "data": {
      "text/plain": [
       "(20000, 25)"
      ]
     },
     "execution_count": 5,
     "metadata": {},
     "output_type": "execute_result"
    }
   ],
   "source": [
    "data = pd.concat([df_1, df_2], ignore_index=True)\n",
    "data.shape"
   ]
  },
  {
   "cell_type": "code",
   "execution_count": 6,
   "metadata": {
    "hidden": true
   },
   "outputs": [
    {
     "name": "stderr",
     "output_type": "stream",
     "text": [
      "c:\\users\\njeri\\.venvs\\smart_stay\\lib\\site-packages\\ipykernel\\ipkernel.py:283: DeprecationWarning: `should_run_async` will not call `transform_cell` automatically in the future. Please pass the result to `transformed_cell` argument and any exception that happen during thetransform in `preprocessing_exc_tuple` in IPython 7.17 and above.\n",
      "  and should_run_async(code)\n"
     ]
    },
    {
     "data": {
      "text/html": [
       "<div>\n",
       "<style scoped>\n",
       "    .dataframe tbody tr th:only-of-type {\n",
       "        vertical-align: middle;\n",
       "    }\n",
       "\n",
       "    .dataframe tbody tr th {\n",
       "        vertical-align: top;\n",
       "    }\n",
       "\n",
       "    .dataframe thead th {\n",
       "        text-align: right;\n",
       "    }\n",
       "</style>\n",
       "<table border=\"1\" class=\"dataframe\">\n",
       "  <thead>\n",
       "    <tr style=\"text-align: right;\">\n",
       "      <th></th>\n",
       "      <th>id</th>\n",
       "      <th>dateAdded</th>\n",
       "      <th>dateUpdated</th>\n",
       "      <th>address</th>\n",
       "      <th>categories</th>\n",
       "      <th>primaryCategories</th>\n",
       "      <th>city</th>\n",
       "      <th>country</th>\n",
       "      <th>keys</th>\n",
       "      <th>latitude</th>\n",
       "      <th>...</th>\n",
       "      <th>reviews.dateSeen</th>\n",
       "      <th>reviews.rating</th>\n",
       "      <th>reviews.sourceURLs</th>\n",
       "      <th>reviews.text</th>\n",
       "      <th>reviews.title</th>\n",
       "      <th>reviews.userCity</th>\n",
       "      <th>reviews.userProvince</th>\n",
       "      <th>reviews.username</th>\n",
       "      <th>sourceURLs</th>\n",
       "      <th>websites</th>\n",
       "    </tr>\n",
       "  </thead>\n",
       "  <tbody>\n",
       "    <tr>\n",
       "      <th>0</th>\n",
       "      <td>AVwc252WIN2L1WUfpqLP</td>\n",
       "      <td>2016-10-30T21:42:42Z</td>\n",
       "      <td>2018-09-10T21:06:27Z</td>\n",
       "      <td>5921 Valencia Cir</td>\n",
       "      <td>Hotels,Hotels and motels,Hotel and motel reser...</td>\n",
       "      <td>Accommodation &amp; Food Services</td>\n",
       "      <td>Rancho Santa Fe</td>\n",
       "      <td>US</td>\n",
       "      <td>us/ca/ranchosantafe/5921valenciacir/359754519</td>\n",
       "      <td>32.990959</td>\n",
       "      <td>...</td>\n",
       "      <td>2016-08-03T00:00:00Z,2016-07-26T00:00:00Z,2016...</td>\n",
       "      <td>5.0</td>\n",
       "      <td>https://www.hotels.com/hotel/125419/reviews%20/</td>\n",
       "      <td>Our experience at Rancho Valencia was absolute...</td>\n",
       "      <td>Best romantic vacation ever!!!!</td>\n",
       "      <td>NaN</td>\n",
       "      <td>NaN</td>\n",
       "      <td>Paula</td>\n",
       "      <td>http://www.hotels.com/ho125419/%25252525253Flo...</td>\n",
       "      <td>http://www.ranchovalencia.com</td>\n",
       "    </tr>\n",
       "    <tr>\n",
       "      <th>1</th>\n",
       "      <td>AVwc252WIN2L1WUfpqLP</td>\n",
       "      <td>2016-10-30T21:42:42Z</td>\n",
       "      <td>2018-09-10T21:06:27Z</td>\n",
       "      <td>5921 Valencia Cir</td>\n",
       "      <td>Hotels,Hotels and motels,Hotel and motel reser...</td>\n",
       "      <td>Accommodation &amp; Food Services</td>\n",
       "      <td>Rancho Santa Fe</td>\n",
       "      <td>US</td>\n",
       "      <td>us/ca/ranchosantafe/5921valenciacir/359754519</td>\n",
       "      <td>32.990959</td>\n",
       "      <td>...</td>\n",
       "      <td>2016-08-02T00:00:00Z,2016-08-26T00:00:00Z,2016...</td>\n",
       "      <td>5.0</td>\n",
       "      <td>https://www.hotels.com/hotel/125419/reviews%20/</td>\n",
       "      <td>Amazing place. Everyone was extremely warm and...</td>\n",
       "      <td>Sweet sweet serenity</td>\n",
       "      <td>NaN</td>\n",
       "      <td>NaN</td>\n",
       "      <td>D</td>\n",
       "      <td>http://www.hotels.com/ho125419/%25252525253Flo...</td>\n",
       "      <td>http://www.ranchovalencia.com</td>\n",
       "    </tr>\n",
       "    <tr>\n",
       "      <th>2</th>\n",
       "      <td>AVwc252WIN2L1WUfpqLP</td>\n",
       "      <td>2016-10-30T21:42:42Z</td>\n",
       "      <td>2018-09-10T21:06:27Z</td>\n",
       "      <td>5921 Valencia Cir</td>\n",
       "      <td>Hotels,Hotels and motels,Hotel and motel reser...</td>\n",
       "      <td>Accommodation &amp; Food Services</td>\n",
       "      <td>Rancho Santa Fe</td>\n",
       "      <td>US</td>\n",
       "      <td>us/ca/ranchosantafe/5921valenciacir/359754519</td>\n",
       "      <td>32.990959</td>\n",
       "      <td>...</td>\n",
       "      <td>2016-11-15T00:00:00Z,2016-08-23T00:00:00Z,2016...</td>\n",
       "      <td>5.0</td>\n",
       "      <td>https://www.hotels.com/hotel/125419/reviews%20/</td>\n",
       "      <td>We booked a 3 night stay at Rancho Valencia to...</td>\n",
       "      <td>Amazing Property and Experience</td>\n",
       "      <td>NaN</td>\n",
       "      <td>NaN</td>\n",
       "      <td>Ron</td>\n",
       "      <td>http://www.hotels.com/ho125419/%25252525253Flo...</td>\n",
       "      <td>http://www.ranchovalencia.com</td>\n",
       "    </tr>\n",
       "  </tbody>\n",
       "</table>\n",
       "<p>3 rows × 25 columns</p>\n",
       "</div>"
      ],
      "text/plain": [
       "                     id             dateAdded           dateUpdated  \\\n",
       "0  AVwc252WIN2L1WUfpqLP  2016-10-30T21:42:42Z  2018-09-10T21:06:27Z   \n",
       "1  AVwc252WIN2L1WUfpqLP  2016-10-30T21:42:42Z  2018-09-10T21:06:27Z   \n",
       "2  AVwc252WIN2L1WUfpqLP  2016-10-30T21:42:42Z  2018-09-10T21:06:27Z   \n",
       "\n",
       "             address                                         categories  \\\n",
       "0  5921 Valencia Cir  Hotels,Hotels and motels,Hotel and motel reser...   \n",
       "1  5921 Valencia Cir  Hotels,Hotels and motels,Hotel and motel reser...   \n",
       "2  5921 Valencia Cir  Hotels,Hotels and motels,Hotel and motel reser...   \n",
       "\n",
       "               primaryCategories             city country  \\\n",
       "0  Accommodation & Food Services  Rancho Santa Fe      US   \n",
       "1  Accommodation & Food Services  Rancho Santa Fe      US   \n",
       "2  Accommodation & Food Services  Rancho Santa Fe      US   \n",
       "\n",
       "                                            keys   latitude  ...  \\\n",
       "0  us/ca/ranchosantafe/5921valenciacir/359754519  32.990959  ...   \n",
       "1  us/ca/ranchosantafe/5921valenciacir/359754519  32.990959  ...   \n",
       "2  us/ca/ranchosantafe/5921valenciacir/359754519  32.990959  ...   \n",
       "\n",
       "                                    reviews.dateSeen reviews.rating  \\\n",
       "0  2016-08-03T00:00:00Z,2016-07-26T00:00:00Z,2016...            5.0   \n",
       "1  2016-08-02T00:00:00Z,2016-08-26T00:00:00Z,2016...            5.0   \n",
       "2  2016-11-15T00:00:00Z,2016-08-23T00:00:00Z,2016...            5.0   \n",
       "\n",
       "                                reviews.sourceURLs  \\\n",
       "0  https://www.hotels.com/hotel/125419/reviews%20/   \n",
       "1  https://www.hotels.com/hotel/125419/reviews%20/   \n",
       "2  https://www.hotels.com/hotel/125419/reviews%20/   \n",
       "\n",
       "                                        reviews.text  \\\n",
       "0  Our experience at Rancho Valencia was absolute...   \n",
       "1  Amazing place. Everyone was extremely warm and...   \n",
       "2  We booked a 3 night stay at Rancho Valencia to...   \n",
       "\n",
       "                     reviews.title reviews.userCity  reviews.userProvince  \\\n",
       "0  Best romantic vacation ever!!!!              NaN                   NaN   \n",
       "1             Sweet sweet serenity              NaN                   NaN   \n",
       "2  Amazing Property and Experience              NaN                   NaN   \n",
       "\n",
       "  reviews.username                                         sourceURLs  \\\n",
       "0            Paula  http://www.hotels.com/ho125419/%25252525253Flo...   \n",
       "1                D  http://www.hotels.com/ho125419/%25252525253Flo...   \n",
       "2              Ron  http://www.hotels.com/ho125419/%25252525253Flo...   \n",
       "\n",
       "                        websites  \n",
       "0  http://www.ranchovalencia.com  \n",
       "1  http://www.ranchovalencia.com  \n",
       "2  http://www.ranchovalencia.com  \n",
       "\n",
       "[3 rows x 25 columns]"
      ]
     },
     "execution_count": 6,
     "metadata": {},
     "output_type": "execute_result"
    }
   ],
   "source": [
    "data.head(3)"
   ]
  },
  {
   "cell_type": "code",
   "execution_count": 7,
   "metadata": {
    "hidden": true
   },
   "outputs": [
    {
     "name": "stderr",
     "output_type": "stream",
     "text": [
      "c:\\users\\njeri\\.venvs\\smart_stay\\lib\\site-packages\\ipykernel\\ipkernel.py:283: DeprecationWarning: `should_run_async` will not call `transform_cell` automatically in the future. Please pass the result to `transformed_cell` argument and any exception that happen during thetransform in `preprocessing_exc_tuple` in IPython 7.17 and above.\n",
      "  and should_run_async(code)\n"
     ]
    },
    {
     "data": {
      "text/plain": [
       "Index(['id', 'dateAdded', 'dateUpdated', 'address', 'categories',\n",
       "       'primaryCategories', 'city', 'country', 'keys', 'latitude', 'longitude',\n",
       "       'name', 'postalCode', 'province', 'reviews.date', 'reviews.dateSeen',\n",
       "       'reviews.rating', 'reviews.sourceURLs', 'reviews.text', 'reviews.title',\n",
       "       'reviews.userCity', 'reviews.userProvince', 'reviews.username',\n",
       "       'sourceURLs', 'websites'],\n",
       "      dtype='object')"
      ]
     },
     "execution_count": 7,
     "metadata": {},
     "output_type": "execute_result"
    }
   ],
   "source": [
    "data.columns"
   ]
  },
  {
   "cell_type": "markdown",
   "metadata": {
    "heading_collapsed": true
   },
   "source": [
    "## Look for missing values"
   ]
  },
  {
   "cell_type": "code",
   "execution_count": 8,
   "metadata": {
    "hidden": true
   },
   "outputs": [
    {
     "name": "stderr",
     "output_type": "stream",
     "text": [
      "c:\\users\\njeri\\.venvs\\smart_stay\\lib\\site-packages\\ipykernel\\ipkernel.py:283: DeprecationWarning: `should_run_async` will not call `transform_cell` automatically in the future. Please pass the result to `transformed_cell` argument and any exception that happen during thetransform in `preprocessing_exc_tuple` in IPython 7.17 and above.\n",
      "  and should_run_async(code)\n"
     ]
    },
    {
     "data": {
      "text/plain": [
       "id                         0\n",
       "dateAdded                  0\n",
       "dateUpdated                0\n",
       "address                    0\n",
       "categories                 0\n",
       "primaryCategories          0\n",
       "city                       0\n",
       "country                    0\n",
       "keys                       0\n",
       "latitude                   0\n",
       "longitude                  0\n",
       "name                       0\n",
       "postalCode                 0\n",
       "province                   0\n",
       "reviews.date               0\n",
       "reviews.dateSeen           0\n",
       "reviews.rating             0\n",
       "reviews.sourceURLs         0\n",
       "reviews.text               1\n",
       "reviews.title              2\n",
       "reviews.userCity        5836\n",
       "reviews.userProvince    7297\n",
       "reviews.username           0\n",
       "sourceURLs                 0\n",
       "websites                   0\n",
       "dtype: int64"
      ]
     },
     "execution_count": 8,
     "metadata": {},
     "output_type": "execute_result"
    }
   ],
   "source": [
    "data.isnull().sum()"
   ]
  },
  {
   "cell_type": "code",
   "execution_count": 9,
   "metadata": {
    "hidden": true
   },
   "outputs": [
    {
     "name": "stderr",
     "output_type": "stream",
     "text": [
      "c:\\users\\njeri\\.venvs\\smart_stay\\lib\\site-packages\\ipykernel\\ipkernel.py:283: DeprecationWarning: `should_run_async` will not call `transform_cell` automatically in the future. Please pass the result to `transformed_cell` argument and any exception that happen during thetransform in `preprocessing_exc_tuple` in IPython 7.17 and above.\n",
      "  and should_run_async(code)\n"
     ]
    },
    {
     "data": {
      "text/plain": [
       "(20000, 23)"
      ]
     },
     "execution_count": 9,
     "metadata": {},
     "output_type": "execute_result"
    }
   ],
   "source": [
    "# ~30% or more of data missing\n",
    "data = data.drop(columns=['reviews.userCity', 'reviews.userProvince'])\n",
    "data.shape"
   ]
  },
  {
   "cell_type": "code",
   "execution_count": 10,
   "metadata": {
    "hidden": true
   },
   "outputs": [
    {
     "name": "stderr",
     "output_type": "stream",
     "text": [
      "c:\\users\\njeri\\.venvs\\smart_stay\\lib\\site-packages\\ipykernel\\ipkernel.py:283: DeprecationWarning: `should_run_async` will not call `transform_cell` automatically in the future. Please pass the result to `transformed_cell` argument and any exception that happen during thetransform in `preprocessing_exc_tuple` in IPython 7.17 and above.\n",
      "  and should_run_async(code)\n"
     ]
    },
    {
     "data": {
      "text/plain": [
       "id                    0\n",
       "dateAdded             0\n",
       "dateUpdated           0\n",
       "address               0\n",
       "categories            0\n",
       "primaryCategories     0\n",
       "city                  0\n",
       "country               0\n",
       "keys                  0\n",
       "latitude              0\n",
       "longitude             0\n",
       "name                  0\n",
       "postalCode            0\n",
       "province              0\n",
       "reviews.date          0\n",
       "reviews.dateSeen      0\n",
       "reviews.rating        0\n",
       "reviews.sourceURLs    0\n",
       "reviews.text          1\n",
       "reviews.title         2\n",
       "reviews.username      0\n",
       "sourceURLs            0\n",
       "websites              0\n",
       "dtype: int64"
      ]
     },
     "execution_count": 10,
     "metadata": {},
     "output_type": "execute_result"
    }
   ],
   "source": [
    "data.isnull().sum()"
   ]
  },
  {
   "cell_type": "code",
   "execution_count": 11,
   "metadata": {
    "hidden": true
   },
   "outputs": [
    {
     "name": "stderr",
     "output_type": "stream",
     "text": [
      "c:\\users\\njeri\\.venvs\\smart_stay\\lib\\site-packages\\ipykernel\\ipkernel.py:283: DeprecationWarning: `should_run_async` will not call `transform_cell` automatically in the future. Please pass the result to `transformed_cell` argument and any exception that happen during thetransform in `preprocessing_exc_tuple` in IPython 7.17 and above.\n",
      "  and should_run_async(code)\n"
     ]
    },
    {
     "data": {
      "text/plain": [
       "(19997, 23)"
      ]
     },
     "execution_count": 11,
     "metadata": {},
     "output_type": "execute_result"
    }
   ],
   "source": [
    "# NLP of reviews therefore drop missing reviews\n",
    "data = data.dropna()\n",
    "data.shape"
   ]
  },
  {
   "cell_type": "markdown",
   "metadata": {
    "heading_collapsed": true
   },
   "source": [
    "## Handle time data\n",
    "\n",
    "- dateAdded is date info was added to Datafiniti - not needed for this exercise\n",
    "- remove dateUpdated column\n",
    "- remove dateAdded column\n",
    "- remove reviews.dateSeen - not needed for this exercise\n",
    "- convert review.date to date/time dtype:\n",
    "    - parse month and year to separate columns\n",
    "    - create season column"
   ]
  },
  {
   "cell_type": "code",
   "execution_count": 12,
   "metadata": {
    "hidden": true
   },
   "outputs": [
    {
     "name": "stdout",
     "output_type": "stream",
     "text": [
      "<class 'pandas.core.frame.DataFrame'>\n",
      "Int64Index: 19997 entries, 0 to 19999\n",
      "Data columns (total 23 columns):\n",
      " #   Column              Non-Null Count  Dtype  \n",
      "---  ------              --------------  -----  \n",
      " 0   id                  19997 non-null  object \n",
      " 1   dateAdded           19997 non-null  object \n",
      " 2   dateUpdated         19997 non-null  object \n",
      " 3   address             19997 non-null  object \n",
      " 4   categories          19997 non-null  object \n",
      " 5   primaryCategories   19997 non-null  object \n",
      " 6   city                19997 non-null  object \n",
      " 7   country             19997 non-null  object \n",
      " 8   keys                19997 non-null  object \n",
      " 9   latitude            19997 non-null  float64\n",
      " 10  longitude           19997 non-null  float64\n",
      " 11  name                19997 non-null  object \n",
      " 12  postalCode          19997 non-null  object \n",
      " 13  province            19997 non-null  object \n",
      " 14  reviews.date        19997 non-null  object \n",
      " 15  reviews.dateSeen    19997 non-null  object \n",
      " 16  reviews.rating      19997 non-null  float64\n",
      " 17  reviews.sourceURLs  19997 non-null  object \n",
      " 18  reviews.text        19997 non-null  object \n",
      " 19  reviews.title       19997 non-null  object \n",
      " 20  reviews.username    19997 non-null  object \n",
      " 21  sourceURLs          19997 non-null  object \n",
      " 22  websites            19997 non-null  object \n",
      "dtypes: float64(3), object(20)\n",
      "memory usage: 3.7+ MB\n"
     ]
    },
    {
     "name": "stderr",
     "output_type": "stream",
     "text": [
      "c:\\users\\njeri\\.venvs\\smart_stay\\lib\\site-packages\\ipykernel\\ipkernel.py:283: DeprecationWarning: `should_run_async` will not call `transform_cell` automatically in the future. Please pass the result to `transformed_cell` argument and any exception that happen during thetransform in `preprocessing_exc_tuple` in IPython 7.17 and above.\n",
      "  and should_run_async(code)\n"
     ]
    }
   ],
   "source": [
    "data.info()"
   ]
  },
  {
   "cell_type": "code",
   "execution_count": 13,
   "metadata": {
    "hidden": true
   },
   "outputs": [
    {
     "name": "stderr",
     "output_type": "stream",
     "text": [
      "c:\\users\\njeri\\.venvs\\smart_stay\\lib\\site-packages\\ipykernel\\ipkernel.py:283: DeprecationWarning: `should_run_async` will not call `transform_cell` automatically in the future. Please pass the result to `transformed_cell` argument and any exception that happen during thetransform in `preprocessing_exc_tuple` in IPython 7.17 and above.\n",
      "  and should_run_async(code)\n"
     ]
    },
    {
     "data": {
      "text/plain": [
       "(19997, 20)"
      ]
     },
     "execution_count": 13,
     "metadata": {},
     "output_type": "execute_result"
    }
   ],
   "source": [
    "data = data.drop(columns=['dateAdded', 'dateUpdated', 'reviews.dateSeen'])\n",
    "data.shape"
   ]
  },
  {
   "cell_type": "code",
   "execution_count": 14,
   "metadata": {
    "hidden": true
   },
   "outputs": [
    {
     "name": "stdout",
     "output_type": "stream",
     "text": [
      "<class 'pandas.core.frame.DataFrame'>\n",
      "Int64Index: 19997 entries, 0 to 19999\n",
      "Data columns (total 20 columns):\n",
      " #   Column              Non-Null Count  Dtype              \n",
      "---  ------              --------------  -----              \n",
      " 0   id                  19997 non-null  object             \n",
      " 1   address             19997 non-null  object             \n",
      " 2   categories          19997 non-null  object             \n",
      " 3   primaryCategories   19997 non-null  object             \n",
      " 4   city                19997 non-null  object             \n",
      " 5   country             19997 non-null  object             \n",
      " 6   keys                19997 non-null  object             \n",
      " 7   latitude            19997 non-null  float64            \n",
      " 8   longitude           19997 non-null  float64            \n",
      " 9   name                19997 non-null  object             \n",
      " 10  postalCode          19997 non-null  object             \n",
      " 11  province            19997 non-null  object             \n",
      " 12  reviews.date        19997 non-null  datetime64[ns, UTC]\n",
      " 13  reviews.rating      19997 non-null  float64            \n",
      " 14  reviews.sourceURLs  19997 non-null  object             \n",
      " 15  reviews.text        19997 non-null  object             \n",
      " 16  reviews.title       19997 non-null  object             \n",
      " 17  reviews.username    19997 non-null  object             \n",
      " 18  sourceURLs          19997 non-null  object             \n",
      " 19  websites            19997 non-null  object             \n",
      "dtypes: datetime64[ns, UTC](1), float64(3), object(16)\n",
      "memory usage: 3.2+ MB\n"
     ]
    },
    {
     "name": "stderr",
     "output_type": "stream",
     "text": [
      "c:\\users\\njeri\\.venvs\\smart_stay\\lib\\site-packages\\ipykernel\\ipkernel.py:283: DeprecationWarning: `should_run_async` will not call `transform_cell` automatically in the future. Please pass the result to `transformed_cell` argument and any exception that happen during thetransform in `preprocessing_exc_tuple` in IPython 7.17 and above.\n",
      "  and should_run_async(code)\n"
     ]
    }
   ],
   "source": [
    "data['reviews.date'] = pd.to_datetime(data['reviews.date'])\n",
    "data.info()"
   ]
  },
  {
   "cell_type": "code",
   "execution_count": 15,
   "metadata": {
    "hidden": true
   },
   "outputs": [
    {
     "name": "stderr",
     "output_type": "stream",
     "text": [
      "c:\\users\\njeri\\.venvs\\smart_stay\\lib\\site-packages\\ipykernel\\ipkernel.py:283: DeprecationWarning: `should_run_async` will not call `transform_cell` automatically in the future. Please pass the result to `transformed_cell` argument and any exception that happen during thetransform in `preprocessing_exc_tuple` in IPython 7.17 and above.\n",
      "  and should_run_async(code)\n"
     ]
    },
    {
     "data": {
      "text/html": [
       "<div>\n",
       "<style scoped>\n",
       "    .dataframe tbody tr th:only-of-type {\n",
       "        vertical-align: middle;\n",
       "    }\n",
       "\n",
       "    .dataframe tbody tr th {\n",
       "        vertical-align: top;\n",
       "    }\n",
       "\n",
       "    .dataframe thead th {\n",
       "        text-align: right;\n",
       "    }\n",
       "</style>\n",
       "<table border=\"1\" class=\"dataframe\">\n",
       "  <thead>\n",
       "    <tr style=\"text-align: right;\">\n",
       "      <th></th>\n",
       "      <th>id</th>\n",
       "      <th>address</th>\n",
       "      <th>categories</th>\n",
       "      <th>primaryCategories</th>\n",
       "      <th>city</th>\n",
       "      <th>country</th>\n",
       "      <th>keys</th>\n",
       "      <th>latitude</th>\n",
       "      <th>longitude</th>\n",
       "      <th>name</th>\n",
       "      <th>...</th>\n",
       "      <th>reviews.date</th>\n",
       "      <th>reviews.rating</th>\n",
       "      <th>reviews.sourceURLs</th>\n",
       "      <th>reviews.text</th>\n",
       "      <th>reviews.title</th>\n",
       "      <th>reviews.username</th>\n",
       "      <th>sourceURLs</th>\n",
       "      <th>websites</th>\n",
       "      <th>month</th>\n",
       "      <th>year</th>\n",
       "    </tr>\n",
       "  </thead>\n",
       "  <tbody>\n",
       "    <tr>\n",
       "      <th>0</th>\n",
       "      <td>AVwc252WIN2L1WUfpqLP</td>\n",
       "      <td>5921 Valencia Cir</td>\n",
       "      <td>Hotels,Hotels and motels,Hotel and motel reser...</td>\n",
       "      <td>Accommodation &amp; Food Services</td>\n",
       "      <td>Rancho Santa Fe</td>\n",
       "      <td>US</td>\n",
       "      <td>us/ca/ranchosantafe/5921valenciacir/359754519</td>\n",
       "      <td>32.990959</td>\n",
       "      <td>-117.186136</td>\n",
       "      <td>Rancho Valencia Resort Spa</td>\n",
       "      <td>...</td>\n",
       "      <td>2013-11-14 00:00:00+00:00</td>\n",
       "      <td>5.0</td>\n",
       "      <td>https://www.hotels.com/hotel/125419/reviews%20/</td>\n",
       "      <td>Our experience at Rancho Valencia was absolute...</td>\n",
       "      <td>Best romantic vacation ever!!!!</td>\n",
       "      <td>Paula</td>\n",
       "      <td>http://www.hotels.com/ho125419/%25252525253Flo...</td>\n",
       "      <td>http://www.ranchovalencia.com</td>\n",
       "      <td>11</td>\n",
       "      <td>2013</td>\n",
       "    </tr>\n",
       "    <tr>\n",
       "      <th>1</th>\n",
       "      <td>AVwc252WIN2L1WUfpqLP</td>\n",
       "      <td>5921 Valencia Cir</td>\n",
       "      <td>Hotels,Hotels and motels,Hotel and motel reser...</td>\n",
       "      <td>Accommodation &amp; Food Services</td>\n",
       "      <td>Rancho Santa Fe</td>\n",
       "      <td>US</td>\n",
       "      <td>us/ca/ranchosantafe/5921valenciacir/359754519</td>\n",
       "      <td>32.990959</td>\n",
       "      <td>-117.186136</td>\n",
       "      <td>Rancho Valencia Resort Spa</td>\n",
       "      <td>...</td>\n",
       "      <td>2014-07-06 00:00:00+00:00</td>\n",
       "      <td>5.0</td>\n",
       "      <td>https://www.hotels.com/hotel/125419/reviews%20/</td>\n",
       "      <td>Amazing place. Everyone was extremely warm and...</td>\n",
       "      <td>Sweet sweet serenity</td>\n",
       "      <td>D</td>\n",
       "      <td>http://www.hotels.com/ho125419/%25252525253Flo...</td>\n",
       "      <td>http://www.ranchovalencia.com</td>\n",
       "      <td>7</td>\n",
       "      <td>2014</td>\n",
       "    </tr>\n",
       "    <tr>\n",
       "      <th>2</th>\n",
       "      <td>AVwc252WIN2L1WUfpqLP</td>\n",
       "      <td>5921 Valencia Cir</td>\n",
       "      <td>Hotels,Hotels and motels,Hotel and motel reser...</td>\n",
       "      <td>Accommodation &amp; Food Services</td>\n",
       "      <td>Rancho Santa Fe</td>\n",
       "      <td>US</td>\n",
       "      <td>us/ca/ranchosantafe/5921valenciacir/359754519</td>\n",
       "      <td>32.990959</td>\n",
       "      <td>-117.186136</td>\n",
       "      <td>Rancho Valencia Resort Spa</td>\n",
       "      <td>...</td>\n",
       "      <td>2015-01-02 00:00:00+00:00</td>\n",
       "      <td>5.0</td>\n",
       "      <td>https://www.hotels.com/hotel/125419/reviews%20/</td>\n",
       "      <td>We booked a 3 night stay at Rancho Valencia to...</td>\n",
       "      <td>Amazing Property and Experience</td>\n",
       "      <td>Ron</td>\n",
       "      <td>http://www.hotels.com/ho125419/%25252525253Flo...</td>\n",
       "      <td>http://www.ranchovalencia.com</td>\n",
       "      <td>1</td>\n",
       "      <td>2015</td>\n",
       "    </tr>\n",
       "    <tr>\n",
       "      <th>3</th>\n",
       "      <td>AVwdOclqIN2L1WUfti38</td>\n",
       "      <td>7520 Teague Rd</td>\n",
       "      <td>Hotels,Hotels and motels,Travel agencies and b...</td>\n",
       "      <td>Accommodation &amp; Food Services</td>\n",
       "      <td>Hanover</td>\n",
       "      <td>US</td>\n",
       "      <td>us/md/hanover/7520teaguerd/-2043779672</td>\n",
       "      <td>39.155929</td>\n",
       "      <td>-76.716341</td>\n",
       "      <td>Aloft Arundel Mills</td>\n",
       "      <td>...</td>\n",
       "      <td>2016-05-15 00:00:00+00:00</td>\n",
       "      <td>2.0</td>\n",
       "      <td>https://www.tripadvisor.com/Hotel_Review-g4118...</td>\n",
       "      <td>Currently in bed writing this for the past hr ...</td>\n",
       "      <td>Never again...beware, if you want sleep.</td>\n",
       "      <td>jaeem2016</td>\n",
       "      <td>http://www.yellowbook.com/profile/aloft-arunde...</td>\n",
       "      <td>http://www.starwoodhotels.com/alofthotels/prop...</td>\n",
       "      <td>5</td>\n",
       "      <td>2016</td>\n",
       "    </tr>\n",
       "    <tr>\n",
       "      <th>4</th>\n",
       "      <td>AVwdOclqIN2L1WUfti38</td>\n",
       "      <td>7520 Teague Rd</td>\n",
       "      <td>Hotels,Hotels and motels,Travel agencies and b...</td>\n",
       "      <td>Accommodation &amp; Food Services</td>\n",
       "      <td>Hanover</td>\n",
       "      <td>US</td>\n",
       "      <td>us/md/hanover/7520teaguerd/-2043779672</td>\n",
       "      <td>39.155929</td>\n",
       "      <td>-76.716341</td>\n",
       "      <td>Aloft Arundel Mills</td>\n",
       "      <td>...</td>\n",
       "      <td>2016-07-09 00:00:00+00:00</td>\n",
       "      <td>5.0</td>\n",
       "      <td>https://www.tripadvisor.com/Hotel_Review-g4118...</td>\n",
       "      <td>I live in Md and the Aloft is my Home away fro...</td>\n",
       "      <td>ALWAYS GREAT STAY...</td>\n",
       "      <td>MamaNiaOne</td>\n",
       "      <td>http://www.yellowbook.com/profile/aloft-arunde...</td>\n",
       "      <td>http://www.starwoodhotels.com/alofthotels/prop...</td>\n",
       "      <td>7</td>\n",
       "      <td>2016</td>\n",
       "    </tr>\n",
       "  </tbody>\n",
       "</table>\n",
       "<p>5 rows × 22 columns</p>\n",
       "</div>"
      ],
      "text/plain": [
       "                     id            address  \\\n",
       "0  AVwc252WIN2L1WUfpqLP  5921 Valencia Cir   \n",
       "1  AVwc252WIN2L1WUfpqLP  5921 Valencia Cir   \n",
       "2  AVwc252WIN2L1WUfpqLP  5921 Valencia Cir   \n",
       "3  AVwdOclqIN2L1WUfti38     7520 Teague Rd   \n",
       "4  AVwdOclqIN2L1WUfti38     7520 Teague Rd   \n",
       "\n",
       "                                          categories  \\\n",
       "0  Hotels,Hotels and motels,Hotel and motel reser...   \n",
       "1  Hotels,Hotels and motels,Hotel and motel reser...   \n",
       "2  Hotels,Hotels and motels,Hotel and motel reser...   \n",
       "3  Hotels,Hotels and motels,Travel agencies and b...   \n",
       "4  Hotels,Hotels and motels,Travel agencies and b...   \n",
       "\n",
       "               primaryCategories             city country  \\\n",
       "0  Accommodation & Food Services  Rancho Santa Fe      US   \n",
       "1  Accommodation & Food Services  Rancho Santa Fe      US   \n",
       "2  Accommodation & Food Services  Rancho Santa Fe      US   \n",
       "3  Accommodation & Food Services          Hanover      US   \n",
       "4  Accommodation & Food Services          Hanover      US   \n",
       "\n",
       "                                            keys   latitude   longitude  \\\n",
       "0  us/ca/ranchosantafe/5921valenciacir/359754519  32.990959 -117.186136   \n",
       "1  us/ca/ranchosantafe/5921valenciacir/359754519  32.990959 -117.186136   \n",
       "2  us/ca/ranchosantafe/5921valenciacir/359754519  32.990959 -117.186136   \n",
       "3         us/md/hanover/7520teaguerd/-2043779672  39.155929  -76.716341   \n",
       "4         us/md/hanover/7520teaguerd/-2043779672  39.155929  -76.716341   \n",
       "\n",
       "                         name  ...              reviews.date reviews.rating  \\\n",
       "0  Rancho Valencia Resort Spa  ... 2013-11-14 00:00:00+00:00            5.0   \n",
       "1  Rancho Valencia Resort Spa  ... 2014-07-06 00:00:00+00:00            5.0   \n",
       "2  Rancho Valencia Resort Spa  ... 2015-01-02 00:00:00+00:00            5.0   \n",
       "3         Aloft Arundel Mills  ... 2016-05-15 00:00:00+00:00            2.0   \n",
       "4         Aloft Arundel Mills  ... 2016-07-09 00:00:00+00:00            5.0   \n",
       "\n",
       "                                  reviews.sourceURLs  \\\n",
       "0    https://www.hotels.com/hotel/125419/reviews%20/   \n",
       "1    https://www.hotels.com/hotel/125419/reviews%20/   \n",
       "2    https://www.hotels.com/hotel/125419/reviews%20/   \n",
       "3  https://www.tripadvisor.com/Hotel_Review-g4118...   \n",
       "4  https://www.tripadvisor.com/Hotel_Review-g4118...   \n",
       "\n",
       "                                        reviews.text  \\\n",
       "0  Our experience at Rancho Valencia was absolute...   \n",
       "1  Amazing place. Everyone was extremely warm and...   \n",
       "2  We booked a 3 night stay at Rancho Valencia to...   \n",
       "3  Currently in bed writing this for the past hr ...   \n",
       "4  I live in Md and the Aloft is my Home away fro...   \n",
       "\n",
       "                              reviews.title reviews.username  \\\n",
       "0           Best romantic vacation ever!!!!            Paula   \n",
       "1                      Sweet sweet serenity                D   \n",
       "2           Amazing Property and Experience              Ron   \n",
       "3  Never again...beware, if you want sleep.        jaeem2016   \n",
       "4                      ALWAYS GREAT STAY...       MamaNiaOne   \n",
       "\n",
       "                                          sourceURLs  \\\n",
       "0  http://www.hotels.com/ho125419/%25252525253Flo...   \n",
       "1  http://www.hotels.com/ho125419/%25252525253Flo...   \n",
       "2  http://www.hotels.com/ho125419/%25252525253Flo...   \n",
       "3  http://www.yellowbook.com/profile/aloft-arunde...   \n",
       "4  http://www.yellowbook.com/profile/aloft-arunde...   \n",
       "\n",
       "                                            websites month  year  \n",
       "0                      http://www.ranchovalencia.com    11  2013  \n",
       "1                      http://www.ranchovalencia.com     7  2014  \n",
       "2                      http://www.ranchovalencia.com     1  2015  \n",
       "3  http://www.starwoodhotels.com/alofthotels/prop...     5  2016  \n",
       "4  http://www.starwoodhotels.com/alofthotels/prop...     7  2016  \n",
       "\n",
       "[5 rows x 22 columns]"
      ]
     },
     "execution_count": 15,
     "metadata": {},
     "output_type": "execute_result"
    }
   ],
   "source": [
    "data['month'] = data['reviews.date'].dt.month\n",
    "data['year'] = data['reviews.date'].dt.year\n",
    "data.head()"
   ]
  },
  {
   "cell_type": "code",
   "execution_count": 16,
   "metadata": {
    "hidden": true
   },
   "outputs": [
    {
     "name": "stderr",
     "output_type": "stream",
     "text": [
      "c:\\users\\njeri\\.venvs\\smart_stay\\lib\\site-packages\\ipykernel\\ipkernel.py:283: DeprecationWarning: `should_run_async` will not call `transform_cell` automatically in the future. Please pass the result to `transformed_cell` argument and any exception that happen during thetransform in `preprocessing_exc_tuple` in IPython 7.17 and above.\n",
      "  and should_run_async(code)\n"
     ]
    },
    {
     "data": {
      "text/plain": [
       "(19997, 21)"
      ]
     },
     "execution_count": 16,
     "metadata": {},
     "output_type": "execute_result"
    }
   ],
   "source": [
    "data = data.drop(columns='reviews.date')\n",
    "data.shape"
   ]
  },
  {
   "cell_type": "code",
   "execution_count": 17,
   "metadata": {
    "hidden": true
   },
   "outputs": [
    {
     "name": "stderr",
     "output_type": "stream",
     "text": [
      "c:\\users\\njeri\\.venvs\\smart_stay\\lib\\site-packages\\ipykernel\\ipkernel.py:283: DeprecationWarning: `should_run_async` will not call `transform_cell` automatically in the future. Please pass the result to `transformed_cell` argument and any exception that happen during thetransform in `preprocessing_exc_tuple` in IPython 7.17 and above.\n",
      "  and should_run_async(code)\n"
     ]
    },
    {
     "data": {
      "text/html": [
       "<div>\n",
       "<style scoped>\n",
       "    .dataframe tbody tr th:only-of-type {\n",
       "        vertical-align: middle;\n",
       "    }\n",
       "\n",
       "    .dataframe tbody tr th {\n",
       "        vertical-align: top;\n",
       "    }\n",
       "\n",
       "    .dataframe thead th {\n",
       "        text-align: right;\n",
       "    }\n",
       "</style>\n",
       "<table border=\"1\" class=\"dataframe\">\n",
       "  <thead>\n",
       "    <tr style=\"text-align: right;\">\n",
       "      <th></th>\n",
       "      <th>id</th>\n",
       "      <th>address</th>\n",
       "      <th>categories</th>\n",
       "      <th>primaryCategories</th>\n",
       "      <th>city</th>\n",
       "      <th>country</th>\n",
       "      <th>keys</th>\n",
       "      <th>latitude</th>\n",
       "      <th>longitude</th>\n",
       "      <th>name</th>\n",
       "      <th>...</th>\n",
       "      <th>reviews.rating</th>\n",
       "      <th>reviews.sourceURLs</th>\n",
       "      <th>reviews.text</th>\n",
       "      <th>reviews.title</th>\n",
       "      <th>reviews.username</th>\n",
       "      <th>sourceURLs</th>\n",
       "      <th>websites</th>\n",
       "      <th>month</th>\n",
       "      <th>year</th>\n",
       "      <th>visit_season</th>\n",
       "    </tr>\n",
       "  </thead>\n",
       "  <tbody>\n",
       "    <tr>\n",
       "      <th>19995</th>\n",
       "      <td>AVwdatg0ByjofQCxo5S5</td>\n",
       "      <td>3101 Coliseum Dr</td>\n",
       "      <td>Hotels,Hotels and motels,Corporate Lodging,New...</td>\n",
       "      <td>Accommodation &amp; Food Services</td>\n",
       "      <td>Hampton</td>\n",
       "      <td>US</td>\n",
       "      <td>us/va/hampton/3101coliseumdr/-1319580369</td>\n",
       "      <td>37.057650</td>\n",
       "      <td>-76.393310</td>\n",
       "      <td>Hampton Inn Hampton-newport News</td>\n",
       "      <td>...</td>\n",
       "      <td>4.0</td>\n",
       "      <td>http://www.tripadvisor.com/Hotel_Review-g57804...</td>\n",
       "      <td>My friends and I took a trip to Hampton for th...</td>\n",
       "      <td>Very accommodating and friendly staff!</td>\n",
       "      <td>Tiffany1017</td>\n",
       "      <td>https://www.tripadvisor.com/Hotel_Review-g5780...</td>\n",
       "      <td>https://ad.doubleclick.net/ddm/clk/317271033;1...</td>\n",
       "      <td>12</td>\n",
       "      <td>2015</td>\n",
       "      <td>winter</td>\n",
       "    </tr>\n",
       "    <tr>\n",
       "      <th>19996</th>\n",
       "      <td>AVwdatg0ByjofQCxo5S5</td>\n",
       "      <td>3101 Coliseum Dr</td>\n",
       "      <td>Hotels,Hotels and motels,Corporate Lodging,New...</td>\n",
       "      <td>Accommodation &amp; Food Services</td>\n",
       "      <td>Hampton</td>\n",
       "      <td>US</td>\n",
       "      <td>us/va/hampton/3101coliseumdr/-1319580369</td>\n",
       "      <td>37.057650</td>\n",
       "      <td>-76.393310</td>\n",
       "      <td>Hampton Inn Hampton-newport News</td>\n",
       "      <td>...</td>\n",
       "      <td>5.0</td>\n",
       "      <td>http://www.tripadvisor.com/Hotel_Review-g57804...</td>\n",
       "      <td>from check in to departure, staff is friendly,...</td>\n",
       "      <td>comfortable, friendly, clean, professional</td>\n",
       "      <td>bobg187</td>\n",
       "      <td>https://www.tripadvisor.com/Hotel_Review-g5780...</td>\n",
       "      <td>https://ad.doubleclick.net/ddm/clk/317271033;1...</td>\n",
       "      <td>11</td>\n",
       "      <td>2015</td>\n",
       "      <td>fall</td>\n",
       "    </tr>\n",
       "    <tr>\n",
       "      <th>19997</th>\n",
       "      <td>AVwdatg0ByjofQCxo5S5</td>\n",
       "      <td>3101 Coliseum Dr</td>\n",
       "      <td>Hotels,Hotels and motels,Corporate Lodging,New...</td>\n",
       "      <td>Accommodation &amp; Food Services</td>\n",
       "      <td>Hampton</td>\n",
       "      <td>US</td>\n",
       "      <td>us/va/hampton/3101coliseumdr/-1319580369</td>\n",
       "      <td>37.057650</td>\n",
       "      <td>-76.393310</td>\n",
       "      <td>Hampton Inn Hampton-newport News</td>\n",
       "      <td>...</td>\n",
       "      <td>5.0</td>\n",
       "      <td>https://www.tripadvisor.com/Hotel_Review-g5780...</td>\n",
       "      <td>This Hampton is located on a quiet street acro...</td>\n",
       "      <td>Great location</td>\n",
       "      <td>K261ANbrendah</td>\n",
       "      <td>https://www.tripadvisor.com/Hotel_Review-g5780...</td>\n",
       "      <td>https://ad.doubleclick.net/ddm/clk/317271033;1...</td>\n",
       "      <td>7</td>\n",
       "      <td>2016</td>\n",
       "      <td>summer</td>\n",
       "    </tr>\n",
       "    <tr>\n",
       "      <th>19998</th>\n",
       "      <td>AV1thTgM3-Khe5l_OvT5</td>\n",
       "      <td>7886 Main Street</td>\n",
       "      <td>Hotels,Bar,Hotel,Restaurants</td>\n",
       "      <td>Accommodation &amp; Food Services</td>\n",
       "      <td>Hunter</td>\n",
       "      <td>US</td>\n",
       "      <td>us/ny/hunter/7886mainstreet/-435384771</td>\n",
       "      <td>42.210915</td>\n",
       "      <td>-74.215309</td>\n",
       "      <td>Roseberry's Inn</td>\n",
       "      <td>...</td>\n",
       "      <td>5.0</td>\n",
       "      <td>https://www.tripadvisor.com/Hotel_Review-g4793...</td>\n",
       "      <td>Awesome wings (my favorite was garlic parmesan...</td>\n",
       "      <td>Great Atmosphere!</td>\n",
       "      <td>soccerrocks2016</td>\n",
       "      <td>https://www.bbb.org/us/ny/hunter/profile/hotel...</td>\n",
       "      <td>http://www.roseberrysinnhunter.com/</td>\n",
       "      <td>10</td>\n",
       "      <td>2016</td>\n",
       "      <td>fall</td>\n",
       "    </tr>\n",
       "    <tr>\n",
       "      <th>19999</th>\n",
       "      <td>AV1tg9C7a4HuVbed8XA5</td>\n",
       "      <td>3505 S Main St</td>\n",
       "      <td>Hotels,Hotels and motels,Corporate Lodging,Lod...</td>\n",
       "      <td>Accommodation &amp; Food Services</td>\n",
       "      <td>Lindale</td>\n",
       "      <td>US</td>\n",
       "      <td>us/tx/lindale/3505smainst/-147603681</td>\n",
       "      <td>32.469540</td>\n",
       "      <td>-95.390420</td>\n",
       "      <td>Hampton Inn-lindale/tyler</td>\n",
       "      <td>...</td>\n",
       "      <td>4.0</td>\n",
       "      <td>http://tripadvisor.com/Hotel_Review-g56167-d22...</td>\n",
       "      <td>Clean facility just off freeway ..... staff fr...</td>\n",
       "      <td>Health care appointments</td>\n",
       "      <td>tootallsmith</td>\n",
       "      <td>https://www.yellowpages.com/lindale-tx/mip/ham...</td>\n",
       "      <td>http://hamptoninn3.hilton.com/en/hotels/texas/...</td>\n",
       "      <td>6</td>\n",
       "      <td>2017</td>\n",
       "      <td>summer</td>\n",
       "    </tr>\n",
       "  </tbody>\n",
       "</table>\n",
       "<p>5 rows × 22 columns</p>\n",
       "</div>"
      ],
      "text/plain": [
       "                         id           address  \\\n",
       "19995  AVwdatg0ByjofQCxo5S5  3101 Coliseum Dr   \n",
       "19996  AVwdatg0ByjofQCxo5S5  3101 Coliseum Dr   \n",
       "19997  AVwdatg0ByjofQCxo5S5  3101 Coliseum Dr   \n",
       "19998  AV1thTgM3-Khe5l_OvT5  7886 Main Street   \n",
       "19999  AV1tg9C7a4HuVbed8XA5    3505 S Main St   \n",
       "\n",
       "                                              categories  \\\n",
       "19995  Hotels,Hotels and motels,Corporate Lodging,New...   \n",
       "19996  Hotels,Hotels and motels,Corporate Lodging,New...   \n",
       "19997  Hotels,Hotels and motels,Corporate Lodging,New...   \n",
       "19998                       Hotels,Bar,Hotel,Restaurants   \n",
       "19999  Hotels,Hotels and motels,Corporate Lodging,Lod...   \n",
       "\n",
       "                   primaryCategories     city country  \\\n",
       "19995  Accommodation & Food Services  Hampton      US   \n",
       "19996  Accommodation & Food Services  Hampton      US   \n",
       "19997  Accommodation & Food Services  Hampton      US   \n",
       "19998  Accommodation & Food Services   Hunter      US   \n",
       "19999  Accommodation & Food Services  Lindale      US   \n",
       "\n",
       "                                           keys   latitude  longitude  \\\n",
       "19995  us/va/hampton/3101coliseumdr/-1319580369  37.057650 -76.393310   \n",
       "19996  us/va/hampton/3101coliseumdr/-1319580369  37.057650 -76.393310   \n",
       "19997  us/va/hampton/3101coliseumdr/-1319580369  37.057650 -76.393310   \n",
       "19998    us/ny/hunter/7886mainstreet/-435384771  42.210915 -74.215309   \n",
       "19999      us/tx/lindale/3505smainst/-147603681  32.469540 -95.390420   \n",
       "\n",
       "                                   name  ... reviews.rating  \\\n",
       "19995  Hampton Inn Hampton-newport News  ...            4.0   \n",
       "19996  Hampton Inn Hampton-newport News  ...            5.0   \n",
       "19997  Hampton Inn Hampton-newport News  ...            5.0   \n",
       "19998                   Roseberry's Inn  ...            5.0   \n",
       "19999         Hampton Inn-lindale/tyler  ...            4.0   \n",
       "\n",
       "                                      reviews.sourceURLs  \\\n",
       "19995  http://www.tripadvisor.com/Hotel_Review-g57804...   \n",
       "19996  http://www.tripadvisor.com/Hotel_Review-g57804...   \n",
       "19997  https://www.tripadvisor.com/Hotel_Review-g5780...   \n",
       "19998  https://www.tripadvisor.com/Hotel_Review-g4793...   \n",
       "19999  http://tripadvisor.com/Hotel_Review-g56167-d22...   \n",
       "\n",
       "                                            reviews.text  \\\n",
       "19995  My friends and I took a trip to Hampton for th...   \n",
       "19996  from check in to departure, staff is friendly,...   \n",
       "19997  This Hampton is located on a quiet street acro...   \n",
       "19998  Awesome wings (my favorite was garlic parmesan...   \n",
       "19999  Clean facility just off freeway ..... staff fr...   \n",
       "\n",
       "                                    reviews.title reviews.username  \\\n",
       "19995      Very accommodating and friendly staff!      Tiffany1017   \n",
       "19996  comfortable, friendly, clean, professional          bobg187   \n",
       "19997                              Great location    K261ANbrendah   \n",
       "19998                           Great Atmosphere!  soccerrocks2016   \n",
       "19999                    Health care appointments     tootallsmith   \n",
       "\n",
       "                                              sourceURLs  \\\n",
       "19995  https://www.tripadvisor.com/Hotel_Review-g5780...   \n",
       "19996  https://www.tripadvisor.com/Hotel_Review-g5780...   \n",
       "19997  https://www.tripadvisor.com/Hotel_Review-g5780...   \n",
       "19998  https://www.bbb.org/us/ny/hunter/profile/hotel...   \n",
       "19999  https://www.yellowpages.com/lindale-tx/mip/ham...   \n",
       "\n",
       "                                                websites month  year  \\\n",
       "19995  https://ad.doubleclick.net/ddm/clk/317271033;1...    12  2015   \n",
       "19996  https://ad.doubleclick.net/ddm/clk/317271033;1...    11  2015   \n",
       "19997  https://ad.doubleclick.net/ddm/clk/317271033;1...     7  2016   \n",
       "19998                http://www.roseberrysinnhunter.com/    10  2016   \n",
       "19999  http://hamptoninn3.hilton.com/en/hotels/texas/...     6  2017   \n",
       "\n",
       "       visit_season  \n",
       "19995        winter  \n",
       "19996          fall  \n",
       "19997        summer  \n",
       "19998          fall  \n",
       "19999        summer  \n",
       "\n",
       "[5 rows x 22 columns]"
      ]
     },
     "execution_count": 17,
     "metadata": {},
     "output_type": "execute_result"
    }
   ],
   "source": [
    "def season(month):\n",
    "    if month >= 1 and month <= 2:\n",
    "        return 'winter'\n",
    "    if month >= 3 and month <= 5:\n",
    "        return 'spring'\n",
    "    if month >= 6 and month <= 8:\n",
    "        return 'summer'\n",
    "    if month >= 9 and month <= 11:\n",
    "        return 'fall'\n",
    "    if month == 12:\n",
    "        return 'winter'\n",
    "\n",
    "data['visit_season'] = data['month'].map(season)\n",
    "data.tail()"
   ]
  },
  {
   "cell_type": "markdown",
   "metadata": {
    "heading_collapsed": true
   },
   "source": [
    "## Explore each column"
   ]
  },
  {
   "cell_type": "code",
   "execution_count": 18,
   "metadata": {
    "hidden": true
   },
   "outputs": [
    {
     "name": "stderr",
     "output_type": "stream",
     "text": [
      "c:\\users\\njeri\\.venvs\\smart_stay\\lib\\site-packages\\ipykernel\\ipkernel.py:283: DeprecationWarning: `should_run_async` will not call `transform_cell` automatically in the future. Please pass the result to `transformed_cell` argument and any exception that happen during thetransform in `preprocessing_exc_tuple` in IPython 7.17 and above.\n",
      "  and should_run_async(code)\n"
     ]
    },
    {
     "data": {
      "text/plain": [
       "2975"
      ]
     },
     "execution_count": 18,
     "metadata": {},
     "output_type": "execute_result"
    }
   ],
   "source": [
    "data.id.nunique()"
   ]
  },
  {
   "cell_type": "code",
   "execution_count": 19,
   "metadata": {
    "hidden": true
   },
   "outputs": [
    {
     "name": "stderr",
     "output_type": "stream",
     "text": [
      "c:\\users\\njeri\\.venvs\\smart_stay\\lib\\site-packages\\ipykernel\\ipkernel.py:283: DeprecationWarning: `should_run_async` will not call `transform_cell` automatically in the future. Please pass the result to `transformed_cell` argument and any exception that happen during thetransform in `preprocessing_exc_tuple` in IPython 7.17 and above.\n",
      "  and should_run_async(code)\n"
     ]
    },
    {
     "data": {
      "text/plain": [
       "2970"
      ]
     },
     "execution_count": 19,
     "metadata": {},
     "output_type": "execute_result"
    }
   ],
   "source": [
    "data.address.nunique()"
   ]
  },
  {
   "cell_type": "code",
   "execution_count": 20,
   "metadata": {
    "hidden": true
   },
   "outputs": [
    {
     "name": "stderr",
     "output_type": "stream",
     "text": [
      "c:\\users\\njeri\\.venvs\\smart_stay\\lib\\site-packages\\ipykernel\\ipkernel.py:283: DeprecationWarning: `should_run_async` will not call `transform_cell` automatically in the future. Please pass the result to `transformed_cell` argument and any exception that happen during thetransform in `preprocessing_exc_tuple` in IPython 7.17 and above.\n",
      "  and should_run_async(code)\n"
     ]
    },
    {
     "data": {
      "text/plain": [
       "1652"
      ]
     },
     "execution_count": 20,
     "metadata": {},
     "output_type": "execute_result"
    }
   ],
   "source": [
    "data.categories.nunique()"
   ]
  },
  {
   "cell_type": "code",
   "execution_count": 21,
   "metadata": {
    "hidden": true
   },
   "outputs": [
    {
     "name": "stderr",
     "output_type": "stream",
     "text": [
      "c:\\users\\njeri\\.venvs\\smart_stay\\lib\\site-packages\\ipykernel\\ipkernel.py:283: DeprecationWarning: `should_run_async` will not call `transform_cell` automatically in the future. Please pass the result to `transformed_cell` argument and any exception that happen during thetransform in `preprocessing_exc_tuple` in IPython 7.17 and above.\n",
      "  and should_run_async(code)\n"
     ]
    },
    {
     "data": {
      "text/plain": [
       "array(['Accommodation & Food Services',\n",
       "       'Healthcare & Social Assistance,Accommodation & Food Services',\n",
       "       'Accommodation & Food Services,Arts Entertainment & Recreation',\n",
       "       'Arts Entertainment & Recreation',\n",
       "       'Wholesale Trade,Accommodation & Food Services', 'Utilities',\n",
       "       'Accommodation & Food Services,Administrative & Support & Waste Management & Remediation',\n",
       "       'Accommodation & Food Services,Agriculture'], dtype=object)"
      ]
     },
     "execution_count": 21,
     "metadata": {},
     "output_type": "execute_result"
    }
   ],
   "source": [
    "data.primaryCategories.unique()"
   ]
  },
  {
   "cell_type": "code",
   "execution_count": 22,
   "metadata": {
    "hidden": true
   },
   "outputs": [
    {
     "name": "stderr",
     "output_type": "stream",
     "text": [
      "c:\\users\\njeri\\.venvs\\smart_stay\\lib\\site-packages\\ipykernel\\ipkernel.py:283: DeprecationWarning: `should_run_async` will not call `transform_cell` automatically in the future. Please pass the result to `transformed_cell` argument and any exception that happen during thetransform in `preprocessing_exc_tuple` in IPython 7.17 and above.\n",
      "  and should_run_async(code)\n"
     ]
    },
    {
     "data": {
      "text/plain": [
       "1416"
      ]
     },
     "execution_count": 22,
     "metadata": {},
     "output_type": "execute_result"
    }
   ],
   "source": [
    "data.city.nunique()"
   ]
  },
  {
   "cell_type": "code",
   "execution_count": 23,
   "metadata": {
    "hidden": true
   },
   "outputs": [
    {
     "name": "stderr",
     "output_type": "stream",
     "text": [
      "c:\\users\\njeri\\.venvs\\smart_stay\\lib\\site-packages\\ipykernel\\ipkernel.py:283: DeprecationWarning: `should_run_async` will not call `transform_cell` automatically in the future. Please pass the result to `transformed_cell` argument and any exception that happen during thetransform in `preprocessing_exc_tuple` in IPython 7.17 and above.\n",
      "  and should_run_async(code)\n"
     ]
    },
    {
     "data": {
      "text/plain": [
       "1"
      ]
     },
     "execution_count": 23,
     "metadata": {},
     "output_type": "execute_result"
    }
   ],
   "source": [
    "data.country.nunique()"
   ]
  },
  {
   "cell_type": "code",
   "execution_count": 24,
   "metadata": {
    "hidden": true
   },
   "outputs": [
    {
     "name": "stderr",
     "output_type": "stream",
     "text": [
      "c:\\users\\njeri\\.venvs\\smart_stay\\lib\\site-packages\\ipykernel\\ipkernel.py:283: DeprecationWarning: `should_run_async` will not call `transform_cell` automatically in the future. Please pass the result to `transformed_cell` argument and any exception that happen during thetransform in `preprocessing_exc_tuple` in IPython 7.17 and above.\n",
      "  and should_run_async(code)\n"
     ]
    },
    {
     "data": {
      "text/plain": [
       "(19997, 21)"
      ]
     },
     "execution_count": 24,
     "metadata": {},
     "output_type": "execute_result"
    }
   ],
   "source": [
    "# All reviews in US\n",
    "data = data.drop(columns='country')\n",
    "data.shape"
   ]
  },
  {
   "cell_type": "code",
   "execution_count": 25,
   "metadata": {
    "hidden": true
   },
   "outputs": [
    {
     "name": "stderr",
     "output_type": "stream",
     "text": [
      "c:\\users\\njeri\\.venvs\\smart_stay\\lib\\site-packages\\ipykernel\\ipkernel.py:283: DeprecationWarning: `should_run_async` will not call `transform_cell` automatically in the future. Please pass the result to `transformed_cell` argument and any exception that happen during thetransform in `preprocessing_exc_tuple` in IPython 7.17 and above.\n",
      "  and should_run_async(code)\n"
     ]
    },
    {
     "data": {
      "text/plain": [
       "2976"
      ]
     },
     "execution_count": 25,
     "metadata": {},
     "output_type": "execute_result"
    }
   ],
   "source": [
    "data['keys'].nunique()"
   ]
  },
  {
   "cell_type": "code",
   "execution_count": 26,
   "metadata": {
    "hidden": true
   },
   "outputs": [
    {
     "name": "stderr",
     "output_type": "stream",
     "text": [
      "c:\\users\\njeri\\.venvs\\smart_stay\\lib\\site-packages\\ipykernel\\ipkernel.py:283: DeprecationWarning: `should_run_async` will not call `transform_cell` automatically in the future. Please pass the result to `transformed_cell` argument and any exception that happen during thetransform in `preprocessing_exc_tuple` in IPython 7.17 and above.\n",
      "  and should_run_async(code)\n"
     ]
    },
    {
     "data": {
      "text/plain": [
       "2764"
      ]
     },
     "execution_count": 26,
     "metadata": {},
     "output_type": "execute_result"
    }
   ],
   "source": [
    "data.name.nunique()"
   ]
  },
  {
   "cell_type": "code",
   "execution_count": 27,
   "metadata": {
    "hidden": true
   },
   "outputs": [
    {
     "name": "stderr",
     "output_type": "stream",
     "text": [
      "c:\\users\\njeri\\.venvs\\smart_stay\\lib\\site-packages\\ipykernel\\ipkernel.py:283: DeprecationWarning: `should_run_async` will not call `transform_cell` automatically in the future. Please pass the result to `transformed_cell` argument and any exception that happen during thetransform in `preprocessing_exc_tuple` in IPython 7.17 and above.\n",
      "  and should_run_async(code)\n"
     ]
    },
    {
     "data": {
      "text/plain": [
       "50"
      ]
     },
     "execution_count": 27,
     "metadata": {},
     "output_type": "execute_result"
    }
   ],
   "source": [
    "data.province.nunique()"
   ]
  },
  {
   "cell_type": "code",
   "execution_count": 28,
   "metadata": {
    "hidden": true
   },
   "outputs": [
    {
     "name": "stderr",
     "output_type": "stream",
     "text": [
      "c:\\users\\njeri\\.venvs\\smart_stay\\lib\\site-packages\\ipykernel\\ipkernel.py:283: DeprecationWarning: `should_run_async` will not call `transform_cell` automatically in the future. Please pass the result to `transformed_cell` argument and any exception that happen during thetransform in `preprocessing_exc_tuple` in IPython 7.17 and above.\n",
      "  and should_run_async(code)\n"
     ]
    },
    {
     "data": {
      "text/plain": [
       "array([5.  , 2.  , 4.  , 3.  , 1.  , 4.8 , 4.6 , 3.55, 4.4 , 4.15, 2.5 ,\n",
       "       3.95, 2.9 , 3.35, 3.75, 4.5 , 2.1 , 1.65, 3.15, 2.7 , 1.45, 2.75,\n",
       "       2.3 , 3.5 , 4.25, 1.25, 1.9 , 3.45, 3.25, 4.75])"
      ]
     },
     "execution_count": 28,
     "metadata": {},
     "output_type": "execute_result"
    }
   ],
   "source": [
    "data['reviews.rating'].unique()"
   ]
  },
  {
   "cell_type": "code",
   "execution_count": 29,
   "metadata": {
    "hidden": true
   },
   "outputs": [
    {
     "name": "stderr",
     "output_type": "stream",
     "text": [
      "c:\\users\\njeri\\.venvs\\smart_stay\\lib\\site-packages\\ipykernel\\ipkernel.py:283: DeprecationWarning: `should_run_async` will not call `transform_cell` automatically in the future. Please pass the result to `transformed_cell` argument and any exception that happen during thetransform in `preprocessing_exc_tuple` in IPython 7.17 and above.\n",
      "  and should_run_async(code)\n"
     ]
    },
    {
     "data": {
      "text/plain": [
       "19995     good\n",
       "19996    great\n",
       "19997    great\n",
       "19998    great\n",
       "19999     good\n",
       "Name: cat_rating, dtype: object"
      ]
     },
     "execution_count": 29,
     "metadata": {},
     "output_type": "execute_result"
    }
   ],
   "source": [
    "# Change reviews to categories rather than numbers\n",
    "def review_map(rating):\n",
    "    if rating == 5:\n",
    "        return 'great'\n",
    "    if rating >=4 and rating < 5:\n",
    "        return 'good'\n",
    "    if rating < 4:\n",
    "        return 'not great'\n",
    "\n",
    "data['cat_rating'] = data['reviews.rating'].map(review_map)\n",
    "data['cat_rating'].tail()"
   ]
  },
  {
   "cell_type": "code",
   "execution_count": 30,
   "metadata": {
    "hidden": true
   },
   "outputs": [
    {
     "name": "stderr",
     "output_type": "stream",
     "text": [
      "c:\\users\\njeri\\.venvs\\smart_stay\\lib\\site-packages\\ipykernel\\ipkernel.py:283: DeprecationWarning: `should_run_async` will not call `transform_cell` automatically in the future. Please pass the result to `transformed_cell` argument and any exception that happen during thetransform in `preprocessing_exc_tuple` in IPython 7.17 and above.\n",
      "  and should_run_async(code)\n"
     ]
    },
    {
     "data": {
      "text/plain": [
       "14256"
      ]
     },
     "execution_count": 30,
     "metadata": {},
     "output_type": "execute_result"
    }
   ],
   "source": [
    "data['reviews.sourceURLs'].nunique()"
   ]
  },
  {
   "cell_type": "code",
   "execution_count": 31,
   "metadata": {
    "hidden": true
   },
   "outputs": [
    {
     "name": "stderr",
     "output_type": "stream",
     "text": [
      "c:\\users\\njeri\\.venvs\\smart_stay\\lib\\site-packages\\ipykernel\\ipkernel.py:283: DeprecationWarning: `should_run_async` will not call `transform_cell` automatically in the future. Please pass the result to `transformed_cell` argument and any exception that happen during thetransform in `preprocessing_exc_tuple` in IPython 7.17 and above.\n",
      "  and should_run_async(code)\n"
     ]
    }
   ],
   "source": [
    "def short_url(url):\n",
    "    parsed = urlparse(url)\n",
    "    short_url = parsed.netloc\n",
    "    return short_url.replace('www.', '')"
   ]
  },
  {
   "cell_type": "code",
   "execution_count": 32,
   "metadata": {
    "hidden": true
   },
   "outputs": [
    {
     "name": "stderr",
     "output_type": "stream",
     "text": [
      "c:\\users\\njeri\\.venvs\\smart_stay\\lib\\site-packages\\ipykernel\\ipkernel.py:283: DeprecationWarning: `should_run_async` will not call `transform_cell` automatically in the future. Please pass the result to `transformed_cell` argument and any exception that happen during thetransform in `preprocessing_exc_tuple` in IPython 7.17 and above.\n",
      "  and should_run_async(code)\n"
     ]
    },
    {
     "data": {
      "text/plain": [
       "19995    tripadvisor.com\n",
       "19996    tripadvisor.com\n",
       "19997    tripadvisor.com\n",
       "19998    tripadvisor.com\n",
       "19999    tripadvisor.com\n",
       "Name: short_source, dtype: object"
      ]
     },
     "execution_count": 32,
     "metadata": {},
     "output_type": "execute_result"
    }
   ],
   "source": [
    "data['short_source'] = data['reviews.sourceURLs'].map(short_url)\n",
    "data['short_source'].tail()"
   ]
  },
  {
   "cell_type": "code",
   "execution_count": 33,
   "metadata": {
    "hidden": true
   },
   "outputs": [
    {
     "name": "stderr",
     "output_type": "stream",
     "text": [
      "c:\\users\\njeri\\.venvs\\smart_stay\\lib\\site-packages\\ipykernel\\ipkernel.py:283: DeprecationWarning: `should_run_async` will not call `transform_cell` automatically in the future. Please pass the result to `transformed_cell` argument and any exception that happen during thetransform in `preprocessing_exc_tuple` in IPython 7.17 and above.\n",
      "  and should_run_async(code)\n"
     ]
    },
    {
     "data": {
      "text/plain": [
       "(19997, 21)"
      ]
     },
     "execution_count": 33,
     "metadata": {},
     "output_type": "execute_result"
    }
   ],
   "source": [
    "# drop long URLs for modeling\n",
    "data = data.drop(columns=['sourceURLs', 'websites'])\n",
    "data.shape"
   ]
  },
  {
   "cell_type": "code",
   "execution_count": 34,
   "metadata": {
    "hidden": true
   },
   "outputs": [
    {
     "name": "stderr",
     "output_type": "stream",
     "text": [
      "c:\\users\\njeri\\.venvs\\smart_stay\\lib\\site-packages\\ipykernel\\ipkernel.py:283: DeprecationWarning: `should_run_async` will not call `transform_cell` automatically in the future. Please pass the result to `transformed_cell` argument and any exception that happen during thetransform in `preprocessing_exc_tuple` in IPython 7.17 and above.\n",
      "  and should_run_async(code)\n"
     ]
    },
    {
     "data": {
      "text/plain": [
       "Index(['id', 'address', 'categories', 'primaryCategories', 'city', 'keys',\n",
       "       'latitude', 'longitude', 'name', 'postalCode', 'province',\n",
       "       'reviews.rating', 'reviews.sourceURLs', 'reviews.text', 'reviews.title',\n",
       "       'reviews.username', 'month', 'year', 'visit_season', 'cat_rating',\n",
       "       'short_source'],\n",
       "      dtype='object')"
      ]
     },
     "execution_count": 34,
     "metadata": {},
     "output_type": "execute_result"
    }
   ],
   "source": [
    "data.columns"
   ]
  },
  {
   "cell_type": "markdown",
   "metadata": {
    "hidden": true
   },
   "source": [
    "----------------------------------------------------\n",
    "\n",
    "- ID is unique identifier for hotel\n",
    "- remove address column - city, state, lat/lon sufficient for location information\n",
    "- remove keys column - not needed for this exercise\n",
    "- split reviews.date to month & date of review and add season\n",
    "- remove reviews.sourceURLs since short URLs created\n",
    "\n",
    "-----------------------------------------"
   ]
  },
  {
   "cell_type": "code",
   "execution_count": 35,
   "metadata": {
    "hidden": true
   },
   "outputs": [
    {
     "name": "stderr",
     "output_type": "stream",
     "text": [
      "c:\\users\\njeri\\.venvs\\smart_stay\\lib\\site-packages\\ipykernel\\ipkernel.py:283: DeprecationWarning: `should_run_async` will not call `transform_cell` automatically in the future. Please pass the result to `transformed_cell` argument and any exception that happen during thetransform in `preprocessing_exc_tuple` in IPython 7.17 and above.\n",
      "  and should_run_async(code)\n"
     ]
    },
    {
     "data": {
      "text/plain": [
       "(19997, 18)"
      ]
     },
     "execution_count": 35,
     "metadata": {},
     "output_type": "execute_result"
    }
   ],
   "source": [
    "data = data.drop(columns=['address', 'keys', 'reviews.sourceURLs'])\n",
    "data.shape"
   ]
  },
  {
   "cell_type": "code",
   "execution_count": 36,
   "metadata": {
    "hidden": true
   },
   "outputs": [
    {
     "name": "stderr",
     "output_type": "stream",
     "text": [
      "c:\\users\\njeri\\.venvs\\smart_stay\\lib\\site-packages\\ipykernel\\ipkernel.py:283: DeprecationWarning: `should_run_async` will not call `transform_cell` automatically in the future. Please pass the result to `transformed_cell` argument and any exception that happen during thetransform in `preprocessing_exc_tuple` in IPython 7.17 and above.\n",
      "  and should_run_async(code)\n"
     ]
    },
    {
     "data": {
      "text/plain": [
       "great        9223\n",
       "good         5749\n",
       "not great    5025\n",
       "Name: cat_rating, dtype: int64"
      ]
     },
     "execution_count": 36,
     "metadata": {},
     "output_type": "execute_result"
    }
   ],
   "source": [
    "data['cat_rating'].value_counts()"
   ]
  },
  {
   "cell_type": "code",
   "execution_count": 37,
   "metadata": {
    "hidden": true
   },
   "outputs": [
    {
     "name": "stderr",
     "output_type": "stream",
     "text": [
      "c:\\users\\njeri\\.venvs\\smart_stay\\lib\\site-packages\\ipykernel\\ipkernel.py:283: DeprecationWarning: `should_run_async` will not call `transform_cell` automatically in the future. Please pass the result to `transformed_cell` argument and any exception that happen during thetransform in `preprocessing_exc_tuple` in IPython 7.17 and above.\n",
      "  and should_run_async(code)\n"
     ]
    },
    {
     "data": {
      "text/plain": [
       "summer    6177\n",
       "spring    5338\n",
       "fall      4537\n",
       "winter    3945\n",
       "Name: visit_season, dtype: int64"
      ]
     },
     "execution_count": 37,
     "metadata": {},
     "output_type": "execute_result"
    }
   ],
   "source": [
    "data['visit_season'].value_counts()"
   ]
  },
  {
   "cell_type": "code",
   "execution_count": 38,
   "metadata": {
    "hidden": true
   },
   "outputs": [
    {
     "name": "stderr",
     "output_type": "stream",
     "text": [
      "c:\\users\\njeri\\.venvs\\smart_stay\\lib\\site-packages\\ipykernel\\ipkernel.py:283: DeprecationWarning: `should_run_async` will not call `transform_cell` automatically in the future. Please pass the result to `transformed_cell` argument and any exception that happen during thetransform in `preprocessing_exc_tuple` in IPython 7.17 and above.\n",
      "  and should_run_async(code)\n"
     ]
    },
    {
     "data": {
      "text/plain": [
       "Accommodation & Food Services                                                              19916\n",
       "Arts Entertainment & Recreation                                                               45\n",
       "Healthcare & Social Assistance,Accommodation & Food Services                                  18\n",
       "Accommodation & Food Services,Arts Entertainment & Recreation                                  8\n",
       "Wholesale Trade,Accommodation & Food Services                                                  7\n",
       "Accommodation & Food Services,Administrative & Support & Waste Management & Remediation        1\n",
       "Accommodation & Food Services,Agriculture                                                      1\n",
       "Utilities                                                                                      1\n",
       "Name: primaryCategories, dtype: int64"
      ]
     },
     "execution_count": 38,
     "metadata": {},
     "output_type": "execute_result"
    }
   ],
   "source": [
    "data['primaryCategories'].value_counts()"
   ]
  },
  {
   "cell_type": "code",
   "execution_count": 39,
   "metadata": {
    "hidden": true
   },
   "outputs": [
    {
     "name": "stderr",
     "output_type": "stream",
     "text": [
      "c:\\users\\njeri\\.venvs\\smart_stay\\lib\\site-packages\\ipykernel\\ipkernel.py:283: DeprecationWarning: `should_run_async` will not call `transform_cell` automatically in the future. Please pass the result to `transformed_cell` argument and any exception that happen during thetransform in `preprocessing_exc_tuple` in IPython 7.17 and above.\n",
      "  and should_run_async(code)\n"
     ]
    },
    {
     "data": {
      "text/plain": [
       "2016    6916\n",
       "2015    4618\n",
       "2017    2508\n",
       "2014    1652\n",
       "2018    1269\n",
       "2013    1135\n",
       "2012     692\n",
       "2011     418\n",
       "2010     223\n",
       "2009     167\n",
       "2007     135\n",
       "2008     122\n",
       "2006      42\n",
       "2019      40\n",
       "2005      32\n",
       "2004      22\n",
       "2003       5\n",
       "2002       1\n",
       "Name: year, dtype: int64"
      ]
     },
     "execution_count": 39,
     "metadata": {},
     "output_type": "execute_result"
    }
   ],
   "source": [
    "data['year'].value_counts()"
   ]
  },
  {
   "cell_type": "markdown",
   "metadata": {
    "hidden": true
   },
   "source": [
    "---------------------------------------\n",
    "\n",
    "- Remove primaryCategories column - all categories can be considered accommodation & food services\n",
    "- Remove reviews.username - not applicaple for aggregation\n",
    "\n",
    "---------------------------------------"
   ]
  },
  {
   "cell_type": "code",
   "execution_count": 40,
   "metadata": {
    "hidden": true
   },
   "outputs": [
    {
     "name": "stderr",
     "output_type": "stream",
     "text": [
      "c:\\users\\njeri\\.venvs\\smart_stay\\lib\\site-packages\\ipykernel\\ipkernel.py:283: DeprecationWarning: `should_run_async` will not call `transform_cell` automatically in the future. Please pass the result to `transformed_cell` argument and any exception that happen during thetransform in `preprocessing_exc_tuple` in IPython 7.17 and above.\n",
      "  and should_run_async(code)\n"
     ]
    },
    {
     "data": {
      "text/plain": [
       "(19997, 16)"
      ]
     },
     "execution_count": 40,
     "metadata": {},
     "output_type": "execute_result"
    }
   ],
   "source": [
    "data = data.drop(columns=['primaryCategories', 'reviews.username'])\n",
    "data.shape"
   ]
  },
  {
   "cell_type": "markdown",
   "metadata": {
    "heading_collapsed": true
   },
   "source": [
    "## Process text columns\n",
    "\n",
    "✅ pip install NLTK <br>\n",
    "✅ create functions in data.py to clean text:<br>\n",
    "- remove numbers\n",
    "- remove punctuation\n",
    "- convert all text to lower case\n",
    "- remove stopwords\n",
    "- lemmatize words <br>\n",
    "\n",
    "✅ add any functions used in cleaning data above to data.py & create classes <br>\n",
    "✅ create review_richness column (i.e introduce vocabulary richness feature) <br>\n",
    "✅ add richness functions to data.py <br>\n",
    "✅ test data.py"
   ]
  },
  {
   "cell_type": "code",
   "execution_count": 41,
   "metadata": {
    "hidden": true
   },
   "outputs": [
    {
     "name": "stderr",
     "output_type": "stream",
     "text": [
      "c:\\users\\njeri\\.venvs\\smart_stay\\lib\\site-packages\\ipykernel\\ipkernel.py:283: DeprecationWarning: `should_run_async` will not call `transform_cell` automatically in the future. Please pass the result to `transformed_cell` argument and any exception that happen during thetransform in `preprocessing_exc_tuple` in IPython 7.17 and above.\n",
      "  and should_run_async(code)\n"
     ]
    }
   ],
   "source": [
    "def punc_remover(df, new_col, old_col):\n",
    "    df[new_col] = df[old_col]\n",
    "    for punctuation in string.punctuation:\n",
    "        df[new_col] = df[new_col].map(lambda x: x.replace(punctuation, '')) \n",
    "    return df\n",
    "\n",
    "def lower_case(df, new_col):\n",
    "    df[new_col] = df[new_col].map(lambda x: x.lower())\n",
    "    return df\n",
    "\n",
    "def remove_num(df, new_col):\n",
    "    df[new_col] = df[new_col].map(lambda x: ''.join(word for word in x if not word.isdigit()))\n",
    "    return df\n",
    "\n",
    "def remove_stop(df, new_col):\n",
    "    stop_words = set(stopwords.words('english')) \n",
    "    df[new_col] = df[new_col].map(word_tokenize) \n",
    "    df[new_col] = df[new_col].map(lambda x: ' '.join(w for w in x if not w in stop_words))\n",
    "    return df\n",
    "\n",
    "def lemmatize(df, new_col):\n",
    "    df[new_col] = df[new_col].map(word_tokenize)\n",
    "    lemmatizer = WordNetLemmatizer()\n",
    "    df[new_col] = df[new_col].map(lambda x: ' '.join(lemmatizer.lemmatize(word) for word in x))\n",
    "    return df\n",
    "\n",
    "def proc_text(df, new_col, old_col):\n",
    "    punc_remover(df, new_col, old_col)\n",
    "    lower_case(df, new_col)\n",
    "    remove_num(df, new_col)\n",
    "    remove_stop(df, new_col)\n",
    "    lemmatize(df, new_col)\n",
    "    df = df.drop(columns=old_col, inplace=True)\n",
    "    return df"
   ]
  },
  {
   "cell_type": "code",
   "execution_count": 42,
   "metadata": {
    "hidden": true
   },
   "outputs": [
    {
     "name": "stderr",
     "output_type": "stream",
     "text": [
      "c:\\users\\njeri\\.venvs\\smart_stay\\lib\\site-packages\\ipykernel\\ipkernel.py:283: DeprecationWarning: `should_run_async` will not call `transform_cell` automatically in the future. Please pass the result to `transformed_cell` argument and any exception that happen during thetransform in `preprocessing_exc_tuple` in IPython 7.17 and above.\n",
      "  and should_run_async(code)\n"
     ]
    },
    {
     "data": {
      "text/plain": [
       "Index(['id', 'categories', 'city', 'latitude', 'longitude', 'name',\n",
       "       'postalCode', 'province', 'reviews.rating', 'reviews.text',\n",
       "       'reviews.title', 'month', 'year', 'visit_season', 'cat_rating',\n",
       "       'short_source'],\n",
       "      dtype='object')"
      ]
     },
     "execution_count": 42,
     "metadata": {},
     "output_type": "execute_result"
    }
   ],
   "source": [
    "data.columns"
   ]
  },
  {
   "cell_type": "code",
   "execution_count": 43,
   "metadata": {
    "hidden": true
   },
   "outputs": [
    {
     "name": "stderr",
     "output_type": "stream",
     "text": [
      "c:\\users\\njeri\\.venvs\\smart_stay\\lib\\site-packages\\ipykernel\\ipkernel.py:283: DeprecationWarning: `should_run_async` will not call `transform_cell` automatically in the future. Please pass the result to `transformed_cell` argument and any exception that happen during thetransform in `preprocessing_exc_tuple` in IPython 7.17 and above.\n",
      "  and should_run_async(code)\n"
     ]
    },
    {
     "data": {
      "text/html": [
       "<div>\n",
       "<style scoped>\n",
       "    .dataframe tbody tr th:only-of-type {\n",
       "        vertical-align: middle;\n",
       "    }\n",
       "\n",
       "    .dataframe tbody tr th {\n",
       "        vertical-align: top;\n",
       "    }\n",
       "\n",
       "    .dataframe thead th {\n",
       "        text-align: right;\n",
       "    }\n",
       "</style>\n",
       "<table border=\"1\" class=\"dataframe\">\n",
       "  <thead>\n",
       "    <tr style=\"text-align: right;\">\n",
       "      <th></th>\n",
       "      <th>id</th>\n",
       "      <th>city</th>\n",
       "      <th>latitude</th>\n",
       "      <th>longitude</th>\n",
       "      <th>name</th>\n",
       "      <th>postalCode</th>\n",
       "      <th>province</th>\n",
       "      <th>reviews.rating</th>\n",
       "      <th>reviews.text</th>\n",
       "      <th>reviews.title</th>\n",
       "      <th>month</th>\n",
       "      <th>year</th>\n",
       "      <th>visit_season</th>\n",
       "      <th>cat_rating</th>\n",
       "      <th>short_source</th>\n",
       "      <th>clean_categories</th>\n",
       "    </tr>\n",
       "  </thead>\n",
       "  <tbody>\n",
       "    <tr>\n",
       "      <th>0</th>\n",
       "      <td>AVwc252WIN2L1WUfpqLP</td>\n",
       "      <td>Rancho Santa Fe</td>\n",
       "      <td>32.990959</td>\n",
       "      <td>-117.186136</td>\n",
       "      <td>Rancho Valencia Resort Spa</td>\n",
       "      <td>92067</td>\n",
       "      <td>CA</td>\n",
       "      <td>5.0</td>\n",
       "      <td>Our experience at Rancho Valencia was absolute...</td>\n",
       "      <td>Best romantic vacation ever!!!!</td>\n",
       "      <td>11</td>\n",
       "      <td>2013</td>\n",
       "      <td>fall</td>\n",
       "      <td>great</td>\n",
       "      <td>hotels.com</td>\n",
       "      <td>hotelshotels motelshotel motel reservationsres...</td>\n",
       "    </tr>\n",
       "    <tr>\n",
       "      <th>1</th>\n",
       "      <td>AVwc252WIN2L1WUfpqLP</td>\n",
       "      <td>Rancho Santa Fe</td>\n",
       "      <td>32.990959</td>\n",
       "      <td>-117.186136</td>\n",
       "      <td>Rancho Valencia Resort Spa</td>\n",
       "      <td>92067</td>\n",
       "      <td>CA</td>\n",
       "      <td>5.0</td>\n",
       "      <td>Amazing place. Everyone was extremely warm and...</td>\n",
       "      <td>Sweet sweet serenity</td>\n",
       "      <td>7</td>\n",
       "      <td>2014</td>\n",
       "      <td>summer</td>\n",
       "      <td>great</td>\n",
       "      <td>hotels.com</td>\n",
       "      <td>hotelshotels motelshotel motel reservationsres...</td>\n",
       "    </tr>\n",
       "    <tr>\n",
       "      <th>2</th>\n",
       "      <td>AVwc252WIN2L1WUfpqLP</td>\n",
       "      <td>Rancho Santa Fe</td>\n",
       "      <td>32.990959</td>\n",
       "      <td>-117.186136</td>\n",
       "      <td>Rancho Valencia Resort Spa</td>\n",
       "      <td>92067</td>\n",
       "      <td>CA</td>\n",
       "      <td>5.0</td>\n",
       "      <td>We booked a 3 night stay at Rancho Valencia to...</td>\n",
       "      <td>Amazing Property and Experience</td>\n",
       "      <td>1</td>\n",
       "      <td>2015</td>\n",
       "      <td>winter</td>\n",
       "      <td>great</td>\n",
       "      <td>hotels.com</td>\n",
       "      <td>hotelshotels motelshotel motel reservationsres...</td>\n",
       "    </tr>\n",
       "    <tr>\n",
       "      <th>3</th>\n",
       "      <td>AVwdOclqIN2L1WUfti38</td>\n",
       "      <td>Hanover</td>\n",
       "      <td>39.155929</td>\n",
       "      <td>-76.716341</td>\n",
       "      <td>Aloft Arundel Mills</td>\n",
       "      <td>21076</td>\n",
       "      <td>MD</td>\n",
       "      <td>2.0</td>\n",
       "      <td>Currently in bed writing this for the past hr ...</td>\n",
       "      <td>Never again...beware, if you want sleep.</td>\n",
       "      <td>5</td>\n",
       "      <td>2016</td>\n",
       "      <td>spring</td>\n",
       "      <td>not great</td>\n",
       "      <td>tripadvisor.com</td>\n",
       "      <td>hotelshotels motelstravel agency bureaushotel ...</td>\n",
       "    </tr>\n",
       "    <tr>\n",
       "      <th>4</th>\n",
       "      <td>AVwdOclqIN2L1WUfti38</td>\n",
       "      <td>Hanover</td>\n",
       "      <td>39.155929</td>\n",
       "      <td>-76.716341</td>\n",
       "      <td>Aloft Arundel Mills</td>\n",
       "      <td>21076</td>\n",
       "      <td>MD</td>\n",
       "      <td>5.0</td>\n",
       "      <td>I live in Md and the Aloft is my Home away fro...</td>\n",
       "      <td>ALWAYS GREAT STAY...</td>\n",
       "      <td>7</td>\n",
       "      <td>2016</td>\n",
       "      <td>summer</td>\n",
       "      <td>great</td>\n",
       "      <td>tripadvisor.com</td>\n",
       "      <td>hotelshotels motelstravel agency bureaushotel ...</td>\n",
       "    </tr>\n",
       "  </tbody>\n",
       "</table>\n",
       "</div>"
      ],
      "text/plain": [
       "                     id             city   latitude   longitude  \\\n",
       "0  AVwc252WIN2L1WUfpqLP  Rancho Santa Fe  32.990959 -117.186136   \n",
       "1  AVwc252WIN2L1WUfpqLP  Rancho Santa Fe  32.990959 -117.186136   \n",
       "2  AVwc252WIN2L1WUfpqLP  Rancho Santa Fe  32.990959 -117.186136   \n",
       "3  AVwdOclqIN2L1WUfti38          Hanover  39.155929  -76.716341   \n",
       "4  AVwdOclqIN2L1WUfti38          Hanover  39.155929  -76.716341   \n",
       "\n",
       "                         name postalCode province  reviews.rating  \\\n",
       "0  Rancho Valencia Resort Spa      92067       CA             5.0   \n",
       "1  Rancho Valencia Resort Spa      92067       CA             5.0   \n",
       "2  Rancho Valencia Resort Spa      92067       CA             5.0   \n",
       "3         Aloft Arundel Mills      21076       MD             2.0   \n",
       "4         Aloft Arundel Mills      21076       MD             5.0   \n",
       "\n",
       "                                        reviews.text  \\\n",
       "0  Our experience at Rancho Valencia was absolute...   \n",
       "1  Amazing place. Everyone was extremely warm and...   \n",
       "2  We booked a 3 night stay at Rancho Valencia to...   \n",
       "3  Currently in bed writing this for the past hr ...   \n",
       "4  I live in Md and the Aloft is my Home away fro...   \n",
       "\n",
       "                              reviews.title  month  year visit_season  \\\n",
       "0           Best romantic vacation ever!!!!     11  2013         fall   \n",
       "1                      Sweet sweet serenity      7  2014       summer   \n",
       "2           Amazing Property and Experience      1  2015       winter   \n",
       "3  Never again...beware, if you want sleep.      5  2016       spring   \n",
       "4                      ALWAYS GREAT STAY...      7  2016       summer   \n",
       "\n",
       "  cat_rating     short_source  \\\n",
       "0      great       hotels.com   \n",
       "1      great       hotels.com   \n",
       "2      great       hotels.com   \n",
       "3  not great  tripadvisor.com   \n",
       "4      great  tripadvisor.com   \n",
       "\n",
       "                                    clean_categories  \n",
       "0  hotelshotels motelshotel motel reservationsres...  \n",
       "1  hotelshotels motelshotel motel reservationsres...  \n",
       "2  hotelshotels motelshotel motel reservationsres...  \n",
       "3  hotelshotels motelstravel agency bureaushotel ...  \n",
       "4  hotelshotels motelstravel agency bureaushotel ...  "
      ]
     },
     "execution_count": 43,
     "metadata": {},
     "output_type": "execute_result"
    }
   ],
   "source": [
    "# Process categories column\n",
    "proc_text(data, 'clean_categories', 'categories')\n",
    "data.head()"
   ]
  },
  {
   "cell_type": "code",
   "execution_count": 44,
   "metadata": {
    "hidden": true
   },
   "outputs": [
    {
     "name": "stderr",
     "output_type": "stream",
     "text": [
      "c:\\users\\njeri\\.venvs\\smart_stay\\lib\\site-packages\\ipykernel\\ipkernel.py:283: DeprecationWarning: `should_run_async` will not call `transform_cell` automatically in the future. Please pass the result to `transformed_cell` argument and any exception that happen during thetransform in `preprocessing_exc_tuple` in IPython 7.17 and above.\n",
      "  and should_run_async(code)\n"
     ]
    },
    {
     "data": {
      "text/html": [
       "<div>\n",
       "<style scoped>\n",
       "    .dataframe tbody tr th:only-of-type {\n",
       "        vertical-align: middle;\n",
       "    }\n",
       "\n",
       "    .dataframe tbody tr th {\n",
       "        vertical-align: top;\n",
       "    }\n",
       "\n",
       "    .dataframe thead th {\n",
       "        text-align: right;\n",
       "    }\n",
       "</style>\n",
       "<table border=\"1\" class=\"dataframe\">\n",
       "  <thead>\n",
       "    <tr style=\"text-align: right;\">\n",
       "      <th></th>\n",
       "      <th>id</th>\n",
       "      <th>latitude</th>\n",
       "      <th>longitude</th>\n",
       "      <th>postalCode</th>\n",
       "      <th>reviews.rating</th>\n",
       "      <th>month</th>\n",
       "      <th>year</th>\n",
       "      <th>visit_season</th>\n",
       "      <th>cat_rating</th>\n",
       "      <th>short_source</th>\n",
       "      <th>clean_categories</th>\n",
       "      <th>clean_city</th>\n",
       "      <th>clean_state</th>\n",
       "      <th>clean_title</th>\n",
       "      <th>clean_review</th>\n",
       "      <th>clean_name</th>\n",
       "    </tr>\n",
       "  </thead>\n",
       "  <tbody>\n",
       "    <tr>\n",
       "      <th>0</th>\n",
       "      <td>AVwc252WIN2L1WUfpqLP</td>\n",
       "      <td>32.990959</td>\n",
       "      <td>-117.186136</td>\n",
       "      <td>92067</td>\n",
       "      <td>5.0</td>\n",
       "      <td>11</td>\n",
       "      <td>2013</td>\n",
       "      <td>fall</td>\n",
       "      <td>great</td>\n",
       "      <td>hotels.com</td>\n",
       "      <td>hotelshotels motelshotel motel reservationsres...</td>\n",
       "      <td>rancho santa fe</td>\n",
       "      <td>ca</td>\n",
       "      <td>best romantic vacation ever</td>\n",
       "      <td>experience rancho valencia absolutely perfect ...</td>\n",
       "      <td>rancho valencia resort spa</td>\n",
       "    </tr>\n",
       "    <tr>\n",
       "      <th>1</th>\n",
       "      <td>AVwc252WIN2L1WUfpqLP</td>\n",
       "      <td>32.990959</td>\n",
       "      <td>-117.186136</td>\n",
       "      <td>92067</td>\n",
       "      <td>5.0</td>\n",
       "      <td>7</td>\n",
       "      <td>2014</td>\n",
       "      <td>summer</td>\n",
       "      <td>great</td>\n",
       "      <td>hotels.com</td>\n",
       "      <td>hotelshotels motelshotel motel reservationsres...</td>\n",
       "      <td>rancho santa fe</td>\n",
       "      <td>ca</td>\n",
       "      <td>sweet sweet serenity</td>\n",
       "      <td>amazing place everyone extremely warm welcomin...</td>\n",
       "      <td>rancho valencia resort spa</td>\n",
       "    </tr>\n",
       "    <tr>\n",
       "      <th>2</th>\n",
       "      <td>AVwc252WIN2L1WUfpqLP</td>\n",
       "      <td>32.990959</td>\n",
       "      <td>-117.186136</td>\n",
       "      <td>92067</td>\n",
       "      <td>5.0</td>\n",
       "      <td>1</td>\n",
       "      <td>2015</td>\n",
       "      <td>winter</td>\n",
       "      <td>great</td>\n",
       "      <td>hotels.com</td>\n",
       "      <td>hotelshotels motelshotel motel reservationsres...</td>\n",
       "      <td>rancho santa fe</td>\n",
       "      <td>ca</td>\n",
       "      <td>amazing property experience</td>\n",
       "      <td>booked night stay rancho valencia play tennis ...</td>\n",
       "      <td>rancho valencia resort spa</td>\n",
       "    </tr>\n",
       "    <tr>\n",
       "      <th>3</th>\n",
       "      <td>AVwdOclqIN2L1WUfti38</td>\n",
       "      <td>39.155929</td>\n",
       "      <td>-76.716341</td>\n",
       "      <td>21076</td>\n",
       "      <td>2.0</td>\n",
       "      <td>5</td>\n",
       "      <td>2016</td>\n",
       "      <td>spring</td>\n",
       "      <td>not great</td>\n",
       "      <td>tripadvisor.com</td>\n",
       "      <td>hotelshotels motelstravel agency bureaushotel ...</td>\n",
       "      <td>hanover</td>\n",
       "      <td>md</td>\n",
       "      <td>never againbeware want sleep</td>\n",
       "      <td>currently bed writing past hr dog barking sque...</td>\n",
       "      <td>aloft arundel mill</td>\n",
       "    </tr>\n",
       "    <tr>\n",
       "      <th>4</th>\n",
       "      <td>AVwdOclqIN2L1WUfti38</td>\n",
       "      <td>39.155929</td>\n",
       "      <td>-76.716341</td>\n",
       "      <td>21076</td>\n",
       "      <td>5.0</td>\n",
       "      <td>7</td>\n",
       "      <td>2016</td>\n",
       "      <td>summer</td>\n",
       "      <td>great</td>\n",
       "      <td>tripadvisor.com</td>\n",
       "      <td>hotelshotels motelstravel agency bureaushotel ...</td>\n",
       "      <td>hanover</td>\n",
       "      <td>md</td>\n",
       "      <td>always great stay</td>\n",
       "      <td>live md aloft home away homewe stayed night st...</td>\n",
       "      <td>aloft arundel mill</td>\n",
       "    </tr>\n",
       "  </tbody>\n",
       "</table>\n",
       "</div>"
      ],
      "text/plain": [
       "                     id   latitude   longitude postalCode  reviews.rating  \\\n",
       "0  AVwc252WIN2L1WUfpqLP  32.990959 -117.186136      92067             5.0   \n",
       "1  AVwc252WIN2L1WUfpqLP  32.990959 -117.186136      92067             5.0   \n",
       "2  AVwc252WIN2L1WUfpqLP  32.990959 -117.186136      92067             5.0   \n",
       "3  AVwdOclqIN2L1WUfti38  39.155929  -76.716341      21076             2.0   \n",
       "4  AVwdOclqIN2L1WUfti38  39.155929  -76.716341      21076             5.0   \n",
       "\n",
       "   month  year visit_season cat_rating     short_source  \\\n",
       "0     11  2013         fall      great       hotels.com   \n",
       "1      7  2014       summer      great       hotels.com   \n",
       "2      1  2015       winter      great       hotels.com   \n",
       "3      5  2016       spring  not great  tripadvisor.com   \n",
       "4      7  2016       summer      great  tripadvisor.com   \n",
       "\n",
       "                                    clean_categories       clean_city  \\\n",
       "0  hotelshotels motelshotel motel reservationsres...  rancho santa fe   \n",
       "1  hotelshotels motelshotel motel reservationsres...  rancho santa fe   \n",
       "2  hotelshotels motelshotel motel reservationsres...  rancho santa fe   \n",
       "3  hotelshotels motelstravel agency bureaushotel ...          hanover   \n",
       "4  hotelshotels motelstravel agency bureaushotel ...          hanover   \n",
       "\n",
       "  clean_state                   clean_title  \\\n",
       "0          ca   best romantic vacation ever   \n",
       "1          ca          sweet sweet serenity   \n",
       "2          ca   amazing property experience   \n",
       "3          md  never againbeware want sleep   \n",
       "4          md             always great stay   \n",
       "\n",
       "                                        clean_review  \\\n",
       "0  experience rancho valencia absolutely perfect ...   \n",
       "1  amazing place everyone extremely warm welcomin...   \n",
       "2  booked night stay rancho valencia play tennis ...   \n",
       "3  currently bed writing past hr dog barking sque...   \n",
       "4  live md aloft home away homewe stayed night st...   \n",
       "\n",
       "                   clean_name  \n",
       "0  rancho valencia resort spa  \n",
       "1  rancho valencia resort spa  \n",
       "2  rancho valencia resort spa  \n",
       "3          aloft arundel mill  \n",
       "4          aloft arundel mill  "
      ]
     },
     "execution_count": 44,
     "metadata": {},
     "output_type": "execute_result"
    }
   ],
   "source": [
    "# Process remaining text columns\n",
    "proc_text(data, 'clean_city', 'city')\n",
    "proc_text(data, 'clean_state', 'province')\n",
    "proc_text(data, 'clean_title', 'reviews.title')\n",
    "proc_text(data, 'clean_review', 'reviews.text')\n",
    "proc_text(data, 'clean_name', 'name')\n",
    "data.head()"
   ]
  },
  {
   "cell_type": "code",
   "execution_count": 45,
   "metadata": {
    "hidden": true
   },
   "outputs": [
    {
     "name": "stderr",
     "output_type": "stream",
     "text": [
      "c:\\users\\njeri\\.venvs\\smart_stay\\lib\\site-packages\\ipykernel\\ipkernel.py:283: DeprecationWarning: `should_run_async` will not call `transform_cell` automatically in the future. Please pass the result to `transformed_cell` argument and any exception that happen during thetransform in `preprocessing_exc_tuple` in IPython 7.17 and above.\n",
      "  and should_run_async(code)\n"
     ]
    },
    {
     "data": {
      "text/html": [
       "<div>\n",
       "<style scoped>\n",
       "    .dataframe tbody tr th:only-of-type {\n",
       "        vertical-align: middle;\n",
       "    }\n",
       "\n",
       "    .dataframe tbody tr th {\n",
       "        vertical-align: top;\n",
       "    }\n",
       "\n",
       "    .dataframe thead th {\n",
       "        text-align: right;\n",
       "    }\n",
       "</style>\n",
       "<table border=\"1\" class=\"dataframe\">\n",
       "  <thead>\n",
       "    <tr style=\"text-align: right;\">\n",
       "      <th></th>\n",
       "      <th>id</th>\n",
       "      <th>latitude</th>\n",
       "      <th>longitude</th>\n",
       "      <th>postalCode</th>\n",
       "      <th>reviews.rating</th>\n",
       "      <th>month</th>\n",
       "      <th>year</th>\n",
       "      <th>visit_season</th>\n",
       "      <th>cat_rating</th>\n",
       "      <th>short_source</th>\n",
       "      <th>clean_categories</th>\n",
       "      <th>clean_city</th>\n",
       "      <th>clean_state</th>\n",
       "      <th>clean_title</th>\n",
       "      <th>clean_review</th>\n",
       "      <th>clean_name</th>\n",
       "    </tr>\n",
       "  </thead>\n",
       "  <tbody>\n",
       "    <tr>\n",
       "      <th>0</th>\n",
       "      <td>AVwc252WIN2L1WUfpqLP</td>\n",
       "      <td>32.990959</td>\n",
       "      <td>-117.186136</td>\n",
       "      <td>92067</td>\n",
       "      <td>5.0</td>\n",
       "      <td>11</td>\n",
       "      <td>2013</td>\n",
       "      <td>fall</td>\n",
       "      <td>great</td>\n",
       "      <td>hotels.com</td>\n",
       "      <td>hotelshotels motelshotel motel reservationsres...</td>\n",
       "      <td>rancho santa fe</td>\n",
       "      <td>ca</td>\n",
       "      <td>best romantic vacation ever</td>\n",
       "      <td>experience rancho valencia absolutely perfect ...</td>\n",
       "      <td>rancho valencia resort spa</td>\n",
       "    </tr>\n",
       "    <tr>\n",
       "      <th>1</th>\n",
       "      <td>AVwc252WIN2L1WUfpqLP</td>\n",
       "      <td>32.990959</td>\n",
       "      <td>-117.186136</td>\n",
       "      <td>92067</td>\n",
       "      <td>5.0</td>\n",
       "      <td>7</td>\n",
       "      <td>2014</td>\n",
       "      <td>summer</td>\n",
       "      <td>great</td>\n",
       "      <td>hotels.com</td>\n",
       "      <td>hotelshotels motelshotel motel reservationsres...</td>\n",
       "      <td>rancho santa fe</td>\n",
       "      <td>ca</td>\n",
       "      <td>sweet sweet serenity</td>\n",
       "      <td>amazing place everyone extremely warm welcomin...</td>\n",
       "      <td>rancho valencia resort spa</td>\n",
       "    </tr>\n",
       "    <tr>\n",
       "      <th>2</th>\n",
       "      <td>AVwc252WIN2L1WUfpqLP</td>\n",
       "      <td>32.990959</td>\n",
       "      <td>-117.186136</td>\n",
       "      <td>92067</td>\n",
       "      <td>5.0</td>\n",
       "      <td>1</td>\n",
       "      <td>2015</td>\n",
       "      <td>winter</td>\n",
       "      <td>great</td>\n",
       "      <td>hotels.com</td>\n",
       "      <td>hotelshotels motelshotel motel reservationsres...</td>\n",
       "      <td>rancho santa fe</td>\n",
       "      <td>ca</td>\n",
       "      <td>amazing property experience</td>\n",
       "      <td>booked night stay rancho valencia play tennis ...</td>\n",
       "      <td>rancho valencia resort spa</td>\n",
       "    </tr>\n",
       "    <tr>\n",
       "      <th>3</th>\n",
       "      <td>AVwdOclqIN2L1WUfti38</td>\n",
       "      <td>39.155929</td>\n",
       "      <td>-76.716341</td>\n",
       "      <td>21076</td>\n",
       "      <td>2.0</td>\n",
       "      <td>5</td>\n",
       "      <td>2016</td>\n",
       "      <td>spring</td>\n",
       "      <td>not great</td>\n",
       "      <td>tripadvisor.com</td>\n",
       "      <td>hotelshotels motelstravel agency bureaushotel ...</td>\n",
       "      <td>hanover</td>\n",
       "      <td>md</td>\n",
       "      <td>never againbeware want sleep</td>\n",
       "      <td>currently bed writing past hr dog barking sque...</td>\n",
       "      <td>aloft arundel mill</td>\n",
       "    </tr>\n",
       "    <tr>\n",
       "      <th>4</th>\n",
       "      <td>AVwdOclqIN2L1WUfti38</td>\n",
       "      <td>39.155929</td>\n",
       "      <td>-76.716341</td>\n",
       "      <td>21076</td>\n",
       "      <td>5.0</td>\n",
       "      <td>7</td>\n",
       "      <td>2016</td>\n",
       "      <td>summer</td>\n",
       "      <td>great</td>\n",
       "      <td>tripadvisor.com</td>\n",
       "      <td>hotelshotels motelstravel agency bureaushotel ...</td>\n",
       "      <td>hanover</td>\n",
       "      <td>md</td>\n",
       "      <td>always great stay</td>\n",
       "      <td>live md aloft home away homewe stayed night st...</td>\n",
       "      <td>aloft arundel mill</td>\n",
       "    </tr>\n",
       "  </tbody>\n",
       "</table>\n",
       "</div>"
      ],
      "text/plain": [
       "                     id   latitude   longitude postalCode  reviews.rating  \\\n",
       "0  AVwc252WIN2L1WUfpqLP  32.990959 -117.186136      92067             5.0   \n",
       "1  AVwc252WIN2L1WUfpqLP  32.990959 -117.186136      92067             5.0   \n",
       "2  AVwc252WIN2L1WUfpqLP  32.990959 -117.186136      92067             5.0   \n",
       "3  AVwdOclqIN2L1WUfti38  39.155929  -76.716341      21076             2.0   \n",
       "4  AVwdOclqIN2L1WUfti38  39.155929  -76.716341      21076             5.0   \n",
       "\n",
       "   month  year visit_season cat_rating     short_source  \\\n",
       "0     11  2013         fall      great       hotels.com   \n",
       "1      7  2014       summer      great       hotels.com   \n",
       "2      1  2015       winter      great       hotels.com   \n",
       "3      5  2016       spring  not great  tripadvisor.com   \n",
       "4      7  2016       summer      great  tripadvisor.com   \n",
       "\n",
       "                                    clean_categories       clean_city  \\\n",
       "0  hotelshotels motelshotel motel reservationsres...  rancho santa fe   \n",
       "1  hotelshotels motelshotel motel reservationsres...  rancho santa fe   \n",
       "2  hotelshotels motelshotel motel reservationsres...  rancho santa fe   \n",
       "3  hotelshotels motelstravel agency bureaushotel ...          hanover   \n",
       "4  hotelshotels motelstravel agency bureaushotel ...          hanover   \n",
       "\n",
       "  clean_state                   clean_title  \\\n",
       "0          ca   best romantic vacation ever   \n",
       "1          ca          sweet sweet serenity   \n",
       "2          ca   amazing property experience   \n",
       "3          md  never againbeware want sleep   \n",
       "4          md             always great stay   \n",
       "\n",
       "                                        clean_review  \\\n",
       "0  experience rancho valencia absolutely perfect ...   \n",
       "1  amazing place everyone extremely warm welcomin...   \n",
       "2  booked night stay rancho valencia play tennis ...   \n",
       "3  currently bed writing past hr dog barking sque...   \n",
       "4  live md aloft home away homewe stayed night st...   \n",
       "\n",
       "                   clean_name  \n",
       "0  rancho valencia resort spa  \n",
       "1  rancho valencia resort spa  \n",
       "2  rancho valencia resort spa  \n",
       "3          aloft arundel mill  \n",
       "4          aloft arundel mill  "
      ]
     },
     "execution_count": 45,
     "metadata": {},
     "output_type": "execute_result"
    }
   ],
   "source": [
    "data.head()"
   ]
  },
  {
   "cell_type": "code",
   "execution_count": 46,
   "metadata": {
    "hidden": true
   },
   "outputs": [
    {
     "name": "stderr",
     "output_type": "stream",
     "text": [
      "c:\\users\\njeri\\.venvs\\smart_stay\\lib\\site-packages\\ipykernel\\ipkernel.py:283: DeprecationWarning: `should_run_async` will not call `transform_cell` automatically in the future. Please pass the result to `transformed_cell` argument and any exception that happen during thetransform in `preprocessing_exc_tuple` in IPython 7.17 and above.\n",
      "  and should_run_async(code)\n"
     ]
    },
    {
     "data": {
      "text/html": [
       "<div>\n",
       "<style scoped>\n",
       "    .dataframe tbody tr th:only-of-type {\n",
       "        vertical-align: middle;\n",
       "    }\n",
       "\n",
       "    .dataframe tbody tr th {\n",
       "        vertical-align: top;\n",
       "    }\n",
       "\n",
       "    .dataframe thead th {\n",
       "        text-align: right;\n",
       "    }\n",
       "</style>\n",
       "<table border=\"1\" class=\"dataframe\">\n",
       "  <thead>\n",
       "    <tr style=\"text-align: right;\">\n",
       "      <th></th>\n",
       "      <th>id</th>\n",
       "      <th>latitude</th>\n",
       "      <th>longitude</th>\n",
       "      <th>postalCode</th>\n",
       "      <th>reviews.rating</th>\n",
       "      <th>month</th>\n",
       "      <th>year</th>\n",
       "      <th>visit_season</th>\n",
       "      <th>cat_rating</th>\n",
       "      <th>short_source</th>\n",
       "      <th>clean_categories</th>\n",
       "      <th>clean_city</th>\n",
       "      <th>clean_state</th>\n",
       "      <th>clean_title</th>\n",
       "      <th>clean_review</th>\n",
       "      <th>clean_name</th>\n",
       "    </tr>\n",
       "  </thead>\n",
       "  <tbody>\n",
       "    <tr>\n",
       "      <th>5805</th>\n",
       "      <td>AV48ic48a4HuVbedAUNM</td>\n",
       "      <td>38.89089</td>\n",
       "      <td>-77.073860</td>\n",
       "      <td>22209</td>\n",
       "      <td>5.0</td>\n",
       "      <td>5</td>\n",
       "      <td>2008</td>\n",
       "      <td>spring</td>\n",
       "      <td>great</td>\n",
       "      <td>expedia.com</td>\n",
       "      <td>hotelslodginghotelhotels motel</td>\n",
       "      <td>arlington</td>\n",
       "      <td>va</td>\n",
       "      <td>nice place stay</td>\n",
       "      <td></td>\n",
       "      <td>virginian suite ascend hotel collection member</td>\n",
       "    </tr>\n",
       "    <tr>\n",
       "      <th>6198</th>\n",
       "      <td>AVwd0HO5ByjofQCxsvv8</td>\n",
       "      <td>33.70112</td>\n",
       "      <td>-84.098459</td>\n",
       "      <td>30038</td>\n",
       "      <td>5.0</td>\n",
       "      <td>6</td>\n",
       "      <td>2016</td>\n",
       "      <td>summer</td>\n",
       "      <td>great</td>\n",
       "      <td>hotels.com</td>\n",
       "      <td>hotelhotels</td>\n",
       "      <td>lithonia</td>\n",
       "      <td>ga</td>\n",
       "      <td>nice hotel</td>\n",
       "      <td></td>\n",
       "      <td>hyatt place atlantaeastlithonia</td>\n",
       "    </tr>\n",
       "  </tbody>\n",
       "</table>\n",
       "</div>"
      ],
      "text/plain": [
       "                        id  latitude  longitude postalCode  reviews.rating  \\\n",
       "5805  AV48ic48a4HuVbedAUNM  38.89089 -77.073860      22209             5.0   \n",
       "6198  AVwd0HO5ByjofQCxsvv8  33.70112 -84.098459      30038             5.0   \n",
       "\n",
       "      month  year visit_season cat_rating short_source  \\\n",
       "5805      5  2008       spring      great  expedia.com   \n",
       "6198      6  2016       summer      great   hotels.com   \n",
       "\n",
       "                    clean_categories clean_city clean_state      clean_title  \\\n",
       "5805  hotelslodginghotelhotels motel  arlington          va  nice place stay   \n",
       "6198                     hotelhotels   lithonia          ga       nice hotel   \n",
       "\n",
       "     clean_review                                      clean_name  \n",
       "5805               virginian suite ascend hotel collection member  \n",
       "6198                              hyatt place atlantaeastlithonia  "
      ]
     },
     "execution_count": 46,
     "metadata": {},
     "output_type": "execute_result"
    }
   ],
   "source": [
    "data.loc[data['clean_review'] == '']"
   ]
  },
  {
   "cell_type": "code",
   "execution_count": 47,
   "metadata": {
    "hidden": true
   },
   "outputs": [
    {
     "name": "stderr",
     "output_type": "stream",
     "text": [
      "c:\\users\\njeri\\.venvs\\smart_stay\\lib\\site-packages\\ipykernel\\ipkernel.py:283: DeprecationWarning: `should_run_async` will not call `transform_cell` automatically in the future. Please pass the result to `transformed_cell` argument and any exception that happen during thetransform in `preprocessing_exc_tuple` in IPython 7.17 and above.\n",
      "  and should_run_async(code)\n"
     ]
    },
    {
     "data": {
      "text/plain": [
       "(19995, 16)"
      ]
     },
     "execution_count": 47,
     "metadata": {},
     "output_type": "execute_result"
    }
   ],
   "source": [
    "data = data[data.clean_review != '']\n",
    "data.shape"
   ]
  },
  {
   "cell_type": "code",
   "execution_count": 48,
   "metadata": {
    "hidden": true
   },
   "outputs": [
    {
     "name": "stderr",
     "output_type": "stream",
     "text": [
      "c:\\users\\njeri\\.venvs\\smart_stay\\lib\\site-packages\\ipykernel\\ipkernel.py:283: DeprecationWarning: `should_run_async` will not call `transform_cell` automatically in the future. Please pass the result to `transformed_cell` argument and any exception that happen during thetransform in `preprocessing_exc_tuple` in IPython 7.17 and above.\n",
      "  and should_run_async(code)\n"
     ]
    },
    {
     "data": {
      "text/plain": [
       "1.0"
      ]
     },
     "execution_count": 48,
     "metadata": {},
     "output_type": "execute_result"
    }
   ],
   "source": [
    "test = data.clean_review[0]\n",
    "tokens = word_tokenize(test)\n",
    "length = len(tokens)\n",
    "unique = set(tokens)\n",
    "unique_ct = len(unique)\n",
    "richness = unique_ct/length\n",
    "richness"
   ]
  },
  {
   "cell_type": "code",
   "execution_count": 49,
   "metadata": {
    "hidden": true
   },
   "outputs": [
    {
     "name": "stderr",
     "output_type": "stream",
     "text": [
      "c:\\users\\njeri\\.venvs\\smart_stay\\lib\\site-packages\\ipykernel\\ipkernel.py:283: DeprecationWarning: `should_run_async` will not call `transform_cell` automatically in the future. Please pass the result to `transformed_cell` argument and any exception that happen during thetransform in `preprocessing_exc_tuple` in IPython 7.17 and above.\n",
      "  and should_run_async(code)\n"
     ]
    },
    {
     "data": {
      "text/html": [
       "<div>\n",
       "<style scoped>\n",
       "    .dataframe tbody tr th:only-of-type {\n",
       "        vertical-align: middle;\n",
       "    }\n",
       "\n",
       "    .dataframe tbody tr th {\n",
       "        vertical-align: top;\n",
       "    }\n",
       "\n",
       "    .dataframe thead th {\n",
       "        text-align: right;\n",
       "    }\n",
       "</style>\n",
       "<table border=\"1\" class=\"dataframe\">\n",
       "  <thead>\n",
       "    <tr style=\"text-align: right;\">\n",
       "      <th></th>\n",
       "      <th>id</th>\n",
       "      <th>latitude</th>\n",
       "      <th>longitude</th>\n",
       "      <th>postalCode</th>\n",
       "      <th>reviews.rating</th>\n",
       "      <th>month</th>\n",
       "      <th>year</th>\n",
       "      <th>visit_season</th>\n",
       "      <th>cat_rating</th>\n",
       "      <th>short_source</th>\n",
       "      <th>clean_categories</th>\n",
       "      <th>clean_city</th>\n",
       "      <th>clean_state</th>\n",
       "      <th>clean_title</th>\n",
       "      <th>clean_review</th>\n",
       "      <th>clean_name</th>\n",
       "      <th>review_richness</th>\n",
       "    </tr>\n",
       "  </thead>\n",
       "  <tbody>\n",
       "    <tr>\n",
       "      <th>0</th>\n",
       "      <td>AVwc252WIN2L1WUfpqLP</td>\n",
       "      <td>32.990959</td>\n",
       "      <td>-117.186136</td>\n",
       "      <td>92067</td>\n",
       "      <td>5.0</td>\n",
       "      <td>11</td>\n",
       "      <td>2013</td>\n",
       "      <td>fall</td>\n",
       "      <td>great</td>\n",
       "      <td>hotels.com</td>\n",
       "      <td>hotelshotels motelshotel motel reservationsres...</td>\n",
       "      <td>rancho santa fe</td>\n",
       "      <td>ca</td>\n",
       "      <td>best romantic vacation ever</td>\n",
       "      <td>experience rancho valencia absolutely perfect ...</td>\n",
       "      <td>rancho valencia resort spa</td>\n",
       "      <td>1.000000</td>\n",
       "    </tr>\n",
       "    <tr>\n",
       "      <th>1</th>\n",
       "      <td>AVwc252WIN2L1WUfpqLP</td>\n",
       "      <td>32.990959</td>\n",
       "      <td>-117.186136</td>\n",
       "      <td>92067</td>\n",
       "      <td>5.0</td>\n",
       "      <td>7</td>\n",
       "      <td>2014</td>\n",
       "      <td>summer</td>\n",
       "      <td>great</td>\n",
       "      <td>hotels.com</td>\n",
       "      <td>hotelshotels motelshotel motel reservationsres...</td>\n",
       "      <td>rancho santa fe</td>\n",
       "      <td>ca</td>\n",
       "      <td>sweet sweet serenity</td>\n",
       "      <td>amazing place everyone extremely warm welcomin...</td>\n",
       "      <td>rancho valencia resort spa</td>\n",
       "      <td>0.933333</td>\n",
       "    </tr>\n",
       "    <tr>\n",
       "      <th>2</th>\n",
       "      <td>AVwc252WIN2L1WUfpqLP</td>\n",
       "      <td>32.990959</td>\n",
       "      <td>-117.186136</td>\n",
       "      <td>92067</td>\n",
       "      <td>5.0</td>\n",
       "      <td>1</td>\n",
       "      <td>2015</td>\n",
       "      <td>winter</td>\n",
       "      <td>great</td>\n",
       "      <td>hotels.com</td>\n",
       "      <td>hotelshotels motelshotel motel reservationsres...</td>\n",
       "      <td>rancho santa fe</td>\n",
       "      <td>ca</td>\n",
       "      <td>amazing property experience</td>\n",
       "      <td>booked night stay rancho valencia play tennis ...</td>\n",
       "      <td>rancho valencia resort spa</td>\n",
       "      <td>0.914894</td>\n",
       "    </tr>\n",
       "    <tr>\n",
       "      <th>3</th>\n",
       "      <td>AVwdOclqIN2L1WUfti38</td>\n",
       "      <td>39.155929</td>\n",
       "      <td>-76.716341</td>\n",
       "      <td>21076</td>\n",
       "      <td>2.0</td>\n",
       "      <td>5</td>\n",
       "      <td>2016</td>\n",
       "      <td>spring</td>\n",
       "      <td>not great</td>\n",
       "      <td>tripadvisor.com</td>\n",
       "      <td>hotelshotels motelstravel agency bureaushotel ...</td>\n",
       "      <td>hanover</td>\n",
       "      <td>md</td>\n",
       "      <td>never againbeware want sleep</td>\n",
       "      <td>currently bed writing past hr dog barking sque...</td>\n",
       "      <td>aloft arundel mill</td>\n",
       "      <td>1.000000</td>\n",
       "    </tr>\n",
       "    <tr>\n",
       "      <th>4</th>\n",
       "      <td>AVwdOclqIN2L1WUfti38</td>\n",
       "      <td>39.155929</td>\n",
       "      <td>-76.716341</td>\n",
       "      <td>21076</td>\n",
       "      <td>5.0</td>\n",
       "      <td>7</td>\n",
       "      <td>2016</td>\n",
       "      <td>summer</td>\n",
       "      <td>great</td>\n",
       "      <td>tripadvisor.com</td>\n",
       "      <td>hotelshotels motelstravel agency bureaushotel ...</td>\n",
       "      <td>hanover</td>\n",
       "      <td>md</td>\n",
       "      <td>always great stay</td>\n",
       "      <td>live md aloft home away homewe stayed night st...</td>\n",
       "      <td>aloft arundel mill</td>\n",
       "      <td>1.000000</td>\n",
       "    </tr>\n",
       "  </tbody>\n",
       "</table>\n",
       "</div>"
      ],
      "text/plain": [
       "                     id   latitude   longitude postalCode  reviews.rating  \\\n",
       "0  AVwc252WIN2L1WUfpqLP  32.990959 -117.186136      92067             5.0   \n",
       "1  AVwc252WIN2L1WUfpqLP  32.990959 -117.186136      92067             5.0   \n",
       "2  AVwc252WIN2L1WUfpqLP  32.990959 -117.186136      92067             5.0   \n",
       "3  AVwdOclqIN2L1WUfti38  39.155929  -76.716341      21076             2.0   \n",
       "4  AVwdOclqIN2L1WUfti38  39.155929  -76.716341      21076             5.0   \n",
       "\n",
       "   month  year visit_season cat_rating     short_source  \\\n",
       "0     11  2013         fall      great       hotels.com   \n",
       "1      7  2014       summer      great       hotels.com   \n",
       "2      1  2015       winter      great       hotels.com   \n",
       "3      5  2016       spring  not great  tripadvisor.com   \n",
       "4      7  2016       summer      great  tripadvisor.com   \n",
       "\n",
       "                                    clean_categories       clean_city  \\\n",
       "0  hotelshotels motelshotel motel reservationsres...  rancho santa fe   \n",
       "1  hotelshotels motelshotel motel reservationsres...  rancho santa fe   \n",
       "2  hotelshotels motelshotel motel reservationsres...  rancho santa fe   \n",
       "3  hotelshotels motelstravel agency bureaushotel ...          hanover   \n",
       "4  hotelshotels motelstravel agency bureaushotel ...          hanover   \n",
       "\n",
       "  clean_state                   clean_title  \\\n",
       "0          ca   best romantic vacation ever   \n",
       "1          ca          sweet sweet serenity   \n",
       "2          ca   amazing property experience   \n",
       "3          md  never againbeware want sleep   \n",
       "4          md             always great stay   \n",
       "\n",
       "                                        clean_review  \\\n",
       "0  experience rancho valencia absolutely perfect ...   \n",
       "1  amazing place everyone extremely warm welcomin...   \n",
       "2  booked night stay rancho valencia play tennis ...   \n",
       "3  currently bed writing past hr dog barking sque...   \n",
       "4  live md aloft home away homewe stayed night st...   \n",
       "\n",
       "                   clean_name  review_richness  \n",
       "0  rancho valencia resort spa         1.000000  \n",
       "1  rancho valencia resort spa         0.933333  \n",
       "2  rancho valencia resort spa         0.914894  \n",
       "3          aloft arundel mill         1.000000  \n",
       "4          aloft arundel mill         1.000000  "
      ]
     },
     "execution_count": 49,
     "metadata": {},
     "output_type": "execute_result"
    }
   ],
   "source": [
    "def vocab_richness(text):\n",
    "    tokens = word_tokenize(text)\n",
    "    total_length = len(tokens)\n",
    "    unique_words = set(tokens)\n",
    "    unique_word_length = len(unique_words)\n",
    "    return unique_word_length / total_length\n",
    "\n",
    "data['review_richness'] = data.clean_review.apply(vocab_richness)\n",
    "data.head()"
   ]
  },
  {
   "cell_type": "markdown",
   "metadata": {
    "heading_collapsed": true
   },
   "source": [
    "## Machine Learning Methods\n",
    "✅ vectorize with Tfidf Vectorizer (tune max_df, min_df, max_features, ngram_range) <br>\n",
    "✅ create pipeline to tune vectorizer and Multinomial Naive Bayes (tune nb_alpha) algorithm together <br>\n",
    "✅ establish baseline evaluation using DummyClassifier (use accuracy as metric) <br>\n",
    "✅ use cross-validation, especially due to imbalance in data (mostly good reviews) <br>\n",
    "✅ visualize reviews text with a word cloud as a baseline for LDA <br>\n",
    "✅ train an LDA model to extract potential topics <br>\n",
    "✅ create visualization of extracted topics <br>\n"
   ]
  },
  {
   "cell_type": "markdown",
   "metadata": {
    "hidden": true
   },
   "source": [
    "### Multinomial Naive Bayes"
   ]
  },
  {
   "cell_type": "code",
   "execution_count": 50,
   "metadata": {
    "hidden": true
   },
   "outputs": [
    {
     "name": "stderr",
     "output_type": "stream",
     "text": [
      "c:\\users\\njeri\\.venvs\\smart_stay\\lib\\site-packages\\ipykernel\\ipkernel.py:283: DeprecationWarning: `should_run_async` will not call `transform_cell` automatically in the future. Please pass the result to `transformed_cell` argument and any exception that happen during thetransform in `preprocessing_exc_tuple` in IPython 7.17 and above.\n",
      "  and should_run_async(code)\n"
     ]
    },
    {
     "data": {
      "text/plain": [
       "Index(['id', 'latitude', 'longitude', 'postalCode', 'reviews.rating', 'month',\n",
       "       'year', 'visit_season', 'cat_rating', 'short_source',\n",
       "       'clean_categories', 'clean_city', 'clean_state', 'clean_title',\n",
       "       'clean_review', 'clean_name', 'review_richness'],\n",
       "      dtype='object')"
      ]
     },
     "execution_count": 50,
     "metadata": {},
     "output_type": "execute_result"
    }
   ],
   "source": [
    "data.columns"
   ]
  },
  {
   "cell_type": "code",
   "execution_count": 51,
   "metadata": {
    "hidden": true
   },
   "outputs": [
    {
     "name": "stderr",
     "output_type": "stream",
     "text": [
      "c:\\users\\njeri\\.venvs\\smart_stay\\lib\\site-packages\\ipykernel\\ipkernel.py:283: DeprecationWarning: `should_run_async` will not call `transform_cell` automatically in the future. Please pass the result to `transformed_cell` argument and any exception that happen during thetransform in `preprocessing_exc_tuple` in IPython 7.17 and above.\n",
      "  and should_run_async(code)\n"
     ]
    }
   ],
   "source": [
    "# text_features = ['short_source', 'visit_season', 'clean_categories', 'clean_city', 'clean_state', 'clean_title', \\\n",
    "#                  'clean_review', 'clean_name']\n",
    "X = data.clean_review\n",
    "y = data.cat_rating"
   ]
  },
  {
   "cell_type": "code",
   "execution_count": 52,
   "metadata": {
    "hidden": true
   },
   "outputs": [
    {
     "name": "stdout",
     "output_type": "stream",
     "text": [
      "<class 'pandas.core.frame.DataFrame'>\n",
      "Int64Index: 19995 entries, 0 to 19999\n",
      "Data columns (total 17 columns):\n",
      " #   Column            Non-Null Count  Dtype  \n",
      "---  ------            --------------  -----  \n",
      " 0   id                19995 non-null  object \n",
      " 1   latitude          19995 non-null  float64\n",
      " 2   longitude         19995 non-null  float64\n",
      " 3   postalCode        19995 non-null  object \n",
      " 4   reviews.rating    19995 non-null  float64\n",
      " 5   month             19995 non-null  int64  \n",
      " 6   year              19995 non-null  int64  \n",
      " 7   visit_season      19995 non-null  object \n",
      " 8   cat_rating        19995 non-null  object \n",
      " 9   short_source      19995 non-null  object \n",
      " 10  clean_categories  19995 non-null  object \n",
      " 11  clean_city        19995 non-null  object \n",
      " 12  clean_state       19995 non-null  object \n",
      " 13  clean_title       19995 non-null  object \n",
      " 14  clean_review      19995 non-null  object \n",
      " 15  clean_name        19995 non-null  object \n",
      " 16  review_richness   19995 non-null  float64\n",
      "dtypes: float64(4), int64(2), object(11)\n",
      "memory usage: 3.2+ MB\n"
     ]
    },
    {
     "name": "stderr",
     "output_type": "stream",
     "text": [
      "c:\\users\\njeri\\.venvs\\smart_stay\\lib\\site-packages\\ipykernel\\ipkernel.py:283: DeprecationWarning: `should_run_async` will not call `transform_cell` automatically in the future. Please pass the result to `transformed_cell` argument and any exception that happen during thetransform in `preprocessing_exc_tuple` in IPython 7.17 and above.\n",
      "  and should_run_async(code)\n"
     ]
    }
   ],
   "source": [
    "data.info()"
   ]
  },
  {
   "cell_type": "code",
   "execution_count": 53,
   "metadata": {
    "hidden": true,
    "scrolled": false
   },
   "outputs": [
    {
     "name": "stderr",
     "output_type": "stream",
     "text": [
      "c:\\users\\njeri\\.venvs\\smart_stay\\lib\\site-packages\\ipykernel\\ipkernel.py:283: DeprecationWarning: `should_run_async` will not call `transform_cell` automatically in the future. Please pass the result to `transformed_cell` argument and any exception that happen during thetransform in `preprocessing_exc_tuple` in IPython 7.17 and above.\n",
      "  and should_run_async(code)\n"
     ]
    },
    {
     "name": "stdout",
     "output_type": "stream",
     "text": [
      "Fitting 5 folds for each of 243 candidates, totalling 1215 fits\n"
     ]
    },
    {
     "name": "stderr",
     "output_type": "stream",
     "text": [
      "c:\\users\\njeri\\.venvs\\smart_stay\\lib\\site-packages\\sklearn\\model_selection\\_search.py:921: UserWarning: One or more of the test scores are non-finite: [0.49077269        nan        nan 0.48762191        nan        nan\n",
      " 0.48257064        nan        nan 0.50702676        nan        nan\n",
      " 0.48762191        nan        nan 0.48257064        nan        nan\n",
      " 0.51022756        nan        nan 0.48762191        nan        nan\n",
      " 0.48257064        nan        nan 0.49077269        nan        nan\n",
      " 0.48762191        nan        nan 0.48257064        nan        nan\n",
      " 0.50702676        nan        nan 0.48762191        nan        nan\n",
      " 0.48257064        nan        nan 0.51022756        nan        nan\n",
      " 0.48762191        nan        nan 0.48257064        nan        nan\n",
      " 0.49077269        nan        nan 0.48762191        nan        nan\n",
      " 0.48257064        nan        nan 0.50702676        nan        nan\n",
      " 0.48762191        nan        nan 0.48257064        nan        nan\n",
      " 0.51022756        nan        nan 0.48762191        nan        nan\n",
      " 0.48257064        nan        nan 0.49072268        nan        nan\n",
      " 0.48762191        nan        nan 0.48242061        nan        nan\n",
      " 0.50712678        nan        nan 0.48762191        nan        nan\n",
      " 0.48242061        nan        nan 0.51017754        nan        nan\n",
      " 0.48762191        nan        nan 0.48242061        nan        nan\n",
      " 0.49072268        nan        nan 0.48762191        nan        nan\n",
      " 0.48242061        nan        nan 0.50712678        nan        nan\n",
      " 0.48762191        nan        nan 0.48242061        nan        nan\n",
      " 0.51017754        nan        nan 0.48762191        nan        nan\n",
      " 0.48242061        nan        nan 0.49072268        nan        nan\n",
      " 0.48762191        nan        nan 0.48242061        nan        nan\n",
      " 0.50712678        nan        nan 0.48762191        nan        nan\n",
      " 0.48242061        nan        nan 0.51017754        nan        nan\n",
      " 0.48762191        nan        nan 0.48242061        nan        nan\n",
      " 0.49072268        nan        nan 0.48757189        nan        nan\n",
      " 0.48242061        nan        nan 0.50717679        nan        nan\n",
      " 0.48757189        nan        nan 0.48242061        nan        nan\n",
      " 0.51017754        nan        nan 0.48757189        nan        nan\n",
      " 0.48242061        nan        nan 0.49072268        nan        nan\n",
      " 0.48757189        nan        nan 0.48242061        nan        nan\n",
      " 0.50717679        nan        nan 0.48757189        nan        nan\n",
      " 0.48242061        nan        nan 0.51017754        nan        nan\n",
      " 0.48757189        nan        nan 0.48242061        nan        nan\n",
      " 0.49072268        nan        nan 0.48757189        nan        nan\n",
      " 0.48242061        nan        nan 0.50717679        nan        nan\n",
      " 0.48757189        nan        nan 0.48242061        nan        nan\n",
      " 0.51017754        nan        nan 0.48757189        nan        nan\n",
      " 0.48242061        nan        nan]\n",
      "  category=UserWarning\n"
     ]
    },
    {
     "name": "stdout",
     "output_type": "stream",
     "text": [
      "Wall time: 8min 41s\n"
     ]
    },
    {
     "data": {
      "text/plain": [
       "GridSearchCV(cv=5,\n",
       "             estimator=Pipeline(steps=[('tfidf', TfidfVectorizer()),\n",
       "                                       ('nb', MultinomialNB())]),\n",
       "             n_jobs=-1,\n",
       "             param_grid={'nb__alpha': (0.1, 0.5, 1),\n",
       "                         'tfidf__max_df': (0.7, 0.8, 0.9),\n",
       "                         'tfidf__max_features': (20, 30, 40),\n",
       "                         'tfidf__min_df': (0.1, 0.2, 0.3),\n",
       "                         'tfidf__ngram_range': ((1, 1), (2, 2), (3, 3))},\n",
       "             scoring='accuracy', verbose=1)"
      ]
     },
     "execution_count": 53,
     "metadata": {},
     "output_type": "execute_result"
    }
   ],
   "source": [
    "%%time\n",
    "# Create Pipeline\n",
    "pipeline = Pipeline([\n",
    "    ('tfidf', TfidfVectorizer()),\n",
    "    ('nb', MultinomialNB()),\n",
    "])\n",
    "\n",
    "# Set parameters to search\n",
    "parameters = {\n",
    "    'tfidf__ngram_range': ((1,1), (2,2), (3,3)),\n",
    "    'tfidf__max_df':(0.7, 0.8, 0.9),\n",
    "    'tfidf__min_df': (0.1, 0.2, 0.3),\n",
    "    'tfidf__max_features': (20, 30, 40),\n",
    "    'nb__alpha': (0.1, 0.5, 1)}\n",
    "\n",
    "# Perform grid search\n",
    "grid_search = GridSearchCV(pipeline, parameters, n_jobs=-1, \n",
    "                           verbose=1, scoring = \"accuracy\", \n",
    "                           refit=True, cv=5)\n",
    "\n",
    "grid_search.fit(X, y)"
   ]
  },
  {
   "cell_type": "code",
   "execution_count": 54,
   "metadata": {
    "hidden": true
   },
   "outputs": [
    {
     "name": "stderr",
     "output_type": "stream",
     "text": [
      "c:\\users\\njeri\\.venvs\\smart_stay\\lib\\site-packages\\ipykernel\\ipkernel.py:283: DeprecationWarning: `should_run_async` will not call `transform_cell` automatically in the future. Please pass the result to `transformed_cell` argument and any exception that happen during thetransform in `preprocessing_exc_tuple` in IPython 7.17 and above.\n",
      "  and should_run_async(code)\n"
     ]
    },
    {
     "data": {
      "text/plain": [
       "{'nb__alpha': 0.1,\n",
       " 'tfidf__max_df': 0.7,\n",
       " 'tfidf__max_features': 40,\n",
       " 'tfidf__min_df': 0.1,\n",
       " 'tfidf__ngram_range': (1, 1)}"
      ]
     },
     "execution_count": 54,
     "metadata": {},
     "output_type": "execute_result"
    }
   ],
   "source": [
    "grid_search.best_params_"
   ]
  },
  {
   "cell_type": "code",
   "execution_count": 55,
   "metadata": {
    "hidden": true
   },
   "outputs": [
    {
     "name": "stderr",
     "output_type": "stream",
     "text": [
      "c:\\users\\njeri\\.venvs\\smart_stay\\lib\\site-packages\\ipykernel\\ipkernel.py:283: DeprecationWarning: `should_run_async` will not call `transform_cell` automatically in the future. Please pass the result to `transformed_cell` argument and any exception that happen during thetransform in `preprocessing_exc_tuple` in IPython 7.17 and above.\n",
      "  and should_run_async(code)\n"
     ]
    },
    {
     "data": {
      "text/plain": [
       "0.5102275568892223"
      ]
     },
     "execution_count": 55,
     "metadata": {},
     "output_type": "execute_result"
    }
   ],
   "source": [
    "grid_search.best_score_"
   ]
  },
  {
   "cell_type": "code",
   "execution_count": 56,
   "metadata": {
    "hidden": true
   },
   "outputs": [
    {
     "name": "stdout",
     "output_type": "stream",
     "text": [
      "Fitting 5 folds for each of 9 candidates, totalling 45 fits\n"
     ]
    },
    {
     "name": "stderr",
     "output_type": "stream",
     "text": [
      "c:\\users\\njeri\\.venvs\\smart_stay\\lib\\site-packages\\ipykernel\\ipkernel.py:283: DeprecationWarning: `should_run_async` will not call `transform_cell` automatically in the future. Please pass the result to `transformed_cell` argument and any exception that happen during thetransform in `preprocessing_exc_tuple` in IPython 7.17 and above.\n",
      "  and should_run_async(code)\n"
     ]
    },
    {
     "name": "stdout",
     "output_type": "stream",
     "text": [
      "Wall time: 11.7 s\n"
     ]
    },
    {
     "data": {
      "text/plain": [
       "GridSearchCV(cv=5,\n",
       "             estimator=Pipeline(steps=[('tfidf', TfidfVectorizer()),\n",
       "                                       ('nb', MultinomialNB())]),\n",
       "             n_jobs=-1,\n",
       "             param_grid={'nb__alpha': [0.1], 'tfidf__max_df': (0.5, 0.6, 0.7),\n",
       "                         'tfidf__max_features': (40, 50, 60),\n",
       "                         'tfidf__min_df': [0.1],\n",
       "                         'tfidf__ngram_range': [(1, 1)]},\n",
       "             scoring='accuracy', verbose=1)"
      ]
     },
     "execution_count": 56,
     "metadata": {},
     "output_type": "execute_result"
    }
   ],
   "source": [
    "%%time\n",
    "# Tune grid search\n",
    "\n",
    "parameters_2 = {\n",
    "    'tfidf__ngram_range': [(1,1)],\n",
    "    'tfidf__max_df':(0.5, 0.6, 0.7),\n",
    "    'tfidf__min_df': [0.1],\n",
    "    'tfidf__max_features': (40, 50, 60),\n",
    "    'nb__alpha': [0.1]}\n",
    "\n",
    "# Perform grid search\n",
    "grid_search_2 = GridSearchCV(pipeline, parameters_2, n_jobs=-1, \n",
    "                           verbose=1, scoring = \"accuracy\", \n",
    "                           refit=True, cv=5)\n",
    "\n",
    "grid_search_2.fit(X, y)"
   ]
  },
  {
   "cell_type": "code",
   "execution_count": 57,
   "metadata": {
    "hidden": true
   },
   "outputs": [
    {
     "name": "stderr",
     "output_type": "stream",
     "text": [
      "c:\\users\\njeri\\.venvs\\smart_stay\\lib\\site-packages\\ipykernel\\ipkernel.py:283: DeprecationWarning: `should_run_async` will not call `transform_cell` automatically in the future. Please pass the result to `transformed_cell` argument and any exception that happen during thetransform in `preprocessing_exc_tuple` in IPython 7.17 and above.\n",
      "  and should_run_async(code)\n"
     ]
    },
    {
     "data": {
      "text/plain": [
       "{'nb__alpha': 0.1,\n",
       " 'tfidf__max_df': 0.7,\n",
       " 'tfidf__max_features': 50,\n",
       " 'tfidf__min_df': 0.1,\n",
       " 'tfidf__ngram_range': (1, 1)}"
      ]
     },
     "execution_count": 57,
     "metadata": {},
     "output_type": "execute_result"
    }
   ],
   "source": [
    "grid_search_2.best_params_"
   ]
  },
  {
   "cell_type": "code",
   "execution_count": 58,
   "metadata": {
    "hidden": true
   },
   "outputs": [
    {
     "name": "stderr",
     "output_type": "stream",
     "text": [
      "c:\\users\\njeri\\.venvs\\smart_stay\\lib\\site-packages\\ipykernel\\ipkernel.py:283: DeprecationWarning: `should_run_async` will not call `transform_cell` automatically in the future. Please pass the result to `transformed_cell` argument and any exception that happen during thetransform in `preprocessing_exc_tuple` in IPython 7.17 and above.\n",
      "  and should_run_async(code)\n"
     ]
    },
    {
     "data": {
      "text/plain": [
       "0.5108277069267316"
      ]
     },
     "execution_count": 58,
     "metadata": {},
     "output_type": "execute_result"
    }
   ],
   "source": [
    "grid_search_2.best_score_"
   ]
  },
  {
   "cell_type": "code",
   "execution_count": 59,
   "metadata": {
    "hidden": true
   },
   "outputs": [
    {
     "name": "stderr",
     "output_type": "stream",
     "text": [
      "c:\\users\\njeri\\.venvs\\smart_stay\\lib\\site-packages\\ipykernel\\ipkernel.py:283: DeprecationWarning: `should_run_async` will not call `transform_cell` automatically in the future. Please pass the result to `transformed_cell` argument and any exception that happen during thetransform in `preprocessing_exc_tuple` in IPython 7.17 and above.\n",
      "  and should_run_async(code)\n"
     ]
    },
    {
     "data": {
      "text/plain": [
       "array(['great'], dtype='<U9')"
      ]
     },
     "execution_count": 59,
     "metadata": {},
     "output_type": "execute_result"
    }
   ],
   "source": [
    "# check with a 4-star review\n",
    "\n",
    "review = [['This is a great way to get around Hakone. It is included in the Hakone Freepass so why not? On a clear day, it also offers great views of the mountains.']]\n",
    "review_df = pd.DataFrame(data=review)\n",
    "proc_text(review_df, 'clean_review', 0)\n",
    "grid_search_2.predict(review_df.clean_review)"
   ]
  },
  {
   "cell_type": "code",
   "execution_count": 60,
   "metadata": {
    "hidden": true
   },
   "outputs": [
    {
     "name": "stderr",
     "output_type": "stream",
     "text": [
      "c:\\users\\njeri\\.venvs\\smart_stay\\lib\\site-packages\\ipykernel\\ipkernel.py:283: DeprecationWarning: `should_run_async` will not call `transform_cell` automatically in the future. Please pass the result to `transformed_cell` argument and any exception that happen during thetransform in `preprocessing_exc_tuple` in IPython 7.17 and above.\n",
      "  and should_run_async(code)\n"
     ]
    },
    {
     "data": {
      "text/plain": [
       "array(['great'], dtype='<U9')"
      ]
     },
     "execution_count": 60,
     "metadata": {},
     "output_type": "execute_result"
    }
   ],
   "source": [
    "# check with a 2-star review\n",
    "\n",
    "review_2 = [['So I know that when you eat at a diner you are going to get greasy food, but this had way too much grease. We may have just gone on a bad day but the hashbrowns were so greasy that they were soggy (versus crispy), and the scrambled eggs managed to somehow be both undercooked and overly greasy. The only thing that gave this place 2 stars instead of 1 is that our server was great.']]\n",
    "review_2_df = pd.DataFrame(data=review_2)\n",
    "proc_text(review_2_df, 'clean_review', 0)\n",
    "grid_search_2.predict(review_2_df.clean_review)"
   ]
  },
  {
   "cell_type": "code",
   "execution_count": 61,
   "metadata": {
    "hidden": true
   },
   "outputs": [
    {
     "name": "stderr",
     "output_type": "stream",
     "text": [
      "c:\\users\\njeri\\.venvs\\smart_stay\\lib\\site-packages\\ipykernel\\ipkernel.py:283: DeprecationWarning: `should_run_async` will not call `transform_cell` automatically in the future. Please pass the result to `transformed_cell` argument and any exception that happen during thetransform in `preprocessing_exc_tuple` in IPython 7.17 and above.\n",
      "  and should_run_async(code)\n"
     ]
    },
    {
     "data": {
      "text/plain": [
       "array(['good'], dtype='<U9')"
      ]
     },
     "execution_count": 61,
     "metadata": {},
     "output_type": "execute_result"
    }
   ],
   "source": [
    "# 1-star review\n",
    "\n",
    "review_3 = [['The waiters/waitresses seemed to hate their jobs and made it unpleasant to eat/be here. My sandwich wasn’t good, Denver Melt. My husband’s sausage sandwich was tasty. Just disappointed as the ratings were good - definitely not.']]\n",
    "review_3_df = pd.DataFrame(data=review_3)\n",
    "proc_text(review_3_df, 'clean_review', 0)\n",
    "grid_search_2.predict(review_3_df.clean_review)"
   ]
  },
  {
   "cell_type": "markdown",
   "metadata": {
    "hidden": true
   },
   "source": [
    "### Baseline evaluation"
   ]
  },
  {
   "cell_type": "code",
   "execution_count": 70,
   "metadata": {
    "hidden": true
   },
   "outputs": [
    {
     "name": "stderr",
     "output_type": "stream",
     "text": [
      "c:\\users\\njeri\\.venvs\\smart_stay\\lib\\site-packages\\ipykernel\\ipkernel.py:283: DeprecationWarning: `should_run_async` will not call `transform_cell` automatically in the future. Please pass the result to `transformed_cell` argument and any exception that happen during thetransform in `preprocessing_exc_tuple` in IPython 7.17 and above.\n",
      "  and should_run_async(code)\n"
     ]
    },
    {
     "name": "stdout",
     "output_type": "stream",
     "text": [
      "Fitting 5 folds for each of 3 candidates, totalling 15 fits\n",
      "Wall time: 5.34 s\n"
     ]
    },
    {
     "data": {
      "text/plain": [
       "GridSearchCV(cv=5,\n",
       "             estimator=Pipeline(steps=[('tfidf',\n",
       "                                        TfidfVectorizer(max_df=0.7,\n",
       "                                                        max_features=50,\n",
       "                                                        min_df=0.1)),\n",
       "                                       ('dc', DummyClassifier())]),\n",
       "             n_jobs=-1,\n",
       "             param_grid={'dc__strategy': ['stratified', 'most_frequent',\n",
       "                                          'prior']},\n",
       "             scoring='accuracy', verbose=1)"
      ]
     },
     "execution_count": 70,
     "metadata": {},
     "output_type": "execute_result"
    }
   ],
   "source": [
    "%%time\n",
    "\n",
    "pipeline_bl = Pipeline([\n",
    "    ('tfidf', TfidfVectorizer(max_df=0.7, max_features=50, min_df=0.1, ngram_range=(1,1))),\n",
    "    ('dc', DummyClassifier()),\n",
    "])\n",
    "\n",
    "parameters_bl = {\n",
    "    'dc__strategy': ['stratified', 'most_frequent', 'prior']\n",
    "}\n",
    "\n",
    "grid_search_bl = GridSearchCV(pipeline_bl, parameters_bl, n_jobs=-1, \n",
    "                           verbose=1, scoring = \"accuracy\", \n",
    "                           refit=True, cv=5)\n",
    "\n",
    "grid_search_bl.fit(X, y)"
   ]
  },
  {
   "cell_type": "code",
   "execution_count": 71,
   "metadata": {
    "hidden": true
   },
   "outputs": [
    {
     "name": "stderr",
     "output_type": "stream",
     "text": [
      "c:\\users\\njeri\\.venvs\\smart_stay\\lib\\site-packages\\ipykernel\\ipkernel.py:283: DeprecationWarning: `should_run_async` will not call `transform_cell` automatically in the future. Please pass the result to `transformed_cell` argument and any exception that happen during thetransform in `preprocessing_exc_tuple` in IPython 7.17 and above.\n",
      "  and should_run_async(code)\n"
     ]
    },
    {
     "data": {
      "text/plain": [
       "{'dc__strategy': 'most_frequent'}"
      ]
     },
     "execution_count": 71,
     "metadata": {},
     "output_type": "execute_result"
    }
   ],
   "source": [
    "grid_search_bl.best_params_"
   ]
  },
  {
   "cell_type": "code",
   "execution_count": 72,
   "metadata": {
    "hidden": true
   },
   "outputs": [
    {
     "name": "stderr",
     "output_type": "stream",
     "text": [
      "c:\\users\\njeri\\.venvs\\smart_stay\\lib\\site-packages\\ipykernel\\ipkernel.py:283: DeprecationWarning: `should_run_async` will not call `transform_cell` automatically in the future. Please pass the result to `transformed_cell` argument and any exception that happen during thetransform in `preprocessing_exc_tuple` in IPython 7.17 and above.\n",
      "  and should_run_async(code)\n"
     ]
    },
    {
     "data": {
      "text/plain": [
       "0.46116529132283074"
      ]
     },
     "execution_count": 72,
     "metadata": {},
     "output_type": "execute_result"
    }
   ],
   "source": [
    "grid_search_bl.best_score_"
   ]
  },
  {
   "cell_type": "code",
   "execution_count": 65,
   "metadata": {
    "hidden": true
   },
   "outputs": [
    {
     "name": "stdout",
     "output_type": "stream",
     "text": [
      "4-star result: ['great']\n",
      "2-star result: ['great']\n",
      "1-star result: ['great']\n"
     ]
    },
    {
     "name": "stderr",
     "output_type": "stream",
     "text": [
      "c:\\users\\njeri\\.venvs\\smart_stay\\lib\\site-packages\\ipykernel\\ipkernel.py:283: DeprecationWarning: `should_run_async` will not call `transform_cell` automatically in the future. Please pass the result to `transformed_cell` argument and any exception that happen during thetransform in `preprocessing_exc_tuple` in IPython 7.17 and above.\n",
      "  and should_run_async(code)\n"
     ]
    }
   ],
   "source": [
    "print(f'4-star result: {grid_search_bl.predict(review_df.clean_review)}')\n",
    "print(f'2-star result: {grid_search_bl.predict(review_2_df.clean_review)}')\n",
    "print(f'1-star result: {grid_search_bl.predict(review_3_df.clean_review)}')"
   ]
  },
  {
   "cell_type": "markdown",
   "metadata": {
    "hidden": true
   },
   "source": [
    "-----------------------------------------------------\n",
    "\n",
    "*Multinomial Naive Bayes is slightly better than the Dummy Classifier on accuracy score and neither does well on predicting ratings from new reviews. Try LDA to see topics can be allocated from the data*\n",
    "\n",
    "-----------------------------------------------------"
   ]
  },
  {
   "cell_type": "markdown",
   "metadata": {
    "hidden": true
   },
   "source": [
    "### Latent Dirichlet Allocation"
   ]
  },
  {
   "cell_type": "code",
   "execution_count": 102,
   "metadata": {
    "hidden": true
   },
   "outputs": [
    {
     "data": {
      "image/png": "[encoded data removed]",
      "text/plain": [
       "<PIL.Image.Image image mode=RGB size=400x200 at 0x20862E93C48>"
      ]
     },
     "execution_count": 102,
     "metadata": {},
     "output_type": "execute_result"
    }
   ],
   "source": [
    "# Generate word cloud\n",
    "\n",
    "# Join the different processed reviews together.\n",
    "long_string = ' '.join(list(data['clean_review'].values))\n",
    "\n",
    "wordcloud = WordCloud(background_color=\"white\", max_words=5000, contour_width=3, contour_color='steelblue')\n",
    "wordcloud.generate(long_string)\n",
    "wordcloud.to_file('visualizations/review_cloud.png')\n",
    "wordcloud.to_image()"
   ]
  },
  {
   "cell_type": "code",
   "execution_count": 97,
   "metadata": {
    "hidden": true
   },
   "outputs": [
    {
     "name": "stderr",
     "output_type": "stream",
     "text": [
      "c:\\users\\njeri\\.venvs\\smart_stay\\lib\\site-packages\\ipykernel\\ipkernel.py:283: DeprecationWarning: `should_run_async` will not call `transform_cell` automatically in the future. Please pass the result to `transformed_cell` argument and any exception that happen during thetransform in `preprocessing_exc_tuple` in IPython 7.17 and above.\n",
      "  and should_run_async(code)\n"
     ]
    },
    {
     "name": "stdout",
     "output_type": "stream",
     "text": [
      "[(10938, 1)]\n"
     ]
    }
   ],
   "source": [
    "# Tokenize words\n",
    "text = word_tokenize(long_string)\n",
    "\n",
    "# Create Dictionary\n",
    "id2word = corpora.Dictionary([text])\n",
    "\n",
    "# Term Document Frequency\n",
    "corpus = [id2word.doc2bow([word]) for word in text]\n",
    "\n",
    "# View\n",
    "print(corpus[:1][0][:30])"
   ]
  },
  {
   "cell_type": "code",
   "execution_count": 100,
   "metadata": {
    "hidden": true
   },
   "outputs": [
    {
     "name": "stdout",
     "output_type": "stream",
     "text": [
      "[(0,\n",
      "  '0.046*\"like\" + 0.043*\"thank\" + 0.042*\"also\" + 0.031*\"make\" + 0.026*\"floor\" '\n",
      "  '+ 0.026*\"trip\" + 0.020*\"thing\" + 0.016*\"spacious\" + 0.015*\"issue\" + '\n",
      "  '0.014*\"recent\"'),\n",
      " (1,\n",
      "  '0.241*\"room\" + 0.109*\"staff\" + 0.021*\"two\" + 0.020*\"suite\" + '\n",
      "  '0.020*\"manager\" + 0.018*\"glad\" + 0.016*\"business\" + 0.015*\"hot\" + '\n",
      "  '0.015*\"downtown\" + 0.015*\"found\"'),\n",
      " (2,\n",
      "  '0.045*\"place\" + 0.043*\"comfortable\" + 0.038*\"get\" + 0.036*\"review\" + '\n",
      "  '0.034*\"restaurant\" + 0.027*\"inn\" + 0.025*\"small\" + 0.022*\"lot\" + '\n",
      "  '0.022*\"little\" + 0.021*\"property\"'),\n",
      " (3,\n",
      "  '0.223*\"hotel\" + 0.038*\"well\" + 0.033*\"pool\" + 0.026*\"could\" + 0.022*\"right\" '\n",
      "  '+ 0.021*\"always\" + 0.020*\"walk\" + 0.019*\"happy\" + 0.019*\"door\" + '\n",
      "  '0.019*\"walking\"'),\n",
      " (4,\n",
      "  '0.079*\"nice\" + 0.072*\"would\" + 0.058*\"friendly\" + 0.042*\"day\" + '\n",
      "  '0.042*\"guest\" + 0.026*\"visit\" + 0.023*\"go\" + 0.019*\"got\" + 0.019*\"forward\" '\n",
      "  '+ 0.018*\"way\"'),\n",
      " (5,\n",
      "  '0.105*\"great\" + 0.075*\"time\" + 0.066*\"good\" + 0.036*\"next\" + '\n",
      "  '0.030*\"enjoyed\" + 0.026*\"close\" + 0.022*\"family\" + 0.022*\"taking\" + '\n",
      "  '0.021*\"wonderful\" + 0.019*\"food\"'),\n",
      " (6,\n",
      "  '0.067*\"location\" + 0.059*\"night\" + 0.039*\"front\" + 0.035*\"helpful\" + '\n",
      "  '0.032*\"best\" + 0.031*\"parking\" + 0.027*\"see\" + 0.025*\"new\" + '\n",
      "  '0.023*\"bathroom\" + 0.023*\"didnt\"'),\n",
      " (7,\n",
      "  '0.052*\"stayed\" + 0.052*\"one\" + 0.046*\"bed\" + 0.036*\"desk\" + '\n",
      "  '0.034*\"experience\" + 0.028*\"hope\" + 0.026*\"really\" + 0.024*\"need\" + '\n",
      "  '0.022*\"staying\" + 0.021*\"everything\"'),\n",
      " (8,\n",
      "  '0.087*\"clean\" + 0.055*\"service\" + 0.053*\"area\" + 0.046*\"back\" + '\n",
      "  '0.030*\"much\" + 0.023*\"feedback\" + 0.022*\"made\" + 0.020*\"morning\" + '\n",
      "  '0.020*\"every\" + 0.020*\"san\"'),\n",
      " (9,\n",
      "  '0.140*\"stay\" + 0.094*\"u\" + 0.081*\"breakfast\" + 0.029*\"free\" + 0.024*\"look\" '\n",
      "  '+ 0.023*\"price\" + 0.022*\"hear\" + 0.018*\"definitely\" + 0.016*\"take\" + '\n",
      "  '0.016*\"work\"')]\n"
     ]
    }
   ],
   "source": [
    "# number of topics\n",
    "num_topics = 10\n",
    "\n",
    "# Build LDA model\n",
    "lda_model = gensim.models.LdaMulticore(corpus=corpus,\n",
    "                                       id2word=id2word,\n",
    "                                       num_topics=num_topics)\n",
    "\n",
    "# Print the Keyword in the 10 topics\n",
    "pprint(lda_model.print_topics())\n",
    "doc_lda = lda_model[corpus]"
   ]
  },
  {
   "cell_type": "markdown",
   "metadata": {
    "hidden": true
   },
   "source": [
    "----------------------------------------------\n",
    "\n",
    "#### LDA Visualization with [pyLDAvis](https://pyldavis.readthedocs.io/en/latest/readme.html)\n",
    "\n",
    "- Intertopic Distance Map shows how topics are related to each other\n",
    "- Top-30 Most Salient terms provides most frequent/relevant terms within a topic. Since LDA is unsupervised, \\\n",
    "    this list can help with drawing meaning or context from a topic\n",
    "- More about LDA topic modeling [here](https://towardsdatascience.com/end-to-end-topic-modeling-in-python-latent-dirichlet-allocation-lda-35ce4ed6b3e0)\n",
    "    \n",
    "------------------------------------------------"
   ]
  },
  {
   "cell_type": "code",
   "execution_count": 106,
   "metadata": {
    "hidden": true
   },
   "outputs": [
    {
     "data": {
      "text/html": [
       "\n",
       "<link rel=\"stylesheet\" type=\"text/css\" href=\"https://cdn.rawgit.com/bmabey/pyLDAvis/files/ldavis.v1.0.0.css\">\n",
       "\n",
       "\n",
       "<div id=\"ldavis_el1064022355964391128092294022\"></div>\n",
       "<script type=\"text/javascript\">\n",
       "\n",
       "var ldavis_el1064022355964391128092294022_data = {\"mdsDat\": {\"x\": [0.2240667232675905, -0.010636556228159663, -0.23214855869114864, 0.1649018753835193, -0.19683460501381153, 0.06743722910405482, 0.17308668544484568, -0.0489461823789886, -0.10399244865167696, -0.03693416223622484], \"y\": [0.22139300777261198, -0.23217366472654727, 0.17479763294191292, 0.12725643514149834, -0.002970585580840389, -0.13901633400864968, -0.16512780381865824, 0.10368835996067796, -0.1002119034725389, 0.012364855790533627], \"topics\": [1, 2, 3, 4, 5, 6, 7, 8, 9, 10], \"cluster\": [1, 1, 1, 1, 1, 1, 1, 1, 1, 1], \"Freq\": [10.373380954769905, 10.31691971626454, 10.299174503707999, 10.212157636032547, 10.179623487224534, 9.986671739387056, 9.977285833319966, 9.701702048381367, 9.695295951457963, 9.257788129454129]}, \"tinfo\": {\"Term\": [\"room\", \"hotel\", \"stay\", \"staff\", \"great\", \"u\", \"clean\", \"breakfast\", \"nice\", \"time\", \"would\", \"location\", \"good\", \"night\", \"friendly\", \"service\", \"stayed\", \"one\", \"area\", \"bed\", \"back\", \"place\", \"like\", \"comfortable\", \"thank\", \"day\", \"guest\", \"also\", \"well\", \"front\", \"outside\", \"found\", \"complimentary\", \"however\", \"manager\", \"shuttle\", \"else\", \"kid\", \"glad\", \"although\", \"expectation\", \"highway\", \"downtown\", \"never\", \"experienced\", \"fact\", \"two\", \"business\", \"room\", \"wedding\", \"online\", \"share\", \"dirty\", \"ago\", \"far\", \"transportation\", \"star\", \"fine\", \"garden\", \"opportunity\", \"staff\", \"suite\", \"hot\", \"say\", \"quality\", \"dont\", \"accommodating\", \"pm\", \"person\", \"pleasant\", \"th\", \"option\", \"stayed\", \"desk\", \"check\", \"even\", \"experience\", \"disappointed\", \"eat\", \"decided\", \"hope\", \"may\", \"refrigerator\", \"thanks\", \"sure\", \"carpet\", \"le\", \"union\", \"lake\", \"one\", \"hilton\", \"easy\", \"given\", \"maintenance\", \"located\", \"pas\", \"selection\", \"coffee\", \"courteous\", \"fridge\", \"bourbon\", \"staying\", \"bed\", \"really\", \"excellent\", \"everything\", \"need\", \"feel\", \"booked\", \"travel\", \"hour\", \"amazing\", \"call\", \"several\", \"available\", \"sleep\", \"highly\", \"block\", \"motel\", \"future\", \"always\", \"problem\", \"appreciate\", \"bedroom\", \"quiet\", \"looked\", \"want\", \"run\", \"happy\", \"offer\", \"pleased\", \"well\", \"give\", \"pool\", \"meal\", \"reception\", \"bay\", \"door\", \"walk\", \"recommendation\", \"safe\", \"reason\", \"number\", \"heart\", \"walking\", \"cleaning\", \"hotel\", \"right\", \"could\", \"people\", \"find\", \"view\", \"shower\", \"within\", \"quite\", \"key\", \"better\", \"arrived\", \"though\", \"comfortable\", \"inn\", \"orleans\", \"airport\", \"review\", \"hampton\", \"visiting\", \"town\", \"choose\", \"couple\", \"property\", \"mile\", \"brand\", \"internet\", \"owner\", \"keep\", \"appreciated\", \"place\", \"clerk\", \"husband\", \"restaurant\", \"said\", \"surprised\", \"ensure\", \"francisco\", \"fairly\", \"quickly\", \"lot\", \"air\", \"working\", \"get\", \"first\", \"little\", \"kind\", \"small\", \"took\", \"home\", \"comment\", \"big\", \"extremely\", \"welcome\", \"amenity\", \"rate\", \"hard\", \"around\", \"beach\", \"let\", \"next\", \"family\", \"great\", \"taking\", \"sharing\", \"late\", \"weekend\", \"time\", \"shop\", \"min\", \"ive\", \"kitchen\", \"close\", \"daughter\", \"love\", \"across\", \"management\", \"freeway\", \"strive\", \"seeing\", \"served\", \"overall\", \"help\", \"enjoy\", \"inconvenience\", \"pretty\", \"outstanding\", \"nearby\", \"open\", \"chain\", \"enjoyed\", \"wonderful\", \"food\", \"many\", \"went\", \"please\", \"lobby\", \"value\", \"choice\", \"full\", \"bar\", \"felt\", \"good\", \"told\", \"wasnt\", \"plenty\", \"front\", \"night\", \"im\", \"making\", \"warm\", \"directly\", \"away\", \"living\", \"greeted\", \"come\", \"building\", \"best\", \"pearl\", \"park\", \"past\", \"chance\", \"bath\", \"renovated\", \"important\", \"already\", \"sausage\", \"square\", \"street\", \"recommend\", \"holiday\", \"truly\", \"usual\", \"second\", \"enjoyable\", \"came\", \"location\", \"parking\", \"helpful\", \"see\", \"didnt\", \"new\", \"bathroom\", \"needed\", \"city\", \"noise\", \"old\", \"asked\", \"beautiful\", \"gave\", \"dinner\", \"super\", \"extra\", \"used\", \"lovely\", \"stay\", \"year\", \"orlando\", \"sorry\", \"part\", \"work\", \"apologize\", \"accommodation\", \"provide\", \"take\", \"sincerely\", \"large\", \"week\", \"quick\", \"bring\", \"breakfast\", \"shared\", \"someone\", \"turn\", \"four\", \"hear\", \"return\", \"look\", \"put\", \"start\", \"based\", \"set\", \"son\", \"neighborhood\", \"swimming\", \"u\", \"free\", \"definitely\", \"price\", \"water\", \"ever\", \"cant\", \"long\", \"welcoming\", \"car\", \"size\", \"towel\", \"diego\", \"quarter\", \"day\", \"evening\", \"checked\", \"friend\", \"regarding\", \"king\", \"comfort\", \"positive\", \"got\", \"another\", \"use\", \"called\", \"level\", \"chose\", \"enough\", \"friendly\", \"would\", \"plan\", \"queen\", \"reservation\", \"guest\", \"poor\", \"miami\", \"microwave\", \"worked\", \"wanted\", \"along\", \"dark\", \"nice\", \"visit\", \"go\", \"forward\", \"way\", \"perfect\", \"space\", \"fantastic\", \"standard\", \"modern\", \"top\", \"housekeeping\", \"wall\", \"san\", \"area\", \"feedback\", \"soon\", \"word\", \"plus\", \"vacation\", \"distance\", \"waffle\", \"fresh\", \"write\", \"back\", \"seems\", \"local\", \"able\", \"five\", \"situation\", \"much\", \"know\", \"kept\", \"store\", \"minute\", \"early\", \"center\", \"weather\", \"group\", \"tv\", \"anyone\", \"convenient\", \"bit\", \"clean\", \"service\", \"morning\", \"every\", \"made\", \"since\", \"team\", \"everyone\", \"especially\", \"near\", \"provided\", \"drive\", \"side\", \"st\", \"recent\", \"recently\", \"item\", \"ok\", \"office\", \"issue\", \"thank\", \"make\", \"wifi\", \"efficient\", \"shopping\", \"try\", \"whole\", \"river\", \"concern\", \"consider\", \"special\", \"spacious\", \"smell\", \"requested\", \"different\", \"job\", \"dog\", \"choosing\", \"everywhere\", \"end\", \"continue\", \"last\", \"looking\", \"mall\", \"also\", \"like\", \"trip\", \"going\", \"thing\", \"nothing\", \"short\", \"customer\", \"tub\", \"member\", \"care\", \"floor\", \"access\", \"loved\", \"elevator\", \"still\", \"valet\", \"bad\", \"awesome\", \"entire\", \"think\"], \"Freq\": [22602.0, 20766.0, 12624.0, 10293.0, 9609.0, 8569.0, 7637.0, 7298.0, 6949.0, 6858.0, 6349.0, 6078.0, 6267.0, 5361.0, 5059.0, 4814.0, 4843.0, 4852.0, 4680.0, 4282.0, 4073.0, 4172.0, 3906.0, 3945.0, 3638.0, 3661.0, 3646.0, 3539.0, 3548.0, 3472.0, 940.6137755292509, 1384.1032907304698, 721.7893229188273, 1091.8952359139107, 1880.1970652987525, 1153.2832799261969, 452.9492403069601, 724.969775903485, 1637.3185066824105, 673.316677196048, 691.7079032647031, 324.66848693251944, 1397.4454153685774, 1258.2451546642258, 361.0922118872317, 315.1229243145367, 1942.143477863138, 1465.3296667016239, 22514.075182382137, 342.5412030249192, 270.7581295550328, 903.9055518217097, 437.3424080190549, 201.90185170680863, 718.6339612343733, 186.13199130950787, 733.4919750318282, 603.062822638742, 689.9530368954308, 483.59747940248866, 10232.743109766932, 1909.21497973904, 1429.7335626020636, 970.4015921219653, 734.4539824514386, 1326.85383016808, 611.5158900076701, 572.1431096146221, 507.2854528073462, 890.6827851047092, 657.8808665133497, 680.251023922099, 4835.656693310263, 3375.124921909402, 1776.1174427330586, 1944.6077996372096, 3118.178882260085, 452.3470410870016, 552.5998995468648, 409.56609753793583, 2634.110825673871, 669.0812613880663, 367.02231058035835, 621.6866819997283, 1357.0516943622695, 407.59809641109, 511.10282491123763, 374.1719709427136, 286.29143842230144, 4833.8907995088275, 721.7350503039787, 1559.942061100903, 455.16952512468464, 245.47505172733338, 1340.7839825930437, 241.5065130103228, 346.8164303481652, 1384.9386060921127, 386.436397998149, 579.3805281996797, 321.30452880595277, 2022.941566273025, 4263.042666376278, 2450.9640701080266, 1851.4956334333008, 1965.5806912496928, 2233.160045694134, 1308.141288371266, 1122.7349165858998, 900.4257834174407, 1147.5456378477065, 994.128458269867, 710.8998881285574, 786.0332105322902, 931.8576533025515, 790.3995085964791, 637.4481939854414, 869.2237050122812, 914.8629834952168, 1017.998302973845, 1924.686666824814, 879.6631171517333, 1562.4606680293386, 609.0916406122834, 1552.647318485506, 600.5472795610272, 1254.0943450995567, 384.74575463803745, 1793.482053674768, 1010.6539904452538, 797.3032079281755, 3538.1770984794225, 879.1888412985043, 3051.73044283332, 305.7521832802542, 514.8290769098402, 300.1325809901336, 1788.798979683555, 1875.0196137214793, 270.4130530075898, 791.3054305458943, 340.36288102893445, 334.0944256029331, 234.5790384151576, 1734.3526653286042, 318.20438965856107, 20674.611542125378, 2015.5677120282087, 2450.2763474949215, 1536.192896005778, 1175.675345573813, 1698.709576393119, 1188.290062577554, 1067.679022972093, 879.2390974120782, 687.3917468022138, 1267.0744352938937, 961.6118085372003, 947.5357717697442, 3943.488532008631, 2469.8174373650077, 607.9114977001275, 1172.4544060196918, 3317.2415281763847, 787.8767302314914, 471.42429516708927, 930.1151401501438, 403.1407257752745, 703.6590871971532, 1902.7182843967096, 494.31007801875154, 327.8329084576498, 504.9648426133783, 288.5851743131027, 530.5166109213188, 334.51669828611887, 4157.6864638556735, 381.8715935538627, 726.8565528113137, 3152.680234132068, 864.8484780700729, 386.10186796551375, 367.2364839834461, 427.8306063340832, 220.30113319448725, 215.95547869581063, 2071.3167021699187, 468.1842181943602, 611.5231667390436, 3501.031435839308, 1802.2941669345716, 2000.9901268885308, 1229.511392165923, 2279.9729590993666, 922.7201792853663, 933.4254615319225, 1103.9679083350672, 982.9194663038182, 1042.6785893329634, 876.516769138129, 960.7477920599052, 888.6820887171035, 650.7031223191813, 1519.0416067978447, 975.3183179428806, 693.6193256978742, 3324.781273914653, 1984.4877239936632, 9596.497494793652, 1975.9168236029475, 570.9897077330577, 719.4877172307143, 969.7610009739158, 6843.1922256836015, 433.45663705744664, 395.7450173193602, 635.9908178293858, 604.2597629205399, 2411.514860581454, 312.6425717003526, 1207.5320555217504, 933.6277093367072, 489.9521651460866, 281.3857590305819, 277.65897764922033, 407.4401284584823, 271.09024813930233, 1145.6654583533505, 821.5494006164975, 824.5462661665799, 254.15521765806977, 802.3162146444656, 351.9796488045576, 529.1409293380442, 647.5334909096885, 291.34546589184015, 2799.3867043738255, 1898.8207837572509, 1757.5407120699301, 1713.0120418225758, 1358.232594055473, 1246.3576785724654, 1457.4894342580321, 1035.726070191494, 913.9780759252421, 804.1094778434208, 1389.6917740192569, 817.4353684289539, 6082.239219072363, 894.7927673020262, 829.8214950534422, 671.169212843513, 3468.851759893212, 5355.073619879057, 1187.1594655746471, 571.2712358009503, 491.736731123546, 542.1958096096035, 1529.3570339734754, 347.3935449113183, 346.4040747414963, 1438.0412752714353, 755.1732456520406, 2838.481509843437, 299.1373313207989, 1447.9482226799882, 344.0703652698013, 389.20604056239017, 319.66892121933444, 312.640491580186, 368.2904511889892, 277.7701813788823, 225.32981406078812, 469.92544352656876, 1829.8109049671243, 1701.7815001911247, 367.7555401092198, 498.6200784514078, 192.29302638892852, 679.0901021696865, 314.06088913536047, 807.9353144905511, 6018.221778251776, 2800.894056849989, 3183.7410929485204, 2415.4049668098287, 2054.2501161940804, 2283.8008211134415, 2102.5136478546447, 1055.5703334546265, 1130.2227837589066, 1234.4754644295422, 1246.5173591723876, 786.6144424299772, 1195.2933012268184, 699.6059445879825, 682.7213746569523, 796.928853268639, 751.8596906355966, 662.558644844823, 685.7768890717638, 12616.019645405, 1325.4927512221675, 588.3546806813872, 700.337006506076, 701.4519109450393, 1436.1973571757314, 656.3544663174417, 525.6135904960344, 782.6327496285737, 1446.8788204477842, 371.15696687255735, 1283.0024484066305, 867.7084636052488, 575.3032179920326, 446.91574999988393, 7274.882437226478, 286.7510963651768, 377.36456708589117, 261.92061171594224, 426.74653793794704, 1976.2538831654201, 881.1529290618892, 2163.170859448724, 573.0778083988143, 390.93636041137825, 192.16239008398117, 365.25585016057704, 286.2133152330342, 248.39907498100519, 172.6565063601754, 8476.496861588783, 2650.7272434829756, 1645.0686914597516, 2028.4888948957628, 1362.2667491814275, 840.5313585945914, 834.332389358876, 865.9805083676791, 786.4137881926403, 1230.353903913696, 749.6665211252276, 720.4409415625297, 910.5910591447185, 759.4969088039164, 3656.1375202253507, 702.6354656819823, 903.4820546823308, 832.8663945528209, 576.1206573255007, 680.5444830369726, 436.58141978758505, 484.7050867449424, 1696.9034844543232, 1300.070588264771, 1255.6621862674613, 804.3073398454045, 450.0895223387481, 448.8602130178082, 1192.7574334275268, 5044.635024163625, 6330.676884709463, 364.7679428838671, 414.9360994565464, 887.787847907256, 3633.3559830304, 278.3003076905125, 258.7945860955533, 675.693612323234, 579.2200046639545, 699.053952379012, 475.8766625642228, 230.8815563732945, 6904.755456119844, 2292.5213282020272, 2019.2729261176833, 1678.3785336533472, 1598.9563678297175, 1467.81488472931, 1086.8433950713495, 688.441167833789, 576.8753784486668, 711.01329792628, 692.5162952327528, 705.0186325818862, 581.2843349911244, 1705.7826381505388, 4674.113927699758, 2003.077103090255, 1351.911490142, 501.608223924804, 806.2346299494561, 433.8399741336469, 1349.0252902724324, 421.6349192838876, 586.7561278720043, 487.5075354747192, 4061.8314404198995, 327.15525408821185, 473.82892678267933, 1482.7087428683803, 301.1045622636521, 256.9755474600598, 2660.822714319227, 1696.2805304462265, 607.2173266144185, 339.00964115017894, 1698.3880385580662, 917.1695836383358, 957.3835613498468, 215.801905238384, 452.86430214962877, 974.0910309968398, 405.415363577322, 1199.6264814223764, 1218.1288587777876, 7597.051958146475, 4781.256962767506, 1751.9206337181874, 1748.9918472346606, 1890.808040255854, 928.4361451435697, 1278.7141392053059, 640.4677822368986, 784.4500704994606, 1197.641033223204, 613.6437932304707, 627.5499105255736, 744.0328495978116, 735.8905821480284, 1202.1114107205128, 639.3772427590304, 494.1668388298331, 645.6687107970597, 534.2455180323471, 1252.8948226533116, 3629.984541322439, 2586.1500947506956, 966.1841584052121, 375.33105639922593, 777.7937382618729, 688.961702233151, 354.6259949463993, 352.0160185095197, 327.23591825258615, 327.15808742177313, 670.0422790870543, 1345.203976318356, 439.6390330559967, 301.2009805123521, 633.8874867055298, 486.08082975767314, 284.78967727130174, 667.9928634641074, 266.6226706584496, 538.4803394112001, 259.56399356413664, 989.2876301704006, 1099.199303103939, 359.33783145715836, 3524.923649649573, 3874.136358694424, 2133.000959043186, 1069.404634728084, 1648.8244576654056, 913.8348772399021, 805.6623073960691, 990.0412907528888, 776.9839399572598, 799.3189780551903, 740.9019244564955, 2189.214879184251, 828.7313345478209, 1191.0979982716187, 972.1951710918502, 929.5439535593861, 752.3310826120401, 1160.0137173484463, 709.6528070085241, 703.928780931807, 689.265094742474], \"Total\": [22602.0, 20766.0, 12624.0, 10293.0, 9609.0, 8569.0, 7637.0, 7298.0, 6949.0, 6858.0, 6349.0, 6078.0, 6267.0, 5361.0, 5059.0, 4814.0, 4843.0, 4852.0, 4680.0, 4282.0, 4073.0, 4172.0, 3906.0, 3945.0, 3638.0, 3661.0, 3646.0, 3539.0, 3548.0, 3472.0, 941.604586736576, 1385.7551197694054, 722.7804125459054, 1093.5469004473964, 1883.4737449544468, 1155.7417705906244, 453.939226201455, 726.6511093279631, 1641.2237148307177, 674.9719091276341, 693.7769306820234, 325.6577394996763, 1401.7138896452025, 1262.4509034922833, 362.333972787278, 316.2433776340896, 1949.5073830477702, 1471.0004710663425, 22602.296310617123, 343.9465746955702, 271.9716165672284, 907.9819001895366, 439.4643022759147, 202.89105136675255, 722.2573161269256, 187.1218313499294, 737.4005000995547, 606.3546912505027, 693.7254902685884, 486.29611069790514, 10293.29026365144, 1926.9999924797467, 1439.7354564080622, 976.6848680266661, 739.1754830744975, 1344.3181276424896, 615.0069669096, 575.4945719302766, 510.1842035605568, 904.5442306046154, 664.8287026073845, 690.9445509938479, 4843.347653941282, 3381.1401984457448, 1779.4423485697334, 1948.5737325115604, 3124.670950788271, 453.3386314091449, 553.8133728731963, 410.5571517066743, 2640.7396789686786, 670.8094777102098, 368.01296291291135, 623.3659456163186, 1361.0940188882514, 408.84115805118876, 512.7197046649289, 375.3841995847147, 287.28188754079923, 4852.098083528819, 724.4910079806554, 1565.9289573566382, 456.9842001765674, 246.46597929580545, 1346.2013663012035, 242.49702359451678, 348.256338211742, 1390.7250556566626, 388.0753618035793, 581.844310953278, 322.7103454639853, 2031.8520183230617, 4282.829132776937, 2465.305803724855, 1859.7263026821422, 1976.8184567686696, 2250.8659144513313, 1315.4833087013444, 1128.308937540264, 904.6015756155157, 1157.946337721016, 1002.5600477649269, 714.8365731482318, 793.050504418061, 943.5975611869811, 798.1056380465358, 642.5065203409974, 892.4222578135278, 915.8526823389539, 1019.2109459721001, 1927.3011908262097, 880.8777710919293, 1564.787338792272, 610.3064426647426, 1555.8112098400657, 601.7740985891337, 1256.7092221210673, 385.73596814671, 1798.1211443569946, 1013.3344918532673, 799.4824460861005, 3548.986696795593, 881.8862011130635, 3061.4779733864066, 306.7427046204173, 516.509757675039, 301.1226441991247, 1794.9155604313635, 1881.8500783351064, 271.4031446870738, 794.4490502357806, 341.7639177828402, 335.4899228158477, 235.5691538707762, 1741.930964467176, 319.60056731136666, 20766.033004939378, 2024.8584732814923, 2465.838281674971, 1546.2579403683187, 1182.2037891513387, 1714.8821940066457, 1196.460639676139, 1074.744578638089, 885.5130600937641, 691.9155330264887, 1290.6905665170796, 974.204436184939, 960.117507304913, 3945.5688240698064, 2471.2113156321684, 608.9009131001194, 1174.4668044915954, 3323.0682054862837, 789.2985920297494, 472.41396453088265, 932.385851909717, 404.13031500601517, 705.5433639262596, 1908.205978320029, 495.75247600252703, 328.82256638344126, 506.6808535568913, 289.57459225467204, 532.3744661340291, 335.74371598742067, 4172.958889269708, 383.31184017744255, 729.7513322472448, 3165.3020982206626, 868.3835608435136, 387.71905217718165, 368.8256214941549, 429.6826992764705, 221.29047601516132, 216.94539498355223, 2081.0307105179622, 470.4203755119515, 614.4696138824978, 3522.2637660714495, 1812.491384457376, 2019.905970345346, 1237.0526759885165, 2310.508840058358, 927.872299821271, 939.0795990800757, 1112.625144343908, 989.4921580951507, 1050.7246048890584, 881.8769535345294, 968.783436408034, 895.5726816337168, 653.96818915049, 1539.913221628925, 987.9991886955153, 699.8776057823004, 3327.010225580625, 1986.3146131177818, 9609.26923153236, 1978.8877840668076, 571.9780792145605, 720.9465434257862, 971.8444691125367, 6858.23361385973, 434.44603309274265, 396.7351228838774, 637.6016028456045, 605.9526323695457, 2419.1356519862484, 313.6308239260694, 1211.602564344019, 936.8106048841619, 491.624267902562, 282.3741880125211, 278.6470661030461, 408.90152524004964, 272.079331018584, 1149.8692410364508, 824.6261486927006, 827.6454166530384, 255.143297992612, 805.4705630002666, 353.38526382295817, 531.2620363590677, 650.2042554313465, 292.5858112783177, 2816.2421596618565, 1907.933981437071, 1765.4744760308017, 1721.11590722009, 1364.1706501948026, 1252.9050952792127, 1468.6205458711593, 1040.6917032045735, 919.2602412924375, 808.6672976985578, 1405.4390612157981, 823.0312350599262, 6267.161655496996, 901.8638374704632, 836.6262383571019, 674.4343978643304, 3472.4585870071583, 5361.8124467776315, 1188.7833639882554, 572.2586640093654, 492.72418310244564, 543.4360717450135, 1533.0643299768665, 348.3802343357293, 347.39115013275614, 1442.3427618500803, 757.4354564338588, 2847.5689691524058, 300.1242785678463, 1452.729483193849, 345.27879293773947, 390.6374829937967, 320.8818708250824, 313.852538405843, 369.719103954641, 278.97921905630807, 226.31668953320144, 472.20777410015444, 1838.7029369740046, 1710.0669196756237, 369.62928004673137, 501.17668620227045, 193.27981985637692, 682.6296004024006, 315.7059355524732, 812.3160012302062, 6078.6498349503845, 2817.404002832233, 3217.129733009797, 2436.124042115426, 2071.825385724436, 2308.774544477854, 2126.0656698565085, 1061.6641593388435, 1138.4002952088383, 1245.8836527790493, 1259.1519741271534, 791.2708348953678, 1207.5361428954952, 703.5384350446471, 686.4362438603694, 804.5800891423324, 759.6628521551322, 668.5535808240751, 694.6873070485218, 12624.998342497596, 1326.8924582421312, 589.3423101123572, 701.5495577805336, 702.668254430854, 1438.8632253992052, 657.5790374644488, 526.6011753676434, 784.2953564473361, 1450.5437920167865, 372.14502590492464, 1286.5663590215113, 870.3832333727436, 577.1564334341685, 448.3584357792461, 7298.654230443322, 287.7388229821863, 378.780688942918, 262.9085241140255, 428.3566347669055, 1983.744409449061, 884.5231053062973, 2171.5362827235817, 575.5641262616489, 392.6544772414045, 193.1501077336443, 367.2763279256588, 287.8276248456349, 249.80286804485934, 173.64420677392206, 8569.346524381745, 2669.178427386956, 1655.8074728890012, 2046.3030243232988, 1370.260883870098, 845.5104667725078, 839.6269682689413, 871.9032379143571, 791.0400574712609, 1243.926920051121, 755.3441673005294, 729.4119512002294, 911.5734958612061, 760.479322031477, 3661.062422769689, 703.8414525393165, 905.0934450022577, 834.4876707685565, 577.3312048069961, 681.9816071247534, 437.5649950369969, 485.9127430529651, 1701.2430665645556, 1303.4074175672793, 1258.9009616062046, 806.3916295033424, 451.2921961344753, 450.0688342165894, 1196.0204548888184, 5059.253610957002, 6349.226628948721, 365.9751669417036, 416.33510828166294, 890.8569169100191, 3646.099808281986, 279.2840820385233, 259.77750878717364, 678.3814287844634, 581.5477304142391, 701.9737386081358, 477.8844695761123, 231.8641052913612, 6949.884364968656, 2302.3082670433364, 2031.1306422085531, 1686.3231405446775, 1608.9813600971404, 1481.4961011109592, 1095.3921377251982, 692.4633210366777, 579.7015639892329, 717.1454477166188, 700.2123268793239, 713.4981508688662, 588.1923649507024, 1707.4328125835189, 4680.156512463926, 2005.971653245427, 1353.9592588528117, 502.59251051905426, 807.8879120513002, 434.8238178174171, 1352.1402313405026, 422.61872625141, 588.1571677593688, 488.8979663114565, 4073.7743659778585, 328.1392509752577, 475.28203005154097, 1487.3270593053717, 302.08868306021895, 257.9591437131393, 2671.195523073102, 1702.930485282636, 609.6432410067691, 340.4264113953595, 1705.5482973167839, 921.0612319967532, 961.6526425186889, 216.78556571849097, 454.9289807556567, 978.5381840305147, 407.2766478573023, 1205.3278747063705, 1223.9783056904403, 7637.581939319573, 4814.153156564868, 1761.752175134128, 1759.0543412608313, 1908.357053780908, 933.5976205611231, 1291.2583226231486, 643.8720818846791, 790.800437175336, 1215.8473572513794, 617.2448726244198, 632.5324287335941, 754.5299521690349, 747.1685584232426, 1203.3073907883254, 640.5745419710415, 495.14301085074555, 647.0917995520846, 535.4414540492429, 1255.8131218082556, 3638.4559650399906, 2592.408160517823, 968.5883185063923, 376.30617578355503, 779.9112649697648, 690.8422230848572, 355.6012675395778, 352.9907669126831, 328.21074949375105, 328.1329288843468, 672.0570034374521, 1349.3107141439373, 441.0460396746419, 302.17618965740854, 635.9660180962237, 487.69214644693034, 285.764743280016, 670.3590443601329, 267.59738627188153, 540.4905350065046, 260.5387375170371, 993.0652730363853, 1103.520478074463, 360.753178619223, 3539.919117986862, 3906.297875689875, 2159.034879518574, 1075.1578065206388, 1665.0465820528634, 917.447505805846, 809.1614846969431, 996.7010621638138, 781.2327639941329, 804.1999415447586, 745.127050856395, 2226.8900504132243, 835.1348625037617, 1209.8062543576873, 983.5574324035018, 941.6786503400117, 759.5146850686033, 1227.650116497963, 717.7363769326523, 711.734520709885, 696.4081610345517], \"Category\": [\"Default\", \"Default\", \"Default\", \"Default\", \"Default\", \"Default\", \"Default\", \"Default\", \"Default\", \"Default\", \"Default\", \"Default\", \"Default\", \"Default\", \"Default\", \"Default\", \"Default\", \"Default\", \"Default\", \"Default\", \"Default\", \"Default\", \"Default\", \"Default\", \"Default\", \"Default\", \"Default\", \"Default\", \"Default\", \"Default\", \"Topic1\", \"Topic1\", \"Topic1\", \"Topic1\", \"Topic1\", \"Topic1\", \"Topic1\", \"Topic1\", \"Topic1\", \"Topic1\", \"Topic1\", \"Topic1\", \"Topic1\", \"Topic1\", \"Topic1\", \"Topic1\", \"Topic1\", \"Topic1\", \"Topic1\", \"Topic1\", \"Topic1\", \"Topic1\", \"Topic1\", \"Topic1\", \"Topic1\", \"Topic1\", \"Topic1\", \"Topic1\", \"Topic1\", \"Topic1\", \"Topic1\", \"Topic1\", \"Topic1\", \"Topic1\", \"Topic1\", \"Topic1\", \"Topic1\", \"Topic1\", \"Topic1\", \"Topic1\", \"Topic1\", \"Topic1\", \"Topic2\", \"Topic2\", \"Topic2\", \"Topic2\", \"Topic2\", \"Topic2\", \"Topic2\", \"Topic2\", \"Topic2\", \"Topic2\", \"Topic2\", \"Topic2\", \"Topic2\", \"Topic2\", \"Topic2\", \"Topic2\", \"Topic2\", \"Topic2\", \"Topic2\", \"Topic2\", \"Topic2\", \"Topic2\", \"Topic2\", \"Topic2\", \"Topic2\", \"Topic2\", \"Topic2\", \"Topic2\", \"Topic2\", \"Topic2\", \"Topic2\", \"Topic2\", \"Topic2\", \"Topic2\", \"Topic2\", \"Topic2\", \"Topic2\", \"Topic2\", \"Topic2\", \"Topic2\", \"Topic2\", \"Topic2\", \"Topic2\", \"Topic2\", \"Topic2\", \"Topic2\", \"Topic3\", \"Topic3\", \"Topic3\", \"Topic3\", \"Topic3\", \"Topic3\", \"Topic3\", \"Topic3\", \"Topic3\", \"Topic3\", \"Topic3\", \"Topic3\", \"Topic3\", \"Topic3\", \"Topic3\", \"Topic3\", \"Topic3\", \"Topic3\", \"Topic3\", \"Topic3\", \"Topic3\", \"Topic3\", \"Topic3\", \"Topic3\", \"Topic3\", \"Topic3\", \"Topic3\", \"Topic3\", \"Topic3\", \"Topic3\", \"Topic3\", \"Topic3\", \"Topic3\", \"Topic3\", \"Topic3\", \"Topic3\", \"Topic3\", \"Topic3\", \"Topic3\", \"Topic3\", \"Topic3\", \"Topic4\", \"Topic4\", \"Topic4\", \"Topic4\", \"Topic4\", \"Topic4\", \"Topic4\", \"Topic4\", \"Topic4\", \"Topic4\", \"Topic4\", \"Topic4\", \"Topic4\", \"Topic4\", \"Topic4\", \"Topic4\", \"Topic4\", \"Topic4\", \"Topic4\", \"Topic4\", \"Topic4\", \"Topic4\", \"Topic4\", \"Topic4\", \"Topic4\", \"Topic4\", \"Topic4\", \"Topic4\", \"Topic4\", \"Topic4\", \"Topic4\", \"Topic4\", \"Topic4\", \"Topic4\", \"Topic4\", \"Topic4\", \"Topic4\", \"Topic4\", \"Topic4\", \"Topic4\", \"Topic4\", \"Topic4\", \"Topic4\", \"Topic4\", \"Topic4\", \"Topic4\", \"Topic4\", \"Topic5\", \"Topic5\", \"Topic5\", \"Topic5\", \"Topic5\", \"Topic5\", \"Topic5\", \"Topic5\", \"Topic5\", \"Topic5\", \"Topic5\", \"Topic5\", \"Topic5\", \"Topic5\", \"Topic5\", \"Topic5\", \"Topic5\", \"Topic5\", \"Topic5\", \"Topic5\", \"Topic5\", \"Topic5\", \"Topic5\", \"Topic5\", \"Topic5\", \"Topic5\", \"Topic5\", \"Topic5\", \"Topic5\", \"Topic5\", \"Topic5\", \"Topic5\", \"Topic5\", \"Topic5\", \"Topic5\", \"Topic5\", \"Topic5\", \"Topic5\", \"Topic5\", \"Topic5\", \"Topic5\", \"Topic5\", \"Topic5\", \"Topic5\", \"Topic5\", \"Topic5\", \"Topic6\", \"Topic6\", \"Topic6\", \"Topic6\", \"Topic6\", \"Topic6\", \"Topic6\", \"Topic6\", \"Topic6\", \"Topic6\", \"Topic6\", \"Topic6\", \"Topic6\", \"Topic6\", \"Topic6\", \"Topic6\", \"Topic6\", \"Topic6\", \"Topic6\", \"Topic6\", \"Topic6\", \"Topic6\", \"Topic6\", \"Topic6\", \"Topic6\", \"Topic6\", \"Topic6\", \"Topic6\", \"Topic6\", \"Topic6\", \"Topic6\", \"Topic6\", \"Topic6\", \"Topic6\", \"Topic6\", \"Topic6\", \"Topic6\", \"Topic6\", \"Topic6\", \"Topic6\", \"Topic6\", \"Topic6\", \"Topic6\", \"Topic6\", \"Topic6\", \"Topic6\", \"Topic6\", \"Topic6\", \"Topic6\", \"Topic7\", \"Topic7\", \"Topic7\", \"Topic7\", \"Topic7\", \"Topic7\", \"Topic7\", \"Topic7\", \"Topic7\", \"Topic7\", \"Topic7\", \"Topic7\", \"Topic7\", \"Topic7\", \"Topic7\", \"Topic7\", \"Topic7\", \"Topic7\", \"Topic7\", \"Topic7\", \"Topic7\", \"Topic7\", \"Topic7\", \"Topic7\", \"Topic7\", \"Topic7\", \"Topic7\", \"Topic7\", \"Topic7\", \"Topic7\", \"Topic7\", \"Topic7\", \"Topic7\", \"Topic7\", \"Topic7\", \"Topic7\", \"Topic7\", \"Topic7\", \"Topic7\", \"Topic7\", \"Topic7\", \"Topic7\", \"Topic8\", \"Topic8\", \"Topic8\", \"Topic8\", \"Topic8\", \"Topic8\", \"Topic8\", \"Topic8\", \"Topic8\", \"Topic8\", \"Topic8\", \"Topic8\", \"Topic8\", \"Topic8\", \"Topic8\", \"Topic8\", \"Topic8\", \"Topic8\", \"Topic8\", \"Topic8\", \"Topic8\", \"Topic8\", \"Topic8\", \"Topic8\", \"Topic8\", \"Topic8\", \"Topic8\", \"Topic8\", \"Topic8\", \"Topic8\", \"Topic8\", \"Topic8\", \"Topic8\", \"Topic8\", \"Topic8\", \"Topic8\", \"Topic8\", \"Topic8\", \"Topic8\", \"Topic8\", \"Topic8\", \"Topic8\", \"Topic8\", \"Topic9\", \"Topic9\", \"Topic9\", \"Topic9\", \"Topic9\", \"Topic9\", \"Topic9\", \"Topic9\", \"Topic9\", \"Topic9\", \"Topic9\", \"Topic9\", \"Topic9\", \"Topic9\", \"Topic9\", \"Topic9\", \"Topic9\", \"Topic9\", \"Topic9\", \"Topic9\", \"Topic9\", \"Topic9\", \"Topic9\", \"Topic9\", \"Topic9\", \"Topic9\", \"Topic9\", \"Topic9\", \"Topic9\", \"Topic9\", \"Topic9\", \"Topic9\", \"Topic9\", \"Topic9\", \"Topic9\", \"Topic9\", \"Topic9\", \"Topic9\", \"Topic9\", \"Topic9\", \"Topic9\", \"Topic9\", \"Topic9\", \"Topic9\", \"Topic10\", \"Topic10\", \"Topic10\", \"Topic10\", \"Topic10\", \"Topic10\", \"Topic10\", \"Topic10\", \"Topic10\", \"Topic10\", \"Topic10\", \"Topic10\", \"Topic10\", \"Topic10\", \"Topic10\", \"Topic10\", \"Topic10\", \"Topic10\", \"Topic10\", \"Topic10\", \"Topic10\", \"Topic10\", \"Topic10\", \"Topic10\", \"Topic10\", \"Topic10\", \"Topic10\", \"Topic10\", \"Topic10\", \"Topic10\", \"Topic10\", \"Topic10\", \"Topic10\", \"Topic10\", \"Topic10\", \"Topic10\", \"Topic10\", \"Topic10\", \"Topic10\", \"Topic10\", \"Topic10\", \"Topic10\", \"Topic10\", \"Topic10\", \"Topic10\", \"Topic10\", \"Topic10\", \"Topic10\", \"Topic10\", \"Topic10\", \"Topic10\"], \"logprob\": [30.0, 29.0, 28.0, 27.0, 26.0, 25.0, 24.0, 23.0, 22.0, 21.0, 20.0, 19.0, 18.0, 17.0, 16.0, 15.0, 14.0, 13.0, 12.0, 11.0, 10.0, 9.0, 8.0, 7.0, 6.0, 5.0, 4.0, 3.0, 2.0, 1.0, -4.599699974060059, -4.213399887084961, -4.864500045776367, -4.4506001472473145, -3.907099962234497, -4.395899772644043, -5.330399990081787, -4.860099792480469, -4.045400142669678, -4.934000015258789, -4.907100200653076, -5.663400173187256, -4.203800201416016, -4.308700084686279, -5.55709981918335, -5.693299770355225, -3.8747000694274902, -4.156400203704834, -1.424299955368042, -5.609799861907959, -5.84499979019165, -4.639500141143799, -5.365499973297119, -6.138400077819824, -4.868899822235107, -6.219799995422363, -4.848400115966797, -5.0441999435424805, -4.909599781036377, -5.264999866485596, -2.212899923324585, -3.8917999267578125, -4.181000232696533, -4.56850004196167, -4.847099781036377, -4.25570011138916, -5.030300140380859, -5.096799850463867, -5.217100143432617, -4.654200077056885, -4.957200050354004, -4.923799991607666, -2.9570000171661377, -3.3166000843048096, -3.9586000442504883, -3.8678998947143555, -3.3958001136779785, -5.326300144195557, -5.126100063323975, -5.4257001876831055, -3.564500093460083, -4.934899806976318, -5.535299777984619, -5.008299827575684, -4.227700233459473, -5.430500030517578, -5.20419979095459, -5.515999794006348, -5.78380012512207, -2.95740008354187, -4.859099864959717, -4.088399887084961, -5.320099830627441, -5.937600135803223, -4.239799976348877, -5.95389986038208, -5.5920000076293945, -4.207399845123291, -5.483799934387207, -5.078800201416016, -5.668399810791016, -3.8285000324249268, -3.0829999446868896, -3.6364998817443848, -3.9170000553131104, -3.8571999073028564, -3.729599952697754, -4.264400005340576, -4.417200088500977, -4.637899875640869, -4.395400047302246, -4.538899898529053, -4.874199867248535, -4.773799896240234, -4.603600025177002, -4.768199920654297, -4.98330020904541, -4.6732001304626465, -4.620299816131592, -4.513400077819824, -3.876499891281128, -4.6595001220703125, -4.085000038146973, -5.027100086212158, -4.091300010681152, -5.041200160980225, -4.304900169372559, -5.486499786376953, -3.9470999240875244, -4.520699977874756, -4.757800102233887, -3.267699956893921, -4.659999847412109, -3.415600061416626, -5.716300010681152, -5.195199966430664, -5.734799861907959, -3.949700117111206, -3.9026999473571777, -5.839099884033203, -4.765399932861328, -5.609000205993652, -5.627600193023682, -5.981200218200684, -3.9807000160217285, -5.676300048828125, -1.5024000406265259, -3.830399990081787, -3.6350998878479004, -4.1020002365112305, -4.3694000244140625, -4.001399993896484, -4.358799934387207, -4.465799808502197, -4.659999847412109, -4.906099796295166, -4.294600009918213, -4.570400238037109, -4.58519983291626, -3.150700092315674, -3.6187000274658203, -5.020500183105469, -4.363699913024902, -3.323699951171875, -4.761199951171875, -5.274799823760986, -4.595200061798096, -5.431300163269043, -4.874300003051758, -3.879499912261963, -5.227399826049805, -5.6381001472473145, -5.206099987030029, -5.765600204467773, -5.156700134277344, -5.6178998947143555, -3.0978000164031982, -5.485499858856201, -4.841800212860107, -3.374500036239624, -4.668000221252441, -5.4745001792907715, -5.524600028991699, -5.371799945831299, -6.035600185394287, -6.055500030517578, -3.794600009918213, -5.281700134277344, -5.014599800109863, -3.269700050354004, -3.9337000846862793, -3.829200029373169, -4.316199779510498, -3.6986000537872314, -4.6031999588012695, -4.591700077056885, -4.423900127410889, -4.539999961853027, -4.480999946594238, -4.654600143432617, -4.56279993057251, -4.6407999992370605, -4.952499866485596, -4.104700088500977, -4.547800064086914, -4.888599872589111, -3.31820011138916, -3.834199905395508, -2.25819993019104, -3.838599920272827, -5.079999923706055, -4.848800182342529, -4.550300121307373, -2.596400022506714, -5.355599880218506, -5.446599960327148, -4.9721999168396, -5.023399829864502, -3.639400005340576, -5.682300090789795, -4.330999851226807, -4.5883002281188965, -5.233099937438965, -5.787600040435791, -5.801000118255615, -5.417500019073486, -5.824900150299072, -4.383600234985352, -4.71619987487793, -4.712500095367432, -5.889400005340576, -4.7399001121521, -5.563799858093262, -5.156099796295166, -4.95419979095459, -5.752900123596191, -3.4902000427246094, -3.8784000873565674, -3.955699920654297, -3.9814000129699707, -4.213399887084961, -4.2993998527526855, -4.142899990081787, -4.484499931335449, -4.609600067138672, -4.737599849700928, -4.190499782562256, -4.721199989318848, -2.714200019836426, -4.630799770355225, -4.706200122833252, -4.918300151824951, -3.256700038909912, -2.8224000930786133, -4.32889986038208, -5.060400009155273, -5.210299968719482, -5.112599849700928, -4.0756001472473145, -5.557799816131592, -5.5605998039245605, -4.137199878692627, -4.781300067901611, -3.457200050354004, -5.707300186157227, -4.130300045013428, -5.567399978637695, -5.4440999031066895, -5.640900135040283, -5.6631999015808105, -5.4994001388549805, -5.781400203704834, -5.990699768066406, -5.25570011138916, -3.8963000774383545, -3.9688000679016113, -5.500800132751465, -5.196400165557861, -6.149199962615967, -4.887499809265137, -5.658599853515625, -4.713699817657471, -2.705699920654297, -3.4704999923706055, -3.342400074005127, -3.6185998916625977, -3.780600070953369, -3.6745998859405518, -3.7572999000549316, -4.446400165557861, -4.3780999183654785, -4.28980016708374, -4.280099868774414, -4.740499973297119, -4.3221001625061035, -4.857699871063232, -4.8821001052856445, -4.727499961853027, -4.785699844360352, -4.912099838256836, -4.877699851989746, -1.9645999670028687, -4.217700004577637, -5.03000020980835, -4.8557000160217285, -4.854100227355957, -4.137499809265137, -4.920599937438965, -5.1427001953125, -4.74459981918335, -4.130099773406982, -5.490699768066406, -4.25029993057251, -4.64139986038208, -5.0524001121521, -5.304900169372559, -2.5151000022888184, -5.748700141906738, -5.474100112915039, -5.839200019836426, -5.351099967956543, -3.8183000087738037, -4.626100063323975, -3.7279999256134033, -5.056300163269043, -5.438700199127197, -6.148900032043457, -5.506700038909912, -5.7505998611450195, -5.892300128936768, -6.25600004196167, -2.3622000217437744, -3.5246999263763428, -4.001800060272217, -3.7922000885009766, -4.190400123596191, -4.673299789428711, -4.680699825286865, -4.643400192260742, -4.739799976348877, -4.292200088500977, -4.787700176239014, -4.827400207519531, -4.565199851989746, -4.746600151062012, -3.175100088119507, -4.824399948120117, -4.572999954223633, -4.654399871826172, -5.0229997634887695, -4.856400012969971, -5.300300121307373, -5.195700168609619, -3.942699909210205, -4.209099769592285, -4.243899822235107, -4.689300060272217, -5.269800186157227, -5.272600173950195, -4.295300006866455, -2.8531999588012695, -2.6261000633239746, -5.480000019073486, -5.351200103759766, -4.5904998779296875, -3.1814000606536865, -5.7505998611450195, -5.823200225830078, -4.863500118255615, -5.017600059509277, -4.829599857330322, -5.214099884033203, -5.937399864196777, -2.539299964904785, -3.641900062561035, -3.7688000202178955, -3.953700065612793, -4.002200126647949, -4.087699890136719, -4.388199806213379, -4.844799995422363, -5.021699905395508, -4.812600135803223, -4.838900089263916, -4.821100234985352, -5.013999938964844, -3.936800003051758, -2.928800106048584, -3.77620005607605, -4.169300079345703, -5.160799980163574, -4.686200141906738, -5.3059000968933105, -4.171500205993652, -5.334499835968018, -5.004000186920166, -5.189300060272217, -3.069200038909912, -5.588200092315674, -5.217800140380859, -4.077000141143799, -5.671199798583984, -5.829599857330322, -3.4921998977661133, -3.9423999786376953, -4.969699859619141, -5.552599906921387, -3.941200017929077, -4.557300090789795, -4.514400005340576, -6.004300117492676, -5.263000011444092, -4.497099876403809, -5.373700141906738, -4.288899898529053, -4.273499965667725, -2.4430999755859375, -2.9061999320983887, -3.9102001190185547, -3.911799907684326, -3.833899974822998, -4.545100212097168, -4.224999904632568, -4.916399955749512, -4.713600158691406, -4.290500164031982, -4.959199905395508, -4.936800003051758, -4.766499996185303, -4.777500152587891, -4.240600109100342, -4.8719000816345215, -5.1296000480651855, -4.862199783325195, -5.051599979400635, -4.19920015335083, -3.135499954223633, -3.4744999408721924, -4.459099769592285, -5.404600143432617, -4.676000118255615, -4.797299861907959, -5.461400032043457, -5.468800067901611, -5.541800022125244, -5.541999816894531, -4.825099945068359, -4.1280999183654785, -5.246500015258789, -5.62470006942749, -4.8805999755859375, -5.146100044250488, -5.680699825286865, -4.828199863433838, -5.746600151062012, -5.043700218200684, -5.773399829864502, -4.435500144958496, -4.330100059509277, -5.448200225830078, -3.164799928665161, -3.0703999996185303, -3.6672000885009766, -4.357600212097168, -3.9245998859405518, -4.514800071716309, -4.6407999992370605, -4.434700012207031, -4.677000045776367, -4.64870023727417, -4.724599838256836, -3.6410999298095703, -4.612500190734863, -4.249800205230713, -4.452899932861328, -4.497700214385986, -4.7093000411987305, -4.276299953460693, -4.7677001953125, -4.7758002281188965, -4.796800136566162], \"loglift\": [30.0, 29.0, 28.0, 27.0, 26.0, 25.0, 24.0, 23.0, 22.0, 21.0, 20.0, 19.0, 18.0, 17.0, 16.0, 15.0, 14.0, 13.0, 12.0, 11.0, 10.0, 9.0, 8.0, 7.0, 6.0, 5.0, 4.0, 3.0, 2.0, 1.0, 2.2649, 2.2647, 2.2646, 2.2644, 2.2642, 2.2638, 2.2637, 2.2636, 2.2635, 2.2635, 2.2629, 2.2629, 2.2629, 2.2626, 2.2625, 2.2624, 2.2621, 2.2621, 2.262, 2.2618, 2.2615, 2.2614, 2.2611, 2.261, 2.2609, 2.2606, 2.2606, 2.2605, 2.2605, 2.2604, 2.26, 2.2567, 2.259, 2.2595, 2.2595, 2.2529, 2.2602, 2.2601, 2.2602, 2.2505, 2.2554, 2.2503, 2.2698, 2.2696, 2.2695, 2.2693, 2.2693, 2.2692, 2.2692, 2.269, 2.2689, 2.2688, 2.2687, 2.2687, 2.2684, 2.2683, 2.2682, 2.2682, 2.2679, 2.2676, 2.2676, 2.2676, 2.2674, 2.2674, 2.2674, 2.2673, 2.2672, 2.2672, 2.2672, 2.2671, 2.267, 2.267, 2.2668, 2.2656, 2.2669, 2.2657, 2.2635, 2.2658, 2.2664, 2.2668, 2.2624, 2.2629, 2.2659, 2.2625, 2.2589, 2.2617, 2.2635, 2.245, 2.272, 2.2719, 2.2717, 2.2717, 2.2716, 2.2711, 2.2711, 2.2711, 2.271, 2.2705, 2.2705, 2.2705, 2.2704, 2.2701, 2.27, 2.2699, 2.2699, 2.2698, 2.2698, 2.2697, 2.2695, 2.2695, 2.2691, 2.269, 2.2689, 2.2689, 2.2687, 2.2687, 2.2687, 2.2685, 2.2668, 2.2666, 2.2676, 2.2636, 2.2663, 2.2665, 2.266, 2.2665, 2.2546, 2.2601, 2.2599, 2.2811, 2.281, 2.28, 2.2799, 2.2798, 2.2798, 2.2795, 2.2792, 2.2791, 2.2789, 2.2787, 2.2787, 2.2786, 2.2782, 2.2782, 2.2781, 2.2779, 2.2779, 2.2778, 2.2776, 2.2776, 2.2775, 2.2774, 2.2773, 2.2773, 2.2771, 2.277, 2.2769, 2.2768, 2.2768, 2.2755, 2.2759, 2.2722, 2.2755, 2.2683, 2.276, 2.2756, 2.2738, 2.2749, 2.2739, 2.2755, 2.2733, 2.2739, 2.2766, 2.2679, 2.2687, 2.2726, 2.2841, 2.2839, 2.2835, 2.2833, 2.2831, 2.2828, 2.2826, 2.2826, 2.2825, 2.2823, 2.2823, 2.282, 2.2816, 2.2816, 2.2814, 2.2814, 2.2814, 2.2813, 2.2812, 2.2812, 2.2811, 2.2811, 2.281, 2.281, 2.2809, 2.2809, 2.2808, 2.2808, 2.2807, 2.2805, 2.2788, 2.28, 2.2803, 2.2801, 2.2804, 2.2795, 2.2772, 2.28, 2.279, 2.2791, 2.2735, 2.278, 2.2548, 2.2769, 2.2766, 2.2799, 2.3029, 2.3027, 2.3026, 2.3022, 2.3019, 2.3016, 2.3015, 2.3011, 2.3011, 2.3009, 2.3009, 2.3007, 2.3006, 2.3006, 2.3004, 2.3002, 2.3001, 2.3, 2.3, 2.2996, 2.2995, 2.2991, 2.2991, 2.2991, 2.2988, 2.2988, 2.2988, 2.2987, 2.2987, 2.2985, 2.2939, 2.298, 2.2935, 2.2954, 2.2954, 2.293, 2.2928, 2.2982, 2.2967, 2.2947, 2.2938, 2.298, 2.2937, 2.2983, 2.2985, 2.2944, 2.2936, 2.2949, 2.291, 2.3041, 2.3038, 2.3032, 2.3031, 2.3031, 2.303, 2.303, 2.303, 2.3027, 2.3023, 2.3022, 2.3021, 2.3018, 2.3016, 2.3016, 2.3016, 2.3014, 2.3011, 2.3011, 2.3011, 2.3011, 2.301, 2.301, 2.3005, 2.3005, 2.2997, 2.2993, 2.2992, 2.2992, 2.2992, 2.294, 2.2979, 2.2984, 2.2961, 2.299, 2.299, 2.2985, 2.298, 2.299, 2.2939, 2.2973, 2.2925, 2.3318, 2.3316, 2.3315, 2.3312, 2.3311, 2.3309, 2.3308, 2.3308, 2.3306, 2.3304, 2.3303, 2.3303, 2.3303, 2.3303, 2.3302, 2.3302, 2.3301, 2.33, 2.3299, 2.3296, 2.3295, 2.3294, 2.3294, 2.3293, 2.3291, 2.3289, 2.3289, 2.3287, 2.3287, 2.3286, 2.3264, 2.3286, 2.327, 2.3281, 2.3266, 2.3236, 2.325, 2.327, 2.328, 2.3243, 2.3218, 2.3209, 2.3211, 2.3326, 2.3322, 2.3321, 2.332, 2.3316, 2.3315, 2.3313, 2.3312, 2.3312, 2.3311, 2.3307, 2.3306, 2.3305, 2.3305, 2.3304, 2.3303, 2.3297, 2.3296, 2.3296, 2.3295, 2.3294, 2.3293, 2.3293, 2.3291, 2.329, 2.329, 2.329, 2.3289, 2.3288, 2.3287, 2.3282, 2.3267, 2.3279, 2.3278, 2.3243, 2.328, 2.3238, 2.3282, 2.3255, 2.3184, 2.3277, 2.3256, 2.3195, 2.3183, 2.3787, 2.3778, 2.3777, 2.3775, 2.3775, 2.3774, 2.3774, 2.3773, 2.3772, 2.3771, 2.377, 2.377, 2.377, 2.3769, 2.3767, 2.3767, 2.3767, 2.3767, 2.3765, 2.3765, 2.3764, 2.3764, 2.3763, 2.3762, 2.3761, 2.376, 2.376, 2.3759, 2.3758, 2.3758, 2.3755, 2.3714, 2.3676, 2.3743, 2.3699, 2.3758, 2.3754, 2.373, 2.3743, 2.3736, 2.374, 2.3626, 2.372, 2.3641, 2.3681, 2.3667, 2.3702, 2.323, 2.3684, 2.3687, 2.3694]}, \"token.table\": {\"Topic\": [6, 8, 9, 2, 3, 4, 9, 10, 1, 4, 5, 6, 7, 5, 7, 8, 1, 2, 4, 2, 3, 4, 2, 4, 8, 6, 1, 6, 10, 1, 3, 9, 10, 2, 3, 9, 10, 1, 3, 4, 6, 8, 9, 1, 4, 8, 9, 3, 9, 7, 2, 3, 5, 7, 4, 4, 5, 9, 1, 3, 4, 5, 9, 10, 2, 3, 4, 5, 6, 8, 1, 6, 2, 5, 6, 8, 9, 4, 5, 6, 1, 7, 10, 3, 6, 9, 1, 2, 3, 6, 8, 9, 10, 1, 2, 4, 5, 7, 9, 10, 7, 6, 1, 2, 3, 6, 10, 3, 1, 3, 4, 7, 8, 6, 7, 8, 9, 10, 1, 2, 3, 4, 5, 6, 7, 9, 3, 1, 2, 4, 5, 6, 10, 2, 3, 4, 5, 9, 2, 4, 5, 7, 9, 3, 7, 9, 1, 2, 5, 6, 10, 1, 2, 3, 5, 6, 9, 2, 6, 4, 5, 6, 7, 7, 1, 3, 6, 9, 1, 6, 7, 10, 2, 6, 7, 10, 2, 8, 4, 5, 6, 2, 4, 5, 7, 1, 5, 6, 7, 8, 1, 6, 10, 2, 1, 9, 10, 5, 6, 1, 2, 3, 1, 8, 5, 8, 10, 4, 2, 10, 8, 1, 3, 6, 10, 1, 3, 6, 8, 9, 1, 3, 4, 6, 3, 5, 7, 8, 9, 2, 9, 10, 1, 2, 6, 8, 4, 8, 9, 4, 5, 6, 1, 10, 10, 10, 2, 6, 7, 8, 9, 3, 4, 7, 8, 9, 10, 4, 8, 10, 2, 7, 1, 3, 5, 10, 8, 5, 2, 8, 9, 2, 1, 2, 5, 6, 7, 8, 10, 1, 2, 3, 4, 8, 1, 3, 6, 8, 10, 8, 8, 10, 3, 6, 7, 10, 6, 1, 9, 2, 5, 9, 10, 1, 5, 9, 1, 3, 4, 5, 8, 1, 4, 8, 3, 6, 7, 8, 9, 3, 5, 9, 2, 4, 5, 10, 2, 10, 1, 3, 5, 7, 10, 1, 2, 7, 10, 3, 4, 5, 8, 10, 2, 6, 1, 3, 5, 6, 9, 10, 3, 8, 2, 4, 5, 6, 9, 10, 1, 3, 9, 1, 2, 7, 9, 8, 3, 7, 8, 9, 2, 4, 6, 9, 10, 6, 7, 9, 10, 1, 2, 5, 7, 8, 10, 10, 2, 5, 9, 1, 3, 7, 2, 6, 8, 9, 1, 2, 4, 6, 7, 1, 3, 4, 5, 6, 7, 9, 1, 4, 2, 5, 2, 8, 10, 1, 7, 8, 10, 5, 7, 9, 2, 3, 7, 8, 9, 3, 5, 1, 3, 5, 6, 7, 10, 1, 2, 4, 7, 2, 4, 8, 10, 9, 2, 4, 5, 8, 9, 10, 3, 4, 5, 6, 2, 4, 5, 8, 1, 9, 2, 7, 2, 4, 9, 3, 7, 8, 9, 5, 6, 9, 2, 3, 6, 7, 8, 1, 7, 8, 9, 1, 6, 9, 3, 5, 8, 3, 1, 3, 9, 10, 2, 3, 4, 6, 9, 1, 4, 5, 6, 7, 10, 3, 7, 8, 1, 2, 6, 1, 8, 10, 2, 4, 5, 7, 8, 1, 2, 3, 6, 7, 8, 10, 3, 4, 5, 6, 9, 10, 3, 8, 2, 4, 5, 7, 8, 9, 6, 7, 9, 3, 5, 7, 8, 4, 8, 2, 3, 4, 6, 7, 2, 4, 9, 10, 4, 5, 7, 9, 3, 2, 5, 6, 1, 2, 3, 4, 6, 8, 9, 10, 1, 2, 6, 7, 1, 2, 4, 6, 2, 6, 2, 4, 1, 2, 5, 6, 9, 1, 9, 10, 2, 3, 4, 5, 6, 7, 8, 10, 2, 6, 7, 10, 2, 5, 8, 1, 2, 4, 5, 9, 5, 6, 6, 5, 3, 4, 4, 10, 4, 5, 7, 10, 10, 2, 5, 5, 10, 4, 6, 1, 4, 9, 1, 3, 4, 5, 6, 1, 3, 3, 4, 6, 7, 8, 5, 6, 3, 5, 6, 8, 9, 2, 5, 6, 7, 8, 3, 7, 10, 5, 9, 2, 3, 3, 4, 5, 9, 8, 1, 2, 3, 4, 6, 7, 8, 9, 10, 1, 3, 4, 5, 6, 7, 8, 9, 10, 6, 2, 4, 5, 6, 10, 9, 1, 2, 4, 8, 1, 2, 6, 8, 9, 10, 7, 8, 10, 1, 6, 7, 9, 10, 3, 3, 4, 5, 8, 10, 3, 4, 5, 6, 7, 8, 1, 5, 6, 7, 1, 5, 10, 2, 6, 7, 10, 3, 4, 5, 8, 9, 10, 2, 3, 4, 9, 10, 6, 10, 5, 10, 1, 4, 5, 7, 10, 1, 5, 6, 2, 10, 3, 1, 3, 5, 10, 8, 2, 4, 5, 8, 4, 5, 5, 9, 10, 1, 4, 6, 8, 2, 5, 9, 10, 3, 1, 2, 3, 4, 9, 2, 6, 7, 9, 5, 9, 2, 7, 9, 10, 1, 2, 4, 5, 6, 7, 8, 6, 7, 1, 3, 5, 2, 4, 5, 6, 7, 10, 4, 5, 6, 1, 2, 3, 4, 5, 6, 7, 8, 9, 10, 6, 7, 1, 2, 3, 5, 6, 10, 8, 10, 3, 4, 3, 4, 8, 10, 10, 3, 4, 5, 6, 7, 9, 2, 4, 5, 7, 8, 1, 5, 10, 1, 8, 10, 1, 3, 4, 5, 6, 7, 7, 4, 1, 5, 6, 2, 4, 5, 8, 4, 2, 3, 6, 8, 1, 2, 4, 6, 7, 8, 9, 7, 2, 6, 6, 1, 3, 4, 6, 7, 8, 9, 10, 3, 4, 5, 8, 1, 2, 7, 1, 4, 5, 7, 10, 8, 1, 3, 4, 8, 10, 1, 4, 5, 8, 9, 3, 10, 1, 5, 7, 5, 9, 1, 2, 4, 8, 1, 2, 3, 7, 8, 8, 1, 5, 7, 1, 2, 3, 5, 7, 8, 9, 3, 3, 4, 7, 5, 7, 2, 7, 8, 9, 7, 9, 1, 2, 3, 7, 8, 6, 8, 2, 7, 9, 4, 3, 7, 8, 9, 1, 2, 3, 5, 7, 8, 9, 1, 4, 6, 2, 3, 4, 5, 3, 5, 10, 10, 3, 8, 5, 6, 7, 3, 2, 8, 6, 10, 2, 4, 8, 1, 2, 3, 4, 6, 8, 2, 5, 7, 10, 3, 4, 5, 8, 1, 3, 6, 9, 10, 1, 2, 3, 4, 5, 6, 7, 8, 3, 3, 4, 7, 3, 4, 8, 8, 9, 6, 1, 3, 8, 10, 1, 2, 6, 9, 2, 6, 7, 8, 9, 5, 8, 9, 2, 5, 2, 5, 7, 8, 9, 3, 7, 1, 2, 3, 7, 8, 1, 3, 9, 7, 5, 5, 6, 9, 10, 1, 7, 8, 10, 3, 5, 6, 9, 10, 1, 3, 5, 9, 1, 6, 9, 10, 1, 2, 5, 7, 8, 9, 7, 9, 4, 6, 7, 2, 4, 5, 7, 10, 1, 4, 6, 7, 8, 9, 10, 8, 10, 7, 9, 2, 7, 2, 9, 10, 7, 2, 7, 8, 9, 1, 3, 8, 10, 1, 5, 10, 1, 6, 1, 5, 6, 7, 9, 10, 1, 3, 4, 6, 7, 8, 9, 10, 3, 8, 10, 1, 8, 9, 7, 10, 1, 2, 3, 5, 7, 10, 2, 3, 6, 7, 9, 2, 3, 6, 8, 9, 5, 6, 8, 10, 8, 9, 2, 3, 6, 7, 5, 1, 3, 4, 7, 8, 9, 5, 6, 7, 9, 1, 2, 7, 8, 9, 3, 4, 7, 1, 2, 4, 7, 3, 5, 1, 9, 1, 5, 6, 7, 9, 10, 2, 4, 7, 9, 10, 2, 10, 2, 3, 5, 6, 7, 10, 1, 3, 5, 6, 10, 2, 3, 5, 8, 10, 3, 5, 6, 7, 10, 1, 2, 3, 4, 5, 8, 3, 4, 5, 6, 9, 2, 3, 4, 7, 8, 4, 7, 9, 2, 4, 9, 1, 2, 5, 7, 2, 3, 10, 5, 6, 10, 7, 10, 5, 6, 10, 7, 5, 6, 9, 10, 1, 2, 3, 5, 6, 2, 4, 6, 7, 2, 8, 9, 10, 1, 2, 6, 7, 8, 10, 6, 9, 1, 3, 6, 8, 10, 4, 5, 7, 1, 2, 3, 7, 9, 10, 3, 4, 5, 6, 8, 4, 9, 3, 6, 10, 2, 3, 7, 8, 1, 3, 6, 8, 3, 6, 10, 4, 6, 8, 6, 3, 5, 2, 4, 7, 9, 1, 2, 3, 5, 7, 8, 9, 10, 9, 1, 6, 1, 6, 7, 5, 6, 4, 8, 2, 7, 8, 9, 10, 3, 6, 10, 3, 5, 9, 10, 2, 10, 3, 6, 8, 9, 1, 5, 7, 8, 9, 9, 2, 7, 1, 8, 10, 4, 5, 9, 2, 3, 5, 8, 9, 1, 9, 5, 7], \"Freq\": [0.002017041229251281, 0.0006723470764170937, 0.9970907143265499, 0.002394822788266717, 0.0011974113941333586, 0.0011974113941333586, 0.002394822788266717, 0.9926540457365542, 0.995110678298963, 0.0016259978403577828, 0.0016259978403577828, 0.0016259978403577828, 0.9988583858225846, 0.9969998152566715, 0.0010674516223304832, 0.0010674516223304832, 0.9956082273675941, 0.0021257582623025522, 0.9948548667575944, 0.0008514502037653428, 0.0008514502037653428, 0.9978996388129818, 0.0020925559704566437, 0.0020925559704566437, 0.9960566419373623, 0.9964899928402537, 0.003389907961180862, 0.0008474769902952155, 0.9957854635968783, 0.9970785315641021, 0.9988060035259859, 0.0005188602615719408, 0.0005188602615719408, 0.991461810408254, 0.0009974464893443198, 0.0019948929786886395, 0.004987232446721599, 0.0010322224373568026, 0.0010322224373568026, 0.9919657622998874, 0.0041288897494272106, 0.0010322224373568026, 0.0010322224373568026, 0.000767219816706607, 0.000767219816706607, 0.9973857617185892, 0.000767219816706607, 0.002455333506747901, 0.9944100702328998, 0.9975987107640515, 0.0006390644755419711, 0.9982187107965589, 0.0006390644755419711, 0.0006390644755419711, 0.9977848699707352, 0.0004273361360188946, 0.000641004204028342, 0.9986845498761567, 0.0019481617261696024, 0.0006493872420565342, 0.9864192206838753, 0.009740808630848013, 0.0006493872420565342, 0.0006493872420565342, 0.002052957188156684, 0.987472407503365, 0.001026478594078342, 0.002052957188156684, 0.001026478594078342, 0.006158871564470051, 0.0037913693614104954, 0.9946025624766865, 0.9877092081793936, 0.006358642971111976, 0.004239095314074651, 0.0010597738285186627, 0.0010597738285186627, 0.0006522883485359612, 0.0013045766970719223, 0.9973488849114845, 0.002786538434274827, 0.006966346085687068, 0.9892211441675636, 0.002209253432188963, 0.0004909452071531028, 0.9971097157279519, 0.010589336346975023, 0.005701950340678858, 0.01792041535641927, 0.0024436930031480823, 0.013033029350123106, 0.00407282167191347, 0.9448946278839251, 0.0007115214224478247, 0.0035576071122391233, 0.0028460856897912987, 0.9890147772024763, 0.0007115214224478247, 0.0028460856897912987, 0.0007115214224478247, 0.9940455237269125, 0.9972517274883282, 0.0004703523574920861, 0.003292466502444603, 0.005173875932412947, 0.9891510078058571, 0.0018814094299683445, 0.9962718041278147, 0.0010121465801205057, 0.005060732900602528, 0.986842915617493, 0.005060732900602528, 0.0010121465801205057, 0.9896184118634864, 0.0024843976866865767, 0.0016562651244577179, 0.0016562651244577179, 0.004140662811144295, 0.0007004715591011297, 0.9953700854827053, 0.00023349051970037655, 0.00023349051970037655, 0.0004669810394007531, 0.00023349051970037655, 0.0007004715591011297, 0.0023349051970037657, 0.9978593660931411, 0.0003511767443854592, 0.0003511767443854592, 0.0003511767443854592, 0.0017558837219272961, 0.9966396005659333, 0.0007023534887709184, 0.0007747790415006238, 0.9816450455812903, 0.0007747790415006238, 0.014720801788511852, 0.0015495580830012475, 0.0010106194291878753, 0.9934388988916814, 0.0010106194291878753, 0.0020212388583757505, 0.0020212388583757505, 0.0016340158895805017, 0.0024510238343707527, 0.9951156767545255, 0.0033616373569056047, 0.9737542877169902, 0.0011205457856352016, 0.0011205457856352016, 0.020169824141433628, 0.001772564174099374, 0.9952947837567985, 0.000886282087049687, 0.001772564174099374, 0.000886282087049687, 0.000886282087049687, 0.9947000600134892, 0.0030987540810389074, 0.997498449110448, 0.0005480462388964326, 0.002603219634758055, 0.9967590969928869, 0.996970201359354, 0.0013202445059915446, 0.0013202445059915446, 0.9967846020236162, 0.0013202445059915446, 0.9959208231510676, 0.0013596188711959968, 0.0006798094355979984, 0.002039428306793995, 0.9946329366846257, 0.0013989211486422303, 0.0013989211486422303, 0.0027978422972844605, 0.0012400922373362198, 0.9970341588183208, 0.002462096027864912, 0.002462096027864912, 0.9946867952574246, 0.0011910050984447293, 0.003573015295334188, 0.0011910050984447293, 0.9932982521029042, 0.0056273402296915685, 0.0008039057470987954, 0.0032156229883951817, 0.9888040689315184, 0.0016078114941975908, 0.001342053008075163, 0.002684106016150326, 0.9944612789836959, 0.9979425798146198, 0.00207975303303046, 0.9951618263050751, 0.00103987651651523, 0.9945800130519343, 0.995808177491706, 0.001123947624157391, 0.9980654902517633, 0.0005619738120786955, 0.0011048582944908033, 0.9976870399251953, 0.994277745238887, 0.003263493693344268, 0.002175662462229512, 0.9972030927548745, 0.0014917379103231373, 0.9964809240958558, 0.9976251761167826, 0.00527055379838891, 0.0008784256330648184, 0.9926209653632448, 0.0008784256330648184, 0.00013093149218495838, 0.0014402464140345422, 0.002094903874959334, 0.0015711779062195005, 0.9946865461291288, 0.0031289055849070603, 0.9949919760004452, 0.9965776163427791, 0.002608841927598898, 0.0008267415671204242, 0.9970503299472315, 0.0004133707835602121, 0.0008267415671204242, 0.0008267415671204242, 0.9958834022344126, 0.0007190493878948828, 0.0028761975515795312, 0.0013866329508490879, 0.0006933164754245439, 0.9969890916604942, 0.9987087745971336, 0.9993489344162151, 0.00025344888014613623, 0.00025344888014613623, 0.9922479332884445, 0.000898775301891707, 0.006291427113241949, 0.9989202632883251, 0.9963110608180306, 0.9965473477831109, 0.9979322172120303, 0.0008296497749573821, 0.0033185990998295285, 0.0008296497749573821, 0.0008296497749573821, 0.9955797299488586, 0.9935769179217169, 0.0008110831983034423, 0.0008110831983034423, 0.0008110831983034423, 0.0012166247974551637, 0.0024332495949103273, 0.9978125172665915, 0.001417347325662772, 0.001417347325662772, 0.9946521680893782, 0.002576819088314451, 0.00200661971369635, 0.003009929570544525, 0.001003309856848175, 0.9932767582796932, 0.9962732252572024, 0.9979886418108632, 0.00027314475540776874, 0.9986172257708026, 0.001092579021631075, 0.9986429375195189, 0.0006039349479775153, 0.0030196747398875765, 0.0006039349479775153, 0.0006039349479775153, 0.9934729894230127, 0.0006039349479775153, 0.0012078698959550305, 0.0002957582180294339, 0.9981839858493394, 0.0002957582180294339, 0.0002957582180294339, 0.0008872746540883017, 0.004343995426454848, 0.00048266615849498306, 0.9913962895486953, 0.00048266615849498306, 0.0033786631094648817, 0.9993708726023629, 0.0015724110589957604, 0.9969086114033121, 0.0014567995337428801, 0.9949940815463871, 0.0014567995337428801, 0.0014567995337428801, 0.997357422851225, 0.9943924858898607, 0.0022754976793818325, 0.9970471711069847, 0.0014791365227090488, 0.9976775845672535, 0.9973238711282636, 0.9871175376673228, 0.009670330060041595, 0.0029754861723204906, 0.0005571292722871458, 0.9967042681217039, 0.0005571292722871458, 0.0005571292722871458, 0.0016713878168614373, 0.996637052910708, 0.000713412349971874, 0.001426824699943748, 0.0015809466117051424, 0.0015809466117051424, 0.0015809466117051424, 0.0015809466117051424, 0.9928344721508294, 0.001085704147847062, 0.003257112443541186, 0.9955907035757559, 0.9962137762835381, 0.0006385985745407295, 0.0019157957236221885, 0.001277197149081459, 0.9985313231622117, 0.996528954698032, 0.0010167174453212333, 0.0010167174453212333, 0.0010167174453212333, 0.0091504570078911, 0.9882493568522388, 0.9979309428504022, 0.0018501711597742694, 0.0018501711597742694, 0.9953920839585569, 0.001208246889161733, 0.001208246889161733, 0.9968036835584297, 0.001208246889161733, 0.001208246889161733, 0.0031675045901498134, 0.9945964413070414, 0.00035508310127708233, 0.00035508310127708233, 0.9938776004745534, 0.00035508310127708233, 0.002485581708939576, 0.002130498607662494, 0.00167221220324858, 0.9974745792377779, 0.0027113083845663574, 0.9950501771358532, 0.007025091314965295, 0.001405018262993059, 0.001405018262993059, 0.9891328571471135, 0.006322707683191887, 0.0012645415366383773, 0.9914005647244879, 0.0010263917482979488, 0.9981659752197551, 0.0005131958741489744, 0.0005131958741489744, 0.9988044856746066, 0.0011827174698584293, 0.9946653921509391, 0.0011827174698584293, 0.003548152409575288, 0.0017054618095821306, 0.0005684872698607102, 0.0005684872698607102, 0.9942842349863822, 0.002842436349303551, 0.0015531035249624402, 0.0015531035249624402, 0.9939862559759617, 0.0015531035249624402, 0.0010117266930364578, 0.9945273392548379, 0.0010117266930364578, 0.0015175900395546867, 0.0005058633465182289, 0.0015175900395546867, 0.997767593023967, 0.9953077489577058, 0.0005377135326621857, 0.0032262811959731146, 0.9974387579012226, 0.0014413854882965645, 0.0014413854882965645, 0.9978650709488024, 0.0009601010945626707, 0.0006400673963751139, 0.0003200336981875569, 0.9963183888692072, 0.002632746874914421, 0.003949120312371632, 0.9899128249678222, 0.002632746874914421, 0.001903448335266853, 0.0009517241676334265, 0.9926483068416638, 0.001903448335266853, 0.0009517241676334265, 0.0009517241676334265, 0.001903448335266853, 0.9960682887863402, 0.9941684068903494, 0.0005034449192468904, 0.9988347197858305, 0.002888239621133761, 0.9935544296700138, 0.0014441198105668805, 0.9954900891217097, 0.0013845481072624613, 0.0013845481072624613, 0.0013845481072624613, 0.0004985115309990135, 0.0004985115309990135, 0.998518596591024, 0.9943113617239796, 0.0030407075282078886, 0.0007601768820519721, 0.0007601768820519721, 0.0007601768820519721, 0.004860082861507381, 0.9926719244628825, 0.0008458778504828375, 0.9947523521678169, 0.0008458778504828375, 0.0008458778504828375, 0.001691755700965675, 0.001691755700965675, 0.9944674440572329, 0.001649199741388446, 0.001649199741388446, 0.001649199741388446, 0.0011034535210211554, 0.9942116224400609, 0.0022069070420423107, 0.001655180281531733, 0.996396147484936, 0.0022452837305875044, 0.0004490567461175009, 0.0026943404767050053, 0.0004490567461175009, 0.010777361906820021, 0.9829852172512094, 0.0005664199701420964, 0.0005664199701420964, 0.9957663075098054, 0.003398519820852578, 0.0005930061540144689, 0.0023720246160578756, 0.0005930061540144689, 0.995064326436279, 0.9987334560454683, 0.0007216282196860319, 0.0023345033526658457, 0.9968329315883161, 0.002327298729234082, 0.9960838561121871, 0.002327298729234082, 0.00037464711603374124, 0.9931895046054481, 0.00037464711603374124, 0.00599435385653986, 0.9951334503263445, 0.0017002258151670225, 0.9980325535030422, 0.995111560086206, 0.0017186728153475062, 0.0017186728153475062, 0.0011983400534593973, 0.9982172645316779, 0.00039531522904258647, 0.002174233759734226, 0.9971826652599244, 0.00019765761452129324, 0.00028798039629376247, 0.9990039947430621, 0.0005759607925875249, 0.0012366024975239745, 0.9942284080092755, 0.0037098074925719236, 0.998811878957064, 0.9946297342092101, 0.00288298473683829, 0.001441492368419145, 0.001441492368419145, 0.0014213864519520374, 0.0014213864519520374, 0.0014213864519520374, 0.9949705163664262, 0.0014213864519520374, 0.0039747165260184, 0.9939630398278871, 0.0005678166465740573, 0.0011356332931481145, 0.00028390832328702864, 0.00028390832328702864, 0.9967272408736856, 0.0011339331523022589, 0.0011339331523022589, 0.0021882594619543187, 0.9956580551892149, 0.0021882594619543187, 0.9974264844015166, 0.0012186029131356342, 0.0006093014565678171, 0.001477009867143723, 0.0004923366223812411, 0.001477009867143723, 0.0019693464895249643, 0.9940276405877256, 0.0018601920461074268, 0.0009300960230537134, 0.0009300960230537134, 0.0009300960230537134, 0.0009300960230537134, 0.0009300960230537134, 0.9942726486444197, 0.011169330527576585, 0.0006382474587186619, 0.9704552609817255, 0.00015956186467966547, 0.015796624603286884, 0.0017551805114763203, 0.0017634164446930674, 0.9975059022147118, 0.0003121985582582745, 0.000416264744344366, 0.998619121682134, 0.000416264744344366, 0.0001040661860860915, 0.0001040661860860915, 0.9959954358876888, 0.0021981452980615935, 0.9957598200219019, 0.001097062672534126, 0.001645594008801189, 0.000548531336267063, 0.9964071723291199, 0.9983547518735464, 0.0012669476546618608, 0.0005561360552031095, 0.9971519469791753, 0.0005561360552031095, 0.0005561360552031095, 0.0005561360552031095, 0.0015291263651508922, 0.9954612637132308, 0.0015291263651508922, 0.0015291263651508922, 0.0005040971988310363, 0.0010081943976620726, 0.9960960648901277, 0.002016388795324145, 0.997583920214408, 0.0012126707376249515, 0.9968153463277101, 0.0012126707376249515, 0.0003108360815354644, 0.0012433443261418576, 0.0027975247338191795, 0.0034191968968901084, 0.9897020836089186, 0.0018650164892127863, 0.0003108360815354644, 0.0006216721630709288, 0.0015564044384627725, 0.9914296273007861, 0.0015564044384627725, 0.004669213315388317, 0.9979802737048815, 0.9965617130465174, 0.0013802793809508552, 0.0013802793809508552, 0.0027054133803295355, 0.9955921239612691, 0.005324362285048052, 0.9935260023899665, 0.0003786817791864068, 0.9974478063769956, 0.0003786817791864068, 0.0003786817791864068, 0.0011360453375592204, 0.9932380241351069, 0.0006945720448497251, 0.005556576358797801, 0.0014928224371321371, 0.9956162544421592, 9.631112497626692e-05, 0.00014446668746440037, 0.0010112668122508027, 0.00019262224995253384, 0.0010112668122508027, 0.00038524449990506767, 0.9914103638510643, 0.0017271957558380913, 0.0025907936337571367, 0.004317989389595228, 0.009810817297109618, 0.0014015453281585168, 0.9880894563517543, 0.9985854283462707, 0.0009144555204636178, 0.9962297674212225, 0.0013703298038806363, 0.0013703298038806363, 0.0008411961592775784, 0.9984998410624857, 0.9953502431000917, 0.9955189965732704, 0.0004046598498777863, 0.9995098291981321, 0.996682618762695, 0.0019736289480449406, 0.0007962968236548539, 0.0007962968236548539, 0.0007962968236548539, 0.9977599200395318, 0.9976915541051834, 0.0015683774876616024, 0.9974880821527792, 0.0020504738640666586, 0.9965302979363961, 0.9974182343041165, 0.0018783770890849652, 0.0016403035951790311, 0.0016403035951790311, 0.995664282273672, 0.0014452631170540826, 0.9928957614161547, 0.002890526234108165, 0.0014452631170540826, 0.0014452631170540826, 0.9977277825537346, 0.0013761762517982546, 0.0032334920554645255, 0.9942988070553416, 0.0016167460277322627, 0.0014663152049158889, 0.9985606545477204, 0.9967775824953347, 0.0016502940107538653, 0.0017616690909741327, 0.0005872230303247108, 0.0005872230303247108, 0.0005872230303247108, 0.9959302594307097, 0.995537875527857, 0.0007772626673998711, 0.0007772626673998711, 0.9972280022740345, 0.0007772626673998711, 0.0020139663064491446, 0.0010069831532245723, 0.9959063385391019, 0.9973000169797103, 0.0013870653921831853, 0.9966459165714086, 0.0019503833983784903, 0.005715285025485178, 0.9916019519216783, 0.0014288212563712945, 0.0014288212563712945, 0.9971366752061224, 0.00025599686245724265, 0.00025599686245724265, 0.0035839560744013966, 0.0007679905873717278, 0.00025599686245724265, 0.0015359811747434557, 0.0005119937249144853, 0.001279984312286213, 0.991731845159358, 0.0014852176507439531, 0.0004950725502479844, 0.9906401730462168, 0.0014852176507439531, 0.0004950725502479844, 0.0004950725502479844, 0.0004950725502479844, 0.002475362751239922, 0.002475362751239922, 0.9960381382188314, 0.004766377550470483, 0.001361822157277281, 0.9920874415764992, 0.0006809110786386405, 0.0006809110786386405, 0.9973025909449975, 0.0007428309204198629, 0.9961362642830361, 0.0007428309204198629, 0.0022284927612595887, 0.00016451021643824665, 0.0004935306493147399, 0.9900224825253683, 0.00016451021643824665, 0.007731980172597593, 0.0014805919479442197, 0.9932294804541867, 0.004587665036739893, 0.0011469162591849732, 0.00046050347302775945, 0.0009210069460555189, 0.9960690121590438, 0.00046050347302775945, 0.0018420138921110378, 0.9987136392361377, 0.0018123814099850757, 0.0009061907049925378, 0.0009061907049925378, 0.0009061907049925378, 0.9959035847867991, 0.0004805311113121935, 0.9951799315275527, 0.0014415933339365803, 0.000961062222624387, 0.000961062222624387, 0.000961062222624387, 0.0008253531557531954, 0.9970266121498601, 0.0008253531557531954, 0.0016507063115063908, 0.0041328931653230785, 0.010745522229840005, 0.9844551519799574, 0.0014394965761626518, 0.9874946512475792, 0.0014394965761626518, 0.008636979456975911, 0.0005240109538300303, 0.0015720328614900908, 0.0005240109538300303, 0.0015720328614900908, 0.9909047136925873, 0.004716098584470273, 0.9940520014162035, 0.00038574172664240265, 0.001157225179927208, 0.00038574172664240265, 0.9975281050972533, 0.9978005330656824, 0.995140226827846, 0.9966961193565735, 0.002034073712972599, 0.9981556711561537, 0.0005309338676362519, 0.0005309338676362519, 0.0005309338676362519, 0.0005309338676362519, 0.0005810183938251891, 0.995284508622549, 0.004067128756776324, 0.9973025459980286, 0.0014907362421495195, 0.9975787374590167, 0.0012434718635755382, 0.0037304155907266147, 0.0012434718635755382, 0.9935340189968551, 0.9970070203890875, 0.0014740969572115481, 0.0014740969572115481, 0.0014740969572115481, 0.9964895430750065, 0.9964650181545072, 0.9981470688086959, 0.001172643426836083, 0.9955742693838344, 0.002345286853672166, 0.001394417273628364, 0.001394417273628364, 0.0041832518208850915, 0.9914306815497668, 0.0017028501751511105, 0.0022704669002014807, 0.9944645022882486, 0.0017028501751511105, 0.9990689743499181, 0.001123092628033691, 0.001123092628033691, 0.0007487284186891274, 0.0007487284186891274, 0.996183161065884, 0.0016449433294992927, 0.0016449433294992927, 0.010692131641745402, 0.9853210543700763, 0.9957421456752863, 0.0018823102942822046, 0.9920626482738817, 0.0004442734654159792, 0.006219828515823709, 0.0008885469308319584, 0.0009419174521467832, 0.0009419174521467832, 0.0009419174521467832, 0.0009419174521467832, 0.9946648294670031, 0.0009419174521467832, 0.0009419174521467832, 0.0040031566003494445, 0.9927828368866622, 0.9964743947824262, 0.0015842200235014724, 0.0007921100117507362, 0.00259878125144391, 0.00043313020857398496, 0.00043313020857398496, 0.9892693963829817, 0.00606382292003579, 0.0008662604171479699, 0.0003005701612550594, 0.9993957861730725, 0.0003005701612550594, 0.00014388728610227893, 0.00014388728610227893, 0.003165520294250136, 0.00014388728610227893, 0.00043166185830683675, 0.00014388728610227893, 0.0008633237166136735, 0.9935417105362359, 0.0012949855749205103, 0.00014388728610227893, 0.9987294507509815, 0.001119024594678971, 0.0008026431663738545, 0.0008026431663738545, 0.003210572665495418, 0.003210572665495418, 0.9904616673053365, 0.0008026431663738545, 0.0032699418560900987, 0.9962422854887835, 0.9955589640268703, 0.002980715461158294, 0.9976962277786501, 0.0009868409770313058, 0.0009868409770313058, 0.9973079147340163, 0.9983127594062537, 0.000794185309277859, 0.001588370618555718, 0.002382555927833577, 0.9903490806694901, 0.003176741237111436, 0.001588370618555718, 0.9962700499418476, 0.003297542573245669, 0.0002060964108278543, 0.0002060964108278543, 0.0002060964108278543, 0.9964275074748904, 0.9966099030990128, 0.001537978245523168, 0.9952783691923633, 0.0020563602669263705, 0.0020563602669263705, 0.9841600154772111, 0.0028945882808153267, 0.0028945882808153267, 0.0028945882808153267, 0.0028945882808153267, 0.0028945882808153267, 0.997722359163215, 0.9985204274115266, 0.9993579186581159, 0.996080018142318, 0.0028297727788134035, 0.0008696641011969638, 0.0017393282023939276, 0.9966350599717205, 0.0008696641011969638, 0.9980157366356, 0.0013767188063141444, 0.0006883594031570722, 0.9967444157714407, 0.0006883594031570722, 0.00035493667184214147, 0.00035493667184214147, 0.0007098733436842829, 0.9941776178298382, 0.0024845567028949902, 0.0010648100155264243, 0.0010648100155264243, 0.9976258292297477, 0.9979503930103989, 0.9962963467091068, 0.9962539566168681, 0.0012934452576027515, 0.9933659578389131, 0.0012934452576027515, 0.0006467226288013757, 0.0006467226288013757, 0.0006467226288013757, 0.0006467226288013757, 0.0006467226288013757, 0.0033749666949852582, 0.002024980016991155, 0.0033749666949852582, 0.9908902216476718, 0.993758717854582, 0.001960076366577085, 0.001960076366577085, 0.0011981905723674716, 0.9964152799807893, 0.0004792762289469886, 0.0002396381144734943, 0.0014378286868409658, 0.9973354286580353, 0.9850264584678604, 0.001105529134082896, 0.012160820474911857, 0.001105529134082896, 0.001105529134082896, 0.0007981450500663403, 0.0007981450500663403, 0.99448873238266, 0.0007981450500663403, 0.003192580200265361, 0.9968949335932847, 0.0012508092014972205, 0.0014827238989686888, 0.9949077362079902, 0.0014827238989686888, 0.001237795472717137, 0.9976631510100125, 0.9939277065315223, 0.0017376358505795844, 0.0017376358505795844, 0.0017376358505795844, 0.0016331980969535858, 0.0003266396193907172, 0.9969041183804688, 0.0009799188581721516, 0.9954022369296859, 0.9981215906229782, 0.0012415102996131083, 0.9956912602897129, 0.0012415102996131083, 0.0009773723521038088, 0.0004886861760519044, 0.0019547447042076176, 0.002932117056311426, 0.9910555650332621, 0.0019547447042076176, 0.0004886861760519044, 0.9990035267993638, 0.0005240524405443866, 0.9972717943559676, 0.0020962097621775463, 0.0012750298618746801, 0.9983483818478746, 0.0016201025627773475, 0.0016201025627773475, 0.003240205125554695, 0.9947429735452914, 0.9955450207115875, 0.0017374258651162086, 0.9929983025776629, 0.0013528587228578515, 0.002705717445715703, 0.0013528587228578515, 0.998054750486147, 0.0024019112971934873, 0.9967931883352972, 0.001732632510132215, 0.9962636933260235, 0.001732632510132215, 0.9956422445213741, 0.9981930906383206, 0.0006427515071721318, 0.0006427515071721318, 0.0006427515071721318, 0.0011292888214365954, 0.0011292888214365954, 0.9926448740427674, 0.0011292888214365954, 0.0011292888214365954, 0.0011292888214365954, 0.0011292888214365954, 0.006699623741374862, 0.9926609176803755, 0.0011166039568958103, 0.9941971484011272, 0.00040562919151412776, 0.0008112583830282555, 0.004461921106655406, 0.9948387828818107, 0.00292599642024062, 0.998913502236973, 0.9975419847841648, 0.9970770006711298, 0.0019360718459633588, 0.0005847724369697101, 0.9952826877224467, 0.0040934070587879704, 0.9948300352647291, 0.9972474803471771, 0.9976942095006953, 0.9972836338677605, 0.996107603121404, 0.0022450294340611936, 0.0011225147170305968, 0.99679306872317, 0.0003159256111958913, 0.0003159256111958913, 0.0018955536671753479, 0.9961134521006453, 0.0006318512223917826, 0.0006318512223917826, 0.0011305527170527836, 0.0011305527170527836, 0.9960169437235025, 0.0011305527170527836, 0.0003009267153617343, 0.9981739148548726, 0.0006018534307234686, 0.0003009267153617343, 0.002469308381783831, 0.9956251395352406, 0.0004938616763567662, 0.0014815850290702986, 0.997193221450667, 0.9960934805294254, 0.0007963792595509308, 0.0003539463375781915, 0.0011945688893263962, 4.4243292197273935e-05, 0.0005751627985645612, 0.0006636493829591091, 0.0002654597531836436, 0.9980920416878779, 0.9956585633342289, 0.0012587339612316422, 0.0012587339612316422, 0.0023031297345809713, 0.99610361020627, 0.0011515648672904856, 0.0005856745827010895, 0.9991608380880588, 0.994182092642318, 0.9931555527831895, 0.0010238717039001953, 0.0020477434078003906, 0.0020477434078003906, 0.001464923289893251, 0.002929846579786502, 0.9946829138375175, 0.001464923289893251, 0.0012314643869262617, 0.9913288314756408, 0.0012314643869262617, 0.005336345676680468, 0.0004104881289754206, 0.9953496743771417, 0.0024455765955212327, 0.9965281478156857, 0.9963924900313569, 0.9960330282548722, 0.0008308834118717972, 0.0016617668237435945, 0.002284929382647442, 0.002077208529679493, 0.9931133980397656, 0.0027227455840889703, 0.9938021381924741, 0.0012609537405613256, 0.9911096400812018, 0.002521907481122651, 0.0037828612216839765, 0.0012609537405613256, 0.9956145599502529, 0.0011013435397679789, 0.0022026870795359577, 0.9974323138792013, 0.9982900057710191, 0.9966715472519139, 0.0012821971484650468, 0.0012821971484650468, 0.9975493815058064, 0.0012358472553529063, 0.0024716945107058127, 0.0012358472553529063, 0.9960928878144426, 0.9929286101058626, 0.0008357984933551032, 0.003343193973420413, 0.0008357984933551032, 0.0008357984933551032, 0.9976276962030859, 0.0008652451831770042, 0.0008652451831770042, 0.0008652451831770042, 0.0013253284341136046, 0.0013253284341136046, 0.9860443549805218, 0.010602627472908837, 0.0021422505327272938, 0.0010711252663636469, 0.0010711252663636469, 0.0010711252663636469, 0.0010711252663636469, 0.9940042471854644, 0.9969231728890092, 0.996281799903143, 0.0013238998105642738, 0.005295599242257095, 0.9929248579232053, 0.9898439032878212, 0.002505933932374231, 0.002505933932374231, 0.0012529669661871154, 0.002505933932374231, 0.0030296356709992923, 0.9867956185540552, 0.006492076437855626, 0.00043280509585704173, 0.00043280509585704173, 0.00043280509585704173, 0.0025968305751422503, 0.0022673369898927025, 0.9976282755527891, 0.9952988919580682, 0.002640050111294611, 0.0034743016780835784, 0.9936502799319035, 0.000738574660545757, 0.9985529410578633, 0.000738574660545757, 0.9977912354681886, 0.0018258301580960786, 0.0036516603161921572, 0.9923386909252186, 0.0018258301580960786, 0.0007411191429206463, 0.0007411191429206463, 0.0014822382858412926, 0.9968052472282694, 0.0014879690188260488, 0.0014879690188260488, 0.9969392426134527, 0.002117711852384501, 0.9953245706207154, 0.002676772165333911, 0.0013383860826669555, 0.005353544330667822, 0.0013383860826669555, 0.9850521568428793, 0.005353544330667822, 0.9941427607589829, 0.0002914519967044805, 0.00019430133113632032, 0.0002914519967044805, 0.0034974239604537655, 0.0013601093179542421, 9.715066556816016e-05, 0.00019430133113632032, 0.0017250255340324966, 0.9953397331367505, 0.0017250255340324966, 0.9940324150865634, 0.0013561151638288723, 0.0013561151638288723, 0.9957864297052512, 0.0025467683624175222, 0.00015841586238215228, 0.00031683172476430456, 7.920793119107614e-05, 7.920793119107614e-05, 0.9992872599066167, 7.920793119107614e-05, 0.9984829389781047, 0.0002064687632295502, 0.0008258750529182007, 0.0002064687632295502, 0.0002064687632295502, 0.9956433744961567, 0.000984323652492493, 0.000984323652492493, 0.0014764854787387397, 0.000984323652492493, 0.002123866776928478, 0.008495467107713912, 0.002123866776928478, 0.9875980512717424, 0.002937492411065117, 0.9958099273510748, 0.0016315849285242175, 0.0005438616428414058, 0.9952668063997726, 0.0021754465713656234, 0.9976778291187649, 0.9906590593928423, 0.0005189413616515675, 0.0005189413616515675, 0.0005189413616515675, 0.0005189413616515675, 0.006746237701470377, 0.003728653045836549, 0.9905788258439099, 0.003728653045836549, 0.001242884348612183, 0.0007347031036230731, 0.9969921116165102, 0.0007347031036230731, 0.0014694062072461462, 0.0007347031036230731, 0.002579187157258951, 0.995566242701955, 0.9962900762087572, 0.0006893966287013191, 0.0013787932574026382, 0.0006893966287013191, 0.9975569217308088, 0.000505334364106742, 0.9985407034749222, 0.008518822149896283, 0.9905066845197588, 0.9897286284713596, 0.003008293703560363, 0.0015041468517801816, 0.0015041468517801816, 0.0015041468517801816, 0.003008293703560363, 0.0002748418586368707, 0.0005496837172737414, 0.0008245255759106121, 0.0005496837172737414, 0.9976759468518406, 0.997808758040242, 0.0016041941447592317, 0.0006005837979422074, 0.007207005575306489, 0.0006005837979422074, 0.0006005837979422074, 0.0006005837979422074, 0.9903626828067, 0.004307818557932088, 0.0014359395193106962, 0.0014359395193106962, 0.0028718790386213925, 0.9893623288050697, 0.004166156714742297, 0.9873791413939245, 0.005207695893427872, 0.0020830783573711487, 0.0010415391786855743, 0.00014581013950576294, 0.9977787846379358, 0.0010206709765403406, 0.0007290506975288147, 0.00014581013950576294, 0.001108814832630154, 0.001108814832630154, 0.002217629665260308, 0.002217629665260308, 0.9923892752039878, 0.001108814832630154, 0.001077734511734667, 0.9947489543310976, 0.001077734511734667, 0.002155469023469334, 0.001077734511734667, 0.0028562764796122827, 0.0028562764796122827, 0.0028562764796122827, 0.0028562764796122827, 0.9896998001856558, 0.001370967391409648, 0.9870965218149466, 0.009596771739867536, 0.0010725173467098362, 0.9974411324401478, 0.0010725173467098362, 0.9940048077670236, 0.9949131465834727, 0.0011054590517594143, 0.0022109181035188286, 0.0004631699142456568, 0.011116077941895763, 0.987941427085986, 0.001995304305907815, 0.9956568486479996, 0.001995304305907815, 0.0014475085143676408, 0.9973333663993046, 0.003840084720285144, 0.0012800282400950481, 0.9945819425538523, 0.9965443337484505, 0.003065797583537576, 0.0010219325278458587, 0.9953622821218664, 0.0010219325278458587, 0.9961490871421921, 0.0010259001927314028, 0.0005129500963657014, 0.0015388502890971041, 0.0005129500963657014, 0.0009335601002057947, 0.006651615713966288, 0.0031507653381945572, 0.9891069261680395, 0.9963125789890837, 0.9976956395342622, 0.0007943436620495718, 0.0007943436620495718, 0.0014957664257326633, 0.0029915328514653265, 0.9916931402607557, 0.0014957664257326633, 0.0014957664257326633, 0.0014957664257326633, 0.9933784093066316, 0.998105398592119, 0.0013166302372542998, 0.0013166302372542998, 0.0013166302372542998, 0.005266520949017199, 0.9901059384152335, 0.0028826981043109903, 0.9954917453553954, 0.0009608993681036635, 0.00174939130541137, 0.004081913045959863, 0.9907386092979725, 0.0005831304351371233, 0.0005831304351371233, 0.00174939130541137, 0.0004343467007935549, 0.0013030401023806648, 0.0013030401023806648, 0.0008686934015871098, 0.9959569849196215, 0.9970069374805913, 0.9985359705735284, 0.996359923453006, 0.001062783918349873, 0.002125567836699746, 0.0005740755634973635, 0.9954470271044285, 0.0005740755634973635, 0.0028703778174868177, 0.005100372223042092, 0.0034002481486947287, 0.0034002481486947287, 0.9877720871958187, 0.9978441933317759, 0.0007957290217956745, 0.0007957290217956745, 0.001424554716224551, 0.001424554716224551, 0.9957637466409611, 0.9985302464801183, 0.0071716612806482245, 0.9920798104896711, 0.0014595760730987937, 0.0007297880365493969, 0.9939713057802786, 0.0029191521461975874, 0.0006215112398440876, 0.0006215112398440876, 0.0006215112398440876, 0.0012430224796881751, 0.0006215112398440876, 0.9937964725106959, 0.0006215112398440876, 0.0018645337195322626, 0.9963763006273625, 0.9972479019556801, 0.0029074282855850735, 0.0011489191906018112, 0.0011489191906018112, 0.9972618574423723, 0.9981020943462064, 0.001028971231284749, 0.9944698027145592, 0.004535780172016233, 0.0012641584842071425, 0.993628568586814, 0.0012641584842071425, 0.002528316968414285, 0.0012641584842071425, 0.9969042721953528, 0.0008453117062142618, 0.001972393981166611, 0.0007330461184289522, 0.9954766288265171, 0.003665230592144761, 0.9983091524286795, 0.0010324303740747627, 0.9973277413562208, 0.9937244822889586, 0.0009304536351020211, 0.0027913609053060637, 0.0018609072702040423, 0.002096508599834869, 0.9953174577716039, 0.0015723814498761514, 0.0005241271499587172, 0.0005241271499587172, 0.9988210916266095, 0.0013899861812404792, 0.998010078130664, 0.0017195493124660558, 0.9956190519178463, 0.0017195493124660558, 0.9959809015340992, 0.001627419773748528, 0.001627419773748528, 0.0004724984908117428, 0.002047493460184219, 0.0003149989938744952, 0.9971293151097146, 0.0001574994969372476, 0.002045416567273961, 0.998163284829693, 0.0007536405786229287, 0.9985737666753806], \"Term\": [\"able\", \"able\", \"able\", \"access\", \"access\", \"access\", \"access\", \"access\", \"accommodating\", \"accommodating\", \"accommodating\", \"accommodating\", \"accommodation\", \"across\", \"across\", \"across\", \"ago\", \"air\", \"air\", \"airport\", \"airport\", \"airport\", \"along\", \"along\", \"along\", \"already\", \"also\", \"also\", \"also\", \"although\", \"always\", \"always\", \"always\", \"amazing\", \"amazing\", \"amazing\", \"amazing\", \"amenity\", \"amenity\", \"amenity\", \"amenity\", \"amenity\", \"amenity\", \"another\", \"another\", \"another\", \"another\", \"anyone\", \"anyone\", \"apologize\", \"appreciate\", \"appreciate\", \"appreciate\", \"appreciate\", \"appreciated\", \"area\", \"area\", \"area\", \"around\", \"around\", \"around\", \"around\", \"around\", \"around\", \"arrived\", \"arrived\", \"arrived\", \"arrived\", \"arrived\", \"arrived\", \"asked\", \"asked\", \"available\", \"available\", \"available\", \"available\", \"available\", \"away\", \"away\", \"away\", \"awesome\", \"awesome\", \"awesome\", \"back\", \"back\", \"back\", \"bad\", \"bad\", \"bad\", \"bad\", \"bad\", \"bad\", \"bad\", \"bar\", \"bar\", \"bar\", \"bar\", \"bar\", \"bar\", \"bar\", \"based\", \"bath\", \"bathroom\", \"bathroom\", \"bathroom\", \"bathroom\", \"bathroom\", \"bay\", \"beach\", \"beach\", \"beach\", \"beach\", \"beach\", \"beautiful\", \"beautiful\", \"beautiful\", \"beautiful\", \"beautiful\", \"bed\", \"bed\", \"bed\", \"bed\", \"bed\", \"bed\", \"bed\", \"bed\", \"bedroom\", \"best\", \"best\", \"best\", \"best\", \"best\", \"best\", \"better\", \"better\", \"better\", \"better\", \"better\", \"big\", \"big\", \"big\", \"big\", \"big\", \"bit\", \"bit\", \"bit\", \"block\", \"block\", \"block\", \"block\", \"block\", \"booked\", \"booked\", \"booked\", \"booked\", \"booked\", \"booked\", \"bourbon\", \"bourbon\", \"brand\", \"breakfast\", \"breakfast\", \"breakfast\", \"bring\", \"building\", \"building\", \"building\", \"building\", \"business\", \"business\", \"business\", \"business\", \"call\", \"call\", \"call\", \"call\", \"called\", \"called\", \"came\", \"came\", \"came\", \"cant\", \"cant\", \"cant\", \"cant\", \"car\", \"car\", \"car\", \"car\", \"car\", \"care\", \"care\", \"care\", \"carpet\", \"center\", \"center\", \"center\", \"chain\", \"chance\", \"check\", \"check\", \"check\", \"checked\", \"checked\", \"choice\", \"choice\", \"choice\", \"choose\", \"choosing\", \"choosing\", \"chose\", \"city\", \"city\", \"city\", \"city\", \"clean\", \"clean\", \"clean\", \"clean\", \"clean\", \"cleaning\", \"cleaning\", \"clerk\", \"clerk\", \"close\", \"close\", \"close\", \"close\", \"close\", \"coffee\", \"coffee\", \"coffee\", \"come\", \"come\", \"come\", \"comfort\", \"comfortable\", \"comfortable\", \"comfortable\", \"comment\", \"comment\", \"comment\", \"complimentary\", \"concern\", \"consider\", \"continue\", \"convenient\", \"convenient\", \"convenient\", \"convenient\", \"convenient\", \"could\", \"could\", \"could\", \"could\", \"could\", \"could\", \"couple\", \"couple\", \"couple\", \"courteous\", \"courteous\", \"customer\", \"customer\", \"customer\", \"customer\", \"dark\", \"daughter\", \"day\", \"day\", \"day\", \"decided\", \"definitely\", \"definitely\", \"definitely\", \"definitely\", \"definitely\", \"definitely\", \"definitely\", \"desk\", \"desk\", \"desk\", \"desk\", \"desk\", \"didnt\", \"didnt\", \"didnt\", \"didnt\", \"didnt\", \"diego\", \"different\", \"different\", \"dinner\", \"dinner\", \"dinner\", \"dinner\", \"directly\", \"dirty\", \"dirty\", \"disappointed\", \"distance\", \"distance\", \"dog\", \"dont\", \"dont\", \"dont\", \"door\", \"door\", \"door\", \"door\", \"door\", \"downtown\", \"downtown\", \"downtown\", \"drive\", \"drive\", \"drive\", \"drive\", \"drive\", \"early\", \"early\", \"early\", \"easy\", \"easy\", \"easy\", \"easy\", \"eat\", \"efficient\", \"elevator\", \"elevator\", \"elevator\", \"elevator\", \"elevator\", \"else\", \"end\", \"end\", \"end\", \"enjoy\", \"enjoy\", \"enjoy\", \"enjoy\", \"enjoy\", \"enjoyable\", \"enjoyable\", \"enjoyed\", \"enjoyed\", \"enjoyed\", \"enjoyed\", \"enjoyed\", \"enjoyed\", \"enough\", \"enough\", \"ensure\", \"ensure\", \"entire\", \"entire\", \"entire\", \"entire\", \"especially\", \"especially\", \"especially\", \"even\", \"even\", \"even\", \"even\", \"evening\", \"ever\", \"ever\", \"ever\", \"ever\", \"every\", \"every\", \"every\", \"every\", \"every\", \"everyone\", \"everyone\", \"everyone\", \"everyone\", \"everything\", \"everything\", \"everything\", \"everything\", \"everything\", \"everything\", \"everywhere\", \"excellent\", \"excellent\", \"excellent\", \"expectation\", \"expectation\", \"expectation\", \"experience\", \"experience\", \"experience\", \"experience\", \"experienced\", \"extra\", \"extra\", \"extra\", \"extra\", \"extremely\", \"extremely\", \"extremely\", \"extremely\", \"extremely\", \"extremely\", \"extremely\", \"fact\", \"fairly\", \"family\", \"family\", \"fantastic\", \"fantastic\", \"fantastic\", \"far\", \"far\", \"far\", \"far\", \"feedback\", \"feedback\", \"feedback\", \"feel\", \"feel\", \"feel\", \"feel\", \"feel\", \"felt\", \"felt\", \"find\", \"find\", \"find\", \"find\", \"find\", \"find\", \"fine\", \"fine\", \"fine\", \"fine\", \"first\", \"first\", \"first\", \"first\", \"five\", \"floor\", \"floor\", \"floor\", \"floor\", \"floor\", \"floor\", \"food\", \"food\", \"food\", \"food\", \"forward\", \"forward\", \"forward\", \"forward\", \"found\", \"found\", \"four\", \"four\", \"francisco\", \"francisco\", \"francisco\", \"free\", \"free\", \"free\", \"free\", \"freeway\", \"fresh\", \"fresh\", \"fridge\", \"fridge\", \"fridge\", \"friend\", \"friend\", \"friendly\", \"friendly\", \"friendly\", \"friendly\", \"front\", \"front\", \"front\", \"full\", \"full\", \"full\", \"future\", \"garden\", \"garden\", \"garden\", \"garden\", \"gave\", \"gave\", \"gave\", \"gave\", \"gave\", \"get\", \"get\", \"get\", \"get\", \"get\", \"get\", \"give\", \"give\", \"give\", \"given\", \"given\", \"given\", \"glad\", \"glad\", \"glad\", \"go\", \"go\", \"go\", \"go\", \"go\", \"going\", \"going\", \"going\", \"going\", \"going\", \"going\", \"going\", \"good\", \"good\", \"good\", \"good\", \"good\", \"good\", \"got\", \"got\", \"great\", \"great\", \"great\", \"great\", \"great\", \"great\", \"greeted\", \"group\", \"group\", \"guest\", \"guest\", \"guest\", \"guest\", \"hampton\", \"hampton\", \"happy\", \"happy\", \"happy\", \"happy\", \"happy\", \"hard\", \"hard\", \"hard\", \"hard\", \"hear\", \"hear\", \"hear\", \"hear\", \"heart\", \"help\", \"help\", \"help\", \"helpful\", \"helpful\", \"helpful\", \"helpful\", \"helpful\", \"helpful\", \"helpful\", \"helpful\", \"highly\", \"highly\", \"highly\", \"highly\", \"highway\", \"hilton\", \"hilton\", \"hilton\", \"holiday\", \"holiday\", \"home\", \"home\", \"hope\", \"hope\", \"hope\", \"hope\", \"hope\", \"hot\", \"hot\", \"hot\", \"hotel\", \"hotel\", \"hotel\", \"hotel\", \"hotel\", \"hotel\", \"hotel\", \"hotel\", \"hour\", \"hour\", \"hour\", \"hour\", \"housekeeping\", \"housekeeping\", \"housekeeping\", \"however\", \"however\", \"husband\", \"husband\", \"husband\", \"im\", \"im\", \"important\", \"inconvenience\", \"inn\", \"inn\", \"internet\", \"internet\", \"issue\", \"issue\", \"issue\", \"issue\", \"item\", \"ive\", \"ive\", \"job\", \"job\", \"keep\", \"keep\", \"kept\", \"kept\", \"kept\", \"key\", \"key\", \"key\", \"key\", \"key\", \"kid\", \"kid\", \"kind\", \"kind\", \"kind\", \"king\", \"king\", \"kitchen\", \"kitchen\", \"know\", \"know\", \"know\", \"know\", \"know\", \"lake\", \"large\", \"large\", \"large\", \"large\", \"last\", \"last\", \"last\", \"late\", \"late\", \"le\", \"le\", \"let\", \"let\", \"let\", \"let\", \"level\", \"like\", \"like\", \"like\", \"like\", \"like\", \"like\", \"like\", \"like\", \"like\", \"little\", \"little\", \"little\", \"little\", \"little\", \"little\", \"little\", \"little\", \"little\", \"living\", \"lobby\", \"lobby\", \"lobby\", \"lobby\", \"lobby\", \"local\", \"located\", \"located\", \"located\", \"located\", \"location\", \"location\", \"location\", \"location\", \"location\", \"location\", \"long\", \"long\", \"long\", \"look\", \"look\", \"look\", \"look\", \"look\", \"looked\", \"looking\", \"looking\", \"looking\", \"looking\", \"looking\", \"lot\", \"lot\", \"lot\", \"lot\", \"lot\", \"lot\", \"love\", \"love\", \"love\", \"love\", \"loved\", \"loved\", \"loved\", \"lovely\", \"lovely\", \"lovely\", \"lovely\", \"made\", \"made\", \"made\", \"made\", \"made\", \"made\", \"maintenance\", \"make\", \"make\", \"make\", \"make\", \"making\", \"mall\", \"management\", \"management\", \"manager\", \"manager\", \"manager\", \"manager\", \"manager\", \"many\", \"many\", \"many\", \"may\", \"may\", \"meal\", \"member\", \"member\", \"member\", \"member\", \"miami\", \"microwave\", \"microwave\", \"microwave\", \"microwave\", \"mile\", \"min\", \"minute\", \"minute\", \"minute\", \"modern\", \"modern\", \"modern\", \"modern\", \"morning\", \"morning\", \"morning\", \"morning\", \"motel\", \"much\", \"much\", \"much\", \"much\", \"much\", \"near\", \"near\", \"near\", \"near\", \"nearby\", \"nearby\", \"need\", \"need\", \"need\", \"need\", \"needed\", \"needed\", \"needed\", \"needed\", \"needed\", \"needed\", \"needed\", \"neighborhood\", \"neighborhood\", \"never\", \"never\", \"never\", \"new\", \"new\", \"new\", \"new\", \"new\", \"new\", \"next\", \"next\", \"next\", \"nice\", \"nice\", \"nice\", \"nice\", \"nice\", \"nice\", \"nice\", \"nice\", \"nice\", \"nice\", \"night\", \"night\", \"noise\", \"noise\", \"noise\", \"noise\", \"noise\", \"noise\", \"nothing\", \"nothing\", \"number\", \"number\", \"offer\", \"offer\", \"offer\", \"office\", \"ok\", \"old\", \"old\", \"old\", \"old\", \"old\", \"old\", \"one\", \"one\", \"one\", \"one\", \"one\", \"online\", \"open\", \"open\", \"opportunity\", \"opportunity\", \"opportunity\", \"option\", \"option\", \"option\", \"option\", \"option\", \"option\", \"orlando\", \"orleans\", \"outside\", \"outstanding\", \"outstanding\", \"overall\", \"overall\", \"overall\", \"overall\", \"owner\", \"park\", \"park\", \"park\", \"park\", \"parking\", \"parking\", \"parking\", \"parking\", \"parking\", \"parking\", \"parking\", \"part\", \"pas\", \"past\", \"pearl\", \"people\", \"people\", \"people\", \"people\", \"people\", \"people\", \"people\", \"people\", \"perfect\", \"perfect\", \"perfect\", \"perfect\", \"person\", \"person\", \"person\", \"place\", \"place\", \"place\", \"place\", \"place\", \"plan\", \"pleasant\", \"pleasant\", \"pleasant\", \"pleasant\", \"pleasant\", \"please\", \"please\", \"please\", \"please\", \"please\", \"pleased\", \"pleased\", \"plenty\", \"plenty\", \"plenty\", \"plus\", \"plus\", \"pm\", \"pm\", \"pm\", \"pm\", \"pool\", \"pool\", \"pool\", \"pool\", \"poor\", \"positive\", \"pretty\", \"pretty\", \"pretty\", \"price\", \"price\", \"price\", \"price\", \"price\", \"price\", \"price\", \"problem\", \"property\", \"property\", \"property\", \"provide\", \"provide\", \"provided\", \"provided\", \"provided\", \"provided\", \"put\", \"put\", \"quality\", \"quality\", \"quality\", \"quality\", \"quarter\", \"queen\", \"queen\", \"quick\", \"quick\", \"quick\", \"quickly\", \"quiet\", \"quiet\", \"quiet\", \"quiet\", \"quite\", \"quite\", \"quite\", \"quite\", \"quite\", \"quite\", \"quite\", \"rate\", \"rate\", \"rate\", \"really\", \"really\", \"really\", \"really\", \"reason\", \"reason\", \"recent\", \"recently\", \"reception\", \"reception\", \"recommend\", \"recommend\", \"recommend\", \"recommendation\", \"refrigerator\", \"regarding\", \"renovated\", \"requested\", \"reservation\", \"reservation\", \"reservation\", \"restaurant\", \"restaurant\", \"restaurant\", \"restaurant\", \"restaurant\", \"restaurant\", \"return\", \"return\", \"return\", \"return\", \"review\", \"review\", \"review\", \"review\", \"right\", \"right\", \"right\", \"right\", \"river\", \"room\", \"room\", \"room\", \"room\", \"room\", \"room\", \"room\", \"room\", \"run\", \"safe\", \"safe\", \"safe\", \"said\", \"said\", \"said\", \"san\", \"san\", \"sausage\", \"say\", \"say\", \"say\", \"say\", \"second\", \"second\", \"second\", \"second\", \"see\", \"see\", \"see\", \"see\", \"see\", \"seeing\", \"seeing\", \"seems\", \"selection\", \"served\", \"service\", \"service\", \"service\", \"service\", \"service\", \"set\", \"set\", \"several\", \"several\", \"several\", \"several\", \"several\", \"share\", \"share\", \"share\", \"shared\", \"sharing\", \"shop\", \"shopping\", \"shopping\", \"shopping\", \"short\", \"short\", \"short\", \"short\", \"shower\", \"shower\", \"shower\", \"shower\", \"shower\", \"shuttle\", \"shuttle\", \"shuttle\", \"shuttle\", \"side\", \"side\", \"side\", \"side\", \"since\", \"since\", \"since\", \"since\", \"since\", \"since\", \"sincerely\", \"situation\", \"size\", \"size\", \"size\", \"sleep\", \"sleep\", \"sleep\", \"sleep\", \"sleep\", \"small\", \"small\", \"small\", \"small\", \"small\", \"small\", \"small\", \"smell\", \"smell\", \"someone\", \"someone\", \"son\", \"son\", \"soon\", \"soon\", \"soon\", \"sorry\", \"space\", \"space\", \"space\", \"space\", \"spacious\", \"spacious\", \"spacious\", \"spacious\", \"special\", \"special\", \"special\", \"square\", \"square\", \"st\", \"st\", \"st\", \"st\", \"st\", \"st\", \"staff\", \"staff\", \"staff\", \"staff\", \"staff\", \"staff\", \"staff\", \"staff\", \"standard\", \"standard\", \"standard\", \"star\", \"star\", \"star\", \"start\", \"start\", \"stay\", \"stay\", \"stay\", \"stay\", \"stay\", \"stay\", \"stayed\", \"stayed\", \"stayed\", \"stayed\", \"stayed\", \"staying\", \"staying\", \"staying\", \"staying\", \"staying\", \"still\", \"still\", \"still\", \"still\", \"store\", \"store\", \"street\", \"street\", \"street\", \"street\", \"strive\", \"suite\", \"suite\", \"suite\", \"suite\", \"suite\", \"suite\", \"super\", \"super\", \"super\", \"super\", \"sure\", \"sure\", \"sure\", \"sure\", \"sure\", \"surprised\", \"surprised\", \"swimming\", \"take\", \"take\", \"take\", \"take\", \"taking\", \"taking\", \"team\", \"team\", \"th\", \"th\", \"th\", \"th\", \"th\", \"th\", \"thank\", \"thank\", \"thank\", \"thank\", \"thank\", \"thanks\", \"thanks\", \"thing\", \"thing\", \"thing\", \"thing\", \"thing\", \"thing\", \"think\", \"think\", \"think\", \"think\", \"think\", \"though\", \"though\", \"though\", \"though\", \"though\", \"time\", \"time\", \"time\", \"time\", \"time\", \"told\", \"told\", \"told\", \"told\", \"told\", \"told\", \"took\", \"took\", \"took\", \"took\", \"took\", \"top\", \"top\", \"top\", \"top\", \"top\", \"towel\", \"towel\", \"towel\", \"town\", \"town\", \"town\", \"transportation\", \"travel\", \"travel\", \"travel\", \"trip\", \"trip\", \"trip\", \"truly\", \"truly\", \"truly\", \"try\", \"try\", \"tub\", \"tub\", \"tub\", \"turn\", \"tv\", \"tv\", \"tv\", \"tv\", \"two\", \"two\", \"two\", \"two\", \"two\", \"u\", \"u\", \"u\", \"u\", \"union\", \"use\", \"use\", \"use\", \"used\", \"used\", \"used\", \"used\", \"used\", \"used\", \"usual\", \"vacation\", \"valet\", \"valet\", \"valet\", \"valet\", \"valet\", \"value\", \"value\", \"value\", \"view\", \"view\", \"view\", \"view\", \"view\", \"view\", \"visit\", \"visit\", \"visit\", \"visit\", \"visit\", \"visiting\", \"waffle\", \"walk\", \"walk\", \"walk\", \"walking\", \"walking\", \"walking\", \"walking\", \"wall\", \"wall\", \"wall\", \"wall\", \"want\", \"want\", \"want\", \"wanted\", \"wanted\", \"wanted\", \"warm\", \"wasnt\", \"wasnt\", \"water\", \"water\", \"water\", \"water\", \"way\", \"way\", \"way\", \"way\", \"way\", \"way\", \"way\", \"way\", \"weather\", \"wedding\", \"wedding\", \"week\", \"week\", \"week\", \"weekend\", \"weekend\", \"welcome\", \"welcome\", \"welcoming\", \"welcoming\", \"welcoming\", \"welcoming\", \"welcoming\", \"well\", \"well\", \"well\", \"went\", \"went\", \"went\", \"whole\", \"wifi\", \"wifi\", \"within\", \"within\", \"within\", \"within\", \"wonderful\", \"wonderful\", \"wonderful\", \"wonderful\", \"wonderful\", \"word\", \"work\", \"work\", \"worked\", \"worked\", \"worked\", \"working\", \"working\", \"working\", \"would\", \"would\", \"would\", \"would\", \"would\", \"write\", \"write\", \"year\", \"year\"]}, \"R\": 30, \"lambda.step\": 0.01, \"plot.opts\": {\"xlab\": \"PC1\", \"ylab\": \"PC2\"}, \"topic.order\": [2, 8, 4, 3, 6, 7, 10, 5, 9, 1]};\n",
       "\n",
       "function LDAvis_load_lib(url, callback){\n",
       "  var s = document.createElement('script');\n",
       "  s.src = url;\n",
       "  s.async = true;\n",
       "  s.onreadystatechange = s.onload = callback;\n",
       "  s.onerror = function(){console.warn(\"failed to load library \" + url);};\n",
       "  document.getElementsByTagName(\"head\")[0].appendChild(s);\n",
       "}\n",
       "\n",
       "if(typeof(LDAvis) !== \"undefined\"){\n",
       "   // already loaded: just create the visualization\n",
       "   !function(LDAvis){\n",
       "       new LDAvis(\"#\" + \"ldavis_el1064022355964391128092294022\", ldavis_el1064022355964391128092294022_data);\n",
       "   }(LDAvis);\n",
       "}else if(typeof define === \"function\" && define.amd){\n",
       "   // require.js is available: use it to load d3/LDAvis\n",
       "   require.config({paths: {d3: \"https://cdnjs.cloudflare.com/ajax/libs/d3/3.5.5/d3.min\"}});\n",
       "   require([\"d3\"], function(d3){\n",
       "      window.d3 = d3;\n",
       "      LDAvis_load_lib(\"https://cdn.rawgit.com/bmabey/pyLDAvis/files/ldavis.v1.0.0.js\", function(){\n",
       "        new LDAvis(\"#\" + \"ldavis_el1064022355964391128092294022\", ldavis_el1064022355964391128092294022_data);\n",
       "      });\n",
       "    });\n",
       "}else{\n",
       "    // require.js not available: dynamically load d3 & LDAvis\n",
       "    LDAvis_load_lib(\"https://cdnjs.cloudflare.com/ajax/libs/d3/3.5.5/d3.min.js\", function(){\n",
       "         LDAvis_load_lib(\"https://cdn.rawgit.com/bmabey/pyLDAvis/files/ldavis.v1.0.0.js\", function(){\n",
       "                 new LDAvis(\"#\" + \"ldavis_el1064022355964391128092294022\", ldavis_el1064022355964391128092294022_data);\n",
       "            })\n",
       "         });\n",
       "}\n",
       "</script>"
      ],
      "text/plain": [
       "PreparedData(topic_coordinates=              x         y  topics  cluster       Freq\n",
       "topic                                                \n",
       "1      0.224067  0.221393       1        1  10.373381\n",
       "7     -0.010637 -0.232174       2        1  10.316920\n",
       "3     -0.232149  0.174798       3        1  10.299175\n",
       "2      0.164902  0.127256       4        1  10.212158\n",
       "5     -0.196835 -0.002971       5        1  10.179623\n",
       "6      0.067437 -0.139016       6        1   9.986672\n",
       "9      0.173087 -0.165128       7        1   9.977286\n",
       "4     -0.048946  0.103688       8        1   9.701702\n",
       "8     -0.103992 -0.100212       9        1   9.695296\n",
       "0     -0.036934  0.012365      10        1   9.257788, topic_info=          Term          Freq         Total Category  logprob  loglift\n",
       "26587     room  22602.000000  22602.000000  Default  30.0000  30.0000\n",
       "14840    hotel  20766.000000  20766.000000  Default  29.0000  29.0000\n",
       "29777     stay  12624.000000  12624.000000  Default  28.0000  28.0000\n",
       "29564    staff  10293.000000  10293.000000  Default  27.0000  27.0000\n",
       "13414    great   9609.000000   9609.000000  Default  26.0000  26.0000\n",
       "...        ...           ...           ...      ...      ...      ...\n",
       "33475    valet    752.331083    759.514685  Topic10  -4.7093   2.3702\n",
       "2562       bad   1160.013717   1227.650116  Topic10  -4.2763   2.3230\n",
       "2418   awesome    709.652807    717.736377  Topic10  -4.7677   2.3684\n",
       "10273   entire    703.928781    711.734521  Topic10  -4.7758   2.3687\n",
       "31440    think    689.265095    696.408161  Topic10  -4.7968   2.3694\n",
       "\n",
       "[481 rows x 6 columns], token_table=       Topic      Freq    Term\n",
       "term                          \n",
       "38         6  0.002017    able\n",
       "38         8  0.000672    able\n",
       "38         9  0.997091    able\n",
       "134        2  0.002395  access\n",
       "134        3  0.001197  access\n",
       "...      ...       ...     ...\n",
       "35219      9  0.000157   would\n",
       "35270      1  0.002045   write\n",
       "35270      9  0.998163   write\n",
       "35373      5  0.000754    year\n",
       "35373      7  0.998574    year\n",
       "\n",
       "[1427 rows x 3 columns], R=30, lambda_step=0.01, plot_opts={'xlab': 'PC1', 'ylab': 'PC2'}, topic_order=[2, 8, 4, 3, 6, 7, 10, 5, 9, 1])"
      ]
     },
     "execution_count": 106,
     "metadata": {},
     "output_type": "execute_result"
    }
   ],
   "source": [
    "# Visualize LDA output topics\n",
    "pyLDAvis.enable_notebook()\n",
    "LDAvis_data_filepath = os.path.join('visualizations/ldavis_prepared_'+str(num_topics))\n",
    "\n",
    "if 1 == 1:\n",
    "    LDAvis_prepared = pyLDAvis.gensim.prepare(lda_model, corpus, id2word)\n",
    "    with open(LDAvis_data_filepath, 'wb') as f:\n",
    "        pickle.dump(LDAvis_prepared, f)\n",
    "        \n",
    "# load the pre-prepared pyLDAvis data from disk\n",
    "with open(LDAvis_data_filepath, 'rb') as f:\n",
    "    LDAvis_prepared = pickle.load(f)\n",
    "pyLDAvis.save_html(LDAvis_prepared, 'visualizations/ldavis_prepared_'+ str(num_topics) +'.html')\n",
    "LDAvis_prepared"
   ]
  },
  {
   "cell_type": "code",
   "execution_count": 104,
   "metadata": {
    "hidden": true
   },
   "outputs": [
    {
     "name": "stdout",
     "output_type": "stream",
     "text": [
      "[(0,\n",
      "  '0.719*\"staff\" + 0.094*\"sure\" + 0.023*\"done\" + 0.015*\"third\" + '\n",
      "  '0.011*\"despite\" + 0.002*\"treatment\" + 0.001*\"teacoffee\" + 0.000*\"drainage\" '\n",
      "  '+ 0.000*\"good\" + 0.000*\"room\"'),\n",
      " (1,\n",
      "  '0.147*\"youre\" + 0.121*\"ready\" + 0.094*\"chance\" + 0.083*\"central\" + '\n",
      "  '0.053*\"information\" + 0.018*\"luckily\" + 0.007*\"structure\" + '\n",
      "  '0.006*\"manhattan\" + 0.001*\"vine\" + 0.000*\"room\"'),\n",
      " (2,\n",
      "  '0.412*\"time\" + 0.111*\"wonderful\" + 0.109*\"trip\" + 0.068*\"beautiful\" + '\n",
      "  '0.068*\"spacious\" + 0.067*\"recent\" + 0.021*\"show\" + 0.018*\"variety\" + '\n",
      "  '0.010*\"nola\" + 0.000*\"vacant\"'),\n",
      " (3,\n",
      "  '0.293*\"also\" + 0.198*\"right\" + 0.137*\"business\" + 0.059*\"included\" + '\n",
      "  '0.054*\"ok\" + 0.023*\"birthday\" + 0.016*\"flat\" + 0.013*\"reading\" + '\n",
      "  '0.009*\"strip\" + 0.008*\"overpriced\"'),\n",
      " (4,\n",
      "  '0.367*\"visit\" + 0.119*\"key\" + 0.106*\"fine\" + 0.029*\"literally\" + 0.024*\"oh\" '\n",
      "  '+ 0.012*\"regis\" + 0.007*\"spg\" + 0.000*\"good\" + 0.000*\"room\" + '\n",
      "  '0.000*\"hotel\"'),\n",
      " (5,\n",
      "  '0.472*\"breakfast\" + 0.257*\"comfortable\" + 0.060*\"town\" + 0.048*\"plus\" + '\n",
      "  '0.012*\"menu\" + 0.011*\"state\" + 0.011*\"yogurt\" + 0.001*\"airy\" + '\n",
      "  '0.001*\"environmentally\" + 0.000*\"bloom\"'),\n",
      " (6,\n",
      "  '0.500*\"great\" + 0.203*\"back\" + 0.104*\"price\" + 0.035*\"second\" + '\n",
      "  '0.019*\"world\" + 0.015*\"requested\" + 0.008*\"south\" + 0.007*\"rental\" + '\n",
      "  '0.004*\"completing\" + 0.002*\"luck\"'),\n",
      " (7,\n",
      "  '0.497*\"stay\" + 0.238*\"good\" + 0.067*\"every\" + 0.051*\"distance\" + '\n",
      "  '0.027*\"lovely\" + 0.025*\"hard\" + 0.007*\"treat\" + 0.006*\"accessible\" + '\n",
      "  '0.001*\"replenished\" + 0.001*\"upset\"'),\n",
      " (8,\n",
      "  '0.285*\"make\" + 0.225*\"check\" + 0.086*\"option\" + 0.074*\"choosing\" + '\n",
      "  '0.047*\"holiday\" + 0.026*\"conveniently\" + 0.011*\"chocolate\" + '\n",
      "  '0.002*\"plugged\" + 0.000*\"good\" + 0.000*\"room\"'),\n",
      " (9,\n",
      "  '0.389*\"place\" + 0.255*\"hope\" + 0.140*\"way\" + 0.029*\"cleaned\" + '\n",
      "  '0.004*\"nightly\" + 0.001*\"guessed\" + 0.000*\"good\" + 0.000*\"room\" + '\n",
      "  '0.000*\"bad\" + 0.000*\"staff\"'),\n",
      " (10,\n",
      "  '0.477*\"day\" + 0.153*\"within\" + 0.042*\"relaxing\" + 0.035*\"yet\" + '\n",
      "  '0.015*\"traveled\" + 0.003*\"honolulu\" + 0.001*\"correcting\" + 0.000*\"room\" + '\n",
      "  '0.000*\"hotel\" + 0.000*\"bad\"'),\n",
      " (11,\n",
      "  '0.585*\"u\" + 0.122*\"made\" + 0.094*\"bar\" + 0.033*\"money\" + 0.020*\"question\" + '\n",
      "  '0.006*\"neighbor\" + 0.005*\"designed\" + 0.004*\"overly\" + 0.000*\"neerajthank\" '\n",
      "  '+ 0.000*\"good\"'),\n",
      " (12,\n",
      "  '0.368*\"first\" + 0.146*\"complimentary\" + 0.061*\"id\" + 0.022*\"roomy\" + '\n",
      "  '0.012*\"august\" + 0.002*\"uncommon\" + 0.001*\"overflowed\" + '\n",
      "  '0.000*\"sheratonanywhere\" + 0.000*\"good\" + 0.000*\"room\"'),\n",
      " (13,\n",
      "  '0.873*\"hotel\" + 0.015*\"name\" + 0.012*\"bag\" + 0.007*\"downstairs\" + '\n",
      "  '0.005*\"total\" + 0.003*\"rated\" + 0.002*\"advised\" + 0.002*\"guard\" + '\n",
      "  '0.000*\"regis\" + 0.000*\"good\"'),\n",
      " (14,\n",
      "  '0.664*\"room\" + 0.189*\"nice\" + 0.047*\"got\" + 0.020*\"gave\" + 0.015*\"wife\" + '\n",
      "  '0.008*\"using\" + 0.000*\"pampering\" + 0.000*\"regardswilliam\" + '\n",
      "  '0.000*\"whvipon\" + 0.000*\"copley\"'),\n",
      " (15,\n",
      "  '0.348*\"parking\" + 0.176*\"perfect\" + 0.088*\"th\" + 0.066*\"decent\" + '\n",
      "  '0.054*\"spot\" + 0.017*\"sweet\" + 0.000*\"breakfast\" + 0.000*\"trekked\" + '\n",
      "  '0.000*\"room\" + 0.000*\"good\"'),\n",
      " (16,\n",
      "  '0.295*\"area\" + 0.167*\"really\" + 0.119*\"know\" + 0.104*\"around\" + '\n",
      "  '0.055*\"wifi\" + 0.048*\"size\" + 0.043*\"valet\" + 0.012*\"westin\" + 0.012*\"knew\" '\n",
      "  '+ 0.007*\"none\"'),\n",
      " (17,\n",
      "  '0.255*\"floor\" + 0.148*\"noise\" + 0.144*\"enough\" + 0.079*\"house\" + '\n",
      "  '0.041*\"real\" + 0.037*\"limited\" + 0.034*\"usually\" + 0.007*\"washington\" + '\n",
      "  '0.006*\"trust\" + 0.001*\"breaker\"'),\n",
      " (18,\n",
      "  '0.338*\"family\" + 0.163*\"bad\" + 0.052*\"la\" + 0.051*\"child\" + 0.025*\"missing\" '\n",
      "  '+ 0.017*\"enter\" + 0.008*\"guestroom\" + 0.000*\"beltway\" + 0.000*\"englanddear\" '\n",
      "  '+ 0.000*\"good\"'),\n",
      " (19,\n",
      "  '0.456*\"service\" + 0.127*\"soon\" + 0.087*\"week\" + 0.066*\"point\" + '\n",
      "  '0.045*\"spent\" + 0.010*\"piece\" + 0.005*\"faith\" + 0.004*\"appetizer\" + '\n",
      "  '0.003*\"implement\" + 0.000*\"good\"')]\n"
     ]
    }
   ],
   "source": [
    "# Try with more topics\n",
    "\n",
    "# number of topics\n",
    "num_topics_2 = 20\n",
    "\n",
    "# Build LDA model\n",
    "lda_model_2 = gensim.models.LdaMulticore(corpus=corpus,\n",
    "                                       id2word=id2word,\n",
    "                                       num_topics=num_topics_2)\n",
    "\n",
    "# Print the Keyword in the 10 topics\n",
    "pprint(lda_model_2.print_topics())\n",
    "doc_lda_2 = lda_model_2[corpus]"
   ]
  },
  {
   "cell_type": "code",
   "execution_count": 107,
   "metadata": {
    "hidden": true
   },
   "outputs": [
    {
     "data": {
      "text/html": [
       "\n",
       "<link rel=\"stylesheet\" type=\"text/css\" href=\"https://cdn.rawgit.com/bmabey/pyLDAvis/files/ldavis.v1.0.0.css\">\n",
       "\n",
       "\n",
       "<div id=\"ldavis_el1064022355964601046491874566\"></div>\n",
       "<script type=\"text/javascript\">\n",
       "\n",
       "var ldavis_el1064022355964601046491874566_data = {\"mdsDat\": {\"x\": [-0.296196156877319, -0.1919805790192402, -0.17548282450337035, -0.10591817374801701, -0.0730716612199448, -0.04645973043751563, -0.03283578578401282, -0.038574520081783165, -0.03867652039532395, 0.04004569876909744, 0.03489536600823752, 0.050229203937333676, 0.08436685544140708, 0.08736686124919282, 0.08577517699270182, 0.09853634084509814, 0.12264421441159759, 0.12012164576902443, 0.13186615567606386, 0.14334843296677122], \"y\": [0.3407383444819898, -0.24469378182347942, -0.16441082714322522, -0.0451709156388305, -0.0236286018288356, -0.01164047294778916, -0.00690669701059344, -0.009206308247051997, -0.008884976575986088, 0.010309792164062713, 0.009362859414877186, 0.011809421026468045, 0.01602083500643104, 0.01627308915638467, 0.016186233456253373, 0.017344803991180883, 0.018928168649971162, 0.018752485254601874, 0.019299493193416034, 0.01951705542015418], \"topics\": [1, 2, 3, 4, 5, 6, 7, 8, 9, 10, 11, 12, 13, 14, 15, 16, 17, 18, 19, 20], \"cluster\": [1, 1, 1, 1, 1, 1, 1, 1, 1, 1, 1, 1, 1, 1, 1, 1, 1, 1, 1, 1], \"Freq\": [6.181011066441028, 5.680518546975555, 5.5861527905561505, 5.3210162233757154, 5.1569003555673305, 5.139989642601357, 5.079998916398783, 5.0789989219532, 5.04445748136006, 4.863875264458091, 4.856446474804047, 4.814474665145984, 4.717613009429026, 4.717114150641155, 4.713842605327668, 4.685510632387388, 4.659451001357122, 4.609496032743208, 4.574620953354212, 4.5185112651229185]}, \"tinfo\": {\"Term\": [\"hotel\", \"room\", \"staff\", \"u\", \"stay\", \"great\", \"breakfast\", \"day\", \"service\", \"time\", \"place\", \"visit\", \"first\", \"parking\", \"family\", \"area\", \"also\", \"make\", \"comfortable\", \"good\", \"hope\", \"floor\", \"nice\", \"check\", \"back\", \"right\", \"perfect\", \"really\", \"bad\", \"within\", \"room\", \"nice\", \"got\", \"gave\", \"wife\", \"using\", \"pampering\", \"regardswilliam\", \"whvipon\", \"copley\", \"friendly\", \"experience\", \"next\", \"new\", \"little\", \"vega\", \"boston\", \"located\", \"always\", \"walk\", \"street\", \"feel\", \"available\", \"napa\", \"super\", \"much\", \"loved\", \"quite\", \"well\", \"decor\", \"didnt\", \"like\", \"location\", \"bed\", \"clean\", \"would\", \"small\", \"restaurant\", \"everything\", \"get\", \"even\", \"one\", \"free\", \"helpful\", \"night\", \"good\", \"hotel\", \"bad\", \"staff\", \"great\", \"u\", \"comfortable\", \"stay\", \"time\", \"breakfast\", \"parking\", \"stay\", \"good\", \"every\", \"distance\", \"lovely\", \"hard\", \"treat\", \"accessible\", \"replenished\", \"upset\", \"dressed\", \"sneeze\", \"didnt\", \"restaurant\", \"one\", \"location\", \"excellent\", \"minute\", \"even\", \"near\", \"beach\", \"bit\", \"everything\", \"city\", \"never\", \"experience\", \"coffee\", \"customer\", \"late\", \"definitely\", \"need\", \"get\", \"pool\", \"little\", \"bed\", \"would\", \"well\", \"friendly\", \"like\", \"helpful\", \"clean\", \"small\", \"night\", \"room\", \"hotel\", \"bad\", \"staff\", \"great\", \"breakfast\", \"nice\", \"time\", \"service\", \"u\", \"comfortable\", \"hotel\", \"name\", \"bag\", \"downstairs\", \"total\", \"rated\", \"advised\", \"guard\", \"night\", \"new\", \"large\", \"get\", \"even\", \"close\", \"desk\", \"old\", \"free\", \"home\", \"everything\", \"walking\", \"dont\", \"bit\", \"experience\", \"per\", \"awesome\", \"king\", \"ocean\", \"look\", \"high\", \"stayed\", \"one\", \"go\", \"walk\", \"like\", \"could\", \"location\", \"would\", \"friendly\", \"best\", \"clean\", \"helpful\", \"bed\", \"didnt\", \"small\", \"excellent\", \"well\", \"regis\", \"good\", \"room\", \"bad\", \"staff\", \"great\", \"stay\", \"nice\", \"time\", \"breakfast\", \"service\", \"comfortable\", \"day\", \"great\", \"back\", \"price\", \"second\", \"world\", \"requested\", \"south\", \"rental\", \"completing\", \"luck\", \"doughnut\", \"bed\", \"clean\", \"helpful\", \"free\", \"stayed\", \"loved\", \"enjoyed\", \"told\", \"restaurant\", \"coffee\", \"need\", \"new\", \"dont\", \"morning\", \"thing\", \"bathroom\", \"next\", \"away\", \"many\", \"night\", \"location\", \"small\", \"would\", \"even\", \"excellent\", \"friendly\", \"little\", \"like\", \"well\", \"one\", \"everything\", \"could\", \"room\", \"hotel\", \"bad\", \"good\", \"staff\", \"stay\", \"service\", \"breakfast\", \"u\", \"nice\", \"parking\", \"comfortable\", \"time\", \"wonderful\", \"trip\", \"beautiful\", \"spacious\", \"recent\", \"show\", \"variety\", \"nola\", \"vacant\", \"bed\", \"location\", \"next\", \"thing\", \"beach\", \"close\", \"never\", \"small\", \"door\", \"bit\", \"two\", \"everything\", \"offer\", \"need\", \"many\", \"see\", \"take\", \"helpful\", \"accommodating\", \"taking\", \"best\", \"nothing\", \"loved\", \"get\", \"well\", \"friendly\", \"would\", \"like\", \"coffee\", \"little\", \"clean\", \"one\", \"bathroom\", \"didnt\", \"night\", \"could\", \"excellent\", \"good\", \"room\", \"hotel\", \"bad\", \"great\", \"staff\", \"breakfast\", \"stay\", \"u\", \"nice\", \"service\", \"comfortable\", \"comfortable\", \"breakfast\", \"town\", \"plus\", \"menu\", \"state\", \"yogurt\", \"airy\", \"environmentally\", \"bloom\", \"thatthe\", \"clean\", \"friendly\", \"get\", \"coffee\", \"street\", \"pool\", \"could\", \"noisy\", \"thing\", \"many\", \"next\", \"review\", \"napa\", \"quite\", \"short\", \"long\", \"city\", \"happy\", \"work\", \"front\", \"food\", \"free\", \"restaurant\", \"location\", \"even\", \"like\", \"night\", \"one\", \"would\", \"bed\", \"excellent\", \"helpful\", \"didnt\", \"well\", \"small\", \"good\", \"room\", \"hotel\", \"bad\", \"staff\", \"great\", \"stay\", \"u\", \"nice\", \"service\", \"time\", \"area\", \"staff\", \"sure\", \"done\", \"third\", \"despite\", \"treatment\", \"teacoffee\", \"drainage\", \"bed\", \"get\", \"night\", \"coffee\", \"best\", \"st\", \"though\", \"like\", \"super\", \"extremely\", \"water\", \"pool\", \"wasnt\", \"ever\", \"hot\", \"charge\", \"restaurant\", \"people\", \"close\", \"always\", \"couldnt\", \"located\", \"buffet\", \"friendly\", \"location\", \"clean\", \"small\", \"street\", \"well\", \"little\", \"excellent\", \"would\", \"helpful\", \"even\", \"didnt\", \"everything\", \"could\", \"one\", \"good\", \"room\", \"hotel\", \"bad\", \"great\", \"breakfast\", \"stay\", \"nice\", \"time\", \"u\", \"comfortable\", \"service\", \"area\", \"really\", \"know\", \"around\", \"wifi\", \"size\", \"valet\", \"westin\", \"knew\", \"none\", \"depending\", \"wonderfully\", \"selfpark\", \"jie\", \"excellent\", \"friendly\", \"helpful\", \"like\", \"beach\", \"pool\", \"small\", \"much\", \"new\", \"location\", \"food\", \"review\", \"guest\", \"night\", \"manager\", \"cant\", \"didnt\", \"bed\", \"little\", \"even\", \"would\", \"get\", \"clean\", \"free\", \"bad\", \"hotel\", \"well\", \"one\", \"good\", \"room\", \"great\", \"staff\", \"stay\", \"nice\", \"u\", \"comfortable\", \"breakfast\", \"u\", \"made\", \"bar\", \"money\", \"question\", \"neighbor\", \"designed\", \"overly\", \"neerajthank\", \"would\", \"go\", \"one\", \"front\", \"new\", \"close\", \"get\", \"beach\", \"hot\", \"away\", \"bit\", \"street\", \"extremely\", \"definitely\", \"didnt\", \"walk\", \"old\", \"st\", \"thing\", \"water\", \"station\", \"property\", \"view\", \"friendly\", \"bathroom\", \"bed\", \"location\", \"little\", \"pool\", \"small\", \"restaurant\", \"helpful\", \"clean\", \"excellent\", \"like\", \"even\", \"night\", \"free\", \"good\", \"room\", \"bad\", \"hotel\", \"great\", \"staff\", \"stay\", \"breakfast\", \"nice\", \"time\", \"service\", \"comfortable\", \"day\", \"really\", \"also\", \"right\", \"business\", \"included\", \"ok\", \"birthday\", \"flat\", \"reading\", \"strip\", \"overpriced\", \"compensation\", \"assume\", \"carbohydrate\", \"like\", \"nothing\", \"excellent\", \"desk\", \"little\", \"best\", \"stayed\", \"choice\", \"amenity\", \"didnt\", \"wall\", \"king\", \"see\", \"needed\", \"found\", \"door\", \"coffee\", \"walk\", \"clean\", \"guest\", \"night\", \"new\", \"location\", \"bed\", \"friendly\", \"restaurant\", \"free\", \"would\", \"helpful\", \"small\", \"one\", \"day\", \"good\", \"room\", \"hotel\", \"bad\", \"staff\", \"great\", \"breakfast\", \"stay\", \"nice\", \"service\", \"time\", \"place\", \"hope\", \"way\", \"cleaned\", \"nightly\", \"guessed\", \"location\", \"bathroom\", \"get\", \"food\", \"like\", \"walk\", \"extra\", \"morning\", \"free\", \"desk\", \"well\", \"bed\", \"front\", \"best\", \"etc\", \"special\", \"hour\", \"came\", \"minute\", \"want\", \"downtown\", \"use\", \"phone\", \"entire\", \"next\", \"restaurant\", \"thank\", \"didnt\", \"view\", \"friendly\", \"street\", \"night\", \"would\", \"clean\", \"everything\", \"small\", \"close\", \"one\", \"helpful\", \"excellent\", \"good\", \"room\", \"bad\", \"staff\", \"hotel\", \"great\", \"stay\", \"breakfast\", \"u\", \"nice\", \"time\", \"service\", \"comfortable\", \"service\", \"soon\", \"week\", \"point\", \"spent\", \"piece\", \"faith\", \"appetizer\", \"implement\", \"like\", \"friendly\", \"would\", \"stayed\", \"small\", \"restaurant\", \"bathroom\", \"door\", \"well\", \"get\", \"extremely\", \"big\", \"excellent\", \"better\", \"new\", \"night\", \"thank\", \"could\", \"hour\", \"buffet\", \"wall\", \"bed\", \"food\", \"one\", \"need\", \"next\", \"didnt\", \"helpful\", \"location\", \"free\", \"clean\", \"little\", \"good\", \"room\", \"hotel\", \"bad\", \"staff\", \"great\", \"stay\", \"breakfast\", \"nice\", \"u\", \"time\", \"comfortable\", \"make\", \"check\", \"option\", \"choosing\", \"holiday\", \"conveniently\", \"chocolate\", \"plugged\", \"bed\", \"helpful\", \"best\", \"excellent\", \"like\", \"would\", \"view\", \"food\", \"use\", \"one\", \"home\", \"amenity\", \"happy\", \"need\", \"hour\", \"drink\", \"stayed\", \"thank\", \"special\", \"booked\", \"dont\", \"restaurant\", \"people\", \"small\", \"experience\", \"clean\", \"location\", \"even\", \"next\", \"friendly\", \"night\", \"could\", \"well\", \"free\", \"bathroom\", \"get\", \"good\", \"room\", \"hotel\", \"bad\", \"staff\", \"great\", \"stay\", \"breakfast\", \"nice\", \"u\", \"service\", \"time\", \"comfortable\", \"parking\", \"perfect\", \"th\", \"decent\", \"spot\", \"sweet\", \"trekked\", \"bed\", \"helpful\", \"small\", \"one\", \"well\", \"arrived\", \"manager\", \"thing\", \"napa\", \"modern\", \"feel\", \"always\", \"would\", \"need\", \"another\", \"staying\", \"st\", \"old\", \"nothing\", \"get\", \"much\", \"review\", \"coffee\", \"night\", \"next\", \"location\", \"restaurant\", \"little\", \"friendly\", \"everything\", \"free\", \"desk\", \"could\", \"like\", \"bathroom\", \"experience\", \"didnt\", \"clean\", \"breakfast\", \"excellent\", \"room\", \"good\", \"bad\", \"hotel\", \"great\", \"staff\", \"stay\", \"service\", \"time\", \"nice\", \"comfortable\", \"really\", \"day\", \"floor\", \"noise\", \"enough\", \"house\", \"real\", \"limited\", \"usually\", \"washington\", \"trust\", \"breaker\", \"clean\", \"friendly\", \"bathroom\", \"napa\", \"night\", \"kind\", \"much\", \"definitely\", \"review\", \"hot\", \"little\", \"casino\", \"need\", \"told\", \"poor\", \"people\", \"lot\", \"available\", \"tv\", \"fremont\", \"would\", \"shower\", \"helpful\", \"coffee\", \"next\", \"location\", \"free\", \"bed\", \"well\", \"didnt\", \"close\", \"small\", \"get\", \"like\", \"one\", \"restaurant\", \"experience\", \"bad\", \"good\", \"room\", \"hotel\", \"great\", \"staff\", \"stay\", \"nice\", \"breakfast\", \"u\", \"time\", \"really\", \"service\", \"day\", \"within\", \"relaxing\", \"yet\", \"traveled\", \"honolulu\", \"correcting\", \"location\", \"would\", \"everything\", \"even\", \"bed\", \"review\", \"could\", \"experience\", \"expensive\", \"many\", \"front\", \"friendly\", \"st\", \"thank\", \"people\", \"guest\", \"especially\", \"feel\", \"station\", \"sleep\", \"felt\", \"near\", \"easy\", \"food\", \"free\", \"well\", \"one\", \"night\", \"street\", \"like\", \"small\", \"bathroom\", \"clean\", \"get\", \"didnt\", \"little\", \"helpful\", \"room\", \"hotel\", \"bad\", \"good\", \"great\", \"staff\", \"stay\", \"breakfast\", \"u\", \"nice\", \"comfortable\", \"service\", \"price\", \"parking\", \"family\", \"bad\", \"la\", \"child\", \"missing\", \"enter\", \"guestroom\", \"beltway\", \"englanddear\", \"clean\", \"one\", \"helpful\", \"night\", \"bed\", \"customer\", \"amazing\", \"nothing\", \"next\", \"could\", \"view\", \"well\", \"didnt\", \"street\", \"especially\", \"walk\", \"hot\", \"king\", \"stayed\", \"walking\", \"work\", \"excellent\", \"beach\", \"bathroom\", \"restaurant\", \"pool\", \"like\", \"little\", \"friendly\", \"location\", \"would\", \"get\", \"small\", \"everything\", \"good\", \"room\", \"hotel\", \"staff\", \"great\", \"breakfast\", \"stay\", \"service\", \"nice\", \"comfortable\", \"u\", \"time\", \"visit\", \"key\", \"fine\", \"literally\", \"oh\", \"regis\", \"spg\", \"clean\", \"excellent\", \"small\", \"restaurant\", \"go\", \"location\", \"see\", \"property\", \"away\", \"close\", \"free\", \"hear\", \"experience\", \"thank\", \"many\", \"though\", \"could\", \"enjoyed\", \"problem\", \"large\", \"everything\", \"amazing\", \"better\", \"need\", \"night\", \"one\", \"get\", \"bed\", \"didnt\", \"new\", \"would\", \"friendly\", \"well\", \"like\", \"helpful\", \"little\", \"stayed\", \"good\", \"room\", \"hotel\", \"bad\", \"staff\", \"great\", \"stay\", \"breakfast\", \"nice\", \"time\", \"comfortable\", \"service\", \"back\", \"place\", \"first\", \"complimentary\", \"id\", \"roomy\", \"august\", \"uncommon\", \"overflowed\", \"sheratonanywhere\", \"location\", \"helpful\", \"friendly\", \"restaurant\", \"didnt\", \"get\", \"desk\", \"couldnt\", \"recommend\", \"shower\", \"could\", \"never\", \"new\", \"manager\", \"near\", \"bit\", \"awesome\", \"small\", \"stayed\", \"staying\", \"lobby\", \"taking\", \"super\", \"clean\", \"free\", \"would\", \"excellent\", \"everything\", \"well\", \"one\", \"bathroom\", \"food\", \"bed\", \"like\", \"even\", \"night\", \"good\", \"room\", \"hotel\", \"bad\", \"staff\", \"great\", \"breakfast\", \"nice\", \"stay\", \"comfortable\", \"time\", \"u\", \"youre\", \"ready\", \"chance\", \"central\", \"information\", \"luckily\", \"structure\", \"manhattan\", \"vine\", \"location\", \"free\", \"well\", \"bathroom\", \"everything\", \"one\", \"staying\", \"located\", \"street\", \"loved\", \"quiet\", \"shower\", \"use\", \"hear\", \"arrived\", \"near\", \"super\", \"late\", \"buffet\", \"downtown\", \"decor\", \"like\", \"little\", \"could\", \"would\", \"clean\", \"night\", \"small\", \"friendly\", \"get\", \"bed\", \"close\", \"helpful\", \"restaurant\", \"excellent\", \"room\", \"good\", \"bad\", \"hotel\", \"staff\", \"great\", \"stay\", \"nice\", \"breakfast\", \"service\", \"comfortable\", \"time\", \"u\"], \"Freq\": [43978.0, 37023.0, 32942.0, 26610.0, 25479.0, 23990.0, 21903.0, 20168.0, 19791.0, 19152.0, 17020.0, 15255.0, 15181.0, 14817.0, 14215.0, 13529.0, 12851.0, 12116.0, 11899.0, 12173.0, 11182.0, 10858.0, 10528.0, 9561.0, 9722.0, 8681.0, 7487.0, 7672.0, 6862.0, 6474.0, 37018.93990171468, 10524.108392902921, 2631.626373300984, 1100.3792997958844, 842.3820356932533, 430.5991018318786, 6.089198856120821, 0.7239689208455933, 0.7239167044169162, 0.11586545430454509, 0.0892585920829987, 0.0892085492265348, 0.08920116668534443, 0.0892008181533569, 0.08920534906919478, 0.08918611644042841, 0.08918510252919197, 0.08918844843627224, 0.08918856883823158, 0.08919391722000383, 0.08919763066990732, 0.08918524194198697, 0.08918603406014046, 0.08918819495846313, 0.08918540036561767, 0.08919169295222887, 0.08919305539545284, 0.089178816279526, 0.08921162264497029, 0.08917906342038988, 0.08920613485040302, 0.08922332698280602, 0.08931717714162968, 0.08924806008003011, 0.08923684368697692, 0.08922294042914714, 0.08921314351182497, 0.0892053300583591, 0.08920105895727555, 0.08920837812901367, 0.08919694627982272, 0.0892102348539654, 0.08920219960741656, 0.08920666715380215, 0.08920484211357654, 0.08957338617413467, 0.08947799613762067, 0.08934536387400291, 0.0893290145553152, 0.08932239244755215, 0.08924817414504421, 0.08923508201620359, 0.08923479685366834, 0.08923300349816887, 0.08923245852087928, 0.0892105073426102, 25474.15393019704, 12168.422596237177, 3440.4762952226474, 2613.88724188483, 1379.2702346726517, 1298.7713922960759, 347.27541986237924, 325.8712073588505, 72.14534420099605, 70.05844266584313, 38.9627361249364, 4.443763231171404, 0.11186921575500347, 0.11187238391651844, 0.11188344918651559, 0.11201924916851222, 0.1118659311169622, 0.11184585056383053, 0.11185579765917535, 0.11183986367037944, 0.11184602527861996, 0.11184482557039922, 0.11185990928055323, 0.11183619465980144, 0.11183533273350693, 0.11185250137348145, 0.11184725992979859, 0.11183207139077092, 0.11182804130296144, 0.11183720800558013, 0.11184347444269431, 0.1118687847918562, 0.11184585056383053, 0.11185372437700745, 0.11190902743168796, 0.11187983841420074, 0.11186193597211061, 0.11189230140251331, 0.1118712657418661, 0.11186642031837261, 0.11188224947829485, 0.11186357829113124, 0.11186093427398455, 0.11223574408791964, 0.1122146967796198, 0.11214116514857557, 0.11201231881519821, 0.11200394415295827, 0.11197157532630343, 0.11191614414744402, 0.11191134531456104, 0.11190384422626824, 0.11189826500065915, 0.11189361758726034, 43972.25586649403, 734.6036729088639, 627.7500628994658, 336.7226062676688, 231.20080752276516, 142.3428591444711, 98.36355950849828, 87.96522619064471, 0.1160916093569916, 0.11606359248209899, 0.11604694958789663, 0.11608449632375026, 0.11606326031146454, 0.11606343212386167, 0.11605626181982129, 0.11604834699539332, 0.11607244654763128, 0.11603816424732319, 0.1160678305212283, 0.11604454421433676, 0.11604193266590034, 0.11605117617286613, 0.11606107256694102, 0.11603081067672587, 0.11604026035856822, 0.11603808406820454, 0.11603952729234046, 0.11603999691289262, 0.11603543815728867, 0.11605420007105569, 0.11608495449014263, 0.116047407754289, 0.1160514052560623, 0.11609089919908344, 0.11606403919433154, 0.1162131265384044, 0.11609357947247874, 0.11610664866882071, 0.1160539595336997, 0.11610616759410873, 0.11608013228886306, 0.11610900822574134, 0.11606394756105307, 0.11607333997209637, 0.11606321449482529, 0.11606635293461294, 0.9412982714328717, 0.11657893804022178, 0.1164014443798228, 0.11628161095990192, 0.11620473063926447, 0.11618493785111465, 0.1161310460292137, 0.11611200921561128, 0.11611192903649262, 0.1161096038420514, 0.11609291513120981, 0.11609143754459447, 0.11608687878899052, 23985.94188660171, 9717.921403986596, 4985.400369322959, 1680.4325231085247, 911.6467975277743, 698.020079166525, 393.6424159321777, 313.81316915583716, 193.62430384503025, 108.48151560263382, 56.627280289460174, 0.13846622955218943, 0.13842975572067923, 0.1383905979039607, 0.1383675549090012, 0.13834848333930938, 0.13834431552488016, 0.13833752918829645, 0.1383227890906685, 0.13836884234906052, 0.13834673765787306, 0.13834319174245555, 0.13834996716853026, 0.13832827707668394, 0.13833315407419666, 0.13833388507829814, 0.1383597757161006, 0.13834915979086596, 0.13833367777862757, 0.13833517251835742, 0.13837647970534442, 0.13853510759536136, 0.1383757705222609, 0.138388557638782, 0.13834797054538747, 0.1383564916528985, 0.13840093015596194, 0.1383520510757449, 0.13837506133917743, 0.1383575936143052, 0.13835957932693901, 0.13835146190826011, 0.13835124369808058, 0.13886856548122611, 0.1387658103076805, 0.13871900422416908, 0.13871373444833318, 0.13852886678422652, 0.13846770247090132, 0.13842893743250595, 0.1384225984267903, 0.13841973987343834, 0.13839651139982626, 0.1383884158021653, 0.13838350607312563, 19148.036714254336, 5172.474416485881, 5092.239409173712, 3155.1498603642376, 3143.2247580320172, 3133.339088315291, 973.2486186673588, 817.2988959053612, 475.0497669655648, 22.652823557736436, 0.15057869238737945, 0.15069468913042885, 0.15047455966855078, 0.15045679535420955, 0.1504625581823738, 0.1504742001526653, 0.15045031349427435, 0.1505048224469106, 0.15044888600472908, 0.15045970320328328, 0.15045287240145921, 0.15047993125883966, 0.15044138904111723, 0.15046137389475106, 0.15045518810672154, 0.1504517727058095, 0.1504410189512351, 0.1505072650401325, 0.1504338074855323, 0.15043635581872056, 0.1504641865778551, 0.15046069715896665, 0.15045952344534053, 0.15049265177678756, 0.15048814725422247, 0.1505370731366372, 0.15051309131227655, 0.15050567894063777, 0.1504628859762694, 0.1504718315774198, 0.15052359129093182, 0.1504863919707816, 0.15047233912925811, 0.15047319562298528, 0.15048126358241523, 0.15046993883202273, 0.15047157780150064, 0.1510457563925969, 0.15101369603480966, 0.15079760583964488, 0.15071830086490737, 0.15063303215606957, 0.15058865309220648, 0.15057715915786785, 0.15056397338406816, 0.15054647341964275, 0.15054340696061957, 0.15052589642219752, 0.15051945685824883, 11894.329727027687, 21893.196390974666, 2772.50629042232, 2236.333753001061, 547.5023011095601, 513.7544114435666, 510.64757716637456, 35.64668898533545, 23.620203604883155, 14.410128584859761, 0.26178526964818605, 0.16567672895643779, 0.16565781087351794, 0.16558485768690448, 0.1655450506678581, 0.1655463997010691, 0.16554267932041689, 0.165557213045401, 0.16551507683620126, 0.16552560561884022, 0.16552802966289124, 0.1655438913424424, 0.16553111768422576, 0.1655248257090151, 0.1655077625467604, 0.16550862677116118, 0.16551185180368122, 0.16551862858770208, 0.16550926966980078, 0.16551825971143347, 0.16553514370521485, 0.1655380420187541, 0.16555568484371666, 0.16555859369657788, 0.1657524645240489, 0.16554029743365373, 0.16557976719439735, 0.16556813178295252, 0.16556736241244935, 0.16558137971065737, 0.16561419915924366, 0.16554905561020325, 0.16556116529113635, 0.1655456724878538, 0.16554854972274913, 0.16554779089156793, 0.1661018535863752, 0.16606245760088528, 0.16601381863003567, 0.16587370888388728, 0.1658175869944454, 0.16578793988176935, 0.16567504266492403, 0.16566061433315954, 0.16563409739910587, 0.16561257610366167, 0.16557968287982167, 0.16556971268124665, 32937.68683465998, 4317.379685959724, 1058.1997821674795, 700.5890760908071, 492.5711238291422, 76.49667127899711, 31.884748655492995, 22.417160209526394, 0.1730528013443572, 0.17296447100482637, 0.172968054216713, 0.17292135788273696, 0.17292110789120999, 0.17290487927458392, 0.17289887947793656, 0.17297643934918025, 0.17289965028514473, 0.17289695245991613, 0.17290682712523162, 0.172918587143313, 0.17290236894300057, 0.17288423414098134, 0.17289880656374118, 0.17288899439630745, 0.172945065412545, 0.17290409805106213, 0.17292525358403232, 0.172901691882615, 0.17288865065795786, 0.17289995235823982, 0.17289283801603467, 0.17300761537585663, 0.1731631205219481, 0.17300714664174355, 0.17295367970391198, 0.17291727468779639, 0.17294048223455047, 0.17292617021963122, 0.1729312533806797, 0.1729651897304664, 0.17295219017106375, 0.17292005584353398, 0.17292797224188816, 0.17292453485839226, 0.17292097247913288, 0.17292842014337398, 0.17365852039790164, 0.17359107476718677, 0.17340618520036222, 0.17336809274143955, 0.17309671652259562, 0.17303162497875976, 0.17301816710155765, 0.17301188606444243, 0.17298645984288646, 0.1729781163756737, 0.17297413734386935, 0.17297268947627564, 13524.937145129632, 7667.956194197952, 5453.071352430347, 4749.642953948092, 2534.2211481053673, 2202.657519687122, 1956.171045813709, 532.8589532010544, 528.0805786593461, 325.4906619861758, 162.59379263299346, 111.31194253658141, 36.35768374862714, 1.366010074565583, 0.1683973338285141, 0.1684675155480803, 0.16841696471460732, 0.16842016189340342, 0.16835614541763944, 0.16836158166301912, 0.16840419682794935, 0.1683546041066889, 0.16836574736829088, 0.1686102950962703, 0.16836242521833664, 0.16835149024199825, 0.16835260456815843, 0.1683985522973061, 0.16833970129607911, 0.1683293286899524, 0.16837648447362888, 0.16846307907196584, 0.1683674136503996, 0.16836207113338855, 0.16840064556420517, 0.1683818998904822, 0.1684173812851345, 0.16837158976993455, 4.349967412943657, 1.365314235156986, 0.16836993390208901, 0.16837160018419772, 0.16914372407058398, 0.16904793367785956, 0.16860611897673536, 0.16855350611915285, 0.16846191267448976, 0.16843520008943452, 0.16843144054042675, 0.16842535861072994, 0.1684214324335113, 26605.483955113075, 5557.599209771219, 4262.8641147106355, 1507.0557424555907, 888.0246671408576, 282.21683824616457, 233.3613586073332, 165.65758196177885, 1.3608317868351822, 0.16776260181619604, 0.16768358829728913, 0.16773659841437225, 0.16769148034008607, 0.16769620729101428, 0.16769856559475962, 0.1677272686337656, 0.16768474676228684, 0.1676709175863766, 0.16767606861824144, 0.1676817264785428, 0.16769140793602372, 0.16766722497919634, 0.16767392752668314, 0.16770917796161375, 0.16768322627697735, 0.16767412405199528, 0.16767226223324894, 0.16767372065793357, 0.16767528251699299, 0.16765590925859364, 0.16766433916013954, 0.16768491225728652, 0.16777147648555354, 0.1677024030100646, 0.16778707438927284, 0.16790575499091412, 0.16769686927101296, 0.1676850260350988, 0.1677156012362886, 0.16770272365662645, 0.16771358426598007, 0.16773903946561744, 0.16769676583663817, 0.16771230167973258, 0.16768838765227967, 0.1676973140388246, 0.16769108728946186, 0.1684504404085915, 0.16821940938904645, 0.16813402431265212, 0.1680495804890684, 0.1679275589571212, 0.16790747200153575, 0.16781686348921418, 0.16779911415049914, 0.16779611455363003, 0.16777554145648305, 0.1677538305812133, 0.1677355537271868, 0.16771662523659908, 0.16771607703441266, 12846.285555113689, 8676.766626882347, 6015.981960222642, 2582.2955056332717, 2377.5554451800635, 997.4493120066228, 690.5057262119793, 567.2918252365963, 401.94070944385385, 330.88538287416367, 96.76342961181868, 84.99544358208176, 4.3058670483795005, 0.22938289659373212, 0.22928613697977215, 0.22931837023810225, 0.2292769217784426, 0.2292970276722525, 0.22927728081226065, 0.22927486730715055, 0.22924389066718356, 0.22923744800478218, 0.22930329081774484, 0.22923128459090594, 0.22923986150989228, 0.2292528864589576, 0.22923286035044066, 0.229230845771795, 0.22924428959364804, 0.22927141659323277, 0.22926481436024562, 0.22939376733988923, 0.22926252053307483, 0.22931910825206153, 0.22927504682405955, 0.22956159570349657, 0.22939077539140562, 0.2293669794277993, 0.22929599046344484, 0.22928930844516476, 0.22932614930415962, 0.22931218687790278, 0.22930113661483664, 0.22930183473614948, 4.303864118386632, 0.23014686071953727, 0.23001409799215786, 0.22984630952119697, 0.22976456948862473, 0.22954747370665393, 0.22952585189227903, 0.22948163089369128, 0.22947451005630026, 0.22942053530565593, 0.22935060349643235, 0.2293485689714635, 17015.701714684274, 11177.64454228106, 6139.960386553016, 1274.888786920773, 163.1377926246449, 33.399138010538394, 0.2241359782984794, 0.22381891783253982, 0.2238398294838738, 0.22379298738488573, 0.2238620356660046, 0.22377966367560725, 0.22375676043843196, 0.22376339241928359, 0.22381190745037835, 0.22377908611571326, 0.22382198487473548, 0.22393174117045112, 0.22377870771440342, 0.22377940476944788, 0.22374023027594894, 0.22373921456716986, 0.22376428863291217, 0.22374044935039147, 0.22376649929319606, 0.22373702382274438, 0.22374435285864047, 0.22375855286568916, 0.22372726505212187, 0.22373580895538117, 0.22378294979224544, 0.22380892007161637, 0.22376468695008045, 0.2238000176829056, 0.22377159775294986, 0.22387772936243427, 0.22377566058806617, 0.22381698599427374, 0.2238393913349887, 0.22386583959496154, 0.22378792875684875, 0.2238102942658469, 0.22377818990208467, 0.22380394110701304, 0.22380557420740294, 0.22378376634244038, 0.22484603839848838, 0.22440806875612174, 0.22421116066398955, 0.2241990717379327, 0.22418686331672535, 0.224091048121899, 0.22395452491247592, 0.22392582616050236, 0.22389324381613823, 0.2238929251624036, 0.22385444772394913, 0.22381579104276894, 0.22381469567055623, 19787.260709785627, 5501.962576155735, 3771.5235926120467, 2867.915273195756, 1942.9934135277063, 447.5267251686003, 206.21803654903678, 193.06773052990775, 115.42187147190033, 0.2404947330546286, 0.2405460667675159, 0.24049913590769548, 0.24039741618123572, 0.24045222479161077, 0.2404290456458686, 0.240415619905575, 0.24036037693301399, 0.24043311285542812, 0.24044057598753252, 0.24035759306627663, 0.24035052480888677, 0.24041743632926177, 0.2403632200309585, 0.24039394128374797, 0.2404449196093922, 0.24037459242273662, 0.24040831472335641, 0.24037099906283452, 0.2403523214888378, 0.24034144269045285, 0.2405430262322141, 0.24038784046940867, 0.2404423331800121, 0.24037858065735324, 0.24038888688740215, 0.2404068536869127, 0.24043380388617852, 0.24063467665345364, 0.24040179929056688, 0.24046596643167598, 0.2403947112894413, 0.24137429673748081, 0.24132310123074363, 0.24096901707423568, 0.24090796944337126, 0.24074978263273553, 0.24067534874904895, 0.24060053973438358, 0.24058648219454676, 0.240532877952051, 0.24053035075387807, 0.2405123444668961, 0.2404634589772388, 12111.962957910853, 9556.405700801188, 3642.6637694315177, 3157.7808439056303, 1988.8311927142292, 1106.58444209292, 485.8134006351105, 80.51808153438479, 0.2918799761895322, 0.29173685067434535, 0.29165066195169637, 0.2916836477591299, 0.2917406038981824, 0.2917543592700799, 0.2916372935100913, 0.2916411821595307, 0.29161194957593417, 0.2917092431979772, 0.29158399386230277, 0.2915825815667352, 0.2915820205178111, 0.29162334467304757, 0.2916121430410804, 0.29158780512568366, 0.2916275235202063, 0.2916143485437475, 0.291575442702839, 0.2915817496666064, 0.2915906877563626, 0.2916732586807769, 0.2916025665163416, 0.29169159917664034, 0.29163535885862896, 0.29177128747037573, 0.29199174100451386, 0.2916328244652132, 0.2916290518948616, 0.291742732014791, 0.29167250416670665, 0.2916386864591442, 0.2916518227425738, 0.29163961509184616, 0.2916327277326401, 0.29163524277954117, 0.29263479980409424, 0.2923201287437382, 0.29224105953847074, 0.29217764166353394, 0.29212612189509074, 0.2919247246778571, 0.2918919323355697, 0.291848770261444, 0.29180038462836994, 0.2917575901380221, 0.2917323042434088, 0.2917200385531373, 0.2916918313348158, 14812.465752146005, 7482.363078412714, 3756.217796135469, 2804.7839170932034, 2310.448033396917, 713.3071989949015, 0.6253708132083561, 0.29857914909770306, 0.2984618829275469, 0.2984492123004515, 0.2984437958491741, 0.2984141988118368, 0.29832790313630614, 0.29832749690246035, 0.29833242974201657, 0.29833161727432495, 0.29831107344840846, 0.2983191981253246, 0.29832774838055537, 0.2984672413454178, 0.29834747973878023, 0.29829907987772275, 0.2983318494079511, 0.2983274388690538, 0.29832976020531554, 0.2983475764611245, 0.29841795163879326, 0.2983406124523392, 0.2983390842393002, 0.29835194831108414, 0.29842290382281833, 0.2983610208669738, 0.2987691698151963, 0.2983944287646742, 0.29837227934784327, 0.298486295647233, 0.2983737882164134, 0.29838119714798217, 0.29834666727108866, 0.2983704609677716, 0.2984216851212809, 0.29837077047927313, 0.29835707459532884, 0.2983680042202279, 0.29842178184362517, 5.593498665569897, 0.29835759689598773, 0.2995164659912607, 0.2990617355620524, 0.2990145157135946, 0.29897395036242047, 0.29873206712394595, 0.2986577843635699, 0.29861346618543927, 0.2984788286822577, 0.29846226981692386, 0.2984476840874125, 0.29843296294661925, 0.2984294615977578, 0.29842352284582147, 10854.045130296032, 6305.643653775652, 6102.546343010154, 3346.9287247370457, 1748.5716515032796, 1583.2424047212212, 1440.1307467387126, 318.1987499501667, 264.48500365195923, 49.19875968852655, 0.2941483317891467, 0.2941011060278175, 0.29396076258645476, 0.2939047605272773, 0.2939984581388869, 0.29388303242423436, 0.2939119903409233, 0.29389919318414887, 0.29391030853935324, 0.29389053287261574, 0.293945433061799, 0.2938851588400126, 0.29391342083881045, 0.29386863079010006, 0.2938564135649015, 0.2938967381404777, 0.2938970087752131, 0.29388517817106513, 0.29385927456067584, 0.2938682248379969, 0.29402606288189875, 0.29389878723204577, 0.2939947659078538, 0.29391442605354196, 0.29392219713665874, 0.2942930633794336, 0.29394624496600524, 0.2940783147168855, 0.2939583075427835, 0.2939436159428612, 0.2939235116482308, 0.2939656340116921, 0.2939561811270053, 0.2939634302717038, 0.2939531461517582, 0.2939380679307853, 0.29392034135561595, 2.5495949421120203, 0.2948218256592679, 0.2947340433497323, 0.2944727068505885, 0.2943754909874186, 0.2943491234317686, 0.2941895842552442, 0.2941702532027149, 0.2941672955516779, 0.2940556393922686, 0.2940227379408637, 0.2940132270630193, 0.2940086456035699, 20160.013496576146, 6469.906828366969, 1775.805881412881, 1479.9912090260893, 643.8353807944678, 141.5119599341019, 56.82748604918364, 0.3233166688085054, 0.3229456681833351, 0.32284944013636735, 0.3228280347760794, 0.32303271152454194, 0.32278972033405595, 0.32283441411146147, 0.3228161599891333, 0.3227612054734928, 0.3227778455471098, 0.32279490834777025, 0.3229735681681987, 0.32276620133855105, 0.32277949802555217, 0.32276981373328545, 0.32278303356082416, 0.32274898481896575, 0.3227555947327351, 0.3227354575535773, 0.32274648688643665, 0.32274222118627155, 0.32276024473021236, 0.3227522897758504, 0.32279510049642635, 0.3228302252707588, 0.32284667319571975, 0.3228680785560077, 0.32286181450981927, 0.32279452405045805, 0.32288310458091357, 0.32286123806385103, 0.3228193880865556, 0.32293256364499007, 0.32283867981162656, 0.322813277759292, 0.32280343974810044, 0.3228181583351566, 0.32375119377937767, 0.3237447375845332, 0.3237413941979173, 0.32363010169631246, 0.32318892838193963, 0.3231652940972411, 0.3231052668570799, 0.32299420493386233, 0.3229649214786749, 0.32294109504532026, 0.32291327191991903, 0.32291023597115287, 0.32286081533680766, 0.3228509004661536, 14210.999044360113, 6851.062482386384, 2205.3039461107032, 2151.1894910187466, 1034.1134196645871, 726.1181637795264, 338.1911208871761, 12.666385111505951, 3.293589556980618, 0.40599083008274783, 0.40585971100485346, 0.4058576473411384, 0.4058286796171384, 0.4059995433295447, 0.40566736990341284, 0.4056997388509432, 0.40571334374506457, 0.40573226066245244, 0.4057573685709854, 0.40571628637665824, 0.4057936737659722, 0.40576944482531785, 0.4057247703274867, 0.4056598795684472, 0.4057046687142625, 0.4056705800469696, 0.40565567580902767, 0.4057118915372651, 0.40567145901484825, 0.40566752276739176, 0.40576233665029937, 0.40569870701908567, 0.40575217119570306, 0.40576963590529147, 0.4057102100334973, 0.4058265013054392, 0.4057391777574973, 0.40587071721133366, 0.40614021640611986, 0.4058173294667057, 0.40576764867356585, 0.40576340669815164, 0.4057284008469854, 0.4076345764477711, 0.40718924546126467, 0.4064532818348902, 0.4064344413494918, 0.40613211461523857, 0.40605809023346023, 0.40600458784084814, 0.40593262712278483, 0.4059245635478983, 0.40587293373902755, 0.4058519913739194, 0.40584507427887456, 15251.226378122412, 4954.684429461999, 4411.526717883457, 1196.6245506598977, 1002.5964382027709, 508.24657894942607, 310.0782186770507, 0.3904921837922993, 0.3902820565275912, 0.3903257227727761, 0.39028901288180246, 0.39019865588960156, 0.3908029513554337, 0.3901866713010963, 0.3901683352587459, 0.39018765426419133, 0.39023510113666504, 0.39026625350552424, 0.390151171210855, 0.3902329083728376, 0.39019665215713856, 0.3901896579966544, 0.39016655836392017, 0.3902504882897302, 0.3901862176258216, 0.39014897844702756, 0.3901703389912089, 0.3902495809391809, 0.39019037631583925, 0.39017290981776526, 0.3902002815593357, 0.3902940033098236, 0.39029888031902604, 0.39027585629883765, 0.39041917987935376, 0.3902417172344203, 0.3902144211053956, 0.39030999536325495, 0.39035608120990467, 0.39025423111074603, 0.39028576154233413, 0.39026481686715453, 0.39021037583419665, 0.39020168039143255, 0.3923094935237234, 0.39168678640299515, 0.39105693389669116, 0.3910505068303003, 0.3908595095396732, 0.3906888142175866, 0.3906279839245108, 0.3904613338736232, 0.39038855679831497, 0.3903719220382445, 0.39036976708068993, 0.3903204677008448, 0.3903033414592268, 0.3902906763578095, 15176.699248388044, 6015.841837507589, 2520.2651712705338, 894.7155837833532, 486.51841735204954, 75.13635579341414, 52.48263525797682, 3.640829300232555, 0.449743709552188, 0.44909693576467286, 0.4492028178640096, 0.44900673712299827, 0.44899217927234525, 0.44902744829196845, 0.44890832155015614, 0.44883748334904067, 0.4488543674541794, 0.448883933398289, 0.44895101957604033, 0.4488587573215155, 0.4489224291580054, 0.4488622091830105, 0.4488636349518889, 0.44888764790141955, 0.44884810157516125, 0.4490184059156608, 0.44890123022599787, 0.4488693380274024, 0.4488501276677779, 0.44881857315128526, 0.44885144087595535, 0.4491422977271456, 0.4489513572581431, 0.449045608085051, 0.4489464421075361, 0.44893556123978, 0.4489680537621137, 0.4489888774917848, 0.4489343230720698, 0.4489025434341753, 0.4491276273157917, 0.4490026098972977, 0.4489088093131935, 0.4489443409744521, 0.4508975692973704, 0.45081690079504083, 0.4497785283290075, 0.4497686605075597, 0.449563087147437, 0.4495337463247292, 0.4492296448310634, 0.4491561426933594, 0.4491536288377054, 0.4490862800183186, 0.44906553132911475, 0.4490545003804241, 5969.95115888407, 4945.683659089621, 3849.1290930092578, 3365.1339662926603, 2139.756272161673, 726.7996476612678, 276.678163305439, 251.847026413387, 37.418407727070694, 0.5382614225173044, 0.5374302030622201, 0.5374534767622421, 0.5374111912658646, 0.5374042239798708, 0.5374859784102027, 0.5373043842539803, 0.5372891155208449, 0.5373510798941518, 0.5373283991546399, 0.5372637664590375, 0.5373040877737253, 0.5372921544434592, 0.5372436058016936, 0.5372768486502919, 0.5372795910926512, 0.5372657677007592, 0.5372351190543926, 0.5372509066279744, 0.53724727474485, 0.5372291894492914, 0.5375015806836251, 0.5373677198484669, 0.5373725005925797, 0.5375199624594387, 0.5376077206149356, 0.5374477324573004, 0.5374491407385119, 0.5375828533335426, 0.5374273123797333, 0.5376315872754676, 0.5373424819667552, 0.5374166020305194, 0.5373507463538648, 0.5373349217202512, 0.5391887756950908, 0.5389012639677493, 0.5385616458355814, 0.5385469330029242, 0.5380751217370329, 0.5380673020703057, 0.5378515015046561, 0.5376508584920463, 0.5376501172914087, 0.537634626198082, 0.5375774055088559, 0.5375613585150509, 0.5375190730186735], \"Total\": [43978.0, 37023.0, 32942.0, 26610.0, 25479.0, 23990.0, 21903.0, 20168.0, 19791.0, 19152.0, 17020.0, 15255.0, 15181.0, 14817.0, 14215.0, 13529.0, 12851.0, 12116.0, 11899.0, 12173.0, 11182.0, 10858.0, 10528.0, 9561.0, 9722.0, 8681.0, 7487.0, 7672.0, 6862.0, 6474.0, 37023.83029084829, 10528.984564149667, 2636.4992744467118, 1105.25158361486, 847.2541056438035, 435.47120200899815, 10.96109373821827, 5.595843351365545, 5.595791134936868, 4.987864203147006, 4.965206910764521, 4.962709135678107, 4.962640838039755, 4.962637192563858, 4.962899711482231, 4.961831979019847, 4.961794880190595, 4.96199707801189, 4.96203315951025, 4.9623527338335265, 4.962569338593608, 4.9618873631695335, 4.961934527050639, 4.962074914264905, 4.961926886846999, 4.962284067266835, 4.962360259974411, 4.961580126080388, 4.96340549661698, 4.961596345625906, 4.963115120560577, 4.964119844935427, 4.969862178201643, 4.965841803764759, 4.965251474451717, 4.964358727690436, 4.963739938753972, 4.963275785487465, 4.962966056232981, 4.9635652743635585, 4.962689093218524, 4.963784410986697, 4.963126757791659, 4.96389421196779, 4.9636986322207814, 12173.292121152508, 43978.31017674388, 6862.065824076793, 32942.48350362062, 23990.772384679818, 26610.28088438443, 11899.12852649384, 25479.00876722815, 19152.850690278712, 21903.291858603297, 14817.13065104376, 25479.00876722815, 12173.292121152508, 3445.3265671845766, 2618.737053217854, 1384.119783418227, 1303.6210176714353, 352.12475169265633, 330.72054661057416, 76.9945955182994, 74.90772920213537, 43.811991738944734, 9.292994104572125, 4.963115120560577, 4.963275785487465, 4.963784410986697, 4.969862178201643, 4.963100465821885, 4.962242551667527, 4.962689093218524, 4.9620145252027905, 4.962320207164949, 4.962280022905295, 4.962966056232981, 4.961935352522855, 4.961930858488618, 4.962709135678107, 4.9624864698243485, 4.96181867892526, 4.961646809650042, 4.962071365585104, 4.962367618804155, 4.9635652743635585, 4.962482668079869, 4.962899711482231, 4.965841803764759, 4.964358727690436, 4.96340549661698, 4.965206910764521, 4.964119844935427, 4.96389421196779, 4.965251474451717, 4.963739938753972, 4.9636986322207814, 37023.83029084829, 43978.31017674388, 6862.065824076793, 32942.48350362062, 23990.772384679818, 21903.291858603297, 10528.984564149667, 19152.850690278712, 19791.984791336607, 26610.28088438443, 11899.12852649384, 43978.31017674388, 739.4488865825795, 632.5952127698495, 341.56775977891704, 236.04589268126784, 147.18792910660534, 103.2086257700092, 92.8102500159075, 4.9636986322207814, 4.962637192563858, 4.961950266280201, 4.9635652743635585, 4.962689093218524, 4.962709114906467, 4.962419110062871, 4.962090427337214, 4.963126757791659, 4.961669504967345, 4.962966056232981, 4.9619786769844625, 4.9618698756551645, 4.962280022905295, 4.962709135678107, 4.9614372290806195, 4.961843339013234, 4.961761695895435, 4.961826430534497, 4.961850144825621, 4.961655318546569, 4.962462536247607, 4.963784410986697, 4.962175782973723, 4.9623527338335265, 4.964119844935427, 4.962948932181744, 4.969862178201643, 4.964358727690436, 4.965206910764521, 4.962489849538647, 4.965251474451717, 4.96389421196779, 4.965841803764759, 4.963115120560577, 4.963739938753972, 4.963100465821885, 4.96340549661698, 513.643562413897, 12173.292121152508, 37023.83029084829, 6862.065824076793, 32942.48350362062, 23990.772384679818, 25479.00876722815, 10528.984564149667, 19152.850690278712, 21903.291858603297, 19791.984791336607, 11899.12852649384, 20168.72850592481, 23990.772384679818, 9722.746312288406, 4990.225158144705, 1685.2555700913745, 916.4697377473243, 702.842888091114, 398.46541745326755, 318.63597193565283, 198.4470555461117, 113.30428179432944, 61.45008434779679, 4.965841803764759, 4.965251474451717, 4.96389421196779, 4.963126757791659, 4.962462536247607, 4.962360259974411, 4.962142577526382, 4.961616247562115, 4.963275785487465, 4.9624864698243485, 4.962367618804155, 4.962637192563858, 4.9618698756551645, 4.9620460768259065, 4.962085576950075, 4.963015214694289, 4.962640838039755, 4.962101849464054, 4.962165313782148, 4.9636986322207814, 4.969862178201643, 4.963739938753972, 4.964358727690436, 4.962689093218524, 4.963100465821885, 4.965206910764521, 4.962899711482231, 4.964119844935427, 4.96340549661698, 4.963784410986697, 4.962966056232981, 4.962948932181744, 37023.83029084829, 43978.31017674388, 6862.065824076793, 12173.292121152508, 32942.48350362062, 25479.00876722815, 19791.984791336607, 21903.291858603297, 26610.28088438443, 10528.984564149667, 14817.13065104376, 11899.12852649384, 19152.850690278712, 5177.28599428476, 5097.050941110844, 3159.961234457357, 3148.0359779149226, 3138.150124628788, 978.0594882935638, 822.1097286753752, 479.8604413682323, 27.463449927312414, 4.965841803764759, 4.969862178201643, 4.962640838039755, 4.962085576950075, 4.962320207164949, 4.962709114906467, 4.961930858488618, 4.963739938753972, 4.961897576447287, 4.962280022905295, 4.962064714739819, 4.962966056232981, 4.961704853716331, 4.962367618804155, 4.962165313782148, 4.962056722734002, 4.96170913648136, 4.96389421196779, 4.961476969423927, 4.961563052197427, 4.962489849538647, 4.962390775139503, 4.962360259974411, 4.9635652743635585, 4.96340549661698, 4.965206910764521, 4.964358727690436, 4.964119844935427, 4.9624864698243485, 4.962899711482231, 4.965251474451717, 4.963784410986697, 4.963015214694289, 4.963115120560577, 4.9636986322207814, 4.962948932181744, 4.963100465821885, 12173.292121152508, 37023.83029084829, 43978.31017674388, 6862.065824076793, 23990.772384679818, 32942.48350362062, 21903.291858603297, 25479.00876722815, 26610.28088438443, 10528.984564149667, 19791.984791336607, 11899.12852649384, 11899.12852649384, 21903.291858603297, 2777.302027735957, 2241.129661259571, 552.2979617674816, 518.5500681019194, 515.4431967002234, 40.44224716391244, 28.415761783460134, 19.20572601948399, 5.057351234355609, 4.965251474451717, 4.965206910764521, 4.9635652743635585, 4.9624864698243485, 4.962569338593608, 4.962482668079869, 4.962948932181744, 4.961753616570539, 4.962085576950075, 4.962165313782148, 4.962640838039755, 4.962260916844501, 4.962074914264905, 4.961580126080388, 4.9616113762463305, 4.961714591138879, 4.961935352522855, 4.96166216784728, 4.9619332895385195, 4.9624596034065735, 4.962556620202489, 4.963126757791659, 4.963275785487465, 4.969862178201643, 4.962689093218524, 4.964119844935427, 4.9636986322207814, 4.963784410986697, 4.964358727690436, 4.965841803764759, 4.963100465821885, 4.96389421196779, 4.963115120560577, 4.96340549661698, 4.963739938753972, 12173.292121152508, 37023.83029084829, 43978.31017674388, 6862.065824076793, 32942.48350362062, 23990.772384679818, 25479.00876722815, 26610.28088438443, 10528.984564149667, 19791.984791336607, 19152.850690278712, 13529.731773207704, 32942.48350362062, 4322.16853413877, 1062.9882057046095, 705.3774369388483, 497.359386258723, 81.28487164198656, 36.67295570523282, 27.205341527050287, 4.965841803764759, 4.9635652743635585, 4.9636986322207814, 4.9624864698243485, 4.962489849538647, 4.962037711868703, 4.961877705395822, 4.964119844935427, 4.961926886846999, 4.961857245951129, 4.962140723601797, 4.962482668079869, 4.96202902738298, 4.961515352807266, 4.961936878740983, 4.961655811840157, 4.963275785487465, 4.962101066773623, 4.962709114906467, 4.96203315951025, 4.961671891318307, 4.96199707801189, 4.961795587417301, 4.965206910764521, 4.969862178201643, 4.965251474451717, 4.963739938753972, 4.962569338593608, 4.96340549661698, 4.962899711482231, 4.963100465821885, 4.964358727690436, 4.96389421196779, 4.962689093218524, 4.963115120560577, 4.962966056232981, 4.962948932181744, 4.963784410986697, 12173.292121152508, 37023.83029084829, 43978.31017674388, 6862.065824076793, 23990.772384679818, 21903.291858603297, 25479.00876722815, 10528.984564149667, 19152.850690278712, 26610.28088438443, 11899.12852649384, 19791.984791336607, 13529.731773207704, 7672.751209009546, 5457.864479022814, 4754.436554946719, 2539.0146731188497, 2207.4508914446524, 1960.9646693984355, 537.651905428841, 532.8734033124642, 330.2835193329356, 167.38653429771722, 116.10471416290133, 41.1504254133509, 6.158751739289337, 4.963100465821885, 4.965206910764521, 4.96389421196779, 4.964119844935427, 4.962320207164949, 4.962482668079869, 4.963739938753972, 4.962284067266835, 4.962637192563858, 4.969862178201643, 4.962556620202489, 4.962260916844501, 4.962304658923759, 4.9636986322207814, 4.961973549243179, 4.961682737531174, 4.963115120560577, 4.965841803764759, 4.962899711482231, 4.962689093218524, 4.964358727690436, 4.9635652743635585, 4.965251474451717, 4.963126757791659, 6862.065824076793, 43978.31017674388, 4.96340549661698, 4.963784410986697, 12173.292121152508, 37023.83029084829, 23990.772384679818, 32942.48350362062, 25479.00876722815, 10528.984564149667, 26610.28088438443, 11899.12852649384, 21903.291858603297, 26610.28088438443, 5562.393741688812, 4267.659416957202, 1511.8497936426122, 892.8183083326272, 287.0104094358283, 238.15483102606572, 170.45101318153976, 6.154241471915288, 4.964358727690436, 4.962175782973723, 4.963784410986697, 4.9624596034065735, 4.962637192563858, 4.962709114906467, 4.9635652743635585, 4.962320207164949, 4.961936878740983, 4.962101849464054, 4.962280022905295, 4.962569338593608, 4.961857245951129, 4.962071365585104, 4.963115120560577, 4.9623527338335265, 4.962090427337214, 4.962037711868703, 4.962085576950075, 4.962140723601797, 4.961579896197682, 4.961831447848701, 4.962451175386029, 4.965206910764521, 4.963015214694289, 4.965841803764759, 4.969862178201643, 4.962899711482231, 4.962482668079869, 4.963739938753972, 4.963275785487465, 4.96389421196779, 4.965251474451717, 4.963100465821885, 4.964119844935427, 4.962689093218524, 4.9636986322207814, 4.963126757791659, 12173.292121152508, 37023.83029084829, 6862.065824076793, 43978.31017674388, 23990.772384679818, 32942.48350362062, 25479.00876722815, 21903.291858603297, 10528.984564149667, 19152.850690278712, 19791.984791336607, 11899.12852649384, 20168.72850592481, 7672.751209009546, 12851.019264688479, 8681.49965346498, 6020.714259225755, 2587.0278134093587, 2382.2875863586046, 1002.1813031831786, 695.2377372646542, 572.0238571664808, 406.6736644446222, 335.6172363731943, 101.49529839346432, 89.72728748900906, 9.037710955306816, 4.964119844935427, 4.962390775139503, 4.963100465821885, 4.962419110062871, 4.962899711482231, 4.962489849538647, 4.962462536247607, 4.961792375688905, 4.961657913065684, 4.963115120560577, 4.961575434054849, 4.961761695895435, 4.962056722734002, 4.961634861304154, 4.961600256317155, 4.961897576447287, 4.9624864698243485, 4.9623527338335265, 4.965251474451717, 4.962304658923759, 4.9636986322207814, 4.962637192563858, 4.969862178201643, 4.965841803764759, 4.965206910764521, 4.963275785487465, 4.963126757791659, 4.964358727690436, 4.96389421196779, 4.963739938753972, 4.963784410986697, 20168.72850592481, 12173.292121152508, 37023.83029084829, 43978.31017674388, 6862.065824076793, 32942.48350362062, 23990.772384679818, 21903.291858603297, 25479.00876722815, 10528.984564149667, 19791.984791336607, 19152.850690278712, 17020.441211921883, 11182.382473251791, 6144.6985203664035, 1279.626221521483, 167.8751399481466, 38.136475747006585, 4.969862178201643, 4.963015214694289, 4.9635652743635585, 4.962556620202489, 4.964119844935427, 4.9623527338335265, 4.961873637170252, 4.9620460768259065, 4.963126757791659, 4.962419110062871, 4.96340549661698, 4.965841803764759, 4.9624596034065735, 4.962489849538647, 4.961626848695332, 4.961606409084555, 4.962179758199203, 4.961654264358584, 4.962242551667527, 4.961589412407447, 4.961762393214357, 4.962083347605853, 4.9613895709870315, 4.961579084692989, 4.962640838039755, 4.963275785487465, 4.962248684573349, 4.963115120560577, 4.962451175386029, 4.965206910764521, 4.962569338593608, 4.9636986322207814, 4.964358727690436, 4.965251474451717, 4.962966056232981, 4.963739938753972, 4.962709114906467, 4.963784410986697, 4.96389421196779, 4.963100465821885, 12173.292121152508, 37023.83029084829, 6862.065824076793, 32942.48350362062, 43978.31017674388, 23990.772384679818, 25479.00876722815, 21903.291858603297, 26610.28088438443, 10528.984564149667, 19152.850690278712, 19791.984791336607, 11899.12852649384, 19791.984791336607, 5506.683728029548, 3776.2445469118143, 2872.63623085362, 1947.714359293141, 452.24751251182477, 210.93877091402086, 197.78852975532007, 120.14261175293669, 4.964119844935427, 4.965206910764521, 4.964358727690436, 4.962462536247607, 4.963739938753972, 4.963275785487465, 4.963015214694289, 4.961897576447287, 4.96340549661698, 4.9635652743635585, 4.961857245951129, 4.961716066921364, 4.963100465821885, 4.961999511244627, 4.962637192563858, 4.9636986322207814, 4.962248684573349, 4.962948932181744, 4.962179758199203, 4.961795587417301, 4.961575434054849, 4.965841803764759, 4.962556620202489, 4.963784410986697, 4.962367618804155, 4.962640838039755, 4.963115120560577, 4.96389421196779, 4.969862178201643, 4.963126757791659, 4.965251474451717, 4.962899711482231, 12173.292121152508, 37023.83029084829, 43978.31017674388, 6862.065824076793, 32942.48350362062, 23990.772384679818, 25479.00876722815, 21903.291858603297, 10528.984564149667, 26610.28088438443, 19152.850690278712, 11899.12852649384, 12116.633469746674, 9561.076577197184, 3647.334117127167, 3162.4504771835623, 1993.5007525079643, 1111.2541526396176, 490.4829985377594, 85.18759293444565, 4.965841803764759, 4.96389421196779, 4.962489849538647, 4.963100465821885, 4.964119844935427, 4.964358727690436, 4.962451175386029, 4.962556620202489, 4.962083347605853, 4.963784410986697, 4.961669504967345, 4.961657913065684, 4.96166216784728, 4.962367618804155, 4.962179758199203, 4.961769113926936, 4.962462536247607, 4.962248684573349, 4.961606409084555, 4.961716793495379, 4.9618698756551645, 4.963275785487465, 4.962101066773623, 4.963739938753972, 4.962709135678107, 4.965251474451717, 4.969862178201643, 4.962689093218524, 4.962640838039755, 4.965206910764521, 4.9636986322207814, 4.962948932181744, 4.96340549661698, 4.963126757791659, 4.963015214694289, 4.9635652743635585, 12173.292121152508, 37023.83029084829, 43978.31017674388, 6862.065824076793, 32942.48350362062, 23990.772384679818, 25479.00876722815, 21903.291858603297, 10528.984564149667, 26610.28088438443, 19791.984791336607, 19152.850690278712, 11899.12852649384, 14817.13065104376, 7487.027308336685, 3760.8810715509912, 2809.4468038620485, 2315.1110683622155, 717.9700287990971, 5.2881629502403475, 4.965841803764759, 4.96389421196779, 4.963739938753972, 4.963784410986697, 4.96340549661698, 4.961977712433743, 4.961973549243179, 4.962085576950075, 4.962074914264905, 4.961752224667801, 4.9618873631695335, 4.96203315951025, 4.964358727690436, 4.962367618804155, 4.9615628447953055, 4.962110806296826, 4.962037711868703, 4.962090427337214, 4.962390775139503, 4.9635652743635585, 4.962284067266835, 4.962260916844501, 4.9624864698243485, 4.9636986322207814, 4.962640838039755, 4.969862178201643, 4.963275785487465, 4.962899711482231, 4.965206910764521, 4.962966056232981, 4.963126757791659, 4.962419110062871, 4.962948932181744, 4.964119844935427, 4.963015214694289, 4.962709135678107, 4.963115120560577, 4.965251474451717, 21903.291858603297, 4.963100465821885, 37023.83029084829, 12173.292121152508, 6862.065824076793, 43978.31017674388, 23990.772384679818, 32942.48350362062, 25479.00876722815, 19791.984791336607, 19152.850690278712, 10528.984564149667, 11899.12852649384, 7672.751209009546, 20168.72850592481, 10858.7133506349, 6310.311686684267, 6107.214020062575, 3351.5961678442854, 1753.2390836580337, 1587.9098110576326, 1444.7980275540965, 322.86596855046906, 269.15225785584647, 53.86600187627902, 4.965251474451717, 4.965206910764521, 4.963015214694289, 4.962074914264905, 4.9636986322207814, 4.9617843838657, 4.962284067266835, 4.962071365585104, 4.962260916844501, 4.961936878740983, 4.962899711482231, 4.961888366394778, 4.962367618804155, 4.961616247562115, 4.9614150374166925, 4.962101066773623, 4.962115306453486, 4.961934527050639, 4.961503170341537, 4.961668215208588, 4.964358727690436, 4.962188315917072, 4.96389421196779, 4.9624864698243485, 4.962640838039755, 4.969862178201643, 4.963126757791659, 4.965841803764759, 4.96340549661698, 4.963115120560577, 4.962709114906467, 4.963739938753972, 4.9635652743635585, 4.964119844935427, 4.963784410986697, 4.963275785487465, 4.962709135678107, 6862.065824076793, 12173.292121152508, 37023.83029084829, 43978.31017674388, 23990.772384679818, 32942.48350362062, 25479.00876722815, 10528.984564149667, 21903.291858603297, 26610.28088438443, 19152.850690278712, 7672.751209009546, 19791.984791336607, 20168.72850592481, 6474.545935653769, 1780.4443581563432, 1484.629733368411, 648.4738271873986, 146.15038231086945, 61.465841308593326, 4.969862178201643, 4.964358727690436, 4.962966056232981, 4.962689093218524, 4.965841803764759, 4.962260916844501, 4.962948932181744, 4.962709135678107, 4.961905882412984, 4.962165313782148, 4.9624596034065735, 4.965206910764521, 4.962037711868703, 4.962248684573349, 4.962101066773623, 4.962304658923759, 4.961784570370279, 4.9618873631695335, 4.961579896197682, 4.961762703740335, 4.961722963171451, 4.9620145252027905, 4.961897559549132, 4.962556620202489, 4.963126757791659, 4.96340549661698, 4.963784410986697, 4.9636986322207814, 4.962569338593608, 4.964119844935427, 4.963739938753972, 4.963015214694289, 4.965251474451717, 4.9635652743635585, 4.963115120560577, 4.962899711482231, 4.96389421196779, 37023.83029084829, 43978.31017674388, 6862.065824076793, 12173.292121152508, 23990.772384679818, 32942.48350362062, 25479.00876722815, 21903.291858603297, 26610.28088438443, 10528.984564149667, 11899.12852649384, 19791.984791336607, 4990.225158144705, 14817.13065104376, 14215.554989725762, 6862.065824076793, 2209.8597743099376, 2155.745082192058, 1038.6690013285063, 730.6736833074392, 342.7465859166858, 17.221850141015608, 7.849054586490277, 4.965251474451717, 4.963784410986697, 4.96389421196779, 4.9636986322207814, 4.965841803764759, 4.96181867892526, 4.962218372231817, 4.962390775139503, 4.962640838039755, 4.962948932181744, 4.962451175386029, 4.96340549661698, 4.963115120560577, 4.962569338593608, 4.961784570370279, 4.9623527338335265, 4.961936878740983, 4.961761695895435, 4.962462536247607, 4.9619786769844625, 4.9619332895385195, 4.963100465821885, 4.962320207164949, 4.963015214694289, 4.963275785487465, 4.962482668079869, 4.964119844935427, 4.962899711482231, 4.965206910764521, 4.969862178201643, 4.964358727690436, 4.9635652743635585, 4.963739938753972, 4.962966056232981, 12173.292121152508, 37023.83029084829, 43978.31017674388, 32942.48350362062, 23990.772384679818, 21903.291858603297, 25479.00876722815, 19791.984791336607, 10528.984564149667, 11899.12852649384, 26610.28088438443, 19152.850690278712, 15255.798371959909, 4959.2557736092285, 4416.097927064599, 1201.195636912892, 1007.167450313273, 513.643562413897, 314.64928717373294, 4.965251474451717, 4.963100465821885, 4.963739938753972, 4.963275785487465, 4.962175782973723, 4.969862178201643, 4.962056722734002, 4.961831447848701, 4.962101849464054, 4.962709114906467, 4.963126757791659, 4.961665462229202, 4.962709135678107, 4.962248684573349, 4.962165313782148, 4.961877705395822, 4.962948932181744, 4.962142577526382, 4.961671868724283, 4.961950266280201, 4.962966056232981, 4.962218372231817, 4.961999511244627, 4.962367618804155, 4.9636986322207814, 4.963784410986697, 4.9635652743635585, 4.965841803764759, 4.963115120560577, 4.962637192563858, 4.964358727690436, 4.965206910764521, 4.96340549661698, 4.964119844935427, 4.96389421196779, 4.962899711482231, 4.962462536247607, 12173.292121152508, 37023.83029084829, 43978.31017674388, 6862.065824076793, 32942.48350362062, 23990.772384679818, 25479.00876722815, 21903.291858603297, 10528.984564149667, 19152.850690278712, 11899.12852649384, 19791.984791336607, 9722.746312288406, 17020.441211921883, 15181.212386792942, 6020.354600047053, 2524.77768612862, 899.2279046582227, 491.0307199749759, 79.64864307254291, 56.99492253710559, 8.153116579361322, 4.969862178201643, 4.96389421196779, 4.965206910764521, 4.963275785487465, 4.963115120560577, 4.9635652743635585, 4.962419110062871, 4.961671891318307, 4.961859841659523, 4.962188315917072, 4.962948932181744, 4.961930858488618, 4.962637192563858, 4.961973549243179, 4.9620145252027905, 4.962280022905295, 4.961843339013234, 4.963739938753972, 4.962462536247607, 4.962110806296826, 4.961909201803478, 4.961563052197427, 4.961926886846999, 4.965251474451717, 4.963126757791659, 4.964358727690436, 4.963100465821885, 4.962966056232981, 4.96340549661698, 4.963784410986697, 4.963015214694289, 4.962556620202489, 4.965841803764759, 4.964119844935427, 4.962689093218524, 4.9636986322207814, 12173.292121152508, 37023.83029084829, 43978.31017674388, 6862.065824076793, 32942.48350362062, 23990.772384679818, 21903.291858603297, 10528.984564149667, 25479.00876722815, 11899.12852649384, 19152.850690278712, 26610.28088438443, 5974.3753541683145, 4950.10798439817, 3853.5530489551097, 3369.558288635976, 2144.180223491358, 731.2236033445615, 281.1020516201496, 256.27093226305294, 41.842425507266604, 4.969862178201643, 4.963126757791659, 4.96340549661698, 4.963015214694289, 4.962966056232981, 4.963784410986697, 4.962110806296826, 4.96199707801189, 4.962569338593608, 4.962360259974411, 4.961779535465879, 4.962188315917072, 4.962083347605853, 4.961665462229202, 4.961977712433743, 4.9620145252027905, 4.961926886846999, 4.961646809650042, 4.961795587417301, 4.961762393214357, 4.961596345625906, 4.964119844935427, 4.962899711482231, 4.962948932181744, 4.964358727690436, 4.965251474451717, 4.9636986322207814, 4.963739938753972, 4.965206910764521, 4.9635652743635585, 4.965841803764759, 4.962709114906467, 4.96389421196779, 4.963275785487465, 4.963100465821885, 37023.83029084829, 12173.292121152508, 6862.065824076793, 43978.31017674388, 32942.48350362062, 23990.772384679818, 25479.00876722815, 10528.984564149667, 21903.291858603297, 19791.984791336607, 11899.12852649384, 19152.850690278712, 26610.28088438443], \"Category\": [\"Default\", \"Default\", \"Default\", \"Default\", \"Default\", \"Default\", \"Default\", \"Default\", \"Default\", \"Default\", \"Default\", \"Default\", \"Default\", \"Default\", \"Default\", \"Default\", \"Default\", \"Default\", \"Default\", \"Default\", \"Default\", \"Default\", \"Default\", \"Default\", \"Default\", \"Default\", \"Default\", \"Default\", \"Default\", \"Default\", \"Topic1\", \"Topic1\", \"Topic1\", \"Topic1\", \"Topic1\", \"Topic1\", \"Topic1\", \"Topic1\", \"Topic1\", \"Topic1\", \"Topic1\", \"Topic1\", \"Topic1\", \"Topic1\", \"Topic1\", \"Topic1\", \"Topic1\", \"Topic1\", \"Topic1\", \"Topic1\", \"Topic1\", \"Topic1\", \"Topic1\", \"Topic1\", \"Topic1\", \"Topic1\", \"Topic1\", \"Topic1\", \"Topic1\", \"Topic1\", \"Topic1\", \"Topic1\", \"Topic1\", \"Topic1\", \"Topic1\", \"Topic1\", \"Topic1\", \"Topic1\", \"Topic1\", \"Topic1\", \"Topic1\", \"Topic1\", \"Topic1\", \"Topic1\", \"Topic1\", \"Topic1\", \"Topic1\", \"Topic1\", \"Topic1\", \"Topic1\", \"Topic1\", \"Topic1\", \"Topic1\", \"Topic1\", \"Topic1\", \"Topic1\", \"Topic2\", \"Topic2\", \"Topic2\", \"Topic2\", \"Topic2\", \"Topic2\", \"Topic2\", \"Topic2\", \"Topic2\", \"Topic2\", \"Topic2\", \"Topic2\", \"Topic2\", \"Topic2\", \"Topic2\", \"Topic2\", \"Topic2\", \"Topic2\", \"Topic2\", \"Topic2\", \"Topic2\", \"Topic2\", \"Topic2\", \"Topic2\", \"Topic2\", \"Topic2\", \"Topic2\", \"Topic2\", \"Topic2\", \"Topic2\", \"Topic2\", \"Topic2\", \"Topic2\", \"Topic2\", \"Topic2\", \"Topic2\", \"Topic2\", \"Topic2\", \"Topic2\", \"Topic2\", \"Topic2\", \"Topic2\", \"Topic2\", \"Topic2\", \"Topic2\", \"Topic2\", \"Topic2\", \"Topic2\", \"Topic2\", \"Topic2\", \"Topic2\", \"Topic2\", \"Topic2\", \"Topic2\", \"Topic3\", \"Topic3\", \"Topic3\", \"Topic3\", \"Topic3\", \"Topic3\", \"Topic3\", \"Topic3\", \"Topic3\", \"Topic3\", \"Topic3\", \"Topic3\", \"Topic3\", \"Topic3\", \"Topic3\", \"Topic3\", \"Topic3\", \"Topic3\", \"Topic3\", \"Topic3\", \"Topic3\", \"Topic3\", \"Topic3\", \"Topic3\", \"Topic3\", \"Topic3\", \"Topic3\", \"Topic3\", \"Topic3\", \"Topic3\", \"Topic3\", \"Topic3\", \"Topic3\", \"Topic3\", \"Topic3\", \"Topic3\", \"Topic3\", \"Topic3\", \"Topic3\", \"Topic3\", \"Topic3\", \"Topic3\", \"Topic3\", \"Topic3\", \"Topic3\", \"Topic3\", \"Topic3\", \"Topic3\", \"Topic3\", \"Topic3\", \"Topic3\", \"Topic3\", \"Topic3\", \"Topic3\", \"Topic3\", \"Topic3\", \"Topic3\", \"Topic3\", \"Topic3\", \"Topic4\", \"Topic4\", \"Topic4\", \"Topic4\", \"Topic4\", \"Topic4\", \"Topic4\", \"Topic4\", \"Topic4\", \"Topic4\", \"Topic4\", \"Topic4\", \"Topic4\", \"Topic4\", \"Topic4\", \"Topic4\", \"Topic4\", \"Topic4\", \"Topic4\", \"Topic4\", \"Topic4\", \"Topic4\", \"Topic4\", \"Topic4\", \"Topic4\", \"Topic4\", \"Topic4\", \"Topic4\", \"Topic4\", \"Topic4\", \"Topic4\", \"Topic4\", \"Topic4\", \"Topic4\", \"Topic4\", \"Topic4\", \"Topic4\", \"Topic4\", \"Topic4\", \"Topic4\", \"Topic4\", \"Topic4\", \"Topic4\", \"Topic4\", \"Topic4\", \"Topic4\", \"Topic4\", \"Topic4\", \"Topic4\", \"Topic4\", \"Topic4\", \"Topic4\", \"Topic4\", \"Topic4\", \"Topic4\", \"Topic5\", \"Topic5\", \"Topic5\", \"Topic5\", \"Topic5\", \"Topic5\", \"Topic5\", \"Topic5\", \"Topic5\", \"Topic5\", \"Topic5\", \"Topic5\", \"Topic5\", \"Topic5\", \"Topic5\", \"Topic5\", \"Topic5\", \"Topic5\", \"Topic5\", \"Topic5\", \"Topic5\", \"Topic5\", \"Topic5\", \"Topic5\", \"Topic5\", \"Topic5\", \"Topic5\", \"Topic5\", \"Topic5\", \"Topic5\", \"Topic5\", \"Topic5\", \"Topic5\", \"Topic5\", \"Topic5\", \"Topic5\", \"Topic5\", \"Topic5\", \"Topic5\", \"Topic5\", \"Topic5\", \"Topic5\", \"Topic5\", \"Topic5\", \"Topic5\", \"Topic5\", \"Topic5\", \"Topic5\", \"Topic5\", \"Topic5\", \"Topic5\", \"Topic5\", \"Topic5\", \"Topic5\", \"Topic5\", \"Topic5\", \"Topic5\", \"Topic5\", \"Topic5\", \"Topic6\", \"Topic6\", \"Topic6\", \"Topic6\", \"Topic6\", \"Topic6\", \"Topic6\", \"Topic6\", \"Topic6\", \"Topic6\", \"Topic6\", \"Topic6\", \"Topic6\", \"Topic6\", \"Topic6\", \"Topic6\", \"Topic6\", \"Topic6\", \"Topic6\", \"Topic6\", \"Topic6\", \"Topic6\", \"Topic6\", \"Topic6\", \"Topic6\", \"Topic6\", \"Topic6\", \"Topic6\", \"Topic6\", \"Topic6\", \"Topic6\", \"Topic6\", \"Topic6\", \"Topic6\", \"Topic6\", \"Topic6\", \"Topic6\", \"Topic6\", \"Topic6\", \"Topic6\", \"Topic6\", \"Topic6\", \"Topic6\", \"Topic6\", \"Topic6\", \"Topic6\", \"Topic6\", \"Topic6\", \"Topic6\", \"Topic6\", \"Topic6\", \"Topic6\", \"Topic6\", \"Topic6\", \"Topic6\", \"Topic6\", \"Topic6\", \"Topic6\", \"Topic7\", \"Topic7\", \"Topic7\", \"Topic7\", \"Topic7\", \"Topic7\", \"Topic7\", \"Topic7\", \"Topic7\", \"Topic7\", \"Topic7\", \"Topic7\", \"Topic7\", \"Topic7\", \"Topic7\", \"Topic7\", \"Topic7\", \"Topic7\", \"Topic7\", \"Topic7\", \"Topic7\", \"Topic7\", \"Topic7\", \"Topic7\", \"Topic7\", \"Topic7\", \"Topic7\", \"Topic7\", \"Topic7\", \"Topic7\", \"Topic7\", \"Topic7\", \"Topic7\", \"Topic7\", \"Topic7\", \"Topic7\", \"Topic7\", \"Topic7\", \"Topic7\", \"Topic7\", \"Topic7\", \"Topic7\", \"Topic7\", \"Topic7\", \"Topic7\", \"Topic7\", \"Topic7\", \"Topic7\", \"Topic7\", \"Topic7\", \"Topic7\", \"Topic7\", \"Topic7\", \"Topic7\", \"Topic7\", \"Topic7\", \"Topic7\", \"Topic7\", \"Topic8\", \"Topic8\", \"Topic8\", \"Topic8\", \"Topic8\", \"Topic8\", \"Topic8\", \"Topic8\", \"Topic8\", \"Topic8\", \"Topic8\", \"Topic8\", \"Topic8\", \"Topic8\", \"Topic8\", \"Topic8\", \"Topic8\", \"Topic8\", \"Topic8\", \"Topic8\", \"Topic8\", \"Topic8\", \"Topic8\", \"Topic8\", \"Topic8\", \"Topic8\", \"Topic8\", \"Topic8\", \"Topic8\", \"Topic8\", \"Topic8\", \"Topic8\", \"Topic8\", \"Topic8\", \"Topic8\", \"Topic8\", \"Topic8\", \"Topic8\", \"Topic8\", \"Topic8\", \"Topic8\", \"Topic8\", \"Topic8\", \"Topic8\", \"Topic8\", \"Topic8\", \"Topic8\", \"Topic8\", \"Topic8\", \"Topic8\", \"Topic8\", \"Topic9\", \"Topic9\", \"Topic9\", \"Topic9\", \"Topic9\", \"Topic9\", \"Topic9\", \"Topic9\", \"Topic9\", \"Topic9\", \"Topic9\", \"Topic9\", \"Topic9\", \"Topic9\", \"Topic9\", \"Topic9\", \"Topic9\", \"Topic9\", \"Topic9\", \"Topic9\", \"Topic9\", \"Topic9\", \"Topic9\", \"Topic9\", \"Topic9\", \"Topic9\", \"Topic9\", \"Topic9\", \"Topic9\", \"Topic9\", \"Topic9\", \"Topic9\", \"Topic9\", \"Topic9\", \"Topic9\", \"Topic9\", \"Topic9\", \"Topic9\", \"Topic9\", \"Topic9\", \"Topic9\", \"Topic9\", \"Topic9\", \"Topic9\", \"Topic9\", \"Topic9\", \"Topic9\", \"Topic9\", \"Topic9\", \"Topic9\", \"Topic9\", \"Topic9\", \"Topic9\", \"Topic9\", \"Topic9\", \"Topic9\", \"Topic9\", \"Topic9\", \"Topic9\", \"Topic9\", \"Topic9\", \"Topic10\", \"Topic10\", \"Topic10\", \"Topic10\", \"Topic10\", \"Topic10\", \"Topic10\", \"Topic10\", \"Topic10\", \"Topic10\", \"Topic10\", \"Topic10\", \"Topic10\", \"Topic10\", \"Topic10\", \"Topic10\", \"Topic10\", \"Topic10\", \"Topic10\", \"Topic10\", \"Topic10\", \"Topic10\", \"Topic10\", \"Topic10\", \"Topic10\", \"Topic10\", \"Topic10\", \"Topic10\", \"Topic10\", \"Topic10\", \"Topic10\", \"Topic10\", \"Topic10\", \"Topic10\", \"Topic10\", \"Topic10\", \"Topic10\", \"Topic10\", \"Topic10\", \"Topic10\", \"Topic10\", \"Topic10\", \"Topic10\", \"Topic10\", \"Topic10\", \"Topic10\", \"Topic10\", \"Topic10\", \"Topic10\", \"Topic10\", \"Topic10\", \"Topic10\", \"Topic10\", \"Topic10\", \"Topic10\", \"Topic10\", \"Topic11\", \"Topic11\", \"Topic11\", \"Topic11\", \"Topic11\", \"Topic11\", \"Topic11\", \"Topic11\", \"Topic11\", \"Topic11\", \"Topic11\", \"Topic11\", \"Topic11\", \"Topic11\", \"Topic11\", \"Topic11\", \"Topic11\", \"Topic11\", \"Topic11\", \"Topic11\", \"Topic11\", \"Topic11\", \"Topic11\", \"Topic11\", \"Topic11\", \"Topic11\", \"Topic11\", \"Topic11\", \"Topic11\", \"Topic11\", \"Topic11\", \"Topic11\", \"Topic11\", \"Topic11\", \"Topic11\", \"Topic11\", \"Topic11\", \"Topic11\", \"Topic11\", \"Topic11\", \"Topic11\", \"Topic11\", \"Topic11\", \"Topic11\", \"Topic11\", \"Topic11\", \"Topic11\", \"Topic11\", \"Topic11\", \"Topic11\", \"Topic11\", \"Topic11\", \"Topic11\", \"Topic11\", \"Topic11\", \"Topic11\", \"Topic11\", \"Topic11\", \"Topic11\", \"Topic12\", \"Topic12\", \"Topic12\", \"Topic12\", \"Topic12\", \"Topic12\", \"Topic12\", \"Topic12\", \"Topic12\", \"Topic12\", \"Topic12\", \"Topic12\", \"Topic12\", \"Topic12\", \"Topic12\", \"Topic12\", \"Topic12\", \"Topic12\", \"Topic12\", \"Topic12\", \"Topic12\", \"Topic12\", \"Topic12\", \"Topic12\", \"Topic12\", \"Topic12\", \"Topic12\", \"Topic12\", \"Topic12\", \"Topic12\", \"Topic12\", \"Topic12\", \"Topic12\", \"Topic12\", \"Topic12\", \"Topic12\", \"Topic12\", \"Topic12\", \"Topic12\", \"Topic12\", \"Topic12\", \"Topic12\", \"Topic12\", \"Topic12\", \"Topic12\", \"Topic12\", \"Topic12\", \"Topic12\", \"Topic12\", \"Topic12\", \"Topic12\", \"Topic12\", \"Topic12\", \"Topic13\", \"Topic13\", \"Topic13\", \"Topic13\", \"Topic13\", \"Topic13\", \"Topic13\", \"Topic13\", \"Topic13\", \"Topic13\", \"Topic13\", \"Topic13\", \"Topic13\", \"Topic13\", \"Topic13\", \"Topic13\", \"Topic13\", \"Topic13\", \"Topic13\", \"Topic13\", \"Topic13\", \"Topic13\", \"Topic13\", \"Topic13\", \"Topic13\", \"Topic13\", \"Topic13\", \"Topic13\", \"Topic13\", \"Topic13\", \"Topic13\", \"Topic13\", \"Topic13\", \"Topic13\", \"Topic13\", \"Topic13\", \"Topic13\", \"Topic13\", \"Topic13\", \"Topic13\", \"Topic13\", \"Topic13\", \"Topic13\", \"Topic13\", \"Topic13\", \"Topic13\", \"Topic13\", \"Topic13\", \"Topic13\", \"Topic13\", \"Topic13\", \"Topic13\", \"Topic13\", \"Topic13\", \"Topic13\", \"Topic13\", \"Topic13\", \"Topic14\", \"Topic14\", \"Topic14\", \"Topic14\", \"Topic14\", \"Topic14\", \"Topic14\", \"Topic14\", \"Topic14\", \"Topic14\", \"Topic14\", \"Topic14\", \"Topic14\", \"Topic14\", \"Topic14\", \"Topic14\", \"Topic14\", \"Topic14\", \"Topic14\", \"Topic14\", \"Topic14\", \"Topic14\", \"Topic14\", \"Topic14\", \"Topic14\", \"Topic14\", \"Topic14\", \"Topic14\", \"Topic14\", \"Topic14\", \"Topic14\", \"Topic14\", \"Topic14\", \"Topic14\", \"Topic14\", \"Topic14\", \"Topic14\", \"Topic14\", \"Topic14\", \"Topic14\", \"Topic14\", \"Topic14\", \"Topic14\", \"Topic14\", \"Topic14\", \"Topic14\", \"Topic14\", \"Topic14\", \"Topic14\", \"Topic14\", \"Topic14\", \"Topic14\", \"Topic14\", \"Topic14\", \"Topic14\", \"Topic14\", \"Topic14\", \"Topic14\", \"Topic14\", \"Topic14\", \"Topic15\", \"Topic15\", \"Topic15\", \"Topic15\", \"Topic15\", \"Topic15\", \"Topic15\", \"Topic15\", \"Topic15\", \"Topic15\", \"Topic15\", \"Topic15\", \"Topic15\", \"Topic15\", \"Topic15\", \"Topic15\", \"Topic15\", \"Topic15\", \"Topic15\", \"Topic15\", \"Topic15\", \"Topic15\", \"Topic15\", \"Topic15\", \"Topic15\", \"Topic15\", \"Topic15\", \"Topic15\", \"Topic15\", \"Topic15\", \"Topic15\", \"Topic15\", \"Topic15\", \"Topic15\", \"Topic15\", \"Topic15\", \"Topic15\", \"Topic15\", \"Topic15\", \"Topic15\", \"Topic15\", \"Topic15\", \"Topic15\", \"Topic15\", \"Topic15\", \"Topic15\", \"Topic15\", \"Topic15\", \"Topic15\", \"Topic15\", \"Topic15\", \"Topic15\", \"Topic15\", \"Topic15\", \"Topic15\", \"Topic15\", \"Topic15\", \"Topic15\", \"Topic15\", \"Topic15\", \"Topic16\", \"Topic16\", \"Topic16\", \"Topic16\", \"Topic16\", \"Topic16\", \"Topic16\", \"Topic16\", \"Topic16\", \"Topic16\", \"Topic16\", \"Topic16\", \"Topic16\", \"Topic16\", \"Topic16\", \"Topic16\", \"Topic16\", \"Topic16\", \"Topic16\", \"Topic16\", \"Topic16\", \"Topic16\", \"Topic16\", \"Topic16\", \"Topic16\", \"Topic16\", \"Topic16\", \"Topic16\", \"Topic16\", \"Topic16\", \"Topic16\", \"Topic16\", \"Topic16\", \"Topic16\", \"Topic16\", \"Topic16\", \"Topic16\", \"Topic16\", \"Topic16\", \"Topic16\", \"Topic16\", \"Topic16\", \"Topic16\", \"Topic16\", \"Topic16\", \"Topic16\", \"Topic16\", \"Topic16\", \"Topic16\", \"Topic16\", \"Topic16\", \"Topic16\", \"Topic16\", \"Topic16\", \"Topic16\", \"Topic16\", \"Topic16\", \"Topic16\", \"Topic17\", \"Topic17\", \"Topic17\", \"Topic17\", \"Topic17\", \"Topic17\", \"Topic17\", \"Topic17\", \"Topic17\", \"Topic17\", \"Topic17\", \"Topic17\", \"Topic17\", \"Topic17\", \"Topic17\", \"Topic17\", \"Topic17\", \"Topic17\", \"Topic17\", \"Topic17\", \"Topic17\", \"Topic17\", \"Topic17\", \"Topic17\", \"Topic17\", \"Topic17\", \"Topic17\", \"Topic17\", \"Topic17\", \"Topic17\", \"Topic17\", \"Topic17\", \"Topic17\", \"Topic17\", \"Topic17\", \"Topic17\", \"Topic17\", \"Topic17\", \"Topic17\", \"Topic17\", \"Topic17\", \"Topic17\", \"Topic17\", \"Topic17\", \"Topic17\", \"Topic17\", \"Topic17\", \"Topic17\", \"Topic17\", \"Topic17\", \"Topic17\", \"Topic17\", \"Topic17\", \"Topic17\", \"Topic17\", \"Topic18\", \"Topic18\", \"Topic18\", \"Topic18\", \"Topic18\", \"Topic18\", \"Topic18\", \"Topic18\", \"Topic18\", \"Topic18\", \"Topic18\", \"Topic18\", \"Topic18\", \"Topic18\", \"Topic18\", \"Topic18\", \"Topic18\", \"Topic18\", \"Topic18\", \"Topic18\", \"Topic18\", \"Topic18\", \"Topic18\", \"Topic18\", \"Topic18\", \"Topic18\", \"Topic18\", \"Topic18\", \"Topic18\", \"Topic18\", \"Topic18\", \"Topic18\", \"Topic18\", \"Topic18\", \"Topic18\", \"Topic18\", \"Topic18\", \"Topic18\", \"Topic18\", \"Topic18\", \"Topic18\", \"Topic18\", \"Topic18\", \"Topic18\", \"Topic18\", \"Topic18\", \"Topic18\", \"Topic18\", \"Topic18\", \"Topic18\", \"Topic18\", \"Topic18\", \"Topic18\", \"Topic18\", \"Topic18\", \"Topic18\", \"Topic18\", \"Topic18\", \"Topic19\", \"Topic19\", \"Topic19\", \"Topic19\", \"Topic19\", \"Topic19\", \"Topic19\", \"Topic19\", \"Topic19\", \"Topic19\", \"Topic19\", \"Topic19\", \"Topic19\", \"Topic19\", \"Topic19\", \"Topic19\", \"Topic19\", \"Topic19\", \"Topic19\", \"Topic19\", \"Topic19\", \"Topic19\", \"Topic19\", \"Topic19\", \"Topic19\", \"Topic19\", \"Topic19\", \"Topic19\", \"Topic19\", \"Topic19\", \"Topic19\", \"Topic19\", \"Topic19\", \"Topic19\", \"Topic19\", \"Topic19\", \"Topic19\", \"Topic19\", \"Topic19\", \"Topic19\", \"Topic19\", \"Topic19\", \"Topic19\", \"Topic19\", \"Topic19\", \"Topic19\", \"Topic19\", \"Topic19\", \"Topic19\", \"Topic19\", \"Topic19\", \"Topic19\", \"Topic19\", \"Topic19\", \"Topic19\", \"Topic19\", \"Topic20\", \"Topic20\", \"Topic20\", \"Topic20\", \"Topic20\", \"Topic20\", \"Topic20\", \"Topic20\", \"Topic20\", \"Topic20\", \"Topic20\", \"Topic20\", \"Topic20\", \"Topic20\", \"Topic20\", \"Topic20\", \"Topic20\", \"Topic20\", \"Topic20\", \"Topic20\", \"Topic20\", \"Topic20\", \"Topic20\", \"Topic20\", \"Topic20\", \"Topic20\", \"Topic20\", \"Topic20\", \"Topic20\", \"Topic20\", \"Topic20\", \"Topic20\", \"Topic20\", \"Topic20\", \"Topic20\", \"Topic20\", \"Topic20\", \"Topic20\", \"Topic20\", \"Topic20\", \"Topic20\", \"Topic20\", \"Topic20\", \"Topic20\", \"Topic20\", \"Topic20\", \"Topic20\", \"Topic20\", \"Topic20\", \"Topic20\", \"Topic20\", \"Topic20\", \"Topic20\", \"Topic20\", \"Topic20\", \"Topic20\", \"Topic20\"], \"logprob\": [30.0, 29.0, 28.0, 27.0, 26.0, 25.0, 24.0, 23.0, 22.0, 21.0, 20.0, 19.0, 18.0, 17.0, 16.0, 15.0, 14.0, 13.0, 12.0, 11.0, 10.0, 9.0, 8.0, 7.0, 6.0, 5.0, 4.0, 3.0, 2.0, 1.0, -0.4092999994754791, -1.6670000553131104, -3.053100109100342, -3.924999952316284, -4.192200183868408, -4.86329984664917, -9.121899604797363, -11.251500129699707, -11.251500129699707, -13.083800315856934, -13.34469985961914, -13.345199584960938, -13.34529972076416, -13.34529972076416, -13.34529972076416, -13.345499992370605, -13.345499992370605, -13.345499992370605, -13.345499992370605, -13.345399856567383, -13.345399856567383, -13.345499992370605, -13.345499992370605, -13.345499992370605, -13.345499992370605, -13.345399856567383, -13.345399856567383, -13.345600128173828, -13.345199584960938, -13.345600128173828, -13.34529972076416, -13.345100402832031, -13.343999862670898, -13.344799995422363, -13.344900131225586, -13.345100402832031, -13.345199584960938, -13.34529972076416, -13.34529972076416, -13.345199584960938, -13.345399856567383, -13.345199584960938, -13.34529972076416, -13.34529972076416, -13.34529972076416, -13.34119987487793, -13.34220027923584, -13.343700408935547, -13.343899726867676, -13.343999862670898, -13.344799995422363, -13.344900131225586, -13.344900131225586, -13.345000267028809, -13.345000267028809, -13.345199584960938, -0.6985999941825867, -1.437399983406067, -2.700700044631958, -2.975399971008301, -3.6147000789642334, -3.674799919128418, -4.993899822235107, -5.057499885559082, -6.565299987792969, -6.594699859619141, -7.181399822235107, -9.352499961853027, -13.03439998626709, -13.03439998626709, -13.034299850463867, -13.033100128173828, -13.034500122070312, -13.034700393676758, -13.034600257873535, -13.034700393676758, -13.034700393676758, -13.034700393676758, -13.034500122070312, -13.034700393676758, -13.034700393676758, -13.034600257873535, -13.034600257873535, -13.034799575805664, -13.034799575805664, -13.034700393676758, -13.034700393676758, -13.03439998626709, -13.034700393676758, -13.034600257873535, -13.034099578857422, -13.03439998626709, -13.034500122070312, -13.034199714660645, -13.03439998626709, -13.034500122070312, -13.034299850463867, -13.034500122070312, -13.034500122070312, -13.031200408935547, -13.031399726867676, -13.031999588012695, -13.03320026397705, -13.03320026397705, -13.033499717712402, -13.034000396728516, -13.034099578857422, -13.034099578857422, -13.034199714660645, -13.034199714660645, -0.13600000739097595, -4.22790002822876, -4.3850998878479, -5.007999897003174, -5.383999824523926, -5.86899995803833, -6.23859977722168, -6.350299835205078, -12.980600357055664, -12.980899810791016, -12.980999946594238, -12.98069953918457, -12.980899810791016, -12.980899810791016, -12.980899810791016, -12.980999946594238, -12.980799674987793, -12.981100082397461, -12.980799674987793, -12.980999946594238, -12.981100082397461, -12.980999946594238, -12.980899810791016, -12.981200218200684, -12.981100082397461, -12.981100082397461, -12.981100082397461, -12.981100082397461, -12.981100082397461, -12.980999946594238, -12.98069953918457, -12.980999946594238, -12.980999946594238, -12.98069953918457, -12.980899810791016, -12.979599952697754, -12.980600357055664, -12.980500221252441, -12.980999946594238, -12.980500221252441, -12.98069953918457, -12.980500221252441, -12.980899810791016, -12.980799674987793, -12.980899810791016, -12.980899810791016, -10.887800216674805, -12.976499557495117, -12.977999687194824, -12.979000091552734, -12.979700088500977, -12.9798002243042, -12.980299949645996, -12.980500221252441, -12.980500221252441, -12.980500221252441, -12.980600357055664, -12.980600357055664, -12.98069953918457, -0.6934000253677368, -1.5968999862670898, -2.264400005340576, -3.351799964904785, -3.963399887084961, -4.230400085449219, -4.803199768066406, -5.029799938201904, -5.512700080871582, -6.092100143432617, -6.742199897766113, -12.755800247192383, -12.755999565124512, -12.75629997253418, -12.756500244140625, -12.756600379943848, -12.756699562072754, -12.756699562072754, -12.756799697875977, -12.756500244140625, -12.756600379943848, -12.756699562072754, -12.756600379943848, -12.756799697875977, -12.756699562072754, -12.756699562072754, -12.756500244140625, -12.756600379943848, -12.756699562072754, -12.756699562072754, -12.756400108337402, -12.75529956817627, -12.756400108337402, -12.75629997253418, -12.756600379943848, -12.756600379943848, -12.756199836730957, -12.756600379943848, -12.756400108337402, -12.756600379943848, -12.756500244140625, -12.756600379943848, -12.756600379943848, -12.752900123596191, -12.753600120544434, -12.753899574279785, -12.753999710083008, -12.75529956817627, -12.755800247192383, -12.755999565124512, -12.756099700927734, -12.756099700927734, -12.75629997253418, -12.75629997253418, -12.756400108337402, -0.8873999714851379, -2.196199893951416, -2.2118000984191895, -2.690500020980835, -2.6942999362945557, -2.697499990463257, -3.8666999340057373, -4.041299819946289, -4.583899974822998, -7.626999855041504, -12.640600204467773, -12.639800071716309, -12.641300201416016, -12.641400337219238, -12.641400337219238, -12.641300201416016, -12.641400337219238, -12.64109992980957, -12.641400337219238, -12.641400337219238, -12.641400337219238, -12.641200065612793, -12.641500473022461, -12.641400337219238, -12.641400337219238, -12.641400337219238, -12.641500473022461, -12.64109992980957, -12.641500473022461, -12.641500473022461, -12.641300201416016, -12.641400337219238, -12.641400337219238, -12.641200065612793, -12.641200065612793, -12.640899658203125, -12.640999794006348, -12.64109992980957, -12.641400337219238, -12.641300201416016, -12.640899658203125, -12.641200065612793, -12.641300201416016, -12.641300201416016, -12.641200065612793, -12.641300201416016, -12.641300201416016, -12.637499809265137, -12.637700080871582, -12.639100074768066, -12.639699935913086, -12.640199661254883, -12.64050006866455, -12.640600204467773, -12.640700340270996, -12.640800476074219, -12.640800476074219, -12.640899658203125, -12.640999794006348, -1.360200047492981, -0.7501000165939331, -2.816499948501587, -3.031399965286255, -4.438700199127197, -4.502299785614014, -4.508299827575684, -7.170400142669678, -7.581900119781494, -8.07610034942627, -12.08430004119873, -12.54170036315918, -12.541899681091309, -12.5423002243042, -12.542499542236328, -12.542499542236328, -12.54259967803955, -12.542499542236328, -12.542699813842773, -12.542699813842773, -12.54259967803955, -12.542499542236328, -12.54259967803955, -12.542699813842773, -12.542799949645996, -12.542799949645996, -12.542699813842773, -12.542699813842773, -12.542799949645996, -12.542699813842773, -12.54259967803955, -12.54259967803955, -12.542499542236328, -12.542499542236328, -12.541299819946289, -12.54259967803955, -12.5423002243042, -12.542400360107422, -12.542400360107422, -12.5423002243042, -12.542099952697754, -12.542499542236328, -12.542400360107422, -12.542499542236328, -12.542499542236328, -12.542499542236328, -12.539199829101562, -12.539400100708008, -12.53969955444336, -12.540599822998047, -12.540900230407715, -12.541099548339844, -12.541799545288086, -12.541799545288086, -12.541999816894531, -12.542099952697754, -12.5423002243042, -12.542400360107422, -0.32989999651908875, -2.3619000911712646, -3.7679998874664307, -4.1803998947143555, -4.532599925994873, -6.394999980926514, -7.270199775695801, -7.622499942779541, -12.48639965057373, -12.487000465393066, -12.486900329589844, -12.487199783325195, -12.487199783325195, -12.487299919128418, -12.487299919128418, -12.486900329589844, -12.487299919128418, -12.487299919128418, -12.487299919128418, -12.487199783325195, -12.487299919128418, -12.48740005493164, -12.487299919128418, -12.48740005493164, -12.487099647521973, -12.487299919128418, -12.487199783325195, -12.487299919128418, -12.48740005493164, -12.487299919128418, -12.48740005493164, -12.486700057983398, -12.485799789428711, -12.486700057983398, -12.487000465393066, -12.487199783325195, -12.487099647521973, -12.487199783325195, -12.487199783325195, -12.487000465393066, -12.487000465393066, -12.487199783325195, -12.487199783325195, -12.487199783325195, -12.487199783325195, -12.487199783325195, -12.482999801635742, -12.48330020904541, -12.484399795532227, -12.484600067138672, -12.486200332641602, -12.486599922180176, -12.486599922180176, -12.486700057983398, -12.486800193786621, -12.486900329589844, -12.486900329589844, -12.486900329589844, -1.2197999954223633, -1.7872999906539917, -2.128200054168701, -2.2662999629974365, -2.8945000171661377, -3.0346999168395996, -3.1533000469207764, -4.453800201416016, -4.462800025939941, -4.946800231933594, -5.6407999992370605, -6.019800186157227, -7.138700008392334, -10.42020034790039, -12.513500213623047, -12.513099670410156, -12.513400077819824, -12.513400077819824, -12.513799667358398, -12.513699531555176, -12.513500213623047, -12.513799667358398, -12.513699531555176, -12.512299537658691, -12.513699531555176, -12.513799667358398, -12.513799667358398, -12.513500213623047, -12.513899803161621, -12.513899803161621, -12.51360034942627, -12.513099670410156, -12.513699531555176, -12.513699531555176, -12.513500213623047, -12.51360034942627, -12.513400077819824, -12.513699531555176, -9.261899948120117, -10.420700073242188, -12.513699531555176, -12.513699531555176, -12.509099960327148, -12.509699821472168, -12.512299537658691, -12.51259994506836, -12.513099670410156, -12.513299942016602, -12.513299942016602, -12.513400077819824, -12.513400077819824, -0.5364000201225281, -2.102299928665161, -2.3675999641418457, -3.407399892807007, -3.936300039291382, -5.082600116729736, -5.27269983291626, -5.615300178527832, -10.417200088500977, -12.510499954223633, -12.510899543762207, -12.510600090026855, -12.510899543762207, -12.510899543762207, -12.510899543762207, -12.510700225830078, -12.510899543762207, -12.51099967956543, -12.51099967956543, -12.51099967956543, -12.510899543762207, -12.51099967956543, -12.51099967956543, -12.5108003616333, -12.510899543762207, -12.51099967956543, -12.51099967956543, -12.51099967956543, -12.51099967956543, -12.511099815368652, -12.511099815368652, -12.510899543762207, -12.51039981842041, -12.5108003616333, -12.510299682617188, -12.509599685668945, -12.510899543762207, -12.510899543762207, -12.5108003616333, -12.5108003616333, -12.5108003616333, -12.510600090026855, -12.510899543762207, -12.5108003616333, -12.510899543762207, -12.510899543762207, -12.510899543762207, -12.506400108337402, -12.507800102233887, -12.508299827575684, -12.50879955291748, -12.509499549865723, -12.509599685668945, -12.510199546813965, -12.510299682617188, -12.510299682617188, -12.51039981842041, -12.510499954223633, -12.510600090026855, -12.510700225830078, -12.5108003616333, -1.2280000448226929, -1.6203999519348145, -1.9866000413894653, -2.83240008354187, -2.9149999618530273, -3.783600091934204, -4.151400089263916, -4.347899913787842, -4.692500114440918, -4.88700008392334, -6.116499900817871, -6.246200084686279, -9.228799819946289, -12.161199569702148, -12.161600112915039, -12.161499977111816, -12.161600112915039, -12.161600112915039, -12.161600112915039, -12.161600112915039, -12.161800384521484, -12.161800384521484, -12.161499977111816, -12.161800384521484, -12.161800384521484, -12.161700248718262, -12.161800384521484, -12.161800384521484, -12.161800384521484, -12.161700248718262, -12.161700248718262, -12.161100387573242, -12.161700248718262, -12.161499977111816, -12.161600112915039, -12.160400390625, -12.161100387573242, -12.161199569702148, -12.161600112915039, -12.161600112915039, -12.161399841308594, -12.161499977111816, -12.161499977111816, -12.161499977111816, -9.229299545288086, -12.157899856567383, -12.15839958190918, -12.159199714660645, -12.159500122070312, -12.160499572753906, -12.160599708557129, -12.160699844360352, -12.160799980163574, -12.16100025177002, -12.161299705505371, -12.161299705505371, -0.9453999996185303, -1.3655999898910522, -1.9646999835968018, -3.5367000102996826, -5.592700004577637, -7.178800106048584, -12.18280029296875, -12.184200286865234, -12.184100151062012, -12.184300422668457, -12.184000015258789, -12.184399604797363, -12.184499740600586, -12.184499740600586, -12.184200286865234, -12.184399604797363, -12.184200286865234, -12.183699607849121, -12.184399604797363, -12.184399604797363, -12.184599876403809, -12.184599876403809, -12.184399604797363, -12.184599876403809, -12.184399604797363, -12.184599876403809, -12.184499740600586, -12.184499740600586, -12.184599876403809, -12.184599876403809, -12.184399604797363, -12.184200286865234, -12.184399604797363, -12.184300422668457, -12.184399604797363, -12.183899879455566, -12.184399604797363, -12.184200286865234, -12.184100151062012, -12.184000015258789, -12.184300422668457, -12.184200286865234, -12.184399604797363, -12.184300422668457, -12.184300422668457, -12.184399604797363, -12.17959976196289, -12.181599617004395, -12.182499885559082, -12.182499885559082, -12.182600021362305, -12.182999610900879, -12.183600425720215, -12.183699607849121, -12.183899879455566, -12.183899879455566, -12.184000015258789, -12.184200286865234, -12.184200286865234, -0.7857999801635742, -2.065700054168701, -2.4433999061584473, -2.7172999382019043, -3.106600046157837, -4.574900150299072, -5.349699974060059, -5.415599822998047, -5.929999828338623, -12.103699684143066, -12.103400230407715, -12.103599548339844, -12.104100227355957, -12.103799819946289, -12.103899955749512, -12.104000091552734, -12.10420036315918, -12.103899955749512, -12.103899955749512, -12.10420036315918, -12.104299545288086, -12.104000091552734, -12.10420036315918, -12.104100227355957, -12.103899955749512, -12.10420036315918, -12.104000091552734, -12.10420036315918, -12.104299545288086, -12.104299545288086, -12.103500366210938, -12.104100227355957, -12.103899955749512, -12.104100227355957, -12.104100227355957, -12.104000091552734, -12.103899955749512, -12.103099822998047, -12.104000091552734, -12.103799819946289, -12.104100227355957, -12.100000381469727, -12.100199699401855, -12.101699829101562, -12.101900100708008, -12.10260009765625, -12.102899551391602, -12.10319995880127, -12.103300094604492, -12.103500366210938, -12.103500366210938, -12.103599548339844, -12.103799819946289, -1.2562999725341797, -1.493299961090088, -2.4577999114990234, -2.6006999015808105, -3.062999963760376, -3.649199962615967, -4.472499847412109, -6.269800186157227, -11.889699935913086, -11.890199661254883, -11.89050006866455, -11.890399932861328, -11.890199661254883, -11.89009952545166, -11.89050006866455, -11.89050006866455, -11.890600204467773, -11.890299797058105, -11.890700340270996, -11.890700340270996, -11.890700340270996, -11.890600204467773, -11.890600204467773, -11.890700340270996, -11.890600204467773, -11.890600204467773, -11.890700340270996, -11.890700340270996, -11.890700340270996, -11.890399932861328, -11.890600204467773, -11.890299797058105, -11.89050006866455, -11.89009952545166, -11.889300346374512, -11.89050006866455, -11.890600204467773, -11.890199661254883, -11.890399932861328, -11.89050006866455, -11.89050006866455, -11.89050006866455, -11.89050006866455, -11.89050006866455, -11.887100219726562, -11.888199806213379, -11.888500213623047, -11.888699531555176, -11.888799667358398, -11.88949966430664, -11.889699935913086, -11.889800071716309, -11.890000343322754, -11.89009952545166, -11.890199661254883, -11.890199661254883, -11.890299797058105, -1.0549999475479126, -1.7379000186920166, -2.427000045776367, -2.719099998474121, -2.9130001068115234, -4.0883002281188965, -11.127599716186523, -11.866900444030762, -11.867300033569336, -11.867300033569336, -11.867300033569336, -11.867400169372559, -11.86769962310791, -11.86769962310791, -11.86769962310791, -11.86769962310791, -11.867799758911133, -11.867799758911133, -11.86769962310791, -11.867300033569336, -11.86769962310791, -11.867799758911133, -11.86769962310791, -11.86769962310791, -11.86769962310791, -11.86769962310791, -11.867400169372559, -11.86769962310791, -11.86769962310791, -11.86769962310791, -11.867400169372559, -11.867600440979004, -11.866299629211426, -11.867500305175781, -11.867600440979004, -11.867199897766113, -11.867600440979004, -11.867600440979004, -11.86769962310791, -11.867600440979004, -11.867400169372559, -11.867600440979004, -11.867600440979004, -11.867600440979004, -11.867400169372559, -8.936599731445312, -11.867600440979004, -11.863800048828125, -11.865300178527832, -11.865400314331055, -11.865599632263184, -11.866399765014648, -11.866600036621094, -11.866800308227539, -11.867199897766113, -11.867300033569336, -11.867300033569336, -11.867400169372559, -11.867400169372559, -11.867400169372559, -1.3652000427246094, -1.9083000421524048, -1.940999984741211, -2.5416998863220215, -3.1909000873565674, -3.290299892425537, -3.384999990463257, -4.894800186157227, -5.079699993133545, -6.761600017547607, -11.881199836730957, -11.88129997253418, -11.881799697875977, -11.881999969482422, -11.881699562072754, -11.882100105285645, -11.881999969482422, -11.881999969482422, -11.881999969482422, -11.881999969482422, -11.881799697875977, -11.881999969482422, -11.881999969482422, -11.882100105285645, -11.882100105285645, -11.881999969482422, -11.881999969482422, -11.881999969482422, -11.882100105285645, -11.882100105285645, -11.881600379943848, -11.881999969482422, -11.881699562072754, -11.8818998336792, -11.8818998336792, -11.88070011138916, -11.881799697875977, -11.881400108337402, -11.881799697875977, -11.881799697875977, -11.8818998336792, -11.881799697875977, -11.881799697875977, -11.881799697875977, -11.881799697875977, -11.8818998336792, -11.8818998336792, -9.721500396728516, -11.878899574279785, -11.879199981689453, -11.88010025024414, -11.880399703979492, -11.880499839782715, -11.880999565124512, -11.881099700927734, -11.881099700927734, -11.881500244140625, -11.881600379943848, -11.881600379943848, -11.881600379943848, -0.7400000095367432, -1.8765000104904175, -3.1693999767303467, -3.3517000675201416, -4.184000015258789, -5.699100017547607, -6.611400127410889, -11.780599594116211, -11.781700134277344, -11.781999588012695, -11.782099723815918, -11.781499862670898, -11.78219985961914, -11.782099723815918, -11.782099723815918, -11.782299995422363, -11.78219985961914, -11.78219985961914, -11.781599998474121, -11.782299995422363, -11.78219985961914, -11.782299995422363, -11.78219985961914, -11.782299995422363, -11.782299995422363, -11.782400131225586, -11.782299995422363, -11.782400131225586, -11.782299995422363, -11.782299995422363, -11.78219985961914, -11.782099723815918, -11.781999588012695, -11.781999588012695, -11.781999588012695, -11.78219985961914, -11.781900405883789, -11.781999588012695, -11.782099723815918, -11.781800270080566, -11.782099723815918, -11.782099723815918, -11.78219985961914, -11.782099723815918, -11.779199600219727, -11.77929973602295, -11.77929973602295, -11.779600143432617, -11.781000137329102, -11.781000137329102, -11.781200408935547, -11.781599998474121, -11.781700134277344, -11.781700134277344, -11.781800270080566, -11.781800270080566, -11.781999588012695, -11.781999588012695, -1.0841000080108643, -1.8136999607086182, -2.9472999572753906, -2.972100019454956, -3.7046000957489014, -4.058199882507324, -4.822299957275391, -8.106900215148926, -9.453900337219238, -11.547300338745117, -11.547599792480469, -11.547599792480469, -11.547699928283691, -11.547300338745117, -11.548100471496582, -11.54800033569336, -11.54800033569336, -11.547900199890137, -11.547900199890137, -11.54800033569336, -11.547800064086914, -11.547800064086914, -11.54800033569336, -11.548100471496582, -11.54800033569336, -11.548100471496582, -11.548100471496582, -11.54800033569336, -11.548100471496582, -11.548100471496582, -11.547900199890137, -11.54800033569336, -11.547900199890137, -11.547800064086914, -11.54800033569336, -11.547699928283691, -11.547900199890137, -11.547599792480469, -11.546899795532227, -11.547699928283691, -11.547800064086914, -11.547900199890137, -11.547900199890137, -11.543299674987793, -11.544400215148926, -11.546199798583984, -11.546199798583984, -11.54699993133545, -11.547100067138672, -11.547300338745117, -11.54740047454834, -11.547499656677246, -11.547599792480469, -11.547599792480469, -11.547699928283691, -1.0026999711990356, -2.127000093460083, -2.2430999279022217, -3.547800064086914, -3.7246999740600586, -4.404099941253662, -4.8983001708984375, -11.575400352478027, -11.576000213623047, -11.575900077819824, -11.576000213623047, -11.576199531555176, -11.574600219726562, -11.576199531555176, -11.576299667358398, -11.576199531555176, -11.57610034942627, -11.576000213623047, -11.576299667358398, -11.57610034942627, -11.576199531555176, -11.576199531555176, -11.576299667358398, -11.57610034942627, -11.576199531555176, -11.576299667358398, -11.576299667358398, -11.57610034942627, -11.576199531555176, -11.576299667358398, -11.576199531555176, -11.576000213623047, -11.575900077819824, -11.576000213623047, -11.575599670410156, -11.57610034942627, -11.576199531555176, -11.575900077819824, -11.575799942016602, -11.57610034942627, -11.576000213623047, -11.576000213623047, -11.576199531555176, -11.576199531555176, -11.570799827575684, -11.572400093078613, -11.574000358581543, -11.574000358581543, -11.57450008392334, -11.574899673461914, -11.57509994506836, -11.575499534606934, -11.575699806213379, -11.575799942016602, -11.575799942016602, -11.575900077819824, -11.575900077819824, -11.576000213623047, -1.0, -1.9254000186920166, -2.7953999042510986, -3.8310000896453857, -4.440199851989746, -6.308199882507324, -6.666999816894531, -9.33530044555664, -11.426600456237793, -11.428000450134277, -11.427800178527832, -11.428199768066406, -11.428299903869629, -11.428199768066406, -11.428400039672852, -11.428600311279297, -11.428600311279297, -11.428500175476074, -11.428299903869629, -11.428500175476074, -11.428400039672852, -11.428500175476074, -11.428500175476074, -11.428500175476074, -11.428600311279297, -11.428199768066406, -11.428500175476074, -11.428500175476074, -11.428600311279297, -11.428600311279297, -11.428600311279297, -11.427900314331055, -11.428299903869629, -11.428099632263184, -11.428400039672852, -11.428400039672852, -11.428299903869629, -11.428299903869629, -11.428400039672852, -11.428500175476074, -11.428000450134277, -11.428199768066406, -11.428400039672852, -11.428400039672852, -11.423999786376953, -11.424200057983398, -11.42650032043457, -11.42650032043457, -11.427000045776367, -11.427000045776367, -11.42770004272461, -11.427900314331055, -11.427900314331055, -11.428000450134277, -11.428099632263184, -11.428099632263184, -1.920699954032898, -2.1089000701904297, -2.359600067138672, -2.4939000606536865, -2.946700096130371, -4.026500225067139, -4.992300033569336, -5.086299896240234, -6.993000030517578, -11.234600067138672, -11.236100196838379, -11.236100196838379, -11.236200332641602, -11.236200332641602, -11.236000061035156, -11.23639965057373, -11.23639965057373, -11.236300468444824, -11.236300468444824, -11.23639965057373, -11.23639965057373, -11.23639965057373, -11.236499786376953, -11.23639965057373, -11.23639965057373, -11.23639965057373, -11.236499786376953, -11.23639965057373, -11.236499786376953, -11.236499786376953, -11.236000061035156, -11.236200332641602, -11.236200332641602, -11.235899925231934, -11.235799789428711, -11.236100196838379, -11.236100196838379, -11.235799789428711, -11.236100196838379, -11.235699653625488, -11.236300468444824, -11.236100196838379, -11.236300468444824, -11.236300468444824, -11.232799530029297, -11.233400344848633, -11.234000205993652, -11.234000205993652, -11.23490047454834, -11.23490047454834, -11.235300064086914, -11.235699653625488, -11.235699653625488, -11.235699653625488, -11.235799789428711, -11.235899925231934, -11.236000061035156], \"loglift\": [30.0, 29.0, 28.0, 27.0, 26.0, 25.0, 24.0, 23.0, 22.0, 21.0, 20.0, 19.0, 18.0, 17.0, 16.0, 15.0, 14.0, 13.0, 12.0, 11.0, 10.0, 9.0, 8.0, 7.0, 6.0, 5.0, 4.0, 3.0, 2.0, 1.0, 2.7836, 2.7832, 2.7818, 2.7793, 2.7779, 2.7724, 2.1959, 0.7387, 0.7386, -0.9786, -1.235, -1.235, -1.2351, -1.2351, -1.2351, -1.2351, -1.2351, -1.2351, -1.2351, -1.2351, -1.2351, -1.2351, -1.2351, -1.2351, -1.2351, -1.2351, -1.2351, -1.2351, -1.2351, -1.2351, -1.2352, -1.2352, -1.2353, -1.2352, -1.2352, -1.2352, -1.2352, -1.2352, -1.2352, -1.2352, -1.2352, -1.2352, -1.2352, -1.2353, -1.2353, -9.036, -10.3215, -8.4653, -10.0343, -9.7172, -9.8217, -9.017, -9.7784, -9.493, -9.6272, -9.2366, 2.8679, 2.8677, 2.8667, 2.8663, 2.8646, 2.8644, 2.8543, 2.8534, 2.8031, 2.8012, 2.7508, 2.1304, -0.9243, -0.9243, -0.9243, -0.9243, -0.9244, -0.9244, -0.9244, -0.9244, -0.9244, -0.9244, -0.9244, -0.9244, -0.9244, -0.9244, -0.9244, -0.9244, -0.9244, -0.9244, -0.9244, -0.9244, -0.9244, -0.9244, -0.9245, -0.9245, -0.9245, -0.9245, -0.9245, -0.9245, -0.9246, -0.9245, -0.9245, -9.8383, -10.0107, -8.1536, -9.7235, -9.4065, -9.3158, -8.5838, -9.1821, -9.215, -9.5111, -8.7063, 2.8847, 2.8783, 2.8772, 2.8706, 2.8641, 2.8514, 2.8368, 2.8313, -0.8706, -0.8707, -0.8707, -0.8707, -0.8707, -0.8707, -0.8707, -0.8707, -0.8707, -0.8707, -0.8707, -0.8707, -0.8707, -0.8707, -0.8707, -0.8707, -0.8707, -0.8707, -0.8707, -0.8707, -0.8707, -0.8707, -0.8707, -0.8707, -0.8707, -0.8707, -0.8707, -0.8708, -0.8708, -0.8708, -0.8707, -0.8708, -0.8708, -0.8709, -0.8708, -0.8708, -0.8708, -0.8708, -3.4171, -8.6713, -9.7851, -8.1006, -9.67, -9.3531, -9.4138, -8.5302, -9.1285, -9.2627, -9.1615, -8.6527, -9.1804, 2.9333, 2.933, 2.9325, 2.9306, 2.9282, 2.9266, 2.9213, 2.9183, 2.9089, 2.89, 2.8518, -0.6462, -0.6464, -0.6464, -0.6464, -0.6464, -0.6464, -0.6464, -0.6464, -0.6464, -0.6464, -0.6464, -0.6464, -0.6464, -0.6464, -0.6464, -0.6464, -0.6464, -0.6464, -0.6464, -0.6464, -0.6465, -0.6464, -0.6465, -0.6464, -0.6464, -0.6465, -0.6464, -0.6465, -0.6465, -0.6466, -0.6465, -0.6465, -9.56, -9.7329, -7.8756, -8.4488, -9.4457, -9.1892, -8.9369, -9.0383, -9.233, -8.306, -8.6477, -8.4284, 2.9646, 2.9639, 2.9639, 2.9633, 2.9633, 2.9633, 2.9599, 2.959, 2.9548, 2.7723, -0.531, -0.5311, -0.5311, -0.5311, -0.5311, -0.5311, -0.5311, -0.5311, -0.5311, -0.5311, -0.5311, -0.5311, -0.5311, -0.5311, -0.5311, -0.5311, -0.5311, -0.5311, -0.5311, -0.5311, -0.5311, -0.5311, -0.5311, -0.5311, -0.5311, -0.5312, -0.5312, -0.5312, -0.5311, -0.5311, -0.5313, -0.5312, -0.5312, -0.5312, -0.5312, -0.5312, -0.5312, -8.3323, -9.4449, -9.6184, -7.7613, -9.0135, -9.3309, -8.9228, -9.0741, -9.1177, -8.1906, -8.8218, -8.313, 2.9677, 2.9677, 2.9664, 2.966, 2.9594, 2.9588, 2.9588, 2.8419, 2.7833, 2.6808, 0.007, -0.4321, -0.4322, -0.4323, -0.4323, -0.4323, -0.4323, -0.4323, -0.4323, -0.4323, -0.4323, -0.4323, -0.4323, -0.4323, -0.4323, -0.4323, -0.4323, -0.4323, -0.4323, -0.4324, -0.4324, -0.4324, -0.4324, -0.4324, -0.4325, -0.4324, -0.4324, -0.4324, -0.4324, -0.4325, -0.4326, -0.4324, -0.4325, -0.4324, -0.4325, -0.4325, -8.234, -9.3466, -9.519, -7.6622, -9.2313, -8.9144, -8.9752, -9.0187, -8.0917, -8.723, -8.6904, -8.3429, 2.9797, 2.9788, 2.9753, 2.973, 2.9702, 2.9191, 2.8399, 2.7863, -0.3769, -0.3769, -0.3769, -0.377, -0.377, -0.377, -0.377, -0.377, -0.377, -0.377, -0.377, -0.377, -0.377, -0.377, -0.377, -0.377, -0.377, -0.377, -0.377, -0.377, -0.377, -0.377, -0.377, -0.377, -0.3771, -0.377, -0.377, -0.377, -0.377, -0.377, -0.377, -0.3771, -0.3771, -0.377, -0.3771, -0.377, -0.3771, -0.3772, -8.1778, -9.2905, -9.4637, -7.6062, -8.8595, -8.7688, -8.9201, -8.0364, -8.6349, -8.9638, -8.159, -8.6678, 2.9797, 2.9794, 2.9792, 2.979, 2.9782, 2.9779, 2.9776, 2.9711, 2.971, 2.9654, 2.951, 2.9379, 2.8562, 1.4741, -0.4034, -0.4034, -0.4034, -0.4035, -0.4035, -0.4035, -0.4035, -0.4035, -0.4035, -0.4035, -0.4035, -0.4035, -0.4035, -0.4035, -0.4035, -0.4035, -0.4035, -0.4036, -0.4035, -0.4035, -0.4036, -0.4036, -0.4037, -0.4036, -4.3835, -7.4, -0.4036, -0.4037, -8.204, -9.3168, -8.8856, -9.203, -8.9466, -8.063, -8.9902, -8.1854, -8.7956, 2.9867, 2.986, 2.9858, 2.9837, 2.9815, 2.97, 2.9665, 2.9584, 1.4778, -0.4006, -0.4006, -0.4006, -0.4007, -0.4007, -0.4007, -0.4007, -0.4007, -0.4007, -0.4007, -0.4007, -0.4007, -0.4007, -0.4007, -0.4007, -0.4007, -0.4007, -0.4007, -0.4007, -0.4007, -0.4007, -0.4007, -0.4007, -0.4007, -0.4007, -0.4008, -0.4009, -0.4007, -0.4007, -0.4008, -0.4007, -0.4008, -0.4009, -0.4007, -0.4009, -0.4007, -0.4009, -0.4008, -8.2012, -9.3149, -7.6299, -9.4881, -8.8828, -9.2, -8.9436, -8.7925, -8.06, -8.6585, -8.6914, -8.1827, -8.7105, -7.744, 3.023, 3.0228, 3.0225, 3.0215, 3.0213, 3.0186, 3.0165, 3.015, 3.0116, 3.0091, 2.9756, 2.9692, 2.2819, -0.0513, -0.0513, -0.0513, -0.0514, -0.0514, -0.0514, -0.0514, -0.0514, -0.0514, -0.0514, -0.0514, -0.0514, -0.0514, -0.0514, -0.0514, -0.0514, -0.0514, -0.0514, -0.0514, -0.0514, -0.0515, -0.0514, -0.0516, -0.0516, -0.0516, -0.0515, -0.0515, -0.0516, -0.0515, -0.0515, -0.0515, -5.429, -7.8527, -8.9656, -9.1385, -7.2811, -8.8508, -8.5338, -8.443, -8.5942, -7.7108, -8.3422, -8.3094, 3.0246, 3.0244, 3.0241, 3.0212, 2.9962, 2.8922, -0.074, -0.0741, -0.0741, -0.0741, -0.0741, -0.0741, -0.0741, -0.0741, -0.0741, -0.0741, -0.0741, -0.0741, -0.0741, -0.0741, -0.0741, -0.0741, -0.0741, -0.0741, -0.0741, -0.0741, -0.0741, -0.0742, -0.0742, -0.0742, -0.0742, -0.0742, -0.0742, -0.0742, -0.0742, -0.0742, -0.0742, -0.0742, -0.0742, -0.0743, -0.0742, -0.0743, -0.0742, -0.0743, -0.0743, -0.0742, -7.8745, -8.9887, -7.3041, -8.8729, -9.1619, -8.5563, -8.6171, -8.466, -8.6608, -7.7336, -8.3321, -8.3651, -7.8563, 3.0333, 3.0327, 3.0323, 3.0319, 3.0311, 3.023, 3.0109, 3.0094, 2.9935, 0.0063, 0.0062, 0.0062, 0.0062, 0.0061, 0.0061, 0.0061, 0.0061, 0.0061, 0.0061, 0.0061, 0.0061, 0.0061, 0.0061, 0.0061, 0.0061, 0.0061, 0.0061, 0.0061, 0.0061, 0.0061, 0.0061, 0.0061, 0.0061, 0.0061, 0.0061, 0.0061, 0.006, 0.0057, 0.0061, 0.0059, 0.0061, -7.7949, -8.9074, -9.081, -7.2236, -8.793, -8.4762, -8.5367, -8.3855, -7.6532, -8.5804, -8.2516, -7.7759, 3.0535, 3.0534, 3.0526, 3.0524, 3.0515, 3.0497, 3.0443, 2.9975, 0.2199, 0.2198, 0.2198, 0.2198, 0.2197, 0.2197, 0.2197, 0.2197, 0.2197, 0.2197, 0.2197, 0.2197, 0.2197, 0.2197, 0.2197, 0.2197, 0.2197, 0.2197, 0.2197, 0.2197, 0.2197, 0.2197, 0.2197, 0.2196, 0.2197, 0.2196, 0.2194, 0.2197, 0.2197, 0.2195, 0.2196, 0.2196, 0.2196, 0.2196, 0.2196, 0.2195, -7.582, -8.6954, -8.8678, -7.0103, -8.5792, -8.2628, -8.3231, -8.172, -7.4397, -8.367, -8.0711, -8.0383, -7.5624, 3.0537, 3.0533, 3.0527, 3.0523, 3.052, 3.0475, 0.9191, 0.2427, 0.2427, 0.2427, 0.2426, 0.2426, 0.2426, 0.2426, 0.2426, 0.2426, 0.2426, 0.2426, 0.2426, 0.2426, 0.2426, 0.2426, 0.2426, 0.2426, 0.2426, 0.2426, 0.2426, 0.2426, 0.2426, 0.2426, 0.2426, 0.2426, 0.2425, 0.2426, 0.2426, 0.2425, 0.2426, 0.2426, 0.2426, 0.2426, 0.2425, 0.2425, 0.2426, 0.2425, 0.2423, -5.2188, 0.2425, -8.6709, -7.5601, -6.9871, -8.8449, -8.2397, -8.557, -8.3002, -8.0481, -8.0153, -7.4171, -7.5395, -7.1007, -8.0672, 3.0542, 3.0539, 3.0539, 3.0533, 3.052, 3.0517, 3.0514, 3.0401, 3.0372, 2.964, 0.2285, 0.2284, 0.2283, 0.2283, 0.2283, 0.2283, 0.2283, 0.2283, 0.2283, 0.2283, 0.2283, 0.2283, 0.2283, 0.2283, 0.2283, 0.2283, 0.2283, 0.2283, 0.2283, 0.2283, 0.2283, 0.2283, 0.2283, 0.2283, 0.2283, 0.2281, 0.2283, 0.2282, 0.2283, 0.2283, 0.2283, 0.2282, 0.2282, 0.2281, 0.2282, 0.2282, 0.2283, -4.8432, -7.5737, -8.6863, -8.8594, -8.2537, -8.5708, -8.3145, -7.4308, -8.1633, -8.3584, -8.0296, -7.1149, -8.0625, 3.0603, 3.06, 3.0581, 3.0576, 3.0535, 3.0284, 2.9822, 0.3282, 0.3281, 0.3281, 0.3281, 0.3281, 0.3281, 0.3281, 0.3281, 0.3281, 0.3281, 0.3281, 0.3281, 0.3281, 0.3281, 0.3281, 0.3281, 0.328, 0.328, 0.328, 0.328, 0.328, 0.328, 0.328, 0.328, 0.328, 0.328, 0.328, 0.328, 0.328, 0.328, 0.328, 0.328, 0.3279, 0.328, 0.328, 0.328, 0.3278, -8.5864, -8.7586, -6.9009, -7.4745, -8.1542, -8.4714, -8.2147, -8.0638, -8.2586, -7.3315, -7.4539, -7.9627, -6.5851, -7.6734, 3.066, 3.0647, 3.0642, 3.0642, 3.0619, 3.06, 3.0529, 2.759, 2.1979, 0.5624, 0.5624, 0.5623, 0.5623, 0.5623, 0.5623, 0.5623, 0.5623, 0.5623, 0.5623, 0.5623, 0.5623, 0.5623, 0.5623, 0.5623, 0.5623, 0.5623, 0.5623, 0.5623, 0.5623, 0.5623, 0.5623, 0.5623, 0.5622, 0.5622, 0.5623, 0.5622, 0.5622, 0.5621, 0.5618, 0.5621, 0.5622, 0.5621, 0.5622, -7.2381, -8.3515, -8.5255, -8.2366, -7.9202, -7.8294, -7.9807, -7.7283, -7.0972, -7.2197, -8.0245, -7.6957, 3.0768, 3.0761, 3.076, 3.0732, 3.0725, 3.0665, 3.0624, 0.5342, 0.5341, 0.5341, 0.5341, 0.5341, 0.5341, 0.5341, 0.5341, 0.5341, 0.5341, 0.5341, 0.5341, 0.5341, 0.5341, 0.5341, 0.5341, 0.5341, 0.5341, 0.5341, 0.5341, 0.5341, 0.5341, 0.5341, 0.5341, 0.534, 0.534, 0.534, 0.5339, 0.534, 0.5341, 0.534, 0.5339, 0.534, 0.5339, 0.5339, 0.534, 0.5341, -7.2657, -8.3796, -8.5533, -6.6956, -8.2649, -7.9482, -8.0086, -7.8578, -7.1254, -7.7238, -7.2478, -7.7568, -7.046, -7.606, 3.0843, 3.0839, 3.0829, 3.0796, 3.0754, 3.0263, 3.0022, 2.2785, 0.6822, 0.6819, 0.6819, 0.6819, 0.6819, 0.6819, 0.6818, 0.6818, 0.6818, 0.6818, 0.6818, 0.6818, 0.6818, 0.6818, 0.6818, 0.6818, 0.6818, 0.6818, 0.6818, 0.6818, 0.6818, 0.6818, 0.6818, 0.6818, 0.6818, 0.6817, 0.6818, 0.6818, 0.6818, 0.6817, 0.6818, 0.6818, 0.6816, 0.6817, 0.6818, 0.6816, -7.1189, -8.2314, -8.4058, -6.5481, -8.1174, -7.8003, -7.71, -6.9776, -7.8614, -7.1001, -7.5761, -7.905, 3.0962, 3.0961, 3.0958, 3.0957, 3.0949, 3.0909, 3.0811, 3.0796, 2.9852, 0.8742, 0.874, 0.874, 0.874, 0.874, 0.874, 0.874, 0.874, 0.874, 0.874, 0.874, 0.8739, 0.8739, 0.8739, 0.8739, 0.8739, 0.8739, 0.8739, 0.8739, 0.8739, 0.8739, 0.8739, 0.8739, 0.8739, 0.8739, 0.8739, 0.8739, 0.8739, 0.8739, 0.8739, 0.8738, 0.8739, 0.8738, 0.8738, 0.8738, -8.04, -6.9282, -6.3556, -8.2133, -7.9253, -7.6082, -7.6688, -6.7854, -7.518, -7.4166, -6.9079, -7.3839, -7.7129]}, \"token.table\": {\"Topic\": [2, 20, 20, 3, 20, 6, 20, 10, 20, 20, 20, 20, 20, 12, 20, 8, 20, 8, 20, 20, 10, 20, 19, 20, 20, 20, 20, 4, 20, 8, 15, 17, 20, 3, 20, 9, 20, 20, 20, 5, 20, 20, 17, 20, 20, 20, 20, 10, 20, 20, 6, 20, 20, 20, 15, 20, 6, 14, 20, 20, 10, 20, 20, 20, 10, 20, 20, 20, 20, 20, 13, 20, 17, 20, 13, 20, 20, 13, 20, 20, 20, 11, 20, 20, 20, 6, 20, 10, 20, 4, 20, 19, 20, 13, 20, 20, 16, 20, 20, 20, 20, 10, 16, 20, 14, 20, 20, 20, 8, 20, 9, 20, 20, 7, 20, 20, 2, 20, 7, 20, 20, 20, 4, 20, 3, 20, 20, 7, 20, 2, 20, 20, 20, 17, 20, 20, 15, 20, 17, 20, 20, 6, 20, 20, 20, 20, 20, 2, 20, 20, 20, 20, 20, 20, 20, 12, 20, 17, 20, 20, 20, 18, 20, 19, 20, 10, 20, 15, 20, 20, 20, 20, 20, 20, 20, 1, 20, 20, 20, 2, 20, 1, 20, 4, 20, 3, 20, 11, 20, 20, 17, 20, 20, 2, 20, 20, 20, 20, 13, 20, 20, 16, 20, 11, 20, 20, 3, 8, 20, 20, 15, 20, 19, 20, 12, 20, 10, 20, 20, 8, 20, 18, 20, 20, 20, 8, 20, 8, 20, 17, 20, 20, 20, 20, 15, 20, 18, 20, 20, 20, 20, 20, 20, 20, 20, 20, 2, 20, 4, 20, 20, 9, 20, 13, 20, 20, 20, 20, 6, 20, 20, 17, 20, 20, 9, 20, 20, 20, 3, 20, 20, 20, 20, 20, 9, 20, 9, 20, 20, 20, 20, 1, 20, 20, 11, 20, 15, 20, 20, 5, 20, 8, 20, 20, 20, 20, 18, 20, 10, 20, 20, 20, 13, 20, 19, 20, 9, 20, 10, 20, 1, 20, 14, 20, 20, 20, 14, 20, 20, 12, 20, 11, 20, 13, 20, 6, 20, 12, 20, 20, 20, 4, 20, 20, 20, 9, 20, 20, 20, 3, 20, 10, 20, 20, 15, 20, 8, 20, 5, 20, 20, 1, 20, 3, 18, 20, 16, 20, 4, 20, 2, 20, 4, 20, 20, 20, 10, 20, 1, 20, 19, 20, 4, 20, 20, 8, 20, 12, 20, 19, 20, 20, 5, 20, 20, 8, 20, 20, 20, 2, 20, 12, 20, 4, 20, 5, 20, 20, 12, 20, 18, 20, 14, 20, 20, 7, 20, 6, 20, 20, 2, 20, 20, 20, 20, 10, 20, 20, 20, 7, 20, 14, 20, 20, 20, 7, 20, 14, 20, 20, 20, 20, 7, 20, 20, 5, 20, 20, 3, 20, 6, 20, 16, 20, 2, 20, 7, 20, 14, 20, 5, 20, 15, 20, 20, 20, 9, 20, 19, 20, 2, 20, 20, 1, 20, 15, 20, 5, 20, 8, 20, 5, 20, 20, 20, 20, 18, 20, 20, 20, 20, 20, 15, 20, 20, 20, 11, 20, 12, 20, 20, 8, 20, 1, 20, 1, 20, 8, 20, 16, 20, 5, 20, 8, 20, 20, 4, 20, 20, 16, 20, 6, 20, 20], \"Freq\": [0.9857264791711516, 0.0030237008563532256, 0.20155288559489357, 0.9495330382402712, 0.009689112635104809, 0.8901582509520796, 0.02472661808200221, 0.9996094267244412, 7.78148393838114e-05, 0.20153029370297465, 0.20152277166920368, 0.20154553528703978, 0.2015493970914836, 0.9757896488676878, 0.00505590491641289, 0.9996502685132994, 7.39112952690055e-05, 0.9990668599958278, 0.00021032986526227954, 0.20153254568116985, 0.9473149404010668, 0.011144881651777256, 0.9917913079344989, 0.002036532459824433, 0.20153429968661787, 0.20152750393626198, 0.20153800345475453, 0.9995118341941713, 0.00010285159849703348, 0.0005829148397214844, 0.0004371861297911133, 0.9983873917329724, 0.0001457287099303711, 0.992735934959531, 0.0015807897053495717, 0.998908203185407, 0.00023432047928346398, 0.20149041595505118, 0.20151863609207024, 0.9984299698353075, 0.0003164595783947092, 0.20137572631529843, 0.75485501810512, 0.05806577062347077, 0.2015117471913757, 0.20153166031835587, 0.201543173070054, 0.9948299742105331, 0.0009978234445441657, 0.2015202679784532, 0.7289492719930066, 0.05206780514235762, 0.2015431435568757, 0.20153997175344487, 0.9096646918875584, 0.01856458554872568, 0.9995301227473141, 0.0002739314272362803, 4.5655237872713384e-05, 0.20153994302705988, 0.9992169933627839, 0.0001660932502265266, 0.2015456834998306, 0.20154452690733274, 0.44258994559360815, 0.11064748639840204, 0.20153617456867187, 0.9986472147843979, 0.998818480270735, 0.20154562064012344, 0.9994690370737861, 0.0001045907322178512, 0.9977988667439135, 0.00046387673953691934, 0.9908600327613307, 0.0020388066517722857, 0.20154007348224806, 0.9985927124501486, 0.00031621048525970507, 0.20153426615918288, 0.20139966830389472, 0.9963847087190957, 0.0007814782029169379, 0.20150284387942557, 0.2015118844314745, 0.9995689998236071, 8.40397679353966e-05, 0.9557092942764943, 0.009852673136871076, 0.9775907204373795, 0.005039127424934946, 0.9992766871162341, 0.00016610317272543784, 0.9961717554624993, 0.0008998841512759705, 0.2004866129613287, 0.9273443393352045, 0.01626919893570534, 0.20149310695413375, 0.20154496748359188, 0.2015390050925041, 0.00019832683051016089, 0.9995672257712108, 4.958170762754022e-05, 0.9984171959205863, 0.0003559419593299773, 0.2015480362245893, 0.20152874199585089, 0.9737939833922648, 0.005974196217130459, 0.9783551271924376, 0.004198949043744367, 0.20151461974910267, 0.9912349371919659, 0.0020106185338579427, 0.20148636001960224, 0.9981910924535042, 0.00038186346306560986, 0.995307374364231, 0.0009407442101741314, 0.2015369256066918, 0.2015358004862323, 0.927582127916862, 0.016273370665208106, 0.9866270757466291, 0.0029276767826309467, 0.20154129132978782, 0.8086647240993239, 0.03675748745906018, 0.8901672453601938, 0.02282480116308189, 0.20154101834225846, 0.20153580117257924, 0.38221163669361824, 0.12740387889787275, 0.20152584984740562, 0.9993099930592358, 0.00016374078208409567, 0.9936035970444652, 0.0013685999959290153, 0.20154873739392942, 0.8446016750453474, 0.03519173646022281, 0.20154039052231038, 0.2015467971483893, 0.20150365683123134, 0.20155132633706188, 0.9984539732066882, 0.00029024824802520005, 0.20149241172909124, 0.20148695495616992, 0.20153546312605553, 0.20150284303602642, 0.20153677282485136, 0.2015374385903583, 0.9765867085855263, 0.004740712177599643, 0.9996795770739128, 7.034547724114509e-05, 0.20153621531650895, 0.20154289294717426, 0.9990720479635461, 0.0002264442538448654, 0.9997225263249326, 6.587089189727434e-05, 0.993904621343877, 0.001438356904983903, 0.9995659383867405, 9.20919419925134e-05, 0.20150903587256133, 0.20154787736613622, 0.20148588758691097, 0.20154511680865386, 0.20140147590466162, 0.20151297540307053, 0.995248517448232, 0.0009047713794983926, 0.20146808689409704, 0.20152450129461594, 0.9995652678749644, 8.214704699827124e-05, 0.9982934664574653, 0.0003792908307209215, 0.9998010741545418, 4.168269299401909e-05, 0.9481711339525211, 0.010774671976733194, 0.8653133084168178, 0.026221615406570236, 0.20151926750440255, 0.9861513254639988, 0.0029176074717869784, 0.2015453624553948, 0.9964552445773777, 0.0007670941066800443, 0.2015452286359337, 0.20145473640212397, 0.2015456406780253, 0.9977422870283335, 0.0005016301091142954, 0.20154506441810688, 0.9716019743140913, 0.006842267424747122, 0.9996080912755153, 8.942638139877576e-05, 0.20153420417023424, 0.9998565161617506, 2.2738481673832227e-05, 2.2738481673832227e-05, 0.2015243398523927, 0.9986286629969381, 0.0002983653011643078, 0.9981076804683163, 0.000396074476376316, 0.9571957719421645, 0.008323441495149256, 0.9980565290472341, 0.00038654396942185674, 0.9980504327735328, 0.162370565064438, 0.162370565064438, 0.9991418523658578, 0.0002016431589033013, 0.20154039809785232, 0.20154131965411387, 0.9908544819798285, 0.0018766183370830087, 0.9991087211781255, 0.00018322184507209345, 0.9978008675634384, 0.0004525174002555276, 0.2015336604229338, 0.20154598631548556, 0.2014455797275394, 0.9969080038277726, 0.0006297586884572157, 0.996507116090036, 0.0008325038563826532, 0.20149510530837178, 0.20153532830397933, 0.20153175914417656, 0.20121282324208284, 0.20154323301584073, 0.20153772701959421, 0.20152695740452636, 0.20151700957019122, 0.9963010546633594, 0.0007224808228160691, 0.95318551328927, 0.008825791789715463, 0.99422392367363, 0.9992100987645154, 0.00017977871514294986, 0.9996175942964486, 8.25311752226262e-05, 0.20153271477082424, 0.983334308634469, 0.20152492647162593, 0.9922180379704333, 0.0018106168576102798, 0.20152178971258813, 0.9955048226889082, 0.0009627706215560041, 0.20154170436572977, 0.9967921458447752, 0.0006614413708326312, 0.20152976907454964, 0.20152010373537274, 0.9939835103368126, 0.0013523585174650512, 0.20152859787046215, 0.20153105052813836, 0.20151671073514354, 0.20154647166783898, 0.1624895618027782, 0.1624895618027782, 0.982542760572074, 0.0034841941864257944, 0.2015344486893144, 0.20150576421311342, 0.20150561619022994, 0.9995265864320251, 9.497592041353336e-05, 0.2014626741254425, 0.9709597266775031, 0.005956808139125786, 0.9993167236582995, 0.00015847077761787178, 0.20154164782796674, 0.9898711355443811, 0.002083939232725013, 0.9840030791012322, 0.0030277017818499453, 0.2015157703842636, 0.2015386902383601, 0.20154362854755403, 0.9958622071116608, 0.0009928835564423338, 0.9982002230196069, 0.0004197646017744352, 0.20152796782799176, 0.20145919266490078, 0.9988117027428843, 0.00027417285279793697, 0.9123619734046708, 0.01754542256547444, 0.9738868482007838, 0.0058667882421733954, 0.9862425529061323, 0.002979584751982273, 0.5473906293748476, 0.0912317715624746, 0.9996537351822973, 6.748945012032794e-05, 0.20152753572393556, 0.20155450000227157, 0.9993285307866999, 0.0001335643585654504, 0.20155643609357962, 0.9906079914332007, 0.0022111785523062514, 0.9997390659932616, 5.8752883520995625e-05, 0.9508426897603725, 0.011738798639016943, 0.997711126960549, 0.00044620354515230275, 0.9983860710229077, 0.0003481122981251421, 0.20151203880918125, 0.20155540152526316, 0.9989529213654463, 0.0002003917595517445, 0.2015449684013696, 0.20153848644608222, 0.9946032599380431, 0.001120048716146445, 0.20154059503292834, 0.20154869509081028, 0.9647530260253351, 0.0067940353945446135, 0.9912173992333704, 0.0017481788346267555, 0.9991701222657935, 0.9975821417070003, 0.0005703728654699831, 0.9993807685300721, 0.00013033134696531978, 0.9983588660757913, 0.0003186590699252446, 0.20153733315964525, 0.178704073221773, 0.178704073221773, 0.0019468753687877315, 0.9890126873441676, 0.0019468753687877315, 0.9975037927268081, 0.0005616575409497793, 0.9854505694774818, 0.0031383776098008976, 0.9351305700786189, 0.012987924584425263, 0.9931095723195449, 0.0014227930835523565, 0.20147983775634296, 0.20152104388656358, 0.9994816962915867, 0.00011518747220140448, 0.9998695356258296, 2.7009631152268553e-05, 0.9952982946410792, 0.0011120651336771834, 0.9968814403081371, 0.0005933818097072245, 0.2015293366999276, 0.8748390724612074, 0.02430108534614465, 0.9997481409070813, 5.052550365932588e-05, 0.49060993560738975, 0.12265248390184744, 0.20154742565842437, 0.9948270137408602, 0.0010224326965476468, 0.20152399230644433, 0.9979836962797666, 0.00045301121029494624, 0.20154127871656743, 0.20146099762249553, 0.4304317806498997, 0.10760794516247492, 0.999149446697709, 0.00018159750030856216, 0.9887934629765173, 0.002509628078620602, 0.9984002794281093, 0.00031765837716452727, 0.20154762743151683, 0.9975795427750238, 0.0005134223071410313, 0.9852239068599388, 0.0031781416350320606, 0.9977923010122226, 0.00043194471905291023, 0.20153010881156727, 0.9998638990402734, 3.035593840063979e-05, 0.9912254025564509, 0.0019284540905767525, 0.20154870442907757, 0.9998034159305839, 3.924799465849823e-05, 0.2015128563078595, 0.20152714017007012, 0.20150851943227457, 0.9885075802707686, 0.0024589740802755436, 0.9854072512224398, 0.20153461000217174, 0.9988041803326394, 0.0002313653417495111, 0.9930776653624245, 0.0013928157999472993, 0.20154345458249873, 0.2015493886663619, 0.8725776088845207, 0.027268050277641273, 0.9987021467953576, 0.00026589514025435505, 0.201521540649263, 0.19773196554093334, 0.2015281648194882, 0.993794192003298, 0.0014176807303898688, 0.2015366075855808, 0.999746737947413, 5.221154887964346e-05, 0.20154722777912318, 0.9786232557408601, 0.004236464310566494, 0.9984510047186104, 0.0003600616677672594, 0.9931009903563838, 0.0015420822831620866, 0.9854462043124723, 0.0028399026060878167, 0.9349833304127809, 0.012302412242273433, 0.18910158582661488, 0.18910158582661488, 0.9990090463742268, 0.00019619187870664314, 0.9808574600232187, 0.0037153691667546167, 0.20155182122581666, 0.20152901211253832, 0.9998015472137489, 3.7579460522974966e-05, 0.9416356275108292, 0.01255514170014439, 0.934483006568093, 0.013349757236687044, 0.2015282553612261, 0.9897324966877931, 0.002296363101363789, 0.996679101533507, 0.0006921382649538243, 0.8374767212740628, 0.036412031359741866, 0.997468251480554, 0.0005099530938039642, 0.9937846147574384, 0.0012163826374020055, 0.20153846487110164, 0.2015133176443212, 0.8842699616821773, 0.9996854722484582, 6.55488474361326e-05, 0.20151731520050128, 0.20153250650559604, 0.20154888568987245, 0.20154831786348543, 0.9849288279829702, 0.0030972604653552523, 0.20153046152722917, 0.20152592514025772, 0.9992353538011945, 0.00016274191429986883, 0.9988759872780788, 0.0002648133582391513, 0.20147457238414077, 0.9913477374824319, 0.0018599394699482775, 0.17870574077659568, 0.17870574077659568, 0.9937986660568483, 0.0011802834513739292, 0.998024953076506, 0.0003938535726426622, 0.9992978757585553, 0.00015445098543408892, 0.9989790028423009, 0.00019315139266092439, 0.9560335323186004, 0.008612914705572978, 0.20153434994951416, 0.9951228746970839, 0.001091143502957329, 0.20143588625498648, 0.996881556886304, 0.000673568619517773, 0.991379851885391, 0.0019400779880340334, 0.9992676465891515], \"Term\": [\"accessible\", \"accessible\", \"accommodating\", \"advised\", \"advised\", \"airy\", \"airy\", \"also\", \"also\", \"always\", \"amazing\", \"amenity\", \"another\", \"appetizer\", \"appetizer\", \"area\", \"area\", \"around\", \"around\", \"arrived\", \"assume\", \"assume\", \"august\", \"august\", \"available\", \"away\", \"awesome\", \"back\", \"back\", \"bad\", \"bad\", \"bad\", \"bad\", \"bag\", \"bag\", \"bar\", \"bar\", \"bathroom\", \"beach\", \"beautiful\", \"beautiful\", \"bed\", \"beltway\", \"beltway\", \"best\", \"better\", \"big\", \"birthday\", \"birthday\", \"bit\", \"bloom\", \"bloom\", \"booked\", \"boston\", \"breaker\", \"breaker\", \"breakfast\", \"breakfast\", \"breakfast\", \"buffet\", \"business\", \"business\", \"came\", \"cant\", \"carbohydrate\", \"carbohydrate\", \"casino\", \"central\", \"chance\", \"charge\", \"check\", \"check\", \"child\", \"child\", \"chocolate\", \"chocolate\", \"choice\", \"choosing\", \"choosing\", \"city\", \"clean\", \"cleaned\", \"cleaned\", \"close\", \"coffee\", \"comfortable\", \"comfortable\", \"compensation\", \"compensation\", \"completing\", \"completing\", \"complimentary\", \"complimentary\", \"conveniently\", \"conveniently\", \"copley\", \"correcting\", \"correcting\", \"could\", \"couldnt\", \"customer\", \"day\", \"day\", \"day\", \"decent\", \"decent\", \"decor\", \"definitely\", \"depending\", \"depending\", \"designed\", \"designed\", \"desk\", \"despite\", \"despite\", \"didnt\", \"distance\", \"distance\", \"done\", \"done\", \"dont\", \"door\", \"doughnut\", \"doughnut\", \"downstairs\", \"downstairs\", \"downtown\", \"drainage\", \"drainage\", \"dressed\", \"dressed\", \"drink\", \"easy\", \"englanddear\", \"englanddear\", \"enjoyed\", \"enough\", \"enough\", \"enter\", \"enter\", \"entire\", \"environmentally\", \"environmentally\", \"especially\", \"etc\", \"even\", \"ever\", \"every\", \"every\", \"everything\", \"excellent\", \"expensive\", \"experience\", \"extra\", \"extremely\", \"faith\", \"faith\", \"family\", \"family\", \"feel\", \"felt\", \"fine\", \"fine\", \"first\", \"first\", \"flat\", \"flat\", \"floor\", \"floor\", \"food\", \"found\", \"free\", \"fremont\", \"friendly\", \"front\", \"gave\", \"gave\", \"get\", \"go\", \"good\", \"good\", \"got\", \"got\", \"great\", \"great\", \"guard\", \"guard\", \"guessed\", \"guessed\", \"guest\", \"guestroom\", \"guestroom\", \"happy\", \"hard\", \"hard\", \"hear\", \"helpful\", \"high\", \"holiday\", \"holiday\", \"home\", \"honolulu\", \"honolulu\", \"hope\", \"hope\", \"hot\", \"hotel\", \"hotel\", \"hotel\", \"hour\", \"house\", \"house\", \"id\", \"id\", \"implement\", \"implement\", \"included\", \"included\", \"information\", \"jie\", \"jie\", \"key\", \"key\", \"kind\", \"king\", \"knew\", \"knew\", \"know\", \"know\", \"la\", \"la\", \"large\", \"late\", \"like\", \"limited\", \"limited\", \"literally\", \"literally\", \"little\", \"lobby\", \"located\", \"location\", \"long\", \"look\", \"lot\", \"loved\", \"lovely\", \"lovely\", \"luck\", \"luck\", \"luckily\", \"made\", \"made\", \"make\", \"make\", \"manager\", \"manhattan\", \"many\", \"menu\", \"menu\", \"minute\", \"missing\", \"missing\", \"modern\", \"money\", \"money\", \"morning\", \"much\", \"name\", \"name\", \"napa\", \"near\", \"need\", \"needed\", \"neerajthank\", \"neerajthank\", \"neighbor\", \"neighbor\", \"never\", \"new\", \"next\", \"nice\", \"nice\", \"night\", \"nightly\", \"nightly\", \"noise\", \"noise\", \"noisy\", \"nola\", \"nola\", \"none\", \"none\", \"nothing\", \"ocean\", \"offer\", \"oh\", \"oh\", \"ok\", \"ok\", \"old\", \"one\", \"option\", \"option\", \"overflowed\", \"overflowed\", \"overly\", \"overly\", \"overpriced\", \"overpriced\", \"pampering\", \"pampering\", \"parking\", \"parking\", \"people\", \"per\", \"perfect\", \"perfect\", \"phone\", \"piece\", \"piece\", \"place\", \"place\", \"plugged\", \"plugged\", \"plus\", \"plus\", \"point\", \"point\", \"pool\", \"poor\", \"price\", \"price\", \"problem\", \"property\", \"question\", \"question\", \"quiet\", \"quite\", \"rated\", \"rated\", \"reading\", \"reading\", \"ready\", \"real\", \"real\", \"really\", \"really\", \"recent\", \"recent\", \"recommend\", \"regardswilliam\", \"regardswilliam\", \"regis\", \"regis\", \"regis\", \"relaxing\", \"relaxing\", \"rental\", \"rental\", \"replenished\", \"replenished\", \"requested\", \"requested\", \"restaurant\", \"review\", \"right\", \"right\", \"room\", \"room\", \"roomy\", \"roomy\", \"second\", \"second\", \"see\", \"selfpark\", \"selfpark\", \"service\", \"service\", \"sheratonanywhere\", \"sheratonanywhere\", \"short\", \"show\", \"show\", \"shower\", \"size\", \"size\", \"sleep\", \"small\", \"sneeze\", \"sneeze\", \"soon\", \"soon\", \"south\", \"south\", \"spacious\", \"spacious\", \"special\", \"spent\", \"spent\", \"spg\", \"spg\", \"spot\", \"spot\", \"st\", \"staff\", \"staff\", \"state\", \"state\", \"station\", \"stay\", \"stay\", \"stayed\", \"staying\", \"street\", \"strip\", \"strip\", \"structure\", \"super\", \"sure\", \"sure\", \"sweet\", \"sweet\", \"take\", \"taking\", \"teacoffee\", \"teacoffee\", \"th\", \"th\", \"thank\", \"thatthe\", \"thing\", \"third\", \"third\", \"though\", \"time\", \"time\", \"told\", \"total\", \"total\", \"town\", \"town\", \"traveled\", \"traveled\", \"treat\", \"treat\", \"treatment\", \"treatment\", \"trekked\", \"trekked\", \"trip\", \"trip\", \"trust\", \"trust\", \"tv\", \"two\", \"u\", \"u\", \"uncommon\", \"uncommon\", \"upset\", \"upset\", \"use\", \"using\", \"using\", \"usually\", \"usually\", \"vacant\", \"vacant\", \"valet\", \"valet\", \"variety\", \"variety\", \"vega\", \"view\", \"vine\", \"visit\", \"visit\", \"walk\", \"walking\", \"wall\", \"want\", \"washington\", \"washington\", \"wasnt\", \"water\", \"way\", \"way\", \"week\", \"week\", \"well\", \"westin\", \"westin\", \"whvipon\", \"whvipon\", \"wife\", \"wife\", \"wifi\", \"wifi\", \"within\", \"within\", \"wonderful\", \"wonderful\", \"wonderfully\", \"wonderfully\", \"work\", \"world\", \"world\", \"would\", \"yet\", \"yet\", \"yogurt\", \"yogurt\", \"youre\"]}, \"R\": 30, \"lambda.step\": 0.01, \"plot.opts\": {\"xlab\": \"PC1\", \"ylab\": \"PC2\"}, \"topic.order\": [15, 8, 14, 7, 3, 6, 1, 17, 12, 4, 10, 20, 9, 16, 18, 11, 19, 5, 13, 2]};\n",
       "\n",
       "function LDAvis_load_lib(url, callback){\n",
       "  var s = document.createElement('script');\n",
       "  s.src = url;\n",
       "  s.async = true;\n",
       "  s.onreadystatechange = s.onload = callback;\n",
       "  s.onerror = function(){console.warn(\"failed to load library \" + url);};\n",
       "  document.getElementsByTagName(\"head\")[0].appendChild(s);\n",
       "}\n",
       "\n",
       "if(typeof(LDAvis) !== \"undefined\"){\n",
       "   // already loaded: just create the visualization\n",
       "   !function(LDAvis){\n",
       "       new LDAvis(\"#\" + \"ldavis_el1064022355964601046491874566\", ldavis_el1064022355964601046491874566_data);\n",
       "   }(LDAvis);\n",
       "}else if(typeof define === \"function\" && define.amd){\n",
       "   // require.js is available: use it to load d3/LDAvis\n",
       "   require.config({paths: {d3: \"https://cdnjs.cloudflare.com/ajax/libs/d3/3.5.5/d3.min\"}});\n",
       "   require([\"d3\"], function(d3){\n",
       "      window.d3 = d3;\n",
       "      LDAvis_load_lib(\"https://cdn.rawgit.com/bmabey/pyLDAvis/files/ldavis.v1.0.0.js\", function(){\n",
       "        new LDAvis(\"#\" + \"ldavis_el1064022355964601046491874566\", ldavis_el1064022355964601046491874566_data);\n",
       "      });\n",
       "    });\n",
       "}else{\n",
       "    // require.js not available: dynamically load d3 & LDAvis\n",
       "    LDAvis_load_lib(\"https://cdnjs.cloudflare.com/ajax/libs/d3/3.5.5/d3.min.js\", function(){\n",
       "         LDAvis_load_lib(\"https://cdn.rawgit.com/bmabey/pyLDAvis/files/ldavis.v1.0.0.js\", function(){\n",
       "                 new LDAvis(\"#\" + \"ldavis_el1064022355964601046491874566\", ldavis_el1064022355964601046491874566_data);\n",
       "            })\n",
       "         });\n",
       "}\n",
       "</script>"
      ],
      "text/plain": [
       "PreparedData(topic_coordinates=              x         y  topics  cluster      Freq\n",
       "topic                                               \n",
       "14    -0.296196  0.340738       1        1  6.181011\n",
       "7     -0.191981 -0.244694       2        1  5.680519\n",
       "13    -0.175483 -0.164411       3        1  5.586153\n",
       "6     -0.105918 -0.045171       4        1  5.321016\n",
       "2     -0.073072 -0.023629       5        1  5.156900\n",
       "5     -0.046460 -0.011640       6        1  5.139990\n",
       "0     -0.032836 -0.006907       7        1  5.079999\n",
       "16    -0.038575 -0.009206       8        1  5.078999\n",
       "11    -0.038677 -0.008885       9        1  5.044457\n",
       "3      0.040046  0.010310      10        1  4.863875\n",
       "9      0.034895  0.009363      11        1  4.856446\n",
       "19     0.050229  0.011809      12        1  4.814475\n",
       "8      0.084367  0.016021      13        1  4.717613\n",
       "15     0.087367  0.016273      14        1  4.717114\n",
       "17     0.085775  0.016186      15        1  4.713843\n",
       "10     0.098536  0.017345      16        1  4.685511\n",
       "18     0.122644  0.018928      17        1  4.659451\n",
       "4      0.120122  0.018752      18        1  4.609496\n",
       "12     0.131866  0.019299      19        1  4.574621\n",
       "1      0.143348  0.019517      20        1  4.518511, topic_info=              Term          Freq         Total Category  logprob  loglift\n",
       "14840        hotel  43978.000000  43978.000000  Default  30.0000  30.0000\n",
       "26587         room  37023.000000  37023.000000  Default  29.0000  29.0000\n",
       "29564        staff  32942.000000  32942.000000  Default  28.0000  28.0000\n",
       "32730            u  26610.000000  26610.000000  Default  27.0000  27.0000\n",
       "29777         stay  25479.000000  25479.000000  Default  26.0000  26.0000\n",
       "...            ...           ...           ...      ...      ...      ...\n",
       "4001     breakfast      0.537650  21903.291859  Topic20 -11.2357  -7.5180\n",
       "27731      service      0.537635  19791.984791  Topic20 -11.2357  -7.4166\n",
       "6244   comfortable      0.537577  11899.128526  Topic20 -11.2358  -6.9079\n",
       "31676         time      0.537561  19152.850690  Topic20 -11.2359  -7.3839\n",
       "32730            u      0.537519  26610.280884  Topic20 -11.2360  -7.7129\n",
       "\n",
       "[1170 rows x 6 columns], token_table=       Topic      Freq           Term\n",
       "term                                 \n",
       "141        2  0.985726     accessible\n",
       "141       20  0.003024     accessible\n",
       "170       20  0.201553  accommodating\n",
       "453        3  0.949533        advised\n",
       "453       20  0.009689        advised\n",
       "...      ...       ...            ...\n",
       "35419     16  0.996882            yet\n",
       "35419     20  0.000674            yet\n",
       "35438      6  0.991380         yogurt\n",
       "35438     20  0.001940         yogurt\n",
       "35520     20  0.999268          youre\n",
       "\n",
       "[514 rows x 3 columns], R=30, lambda_step=0.01, plot_opts={'xlab': 'PC1', 'ylab': 'PC2'}, topic_order=[15, 8, 14, 7, 3, 6, 1, 17, 12, 4, 10, 20, 9, 16, 18, 11, 19, 5, 13, 2])"
      ]
     },
     "execution_count": 107,
     "metadata": {},
     "output_type": "execute_result"
    }
   ],
   "source": [
    "LDAvis_data_filepath = os.path.join('visualizations/ldavis_prepared_'+str(num_topics_2))\n",
    "\n",
    "if 1 == 1:\n",
    "    LDAvis_prepared_2 = pyLDAvis.gensim.prepare(lda_model_2, corpus, id2word)\n",
    "    with open(LDAvis_data_filepath, 'wb') as f:\n",
    "        pickle.dump(LDAvis_prepared_2, f)\n",
    "        \n",
    "# load the pre-prepared pyLDAvis data from disk\n",
    "with open(LDAvis_data_filepath, 'rb') as f:\n",
    "    LDAvis_prepared_2 = pickle.load(f)\n",
    "pyLDAvis.save_html(LDAvis_prepared_2, 'visualizations/ldavis_prepared_'+ str(num_topics_2) +'.html')\n",
    "LDAvis_prepared_2"
   ]
  },
  {
   "cell_type": "code",
   "execution_count": 108,
   "metadata": {
    "hidden": true
   },
   "outputs": [
    {
     "name": "stdout",
     "output_type": "stream",
     "text": [
      "[(0,\n",
      "  '0.032*\"would\" + 0.027*\"one\" + 0.023*\"bed\" + 0.022*\"place\" + 0.019*\"well\" + '\n",
      "  '0.019*\"desk\" + 0.019*\"like\" + 0.018*\"front\" + 0.018*\"thank\" + '\n",
      "  '0.017*\"helpful\"'),\n",
      " (1,\n",
      "  '0.106*\"hotel\" + 0.046*\"u\" + 0.036*\"breakfast\" + 0.035*\"clean\" + '\n",
      "  '0.024*\"service\" + 0.024*\"friendly\" + 0.017*\"experience\" + 0.015*\"hope\" + '\n",
      "  '0.012*\"small\" + 0.011*\"look\"'),\n",
      " (2,\n",
      "  '0.128*\"room\" + 0.041*\"time\" + 0.027*\"stayed\" + 0.023*\"back\" + '\n",
      "  '0.022*\"comfortable\" + 0.020*\"review\" + 0.014*\"see\" + 0.013*\"close\" + '\n",
      "  '0.013*\"need\" + 0.012*\"bathroom\"'),\n",
      " (3,\n",
      "  '0.062*\"stay\" + 0.022*\"area\" + 0.018*\"guest\" + 0.018*\"get\" + 0.014*\"pool\" + '\n",
      "  '0.014*\"enjoyed\" + 0.014*\"best\" + 0.013*\"much\" + 0.012*\"could\" + '\n",
      "  '0.011*\"new\"'),\n",
      " (4,\n",
      "  '0.060*\"staff\" + 0.054*\"great\" + 0.037*\"nice\" + 0.035*\"good\" + '\n",
      "  '0.035*\"location\" + 0.030*\"night\" + 0.020*\"next\" + 0.020*\"day\" + '\n",
      "  '0.018*\"also\" + 0.015*\"free\"')]\n"
     ]
    }
   ],
   "source": [
    "# Try with fewer topics\n",
    "\n",
    "# number of topics\n",
    "num_topics_3 = 5\n",
    "\n",
    "# Build LDA model\n",
    "lda_model_3 = gensim.models.LdaMulticore(corpus=corpus,\n",
    "                                       id2word=id2word,\n",
    "                                       num_topics=num_topics_3)\n",
    "\n",
    "# Print the Keyword in the 10 topics\n",
    "pprint(lda_model_3.print_topics())\n",
    "doc_lda_3 = lda_model_3[corpus]"
   ]
  },
  {
   "cell_type": "code",
   "execution_count": 109,
   "metadata": {
    "hidden": true
   },
   "outputs": [
    {
     "data": {
      "text/html": [
       "\n",
       "<link rel=\"stylesheet\" type=\"text/css\" href=\"https://cdn.rawgit.com/bmabey/pyLDAvis/files/ldavis.v1.0.0.css\">\n",
       "\n",
       "\n",
       "<div id=\"ldavis_el1064022355964389847359088148\"></div>\n",
       "<script type=\"text/javascript\">\n",
       "\n",
       "var ldavis_el1064022355964389847359088148_data = {\"mdsDat\": {\"x\": [0.22608717046451987, -0.3830063490592759, 0.09694942217508064, -0.02933980087049399, 0.08930955729016905], \"y\": [-0.304579107480854, -0.12089787165560227, 0.2901309728087389, 0.14883305049152615, -0.01348704416380854], \"topics\": [1, 2, 3, 4, 5], \"cluster\": [1, 1, 1, 1, 1], \"Freq\": [20.803505425440964, 20.39000919724674, 19.92703102763661, 19.455231227656906, 19.424223122018784]}, \"tinfo\": {\"Term\": [\"room\", \"hotel\", \"stay\", \"staff\", \"great\", \"u\", \"time\", \"breakfast\", \"nice\", \"clean\", \"good\", \"location\", \"would\", \"night\", \"stayed\", \"one\", \"service\", \"friendly\", \"back\", \"area\", \"bed\", \"place\", \"comfortable\", \"day\", \"next\", \"review\", \"desk\", \"well\", \"like\", \"guest\", \"enjoyed\", \"go\", \"get\", \"new\", \"please\", \"could\", \"area\", \"french\", \"find\", \"got\", \"staying\", \"convenient\", \"feel\", \"seattle\", \"guest\", \"year\", \"thing\", \"amenity\", \"western\", \"available\", \"distance\", \"courtyard\", \"never\", \"market\", \"offer\", \"atlanta\", \"fantastic\", \"tub\", \"stay\", \"marriott\", \"best\", \"pool\", \"much\", \"price\", \"little\", \"lobby\", \"quiet\", \"coffee\", \"every\", \"around\", \"even\", \"morning\", \"floor\", \"use\", \"feedback\", \"look\", \"experience\", \"hear\", \"recommend\", \"business\", \"way\", \"sure\", \"went\", \"airport\", \"love\", \"downtown\", \"diego\", \"service\", \"park\", \"trip\", \"week\", \"able\", \"home\", \"u\", \"quite\", \"friendly\", \"reservation\", \"towel\", \"extremely\", \"short\", \"door\", \"everyone\", \"directly\", \"keep\", \"hotel\", \"breakfast\", \"clean\", \"hope\", \"visit\", \"manager\", \"small\", \"forward\", \"walk\", \"check\", \"first\", \"didnt\", \"street\", \"made\", \"hot\", \"would\", \"place\", \"desk\", \"parking\", \"appreciate\", \"perfect\", \"helpful\", \"really\", \"within\", \"town\", \"quarter\", \"san\", \"glad\", \"rate\", \"since\", \"like\", \"team\", \"plus\", \"safe\", \"elevator\", \"orleans\", \"took\", \"member\", \"sleep\", \"garden\", \"inn\", \"enjoy\", \"everything\", \"apologize\", \"due\", \"one\", \"front\", \"thank\", \"restaurant\", \"well\", \"bed\", \"know\", \"property\", \"taking\", \"food\", \"always\", \"found\", \"soon\", \"shuttle\", \"better\", \"dont\", \"water\", \"review\", \"comfortable\", \"see\", \"right\", \"walking\", \"suite\", \"large\", \"recent\", \"comment\", \"excellent\", \"future\", \"shower\", \"pleasant\", \"outside\", \"time\", \"motel\", \"provide\", \"friend\", \"let\", \"kid\", \"hilton\", \"tv\", \"couple\", \"gave\", \"bedroom\", \"regarding\", \"room\", \"back\", \"minute\", \"recently\", \"stayed\", \"need\", \"bathroom\", \"two\", \"take\", \"away\", \"im\", \"space\", \"issue\", \"overall\", \"close\", \"noise\", \"wonderful\", \"booked\", \"day\", \"night\", \"free\", \"lot\", \"many\", \"kind\", \"car\", \"come\", \"make\", \"work\", \"arrived\", \"said\", \"definitely\", \"amazing\", \"view\", \"sorry\", \"across\", \"people\", \"star\", \"big\", \"point\", \"late\", \"fine\", \"building\", \"quick\", \"kept\", \"family\", \"accommodation\", \"something\", \"upon\", \"great\", \"staff\", \"nice\", \"location\", \"good\", \"next\", \"also\", \"happy\", \"easy\", \"located\", \"enough\", \"bar\"], \"Freq\": [22414.0, 19553.0, 11649.0, 10471.0, 9481.0, 8380.0, 7158.0, 6730.0, 6481.0, 6418.0, 6093.0, 6064.0, 5804.0, 5276.0, 4802.0, 4849.0, 4372.0, 4330.0, 4011.0, 4102.0, 4078.0, 3951.0, 3833.0, 3503.0, 3518.0, 3475.0, 3381.0, 3443.0, 3367.0, 3404.0, 2625.8358617947724, 1796.8082339105124, 3338.46929989078, 2151.063149367241, 1272.4230285845442, 2296.911925776161, 4099.290812108235, 1020.7161312116662, 1097.8426640093185, 1486.9602399529872, 1962.6184420293116, 1040.2656564797478, 1264.8529482237639, 905.9138309636969, 3400.3047124055934, 1149.0835632863568, 1378.0375874785698, 890.099157063532, 808.0653901940557, 866.9222342819156, 1188.7052938312738, 649.0923485243807, 1171.491186359284, 600.8336431498705, 967.5825589629325, 637.312261093258, 603.5409997955811, 589.35905663645, 11630.19227452896, 572.8469373326604, 2614.0846034465326, 2713.774349003823, 2452.082629815716, 1767.865756634875, 1840.2398587996993, 1344.2281494862873, 1417.8278371170663, 1294.6483295484509, 1580.9938941703542, 1449.5354602454663, 1803.974969193503, 1586.0548833508874, 1809.4939039875892, 1103.4002123022963, 2074.428141369927, 2104.3191226499202, 3045.6205390478117, 1969.841644809299, 1505.6439375590533, 1383.3699986390372, 1423.1869085053197, 1336.9607768460874, 1258.0442331199345, 1134.389856838646, 1187.6438114329085, 1311.8925070123357, 836.5209804610519, 4367.783955550081, 1258.3952933594344, 1795.01141930269, 813.1185342759514, 1397.3008395624306, 889.0246936361683, 8370.204278700769, 828.8167494441052, 4325.078248034958, 747.59425369113, 668.2418815213055, 1002.1261134936417, 640.2091648383231, 1633.9216915701068, 560.9714438052522, 530.3866904300031, 504.69447523887686, 19478.10439919685, 6703.344231722913, 6394.100917961073, 2732.4338769274536, 2048.007347745165, 1832.8459519336309, 2180.481384736075, 1590.0963587643246, 1778.5716964091537, 1632.833918574349, 1692.0293536610254, 1902.5778179255312, 1774.7521610033948, 1685.5676190185623, 1303.691825442067, 5802.99028858442, 3949.8265750600895, 3380.558544391309, 2650.852213430333, 1720.8675830260133, 1314.7776276793759, 3035.7038705598834, 2412.142588146191, 1086.802253686169, 873.2988766624856, 830.9329891976349, 1603.2805993226632, 1646.1516644502544, 857.5230577345126, 851.6352317401293, 3363.837891772761, 1245.6271987791536, 796.6644210196976, 780.1647679385514, 939.2625943232697, 713.8746973069724, 926.742857561091, 698.5218820372988, 771.978998628528, 675.2765548899481, 2453.979365397109, 806.3827104084739, 1903.426924481172, 680.7654352975969, 528.2217388893014, 4831.349797627351, 3311.647524683252, 3226.12497140124, 2969.910442205655, 3427.609270592044, 4046.6228661978353, 1764.2668378847986, 1769.0905021536441, 2050.44358228831, 1643.6054418360634, 1874.3169089282646, 1341.33614876241, 1298.7730269508509, 1253.1150748131697, 1271.8052257703405, 1313.0655297864369, 1307.4848103055965, 3474.7276033114917, 3832.2751253670713, 2533.67713304316, 2024.7343300589898, 1800.2014469632452, 1932.849420792154, 1309.6006423188362, 1153.9840555413534, 1233.5405850718337, 1816.149419382434, 1101.7919538813464, 1200.3909690137455, 905.2578097248166, 924.5815849982546, 7150.932794126679, 776.3576143163575, 818.0718186855254, 793.9731451106209, 745.994587894105, 700.7933066269443, 678.6882930024468, 930.5467560921596, 708.1225242952576, 685.5897755341815, 648.0186502173676, 637.1564816601935, 22381.694491790997, 4006.1077306198126, 1613.4071312934573, 578.2111403116038, 4787.695306691126, 2270.811567362792, 2088.1783453757885, 1996.1141884937, 1494.342597303687, 1479.2805688862281, 1164.3671002882963, 1216.539512488287, 1140.830760959418, 1120.8812530126816, 2311.252084256216, 1214.6927881969643, 1896.8732642851676, 1102.1347629030413, 3501.9282946657486, 5273.59655876488, 2659.53427472853, 2086.721845766984, 1696.1205551234668, 1344.1934752810773, 1308.0710625325985, 1428.291224912626, 2361.6884451763544, 1432.1448608670867, 979.3659648921257, 903.4826819109439, 1635.333534538269, 1000.302471143487, 1768.9185801599037, 732.367427779717, 1025.8667011743837, 1582.867835719439, 752.0659644924946, 1011.4974614111595, 652.7854487622757, 696.737527390332, 646.7011510847043, 791.4135256620094, 557.3373611008991, 586.5542823700216, 1932.3925515339988, 532.203691932453, 574.0361239617325, 559.2804112675068, 9458.32741330017, 10431.24667037702, 6460.772885017202, 6044.834044012533, 6073.716574023605, 3512.2705647939765, 3157.2335932320084, 1919.7984933658329, 1583.8988652356609, 1347.313073686766, 1164.7202749963956, 1370.2494835519506], \"Total\": [22414.0, 19553.0, 11649.0, 10471.0, 9481.0, 8380.0, 7158.0, 6730.0, 6481.0, 6418.0, 6093.0, 6064.0, 5804.0, 5276.0, 4802.0, 4849.0, 4372.0, 4330.0, 4011.0, 4102.0, 4078.0, 3951.0, 3833.0, 3503.0, 3518.0, 3475.0, 3381.0, 3443.0, 3367.0, 3404.0, 2626.8914654769987, 1797.8316505437167, 3340.694748702235, 2152.5098015948292, 1273.3504088139541, 2298.792483415153, 4102.727088075103, 1021.6395387410275, 1098.8369156789643, 1488.3463574324267, 1964.4563017577875, 1041.2504214418682, 1266.064751792843, 906.9091601926494, 3404.062160373919, 1150.358041836617, 1379.582161149236, 891.1077240269358, 809.0011509044883, 867.9436474554012, 1190.2510356546634, 650.0053122009964, 1173.15593956516, 601.7219786265405, 969.0432435896591, 638.2762814687894, 604.49750848768, 590.2963039720112, 11649.036484762222, 573.8050246706483, 2618.4734840573396, 2719.9160738353767, 2457.0698184316616, 1773.9375830839251, 1848.7662138689054, 1346.8259557639838, 1421.6163275359997, 1297.4267576425232, 1588.2286126658764, 1455.2727398005854, 1816.2941298335172, 1596.5149806878721, 1827.323710084722, 1109.5258907650127, 2075.340436222324, 2105.3100617912473, 3047.4655438794844, 1971.117354530075, 1506.6575717414391, 1384.333582110727, 1424.2371319097008, 1337.9648050627293, 1259.0207237116392, 1135.3085575024131, 1188.6272689006162, 1313.129907436995, 837.371781492554, 4372.420434943304, 1259.7635806066319, 1796.9717708667586, 814.0170856211145, 1398.9380416497806, 890.0693741596915, 8380.109054520995, 829.812676317791, 4330.612035161398, 748.6621957174765, 669.2172819665909, 1003.5959292861822, 641.165004259381, 1636.5432416006024, 561.895094630679, 531.2756459324116, 505.58753972258586, 19553.392498479305, 6730.640138274935, 6418.601851029539, 2745.3163221980976, 2052.83794502741, 1836.1972345783129, 2189.333215258799, 1593.0380011244804, 1784.1023319129754, 1636.7454522903786, 1697.4746056713382, 1915.2005595945589, 1786.9120817068958, 1708.004634014468, 1307.2908097152792, 5804.548730602745, 3951.0235743653407, 3381.6995700861116, 2652.512031993293, 1722.1124257437377, 1315.9376324721336, 3038.4093459221253, 2414.299239831486, 1087.79764584825, 874.1745882368283, 831.7761024960056, 1604.9444486552532, 1647.9024102351284, 858.4587483620672, 852.5793163282909, 3367.605177982495, 1247.0499174803929, 797.5754958207706, 781.0611449970979, 940.3670433492322, 714.7178345713296, 927.8493154204527, 699.4045320786995, 772.9712338324254, 676.1660773467092, 2457.2172829366323, 807.4789077298576, 1906.1314086906766, 681.7748568168157, 529.1083893374966, 4849.610362646029, 3318.439904167021, 3233.666751704679, 2976.7253818431536, 3443.6487854417537, 4078.690906847702, 1767.7923505373547, 1773.5053308955414, 2062.4865022226445, 1649.7138965667966, 1884.0054192035564, 1344.1648914468215, 1301.1977763300501, 1255.2493766619798, 1274.9116027528623, 1317.3710573188328, 1313.3565562839678, 3475.76098020973, 3833.677292551536, 2534.696387982164, 2025.824708214227, 1801.2310250391063, 1934.2460972171184, 1310.6150424538325, 1154.9463594901283, 1234.577880917939, 1817.8203803609483, 1102.814025789009, 1201.526257196091, 906.1420791393766, 925.5200291399426, 7158.418828359544, 777.1918234053184, 818.9616775542065, 794.8469741563468, 746.898684668667, 701.6713442821086, 679.5449076855645, 931.7530699121737, 709.0500348920591, 686.5044459431438, 648.8915024160174, 638.0163413657544, 22414.52434318943, 4011.997034298539, 1615.8035812417656, 579.0702589869956, 4802.693677042572, 2276.2879204785745, 2093.554968643456, 2000.8671921241514, 1496.6006754857506, 1484.260725821627, 1166.1676176408791, 1219.33651800763, 1142.8695699159944, 1123.524063524896, 2335.0636024960877, 1219.4253788919666, 1914.0240776213675, 1107.0953044324103, 3503.282058235254, 5276.56347619895, 2661.045437712306, 2087.9412001157048, 1697.1796460092348, 1345.161237689778, 1309.114875053008, 1429.5154579585471, 2363.877669784352, 1433.592725641067, 980.3589585777198, 904.4191439987084, 1637.0527715859948, 1001.420644861529, 1770.9635381883077, 733.2177837851011, 1027.066784716019, 1584.7837315811762, 752.9887443121222, 1012.7907966463856, 653.6762769224968, 697.7008257993792, 647.6010226678399, 792.5391018907544, 558.1931557208007, 587.4661257878694, 1935.4066761631768, 533.041680010726, 574.9541831608864, 560.1884464215717, 9481.525279742356, 10471.53104271799, 6481.383934346148, 6064.132613892426, 6093.836162248979, 3518.2412215562454, 3165.5490597959533, 1923.698394867613, 1590.3306295338245, 1351.1716679717388, 1167.2920394734851, 1375.56623995308], \"Category\": [\"Default\", \"Default\", \"Default\", \"Default\", \"Default\", \"Default\", \"Default\", \"Default\", \"Default\", \"Default\", \"Default\", \"Default\", \"Default\", \"Default\", \"Default\", \"Default\", \"Default\", \"Default\", \"Default\", \"Default\", \"Default\", \"Default\", \"Default\", \"Default\", \"Default\", \"Default\", \"Default\", \"Default\", \"Default\", \"Default\", \"Topic1\", \"Topic1\", \"Topic1\", \"Topic1\", \"Topic1\", \"Topic1\", \"Topic1\", \"Topic1\", \"Topic1\", \"Topic1\", \"Topic1\", \"Topic1\", \"Topic1\", \"Topic1\", \"Topic1\", \"Topic1\", \"Topic1\", \"Topic1\", \"Topic1\", \"Topic1\", \"Topic1\", \"Topic1\", \"Topic1\", \"Topic1\", \"Topic1\", \"Topic1\", \"Topic1\", \"Topic1\", \"Topic1\", \"Topic1\", \"Topic1\", \"Topic1\", \"Topic1\", \"Topic1\", \"Topic1\", \"Topic1\", \"Topic1\", \"Topic1\", \"Topic1\", \"Topic1\", \"Topic1\", \"Topic1\", \"Topic1\", \"Topic1\", \"Topic2\", \"Topic2\", \"Topic2\", \"Topic2\", \"Topic2\", \"Topic2\", \"Topic2\", \"Topic2\", \"Topic2\", \"Topic2\", \"Topic2\", \"Topic2\", \"Topic2\", \"Topic2\", \"Topic2\", \"Topic2\", \"Topic2\", \"Topic2\", \"Topic2\", \"Topic2\", \"Topic2\", \"Topic2\", \"Topic2\", \"Topic2\", \"Topic2\", \"Topic2\", \"Topic2\", \"Topic2\", \"Topic2\", \"Topic2\", \"Topic2\", \"Topic2\", \"Topic2\", \"Topic2\", \"Topic2\", \"Topic2\", \"Topic2\", \"Topic2\", \"Topic2\", \"Topic2\", \"Topic2\", \"Topic2\", \"Topic2\", \"Topic2\", \"Topic2\", \"Topic3\", \"Topic3\", \"Topic3\", \"Topic3\", \"Topic3\", \"Topic3\", \"Topic3\", \"Topic3\", \"Topic3\", \"Topic3\", \"Topic3\", \"Topic3\", \"Topic3\", \"Topic3\", \"Topic3\", \"Topic3\", \"Topic3\", \"Topic3\", \"Topic3\", \"Topic3\", \"Topic3\", \"Topic3\", \"Topic3\", \"Topic3\", \"Topic3\", \"Topic3\", \"Topic3\", \"Topic3\", \"Topic3\", \"Topic3\", \"Topic3\", \"Topic3\", \"Topic3\", \"Topic3\", \"Topic3\", \"Topic3\", \"Topic3\", \"Topic3\", \"Topic3\", \"Topic3\", \"Topic3\", \"Topic3\", \"Topic3\", \"Topic3\", \"Topic3\", \"Topic3\", \"Topic3\", \"Topic4\", \"Topic4\", \"Topic4\", \"Topic4\", \"Topic4\", \"Topic4\", \"Topic4\", \"Topic4\", \"Topic4\", \"Topic4\", \"Topic4\", \"Topic4\", \"Topic4\", \"Topic4\", \"Topic4\", \"Topic4\", \"Topic4\", \"Topic4\", \"Topic4\", \"Topic4\", \"Topic4\", \"Topic4\", \"Topic4\", \"Topic4\", \"Topic4\", \"Topic4\", \"Topic4\", \"Topic4\", \"Topic4\", \"Topic4\", \"Topic4\", \"Topic4\", \"Topic4\", \"Topic4\", \"Topic4\", \"Topic4\", \"Topic4\", \"Topic4\", \"Topic4\", \"Topic4\", \"Topic4\", \"Topic4\", \"Topic4\", \"Topic4\", \"Topic5\", \"Topic5\", \"Topic5\", \"Topic5\", \"Topic5\", \"Topic5\", \"Topic5\", \"Topic5\", \"Topic5\", \"Topic5\", \"Topic5\", \"Topic5\", \"Topic5\", \"Topic5\", \"Topic5\", \"Topic5\", \"Topic5\", \"Topic5\", \"Topic5\", \"Topic5\", \"Topic5\", \"Topic5\", \"Topic5\", \"Topic5\", \"Topic5\", \"Topic5\", \"Topic5\", \"Topic5\", \"Topic5\", \"Topic5\", \"Topic5\", \"Topic5\", \"Topic5\", \"Topic5\", \"Topic5\", \"Topic5\", \"Topic5\", \"Topic5\", \"Topic5\", \"Topic5\", \"Topic5\", \"Topic5\"], \"logprob\": [30.0, 29.0, 28.0, 27.0, 26.0, 25.0, 24.0, 23.0, 22.0, 21.0, 20.0, 19.0, 18.0, 17.0, 16.0, 15.0, 14.0, 13.0, 12.0, 11.0, 10.0, 9.0, 8.0, 7.0, 6.0, 5.0, 4.0, 3.0, 2.0, 1.0, -4.268899917602539, -4.6483001708984375, -4.028800010681152, -4.468400001525879, -4.9934000968933105, -4.4028000831604, -3.823499917984009, -5.213799953460693, -5.140999794006348, -4.837600231170654, -4.560100078582764, -5.194900035858154, -4.9994001388549805, -5.333199977874756, -4.010499954223633, -5.095399856567383, -4.913700103759766, -5.350800037384033, -5.447500228881836, -5.377200126647949, -5.061500072479248, -5.666500091552734, -5.076099872589111, -5.743800163269043, -5.267300128936768, -5.684800148010254, -5.739299774169922, -5.7631001472473145, -2.7806999683380127, -5.791500091552734, -4.273399829864502, -4.236000061035156, -4.337399959564209, -4.664599895477295, -4.6244001388549805, -4.938499927520752, -4.885200023651123, -4.976099967956543, -4.776299953460693, -4.863100051879883, -4.644400119781494, -4.773099899291992, -4.641300201416016, -5.135900020599365, -4.484600067138672, -4.470300197601318, -4.100599765777588, -4.536300182342529, -4.804999828338623, -4.889699935913086, -4.861400127410889, -4.923900127410889, -4.9847002029418945, -5.088200092315674, -5.042300224304199, -4.942800045013428, -5.3927998542785645, -3.740000009536743, -4.984399795532227, -4.629300117492676, -5.42110013961792, -4.879700183868408, -5.331900119781494, -3.089600086212158, -5.4019999504089355, -3.749799966812134, -5.505199909210205, -5.617400169372559, -5.212100028991699, -5.660200119018555, -4.723299980163574, -5.792399883270264, -5.848400115966797, -5.898099899291992, -2.244999885559082, -3.3117001056671143, -3.3589000701904297, -4.209099769592285, -4.497399806976318, -4.608399868011475, -4.434700012207031, -4.750500202178955, -4.638500213623047, -4.723999977111816, -4.688300132751465, -4.571100234985352, -4.640600204467773, -4.692200183868408, -4.949100017547607, -3.4328999519348145, -3.8176000118255615, -3.973299980163574, -4.216400146484375, -4.648499965667725, -4.917600154876709, -4.080900192260742, -4.310800075531006, -5.108099937438965, -5.3267998695373535, -5.376500129699707, -4.719200134277344, -4.69290018081665, -5.34499979019165, -5.351900100708008, -3.9781999588012695, -4.971700191497803, -5.418600082397461, -5.439599990844727, -5.254000186920166, -5.528299808502197, -5.267399787902832, -5.550099849700928, -5.450099945068359, -5.583899974822998, -4.293600082397461, -5.406499862670898, -4.547599792480469, -5.575799942016602, -5.829500198364258, -3.6161999702453613, -3.9939000606536865, -4.019999980926514, -4.102799892425537, -3.959399938583374, -3.7934000492095947, -4.623600006103516, -4.620800018310547, -4.473199844360352, -4.694399833679199, -4.5630998611450195, -4.897600173950195, -4.929900169372559, -4.965700149536133, -4.950900077819824, -4.918900012969971, -4.9232001304626465, -3.921799898147583, -3.823899984359741, -4.23769998550415, -4.461900234222412, -4.579400062561035, -4.508299827575684, -4.897600173950195, -5.024099826812744, -4.957399845123291, -4.5706000328063965, -5.070400238037109, -4.9847002029418945, -5.266900062561035, -5.245800018310547, -3.2000999450683594, -5.420499801635742, -5.368100166320801, -5.3979997634887695, -5.460400104522705, -5.522900104522705, -5.554900169372559, -5.239299774169922, -5.512499809265137, -5.5447998046875, -5.601200103759766, -5.618100166320801, -2.0590999126434326, -3.7795000076293945, -4.689000129699707, -5.715199947357178, -3.601300001144409, -4.3471999168396, -4.431000232696533, -4.476099967956543, -4.765699863433838, -4.7758002281188965, -5.015200138092041, -4.97130012512207, -5.035600185394287, -5.053199768066406, -4.329500198364258, -4.972799777984619, -4.527100086212158, -5.070099830627441, -3.912400007247925, -3.503000020980835, -4.187600135803223, -4.430099964141846, -4.637400150299072, -4.869900226593018, -4.897200107574463, -4.809299945831299, -4.306399822235107, -4.806600093841553, -5.186600208282471, -5.267199993133545, -4.673900127410889, -5.16540002822876, -4.595399856567383, -5.477200031280518, -5.140200138092041, -4.706500053405762, -5.450699806213379, -5.154300212860107, -5.592299938201904, -5.527100086212158, -5.601600170135498, -5.399700164794922, -5.75029993057251, -5.69920015335083, -4.506999969482422, -5.796500205993652, -5.720799922943115, -5.746799945831299, -2.918800115585327, -2.8208999633789062, -3.299999952316284, -3.366499900817871, -3.361799955368042, -3.9094998836517334, -4.015999794006348, -4.513500213623047, -4.705900192260742, -4.867599964141846, -5.013299942016602, -4.850800037384033], \"loglift\": [30.0, 29.0, 28.0, 27.0, 26.0, 25.0, 24.0, 23.0, 22.0, 21.0, 20.0, 19.0, 18.0, 17.0, 16.0, 15.0, 14.0, 13.0, 12.0, 11.0, 10.0, 9.0, 8.0, 7.0, 6.0, 5.0, 4.0, 3.0, 2.0, 1.0, 1.5696, 1.5695, 1.5694, 1.5694, 1.5693, 1.5692, 1.5692, 1.5691, 1.5691, 1.5691, 1.5691, 1.5691, 1.5691, 1.569, 1.5689, 1.5689, 1.5689, 1.5689, 1.5689, 1.5689, 1.5687, 1.5686, 1.5686, 1.5686, 1.5685, 1.5685, 1.5685, 1.5685, 1.5684, 1.5684, 1.5684, 1.5678, 1.568, 1.5666, 1.5654, 1.5681, 1.5674, 1.5679, 1.5655, 1.5661, 1.5632, 1.5635, 1.5602, 1.5645, 1.5897, 1.5897, 1.5895, 1.5895, 1.5895, 1.5894, 1.5894, 1.5894, 1.5893, 1.5893, 1.5893, 1.5892, 1.5891, 1.5891, 1.589, 1.589, 1.589, 1.589, 1.589, 1.5889, 1.5889, 1.5888, 1.5887, 1.5887, 1.5887, 1.5886, 1.5885, 1.5885, 1.5885, 1.5884, 1.5863, 1.5861, 1.5863, 1.5854, 1.5878, 1.5883, 1.5861, 1.5883, 1.587, 1.5877, 1.5869, 1.5835, 1.5833, 1.5769, 1.5874, 1.6128, 1.6128, 1.6128, 1.6125, 1.6124, 1.6122, 1.6122, 1.6122, 1.6122, 1.6121, 1.6121, 1.6121, 1.612, 1.612, 1.612, 1.612, 1.612, 1.612, 1.6119, 1.6119, 1.6119, 1.6119, 1.6118, 1.6118, 1.6118, 1.6118, 1.6117, 1.6117, 1.6116, 1.6114, 1.6093, 1.611, 1.6108, 1.6108, 1.6084, 1.6052, 1.6111, 1.6106, 1.6072, 1.6094, 1.6079, 1.611, 1.6112, 1.6114, 1.6107, 1.6098, 1.6086, 1.6368, 1.6367, 1.6367, 1.6365, 1.6365, 1.6363, 1.6363, 1.6362, 1.6362, 1.6361, 1.6361, 1.6361, 1.6361, 1.636, 1.636, 1.636, 1.636, 1.636, 1.6358, 1.6358, 1.6358, 1.6358, 1.6357, 1.6357, 1.6357, 1.6357, 1.6356, 1.6356, 1.6356, 1.6356, 1.6339, 1.6346, 1.6345, 1.6347, 1.6355, 1.6337, 1.6355, 1.6348, 1.6353, 1.6347, 1.6268, 1.6332, 1.6281, 1.6326, 1.6383, 1.6381, 1.6381, 1.6381, 1.638, 1.6379, 1.6379, 1.6378, 1.6377, 1.6376, 1.6376, 1.6376, 1.6376, 1.6375, 1.6375, 1.6375, 1.6375, 1.6374, 1.6374, 1.6374, 1.6373, 1.6373, 1.6373, 1.6372, 1.6371, 1.6371, 1.6371, 1.6371, 1.6371, 1.637, 1.6362, 1.6348, 1.6355, 1.6355, 1.6353, 1.637, 1.636, 1.6366, 1.6346, 1.6358, 1.6364, 1.6348]}, \"token.table\": {\"Topic\": [2, 5, 5, 5, 2, 2, 5, 1, 3, 4, 5, 1, 3, 3, 4, 1, 3, 1, 2, 4, 5, 1, 1, 3, 4, 2, 4, 5, 1, 5, 3, 4, 2, 3, 4, 5, 4, 1, 2, 3, 3, 4, 5, 4, 5, 1, 2, 3, 4, 5, 5, 2, 5, 1, 2, 2, 3, 4, 5, 1, 2, 4, 5, 1, 2, 5, 4, 4, 1, 1, 4, 5, 4, 1, 5, 2, 5, 3, 1, 2, 5, 2, 2, 1, 4, 3, 4, 1, 2, 3, 4, 2, 4, 3, 3, 4, 5, 3, 3, 1, 3, 5, 1, 2, 4, 5, 1, 2, 5, 2, 3, 4, 1, 4, 1, 2, 2, 4, 2, 5, 1, 2, 1, 1, 5, 2, 5, 1, 3, 4, 5, 1, 2, 3, 5, 2, 4, 3, 4, 1, 5, 1, 4, 1, 2, 4, 5, 2, 3, 4, 4, 3, 4, 1, 2, 1, 3, 1, 1, 2, 3, 4, 5, 1, 3, 1, 2, 3, 4, 5, 1, 3, 1, 3, 5, 2, 3, 3, 5, 4, 2, 2, 5, 2, 3, 5, 1, 2, 3, 4, 5, 3, 4, 5, 2, 3, 2, 4, 2, 5, 4, 5, 2, 3, 5, 4, 5, 4, 2, 3, 5, 1, 5, 1, 2, 5, 1, 5, 1, 2, 3, 4, 5, 2, 5, 2, 2, 3, 1, 3, 5, 2, 5, 5, 1, 1, 3, 1, 4, 1, 3, 4, 5, 4, 1, 3, 1, 4, 1, 4, 1, 5, 2, 3, 5, 1, 2, 4, 5, 1, 3, 5, 1, 3, 4, 1, 4, 2, 3, 4, 5, 3, 4, 3, 4, 5, 1, 2, 3, 4, 4, 5, 3, 3, 4, 1, 3, 5, 1, 2, 4, 1, 5, 3, 4, 4, 3, 5, 1, 4, 2, 3, 1, 3, 5, 4, 4, 2, 4, 2, 1, 3, 4, 4, 1, 2, 3, 4, 5, 3, 5, 2, 3, 1, 4, 1, 2, 2, 4, 2, 3, 5, 3, 3, 2, 5, 5, 1, 3, 5, 5, 3, 4, 1, 2, 3, 4, 5, 5, 1, 2, 3, 4, 5, 2, 4, 1, 4, 5, 2, 3, 4, 1, 4, 2, 3, 4, 1, 3, 4, 3, 5, 2, 3, 4, 1, 3, 1, 3, 4, 5, 3, 2, 3, 2, 4, 1, 4, 1, 2, 4, 2, 3, 4, 5, 1, 2, 3, 5, 1, 5, 1, 2, 2, 4, 5, 4, 2, 3, 4, 2, 2, 2, 3, 4, 5, 2, 1, 3, 1, 3, 4, 5, 1, 5, 3, 1], \"Freq\": [0.9986146336777753, 0.0007148279410721369, 0.9980457813154403, 0.9989613287744342, 0.998847399243346, 0.002211306748931324, 0.9972993437680273, 0.003715488251068395, 0.994689283214596, 0.0015923521076007408, 0.9985813705071704, 0.9987569134493303, 0.998863471116501, 0.9993540341924788, 0.000580682181401789, 0.9990915583720067, 0.0007312209502600683, 0.9963768030167953, 0.002748625663494608, 0.000687156415873652, 0.9986138153113923, 0.9980004247285322, 0.9989127779687451, 0.0026949443116105905, 0.9964556592180159, 0.0002492524275195136, 0.9985052246431714, 0.0012462621375975678, 0.002907893406962676, 0.9959534918847166, 0.001910625734652598, 0.9973466334886562, 0.0022065903510584553, 0.9922301278592853, 0.005393887524809557, 0.00024517670567316167, 0.9986261148239759, 0.9982915679365949, 0.0007638038010226434, 0.0007638038010226434, 0.9977162316614144, 0.0015687362133041107, 0.9982318197871511, 0.9953975918676463, 0.0036130584096829266, 0.00104001994701712, 0.9958933864079651, 0.0004457228344359086, 0.0023771884503248457, 0.00014857427814530286, 0.9980580114128342, 0.9990366613018997, 0.9991483749254908, 0.0018329056578724274, 0.9977116464352246, 0.9961671012471988, 0.0014021745247458225, 0.0020253632024106326, 0.000311594338832405, 0.00042825385952273025, 0.009421584909500066, 0.9896946693570297, 0.00042825385952273025, 0.9981295609727268, 0.0015415128354791146, 0.9989398799781352, 0.9995624846789283, 0.9995319202402125, 0.9987991155478846, 0.9992202500103489, 0.0004350109926035476, 0.0004350109926035476, 0.9985190961985935, 0.9984533784845661, 0.999634040818312, 0.0006108538572224455, 0.9987460565586984, 0.9997931306221582, 0.002088554109887471, 0.9936296177789643, 0.004177108219774942, 0.9995560138271065, 0.9975989000395965, 0.9989489312613996, 0.0008401588992947011, 0.9966819847038928, 0.0030363502961276248, 0.0006110440436770625, 0.9984459673683201, 0.0006110440436770625, 0.0006110440436770625, 0.9991395311076264, 0.0007615392767588616, 0.9979051752725288, 0.0018864001889213398, 0.0012576001259475599, 0.9960192997504674, 0.9985462662064769, 0.9981684874791152, 0.9996606386336419, 0.0017133672914467174, 0.9980364472677129, 0.9932312010309453, 0.0005505716191967546, 0.005505716191967546, 0.0005505716191967546, 0.9954486321375717, 0.002518529113567544, 0.001888896835175658, 0.9984070075727084, 0.9983571915994881, 0.0010492456033625729, 0.0005501093566799152, 0.9989985917307259, 0.0003281415279685099, 0.9995190941920811, 0.9984097890001234, 0.0009964169550899435, 0.0010333745484255926, 0.9982398137791224, 0.9991769883569502, 0.9993541126077782, 0.9991590068427896, 0.9992383622473703, 0.9990719244615088, 0.9967748526823039, 0.0023564417321094654, 0.9899723787396857, 0.006566980953497086, 0.0005472484127914238, 0.0021889936511656953, 0.0006061657127827378, 0.0018184971383482134, 0.9965364318148209, 0.0006061657127827378, 0.9980929512526783, 0.0012554628317643752, 0.9976454589262372, 0.001487912690419444, 0.00037579215515376447, 0.9996071327090135, 0.9993740074490307, 0.9989344185939113, 0.0009236569721607314, 0.9987041011487908, 0.00023091424304018285, 0.00023091424304018285, 0.0009040392734648742, 0.998059357905221, 0.0009040392734648742, 0.9992618648566546, 0.9982754571905101, 0.9992651963929371, 0.9991933568000244, 0.00029933893253445906, 0.0006068320513332562, 0.9988455564945397, 0.9995374146720216, 0.000984601462896182, 0.0011487017067122122, 0.00032820048763206066, 0.0008205012190801517, 0.9967448809385682, 0.9990954004585672, 0.0006718866176587539, 0.002214833518913598, 0.00010546826280540943, 0.00010546826280540943, 0.00010546826280540943, 0.9975188296135624, 0.9988066726803035, 0.0008813000053061502, 0.0010396640166337708, 0.0010396640166337708, 0.9980774559684199, 0.9994331364758637, 0.0005073264652161745, 0.9992070370882189, 0.0006582391548670744, 0.9991981285130657, 0.998798549651592, 0.9951494397602111, 0.004371080994554368, 0.9974827255796314, 0.001529881480950355, 0.0007649407404751775, 0.00025571010249954615, 0.996144275297232, 5.114202049990923e-05, 0.003017379209494645, 0.0005114202049990923, 0.000857509662309925, 0.9981412469287527, 0.000857509662309925, 0.0012208932522298904, 0.9986906803240504, 0.0008749904856365229, 0.9983641441112726, 0.9988379070360234, 0.9992065486546238, 0.9990432211781493, 0.9991367297412075, 0.000565677297843285, 0.9978547533955547, 0.0016970318935298548, 0.999530722268622, 0.9989955210407322, 0.9987967783487721, 0.0005938938486839433, 0.9989294534863926, 0.00029694692434197164, 0.995258343752096, 0.004327210190226504, 0.9979017661844951, 0.0007424864331729874, 0.0007424864331729874, 0.0022202952231105753, 0.9969125551766483, 0.0006596161816838127, 0.00016490404542095316, 0.0008245202271047658, 0.0014841364087885783, 0.9968449545696618, 0.9993777345128286, 0.9995492209667338, 0.9994722745161346, 0.9871167597697036, 0.012880527114432667, 0.0004230337351133853, 0.0004230337351133853, 0.9992056823378161, 0.9982587738843605, 0.0016338114138860237, 0.9993049374519611, 0.9988001458278316, 0.9985970414408442, 0.9994216050080528, 0.0012377742092036796, 0.9982648997227677, 0.9934137914049879, 0.005637278765854282, 0.0006263643073171424, 0.0006263643073171424, 0.9984665003292285, 0.9979366404675885, 0.0016279553678100955, 0.0017572469475474028, 0.9976769544700379, 0.9981622736650346, 0.0008524016000555376, 0.9992985854960054, 0.0004645739588544888, 0.0005684658538323099, 0.0011369317076646197, 0.9982260393295361, 0.0016971683997469742, 0.00015428803634063402, 0.0013885923270657062, 0.9968550027968365, 0.0001895172880058603, 0.0001895172880058603, 0.9995141769429073, 0.00164011675877806, 0.00164011675877806, 0.9963709309576715, 0.9989234292725734, 0.0010319456913972867, 0.0012372127967670993, 0.9961625035303094, 0.0008248085311780662, 0.0016496170623561323, 0.9989956392066806, 0.9994381222193258, 0.0008900565928803011, 0.9977534406188175, 0.0008900565928803011, 0.0007937997378194214, 0.9986000701768322, 0.9994299622489716, 0.00037700111740813716, 0.0006310009246512623, 0.9988744637229482, 0.9992874795514647, 0.9997409343816671, 0.998739624650848, 0.9989394837394273, 0.9992784434529569, 0.9989654253238611, 0.997824905741656, 0.00036765840299987325, 0.001470633611999493, 0.9966528793681665, 0.002818588459751602, 0.9974596462626552, 0.0022554203420297463, 0.9988257355862138, 0.9990669334047028, 0.9978624680210204, 0.9974561859863641, 0.0021102740183068353, 0.9990206508758132, 0.9994656139704529, 0.00041419886296687825, 0.9990476574761104, 0.00041419886296687825, 0.9991806030796564, 0.998151763157604, 0.9995635559441161, 0.9984070292563685, 0.9991154946499711, 0.002015637732858269, 0.9977406777648433, 0.9997810608341416, 0.999592902480218, 4.461392910636742e-05, 4.461392910636742e-05, 0.0007138228657018787, 0.9985489612587156, 0.0006692089365955113, 0.9986414059848004, 0.9984308779749687, 0.000623074525001708, 0.998788463577738, 0.9989975179074646, 0.9997252578314839, 0.0006861188315800423, 0.9989890187805416, 0.9981829883857639, 0.998729734629643, 0.0007966544485839528, 0.9982080240756929, 0.0007966544485839528, 0.9993205132740192, 0.9987435058512981, 0.9957369599137535, 0.0036540805868394625, 0.9983404187866924, 0.0007685226782514489, 0.9983109590486322, 0.0007685226782514489, 0.9983391240474084, 0.0016402362846213755, 0.998083779192107, 9.549701910069876e-05, 0.00019099403820139752, 9.549701910069876e-05, 0.0035333897067258545, 0.9961294062393888, 0.9986869069164832, 0.9983658318190416, 0.00025753202884412076, 8.584400961470693e-05, 0.00017168801922941385, 0.0011159721249911902, 0.0029150308017606057, 0.9969405342021271, 0.999258674394292, 0.0005090467011687682, 0.0005090467011687682, 0.993333705766029, 0.004476996983734215, 0.0022384984918671076, 0.0005169972949350873, 0.9993557711095237, 0.999278901015125, 0.0013363618183259616, 0.9982622782894933, 0.00533336823690522, 0.9939458986959728, 0.00048485165790047456, 0.9991580790266085, 0.0008018925192829924, 0.0009277393839110051, 0.9976290841656341, 0.0012369858452146735, 0.9988531591710942, 0.0007248571546960045, 0.0006984782701162266, 0.00013969565402324532, 0.9989636219202273, 0.00013969565402324532, 0.9990846407855914, 0.9981810362652116, 0.998656345937489, 0.9989027257418699, 0.0005564917692155264, 0.9978039774884434, 0.9991917709353566, 0.0014993498877929794, 0.0009995665918619862, 0.9975674586782622, 0.9987936846101613, 0.00023866037864042085, 0.000835311325241473, 0.997878488160255, 0.9941183069098882, 0.0018025717260378752, 0.0009012858630189376, 0.0018025717260378752, 0.0005646643640235518, 0.9988912599576633, 0.0019485220495310898, 0.997643289359918, 0.9971401125251014, 0.0005605059654441266, 0.00168151789633238, 0.9993165646038772, 0.0007614078562408187, 0.99516006810675, 0.0030456314249632747, 0.9991313722399289, 0.9987505352908675, 0.001451948300052497, 0.9954557545159919, 0.0005807793200209988, 0.0026135069400944943, 0.9991892717153773, 0.9987624851913139, 0.9992667332464871, 0.008359351476854892, 0.0005224594673034307, 0.9911056094746081, 0.0005224594673034307, 0.0006975481823492267, 0.9988889971240926, 0.9997331867342968, 0.9988194616047984], \"Term\": [\"able\", \"able\", \"accommodation\", \"across\", \"airport\", \"also\", \"also\", \"always\", \"always\", \"always\", \"amazing\", \"amenity\", \"apologize\", \"appreciate\", \"appreciate\", \"area\", \"area\", \"around\", \"around\", \"around\", \"arrived\", \"atlanta\", \"available\", \"away\", \"away\", \"back\", \"back\", \"back\", \"bar\", \"bar\", \"bathroom\", \"bathroom\", \"bed\", \"bed\", \"bed\", \"bed\", \"bedroom\", \"best\", \"best\", \"best\", \"better\", \"better\", \"big\", \"booked\", \"booked\", \"breakfast\", \"breakfast\", \"breakfast\", \"breakfast\", \"breakfast\", \"building\", \"business\", \"car\", \"check\", \"check\", \"clean\", \"clean\", \"clean\", \"clean\", \"close\", \"close\", \"close\", \"close\", \"coffee\", \"coffee\", \"come\", \"comfortable\", \"comment\", \"convenient\", \"could\", \"could\", \"could\", \"couple\", \"courtyard\", \"day\", \"definitely\", \"definitely\", \"desk\", \"didnt\", \"didnt\", \"didnt\", \"diego\", \"directly\", \"distance\", \"distance\", \"dont\", \"dont\", \"door\", \"door\", \"door\", \"door\", \"downtown\", \"downtown\", \"due\", \"easy\", \"easy\", \"easy\", \"elevator\", \"enjoy\", \"enjoyed\", \"enough\", \"enough\", \"even\", \"even\", \"even\", \"even\", \"every\", \"every\", \"every\", \"everyone\", \"everything\", \"everything\", \"excellent\", \"excellent\", \"experience\", \"experience\", \"extremely\", \"extremely\", \"family\", \"family\", \"fantastic\", \"feedback\", \"feel\", \"find\", \"fine\", \"first\", \"first\", \"floor\", \"floor\", \"floor\", \"floor\", \"food\", \"food\", \"food\", \"food\", \"forward\", \"forward\", \"found\", \"found\", \"free\", \"free\", \"french\", \"friend\", \"friendly\", \"friendly\", \"friendly\", \"friendly\", \"front\", \"front\", \"front\", \"future\", \"garden\", \"gave\", \"get\", \"get\", \"glad\", \"glad\", \"go\", \"good\", \"good\", \"good\", \"good\", \"good\", \"got\", \"got\", \"great\", \"great\", \"great\", \"great\", \"great\", \"guest\", \"guest\", \"happy\", \"happy\", \"happy\", \"hear\", \"hear\", \"helpful\", \"helpful\", \"hilton\", \"home\", \"hope\", \"hope\", \"hot\", \"hot\", \"hot\", \"hotel\", \"hotel\", \"hotel\", \"hotel\", \"hotel\", \"im\", \"im\", \"im\", \"inn\", \"inn\", \"issue\", \"issue\", \"keep\", \"kept\", \"kid\", \"kind\", \"know\", \"know\", \"know\", \"large\", \"late\", \"let\", \"like\", \"like\", \"like\", \"little\", \"little\", \"lobby\", \"lobby\", \"lobby\", \"located\", \"located\", \"location\", \"location\", \"location\", \"location\", \"location\", \"look\", \"lot\", \"love\", \"made\", \"made\", \"make\", \"make\", \"make\", \"manager\", \"manager\", \"many\", \"market\", \"marriott\", \"member\", \"minute\", \"minute\", \"morning\", \"morning\", \"morning\", \"morning\", \"motel\", \"much\", \"much\", \"need\", \"need\", \"never\", \"never\", \"new\", \"new\", \"next\", \"next\", \"next\", \"nice\", \"nice\", \"nice\", \"nice\", \"night\", \"night\", \"night\", \"noise\", \"noise\", \"noise\", \"offer\", \"offer\", \"one\", \"one\", \"one\", \"one\", \"orleans\", \"outside\", \"overall\", \"overall\", \"overall\", \"park\", \"park\", \"parking\", \"parking\", \"people\", \"people\", \"perfect\", \"place\", \"pleasant\", \"please\", \"plus\", \"point\", \"pool\", \"pool\", \"pool\", \"price\", \"price\", \"property\", \"property\", \"provide\", \"quarter\", \"quick\", \"quiet\", \"quiet\", \"quite\", \"rate\", \"really\", \"really\", \"really\", \"recent\", \"recently\", \"recommend\", \"regarding\", \"reservation\", \"restaurant\", \"restaurant\", \"review\", \"right\", \"room\", \"room\", \"room\", \"room\", \"room\", \"safe\", \"said\", \"san\", \"san\", \"seattle\", \"see\", \"service\", \"service\", \"short\", \"shower\", \"shuttle\", \"shuttle\", \"shuttle\", \"since\", \"sleep\", \"small\", \"small\", \"something\", \"soon\", \"soon\", \"soon\", \"sorry\", \"space\", \"space\", \"staff\", \"staff\", \"staff\", \"staff\", \"staff\", \"star\", \"stay\", \"stay\", \"stay\", \"stay\", \"stay\", \"stayed\", \"stayed\", \"staying\", \"staying\", \"staying\", \"street\", \"street\", \"street\", \"suite\", \"suite\", \"sure\", \"take\", \"take\", \"taking\", \"taking\", \"taking\", \"team\", \"team\", \"thank\", \"thank\", \"thank\", \"thing\", \"thing\", \"time\", \"time\", \"time\", \"time\", \"took\", \"towel\", \"town\", \"trip\", \"trip\", \"tub\", \"tv\", \"two\", \"two\", \"two\", \"u\", \"u\", \"u\", \"upon\", \"use\", \"use\", \"use\", \"use\", \"view\", \"view\", \"visit\", \"visit\", \"walk\", \"walk\", \"walk\", \"walking\", \"water\", \"water\", \"water\", \"way\", \"week\", \"well\", \"well\", \"well\", \"well\", \"went\", \"western\", \"within\", \"wonderful\", \"wonderful\", \"wonderful\", \"wonderful\", \"work\", \"work\", \"would\", \"year\"]}, \"R\": 30, \"lambda.step\": 0.01, \"plot.opts\": {\"xlab\": \"PC1\", \"ylab\": \"PC2\"}, \"topic.order\": [4, 2, 1, 3, 5]};\n",
       "\n",
       "function LDAvis_load_lib(url, callback){\n",
       "  var s = document.createElement('script');\n",
       "  s.src = url;\n",
       "  s.async = true;\n",
       "  s.onreadystatechange = s.onload = callback;\n",
       "  s.onerror = function(){console.warn(\"failed to load library \" + url);};\n",
       "  document.getElementsByTagName(\"head\")[0].appendChild(s);\n",
       "}\n",
       "\n",
       "if(typeof(LDAvis) !== \"undefined\"){\n",
       "   // already loaded: just create the visualization\n",
       "   !function(LDAvis){\n",
       "       new LDAvis(\"#\" + \"ldavis_el1064022355964389847359088148\", ldavis_el1064022355964389847359088148_data);\n",
       "   }(LDAvis);\n",
       "}else if(typeof define === \"function\" && define.amd){\n",
       "   // require.js is available: use it to load d3/LDAvis\n",
       "   require.config({paths: {d3: \"https://cdnjs.cloudflare.com/ajax/libs/d3/3.5.5/d3.min\"}});\n",
       "   require([\"d3\"], function(d3){\n",
       "      window.d3 = d3;\n",
       "      LDAvis_load_lib(\"https://cdn.rawgit.com/bmabey/pyLDAvis/files/ldavis.v1.0.0.js\", function(){\n",
       "        new LDAvis(\"#\" + \"ldavis_el1064022355964389847359088148\", ldavis_el1064022355964389847359088148_data);\n",
       "      });\n",
       "    });\n",
       "}else{\n",
       "    // require.js not available: dynamically load d3 & LDAvis\n",
       "    LDAvis_load_lib(\"https://cdnjs.cloudflare.com/ajax/libs/d3/3.5.5/d3.min.js\", function(){\n",
       "         LDAvis_load_lib(\"https://cdn.rawgit.com/bmabey/pyLDAvis/files/ldavis.v1.0.0.js\", function(){\n",
       "                 new LDAvis(\"#\" + \"ldavis_el1064022355964389847359088148\", ldavis_el1064022355964389847359088148_data);\n",
       "            })\n",
       "         });\n",
       "}\n",
       "</script>"
      ],
      "text/plain": [
       "PreparedData(topic_coordinates=              x         y  topics  cluster       Freq\n",
       "topic                                                \n",
       "3      0.226087 -0.304579       1        1  20.803505\n",
       "1     -0.383006 -0.120898       2        1  20.390009\n",
       "0      0.096949  0.290131       3        1  19.927031\n",
       "2     -0.029340  0.148833       4        1  19.455231\n",
       "4      0.089310 -0.013487       5        1  19.424223, topic_info=          Term          Freq         Total Category  logprob  loglift\n",
       "26587     room  22414.000000  22414.000000  Default  30.0000  30.0000\n",
       "14840    hotel  19553.000000  19553.000000  Default  29.0000  29.0000\n",
       "29777     stay  11649.000000  11649.000000  Default  28.0000  28.0000\n",
       "29564    staff  10471.000000  10471.000000  Default  27.0000  27.0000\n",
       "13414    great   9481.000000   9481.000000  Default  26.0000  26.0000\n",
       "...        ...           ...           ...      ...      ...      ...\n",
       "13948    happy   1919.798493   1923.698395   Topic5  -4.5135   1.6366\n",
       "9680      easy   1583.898865   1590.330630   Topic5  -4.7059   1.6346\n",
       "18070  located   1347.313074   1351.171668   Topic5  -4.8676   1.6358\n",
       "10212   enough   1164.720275   1167.292039   Topic5  -5.0133   1.6364\n",
       "2711       bar   1370.249484   1375.566240   Topic5  -4.8508   1.6348\n",
       "\n",
       "[252 rows x 6 columns], token_table=       Topic      Freq           Term\n",
       "term                                 \n",
       "38         2  0.998615           able\n",
       "38         5  0.000715           able\n",
       "182        5  0.998046  accommodation\n",
       "282        5  0.998961         across\n",
       "787        2  0.998847        airport\n",
       "...      ...       ...            ...\n",
       "35067      5  0.000522      wonderful\n",
       "35125      1  0.000698           work\n",
       "35125      5  0.998889           work\n",
       "35219      3  0.999733          would\n",
       "35373      1  0.998819           year\n",
       "\n",
       "[427 rows x 3 columns], R=30, lambda_step=0.01, plot_opts={'xlab': 'PC1', 'ylab': 'PC2'}, topic_order=[4, 2, 1, 3, 5])"
      ]
     },
     "execution_count": 109,
     "metadata": {},
     "output_type": "execute_result"
    }
   ],
   "source": [
    "LDAvis_data_filepath = os.path.join('visualizations/ldavis_prepared_'+str(num_topics_3))\n",
    "\n",
    "if 1 == 1:\n",
    "    LDAvis_prepared_3 = pyLDAvis.gensim.prepare(lda_model_3, corpus, id2word)\n",
    "    with open(LDAvis_data_filepath, 'wb') as f:\n",
    "        pickle.dump(LDAvis_prepared_3, f)\n",
    "        \n",
    "# load the pre-prepared pyLDAvis data from disk\n",
    "with open(LDAvis_data_filepath, 'rb') as f:\n",
    "    LDAvis_prepared_3 = pickle.load(f)\n",
    "pyLDAvis.save_html(LDAvis_prepared_3, 'visualizations/ldavis_prepared_'+ str(num_topics_3) +'.html')\n",
    "LDAvis_prepared_3"
   ]
  },
  {
   "cell_type": "markdown",
   "metadata": {},
   "source": [
    "## Deep Learning Methods\n",
    "- complete sentiment analysis (with visualization) using Word2Vec\n",
    "- model with CNN (1D)\n",
    "- model with RNN (with embedding layer, using only words that occur more than 30 times)"
   ]
  },
  {
   "cell_type": "markdown",
   "metadata": {},
   "source": [
    "## Engineering\n",
    "\n",
    "From data & models to a deployed product:\n",
    "- create package (init, setup, reqs, etc)\n",
    "- check formatting with Black\n",
    "- use MLflow to track performance of model iterations\n",
    "- train on GCP\n",
    "- build API with FastAPI and Uvicorn\n",
    "- build Docker image & deploy to Cloud Run (may also consider Heroku)\n",
    "- build UI; initial ideas:\n",
    "    - \"where do you want to go?\" User input of location\n",
    "    - Or could be \"what do you want to do?\" User input of activities with location then suggested\n",
    "    - Locations show map of hotel locations (using lat/lon to locate, Taxi Fare interface as a starting point)\n",
    "    - Location page shows average rating and number of ratings and some blurbs of what has been said\n",
    "- consider flask or streamlit for app (dependent on which works better with Cloud Run)"
   ]
  },
  {
   "cell_type": "markdown",
   "metadata": {},
   "source": [
    "## Kitt References\n",
    "- Machine Learning:\n",
    "    - Natural Language Processing\n",
    "    - Performance Metrics\n",
    "- Deep Learning:\n",
    "    - Natural Langauge Processing\n",
    "- Data Engineering:\n",
    "    - Code as a Product\n",
    "    - Machine Learning Iteration\n",
    "    - Train at Scale\n",
    "    - Predict in Production\n",
    "    - User Interface"
   ]
  },
  {
   "cell_type": "code",
   "execution_count": null,
   "metadata": {},
   "outputs": [],
   "source": []
  },
  {
   "cell_type": "code",
   "execution_count": null,
   "metadata": {},
   "outputs": [],
   "source": []
  }
 ],
 "metadata": {
  "kernelspec": {
   "display_name": "Python 3",
   "language": "python",
   "name": "python3"
  },
  "language_info": {
   "codemirror_mode": {
    "name": "ipython",
    "version": 3
   },
   "file_extension": ".py",
   "mimetype": "text/x-python",
   "name": "python",
   "nbconvert_exporter": "python",
   "pygments_lexer": "ipython3",
   "version": "3.7.7"
  },
  "toc": {
   "base_numbering": 1,
   "nav_menu": {},
   "number_sections": true,
   "sideBar": true,
   "skip_h1_title": false,
   "title_cell": "Table of Contents",
   "title_sidebar": "Contents",
   "toc_cell": false,
   "toc_position": {
    "height": "calc(100% - 180px)",
    "left": "10px",
    "top": "150px",
    "width": "307.2px"
   },
   "toc_section_display": true,
   "toc_window_display": true
  }
 },
 "nbformat": 4,
 "nbformat_minor": 4
}
