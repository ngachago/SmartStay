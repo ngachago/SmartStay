{
 "cells": [
  {
   "cell_type": "code",
   "execution_count": 1,
   "metadata": {},
   "outputs": [
    {
     "name": "stderr",
     "output_type": "stream",
     "text": [
      "[nltk_data] Downloading package stopwords to\n",
      "[nltk_data]     C:\\Users\\njeri\\AppData\\Roaming\\nltk_data...\n",
      "[nltk_data]   Package stopwords is already up-to-date!\n",
      "[nltk_data] Downloading package punkt to\n",
      "[nltk_data]     C:\\Users\\njeri\\AppData\\Roaming\\nltk_data...\n",
      "[nltk_data]   Package punkt is already up-to-date!\n",
      "[nltk_data] Downloading package wordnet to\n",
      "[nltk_data]     C:\\Users\\njeri\\AppData\\Roaming\\nltk_data...\n",
      "[nltk_data]   Package wordnet is already up-to-date!\n"
     ]
    }
   ],
   "source": [
    "# Data processing imports\n",
    "import pandas as pd\n",
    "from urllib.parse import urlparse\n",
    "import string\n",
    "from nltk.corpus import stopwords \n",
    "from nltk.tokenize import word_tokenize\n",
    "import nltk\n",
    "nltk.download('stopwords')\n",
    "nltk.download('punkt')\n",
    "from nltk.stem import WordNetLemmatizer\n",
    "nltk.download('wordnet')\n",
    "\n",
    "# ML modeling imports\n",
    "from sklearn.model_selection import GridSearchCV\n",
    "from sklearn.pipeline import Pipeline\n",
    "from sklearn.feature_extraction.text import TfidfVectorizer\n",
    "from sklearn.naive_bayes import MultinomialNB\n",
    "from sklearn.metrics import f1_score\n",
    "from sklearn.dummy import DummyClassifier\n",
    "from sklearn.decomposition import LatentDirichletAllocation as LDA\n",
    "from wordcloud import WordCloud\n",
    "import pyLDAvis.gensim\n",
    "import pickle \n",
    "import pyLDAvis\n",
    "import os"
   ]
  },
  {
   "cell_type": "code",
   "execution_count": 2,
   "metadata": {},
   "outputs": [
    {
     "name": "stderr",
     "output_type": "stream",
     "text": [
      "c:\\users\\njeri\\.venvs\\smart_stay\\lib\\site-packages\\ipykernel\\ipkernel.py:283: DeprecationWarning: `should_run_async` will not call `transform_cell` automatically in the future. Please pass the result to `transformed_cell` argument and any exception that happen during thetransform in `preprocessing_exc_tuple` in IPython 7.17 and above.\n",
      "  and should_run_async(code)\n"
     ]
    },
    {
     "data": {
      "text/plain": [
       "(10000, 25)"
      ]
     },
     "execution_count": 2,
     "metadata": {},
     "output_type": "execute_result"
    }
   ],
   "source": [
    "df_1 = pd.read_csv('data/Datafiniti_Hotel_Reviews.csv')\n",
    "df_1.shape"
   ]
  },
  {
   "cell_type": "code",
   "execution_count": 3,
   "metadata": {},
   "outputs": [
    {
     "name": "stderr",
     "output_type": "stream",
     "text": [
      "c:\\users\\njeri\\.venvs\\smart_stay\\lib\\site-packages\\ipykernel\\ipkernel.py:283: DeprecationWarning: `should_run_async` will not call `transform_cell` automatically in the future. Please pass the result to `transformed_cell` argument and any exception that happen during thetransform in `preprocessing_exc_tuple` in IPython 7.17 and above.\n",
      "  and should_run_async(code)\n"
     ]
    },
    {
     "data": {
      "text/plain": [
       "Index(['id', 'dateAdded', 'dateUpdated', 'address', 'categories',\n",
       "       'primaryCategories', 'city', 'country', 'keys', 'latitude', 'longitude',\n",
       "       'name', 'postalCode', 'province', 'reviews.date', 'reviews.dateAdded',\n",
       "       'reviews.dateSeen', 'reviews.rating', 'reviews.sourceURLs',\n",
       "       'reviews.text', 'reviews.title', 'reviews.userCity',\n",
       "       'reviews.userProvince', 'reviews.username', 'sourceURLs', 'websites'],\n",
       "      dtype='object')"
      ]
     },
     "execution_count": 3,
     "metadata": {},
     "output_type": "execute_result"
    }
   ],
   "source": [
    "df_2 = pd.read_csv('data/Datafiniti_Hotel_Reviews_Jun19.csv')\n",
    "df_2.columns"
   ]
  },
  {
   "cell_type": "code",
   "execution_count": 4,
   "metadata": {},
   "outputs": [
    {
     "name": "stderr",
     "output_type": "stream",
     "text": [
      "c:\\users\\njeri\\.venvs\\smart_stay\\lib\\site-packages\\ipykernel\\ipkernel.py:283: DeprecationWarning: `should_run_async` will not call `transform_cell` automatically in the future. Please pass the result to `transformed_cell` argument and any exception that happen during thetransform in `preprocessing_exc_tuple` in IPython 7.17 and above.\n",
      "  and should_run_async(code)\n"
     ]
    },
    {
     "data": {
      "text/plain": [
       "(10000, 25)"
      ]
     },
     "execution_count": 4,
     "metadata": {},
     "output_type": "execute_result"
    }
   ],
   "source": [
    "# Make sure columns match before concatenating\n",
    "df_2 = df_2.drop(columns='reviews.dateAdded')\n",
    "df_2.shape"
   ]
  },
  {
   "cell_type": "code",
   "execution_count": 5,
   "metadata": {},
   "outputs": [
    {
     "name": "stderr",
     "output_type": "stream",
     "text": [
      "c:\\users\\njeri\\.venvs\\smart_stay\\lib\\site-packages\\ipykernel\\ipkernel.py:283: DeprecationWarning: `should_run_async` will not call `transform_cell` automatically in the future. Please pass the result to `transformed_cell` argument and any exception that happen during thetransform in `preprocessing_exc_tuple` in IPython 7.17 and above.\n",
      "  and should_run_async(code)\n"
     ]
    },
    {
     "data": {
      "text/plain": [
       "(20000, 25)"
      ]
     },
     "execution_count": 5,
     "metadata": {},
     "output_type": "execute_result"
    }
   ],
   "source": [
    "data = pd.concat([df_1, df_2], ignore_index=True)\n",
    "data.shape"
   ]
  },
  {
   "cell_type": "code",
   "execution_count": 6,
   "metadata": {},
   "outputs": [
    {
     "name": "stderr",
     "output_type": "stream",
     "text": [
      "c:\\users\\njeri\\.venvs\\smart_stay\\lib\\site-packages\\ipykernel\\ipkernel.py:283: DeprecationWarning: `should_run_async` will not call `transform_cell` automatically in the future. Please pass the result to `transformed_cell` argument and any exception that happen during thetransform in `preprocessing_exc_tuple` in IPython 7.17 and above.\n",
      "  and should_run_async(code)\n"
     ]
    },
    {
     "data": {
      "text/html": [
       "<div>\n",
       "<style scoped>\n",
       "    .dataframe tbody tr th:only-of-type {\n",
       "        vertical-align: middle;\n",
       "    }\n",
       "\n",
       "    .dataframe tbody tr th {\n",
       "        vertical-align: top;\n",
       "    }\n",
       "\n",
       "    .dataframe thead th {\n",
       "        text-align: right;\n",
       "    }\n",
       "</style>\n",
       "<table border=\"1\" class=\"dataframe\">\n",
       "  <thead>\n",
       "    <tr style=\"text-align: right;\">\n",
       "      <th></th>\n",
       "      <th>id</th>\n",
       "      <th>dateAdded</th>\n",
       "      <th>dateUpdated</th>\n",
       "      <th>address</th>\n",
       "      <th>categories</th>\n",
       "      <th>primaryCategories</th>\n",
       "      <th>city</th>\n",
       "      <th>country</th>\n",
       "      <th>keys</th>\n",
       "      <th>latitude</th>\n",
       "      <th>...</th>\n",
       "      <th>reviews.dateSeen</th>\n",
       "      <th>reviews.rating</th>\n",
       "      <th>reviews.sourceURLs</th>\n",
       "      <th>reviews.text</th>\n",
       "      <th>reviews.title</th>\n",
       "      <th>reviews.userCity</th>\n",
       "      <th>reviews.userProvince</th>\n",
       "      <th>reviews.username</th>\n",
       "      <th>sourceURLs</th>\n",
       "      <th>websites</th>\n",
       "    </tr>\n",
       "  </thead>\n",
       "  <tbody>\n",
       "    <tr>\n",
       "      <th>0</th>\n",
       "      <td>AVwc252WIN2L1WUfpqLP</td>\n",
       "      <td>2016-10-30T21:42:42Z</td>\n",
       "      <td>2018-09-10T21:06:27Z</td>\n",
       "      <td>5921 Valencia Cir</td>\n",
       "      <td>Hotels,Hotels and motels,Hotel and motel reser...</td>\n",
       "      <td>Accommodation &amp; Food Services</td>\n",
       "      <td>Rancho Santa Fe</td>\n",
       "      <td>US</td>\n",
       "      <td>us/ca/ranchosantafe/5921valenciacir/359754519</td>\n",
       "      <td>32.990959</td>\n",
       "      <td>...</td>\n",
       "      <td>2016-08-03T00:00:00Z,2016-07-26T00:00:00Z,2016...</td>\n",
       "      <td>5.0</td>\n",
       "      <td>https://www.hotels.com/hotel/125419/reviews%20/</td>\n",
       "      <td>Our experience at Rancho Valencia was absolute...</td>\n",
       "      <td>Best romantic vacation ever!!!!</td>\n",
       "      <td>NaN</td>\n",
       "      <td>NaN</td>\n",
       "      <td>Paula</td>\n",
       "      <td>http://www.hotels.com/ho125419/%25252525253Flo...</td>\n",
       "      <td>http://www.ranchovalencia.com</td>\n",
       "    </tr>\n",
       "    <tr>\n",
       "      <th>1</th>\n",
       "      <td>AVwc252WIN2L1WUfpqLP</td>\n",
       "      <td>2016-10-30T21:42:42Z</td>\n",
       "      <td>2018-09-10T21:06:27Z</td>\n",
       "      <td>5921 Valencia Cir</td>\n",
       "      <td>Hotels,Hotels and motels,Hotel and motel reser...</td>\n",
       "      <td>Accommodation &amp; Food Services</td>\n",
       "      <td>Rancho Santa Fe</td>\n",
       "      <td>US</td>\n",
       "      <td>us/ca/ranchosantafe/5921valenciacir/359754519</td>\n",
       "      <td>32.990959</td>\n",
       "      <td>...</td>\n",
       "      <td>2016-08-02T00:00:00Z,2016-08-26T00:00:00Z,2016...</td>\n",
       "      <td>5.0</td>\n",
       "      <td>https://www.hotels.com/hotel/125419/reviews%20/</td>\n",
       "      <td>Amazing place. Everyone was extremely warm and...</td>\n",
       "      <td>Sweet sweet serenity</td>\n",
       "      <td>NaN</td>\n",
       "      <td>NaN</td>\n",
       "      <td>D</td>\n",
       "      <td>http://www.hotels.com/ho125419/%25252525253Flo...</td>\n",
       "      <td>http://www.ranchovalencia.com</td>\n",
       "    </tr>\n",
       "    <tr>\n",
       "      <th>2</th>\n",
       "      <td>AVwc252WIN2L1WUfpqLP</td>\n",
       "      <td>2016-10-30T21:42:42Z</td>\n",
       "      <td>2018-09-10T21:06:27Z</td>\n",
       "      <td>5921 Valencia Cir</td>\n",
       "      <td>Hotels,Hotels and motels,Hotel and motel reser...</td>\n",
       "      <td>Accommodation &amp; Food Services</td>\n",
       "      <td>Rancho Santa Fe</td>\n",
       "      <td>US</td>\n",
       "      <td>us/ca/ranchosantafe/5921valenciacir/359754519</td>\n",
       "      <td>32.990959</td>\n",
       "      <td>...</td>\n",
       "      <td>2016-11-15T00:00:00Z,2016-08-23T00:00:00Z,2016...</td>\n",
       "      <td>5.0</td>\n",
       "      <td>https://www.hotels.com/hotel/125419/reviews%20/</td>\n",
       "      <td>We booked a 3 night stay at Rancho Valencia to...</td>\n",
       "      <td>Amazing Property and Experience</td>\n",
       "      <td>NaN</td>\n",
       "      <td>NaN</td>\n",
       "      <td>Ron</td>\n",
       "      <td>http://www.hotels.com/ho125419/%25252525253Flo...</td>\n",
       "      <td>http://www.ranchovalencia.com</td>\n",
       "    </tr>\n",
       "  </tbody>\n",
       "</table>\n",
       "<p>3 rows × 25 columns</p>\n",
       "</div>"
      ],
      "text/plain": [
       "                     id             dateAdded           dateUpdated  \\\n",
       "0  AVwc252WIN2L1WUfpqLP  2016-10-30T21:42:42Z  2018-09-10T21:06:27Z   \n",
       "1  AVwc252WIN2L1WUfpqLP  2016-10-30T21:42:42Z  2018-09-10T21:06:27Z   \n",
       "2  AVwc252WIN2L1WUfpqLP  2016-10-30T21:42:42Z  2018-09-10T21:06:27Z   \n",
       "\n",
       "             address                                         categories  \\\n",
       "0  5921 Valencia Cir  Hotels,Hotels and motels,Hotel and motel reser...   \n",
       "1  5921 Valencia Cir  Hotels,Hotels and motels,Hotel and motel reser...   \n",
       "2  5921 Valencia Cir  Hotels,Hotels and motels,Hotel and motel reser...   \n",
       "\n",
       "               primaryCategories             city country  \\\n",
       "0  Accommodation & Food Services  Rancho Santa Fe      US   \n",
       "1  Accommodation & Food Services  Rancho Santa Fe      US   \n",
       "2  Accommodation & Food Services  Rancho Santa Fe      US   \n",
       "\n",
       "                                            keys   latitude  ...  \\\n",
       "0  us/ca/ranchosantafe/5921valenciacir/359754519  32.990959  ...   \n",
       "1  us/ca/ranchosantafe/5921valenciacir/359754519  32.990959  ...   \n",
       "2  us/ca/ranchosantafe/5921valenciacir/359754519  32.990959  ...   \n",
       "\n",
       "                                    reviews.dateSeen reviews.rating  \\\n",
       "0  2016-08-03T00:00:00Z,2016-07-26T00:00:00Z,2016...            5.0   \n",
       "1  2016-08-02T00:00:00Z,2016-08-26T00:00:00Z,2016...            5.0   \n",
       "2  2016-11-15T00:00:00Z,2016-08-23T00:00:00Z,2016...            5.0   \n",
       "\n",
       "                                reviews.sourceURLs  \\\n",
       "0  https://www.hotels.com/hotel/125419/reviews%20/   \n",
       "1  https://www.hotels.com/hotel/125419/reviews%20/   \n",
       "2  https://www.hotels.com/hotel/125419/reviews%20/   \n",
       "\n",
       "                                        reviews.text  \\\n",
       "0  Our experience at Rancho Valencia was absolute...   \n",
       "1  Amazing place. Everyone was extremely warm and...   \n",
       "2  We booked a 3 night stay at Rancho Valencia to...   \n",
       "\n",
       "                     reviews.title reviews.userCity  reviews.userProvince  \\\n",
       "0  Best romantic vacation ever!!!!              NaN                   NaN   \n",
       "1             Sweet sweet serenity              NaN                   NaN   \n",
       "2  Amazing Property and Experience              NaN                   NaN   \n",
       "\n",
       "  reviews.username                                         sourceURLs  \\\n",
       "0            Paula  http://www.hotels.com/ho125419/%25252525253Flo...   \n",
       "1                D  http://www.hotels.com/ho125419/%25252525253Flo...   \n",
       "2              Ron  http://www.hotels.com/ho125419/%25252525253Flo...   \n",
       "\n",
       "                        websites  \n",
       "0  http://www.ranchovalencia.com  \n",
       "1  http://www.ranchovalencia.com  \n",
       "2  http://www.ranchovalencia.com  \n",
       "\n",
       "[3 rows x 25 columns]"
      ]
     },
     "execution_count": 6,
     "metadata": {},
     "output_type": "execute_result"
    }
   ],
   "source": [
    "data.head(3)"
   ]
  },
  {
   "cell_type": "code",
   "execution_count": 7,
   "metadata": {},
   "outputs": [
    {
     "name": "stderr",
     "output_type": "stream",
     "text": [
      "c:\\users\\njeri\\.venvs\\smart_stay\\lib\\site-packages\\ipykernel\\ipkernel.py:283: DeprecationWarning: `should_run_async` will not call `transform_cell` automatically in the future. Please pass the result to `transformed_cell` argument and any exception that happen during thetransform in `preprocessing_exc_tuple` in IPython 7.17 and above.\n",
      "  and should_run_async(code)\n"
     ]
    },
    {
     "data": {
      "text/plain": [
       "Index(['id', 'dateAdded', 'dateUpdated', 'address', 'categories',\n",
       "       'primaryCategories', 'city', 'country', 'keys', 'latitude', 'longitude',\n",
       "       'name', 'postalCode', 'province', 'reviews.date', 'reviews.dateSeen',\n",
       "       'reviews.rating', 'reviews.sourceURLs', 'reviews.text', 'reviews.title',\n",
       "       'reviews.userCity', 'reviews.userProvince', 'reviews.username',\n",
       "       'sourceURLs', 'websites'],\n",
       "      dtype='object')"
      ]
     },
     "execution_count": 7,
     "metadata": {},
     "output_type": "execute_result"
    }
   ],
   "source": [
    "data.columns"
   ]
  },
  {
   "cell_type": "markdown",
   "metadata": {
    "heading_collapsed": true
   },
   "source": [
    "## Look for missing values"
   ]
  },
  {
   "cell_type": "code",
   "execution_count": 8,
   "metadata": {
    "hidden": true
   },
   "outputs": [
    {
     "name": "stderr",
     "output_type": "stream",
     "text": [
      "c:\\users\\njeri\\.venvs\\smart_stay\\lib\\site-packages\\ipykernel\\ipkernel.py:283: DeprecationWarning: `should_run_async` will not call `transform_cell` automatically in the future. Please pass the result to `transformed_cell` argument and any exception that happen during thetransform in `preprocessing_exc_tuple` in IPython 7.17 and above.\n",
      "  and should_run_async(code)\n"
     ]
    },
    {
     "data": {
      "text/plain": [
       "id                         0\n",
       "dateAdded                  0\n",
       "dateUpdated                0\n",
       "address                    0\n",
       "categories                 0\n",
       "primaryCategories          0\n",
       "city                       0\n",
       "country                    0\n",
       "keys                       0\n",
       "latitude                   0\n",
       "longitude                  0\n",
       "name                       0\n",
       "postalCode                 0\n",
       "province                   0\n",
       "reviews.date               0\n",
       "reviews.dateSeen           0\n",
       "reviews.rating             0\n",
       "reviews.sourceURLs         0\n",
       "reviews.text               1\n",
       "reviews.title              2\n",
       "reviews.userCity        5836\n",
       "reviews.userProvince    7297\n",
       "reviews.username           0\n",
       "sourceURLs                 0\n",
       "websites                   0\n",
       "dtype: int64"
      ]
     },
     "execution_count": 8,
     "metadata": {},
     "output_type": "execute_result"
    }
   ],
   "source": [
    "data.isnull().sum()"
   ]
  },
  {
   "cell_type": "code",
   "execution_count": 9,
   "metadata": {
    "hidden": true
   },
   "outputs": [
    {
     "name": "stderr",
     "output_type": "stream",
     "text": [
      "c:\\users\\njeri\\.venvs\\smart_stay\\lib\\site-packages\\ipykernel\\ipkernel.py:283: DeprecationWarning: `should_run_async` will not call `transform_cell` automatically in the future. Please pass the result to `transformed_cell` argument and any exception that happen during thetransform in `preprocessing_exc_tuple` in IPython 7.17 and above.\n",
      "  and should_run_async(code)\n"
     ]
    },
    {
     "data": {
      "text/plain": [
       "(20000, 23)"
      ]
     },
     "execution_count": 9,
     "metadata": {},
     "output_type": "execute_result"
    }
   ],
   "source": [
    "# ~30% or more of data missing\n",
    "data = data.drop(columns=['reviews.userCity', 'reviews.userProvince'])\n",
    "data.shape"
   ]
  },
  {
   "cell_type": "code",
   "execution_count": 10,
   "metadata": {
    "hidden": true
   },
   "outputs": [
    {
     "name": "stderr",
     "output_type": "stream",
     "text": [
      "c:\\users\\njeri\\.venvs\\smart_stay\\lib\\site-packages\\ipykernel\\ipkernel.py:283: DeprecationWarning: `should_run_async` will not call `transform_cell` automatically in the future. Please pass the result to `transformed_cell` argument and any exception that happen during thetransform in `preprocessing_exc_tuple` in IPython 7.17 and above.\n",
      "  and should_run_async(code)\n"
     ]
    },
    {
     "data": {
      "text/plain": [
       "id                    0\n",
       "dateAdded             0\n",
       "dateUpdated           0\n",
       "address               0\n",
       "categories            0\n",
       "primaryCategories     0\n",
       "city                  0\n",
       "country               0\n",
       "keys                  0\n",
       "latitude              0\n",
       "longitude             0\n",
       "name                  0\n",
       "postalCode            0\n",
       "province              0\n",
       "reviews.date          0\n",
       "reviews.dateSeen      0\n",
       "reviews.rating        0\n",
       "reviews.sourceURLs    0\n",
       "reviews.text          1\n",
       "reviews.title         2\n",
       "reviews.username      0\n",
       "sourceURLs            0\n",
       "websites              0\n",
       "dtype: int64"
      ]
     },
     "execution_count": 10,
     "metadata": {},
     "output_type": "execute_result"
    }
   ],
   "source": [
    "data.isnull().sum()"
   ]
  },
  {
   "cell_type": "code",
   "execution_count": 11,
   "metadata": {
    "hidden": true
   },
   "outputs": [
    {
     "name": "stderr",
     "output_type": "stream",
     "text": [
      "c:\\users\\njeri\\.venvs\\smart_stay\\lib\\site-packages\\ipykernel\\ipkernel.py:283: DeprecationWarning: `should_run_async` will not call `transform_cell` automatically in the future. Please pass the result to `transformed_cell` argument and any exception that happen during thetransform in `preprocessing_exc_tuple` in IPython 7.17 and above.\n",
      "  and should_run_async(code)\n"
     ]
    },
    {
     "data": {
      "text/plain": [
       "(19997, 23)"
      ]
     },
     "execution_count": 11,
     "metadata": {},
     "output_type": "execute_result"
    }
   ],
   "source": [
    "# NLP of reviews therefore drop missing reviews\n",
    "data = data.dropna()\n",
    "data.shape"
   ]
  },
  {
   "cell_type": "markdown",
   "metadata": {
    "heading_collapsed": true
   },
   "source": [
    "## Handle time data\n",
    "\n",
    "- dateAdded is date info was added to Datafiniti - not needed for this exercise\n",
    "- remove dateUpdated column\n",
    "- remove dateAdded column\n",
    "- remove reviews.dateSeen - not needed for this exercise\n",
    "- convert review.date to date/time dtype:\n",
    "    - parse month and year to separate columns\n",
    "    - create season column"
   ]
  },
  {
   "cell_type": "code",
   "execution_count": 12,
   "metadata": {
    "hidden": true
   },
   "outputs": [
    {
     "name": "stdout",
     "output_type": "stream",
     "text": [
      "<class 'pandas.core.frame.DataFrame'>\n",
      "Int64Index: 19997 entries, 0 to 19999\n",
      "Data columns (total 23 columns):\n",
      " #   Column              Non-Null Count  Dtype  \n",
      "---  ------              --------------  -----  \n",
      " 0   id                  19997 non-null  object \n",
      " 1   dateAdded           19997 non-null  object \n",
      " 2   dateUpdated         19997 non-null  object \n",
      " 3   address             19997 non-null  object \n",
      " 4   categories          19997 non-null  object \n",
      " 5   primaryCategories   19997 non-null  object \n",
      " 6   city                19997 non-null  object \n",
      " 7   country             19997 non-null  object \n",
      " 8   keys                19997 non-null  object \n",
      " 9   latitude            19997 non-null  float64\n",
      " 10  longitude           19997 non-null  float64\n",
      " 11  name                19997 non-null  object \n",
      " 12  postalCode          19997 non-null  object \n",
      " 13  province            19997 non-null  object \n",
      " 14  reviews.date        19997 non-null  object \n",
      " 15  reviews.dateSeen    19997 non-null  object \n",
      " 16  reviews.rating      19997 non-null  float64\n",
      " 17  reviews.sourceURLs  19997 non-null  object \n",
      " 18  reviews.text        19997 non-null  object \n",
      " 19  reviews.title       19997 non-null  object \n",
      " 20  reviews.username    19997 non-null  object \n",
      " 21  sourceURLs          19997 non-null  object \n",
      " 22  websites            19997 non-null  object \n",
      "dtypes: float64(3), object(20)\n",
      "memory usage: 3.7+ MB\n"
     ]
    },
    {
     "name": "stderr",
     "output_type": "stream",
     "text": [
      "c:\\users\\njeri\\.venvs\\smart_stay\\lib\\site-packages\\ipykernel\\ipkernel.py:283: DeprecationWarning: `should_run_async` will not call `transform_cell` automatically in the future. Please pass the result to `transformed_cell` argument and any exception that happen during thetransform in `preprocessing_exc_tuple` in IPython 7.17 and above.\n",
      "  and should_run_async(code)\n"
     ]
    }
   ],
   "source": [
    "data.info()"
   ]
  },
  {
   "cell_type": "code",
   "execution_count": 13,
   "metadata": {
    "hidden": true
   },
   "outputs": [
    {
     "name": "stderr",
     "output_type": "stream",
     "text": [
      "c:\\users\\njeri\\.venvs\\smart_stay\\lib\\site-packages\\ipykernel\\ipkernel.py:283: DeprecationWarning: `should_run_async` will not call `transform_cell` automatically in the future. Please pass the result to `transformed_cell` argument and any exception that happen during thetransform in `preprocessing_exc_tuple` in IPython 7.17 and above.\n",
      "  and should_run_async(code)\n"
     ]
    },
    {
     "data": {
      "text/plain": [
       "(19997, 20)"
      ]
     },
     "execution_count": 13,
     "metadata": {},
     "output_type": "execute_result"
    }
   ],
   "source": [
    "data = data.drop(columns=['dateAdded', 'dateUpdated', 'reviews.dateSeen'])\n",
    "data.shape"
   ]
  },
  {
   "cell_type": "code",
   "execution_count": 14,
   "metadata": {
    "hidden": true
   },
   "outputs": [
    {
     "name": "stdout",
     "output_type": "stream",
     "text": [
      "<class 'pandas.core.frame.DataFrame'>\n",
      "Int64Index: 19997 entries, 0 to 19999\n",
      "Data columns (total 20 columns):\n",
      " #   Column              Non-Null Count  Dtype              \n",
      "---  ------              --------------  -----              \n",
      " 0   id                  19997 non-null  object             \n",
      " 1   address             19997 non-null  object             \n",
      " 2   categories          19997 non-null  object             \n",
      " 3   primaryCategories   19997 non-null  object             \n",
      " 4   city                19997 non-null  object             \n",
      " 5   country             19997 non-null  object             \n",
      " 6   keys                19997 non-null  object             \n",
      " 7   latitude            19997 non-null  float64            \n",
      " 8   longitude           19997 non-null  float64            \n",
      " 9   name                19997 non-null  object             \n",
      " 10  postalCode          19997 non-null  object             \n",
      " 11  province            19997 non-null  object             \n",
      " 12  reviews.date        19997 non-null  datetime64[ns, UTC]\n",
      " 13  reviews.rating      19997 non-null  float64            \n",
      " 14  reviews.sourceURLs  19997 non-null  object             \n",
      " 15  reviews.text        19997 non-null  object             \n",
      " 16  reviews.title       19997 non-null  object             \n",
      " 17  reviews.username    19997 non-null  object             \n",
      " 18  sourceURLs          19997 non-null  object             \n",
      " 19  websites            19997 non-null  object             \n",
      "dtypes: datetime64[ns, UTC](1), float64(3), object(16)\n",
      "memory usage: 3.2+ MB\n"
     ]
    },
    {
     "name": "stderr",
     "output_type": "stream",
     "text": [
      "c:\\users\\njeri\\.venvs\\smart_stay\\lib\\site-packages\\ipykernel\\ipkernel.py:283: DeprecationWarning: `should_run_async` will not call `transform_cell` automatically in the future. Please pass the result to `transformed_cell` argument and any exception that happen during thetransform in `preprocessing_exc_tuple` in IPython 7.17 and above.\n",
      "  and should_run_async(code)\n"
     ]
    }
   ],
   "source": [
    "data['reviews.date'] = pd.to_datetime(data['reviews.date'])\n",
    "data.info()"
   ]
  },
  {
   "cell_type": "code",
   "execution_count": 15,
   "metadata": {
    "hidden": true
   },
   "outputs": [
    {
     "name": "stderr",
     "output_type": "stream",
     "text": [
      "c:\\users\\njeri\\.venvs\\smart_stay\\lib\\site-packages\\ipykernel\\ipkernel.py:283: DeprecationWarning: `should_run_async` will not call `transform_cell` automatically in the future. Please pass the result to `transformed_cell` argument and any exception that happen during thetransform in `preprocessing_exc_tuple` in IPython 7.17 and above.\n",
      "  and should_run_async(code)\n"
     ]
    },
    {
     "data": {
      "text/html": [
       "<div>\n",
       "<style scoped>\n",
       "    .dataframe tbody tr th:only-of-type {\n",
       "        vertical-align: middle;\n",
       "    }\n",
       "\n",
       "    .dataframe tbody tr th {\n",
       "        vertical-align: top;\n",
       "    }\n",
       "\n",
       "    .dataframe thead th {\n",
       "        text-align: right;\n",
       "    }\n",
       "</style>\n",
       "<table border=\"1\" class=\"dataframe\">\n",
       "  <thead>\n",
       "    <tr style=\"text-align: right;\">\n",
       "      <th></th>\n",
       "      <th>id</th>\n",
       "      <th>address</th>\n",
       "      <th>categories</th>\n",
       "      <th>primaryCategories</th>\n",
       "      <th>city</th>\n",
       "      <th>country</th>\n",
       "      <th>keys</th>\n",
       "      <th>latitude</th>\n",
       "      <th>longitude</th>\n",
       "      <th>name</th>\n",
       "      <th>...</th>\n",
       "      <th>reviews.date</th>\n",
       "      <th>reviews.rating</th>\n",
       "      <th>reviews.sourceURLs</th>\n",
       "      <th>reviews.text</th>\n",
       "      <th>reviews.title</th>\n",
       "      <th>reviews.username</th>\n",
       "      <th>sourceURLs</th>\n",
       "      <th>websites</th>\n",
       "      <th>month</th>\n",
       "      <th>year</th>\n",
       "    </tr>\n",
       "  </thead>\n",
       "  <tbody>\n",
       "    <tr>\n",
       "      <th>0</th>\n",
       "      <td>AVwc252WIN2L1WUfpqLP</td>\n",
       "      <td>5921 Valencia Cir</td>\n",
       "      <td>Hotels,Hotels and motels,Hotel and motel reser...</td>\n",
       "      <td>Accommodation &amp; Food Services</td>\n",
       "      <td>Rancho Santa Fe</td>\n",
       "      <td>US</td>\n",
       "      <td>us/ca/ranchosantafe/5921valenciacir/359754519</td>\n",
       "      <td>32.990959</td>\n",
       "      <td>-117.186136</td>\n",
       "      <td>Rancho Valencia Resort Spa</td>\n",
       "      <td>...</td>\n",
       "      <td>2013-11-14 00:00:00+00:00</td>\n",
       "      <td>5.0</td>\n",
       "      <td>https://www.hotels.com/hotel/125419/reviews%20/</td>\n",
       "      <td>Our experience at Rancho Valencia was absolute...</td>\n",
       "      <td>Best romantic vacation ever!!!!</td>\n",
       "      <td>Paula</td>\n",
       "      <td>http://www.hotels.com/ho125419/%25252525253Flo...</td>\n",
       "      <td>http://www.ranchovalencia.com</td>\n",
       "      <td>11</td>\n",
       "      <td>2013</td>\n",
       "    </tr>\n",
       "    <tr>\n",
       "      <th>1</th>\n",
       "      <td>AVwc252WIN2L1WUfpqLP</td>\n",
       "      <td>5921 Valencia Cir</td>\n",
       "      <td>Hotels,Hotels and motels,Hotel and motel reser...</td>\n",
       "      <td>Accommodation &amp; Food Services</td>\n",
       "      <td>Rancho Santa Fe</td>\n",
       "      <td>US</td>\n",
       "      <td>us/ca/ranchosantafe/5921valenciacir/359754519</td>\n",
       "      <td>32.990959</td>\n",
       "      <td>-117.186136</td>\n",
       "      <td>Rancho Valencia Resort Spa</td>\n",
       "      <td>...</td>\n",
       "      <td>2014-07-06 00:00:00+00:00</td>\n",
       "      <td>5.0</td>\n",
       "      <td>https://www.hotels.com/hotel/125419/reviews%20/</td>\n",
       "      <td>Amazing place. Everyone was extremely warm and...</td>\n",
       "      <td>Sweet sweet serenity</td>\n",
       "      <td>D</td>\n",
       "      <td>http://www.hotels.com/ho125419/%25252525253Flo...</td>\n",
       "      <td>http://www.ranchovalencia.com</td>\n",
       "      <td>7</td>\n",
       "      <td>2014</td>\n",
       "    </tr>\n",
       "    <tr>\n",
       "      <th>2</th>\n",
       "      <td>AVwc252WIN2L1WUfpqLP</td>\n",
       "      <td>5921 Valencia Cir</td>\n",
       "      <td>Hotels,Hotels and motels,Hotel and motel reser...</td>\n",
       "      <td>Accommodation &amp; Food Services</td>\n",
       "      <td>Rancho Santa Fe</td>\n",
       "      <td>US</td>\n",
       "      <td>us/ca/ranchosantafe/5921valenciacir/359754519</td>\n",
       "      <td>32.990959</td>\n",
       "      <td>-117.186136</td>\n",
       "      <td>Rancho Valencia Resort Spa</td>\n",
       "      <td>...</td>\n",
       "      <td>2015-01-02 00:00:00+00:00</td>\n",
       "      <td>5.0</td>\n",
       "      <td>https://www.hotels.com/hotel/125419/reviews%20/</td>\n",
       "      <td>We booked a 3 night stay at Rancho Valencia to...</td>\n",
       "      <td>Amazing Property and Experience</td>\n",
       "      <td>Ron</td>\n",
       "      <td>http://www.hotels.com/ho125419/%25252525253Flo...</td>\n",
       "      <td>http://www.ranchovalencia.com</td>\n",
       "      <td>1</td>\n",
       "      <td>2015</td>\n",
       "    </tr>\n",
       "    <tr>\n",
       "      <th>3</th>\n",
       "      <td>AVwdOclqIN2L1WUfti38</td>\n",
       "      <td>7520 Teague Rd</td>\n",
       "      <td>Hotels,Hotels and motels,Travel agencies and b...</td>\n",
       "      <td>Accommodation &amp; Food Services</td>\n",
       "      <td>Hanover</td>\n",
       "      <td>US</td>\n",
       "      <td>us/md/hanover/7520teaguerd/-2043779672</td>\n",
       "      <td>39.155929</td>\n",
       "      <td>-76.716341</td>\n",
       "      <td>Aloft Arundel Mills</td>\n",
       "      <td>...</td>\n",
       "      <td>2016-05-15 00:00:00+00:00</td>\n",
       "      <td>2.0</td>\n",
       "      <td>https://www.tripadvisor.com/Hotel_Review-g4118...</td>\n",
       "      <td>Currently in bed writing this for the past hr ...</td>\n",
       "      <td>Never again...beware, if you want sleep.</td>\n",
       "      <td>jaeem2016</td>\n",
       "      <td>http://www.yellowbook.com/profile/aloft-arunde...</td>\n",
       "      <td>http://www.starwoodhotels.com/alofthotels/prop...</td>\n",
       "      <td>5</td>\n",
       "      <td>2016</td>\n",
       "    </tr>\n",
       "    <tr>\n",
       "      <th>4</th>\n",
       "      <td>AVwdOclqIN2L1WUfti38</td>\n",
       "      <td>7520 Teague Rd</td>\n",
       "      <td>Hotels,Hotels and motels,Travel agencies and b...</td>\n",
       "      <td>Accommodation &amp; Food Services</td>\n",
       "      <td>Hanover</td>\n",
       "      <td>US</td>\n",
       "      <td>us/md/hanover/7520teaguerd/-2043779672</td>\n",
       "      <td>39.155929</td>\n",
       "      <td>-76.716341</td>\n",
       "      <td>Aloft Arundel Mills</td>\n",
       "      <td>...</td>\n",
       "      <td>2016-07-09 00:00:00+00:00</td>\n",
       "      <td>5.0</td>\n",
       "      <td>https://www.tripadvisor.com/Hotel_Review-g4118...</td>\n",
       "      <td>I live in Md and the Aloft is my Home away fro...</td>\n",
       "      <td>ALWAYS GREAT STAY...</td>\n",
       "      <td>MamaNiaOne</td>\n",
       "      <td>http://www.yellowbook.com/profile/aloft-arunde...</td>\n",
       "      <td>http://www.starwoodhotels.com/alofthotels/prop...</td>\n",
       "      <td>7</td>\n",
       "      <td>2016</td>\n",
       "    </tr>\n",
       "  </tbody>\n",
       "</table>\n",
       "<p>5 rows × 22 columns</p>\n",
       "</div>"
      ],
      "text/plain": [
       "                     id            address  \\\n",
       "0  AVwc252WIN2L1WUfpqLP  5921 Valencia Cir   \n",
       "1  AVwc252WIN2L1WUfpqLP  5921 Valencia Cir   \n",
       "2  AVwc252WIN2L1WUfpqLP  5921 Valencia Cir   \n",
       "3  AVwdOclqIN2L1WUfti38     7520 Teague Rd   \n",
       "4  AVwdOclqIN2L1WUfti38     7520 Teague Rd   \n",
       "\n",
       "                                          categories  \\\n",
       "0  Hotels,Hotels and motels,Hotel and motel reser...   \n",
       "1  Hotels,Hotels and motels,Hotel and motel reser...   \n",
       "2  Hotels,Hotels and motels,Hotel and motel reser...   \n",
       "3  Hotels,Hotels and motels,Travel agencies and b...   \n",
       "4  Hotels,Hotels and motels,Travel agencies and b...   \n",
       "\n",
       "               primaryCategories             city country  \\\n",
       "0  Accommodation & Food Services  Rancho Santa Fe      US   \n",
       "1  Accommodation & Food Services  Rancho Santa Fe      US   \n",
       "2  Accommodation & Food Services  Rancho Santa Fe      US   \n",
       "3  Accommodation & Food Services          Hanover      US   \n",
       "4  Accommodation & Food Services          Hanover      US   \n",
       "\n",
       "                                            keys   latitude   longitude  \\\n",
       "0  us/ca/ranchosantafe/5921valenciacir/359754519  32.990959 -117.186136   \n",
       "1  us/ca/ranchosantafe/5921valenciacir/359754519  32.990959 -117.186136   \n",
       "2  us/ca/ranchosantafe/5921valenciacir/359754519  32.990959 -117.186136   \n",
       "3         us/md/hanover/7520teaguerd/-2043779672  39.155929  -76.716341   \n",
       "4         us/md/hanover/7520teaguerd/-2043779672  39.155929  -76.716341   \n",
       "\n",
       "                         name  ...              reviews.date reviews.rating  \\\n",
       "0  Rancho Valencia Resort Spa  ... 2013-11-14 00:00:00+00:00            5.0   \n",
       "1  Rancho Valencia Resort Spa  ... 2014-07-06 00:00:00+00:00            5.0   \n",
       "2  Rancho Valencia Resort Spa  ... 2015-01-02 00:00:00+00:00            5.0   \n",
       "3         Aloft Arundel Mills  ... 2016-05-15 00:00:00+00:00            2.0   \n",
       "4         Aloft Arundel Mills  ... 2016-07-09 00:00:00+00:00            5.0   \n",
       "\n",
       "                                  reviews.sourceURLs  \\\n",
       "0    https://www.hotels.com/hotel/125419/reviews%20/   \n",
       "1    https://www.hotels.com/hotel/125419/reviews%20/   \n",
       "2    https://www.hotels.com/hotel/125419/reviews%20/   \n",
       "3  https://www.tripadvisor.com/Hotel_Review-g4118...   \n",
       "4  https://www.tripadvisor.com/Hotel_Review-g4118...   \n",
       "\n",
       "                                        reviews.text  \\\n",
       "0  Our experience at Rancho Valencia was absolute...   \n",
       "1  Amazing place. Everyone was extremely warm and...   \n",
       "2  We booked a 3 night stay at Rancho Valencia to...   \n",
       "3  Currently in bed writing this for the past hr ...   \n",
       "4  I live in Md and the Aloft is my Home away fro...   \n",
       "\n",
       "                              reviews.title reviews.username  \\\n",
       "0           Best romantic vacation ever!!!!            Paula   \n",
       "1                      Sweet sweet serenity                D   \n",
       "2           Amazing Property and Experience              Ron   \n",
       "3  Never again...beware, if you want sleep.        jaeem2016   \n",
       "4                      ALWAYS GREAT STAY...       MamaNiaOne   \n",
       "\n",
       "                                          sourceURLs  \\\n",
       "0  http://www.hotels.com/ho125419/%25252525253Flo...   \n",
       "1  http://www.hotels.com/ho125419/%25252525253Flo...   \n",
       "2  http://www.hotels.com/ho125419/%25252525253Flo...   \n",
       "3  http://www.yellowbook.com/profile/aloft-arunde...   \n",
       "4  http://www.yellowbook.com/profile/aloft-arunde...   \n",
       "\n",
       "                                            websites month  year  \n",
       "0                      http://www.ranchovalencia.com    11  2013  \n",
       "1                      http://www.ranchovalencia.com     7  2014  \n",
       "2                      http://www.ranchovalencia.com     1  2015  \n",
       "3  http://www.starwoodhotels.com/alofthotels/prop...     5  2016  \n",
       "4  http://www.starwoodhotels.com/alofthotels/prop...     7  2016  \n",
       "\n",
       "[5 rows x 22 columns]"
      ]
     },
     "execution_count": 15,
     "metadata": {},
     "output_type": "execute_result"
    }
   ],
   "source": [
    "data['month'] = data['reviews.date'].dt.month\n",
    "data['year'] = data['reviews.date'].dt.year\n",
    "data.head()"
   ]
  },
  {
   "cell_type": "code",
   "execution_count": 16,
   "metadata": {
    "hidden": true
   },
   "outputs": [
    {
     "name": "stderr",
     "output_type": "stream",
     "text": [
      "c:\\users\\njeri\\.venvs\\smart_stay\\lib\\site-packages\\ipykernel\\ipkernel.py:283: DeprecationWarning: `should_run_async` will not call `transform_cell` automatically in the future. Please pass the result to `transformed_cell` argument and any exception that happen during thetransform in `preprocessing_exc_tuple` in IPython 7.17 and above.\n",
      "  and should_run_async(code)\n"
     ]
    },
    {
     "data": {
      "text/plain": [
       "(19997, 21)"
      ]
     },
     "execution_count": 16,
     "metadata": {},
     "output_type": "execute_result"
    }
   ],
   "source": [
    "data = data.drop(columns='reviews.date')\n",
    "data.shape"
   ]
  },
  {
   "cell_type": "code",
   "execution_count": 17,
   "metadata": {
    "hidden": true
   },
   "outputs": [
    {
     "name": "stderr",
     "output_type": "stream",
     "text": [
      "c:\\users\\njeri\\.venvs\\smart_stay\\lib\\site-packages\\ipykernel\\ipkernel.py:283: DeprecationWarning: `should_run_async` will not call `transform_cell` automatically in the future. Please pass the result to `transformed_cell` argument and any exception that happen during thetransform in `preprocessing_exc_tuple` in IPython 7.17 and above.\n",
      "  and should_run_async(code)\n"
     ]
    },
    {
     "data": {
      "text/html": [
       "<div>\n",
       "<style scoped>\n",
       "    .dataframe tbody tr th:only-of-type {\n",
       "        vertical-align: middle;\n",
       "    }\n",
       "\n",
       "    .dataframe tbody tr th {\n",
       "        vertical-align: top;\n",
       "    }\n",
       "\n",
       "    .dataframe thead th {\n",
       "        text-align: right;\n",
       "    }\n",
       "</style>\n",
       "<table border=\"1\" class=\"dataframe\">\n",
       "  <thead>\n",
       "    <tr style=\"text-align: right;\">\n",
       "      <th></th>\n",
       "      <th>id</th>\n",
       "      <th>address</th>\n",
       "      <th>categories</th>\n",
       "      <th>primaryCategories</th>\n",
       "      <th>city</th>\n",
       "      <th>country</th>\n",
       "      <th>keys</th>\n",
       "      <th>latitude</th>\n",
       "      <th>longitude</th>\n",
       "      <th>name</th>\n",
       "      <th>...</th>\n",
       "      <th>reviews.rating</th>\n",
       "      <th>reviews.sourceURLs</th>\n",
       "      <th>reviews.text</th>\n",
       "      <th>reviews.title</th>\n",
       "      <th>reviews.username</th>\n",
       "      <th>sourceURLs</th>\n",
       "      <th>websites</th>\n",
       "      <th>month</th>\n",
       "      <th>year</th>\n",
       "      <th>visit_season</th>\n",
       "    </tr>\n",
       "  </thead>\n",
       "  <tbody>\n",
       "    <tr>\n",
       "      <th>19995</th>\n",
       "      <td>AVwdatg0ByjofQCxo5S5</td>\n",
       "      <td>3101 Coliseum Dr</td>\n",
       "      <td>Hotels,Hotels and motels,Corporate Lodging,New...</td>\n",
       "      <td>Accommodation &amp; Food Services</td>\n",
       "      <td>Hampton</td>\n",
       "      <td>US</td>\n",
       "      <td>us/va/hampton/3101coliseumdr/-1319580369</td>\n",
       "      <td>37.057650</td>\n",
       "      <td>-76.393310</td>\n",
       "      <td>Hampton Inn Hampton-newport News</td>\n",
       "      <td>...</td>\n",
       "      <td>4.0</td>\n",
       "      <td>http://www.tripadvisor.com/Hotel_Review-g57804...</td>\n",
       "      <td>My friends and I took a trip to Hampton for th...</td>\n",
       "      <td>Very accommodating and friendly staff!</td>\n",
       "      <td>Tiffany1017</td>\n",
       "      <td>https://www.tripadvisor.com/Hotel_Review-g5780...</td>\n",
       "      <td>https://ad.doubleclick.net/ddm/clk/317271033;1...</td>\n",
       "      <td>12</td>\n",
       "      <td>2015</td>\n",
       "      <td>winter</td>\n",
       "    </tr>\n",
       "    <tr>\n",
       "      <th>19996</th>\n",
       "      <td>AVwdatg0ByjofQCxo5S5</td>\n",
       "      <td>3101 Coliseum Dr</td>\n",
       "      <td>Hotels,Hotels and motels,Corporate Lodging,New...</td>\n",
       "      <td>Accommodation &amp; Food Services</td>\n",
       "      <td>Hampton</td>\n",
       "      <td>US</td>\n",
       "      <td>us/va/hampton/3101coliseumdr/-1319580369</td>\n",
       "      <td>37.057650</td>\n",
       "      <td>-76.393310</td>\n",
       "      <td>Hampton Inn Hampton-newport News</td>\n",
       "      <td>...</td>\n",
       "      <td>5.0</td>\n",
       "      <td>http://www.tripadvisor.com/Hotel_Review-g57804...</td>\n",
       "      <td>from check in to departure, staff is friendly,...</td>\n",
       "      <td>comfortable, friendly, clean, professional</td>\n",
       "      <td>bobg187</td>\n",
       "      <td>https://www.tripadvisor.com/Hotel_Review-g5780...</td>\n",
       "      <td>https://ad.doubleclick.net/ddm/clk/317271033;1...</td>\n",
       "      <td>11</td>\n",
       "      <td>2015</td>\n",
       "      <td>fall</td>\n",
       "    </tr>\n",
       "    <tr>\n",
       "      <th>19997</th>\n",
       "      <td>AVwdatg0ByjofQCxo5S5</td>\n",
       "      <td>3101 Coliseum Dr</td>\n",
       "      <td>Hotels,Hotels and motels,Corporate Lodging,New...</td>\n",
       "      <td>Accommodation &amp; Food Services</td>\n",
       "      <td>Hampton</td>\n",
       "      <td>US</td>\n",
       "      <td>us/va/hampton/3101coliseumdr/-1319580369</td>\n",
       "      <td>37.057650</td>\n",
       "      <td>-76.393310</td>\n",
       "      <td>Hampton Inn Hampton-newport News</td>\n",
       "      <td>...</td>\n",
       "      <td>5.0</td>\n",
       "      <td>https://www.tripadvisor.com/Hotel_Review-g5780...</td>\n",
       "      <td>This Hampton is located on a quiet street acro...</td>\n",
       "      <td>Great location</td>\n",
       "      <td>K261ANbrendah</td>\n",
       "      <td>https://www.tripadvisor.com/Hotel_Review-g5780...</td>\n",
       "      <td>https://ad.doubleclick.net/ddm/clk/317271033;1...</td>\n",
       "      <td>7</td>\n",
       "      <td>2016</td>\n",
       "      <td>summer</td>\n",
       "    </tr>\n",
       "    <tr>\n",
       "      <th>19998</th>\n",
       "      <td>AV1thTgM3-Khe5l_OvT5</td>\n",
       "      <td>7886 Main Street</td>\n",
       "      <td>Hotels,Bar,Hotel,Restaurants</td>\n",
       "      <td>Accommodation &amp; Food Services</td>\n",
       "      <td>Hunter</td>\n",
       "      <td>US</td>\n",
       "      <td>us/ny/hunter/7886mainstreet/-435384771</td>\n",
       "      <td>42.210915</td>\n",
       "      <td>-74.215309</td>\n",
       "      <td>Roseberry's Inn</td>\n",
       "      <td>...</td>\n",
       "      <td>5.0</td>\n",
       "      <td>https://www.tripadvisor.com/Hotel_Review-g4793...</td>\n",
       "      <td>Awesome wings (my favorite was garlic parmesan...</td>\n",
       "      <td>Great Atmosphere!</td>\n",
       "      <td>soccerrocks2016</td>\n",
       "      <td>https://www.bbb.org/us/ny/hunter/profile/hotel...</td>\n",
       "      <td>http://www.roseberrysinnhunter.com/</td>\n",
       "      <td>10</td>\n",
       "      <td>2016</td>\n",
       "      <td>fall</td>\n",
       "    </tr>\n",
       "    <tr>\n",
       "      <th>19999</th>\n",
       "      <td>AV1tg9C7a4HuVbed8XA5</td>\n",
       "      <td>3505 S Main St</td>\n",
       "      <td>Hotels,Hotels and motels,Corporate Lodging,Lod...</td>\n",
       "      <td>Accommodation &amp; Food Services</td>\n",
       "      <td>Lindale</td>\n",
       "      <td>US</td>\n",
       "      <td>us/tx/lindale/3505smainst/-147603681</td>\n",
       "      <td>32.469540</td>\n",
       "      <td>-95.390420</td>\n",
       "      <td>Hampton Inn-lindale/tyler</td>\n",
       "      <td>...</td>\n",
       "      <td>4.0</td>\n",
       "      <td>http://tripadvisor.com/Hotel_Review-g56167-d22...</td>\n",
       "      <td>Clean facility just off freeway ..... staff fr...</td>\n",
       "      <td>Health care appointments</td>\n",
       "      <td>tootallsmith</td>\n",
       "      <td>https://www.yellowpages.com/lindale-tx/mip/ham...</td>\n",
       "      <td>http://hamptoninn3.hilton.com/en/hotels/texas/...</td>\n",
       "      <td>6</td>\n",
       "      <td>2017</td>\n",
       "      <td>summer</td>\n",
       "    </tr>\n",
       "  </tbody>\n",
       "</table>\n",
       "<p>5 rows × 22 columns</p>\n",
       "</div>"
      ],
      "text/plain": [
       "                         id           address  \\\n",
       "19995  AVwdatg0ByjofQCxo5S5  3101 Coliseum Dr   \n",
       "19996  AVwdatg0ByjofQCxo5S5  3101 Coliseum Dr   \n",
       "19997  AVwdatg0ByjofQCxo5S5  3101 Coliseum Dr   \n",
       "19998  AV1thTgM3-Khe5l_OvT5  7886 Main Street   \n",
       "19999  AV1tg9C7a4HuVbed8XA5    3505 S Main St   \n",
       "\n",
       "                                              categories  \\\n",
       "19995  Hotels,Hotels and motels,Corporate Lodging,New...   \n",
       "19996  Hotels,Hotels and motels,Corporate Lodging,New...   \n",
       "19997  Hotels,Hotels and motels,Corporate Lodging,New...   \n",
       "19998                       Hotels,Bar,Hotel,Restaurants   \n",
       "19999  Hotels,Hotels and motels,Corporate Lodging,Lod...   \n",
       "\n",
       "                   primaryCategories     city country  \\\n",
       "19995  Accommodation & Food Services  Hampton      US   \n",
       "19996  Accommodation & Food Services  Hampton      US   \n",
       "19997  Accommodation & Food Services  Hampton      US   \n",
       "19998  Accommodation & Food Services   Hunter      US   \n",
       "19999  Accommodation & Food Services  Lindale      US   \n",
       "\n",
       "                                           keys   latitude  longitude  \\\n",
       "19995  us/va/hampton/3101coliseumdr/-1319580369  37.057650 -76.393310   \n",
       "19996  us/va/hampton/3101coliseumdr/-1319580369  37.057650 -76.393310   \n",
       "19997  us/va/hampton/3101coliseumdr/-1319580369  37.057650 -76.393310   \n",
       "19998    us/ny/hunter/7886mainstreet/-435384771  42.210915 -74.215309   \n",
       "19999      us/tx/lindale/3505smainst/-147603681  32.469540 -95.390420   \n",
       "\n",
       "                                   name  ... reviews.rating  \\\n",
       "19995  Hampton Inn Hampton-newport News  ...            4.0   \n",
       "19996  Hampton Inn Hampton-newport News  ...            5.0   \n",
       "19997  Hampton Inn Hampton-newport News  ...            5.0   \n",
       "19998                   Roseberry's Inn  ...            5.0   \n",
       "19999         Hampton Inn-lindale/tyler  ...            4.0   \n",
       "\n",
       "                                      reviews.sourceURLs  \\\n",
       "19995  http://www.tripadvisor.com/Hotel_Review-g57804...   \n",
       "19996  http://www.tripadvisor.com/Hotel_Review-g57804...   \n",
       "19997  https://www.tripadvisor.com/Hotel_Review-g5780...   \n",
       "19998  https://www.tripadvisor.com/Hotel_Review-g4793...   \n",
       "19999  http://tripadvisor.com/Hotel_Review-g56167-d22...   \n",
       "\n",
       "                                            reviews.text  \\\n",
       "19995  My friends and I took a trip to Hampton for th...   \n",
       "19996  from check in to departure, staff is friendly,...   \n",
       "19997  This Hampton is located on a quiet street acro...   \n",
       "19998  Awesome wings (my favorite was garlic parmesan...   \n",
       "19999  Clean facility just off freeway ..... staff fr...   \n",
       "\n",
       "                                    reviews.title reviews.username  \\\n",
       "19995      Very accommodating and friendly staff!      Tiffany1017   \n",
       "19996  comfortable, friendly, clean, professional          bobg187   \n",
       "19997                              Great location    K261ANbrendah   \n",
       "19998                           Great Atmosphere!  soccerrocks2016   \n",
       "19999                    Health care appointments     tootallsmith   \n",
       "\n",
       "                                              sourceURLs  \\\n",
       "19995  https://www.tripadvisor.com/Hotel_Review-g5780...   \n",
       "19996  https://www.tripadvisor.com/Hotel_Review-g5780...   \n",
       "19997  https://www.tripadvisor.com/Hotel_Review-g5780...   \n",
       "19998  https://www.bbb.org/us/ny/hunter/profile/hotel...   \n",
       "19999  https://www.yellowpages.com/lindale-tx/mip/ham...   \n",
       "\n",
       "                                                websites month  year  \\\n",
       "19995  https://ad.doubleclick.net/ddm/clk/317271033;1...    12  2015   \n",
       "19996  https://ad.doubleclick.net/ddm/clk/317271033;1...    11  2015   \n",
       "19997  https://ad.doubleclick.net/ddm/clk/317271033;1...     7  2016   \n",
       "19998                http://www.roseberrysinnhunter.com/    10  2016   \n",
       "19999  http://hamptoninn3.hilton.com/en/hotels/texas/...     6  2017   \n",
       "\n",
       "       visit_season  \n",
       "19995        winter  \n",
       "19996          fall  \n",
       "19997        summer  \n",
       "19998          fall  \n",
       "19999        summer  \n",
       "\n",
       "[5 rows x 22 columns]"
      ]
     },
     "execution_count": 17,
     "metadata": {},
     "output_type": "execute_result"
    }
   ],
   "source": [
    "def season(month):\n",
    "    if month >= 1 and month <= 2:\n",
    "        return 'winter'\n",
    "    if month >= 3 and month <= 5:\n",
    "        return 'spring'\n",
    "    if month >= 6 and month <= 8:\n",
    "        return 'summer'\n",
    "    if month >= 9 and month <= 11:\n",
    "        return 'fall'\n",
    "    if month == 12:\n",
    "        return 'winter'\n",
    "\n",
    "data['visit_season'] = data['month'].map(season)\n",
    "data.tail()"
   ]
  },
  {
   "cell_type": "markdown",
   "metadata": {},
   "source": [
    "## Explore each column"
   ]
  },
  {
   "cell_type": "code",
   "execution_count": 18,
   "metadata": {},
   "outputs": [
    {
     "name": "stderr",
     "output_type": "stream",
     "text": [
      "c:\\users\\njeri\\.venvs\\smart_stay\\lib\\site-packages\\ipykernel\\ipkernel.py:283: DeprecationWarning: `should_run_async` will not call `transform_cell` automatically in the future. Please pass the result to `transformed_cell` argument and any exception that happen during thetransform in `preprocessing_exc_tuple` in IPython 7.17 and above.\n",
      "  and should_run_async(code)\n"
     ]
    },
    {
     "data": {
      "text/plain": [
       "2975"
      ]
     },
     "execution_count": 18,
     "metadata": {},
     "output_type": "execute_result"
    }
   ],
   "source": [
    "data.id.nunique()"
   ]
  },
  {
   "cell_type": "code",
   "execution_count": 19,
   "metadata": {},
   "outputs": [
    {
     "name": "stderr",
     "output_type": "stream",
     "text": [
      "c:\\users\\njeri\\.venvs\\smart_stay\\lib\\site-packages\\ipykernel\\ipkernel.py:283: DeprecationWarning: `should_run_async` will not call `transform_cell` automatically in the future. Please pass the result to `transformed_cell` argument and any exception that happen during thetransform in `preprocessing_exc_tuple` in IPython 7.17 and above.\n",
      "  and should_run_async(code)\n"
     ]
    },
    {
     "data": {
      "text/plain": [
       "2970"
      ]
     },
     "execution_count": 19,
     "metadata": {},
     "output_type": "execute_result"
    }
   ],
   "source": [
    "data.address.nunique()"
   ]
  },
  {
   "cell_type": "code",
   "execution_count": 20,
   "metadata": {},
   "outputs": [
    {
     "name": "stderr",
     "output_type": "stream",
     "text": [
      "c:\\users\\njeri\\.venvs\\smart_stay\\lib\\site-packages\\ipykernel\\ipkernel.py:283: DeprecationWarning: `should_run_async` will not call `transform_cell` automatically in the future. Please pass the result to `transformed_cell` argument and any exception that happen during thetransform in `preprocessing_exc_tuple` in IPython 7.17 and above.\n",
      "  and should_run_async(code)\n"
     ]
    },
    {
     "data": {
      "text/plain": [
       "1652"
      ]
     },
     "execution_count": 20,
     "metadata": {},
     "output_type": "execute_result"
    }
   ],
   "source": [
    "data.categories.nunique()"
   ]
  },
  {
   "cell_type": "code",
   "execution_count": 21,
   "metadata": {},
   "outputs": [
    {
     "name": "stderr",
     "output_type": "stream",
     "text": [
      "c:\\users\\njeri\\.venvs\\smart_stay\\lib\\site-packages\\ipykernel\\ipkernel.py:283: DeprecationWarning: `should_run_async` will not call `transform_cell` automatically in the future. Please pass the result to `transformed_cell` argument and any exception that happen during thetransform in `preprocessing_exc_tuple` in IPython 7.17 and above.\n",
      "  and should_run_async(code)\n"
     ]
    },
    {
     "data": {
      "text/plain": [
       "array(['Accommodation & Food Services',\n",
       "       'Healthcare & Social Assistance,Accommodation & Food Services',\n",
       "       'Accommodation & Food Services,Arts Entertainment & Recreation',\n",
       "       'Arts Entertainment & Recreation',\n",
       "       'Wholesale Trade,Accommodation & Food Services', 'Utilities',\n",
       "       'Accommodation & Food Services,Administrative & Support & Waste Management & Remediation',\n",
       "       'Accommodation & Food Services,Agriculture'], dtype=object)"
      ]
     },
     "execution_count": 21,
     "metadata": {},
     "output_type": "execute_result"
    }
   ],
   "source": [
    "data.primaryCategories.unique()"
   ]
  },
  {
   "cell_type": "code",
   "execution_count": 22,
   "metadata": {},
   "outputs": [
    {
     "name": "stderr",
     "output_type": "stream",
     "text": [
      "c:\\users\\njeri\\.venvs\\smart_stay\\lib\\site-packages\\ipykernel\\ipkernel.py:283: DeprecationWarning: `should_run_async` will not call `transform_cell` automatically in the future. Please pass the result to `transformed_cell` argument and any exception that happen during thetransform in `preprocessing_exc_tuple` in IPython 7.17 and above.\n",
      "  and should_run_async(code)\n"
     ]
    },
    {
     "data": {
      "text/plain": [
       "1416"
      ]
     },
     "execution_count": 22,
     "metadata": {},
     "output_type": "execute_result"
    }
   ],
   "source": [
    "data.city.nunique()"
   ]
  },
  {
   "cell_type": "code",
   "execution_count": 23,
   "metadata": {},
   "outputs": [
    {
     "name": "stderr",
     "output_type": "stream",
     "text": [
      "c:\\users\\njeri\\.venvs\\smart_stay\\lib\\site-packages\\ipykernel\\ipkernel.py:283: DeprecationWarning: `should_run_async` will not call `transform_cell` automatically in the future. Please pass the result to `transformed_cell` argument and any exception that happen during thetransform in `preprocessing_exc_tuple` in IPython 7.17 and above.\n",
      "  and should_run_async(code)\n"
     ]
    },
    {
     "data": {
      "text/plain": [
       "1"
      ]
     },
     "execution_count": 23,
     "metadata": {},
     "output_type": "execute_result"
    }
   ],
   "source": [
    "data.country.nunique()"
   ]
  },
  {
   "cell_type": "code",
   "execution_count": 24,
   "metadata": {},
   "outputs": [
    {
     "name": "stderr",
     "output_type": "stream",
     "text": [
      "c:\\users\\njeri\\.venvs\\smart_stay\\lib\\site-packages\\ipykernel\\ipkernel.py:283: DeprecationWarning: `should_run_async` will not call `transform_cell` automatically in the future. Please pass the result to `transformed_cell` argument and any exception that happen during thetransform in `preprocessing_exc_tuple` in IPython 7.17 and above.\n",
      "  and should_run_async(code)\n"
     ]
    },
    {
     "data": {
      "text/plain": [
       "(19997, 21)"
      ]
     },
     "execution_count": 24,
     "metadata": {},
     "output_type": "execute_result"
    }
   ],
   "source": [
    "# All reviews in US\n",
    "data = data.drop(columns='country')\n",
    "data.shape"
   ]
  },
  {
   "cell_type": "code",
   "execution_count": 25,
   "metadata": {},
   "outputs": [
    {
     "name": "stderr",
     "output_type": "stream",
     "text": [
      "c:\\users\\njeri\\.venvs\\smart_stay\\lib\\site-packages\\ipykernel\\ipkernel.py:283: DeprecationWarning: `should_run_async` will not call `transform_cell` automatically in the future. Please pass the result to `transformed_cell` argument and any exception that happen during thetransform in `preprocessing_exc_tuple` in IPython 7.17 and above.\n",
      "  and should_run_async(code)\n"
     ]
    },
    {
     "data": {
      "text/plain": [
       "2976"
      ]
     },
     "execution_count": 25,
     "metadata": {},
     "output_type": "execute_result"
    }
   ],
   "source": [
    "data['keys'].nunique()"
   ]
  },
  {
   "cell_type": "code",
   "execution_count": 26,
   "metadata": {},
   "outputs": [
    {
     "name": "stderr",
     "output_type": "stream",
     "text": [
      "c:\\users\\njeri\\.venvs\\smart_stay\\lib\\site-packages\\ipykernel\\ipkernel.py:283: DeprecationWarning: `should_run_async` will not call `transform_cell` automatically in the future. Please pass the result to `transformed_cell` argument and any exception that happen during thetransform in `preprocessing_exc_tuple` in IPython 7.17 and above.\n",
      "  and should_run_async(code)\n"
     ]
    },
    {
     "data": {
      "text/plain": [
       "2764"
      ]
     },
     "execution_count": 26,
     "metadata": {},
     "output_type": "execute_result"
    }
   ],
   "source": [
    "data.name.nunique()"
   ]
  },
  {
   "cell_type": "code",
   "execution_count": 27,
   "metadata": {},
   "outputs": [
    {
     "name": "stderr",
     "output_type": "stream",
     "text": [
      "c:\\users\\njeri\\.venvs\\smart_stay\\lib\\site-packages\\ipykernel\\ipkernel.py:283: DeprecationWarning: `should_run_async` will not call `transform_cell` automatically in the future. Please pass the result to `transformed_cell` argument and any exception that happen during thetransform in `preprocessing_exc_tuple` in IPython 7.17 and above.\n",
      "  and should_run_async(code)\n"
     ]
    },
    {
     "data": {
      "text/plain": [
       "50"
      ]
     },
     "execution_count": 27,
     "metadata": {},
     "output_type": "execute_result"
    }
   ],
   "source": [
    "data.province.nunique()"
   ]
  },
  {
   "cell_type": "code",
   "execution_count": 28,
   "metadata": {},
   "outputs": [
    {
     "name": "stderr",
     "output_type": "stream",
     "text": [
      "c:\\users\\njeri\\.venvs\\smart_stay\\lib\\site-packages\\ipykernel\\ipkernel.py:283: DeprecationWarning: `should_run_async` will not call `transform_cell` automatically in the future. Please pass the result to `transformed_cell` argument and any exception that happen during thetransform in `preprocessing_exc_tuple` in IPython 7.17 and above.\n",
      "  and should_run_async(code)\n"
     ]
    },
    {
     "data": {
      "text/plain": [
       "array([5.  , 2.  , 4.  , 3.  , 1.  , 4.8 , 4.6 , 3.55, 4.4 , 4.15, 2.5 ,\n",
       "       3.95, 2.9 , 3.35, 3.75, 4.5 , 2.1 , 1.65, 3.15, 2.7 , 1.45, 2.75,\n",
       "       2.3 , 3.5 , 4.25, 1.25, 1.9 , 3.45, 3.25, 4.75])"
      ]
     },
     "execution_count": 28,
     "metadata": {},
     "output_type": "execute_result"
    }
   ],
   "source": [
    "data['reviews.rating'].unique()"
   ]
  },
  {
   "cell_type": "code",
   "execution_count": 29,
   "metadata": {},
   "outputs": [
    {
     "name": "stderr",
     "output_type": "stream",
     "text": [
      "c:\\users\\njeri\\.venvs\\smart_stay\\lib\\site-packages\\ipykernel\\ipkernel.py:283: DeprecationWarning: `should_run_async` will not call `transform_cell` automatically in the future. Please pass the result to `transformed_cell` argument and any exception that happen during thetransform in `preprocessing_exc_tuple` in IPython 7.17 and above.\n",
      "  and should_run_async(code)\n"
     ]
    },
    {
     "data": {
      "text/plain": [
       "19995     good\n",
       "19996    great\n",
       "19997    great\n",
       "19998    great\n",
       "19999     good\n",
       "Name: cat_rating, dtype: object"
      ]
     },
     "execution_count": 29,
     "metadata": {},
     "output_type": "execute_result"
    }
   ],
   "source": [
    "# Change reviews to categories rather than numbers\n",
    "def review_map(rating):\n",
    "    if rating == 5:\n",
    "        return 'great'\n",
    "    if rating >=4 and rating < 5:\n",
    "        return 'good'\n",
    "    if rating < 4:\n",
    "        return 'not great'\n",
    "\n",
    "data['cat_rating'] = data['reviews.rating'].map(review_map)\n",
    "data['cat_rating'].tail()"
   ]
  },
  {
   "cell_type": "code",
   "execution_count": 30,
   "metadata": {},
   "outputs": [
    {
     "name": "stderr",
     "output_type": "stream",
     "text": [
      "c:\\users\\njeri\\.venvs\\smart_stay\\lib\\site-packages\\ipykernel\\ipkernel.py:283: DeprecationWarning: `should_run_async` will not call `transform_cell` automatically in the future. Please pass the result to `transformed_cell` argument and any exception that happen during thetransform in `preprocessing_exc_tuple` in IPython 7.17 and above.\n",
      "  and should_run_async(code)\n"
     ]
    },
    {
     "data": {
      "text/plain": [
       "14256"
      ]
     },
     "execution_count": 30,
     "metadata": {},
     "output_type": "execute_result"
    }
   ],
   "source": [
    "data['reviews.sourceURLs'].nunique()"
   ]
  },
  {
   "cell_type": "code",
   "execution_count": 31,
   "metadata": {},
   "outputs": [
    {
     "name": "stderr",
     "output_type": "stream",
     "text": [
      "c:\\users\\njeri\\.venvs\\smart_stay\\lib\\site-packages\\ipykernel\\ipkernel.py:283: DeprecationWarning: `should_run_async` will not call `transform_cell` automatically in the future. Please pass the result to `transformed_cell` argument and any exception that happen during thetransform in `preprocessing_exc_tuple` in IPython 7.17 and above.\n",
      "  and should_run_async(code)\n"
     ]
    }
   ],
   "source": [
    "def short_url(url):\n",
    "    parsed = urlparse(url)\n",
    "    short_url = parsed.netloc\n",
    "    return short_url.replace('www.', '')"
   ]
  },
  {
   "cell_type": "code",
   "execution_count": 32,
   "metadata": {},
   "outputs": [
    {
     "name": "stderr",
     "output_type": "stream",
     "text": [
      "c:\\users\\njeri\\.venvs\\smart_stay\\lib\\site-packages\\ipykernel\\ipkernel.py:283: DeprecationWarning: `should_run_async` will not call `transform_cell` automatically in the future. Please pass the result to `transformed_cell` argument and any exception that happen during thetransform in `preprocessing_exc_tuple` in IPython 7.17 and above.\n",
      "  and should_run_async(code)\n"
     ]
    },
    {
     "data": {
      "text/plain": [
       "19995    tripadvisor.com\n",
       "19996    tripadvisor.com\n",
       "19997    tripadvisor.com\n",
       "19998    tripadvisor.com\n",
       "19999    tripadvisor.com\n",
       "Name: short_source, dtype: object"
      ]
     },
     "execution_count": 32,
     "metadata": {},
     "output_type": "execute_result"
    }
   ],
   "source": [
    "data['short_source'] = data['reviews.sourceURLs'].map(short_url)\n",
    "data['short_source'].tail()"
   ]
  },
  {
   "cell_type": "code",
   "execution_count": 33,
   "metadata": {},
   "outputs": [
    {
     "name": "stderr",
     "output_type": "stream",
     "text": [
      "c:\\users\\njeri\\.venvs\\smart_stay\\lib\\site-packages\\ipykernel\\ipkernel.py:283: DeprecationWarning: `should_run_async` will not call `transform_cell` automatically in the future. Please pass the result to `transformed_cell` argument and any exception that happen during thetransform in `preprocessing_exc_tuple` in IPython 7.17 and above.\n",
      "  and should_run_async(code)\n"
     ]
    },
    {
     "data": {
      "text/plain": [
       "(19997, 21)"
      ]
     },
     "execution_count": 33,
     "metadata": {},
     "output_type": "execute_result"
    }
   ],
   "source": [
    "# drop long URLs for modeling\n",
    "data = data.drop(columns=['sourceURLs', 'websites'])\n",
    "data.shape"
   ]
  },
  {
   "cell_type": "code",
   "execution_count": 34,
   "metadata": {},
   "outputs": [
    {
     "name": "stderr",
     "output_type": "stream",
     "text": [
      "c:\\users\\njeri\\.venvs\\smart_stay\\lib\\site-packages\\ipykernel\\ipkernel.py:283: DeprecationWarning: `should_run_async` will not call `transform_cell` automatically in the future. Please pass the result to `transformed_cell` argument and any exception that happen during thetransform in `preprocessing_exc_tuple` in IPython 7.17 and above.\n",
      "  and should_run_async(code)\n"
     ]
    },
    {
     "data": {
      "text/plain": [
       "Index(['id', 'address', 'categories', 'primaryCategories', 'city', 'keys',\n",
       "       'latitude', 'longitude', 'name', 'postalCode', 'province',\n",
       "       'reviews.rating', 'reviews.sourceURLs', 'reviews.text', 'reviews.title',\n",
       "       'reviews.username', 'month', 'year', 'visit_season', 'cat_rating',\n",
       "       'short_source'],\n",
       "      dtype='object')"
      ]
     },
     "execution_count": 34,
     "metadata": {},
     "output_type": "execute_result"
    }
   ],
   "source": [
    "data.columns"
   ]
  },
  {
   "cell_type": "markdown",
   "metadata": {},
   "source": [
    "----------------------------------------------------\n",
    "\n",
    "- ID is unique identifier for hotel\n",
    "- remove address column - city, state, lat/lon sufficient for location information\n",
    "- remove keys column - not needed for this exercise\n",
    "- split reviews.date to month & date of review and add season\n",
    "- remove reviews.sourceURLs since short URLs created\n",
    "\n",
    "-----------------------------------------"
   ]
  },
  {
   "cell_type": "code",
   "execution_count": 35,
   "metadata": {},
   "outputs": [
    {
     "name": "stderr",
     "output_type": "stream",
     "text": [
      "c:\\users\\njeri\\.venvs\\smart_stay\\lib\\site-packages\\ipykernel\\ipkernel.py:283: DeprecationWarning: `should_run_async` will not call `transform_cell` automatically in the future. Please pass the result to `transformed_cell` argument and any exception that happen during thetransform in `preprocessing_exc_tuple` in IPython 7.17 and above.\n",
      "  and should_run_async(code)\n"
     ]
    },
    {
     "data": {
      "text/plain": [
       "(19997, 18)"
      ]
     },
     "execution_count": 35,
     "metadata": {},
     "output_type": "execute_result"
    }
   ],
   "source": [
    "data = data.drop(columns=['address', 'keys', 'reviews.sourceURLs'])\n",
    "data.shape"
   ]
  },
  {
   "cell_type": "code",
   "execution_count": 36,
   "metadata": {},
   "outputs": [
    {
     "name": "stderr",
     "output_type": "stream",
     "text": [
      "c:\\users\\njeri\\.venvs\\smart_stay\\lib\\site-packages\\ipykernel\\ipkernel.py:283: DeprecationWarning: `should_run_async` will not call `transform_cell` automatically in the future. Please pass the result to `transformed_cell` argument and any exception that happen during thetransform in `preprocessing_exc_tuple` in IPython 7.17 and above.\n",
      "  and should_run_async(code)\n"
     ]
    },
    {
     "data": {
      "text/plain": [
       "great        9223\n",
       "good         5749\n",
       "not great    5025\n",
       "Name: cat_rating, dtype: int64"
      ]
     },
     "execution_count": 36,
     "metadata": {},
     "output_type": "execute_result"
    }
   ],
   "source": [
    "data['cat_rating'].value_counts()"
   ]
  },
  {
   "cell_type": "code",
   "execution_count": 37,
   "metadata": {},
   "outputs": [
    {
     "name": "stderr",
     "output_type": "stream",
     "text": [
      "c:\\users\\njeri\\.venvs\\smart_stay\\lib\\site-packages\\ipykernel\\ipkernel.py:283: DeprecationWarning: `should_run_async` will not call `transform_cell` automatically in the future. Please pass the result to `transformed_cell` argument and any exception that happen during thetransform in `preprocessing_exc_tuple` in IPython 7.17 and above.\n",
      "  and should_run_async(code)\n"
     ]
    },
    {
     "data": {
      "text/plain": [
       "summer    6177\n",
       "spring    5338\n",
       "fall      4537\n",
       "winter    3945\n",
       "Name: visit_season, dtype: int64"
      ]
     },
     "execution_count": 37,
     "metadata": {},
     "output_type": "execute_result"
    }
   ],
   "source": [
    "data['visit_season'].value_counts()"
   ]
  },
  {
   "cell_type": "code",
   "execution_count": 38,
   "metadata": {},
   "outputs": [
    {
     "name": "stderr",
     "output_type": "stream",
     "text": [
      "c:\\users\\njeri\\.venvs\\smart_stay\\lib\\site-packages\\ipykernel\\ipkernel.py:283: DeprecationWarning: `should_run_async` will not call `transform_cell` automatically in the future. Please pass the result to `transformed_cell` argument and any exception that happen during thetransform in `preprocessing_exc_tuple` in IPython 7.17 and above.\n",
      "  and should_run_async(code)\n"
     ]
    },
    {
     "data": {
      "text/plain": [
       "Accommodation & Food Services                                                              19916\n",
       "Arts Entertainment & Recreation                                                               45\n",
       "Healthcare & Social Assistance,Accommodation & Food Services                                  18\n",
       "Accommodation & Food Services,Arts Entertainment & Recreation                                  8\n",
       "Wholesale Trade,Accommodation & Food Services                                                  7\n",
       "Accommodation & Food Services,Administrative & Support & Waste Management & Remediation        1\n",
       "Accommodation & Food Services,Agriculture                                                      1\n",
       "Utilities                                                                                      1\n",
       "Name: primaryCategories, dtype: int64"
      ]
     },
     "execution_count": 38,
     "metadata": {},
     "output_type": "execute_result"
    }
   ],
   "source": [
    "data['primaryCategories'].value_counts()"
   ]
  },
  {
   "cell_type": "code",
   "execution_count": 39,
   "metadata": {},
   "outputs": [
    {
     "name": "stderr",
     "output_type": "stream",
     "text": [
      "c:\\users\\njeri\\.venvs\\smart_stay\\lib\\site-packages\\ipykernel\\ipkernel.py:283: DeprecationWarning: `should_run_async` will not call `transform_cell` automatically in the future. Please pass the result to `transformed_cell` argument and any exception that happen during thetransform in `preprocessing_exc_tuple` in IPython 7.17 and above.\n",
      "  and should_run_async(code)\n"
     ]
    },
    {
     "data": {
      "text/plain": [
       "2016    6916\n",
       "2015    4618\n",
       "2017    2508\n",
       "2014    1652\n",
       "2018    1269\n",
       "2013    1135\n",
       "2012     692\n",
       "2011     418\n",
       "2010     223\n",
       "2009     167\n",
       "2007     135\n",
       "2008     122\n",
       "2006      42\n",
       "2019      40\n",
       "2005      32\n",
       "2004      22\n",
       "2003       5\n",
       "2002       1\n",
       "Name: year, dtype: int64"
      ]
     },
     "execution_count": 39,
     "metadata": {},
     "output_type": "execute_result"
    }
   ],
   "source": [
    "data['year'].value_counts()"
   ]
  },
  {
   "cell_type": "markdown",
   "metadata": {},
   "source": [
    "---------------------------------------\n",
    "\n",
    "- Remove primaryCategories column - all categories can be considered accommodation & food services\n",
    "- Remove reviews.username - not applicaple for aggregation\n",
    "\n",
    "---------------------------------------"
   ]
  },
  {
   "cell_type": "code",
   "execution_count": 40,
   "metadata": {},
   "outputs": [
    {
     "name": "stderr",
     "output_type": "stream",
     "text": [
      "c:\\users\\njeri\\.venvs\\smart_stay\\lib\\site-packages\\ipykernel\\ipkernel.py:283: DeprecationWarning: `should_run_async` will not call `transform_cell` automatically in the future. Please pass the result to `transformed_cell` argument and any exception that happen during thetransform in `preprocessing_exc_tuple` in IPython 7.17 and above.\n",
      "  and should_run_async(code)\n"
     ]
    },
    {
     "data": {
      "text/plain": [
       "(19997, 16)"
      ]
     },
     "execution_count": 40,
     "metadata": {},
     "output_type": "execute_result"
    }
   ],
   "source": [
    "data = data.drop(columns=['primaryCategories', 'reviews.username'])\n",
    "data.shape"
   ]
  },
  {
   "cell_type": "markdown",
   "metadata": {
    "heading_collapsed": true
   },
   "source": [
    "## Process text columns\n",
    "\n",
    "✅ pip install NLTK <br>\n",
    "✅ create functions in data.py to clean text:<br>\n",
    "- remove numbers\n",
    "- remove punctuation\n",
    "- convert all text to lower case\n",
    "- remove stopwords\n",
    "- lemmatize words <br>\n",
    "\n",
    "✅ add any functions used in cleaning data above to data.py & create classes <br>\n",
    "✅ create review_richness column (i.e introduce vocabulary richness feature) <br>\n",
    "✅ add richness functions to data.py <br>\n",
    "✅ test data.py"
   ]
  },
  {
   "cell_type": "code",
   "execution_count": 41,
   "metadata": {
    "hidden": true
   },
   "outputs": [
    {
     "name": "stderr",
     "output_type": "stream",
     "text": [
      "c:\\users\\njeri\\.venvs\\smart_stay\\lib\\site-packages\\ipykernel\\ipkernel.py:283: DeprecationWarning: `should_run_async` will not call `transform_cell` automatically in the future. Please pass the result to `transformed_cell` argument and any exception that happen during thetransform in `preprocessing_exc_tuple` in IPython 7.17 and above.\n",
      "  and should_run_async(code)\n"
     ]
    }
   ],
   "source": [
    "def punc_remover(df, new_col, old_col):\n",
    "    df[new_col] = df[old_col]\n",
    "    for punctuation in string.punctuation:\n",
    "        df[new_col] = df[new_col].map(lambda x: x.replace(punctuation, '')) \n",
    "    return df\n",
    "\n",
    "def lower_case(df, new_col):\n",
    "    df[new_col] = df[new_col].map(lambda x: x.lower())\n",
    "    return df\n",
    "\n",
    "def remove_num(df, new_col):\n",
    "    df[new_col] = df[new_col].map(lambda x: ''.join(word for word in x if not word.isdigit()))\n",
    "    return df\n",
    "\n",
    "def remove_stop(df, new_col):\n",
    "    stop_words = set(stopwords.words('english')) \n",
    "    df[new_col] = df[new_col].map(word_tokenize) \n",
    "    df[new_col] = df[new_col].map(lambda x: ' '.join(w for w in x if not w in stop_words))\n",
    "    return df\n",
    "\n",
    "def lemmatize(df, new_col):\n",
    "    df[new_col] = df[new_col].map(word_tokenize)\n",
    "    lemmatizer = WordNetLemmatizer()\n",
    "    df[new_col] = df[new_col].map(lambda x: ' '.join(lemmatizer.lemmatize(word) for word in x))\n",
    "    return df\n",
    "\n",
    "def proc_text(df, new_col, old_col):\n",
    "    punc_remover(df, new_col, old_col)\n",
    "    lower_case(df, new_col)\n",
    "    remove_num(df, new_col)\n",
    "    remove_stop(df, new_col)\n",
    "    lemmatize(df, new_col)\n",
    "    df = df.drop(columns=old_col, inplace=True)\n",
    "    return df"
   ]
  },
  {
   "cell_type": "code",
   "execution_count": 42,
   "metadata": {
    "hidden": true
   },
   "outputs": [
    {
     "name": "stderr",
     "output_type": "stream",
     "text": [
      "c:\\users\\njeri\\.venvs\\smart_stay\\lib\\site-packages\\ipykernel\\ipkernel.py:283: DeprecationWarning: `should_run_async` will not call `transform_cell` automatically in the future. Please pass the result to `transformed_cell` argument and any exception that happen during thetransform in `preprocessing_exc_tuple` in IPython 7.17 and above.\n",
      "  and should_run_async(code)\n"
     ]
    },
    {
     "data": {
      "text/plain": [
       "Index(['id', 'categories', 'city', 'latitude', 'longitude', 'name',\n",
       "       'postalCode', 'province', 'reviews.rating', 'reviews.text',\n",
       "       'reviews.title', 'month', 'year', 'visit_season', 'cat_rating',\n",
       "       'short_source'],\n",
       "      dtype='object')"
      ]
     },
     "execution_count": 42,
     "metadata": {},
     "output_type": "execute_result"
    }
   ],
   "source": [
    "data.columns"
   ]
  },
  {
   "cell_type": "code",
   "execution_count": 43,
   "metadata": {
    "hidden": true
   },
   "outputs": [
    {
     "name": "stderr",
     "output_type": "stream",
     "text": [
      "c:\\users\\njeri\\.venvs\\smart_stay\\lib\\site-packages\\ipykernel\\ipkernel.py:283: DeprecationWarning: `should_run_async` will not call `transform_cell` automatically in the future. Please pass the result to `transformed_cell` argument and any exception that happen during thetransform in `preprocessing_exc_tuple` in IPython 7.17 and above.\n",
      "  and should_run_async(code)\n"
     ]
    },
    {
     "data": {
      "text/html": [
       "<div>\n",
       "<style scoped>\n",
       "    .dataframe tbody tr th:only-of-type {\n",
       "        vertical-align: middle;\n",
       "    }\n",
       "\n",
       "    .dataframe tbody tr th {\n",
       "        vertical-align: top;\n",
       "    }\n",
       "\n",
       "    .dataframe thead th {\n",
       "        text-align: right;\n",
       "    }\n",
       "</style>\n",
       "<table border=\"1\" class=\"dataframe\">\n",
       "  <thead>\n",
       "    <tr style=\"text-align: right;\">\n",
       "      <th></th>\n",
       "      <th>id</th>\n",
       "      <th>city</th>\n",
       "      <th>latitude</th>\n",
       "      <th>longitude</th>\n",
       "      <th>name</th>\n",
       "      <th>postalCode</th>\n",
       "      <th>province</th>\n",
       "      <th>reviews.rating</th>\n",
       "      <th>reviews.text</th>\n",
       "      <th>reviews.title</th>\n",
       "      <th>month</th>\n",
       "      <th>year</th>\n",
       "      <th>visit_season</th>\n",
       "      <th>cat_rating</th>\n",
       "      <th>short_source</th>\n",
       "      <th>clean_categories</th>\n",
       "    </tr>\n",
       "  </thead>\n",
       "  <tbody>\n",
       "    <tr>\n",
       "      <th>0</th>\n",
       "      <td>AVwc252WIN2L1WUfpqLP</td>\n",
       "      <td>Rancho Santa Fe</td>\n",
       "      <td>32.990959</td>\n",
       "      <td>-117.186136</td>\n",
       "      <td>Rancho Valencia Resort Spa</td>\n",
       "      <td>92067</td>\n",
       "      <td>CA</td>\n",
       "      <td>5.0</td>\n",
       "      <td>Our experience at Rancho Valencia was absolute...</td>\n",
       "      <td>Best romantic vacation ever!!!!</td>\n",
       "      <td>11</td>\n",
       "      <td>2013</td>\n",
       "      <td>fall</td>\n",
       "      <td>great</td>\n",
       "      <td>hotels.com</td>\n",
       "      <td>hotelshotels motelshotel motel reservationsres...</td>\n",
       "    </tr>\n",
       "    <tr>\n",
       "      <th>1</th>\n",
       "      <td>AVwc252WIN2L1WUfpqLP</td>\n",
       "      <td>Rancho Santa Fe</td>\n",
       "      <td>32.990959</td>\n",
       "      <td>-117.186136</td>\n",
       "      <td>Rancho Valencia Resort Spa</td>\n",
       "      <td>92067</td>\n",
       "      <td>CA</td>\n",
       "      <td>5.0</td>\n",
       "      <td>Amazing place. Everyone was extremely warm and...</td>\n",
       "      <td>Sweet sweet serenity</td>\n",
       "      <td>7</td>\n",
       "      <td>2014</td>\n",
       "      <td>summer</td>\n",
       "      <td>great</td>\n",
       "      <td>hotels.com</td>\n",
       "      <td>hotelshotels motelshotel motel reservationsres...</td>\n",
       "    </tr>\n",
       "    <tr>\n",
       "      <th>2</th>\n",
       "      <td>AVwc252WIN2L1WUfpqLP</td>\n",
       "      <td>Rancho Santa Fe</td>\n",
       "      <td>32.990959</td>\n",
       "      <td>-117.186136</td>\n",
       "      <td>Rancho Valencia Resort Spa</td>\n",
       "      <td>92067</td>\n",
       "      <td>CA</td>\n",
       "      <td>5.0</td>\n",
       "      <td>We booked a 3 night stay at Rancho Valencia to...</td>\n",
       "      <td>Amazing Property and Experience</td>\n",
       "      <td>1</td>\n",
       "      <td>2015</td>\n",
       "      <td>winter</td>\n",
       "      <td>great</td>\n",
       "      <td>hotels.com</td>\n",
       "      <td>hotelshotels motelshotel motel reservationsres...</td>\n",
       "    </tr>\n",
       "    <tr>\n",
       "      <th>3</th>\n",
       "      <td>AVwdOclqIN2L1WUfti38</td>\n",
       "      <td>Hanover</td>\n",
       "      <td>39.155929</td>\n",
       "      <td>-76.716341</td>\n",
       "      <td>Aloft Arundel Mills</td>\n",
       "      <td>21076</td>\n",
       "      <td>MD</td>\n",
       "      <td>2.0</td>\n",
       "      <td>Currently in bed writing this for the past hr ...</td>\n",
       "      <td>Never again...beware, if you want sleep.</td>\n",
       "      <td>5</td>\n",
       "      <td>2016</td>\n",
       "      <td>spring</td>\n",
       "      <td>not great</td>\n",
       "      <td>tripadvisor.com</td>\n",
       "      <td>hotelshotels motelstravel agency bureaushotel ...</td>\n",
       "    </tr>\n",
       "    <tr>\n",
       "      <th>4</th>\n",
       "      <td>AVwdOclqIN2L1WUfti38</td>\n",
       "      <td>Hanover</td>\n",
       "      <td>39.155929</td>\n",
       "      <td>-76.716341</td>\n",
       "      <td>Aloft Arundel Mills</td>\n",
       "      <td>21076</td>\n",
       "      <td>MD</td>\n",
       "      <td>5.0</td>\n",
       "      <td>I live in Md and the Aloft is my Home away fro...</td>\n",
       "      <td>ALWAYS GREAT STAY...</td>\n",
       "      <td>7</td>\n",
       "      <td>2016</td>\n",
       "      <td>summer</td>\n",
       "      <td>great</td>\n",
       "      <td>tripadvisor.com</td>\n",
       "      <td>hotelshotels motelstravel agency bureaushotel ...</td>\n",
       "    </tr>\n",
       "  </tbody>\n",
       "</table>\n",
       "</div>"
      ],
      "text/plain": [
       "                     id             city   latitude   longitude  \\\n",
       "0  AVwc252WIN2L1WUfpqLP  Rancho Santa Fe  32.990959 -117.186136   \n",
       "1  AVwc252WIN2L1WUfpqLP  Rancho Santa Fe  32.990959 -117.186136   \n",
       "2  AVwc252WIN2L1WUfpqLP  Rancho Santa Fe  32.990959 -117.186136   \n",
       "3  AVwdOclqIN2L1WUfti38          Hanover  39.155929  -76.716341   \n",
       "4  AVwdOclqIN2L1WUfti38          Hanover  39.155929  -76.716341   \n",
       "\n",
       "                         name postalCode province  reviews.rating  \\\n",
       "0  Rancho Valencia Resort Spa      92067       CA             5.0   \n",
       "1  Rancho Valencia Resort Spa      92067       CA             5.0   \n",
       "2  Rancho Valencia Resort Spa      92067       CA             5.0   \n",
       "3         Aloft Arundel Mills      21076       MD             2.0   \n",
       "4         Aloft Arundel Mills      21076       MD             5.0   \n",
       "\n",
       "                                        reviews.text  \\\n",
       "0  Our experience at Rancho Valencia was absolute...   \n",
       "1  Amazing place. Everyone was extremely warm and...   \n",
       "2  We booked a 3 night stay at Rancho Valencia to...   \n",
       "3  Currently in bed writing this for the past hr ...   \n",
       "4  I live in Md and the Aloft is my Home away fro...   \n",
       "\n",
       "                              reviews.title  month  year visit_season  \\\n",
       "0           Best romantic vacation ever!!!!     11  2013         fall   \n",
       "1                      Sweet sweet serenity      7  2014       summer   \n",
       "2           Amazing Property and Experience      1  2015       winter   \n",
       "3  Never again...beware, if you want sleep.      5  2016       spring   \n",
       "4                      ALWAYS GREAT STAY...      7  2016       summer   \n",
       "\n",
       "  cat_rating     short_source  \\\n",
       "0      great       hotels.com   \n",
       "1      great       hotels.com   \n",
       "2      great       hotels.com   \n",
       "3  not great  tripadvisor.com   \n",
       "4      great  tripadvisor.com   \n",
       "\n",
       "                                    clean_categories  \n",
       "0  hotelshotels motelshotel motel reservationsres...  \n",
       "1  hotelshotels motelshotel motel reservationsres...  \n",
       "2  hotelshotels motelshotel motel reservationsres...  \n",
       "3  hotelshotels motelstravel agency bureaushotel ...  \n",
       "4  hotelshotels motelstravel agency bureaushotel ...  "
      ]
     },
     "execution_count": 43,
     "metadata": {},
     "output_type": "execute_result"
    }
   ],
   "source": [
    "# Process categories column\n",
    "proc_text(data, 'clean_categories', 'categories')\n",
    "data.head()"
   ]
  },
  {
   "cell_type": "code",
   "execution_count": 44,
   "metadata": {
    "hidden": true
   },
   "outputs": [
    {
     "name": "stderr",
     "output_type": "stream",
     "text": [
      "c:\\users\\njeri\\.venvs\\smart_stay\\lib\\site-packages\\ipykernel\\ipkernel.py:283: DeprecationWarning: `should_run_async` will not call `transform_cell` automatically in the future. Please pass the result to `transformed_cell` argument and any exception that happen during thetransform in `preprocessing_exc_tuple` in IPython 7.17 and above.\n",
      "  and should_run_async(code)\n"
     ]
    },
    {
     "data": {
      "text/html": [
       "<div>\n",
       "<style scoped>\n",
       "    .dataframe tbody tr th:only-of-type {\n",
       "        vertical-align: middle;\n",
       "    }\n",
       "\n",
       "    .dataframe tbody tr th {\n",
       "        vertical-align: top;\n",
       "    }\n",
       "\n",
       "    .dataframe thead th {\n",
       "        text-align: right;\n",
       "    }\n",
       "</style>\n",
       "<table border=\"1\" class=\"dataframe\">\n",
       "  <thead>\n",
       "    <tr style=\"text-align: right;\">\n",
       "      <th></th>\n",
       "      <th>id</th>\n",
       "      <th>latitude</th>\n",
       "      <th>longitude</th>\n",
       "      <th>postalCode</th>\n",
       "      <th>reviews.rating</th>\n",
       "      <th>month</th>\n",
       "      <th>year</th>\n",
       "      <th>visit_season</th>\n",
       "      <th>cat_rating</th>\n",
       "      <th>short_source</th>\n",
       "      <th>clean_categories</th>\n",
       "      <th>clean_city</th>\n",
       "      <th>clean_state</th>\n",
       "      <th>clean_title</th>\n",
       "      <th>clean_review</th>\n",
       "      <th>clean_name</th>\n",
       "    </tr>\n",
       "  </thead>\n",
       "  <tbody>\n",
       "    <tr>\n",
       "      <th>0</th>\n",
       "      <td>AVwc252WIN2L1WUfpqLP</td>\n",
       "      <td>32.990959</td>\n",
       "      <td>-117.186136</td>\n",
       "      <td>92067</td>\n",
       "      <td>5.0</td>\n",
       "      <td>11</td>\n",
       "      <td>2013</td>\n",
       "      <td>fall</td>\n",
       "      <td>great</td>\n",
       "      <td>hotels.com</td>\n",
       "      <td>hotelshotels motelshotel motel reservationsres...</td>\n",
       "      <td>rancho santa fe</td>\n",
       "      <td>ca</td>\n",
       "      <td>best romantic vacation ever</td>\n",
       "      <td>experience rancho valencia absolutely perfect ...</td>\n",
       "      <td>rancho valencia resort spa</td>\n",
       "    </tr>\n",
       "    <tr>\n",
       "      <th>1</th>\n",
       "      <td>AVwc252WIN2L1WUfpqLP</td>\n",
       "      <td>32.990959</td>\n",
       "      <td>-117.186136</td>\n",
       "      <td>92067</td>\n",
       "      <td>5.0</td>\n",
       "      <td>7</td>\n",
       "      <td>2014</td>\n",
       "      <td>summer</td>\n",
       "      <td>great</td>\n",
       "      <td>hotels.com</td>\n",
       "      <td>hotelshotels motelshotel motel reservationsres...</td>\n",
       "      <td>rancho santa fe</td>\n",
       "      <td>ca</td>\n",
       "      <td>sweet sweet serenity</td>\n",
       "      <td>amazing place everyone extremely warm welcomin...</td>\n",
       "      <td>rancho valencia resort spa</td>\n",
       "    </tr>\n",
       "    <tr>\n",
       "      <th>2</th>\n",
       "      <td>AVwc252WIN2L1WUfpqLP</td>\n",
       "      <td>32.990959</td>\n",
       "      <td>-117.186136</td>\n",
       "      <td>92067</td>\n",
       "      <td>5.0</td>\n",
       "      <td>1</td>\n",
       "      <td>2015</td>\n",
       "      <td>winter</td>\n",
       "      <td>great</td>\n",
       "      <td>hotels.com</td>\n",
       "      <td>hotelshotels motelshotel motel reservationsres...</td>\n",
       "      <td>rancho santa fe</td>\n",
       "      <td>ca</td>\n",
       "      <td>amazing property experience</td>\n",
       "      <td>booked night stay rancho valencia play tennis ...</td>\n",
       "      <td>rancho valencia resort spa</td>\n",
       "    </tr>\n",
       "    <tr>\n",
       "      <th>3</th>\n",
       "      <td>AVwdOclqIN2L1WUfti38</td>\n",
       "      <td>39.155929</td>\n",
       "      <td>-76.716341</td>\n",
       "      <td>21076</td>\n",
       "      <td>2.0</td>\n",
       "      <td>5</td>\n",
       "      <td>2016</td>\n",
       "      <td>spring</td>\n",
       "      <td>not great</td>\n",
       "      <td>tripadvisor.com</td>\n",
       "      <td>hotelshotels motelstravel agency bureaushotel ...</td>\n",
       "      <td>hanover</td>\n",
       "      <td>md</td>\n",
       "      <td>never againbeware want sleep</td>\n",
       "      <td>currently bed writing past hr dog barking sque...</td>\n",
       "      <td>aloft arundel mill</td>\n",
       "    </tr>\n",
       "    <tr>\n",
       "      <th>4</th>\n",
       "      <td>AVwdOclqIN2L1WUfti38</td>\n",
       "      <td>39.155929</td>\n",
       "      <td>-76.716341</td>\n",
       "      <td>21076</td>\n",
       "      <td>5.0</td>\n",
       "      <td>7</td>\n",
       "      <td>2016</td>\n",
       "      <td>summer</td>\n",
       "      <td>great</td>\n",
       "      <td>tripadvisor.com</td>\n",
       "      <td>hotelshotels motelstravel agency bureaushotel ...</td>\n",
       "      <td>hanover</td>\n",
       "      <td>md</td>\n",
       "      <td>always great stay</td>\n",
       "      <td>live md aloft home away homewe stayed night st...</td>\n",
       "      <td>aloft arundel mill</td>\n",
       "    </tr>\n",
       "  </tbody>\n",
       "</table>\n",
       "</div>"
      ],
      "text/plain": [
       "                     id   latitude   longitude postalCode  reviews.rating  \\\n",
       "0  AVwc252WIN2L1WUfpqLP  32.990959 -117.186136      92067             5.0   \n",
       "1  AVwc252WIN2L1WUfpqLP  32.990959 -117.186136      92067             5.0   \n",
       "2  AVwc252WIN2L1WUfpqLP  32.990959 -117.186136      92067             5.0   \n",
       "3  AVwdOclqIN2L1WUfti38  39.155929  -76.716341      21076             2.0   \n",
       "4  AVwdOclqIN2L1WUfti38  39.155929  -76.716341      21076             5.0   \n",
       "\n",
       "   month  year visit_season cat_rating     short_source  \\\n",
       "0     11  2013         fall      great       hotels.com   \n",
       "1      7  2014       summer      great       hotels.com   \n",
       "2      1  2015       winter      great       hotels.com   \n",
       "3      5  2016       spring  not great  tripadvisor.com   \n",
       "4      7  2016       summer      great  tripadvisor.com   \n",
       "\n",
       "                                    clean_categories       clean_city  \\\n",
       "0  hotelshotels motelshotel motel reservationsres...  rancho santa fe   \n",
       "1  hotelshotels motelshotel motel reservationsres...  rancho santa fe   \n",
       "2  hotelshotels motelshotel motel reservationsres...  rancho santa fe   \n",
       "3  hotelshotels motelstravel agency bureaushotel ...          hanover   \n",
       "4  hotelshotels motelstravel agency bureaushotel ...          hanover   \n",
       "\n",
       "  clean_state                   clean_title  \\\n",
       "0          ca   best romantic vacation ever   \n",
       "1          ca          sweet sweet serenity   \n",
       "2          ca   amazing property experience   \n",
       "3          md  never againbeware want sleep   \n",
       "4          md             always great stay   \n",
       "\n",
       "                                        clean_review  \\\n",
       "0  experience rancho valencia absolutely perfect ...   \n",
       "1  amazing place everyone extremely warm welcomin...   \n",
       "2  booked night stay rancho valencia play tennis ...   \n",
       "3  currently bed writing past hr dog barking sque...   \n",
       "4  live md aloft home away homewe stayed night st...   \n",
       "\n",
       "                   clean_name  \n",
       "0  rancho valencia resort spa  \n",
       "1  rancho valencia resort spa  \n",
       "2  rancho valencia resort spa  \n",
       "3          aloft arundel mill  \n",
       "4          aloft arundel mill  "
      ]
     },
     "execution_count": 44,
     "metadata": {},
     "output_type": "execute_result"
    }
   ],
   "source": [
    "# Process remaining text columns\n",
    "proc_text(data, 'clean_city', 'city')\n",
    "proc_text(data, 'clean_state', 'province')\n",
    "proc_text(data, 'clean_title', 'reviews.title')\n",
    "proc_text(data, 'clean_review', 'reviews.text')\n",
    "proc_text(data, 'clean_name', 'name')\n",
    "data.head()"
   ]
  },
  {
   "cell_type": "code",
   "execution_count": 45,
   "metadata": {
    "hidden": true
   },
   "outputs": [
    {
     "name": "stderr",
     "output_type": "stream",
     "text": [
      "c:\\users\\njeri\\.venvs\\smart_stay\\lib\\site-packages\\ipykernel\\ipkernel.py:283: DeprecationWarning: `should_run_async` will not call `transform_cell` automatically in the future. Please pass the result to `transformed_cell` argument and any exception that happen during thetransform in `preprocessing_exc_tuple` in IPython 7.17 and above.\n",
      "  and should_run_async(code)\n"
     ]
    },
    {
     "data": {
      "text/html": [
       "<div>\n",
       "<style scoped>\n",
       "    .dataframe tbody tr th:only-of-type {\n",
       "        vertical-align: middle;\n",
       "    }\n",
       "\n",
       "    .dataframe tbody tr th {\n",
       "        vertical-align: top;\n",
       "    }\n",
       "\n",
       "    .dataframe thead th {\n",
       "        text-align: right;\n",
       "    }\n",
       "</style>\n",
       "<table border=\"1\" class=\"dataframe\">\n",
       "  <thead>\n",
       "    <tr style=\"text-align: right;\">\n",
       "      <th></th>\n",
       "      <th>id</th>\n",
       "      <th>latitude</th>\n",
       "      <th>longitude</th>\n",
       "      <th>postalCode</th>\n",
       "      <th>reviews.rating</th>\n",
       "      <th>month</th>\n",
       "      <th>year</th>\n",
       "      <th>visit_season</th>\n",
       "      <th>cat_rating</th>\n",
       "      <th>short_source</th>\n",
       "      <th>clean_categories</th>\n",
       "      <th>clean_city</th>\n",
       "      <th>clean_state</th>\n",
       "      <th>clean_title</th>\n",
       "      <th>clean_review</th>\n",
       "      <th>clean_name</th>\n",
       "    </tr>\n",
       "  </thead>\n",
       "  <tbody>\n",
       "    <tr>\n",
       "      <th>0</th>\n",
       "      <td>AVwc252WIN2L1WUfpqLP</td>\n",
       "      <td>32.990959</td>\n",
       "      <td>-117.186136</td>\n",
       "      <td>92067</td>\n",
       "      <td>5.0</td>\n",
       "      <td>11</td>\n",
       "      <td>2013</td>\n",
       "      <td>fall</td>\n",
       "      <td>great</td>\n",
       "      <td>hotels.com</td>\n",
       "      <td>hotelshotels motelshotel motel reservationsres...</td>\n",
       "      <td>rancho santa fe</td>\n",
       "      <td>ca</td>\n",
       "      <td>best romantic vacation ever</td>\n",
       "      <td>experience rancho valencia absolutely perfect ...</td>\n",
       "      <td>rancho valencia resort spa</td>\n",
       "    </tr>\n",
       "    <tr>\n",
       "      <th>1</th>\n",
       "      <td>AVwc252WIN2L1WUfpqLP</td>\n",
       "      <td>32.990959</td>\n",
       "      <td>-117.186136</td>\n",
       "      <td>92067</td>\n",
       "      <td>5.0</td>\n",
       "      <td>7</td>\n",
       "      <td>2014</td>\n",
       "      <td>summer</td>\n",
       "      <td>great</td>\n",
       "      <td>hotels.com</td>\n",
       "      <td>hotelshotels motelshotel motel reservationsres...</td>\n",
       "      <td>rancho santa fe</td>\n",
       "      <td>ca</td>\n",
       "      <td>sweet sweet serenity</td>\n",
       "      <td>amazing place everyone extremely warm welcomin...</td>\n",
       "      <td>rancho valencia resort spa</td>\n",
       "    </tr>\n",
       "    <tr>\n",
       "      <th>2</th>\n",
       "      <td>AVwc252WIN2L1WUfpqLP</td>\n",
       "      <td>32.990959</td>\n",
       "      <td>-117.186136</td>\n",
       "      <td>92067</td>\n",
       "      <td>5.0</td>\n",
       "      <td>1</td>\n",
       "      <td>2015</td>\n",
       "      <td>winter</td>\n",
       "      <td>great</td>\n",
       "      <td>hotels.com</td>\n",
       "      <td>hotelshotels motelshotel motel reservationsres...</td>\n",
       "      <td>rancho santa fe</td>\n",
       "      <td>ca</td>\n",
       "      <td>amazing property experience</td>\n",
       "      <td>booked night stay rancho valencia play tennis ...</td>\n",
       "      <td>rancho valencia resort spa</td>\n",
       "    </tr>\n",
       "    <tr>\n",
       "      <th>3</th>\n",
       "      <td>AVwdOclqIN2L1WUfti38</td>\n",
       "      <td>39.155929</td>\n",
       "      <td>-76.716341</td>\n",
       "      <td>21076</td>\n",
       "      <td>2.0</td>\n",
       "      <td>5</td>\n",
       "      <td>2016</td>\n",
       "      <td>spring</td>\n",
       "      <td>not great</td>\n",
       "      <td>tripadvisor.com</td>\n",
       "      <td>hotelshotels motelstravel agency bureaushotel ...</td>\n",
       "      <td>hanover</td>\n",
       "      <td>md</td>\n",
       "      <td>never againbeware want sleep</td>\n",
       "      <td>currently bed writing past hr dog barking sque...</td>\n",
       "      <td>aloft arundel mill</td>\n",
       "    </tr>\n",
       "    <tr>\n",
       "      <th>4</th>\n",
       "      <td>AVwdOclqIN2L1WUfti38</td>\n",
       "      <td>39.155929</td>\n",
       "      <td>-76.716341</td>\n",
       "      <td>21076</td>\n",
       "      <td>5.0</td>\n",
       "      <td>7</td>\n",
       "      <td>2016</td>\n",
       "      <td>summer</td>\n",
       "      <td>great</td>\n",
       "      <td>tripadvisor.com</td>\n",
       "      <td>hotelshotels motelstravel agency bureaushotel ...</td>\n",
       "      <td>hanover</td>\n",
       "      <td>md</td>\n",
       "      <td>always great stay</td>\n",
       "      <td>live md aloft home away homewe stayed night st...</td>\n",
       "      <td>aloft arundel mill</td>\n",
       "    </tr>\n",
       "  </tbody>\n",
       "</table>\n",
       "</div>"
      ],
      "text/plain": [
       "                     id   latitude   longitude postalCode  reviews.rating  \\\n",
       "0  AVwc252WIN2L1WUfpqLP  32.990959 -117.186136      92067             5.0   \n",
       "1  AVwc252WIN2L1WUfpqLP  32.990959 -117.186136      92067             5.0   \n",
       "2  AVwc252WIN2L1WUfpqLP  32.990959 -117.186136      92067             5.0   \n",
       "3  AVwdOclqIN2L1WUfti38  39.155929  -76.716341      21076             2.0   \n",
       "4  AVwdOclqIN2L1WUfti38  39.155929  -76.716341      21076             5.0   \n",
       "\n",
       "   month  year visit_season cat_rating     short_source  \\\n",
       "0     11  2013         fall      great       hotels.com   \n",
       "1      7  2014       summer      great       hotels.com   \n",
       "2      1  2015       winter      great       hotels.com   \n",
       "3      5  2016       spring  not great  tripadvisor.com   \n",
       "4      7  2016       summer      great  tripadvisor.com   \n",
       "\n",
       "                                    clean_categories       clean_city  \\\n",
       "0  hotelshotels motelshotel motel reservationsres...  rancho santa fe   \n",
       "1  hotelshotels motelshotel motel reservationsres...  rancho santa fe   \n",
       "2  hotelshotels motelshotel motel reservationsres...  rancho santa fe   \n",
       "3  hotelshotels motelstravel agency bureaushotel ...          hanover   \n",
       "4  hotelshotels motelstravel agency bureaushotel ...          hanover   \n",
       "\n",
       "  clean_state                   clean_title  \\\n",
       "0          ca   best romantic vacation ever   \n",
       "1          ca          sweet sweet serenity   \n",
       "2          ca   amazing property experience   \n",
       "3          md  never againbeware want sleep   \n",
       "4          md             always great stay   \n",
       "\n",
       "                                        clean_review  \\\n",
       "0  experience rancho valencia absolutely perfect ...   \n",
       "1  amazing place everyone extremely warm welcomin...   \n",
       "2  booked night stay rancho valencia play tennis ...   \n",
       "3  currently bed writing past hr dog barking sque...   \n",
       "4  live md aloft home away homewe stayed night st...   \n",
       "\n",
       "                   clean_name  \n",
       "0  rancho valencia resort spa  \n",
       "1  rancho valencia resort spa  \n",
       "2  rancho valencia resort spa  \n",
       "3          aloft arundel mill  \n",
       "4          aloft arundel mill  "
      ]
     },
     "execution_count": 45,
     "metadata": {},
     "output_type": "execute_result"
    }
   ],
   "source": [
    "data.head()"
   ]
  },
  {
   "cell_type": "code",
   "execution_count": 46,
   "metadata": {
    "hidden": true
   },
   "outputs": [
    {
     "name": "stderr",
     "output_type": "stream",
     "text": [
      "c:\\users\\njeri\\.venvs\\smart_stay\\lib\\site-packages\\ipykernel\\ipkernel.py:283: DeprecationWarning: `should_run_async` will not call `transform_cell` automatically in the future. Please pass the result to `transformed_cell` argument and any exception that happen during thetransform in `preprocessing_exc_tuple` in IPython 7.17 and above.\n",
      "  and should_run_async(code)\n"
     ]
    },
    {
     "data": {
      "text/html": [
       "<div>\n",
       "<style scoped>\n",
       "    .dataframe tbody tr th:only-of-type {\n",
       "        vertical-align: middle;\n",
       "    }\n",
       "\n",
       "    .dataframe tbody tr th {\n",
       "        vertical-align: top;\n",
       "    }\n",
       "\n",
       "    .dataframe thead th {\n",
       "        text-align: right;\n",
       "    }\n",
       "</style>\n",
       "<table border=\"1\" class=\"dataframe\">\n",
       "  <thead>\n",
       "    <tr style=\"text-align: right;\">\n",
       "      <th></th>\n",
       "      <th>id</th>\n",
       "      <th>latitude</th>\n",
       "      <th>longitude</th>\n",
       "      <th>postalCode</th>\n",
       "      <th>reviews.rating</th>\n",
       "      <th>month</th>\n",
       "      <th>year</th>\n",
       "      <th>visit_season</th>\n",
       "      <th>cat_rating</th>\n",
       "      <th>short_source</th>\n",
       "      <th>clean_categories</th>\n",
       "      <th>clean_city</th>\n",
       "      <th>clean_state</th>\n",
       "      <th>clean_title</th>\n",
       "      <th>clean_review</th>\n",
       "      <th>clean_name</th>\n",
       "    </tr>\n",
       "  </thead>\n",
       "  <tbody>\n",
       "    <tr>\n",
       "      <th>5805</th>\n",
       "      <td>AV48ic48a4HuVbedAUNM</td>\n",
       "      <td>38.89089</td>\n",
       "      <td>-77.073860</td>\n",
       "      <td>22209</td>\n",
       "      <td>5.0</td>\n",
       "      <td>5</td>\n",
       "      <td>2008</td>\n",
       "      <td>spring</td>\n",
       "      <td>great</td>\n",
       "      <td>expedia.com</td>\n",
       "      <td>hotelslodginghotelhotels motel</td>\n",
       "      <td>arlington</td>\n",
       "      <td>va</td>\n",
       "      <td>nice place stay</td>\n",
       "      <td></td>\n",
       "      <td>virginian suite ascend hotel collection member</td>\n",
       "    </tr>\n",
       "    <tr>\n",
       "      <th>6198</th>\n",
       "      <td>AVwd0HO5ByjofQCxsvv8</td>\n",
       "      <td>33.70112</td>\n",
       "      <td>-84.098459</td>\n",
       "      <td>30038</td>\n",
       "      <td>5.0</td>\n",
       "      <td>6</td>\n",
       "      <td>2016</td>\n",
       "      <td>summer</td>\n",
       "      <td>great</td>\n",
       "      <td>hotels.com</td>\n",
       "      <td>hotelhotels</td>\n",
       "      <td>lithonia</td>\n",
       "      <td>ga</td>\n",
       "      <td>nice hotel</td>\n",
       "      <td></td>\n",
       "      <td>hyatt place atlantaeastlithonia</td>\n",
       "    </tr>\n",
       "  </tbody>\n",
       "</table>\n",
       "</div>"
      ],
      "text/plain": [
       "                        id  latitude  longitude postalCode  reviews.rating  \\\n",
       "5805  AV48ic48a4HuVbedAUNM  38.89089 -77.073860      22209             5.0   \n",
       "6198  AVwd0HO5ByjofQCxsvv8  33.70112 -84.098459      30038             5.0   \n",
       "\n",
       "      month  year visit_season cat_rating short_source  \\\n",
       "5805      5  2008       spring      great  expedia.com   \n",
       "6198      6  2016       summer      great   hotels.com   \n",
       "\n",
       "                    clean_categories clean_city clean_state      clean_title  \\\n",
       "5805  hotelslodginghotelhotels motel  arlington          va  nice place stay   \n",
       "6198                     hotelhotels   lithonia          ga       nice hotel   \n",
       "\n",
       "     clean_review                                      clean_name  \n",
       "5805               virginian suite ascend hotel collection member  \n",
       "6198                              hyatt place atlantaeastlithonia  "
      ]
     },
     "execution_count": 46,
     "metadata": {},
     "output_type": "execute_result"
    }
   ],
   "source": [
    "data.loc[data['clean_review'] == '']"
   ]
  },
  {
   "cell_type": "code",
   "execution_count": 47,
   "metadata": {
    "hidden": true
   },
   "outputs": [
    {
     "name": "stderr",
     "output_type": "stream",
     "text": [
      "c:\\users\\njeri\\.venvs\\smart_stay\\lib\\site-packages\\ipykernel\\ipkernel.py:283: DeprecationWarning: `should_run_async` will not call `transform_cell` automatically in the future. Please pass the result to `transformed_cell` argument and any exception that happen during thetransform in `preprocessing_exc_tuple` in IPython 7.17 and above.\n",
      "  and should_run_async(code)\n"
     ]
    },
    {
     "data": {
      "text/plain": [
       "(19995, 16)"
      ]
     },
     "execution_count": 47,
     "metadata": {},
     "output_type": "execute_result"
    }
   ],
   "source": [
    "data = data[data.clean_review != '']\n",
    "data.shape"
   ]
  },
  {
   "cell_type": "code",
   "execution_count": 48,
   "metadata": {
    "hidden": true
   },
   "outputs": [
    {
     "name": "stderr",
     "output_type": "stream",
     "text": [
      "c:\\users\\njeri\\.venvs\\smart_stay\\lib\\site-packages\\ipykernel\\ipkernel.py:283: DeprecationWarning: `should_run_async` will not call `transform_cell` automatically in the future. Please pass the result to `transformed_cell` argument and any exception that happen during thetransform in `preprocessing_exc_tuple` in IPython 7.17 and above.\n",
      "  and should_run_async(code)\n"
     ]
    },
    {
     "data": {
      "text/plain": [
       "1.0"
      ]
     },
     "execution_count": 48,
     "metadata": {},
     "output_type": "execute_result"
    }
   ],
   "source": [
    "test = data.clean_review[0]\n",
    "tokens = word_tokenize(test)\n",
    "length = len(tokens)\n",
    "unique = set(tokens)\n",
    "unique_ct = len(unique)\n",
    "richness = unique_ct/length\n",
    "richness"
   ]
  },
  {
   "cell_type": "code",
   "execution_count": 49,
   "metadata": {
    "hidden": true
   },
   "outputs": [
    {
     "name": "stderr",
     "output_type": "stream",
     "text": [
      "c:\\users\\njeri\\.venvs\\smart_stay\\lib\\site-packages\\ipykernel\\ipkernel.py:283: DeprecationWarning: `should_run_async` will not call `transform_cell` automatically in the future. Please pass the result to `transformed_cell` argument and any exception that happen during thetransform in `preprocessing_exc_tuple` in IPython 7.17 and above.\n",
      "  and should_run_async(code)\n"
     ]
    },
    {
     "data": {
      "text/html": [
       "<div>\n",
       "<style scoped>\n",
       "    .dataframe tbody tr th:only-of-type {\n",
       "        vertical-align: middle;\n",
       "    }\n",
       "\n",
       "    .dataframe tbody tr th {\n",
       "        vertical-align: top;\n",
       "    }\n",
       "\n",
       "    .dataframe thead th {\n",
       "        text-align: right;\n",
       "    }\n",
       "</style>\n",
       "<table border=\"1\" class=\"dataframe\">\n",
       "  <thead>\n",
       "    <tr style=\"text-align: right;\">\n",
       "      <th></th>\n",
       "      <th>id</th>\n",
       "      <th>latitude</th>\n",
       "      <th>longitude</th>\n",
       "      <th>postalCode</th>\n",
       "      <th>reviews.rating</th>\n",
       "      <th>month</th>\n",
       "      <th>year</th>\n",
       "      <th>visit_season</th>\n",
       "      <th>cat_rating</th>\n",
       "      <th>short_source</th>\n",
       "      <th>clean_categories</th>\n",
       "      <th>clean_city</th>\n",
       "      <th>clean_state</th>\n",
       "      <th>clean_title</th>\n",
       "      <th>clean_review</th>\n",
       "      <th>clean_name</th>\n",
       "      <th>review_richness</th>\n",
       "    </tr>\n",
       "  </thead>\n",
       "  <tbody>\n",
       "    <tr>\n",
       "      <th>0</th>\n",
       "      <td>AVwc252WIN2L1WUfpqLP</td>\n",
       "      <td>32.990959</td>\n",
       "      <td>-117.186136</td>\n",
       "      <td>92067</td>\n",
       "      <td>5.0</td>\n",
       "      <td>11</td>\n",
       "      <td>2013</td>\n",
       "      <td>fall</td>\n",
       "      <td>great</td>\n",
       "      <td>hotels.com</td>\n",
       "      <td>hotelshotels motelshotel motel reservationsres...</td>\n",
       "      <td>rancho santa fe</td>\n",
       "      <td>ca</td>\n",
       "      <td>best romantic vacation ever</td>\n",
       "      <td>experience rancho valencia absolutely perfect ...</td>\n",
       "      <td>rancho valencia resort spa</td>\n",
       "      <td>1.000000</td>\n",
       "    </tr>\n",
       "    <tr>\n",
       "      <th>1</th>\n",
       "      <td>AVwc252WIN2L1WUfpqLP</td>\n",
       "      <td>32.990959</td>\n",
       "      <td>-117.186136</td>\n",
       "      <td>92067</td>\n",
       "      <td>5.0</td>\n",
       "      <td>7</td>\n",
       "      <td>2014</td>\n",
       "      <td>summer</td>\n",
       "      <td>great</td>\n",
       "      <td>hotels.com</td>\n",
       "      <td>hotelshotels motelshotel motel reservationsres...</td>\n",
       "      <td>rancho santa fe</td>\n",
       "      <td>ca</td>\n",
       "      <td>sweet sweet serenity</td>\n",
       "      <td>amazing place everyone extremely warm welcomin...</td>\n",
       "      <td>rancho valencia resort spa</td>\n",
       "      <td>0.933333</td>\n",
       "    </tr>\n",
       "    <tr>\n",
       "      <th>2</th>\n",
       "      <td>AVwc252WIN2L1WUfpqLP</td>\n",
       "      <td>32.990959</td>\n",
       "      <td>-117.186136</td>\n",
       "      <td>92067</td>\n",
       "      <td>5.0</td>\n",
       "      <td>1</td>\n",
       "      <td>2015</td>\n",
       "      <td>winter</td>\n",
       "      <td>great</td>\n",
       "      <td>hotels.com</td>\n",
       "      <td>hotelshotels motelshotel motel reservationsres...</td>\n",
       "      <td>rancho santa fe</td>\n",
       "      <td>ca</td>\n",
       "      <td>amazing property experience</td>\n",
       "      <td>booked night stay rancho valencia play tennis ...</td>\n",
       "      <td>rancho valencia resort spa</td>\n",
       "      <td>0.914894</td>\n",
       "    </tr>\n",
       "    <tr>\n",
       "      <th>3</th>\n",
       "      <td>AVwdOclqIN2L1WUfti38</td>\n",
       "      <td>39.155929</td>\n",
       "      <td>-76.716341</td>\n",
       "      <td>21076</td>\n",
       "      <td>2.0</td>\n",
       "      <td>5</td>\n",
       "      <td>2016</td>\n",
       "      <td>spring</td>\n",
       "      <td>not great</td>\n",
       "      <td>tripadvisor.com</td>\n",
       "      <td>hotelshotels motelstravel agency bureaushotel ...</td>\n",
       "      <td>hanover</td>\n",
       "      <td>md</td>\n",
       "      <td>never againbeware want sleep</td>\n",
       "      <td>currently bed writing past hr dog barking sque...</td>\n",
       "      <td>aloft arundel mill</td>\n",
       "      <td>1.000000</td>\n",
       "    </tr>\n",
       "    <tr>\n",
       "      <th>4</th>\n",
       "      <td>AVwdOclqIN2L1WUfti38</td>\n",
       "      <td>39.155929</td>\n",
       "      <td>-76.716341</td>\n",
       "      <td>21076</td>\n",
       "      <td>5.0</td>\n",
       "      <td>7</td>\n",
       "      <td>2016</td>\n",
       "      <td>summer</td>\n",
       "      <td>great</td>\n",
       "      <td>tripadvisor.com</td>\n",
       "      <td>hotelshotels motelstravel agency bureaushotel ...</td>\n",
       "      <td>hanover</td>\n",
       "      <td>md</td>\n",
       "      <td>always great stay</td>\n",
       "      <td>live md aloft home away homewe stayed night st...</td>\n",
       "      <td>aloft arundel mill</td>\n",
       "      <td>1.000000</td>\n",
       "    </tr>\n",
       "  </tbody>\n",
       "</table>\n",
       "</div>"
      ],
      "text/plain": [
       "                     id   latitude   longitude postalCode  reviews.rating  \\\n",
       "0  AVwc252WIN2L1WUfpqLP  32.990959 -117.186136      92067             5.0   \n",
       "1  AVwc252WIN2L1WUfpqLP  32.990959 -117.186136      92067             5.0   \n",
       "2  AVwc252WIN2L1WUfpqLP  32.990959 -117.186136      92067             5.0   \n",
       "3  AVwdOclqIN2L1WUfti38  39.155929  -76.716341      21076             2.0   \n",
       "4  AVwdOclqIN2L1WUfti38  39.155929  -76.716341      21076             5.0   \n",
       "\n",
       "   month  year visit_season cat_rating     short_source  \\\n",
       "0     11  2013         fall      great       hotels.com   \n",
       "1      7  2014       summer      great       hotels.com   \n",
       "2      1  2015       winter      great       hotels.com   \n",
       "3      5  2016       spring  not great  tripadvisor.com   \n",
       "4      7  2016       summer      great  tripadvisor.com   \n",
       "\n",
       "                                    clean_categories       clean_city  \\\n",
       "0  hotelshotels motelshotel motel reservationsres...  rancho santa fe   \n",
       "1  hotelshotels motelshotel motel reservationsres...  rancho santa fe   \n",
       "2  hotelshotels motelshotel motel reservationsres...  rancho santa fe   \n",
       "3  hotelshotels motelstravel agency bureaushotel ...          hanover   \n",
       "4  hotelshotels motelstravel agency bureaushotel ...          hanover   \n",
       "\n",
       "  clean_state                   clean_title  \\\n",
       "0          ca   best romantic vacation ever   \n",
       "1          ca          sweet sweet serenity   \n",
       "2          ca   amazing property experience   \n",
       "3          md  never againbeware want sleep   \n",
       "4          md             always great stay   \n",
       "\n",
       "                                        clean_review  \\\n",
       "0  experience rancho valencia absolutely perfect ...   \n",
       "1  amazing place everyone extremely warm welcomin...   \n",
       "2  booked night stay rancho valencia play tennis ...   \n",
       "3  currently bed writing past hr dog barking sque...   \n",
       "4  live md aloft home away homewe stayed night st...   \n",
       "\n",
       "                   clean_name  review_richness  \n",
       "0  rancho valencia resort spa         1.000000  \n",
       "1  rancho valencia resort spa         0.933333  \n",
       "2  rancho valencia resort spa         0.914894  \n",
       "3          aloft arundel mill         1.000000  \n",
       "4          aloft arundel mill         1.000000  "
      ]
     },
     "execution_count": 49,
     "metadata": {},
     "output_type": "execute_result"
    }
   ],
   "source": [
    "def vocab_richness(text):\n",
    "    tokens = word_tokenize(text)\n",
    "    total_length = len(tokens)\n",
    "    unique_words = set(tokens)\n",
    "    unique_word_length = len(unique_words)\n",
    "    return unique_word_length / total_length\n",
    "\n",
    "data['review_richness'] = data.clean_review.apply(vocab_richness)\n",
    "data.head()"
   ]
  },
  {
   "cell_type": "markdown",
   "metadata": {},
   "source": [
    "## Machine Learning Modeling & Evaluating\n",
    "✅ vecotrize with Tfidf Vectorizer (tune max_df, min_df, max_features, ngram_range) <br>\n",
    "✅ create pipeline to tune vectorizer and Multinomial Naive Bayes (tune nb_alpha) algorithm together <br>\n",
    "✅ establish baseline evaluation using DummyClassifier (use accuracy as metric) <br>\n",
    "✅ use cross-validation, especially due to imbalance in data (mostly good reviews) <br>\n",
    "- visualize reviews text with a word cloud as a baseline for LDA\n",
    "- train an LDA model to extract potential topics\n",
    "- look into building visualization of extracted topics"
   ]
  },
  {
   "cell_type": "markdown",
   "metadata": {},
   "source": [
    "### Multinomial Naive Bayes"
   ]
  },
  {
   "cell_type": "code",
   "execution_count": 50,
   "metadata": {},
   "outputs": [
    {
     "name": "stderr",
     "output_type": "stream",
     "text": [
      "c:\\users\\njeri\\.venvs\\smart_stay\\lib\\site-packages\\ipykernel\\ipkernel.py:283: DeprecationWarning: `should_run_async` will not call `transform_cell` automatically in the future. Please pass the result to `transformed_cell` argument and any exception that happen during thetransform in `preprocessing_exc_tuple` in IPython 7.17 and above.\n",
      "  and should_run_async(code)\n"
     ]
    },
    {
     "data": {
      "text/plain": [
       "Index(['id', 'latitude', 'longitude', 'postalCode', 'reviews.rating', 'month',\n",
       "       'year', 'visit_season', 'cat_rating', 'short_source',\n",
       "       'clean_categories', 'clean_city', 'clean_state', 'clean_title',\n",
       "       'clean_review', 'clean_name', 'review_richness'],\n",
       "      dtype='object')"
      ]
     },
     "execution_count": 50,
     "metadata": {},
     "output_type": "execute_result"
    }
   ],
   "source": [
    "data.columns"
   ]
  },
  {
   "cell_type": "code",
   "execution_count": 51,
   "metadata": {},
   "outputs": [
    {
     "name": "stderr",
     "output_type": "stream",
     "text": [
      "c:\\users\\njeri\\.venvs\\smart_stay\\lib\\site-packages\\ipykernel\\ipkernel.py:283: DeprecationWarning: `should_run_async` will not call `transform_cell` automatically in the future. Please pass the result to `transformed_cell` argument and any exception that happen during thetransform in `preprocessing_exc_tuple` in IPython 7.17 and above.\n",
      "  and should_run_async(code)\n"
     ]
    }
   ],
   "source": [
    "# text_features = ['short_source', 'visit_season', 'clean_categories', 'clean_city', 'clean_state', 'clean_title', \\\n",
    "#                  'clean_review', 'clean_name']\n",
    "X = data.clean_review\n",
    "y = data.cat_rating"
   ]
  },
  {
   "cell_type": "code",
   "execution_count": 52,
   "metadata": {},
   "outputs": [
    {
     "name": "stdout",
     "output_type": "stream",
     "text": [
      "<class 'pandas.core.frame.DataFrame'>\n",
      "Int64Index: 19995 entries, 0 to 19999\n",
      "Data columns (total 17 columns):\n",
      " #   Column            Non-Null Count  Dtype  \n",
      "---  ------            --------------  -----  \n",
      " 0   id                19995 non-null  object \n",
      " 1   latitude          19995 non-null  float64\n",
      " 2   longitude         19995 non-null  float64\n",
      " 3   postalCode        19995 non-null  object \n",
      " 4   reviews.rating    19995 non-null  float64\n",
      " 5   month             19995 non-null  int64  \n",
      " 6   year              19995 non-null  int64  \n",
      " 7   visit_season      19995 non-null  object \n",
      " 8   cat_rating        19995 non-null  object \n",
      " 9   short_source      19995 non-null  object \n",
      " 10  clean_categories  19995 non-null  object \n",
      " 11  clean_city        19995 non-null  object \n",
      " 12  clean_state       19995 non-null  object \n",
      " 13  clean_title       19995 non-null  object \n",
      " 14  clean_review      19995 non-null  object \n",
      " 15  clean_name        19995 non-null  object \n",
      " 16  review_richness   19995 non-null  float64\n",
      "dtypes: float64(4), int64(2), object(11)\n",
      "memory usage: 3.2+ MB\n"
     ]
    },
    {
     "name": "stderr",
     "output_type": "stream",
     "text": [
      "c:\\users\\njeri\\.venvs\\smart_stay\\lib\\site-packages\\ipykernel\\ipkernel.py:283: DeprecationWarning: `should_run_async` will not call `transform_cell` automatically in the future. Please pass the result to `transformed_cell` argument and any exception that happen during thetransform in `preprocessing_exc_tuple` in IPython 7.17 and above.\n",
      "  and should_run_async(code)\n"
     ]
    }
   ],
   "source": [
    "data.info()"
   ]
  },
  {
   "cell_type": "code",
   "execution_count": 53,
   "metadata": {
    "scrolled": false
   },
   "outputs": [
    {
     "name": "stderr",
     "output_type": "stream",
     "text": [
      "c:\\users\\njeri\\.venvs\\smart_stay\\lib\\site-packages\\ipykernel\\ipkernel.py:283: DeprecationWarning: `should_run_async` will not call `transform_cell` automatically in the future. Please pass the result to `transformed_cell` argument and any exception that happen during thetransform in `preprocessing_exc_tuple` in IPython 7.17 and above.\n",
      "  and should_run_async(code)\n"
     ]
    },
    {
     "name": "stdout",
     "output_type": "stream",
     "text": [
      "Fitting 5 folds for each of 243 candidates, totalling 1215 fits\n"
     ]
    },
    {
     "name": "stderr",
     "output_type": "stream",
     "text": [
      "c:\\users\\njeri\\.venvs\\smart_stay\\lib\\site-packages\\sklearn\\model_selection\\_search.py:921: UserWarning: One or more of the test scores are non-finite: [0.49077269        nan        nan 0.48762191        nan        nan\n",
      " 0.48257064        nan        nan 0.50702676        nan        nan\n",
      " 0.48762191        nan        nan 0.48257064        nan        nan\n",
      " 0.51022756        nan        nan 0.48762191        nan        nan\n",
      " 0.48257064        nan        nan 0.49077269        nan        nan\n",
      " 0.48762191        nan        nan 0.48257064        nan        nan\n",
      " 0.50702676        nan        nan 0.48762191        nan        nan\n",
      " 0.48257064        nan        nan 0.51022756        nan        nan\n",
      " 0.48762191        nan        nan 0.48257064        nan        nan\n",
      " 0.49077269        nan        nan 0.48762191        nan        nan\n",
      " 0.48257064        nan        nan 0.50702676        nan        nan\n",
      " 0.48762191        nan        nan 0.48257064        nan        nan\n",
      " 0.51022756        nan        nan 0.48762191        nan        nan\n",
      " 0.48257064        nan        nan 0.49072268        nan        nan\n",
      " 0.48762191        nan        nan 0.48242061        nan        nan\n",
      " 0.50712678        nan        nan 0.48762191        nan        nan\n",
      " 0.48242061        nan        nan 0.51017754        nan        nan\n",
      " 0.48762191        nan        nan 0.48242061        nan        nan\n",
      " 0.49072268        nan        nan 0.48762191        nan        nan\n",
      " 0.48242061        nan        nan 0.50712678        nan        nan\n",
      " 0.48762191        nan        nan 0.48242061        nan        nan\n",
      " 0.51017754        nan        nan 0.48762191        nan        nan\n",
      " 0.48242061        nan        nan 0.49072268        nan        nan\n",
      " 0.48762191        nan        nan 0.48242061        nan        nan\n",
      " 0.50712678        nan        nan 0.48762191        nan        nan\n",
      " 0.48242061        nan        nan 0.51017754        nan        nan\n",
      " 0.48762191        nan        nan 0.48242061        nan        nan\n",
      " 0.49072268        nan        nan 0.48757189        nan        nan\n",
      " 0.48242061        nan        nan 0.50717679        nan        nan\n",
      " 0.48757189        nan        nan 0.48242061        nan        nan\n",
      " 0.51017754        nan        nan 0.48757189        nan        nan\n",
      " 0.48242061        nan        nan 0.49072268        nan        nan\n",
      " 0.48757189        nan        nan 0.48242061        nan        nan\n",
      " 0.50717679        nan        nan 0.48757189        nan        nan\n",
      " 0.48242061        nan        nan 0.51017754        nan        nan\n",
      " 0.48757189        nan        nan 0.48242061        nan        nan\n",
      " 0.49072268        nan        nan 0.48757189        nan        nan\n",
      " 0.48242061        nan        nan 0.50717679        nan        nan\n",
      " 0.48757189        nan        nan 0.48242061        nan        nan\n",
      " 0.51017754        nan        nan 0.48757189        nan        nan\n",
      " 0.48242061        nan        nan]\n",
      "  category=UserWarning\n"
     ]
    },
    {
     "name": "stdout",
     "output_type": "stream",
     "text": [
      "Wall time: 8min 41s\n"
     ]
    },
    {
     "data": {
      "text/plain": [
       "GridSearchCV(cv=5,\n",
       "             estimator=Pipeline(steps=[('tfidf', TfidfVectorizer()),\n",
       "                                       ('nb', MultinomialNB())]),\n",
       "             n_jobs=-1,\n",
       "             param_grid={'nb__alpha': (0.1, 0.5, 1),\n",
       "                         'tfidf__max_df': (0.7, 0.8, 0.9),\n",
       "                         'tfidf__max_features': (20, 30, 40),\n",
       "                         'tfidf__min_df': (0.1, 0.2, 0.3),\n",
       "                         'tfidf__ngram_range': ((1, 1), (2, 2), (3, 3))},\n",
       "             scoring='accuracy', verbose=1)"
      ]
     },
     "execution_count": 53,
     "metadata": {},
     "output_type": "execute_result"
    }
   ],
   "source": [
    "%%time\n",
    "# Create Pipeline\n",
    "pipeline = Pipeline([\n",
    "    ('tfidf', TfidfVectorizer()),\n",
    "    ('nb', MultinomialNB()),\n",
    "])\n",
    "\n",
    "# Set parameters to search\n",
    "parameters = {\n",
    "    'tfidf__ngram_range': ((1,1), (2,2), (3,3)),\n",
    "    'tfidf__max_df':(0.7, 0.8, 0.9),\n",
    "    'tfidf__min_df': (0.1, 0.2, 0.3),\n",
    "    'tfidf__max_features': (20, 30, 40),\n",
    "    'nb__alpha': (0.1, 0.5, 1)}\n",
    "\n",
    "# Perform grid search\n",
    "grid_search = GridSearchCV(pipeline, parameters, n_jobs=-1, \n",
    "                           verbose=1, scoring = \"accuracy\", \n",
    "                           refit=True, cv=5)\n",
    "\n",
    "grid_search.fit(X, y)"
   ]
  },
  {
   "cell_type": "code",
   "execution_count": 54,
   "metadata": {},
   "outputs": [
    {
     "name": "stderr",
     "output_type": "stream",
     "text": [
      "c:\\users\\njeri\\.venvs\\smart_stay\\lib\\site-packages\\ipykernel\\ipkernel.py:283: DeprecationWarning: `should_run_async` will not call `transform_cell` automatically in the future. Please pass the result to `transformed_cell` argument and any exception that happen during thetransform in `preprocessing_exc_tuple` in IPython 7.17 and above.\n",
      "  and should_run_async(code)\n"
     ]
    },
    {
     "data": {
      "text/plain": [
       "{'nb__alpha': 0.1,\n",
       " 'tfidf__max_df': 0.7,\n",
       " 'tfidf__max_features': 40,\n",
       " 'tfidf__min_df': 0.1,\n",
       " 'tfidf__ngram_range': (1, 1)}"
      ]
     },
     "execution_count": 54,
     "metadata": {},
     "output_type": "execute_result"
    }
   ],
   "source": [
    "grid_search.best_params_"
   ]
  },
  {
   "cell_type": "code",
   "execution_count": 55,
   "metadata": {},
   "outputs": [
    {
     "name": "stderr",
     "output_type": "stream",
     "text": [
      "c:\\users\\njeri\\.venvs\\smart_stay\\lib\\site-packages\\ipykernel\\ipkernel.py:283: DeprecationWarning: `should_run_async` will not call `transform_cell` automatically in the future. Please pass the result to `transformed_cell` argument and any exception that happen during thetransform in `preprocessing_exc_tuple` in IPython 7.17 and above.\n",
      "  and should_run_async(code)\n"
     ]
    },
    {
     "data": {
      "text/plain": [
       "0.5102275568892223"
      ]
     },
     "execution_count": 55,
     "metadata": {},
     "output_type": "execute_result"
    }
   ],
   "source": [
    "grid_search.best_score_"
   ]
  },
  {
   "cell_type": "code",
   "execution_count": 56,
   "metadata": {},
   "outputs": [
    {
     "name": "stdout",
     "output_type": "stream",
     "text": [
      "Fitting 5 folds for each of 9 candidates, totalling 45 fits\n"
     ]
    },
    {
     "name": "stderr",
     "output_type": "stream",
     "text": [
      "c:\\users\\njeri\\.venvs\\smart_stay\\lib\\site-packages\\ipykernel\\ipkernel.py:283: DeprecationWarning: `should_run_async` will not call `transform_cell` automatically in the future. Please pass the result to `transformed_cell` argument and any exception that happen during thetransform in `preprocessing_exc_tuple` in IPython 7.17 and above.\n",
      "  and should_run_async(code)\n"
     ]
    },
    {
     "name": "stdout",
     "output_type": "stream",
     "text": [
      "Wall time: 11.7 s\n"
     ]
    },
    {
     "data": {
      "text/plain": [
       "GridSearchCV(cv=5,\n",
       "             estimator=Pipeline(steps=[('tfidf', TfidfVectorizer()),\n",
       "                                       ('nb', MultinomialNB())]),\n",
       "             n_jobs=-1,\n",
       "             param_grid={'nb__alpha': [0.1], 'tfidf__max_df': (0.5, 0.6, 0.7),\n",
       "                         'tfidf__max_features': (40, 50, 60),\n",
       "                         'tfidf__min_df': [0.1],\n",
       "                         'tfidf__ngram_range': [(1, 1)]},\n",
       "             scoring='accuracy', verbose=1)"
      ]
     },
     "execution_count": 56,
     "metadata": {},
     "output_type": "execute_result"
    }
   ],
   "source": [
    "%%time\n",
    "# Tune grid search\n",
    "\n",
    "parameters_2 = {\n",
    "    'tfidf__ngram_range': [(1,1)],\n",
    "    'tfidf__max_df':(0.5, 0.6, 0.7),\n",
    "    'tfidf__min_df': [0.1],\n",
    "    'tfidf__max_features': (40, 50, 60),\n",
    "    'nb__alpha': [0.1]}\n",
    "\n",
    "# Perform grid search\n",
    "grid_search_2 = GridSearchCV(pipeline, parameters_2, n_jobs=-1, \n",
    "                           verbose=1, scoring = \"accuracy\", \n",
    "                           refit=True, cv=5)\n",
    "\n",
    "grid_search_2.fit(X, y)"
   ]
  },
  {
   "cell_type": "code",
   "execution_count": 57,
   "metadata": {},
   "outputs": [
    {
     "name": "stderr",
     "output_type": "stream",
     "text": [
      "c:\\users\\njeri\\.venvs\\smart_stay\\lib\\site-packages\\ipykernel\\ipkernel.py:283: DeprecationWarning: `should_run_async` will not call `transform_cell` automatically in the future. Please pass the result to `transformed_cell` argument and any exception that happen during thetransform in `preprocessing_exc_tuple` in IPython 7.17 and above.\n",
      "  and should_run_async(code)\n"
     ]
    },
    {
     "data": {
      "text/plain": [
       "{'nb__alpha': 0.1,\n",
       " 'tfidf__max_df': 0.7,\n",
       " 'tfidf__max_features': 50,\n",
       " 'tfidf__min_df': 0.1,\n",
       " 'tfidf__ngram_range': (1, 1)}"
      ]
     },
     "execution_count": 57,
     "metadata": {},
     "output_type": "execute_result"
    }
   ],
   "source": [
    "grid_search_2.best_params_"
   ]
  },
  {
   "cell_type": "code",
   "execution_count": 58,
   "metadata": {},
   "outputs": [
    {
     "name": "stderr",
     "output_type": "stream",
     "text": [
      "c:\\users\\njeri\\.venvs\\smart_stay\\lib\\site-packages\\ipykernel\\ipkernel.py:283: DeprecationWarning: `should_run_async` will not call `transform_cell` automatically in the future. Please pass the result to `transformed_cell` argument and any exception that happen during thetransform in `preprocessing_exc_tuple` in IPython 7.17 and above.\n",
      "  and should_run_async(code)\n"
     ]
    },
    {
     "data": {
      "text/plain": [
       "0.5108277069267316"
      ]
     },
     "execution_count": 58,
     "metadata": {},
     "output_type": "execute_result"
    }
   ],
   "source": [
    "grid_search_2.best_score_"
   ]
  },
  {
   "cell_type": "code",
   "execution_count": 59,
   "metadata": {},
   "outputs": [
    {
     "name": "stderr",
     "output_type": "stream",
     "text": [
      "c:\\users\\njeri\\.venvs\\smart_stay\\lib\\site-packages\\ipykernel\\ipkernel.py:283: DeprecationWarning: `should_run_async` will not call `transform_cell` automatically in the future. Please pass the result to `transformed_cell` argument and any exception that happen during thetransform in `preprocessing_exc_tuple` in IPython 7.17 and above.\n",
      "  and should_run_async(code)\n"
     ]
    },
    {
     "data": {
      "text/plain": [
       "array(['great'], dtype='<U9')"
      ]
     },
     "execution_count": 59,
     "metadata": {},
     "output_type": "execute_result"
    }
   ],
   "source": [
    "# check with a 4-star review\n",
    "\n",
    "review = [['This is a great way to get around Hakone. It is included in the Hakone Freepass so why not? On a clear day, it also offers great views of the mountains.']]\n",
    "review_df = pd.DataFrame(data=review)\n",
    "proc_text(review_df, 'clean_review', 0)\n",
    "grid_search_2.predict(review_df.clean_review)"
   ]
  },
  {
   "cell_type": "code",
   "execution_count": 60,
   "metadata": {},
   "outputs": [
    {
     "name": "stderr",
     "output_type": "stream",
     "text": [
      "c:\\users\\njeri\\.venvs\\smart_stay\\lib\\site-packages\\ipykernel\\ipkernel.py:283: DeprecationWarning: `should_run_async` will not call `transform_cell` automatically in the future. Please pass the result to `transformed_cell` argument and any exception that happen during thetransform in `preprocessing_exc_tuple` in IPython 7.17 and above.\n",
      "  and should_run_async(code)\n"
     ]
    },
    {
     "data": {
      "text/plain": [
       "array(['great'], dtype='<U9')"
      ]
     },
     "execution_count": 60,
     "metadata": {},
     "output_type": "execute_result"
    }
   ],
   "source": [
    "# check with a 2-star review\n",
    "\n",
    "review_2 = [['So I know that when you eat at a diner you are going to get greasy food, but this had way too much grease. We may have just gone on a bad day but the hashbrowns were so greasy that they were soggy (versus crispy), and the scrambled eggs managed to somehow be both undercooked and overly greasy. The only thing that gave this place 2 stars instead of 1 is that our server was great.']]\n",
    "review_2_df = pd.DataFrame(data=review_2)\n",
    "proc_text(review_2_df, 'clean_review', 0)\n",
    "grid_search_2.predict(review_2_df.clean_review)"
   ]
  },
  {
   "cell_type": "code",
   "execution_count": 61,
   "metadata": {},
   "outputs": [
    {
     "name": "stderr",
     "output_type": "stream",
     "text": [
      "c:\\users\\njeri\\.venvs\\smart_stay\\lib\\site-packages\\ipykernel\\ipkernel.py:283: DeprecationWarning: `should_run_async` will not call `transform_cell` automatically in the future. Please pass the result to `transformed_cell` argument and any exception that happen during thetransform in `preprocessing_exc_tuple` in IPython 7.17 and above.\n",
      "  and should_run_async(code)\n"
     ]
    },
    {
     "data": {
      "text/plain": [
       "array(['good'], dtype='<U9')"
      ]
     },
     "execution_count": 61,
     "metadata": {},
     "output_type": "execute_result"
    }
   ],
   "source": [
    "# 1-star review\n",
    "\n",
    "review_3 = [['The waiters/waitresses seemed to hate their jobs and made it unpleasant to eat/be here. My sandwich wasn’t good, Denver Melt. My husband’s sausage sandwich was tasty. Just disappointed as the ratings were good - definitely not.']]\n",
    "review_3_df = pd.DataFrame(data=review_3)\n",
    "proc_text(review_3_df, 'clean_review', 0)\n",
    "grid_search_2.predict(review_3_df.clean_review)"
   ]
  },
  {
   "cell_type": "markdown",
   "metadata": {},
   "source": [
    "### Baseline evaluation"
   ]
  },
  {
   "cell_type": "code",
   "execution_count": 70,
   "metadata": {},
   "outputs": [
    {
     "name": "stderr",
     "output_type": "stream",
     "text": [
      "c:\\users\\njeri\\.venvs\\smart_stay\\lib\\site-packages\\ipykernel\\ipkernel.py:283: DeprecationWarning: `should_run_async` will not call `transform_cell` automatically in the future. Please pass the result to `transformed_cell` argument and any exception that happen during thetransform in `preprocessing_exc_tuple` in IPython 7.17 and above.\n",
      "  and should_run_async(code)\n"
     ]
    },
    {
     "name": "stdout",
     "output_type": "stream",
     "text": [
      "Fitting 5 folds for each of 3 candidates, totalling 15 fits\n",
      "Wall time: 5.34 s\n"
     ]
    },
    {
     "data": {
      "text/plain": [
       "GridSearchCV(cv=5,\n",
       "             estimator=Pipeline(steps=[('tfidf',\n",
       "                                        TfidfVectorizer(max_df=0.7,\n",
       "                                                        max_features=50,\n",
       "                                                        min_df=0.1)),\n",
       "                                       ('dc', DummyClassifier())]),\n",
       "             n_jobs=-1,\n",
       "             param_grid={'dc__strategy': ['stratified', 'most_frequent',\n",
       "                                          'prior']},\n",
       "             scoring='accuracy', verbose=1)"
      ]
     },
     "execution_count": 70,
     "metadata": {},
     "output_type": "execute_result"
    }
   ],
   "source": [
    "%%time\n",
    "\n",
    "pipeline_bl = Pipeline([\n",
    "    ('tfidf', TfidfVectorizer(max_df=0.7, max_features=50, min_df=0.1, ngram_range=(1,1))),\n",
    "    ('dc', DummyClassifier()),\n",
    "])\n",
    "\n",
    "parameters_bl = {\n",
    "    'dc__strategy': ['stratified', 'most_frequent', 'prior']\n",
    "}\n",
    "\n",
    "grid_search_bl = GridSearchCV(pipeline_bl, parameters_bl, n_jobs=-1, \n",
    "                           verbose=1, scoring = \"accuracy\", \n",
    "                           refit=True, cv=5)\n",
    "\n",
    "grid_search_bl.fit(X, y)"
   ]
  },
  {
   "cell_type": "code",
   "execution_count": 71,
   "metadata": {},
   "outputs": [
    {
     "name": "stderr",
     "output_type": "stream",
     "text": [
      "c:\\users\\njeri\\.venvs\\smart_stay\\lib\\site-packages\\ipykernel\\ipkernel.py:283: DeprecationWarning: `should_run_async` will not call `transform_cell` automatically in the future. Please pass the result to `transformed_cell` argument and any exception that happen during thetransform in `preprocessing_exc_tuple` in IPython 7.17 and above.\n",
      "  and should_run_async(code)\n"
     ]
    },
    {
     "data": {
      "text/plain": [
       "{'dc__strategy': 'most_frequent'}"
      ]
     },
     "execution_count": 71,
     "metadata": {},
     "output_type": "execute_result"
    }
   ],
   "source": [
    "grid_search_bl.best_params_"
   ]
  },
  {
   "cell_type": "code",
   "execution_count": 72,
   "metadata": {},
   "outputs": [
    {
     "name": "stderr",
     "output_type": "stream",
     "text": [
      "c:\\users\\njeri\\.venvs\\smart_stay\\lib\\site-packages\\ipykernel\\ipkernel.py:283: DeprecationWarning: `should_run_async` will not call `transform_cell` automatically in the future. Please pass the result to `transformed_cell` argument and any exception that happen during thetransform in `preprocessing_exc_tuple` in IPython 7.17 and above.\n",
      "  and should_run_async(code)\n"
     ]
    },
    {
     "data": {
      "text/plain": [
       "0.46116529132283074"
      ]
     },
     "execution_count": 72,
     "metadata": {},
     "output_type": "execute_result"
    }
   ],
   "source": [
    "grid_search_bl.best_score_"
   ]
  },
  {
   "cell_type": "code",
   "execution_count": 65,
   "metadata": {},
   "outputs": [
    {
     "name": "stdout",
     "output_type": "stream",
     "text": [
      "4-star result: ['great']\n",
      "2-star result: ['great']\n",
      "1-star result: ['great']\n"
     ]
    },
    {
     "name": "stderr",
     "output_type": "stream",
     "text": [
      "c:\\users\\njeri\\.venvs\\smart_stay\\lib\\site-packages\\ipykernel\\ipkernel.py:283: DeprecationWarning: `should_run_async` will not call `transform_cell` automatically in the future. Please pass the result to `transformed_cell` argument and any exception that happen during thetransform in `preprocessing_exc_tuple` in IPython 7.17 and above.\n",
      "  and should_run_async(code)\n"
     ]
    }
   ],
   "source": [
    "print(f'4-star result: {grid_search_bl.predict(review_df.clean_review)}')\n",
    "print(f'2-star result: {grid_search_bl.predict(review_2_df.clean_review)}')\n",
    "print(f'1-star result: {grid_search_bl.predict(review_3_df.clean_review)}')"
   ]
  },
  {
   "cell_type": "markdown",
   "metadata": {},
   "source": [
    "-----------------------------------------------------\n",
    "\n",
    "*Multinomial Naive Bayes is slightly better than the Dummy Classifier on accuracy score and neither does well on predicting ratings from new reviews. Try LDA to see topics can be allocated from the data*\n",
    "\n",
    "-----------------------------------------------------"
   ]
  },
  {
   "cell_type": "markdown",
   "metadata": {},
   "source": [
    "### Latent Dirichlet Allocation"
   ]
  },
  {
   "cell_type": "code",
   "execution_count": 66,
   "metadata": {},
   "outputs": [
    {
     "name": "stderr",
     "output_type": "stream",
     "text": [
      "c:\\users\\njeri\\.venvs\\smart_stay\\lib\\site-packages\\ipykernel\\ipkernel.py:283: DeprecationWarning: `should_run_async` will not call `transform_cell` automatically in the future. Please pass the result to `transformed_cell` argument and any exception that happen during thetransform in `preprocessing_exc_tuple` in IPython 7.17 and above.\n",
      "  and should_run_async(code)\n"
     ]
    },
    {
     "data": {
      "image/png": "[encoded data removed]",
      "text/plain": [
       "<PIL.Image.Image image mode=RGB size=400x200 at 0x208597B6E08>"
      ]
     },
     "execution_count": 66,
     "metadata": {},
     "output_type": "execute_result"
    }
   ],
   "source": [
    "# Generate word cloud\n",
    "\n",
    "# Join the different processed reviews together.\n",
    "long_string = ','.join(list(data['clean_review'].values))\n",
    "\n",
    "wordcloud = WordCloud(background_color=\"white\", max_words=5000, contour_width=3, contour_color='steelblue')\n",
    "wordcloud.generate(long_string)\n",
    "wordcloud.to_image()"
   ]
  },
  {
   "cell_type": "code",
   "execution_count": 73,
   "metadata": {},
   "outputs": [
    {
     "name": "stderr",
     "output_type": "stream",
     "text": [
      "c:\\users\\njeri\\.venvs\\smart_stay\\lib\\site-packages\\ipykernel\\ipkernel.py:283: DeprecationWarning: `should_run_async` will not call `transform_cell` automatically in the future. Please pass the result to `transformed_cell` argument and any exception that happen during thetransform in `preprocessing_exc_tuple` in IPython 7.17 and above.\n",
      "  and should_run_async(code)\n"
     ]
    },
    {
     "name": "stdout",
     "output_type": "stream",
     "text": [
      "Wall time: 28 s\n"
     ]
    }
   ],
   "source": [
    "%%time\n",
    "\n",
    "vectorizer = TfidfVectorizer(max_df=0.7, max_features=50, min_df=0.1, ngram_range=(1,1)).fit(X)\n",
    "\n",
    "data_vectorized = vectorizer.transform(X)\n",
    "\n",
    "lda_model = LDA().fit(data_vectorized)"
   ]
  },
  {
   "cell_type": "code",
   "execution_count": 75,
   "metadata": {},
   "outputs": [
    {
     "name": "stdout",
     "output_type": "stream",
     "text": [
      "Topic 0:\n",
      "[('bed', 684.7991735184454), ('comfortable', 547.6402728293364), ('room', 443.30734636401365), ('clean', 296.98959810560297), ('nice', 210.09040846677976), ('hotel', 208.8400566662508), ('breakfast', 190.80602503654495), ('good', 169.08645700742963), ('stay', 140.45356115635454), ('great', 133.2264066678566)]\n",
      "Topic 1:\n",
      "[('desk', 731.1031954676747), ('front', 726.0299416983988), ('room', 321.4957361662295), ('hotel', 233.2583886804454), ('staff', 165.3476174517772), ('stay', 142.51241781780436), ('clean', 120.5614454217476), ('helpful', 118.12050030056292), ('would', 117.34577900232237), ('service', 114.69896173534156)]\n",
      "Topic 2:\n",
      "[('staff', 653.5571807686033), ('friendly', 626.8678530583207), ('helpful', 520.129992798126), ('hotel', 387.08051072285343), ('clean', 383.17991143132383), ('room', 348.5983920928628), ('stay', 270.8396483006236), ('great', 266.1067890314636), ('breakfast', 227.21704901636204), ('nice', 181.85112001558184)]\n",
      "Topic 3:\n",
      "[('good', 862.1059608875519), ('location', 407.2921325705577), ('breakfast', 374.22561746845463), ('room', 265.11448756456895), ('staff', 213.73528668536105), ('hotel', 194.89332937739803), ('great', 193.55532952398895), ('nice', 175.9650228353985), ('clean', 165.72705878024215), ('service', 127.94475295144318)]\n",
      "Topic 4:\n",
      "[('pool', 517.3694146177277), ('great', 386.4411789243583), ('close', 319.60497759903654), ('hotel', 255.5049878264569), ('room', 234.6508343181978), ('service', 197.01819880860606), ('nice', 194.47408743463035), ('breakfast', 149.5826057777775), ('area', 140.93551929299804), ('location', 137.48878072179033)]\n",
      "Topic 5:\n",
      "[('night', 666.4324433827475), ('one', 533.7552432844682), ('room', 520.0154737881098), ('hotel', 463.58694445310846), ('stayed', 455.72471067588106), ('day', 387.04245497432976), ('get', 287.1400007477788), ('stay', 254.10213057086736), ('time', 231.37261680306779), ('would', 187.7978739210453)]\n",
      "Topic 6:\n",
      "[('place', 602.2281083541595), ('area', 324.645922806773), ('well', 291.2865369471257), ('room', 265.2939993591026), ('stay', 227.35215200577588), ('hotel', 224.5975524964325), ('great', 203.12502456362543), ('nice', 196.73948593974887), ('clean', 190.00385492705678), ('staff', 139.9565914890637)]\n",
      "Topic 7:\n",
      "[('like', 509.10855882461266), ('room', 453.58526117161796), ('would', 293.7676761589364), ('hotel', 292.17367640796283), ('stay', 163.6189880156753), ('could', 153.7496732137237), ('back', 109.26124933936555), ('get', 90.45175149236567), ('nice', 86.18404938134816), ('clean', 83.3391440730269)]\n",
      "Topic 8:\n",
      "[('hotel', 632.6963729050865), ('stay', 593.4583204077272), ('thank', 571.1804594026446), ('experience', 547.2561212755505), ('guest', 539.2324110699119), ('time', 537.8465380213286), ('review', 532.0723394327953), ('room', 437.61032460145185), ('great', 399.3747416156691), ('staff', 382.1013415781111)]\n",
      "Topic 9:\n",
      "[('restaurant', 497.7954378030492), ('hotel', 455.9339497899615), ('enjoyed', 283.0550336145732), ('stay', 239.8296483335683), ('nice', 219.62363865931334), ('great', 215.90133846089347), ('room', 193.14028699029865), ('location', 154.54686286386263), ('staff', 153.18292893487342), ('clean', 132.82878547982384)]\n"
     ]
    },
    {
     "name": "stderr",
     "output_type": "stream",
     "text": [
      "c:\\users\\njeri\\.venvs\\smart_stay\\lib\\site-packages\\ipykernel\\ipkernel.py:283: DeprecationWarning: `should_run_async` will not call `transform_cell` automatically in the future. Please pass the result to `transformed_cell` argument and any exception that happen during thetransform in `preprocessing_exc_tuple` in IPython 7.17 and above.\n",
      "  and should_run_async(code)\n"
     ]
    }
   ],
   "source": [
    "def print_topics(model, vectorizer):\n",
    "    for idx, topic in enumerate(model.components_):\n",
    "        print(\"Topic %d:\" % (idx))\n",
    "        print([(vectorizer.get_feature_names()[i], topic[i])\n",
    "                        for i in topic.argsort()[:-10 - 1:-1]])\n",
    "        \n",
    "\n",
    "print_topics(lda_model, vectorizer)"
   ]
  },
  {
   "cell_type": "code",
   "execution_count": 69,
   "metadata": {},
   "outputs": [
    {
     "name": "stderr",
     "output_type": "stream",
     "text": [
      "c:\\users\\njeri\\.venvs\\smart_stay\\lib\\site-packages\\ipykernel\\ipkernel.py:283: DeprecationWarning: `should_run_async` will not call `transform_cell` automatically in the future. Please pass the result to `transformed_cell` argument and any exception that happen during thetransform in `preprocessing_exc_tuple` in IPython 7.17 and above.\n",
      "  and should_run_async(code)\n"
     ]
    },
    {
     "ename": "NameError",
     "evalue": "name 'corpus' is not defined",
     "output_type": "error",
     "traceback": [
      "\u001b[1;31m---------------------------------------------------------------------------\u001b[0m",
      "\u001b[1;31mNameError\u001b[0m                                 Traceback (most recent call last)",
      "\u001b[1;32m<ipython-input-69-939db93474b4>\u001b[0m in \u001b[0;36m<module>\u001b[1;34m\u001b[0m\n\u001b[0;32m      5\u001b[0m \u001b[1;33m\u001b[0m\u001b[0m\n\u001b[0;32m      6\u001b[0m \u001b[1;32mif\u001b[0m \u001b[1;36m1\u001b[0m \u001b[1;33m==\u001b[0m \u001b[1;36m1\u001b[0m\u001b[1;33m:\u001b[0m\u001b[1;33m\u001b[0m\u001b[1;33m\u001b[0m\u001b[0m\n\u001b[1;32m----> 7\u001b[1;33m     \u001b[0mLDAvis_prepared\u001b[0m \u001b[1;33m=\u001b[0m \u001b[0mpyLDAvis\u001b[0m\u001b[1;33m.\u001b[0m\u001b[0mgensim\u001b[0m\u001b[1;33m.\u001b[0m\u001b[0mprepare\u001b[0m\u001b[1;33m(\u001b[0m\u001b[0mlda_model\u001b[0m\u001b[1;33m,\u001b[0m \u001b[0mcorpus\u001b[0m\u001b[1;33m,\u001b[0m \u001b[0mid2word\u001b[0m\u001b[1;33m)\u001b[0m\u001b[1;33m\u001b[0m\u001b[1;33m\u001b[0m\u001b[0m\n\u001b[0m\u001b[0;32m      8\u001b[0m     \u001b[1;32mwith\u001b[0m \u001b[0mopen\u001b[0m\u001b[1;33m(\u001b[0m\u001b[0mLDAvis_data_filepath\u001b[0m\u001b[1;33m,\u001b[0m \u001b[1;34m'wb'\u001b[0m\u001b[1;33m)\u001b[0m \u001b[1;32mas\u001b[0m \u001b[0mf\u001b[0m\u001b[1;33m:\u001b[0m\u001b[1;33m\u001b[0m\u001b[1;33m\u001b[0m\u001b[0m\n\u001b[0;32m      9\u001b[0m         \u001b[0mpickle\u001b[0m\u001b[1;33m.\u001b[0m\u001b[0mdump\u001b[0m\u001b[1;33m(\u001b[0m\u001b[0mLDAvis_prepared\u001b[0m\u001b[1;33m,\u001b[0m \u001b[0mf\u001b[0m\u001b[1;33m)\u001b[0m\u001b[1;33m\u001b[0m\u001b[1;33m\u001b[0m\u001b[0m\n",
      "\u001b[1;31mNameError\u001b[0m: name 'corpus' is not defined"
     ]
    }
   ],
   "source": [
    "# Visualize LDA output topics\n",
    "num_topics = 10\n",
    "pyLDAvis.enable_notebook()\n",
    "LDAvis_data_filepath = os.path.join('./results/ldavis_prepared_'+str(num_topics))\n",
    "\n",
    "if 1 == 1:\n",
    "    LDAvis_prepared = pyLDAvis.gensim.prepare(lda_model, corpus, id2word)\n",
    "    with open(LDAvis_data_filepath, 'wb') as f:\n",
    "        pickle.dump(LDAvis_prepared, f)\n",
    "# load the pre-prepared pyLDAvis data from disk\n",
    "with open(LDAvis_data_filepath, 'rb') as f:\n",
    "    LDAvis_prepared = pickle.load(f)\n",
    "pyLDAvis.save_html(LDAvis_prepared, './results/ldavis_prepared_'+ str(num_topics) +'.html')\n",
    "LDAvis_prepared"
   ]
  },
  {
   "cell_type": "code",
   "execution_count": null,
   "metadata": {},
   "outputs": [],
   "source": []
  },
  {
   "cell_type": "markdown",
   "metadata": {},
   "source": [
    "## Deep Learning Modeling & Evaluating\n",
    "- complete sentiment analysis (with visualization) using Word2Vec\n",
    "- model with RNN (with embedding layer, using only words that occur more than 30 times)\n",
    "- model with CNN (1D)"
   ]
  },
  {
   "cell_type": "markdown",
   "metadata": {},
   "source": [
    "## Data Engineering\n",
    "- create package (init, setup, reqs, etc)\n",
    "- check formatting with Black\n",
    "- use MLflow to track performance of model iterations\n",
    "- train on GCP\n",
    "- build API with FastAPI and Uvicorn\n",
    "- build Docker image & deploy to Cloud Run (may also consider Heroku)\n",
    "- build UI; initial ideas:\n",
    "    - \"where do you want to go?\" User input of location\n",
    "    - Or could be \"what do you want to do?\" User input of activities with location then suggested\n",
    "    - Locations show map of hotel locations (using lat/lon to locate, Taxi Fare interface as a starting point)\n",
    "    - Location page shows average rating and number of ratings and some blurbs of what has been said\n",
    "- consider flask or streamlit for app (dependent on which works better with Cloud Run)"
   ]
  },
  {
   "cell_type": "markdown",
   "metadata": {},
   "source": [
    "## Kitt References\n",
    "- Machine Learning:\n",
    "    - Natural Language Processing\n",
    "    - Performance Metrics\n",
    "- Deep Learning:\n",
    "    - Natural Langauge Processing\n",
    "- Data Engineering:\n",
    "    - Code as a Product\n",
    "    - Machine Learning Iteration\n",
    "    - Train at Scale\n",
    "    - Predict in Production\n",
    "    - User Interface"
   ]
  },
  {
   "cell_type": "code",
   "execution_count": null,
   "metadata": {},
   "outputs": [],
   "source": []
  },
  {
   "cell_type": "code",
   "execution_count": null,
   "metadata": {},
   "outputs": [],
   "source": []
  }
 ],
 "metadata": {
  "kernelspec": {
   "display_name": "Python 3",
   "language": "python",
   "name": "python3"
  },
  "language_info": {
   "codemirror_mode": {
    "name": "ipython",
    "version": 3
   },
   "file_extension": ".py",
   "mimetype": "text/x-python",
   "name": "python",
   "nbconvert_exporter": "python",
   "pygments_lexer": "ipython3",
   "version": "3.7.7"
  },
  "toc": {
   "base_numbering": 1,
   "nav_menu": {},
   "number_sections": true,
   "sideBar": true,
   "skip_h1_title": false,
   "title_cell": "Table of Contents",
   "title_sidebar": "Contents",
   "toc_cell": false,
   "toc_position": {},
   "toc_section_display": true,
   "toc_window_display": true
  }
 },
 "nbformat": 4,
 "nbformat_minor": 4
}
