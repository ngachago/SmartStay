{
 "cells": [
  {
   "cell_type": "markdown",
   "metadata": {},
   "source": [
    "## Overview\n",
    "\n",
    "This notebook explores the Datafiniti Hotel Reviews dataset provided on [Kaggle](https://www.kaggle.com/datafiniti/hotel-reviews)"
   ]
  },
  {
   "cell_type": "code",
   "execution_count": 90,
   "metadata": {},
   "outputs": [],
   "source": [
    "import warnings\n",
    "warnings.filterwarnings(\"ignore\", category=DeprecationWarning)"
   ]
  },
  {
   "cell_type": "code",
   "execution_count": 168,
   "metadata": {},
   "outputs": [
    {
     "name": "stderr",
     "output_type": "stream",
     "text": [
      "[nltk_data] Downloading package stopwords to\n",
      "[nltk_data]     C:\\Users\\njeri\\AppData\\Roaming\\nltk_data...\n",
      "[nltk_data]   Package stopwords is already up-to-date!\n",
      "[nltk_data] Downloading package punkt to\n",
      "[nltk_data]     C:\\Users\\njeri\\AppData\\Roaming\\nltk_data...\n",
      "[nltk_data]   Package punkt is already up-to-date!\n",
      "[nltk_data] Downloading package wordnet to\n",
      "[nltk_data]     C:\\Users\\njeri\\AppData\\Roaming\\nltk_data...\n",
      "[nltk_data]   Package wordnet is already up-to-date!\n"
     ]
    }
   ],
   "source": [
    "# Data processing\n",
    "import pandas as pd\n",
    "from urllib.parse import urlparse\n",
    "import string\n",
    "from nltk.corpus import stopwords \n",
    "from nltk.tokenize import word_tokenize\n",
    "import nltk\n",
    "nltk.download('stopwords')\n",
    "nltk.download('punkt')\n",
    "from nltk.stem import WordNetLemmatizer\n",
    "nltk.download('wordnet')\n",
    "\n",
    "# ML modeling\n",
    "from sklearn.model_selection import GridSearchCV\n",
    "from sklearn.pipeline import Pipeline\n",
    "from sklearn.feature_extraction.text import TfidfVectorizer\n",
    "from sklearn.naive_bayes import MultinomialNB\n",
    "from sklearn.metrics import f1_score\n",
    "from sklearn.dummy import DummyClassifier\n",
    "from wordcloud import WordCloud\n",
    "import pyLDAvis.gensim\n",
    "import pickle \n",
    "import pyLDAvis\n",
    "import os\n",
    "import gensim\n",
    "import gensim.corpora as corpora\n",
    "from pprint import pprint\n",
    "\n",
    "# DL modeling\n",
    "from sklearn.model_selection import train_test_split\n",
    "from gensim.models import Word2Vec\n",
    "import numpy as np\n",
    "import matplotlib.pyplot as plt\n",
    "from tensorflow.keras.preprocessing.sequence import pad_sequences\n",
    "from tensorflow.keras import models\n",
    "from tensorflow.keras import layers\n",
    "from tensorflow.keras.callbacks import EarlyStopping\n",
    "from sklearn.preprocessing import OneHotEncoder\n",
    "from ss_package.utils import plot_loss_accuracy"
   ]
  },
  {
   "cell_type": "markdown",
   "metadata": {
    "heading_collapsed": true
   },
   "source": [
    "## Load data"
   ]
  },
  {
   "cell_type": "code",
   "execution_count": 4,
   "metadata": {
    "hidden": true
   },
   "outputs": [
    {
     "data": {
      "text/plain": [
       "(10000, 25)"
      ]
     },
     "execution_count": 4,
     "metadata": {},
     "output_type": "execute_result"
    }
   ],
   "source": [
    "df_1 = pd.read_csv('data/Datafiniti_Hotel_Reviews.csv')\n",
    "df_1.shape"
   ]
  },
  {
   "cell_type": "code",
   "execution_count": 5,
   "metadata": {
    "hidden": true
   },
   "outputs": [
    {
     "data": {
      "text/plain": [
       "Index(['id', 'dateAdded', 'dateUpdated', 'address', 'categories',\n",
       "       'primaryCategories', 'city', 'country', 'keys', 'latitude', 'longitude',\n",
       "       'name', 'postalCode', 'province', 'reviews.date', 'reviews.dateAdded',\n",
       "       'reviews.dateSeen', 'reviews.rating', 'reviews.sourceURLs',\n",
       "       'reviews.text', 'reviews.title', 'reviews.userCity',\n",
       "       'reviews.userProvince', 'reviews.username', 'sourceURLs', 'websites'],\n",
       "      dtype='object')"
      ]
     },
     "execution_count": 5,
     "metadata": {},
     "output_type": "execute_result"
    }
   ],
   "source": [
    "df_2 = pd.read_csv('data/Datafiniti_Hotel_Reviews_Jun19.csv')\n",
    "df_2.columns"
   ]
  },
  {
   "cell_type": "code",
   "execution_count": 6,
   "metadata": {
    "hidden": true
   },
   "outputs": [
    {
     "data": {
      "text/plain": [
       "(10000, 25)"
      ]
     },
     "execution_count": 6,
     "metadata": {},
     "output_type": "execute_result"
    }
   ],
   "source": [
    "# Make sure columns match before concatenating\n",
    "df_2 = df_2.drop(columns='reviews.dateAdded')\n",
    "df_2.shape"
   ]
  },
  {
   "cell_type": "code",
   "execution_count": 7,
   "metadata": {
    "hidden": true
   },
   "outputs": [
    {
     "data": {
      "text/plain": [
       "(20000, 25)"
      ]
     },
     "execution_count": 7,
     "metadata": {},
     "output_type": "execute_result"
    }
   ],
   "source": [
    "data = pd.concat([df_1, df_2], ignore_index=True)\n",
    "data.shape"
   ]
  },
  {
   "cell_type": "code",
   "execution_count": 8,
   "metadata": {
    "hidden": true
   },
   "outputs": [
    {
     "data": {
      "text/html": [
       "<div>\n",
       "<style scoped>\n",
       "    .dataframe tbody tr th:only-of-type {\n",
       "        vertical-align: middle;\n",
       "    }\n",
       "\n",
       "    .dataframe tbody tr th {\n",
       "        vertical-align: top;\n",
       "    }\n",
       "\n",
       "    .dataframe thead th {\n",
       "        text-align: right;\n",
       "    }\n",
       "</style>\n",
       "<table border=\"1\" class=\"dataframe\">\n",
       "  <thead>\n",
       "    <tr style=\"text-align: right;\">\n",
       "      <th></th>\n",
       "      <th>id</th>\n",
       "      <th>dateAdded</th>\n",
       "      <th>dateUpdated</th>\n",
       "      <th>address</th>\n",
       "      <th>categories</th>\n",
       "      <th>primaryCategories</th>\n",
       "      <th>city</th>\n",
       "      <th>country</th>\n",
       "      <th>keys</th>\n",
       "      <th>latitude</th>\n",
       "      <th>...</th>\n",
       "      <th>reviews.dateSeen</th>\n",
       "      <th>reviews.rating</th>\n",
       "      <th>reviews.sourceURLs</th>\n",
       "      <th>reviews.text</th>\n",
       "      <th>reviews.title</th>\n",
       "      <th>reviews.userCity</th>\n",
       "      <th>reviews.userProvince</th>\n",
       "      <th>reviews.username</th>\n",
       "      <th>sourceURLs</th>\n",
       "      <th>websites</th>\n",
       "    </tr>\n",
       "  </thead>\n",
       "  <tbody>\n",
       "    <tr>\n",
       "      <th>0</th>\n",
       "      <td>AVwc252WIN2L1WUfpqLP</td>\n",
       "      <td>2016-10-30T21:42:42Z</td>\n",
       "      <td>2018-09-10T21:06:27Z</td>\n",
       "      <td>5921 Valencia Cir</td>\n",
       "      <td>Hotels,Hotels and motels,Hotel and motel reser...</td>\n",
       "      <td>Accommodation &amp; Food Services</td>\n",
       "      <td>Rancho Santa Fe</td>\n",
       "      <td>US</td>\n",
       "      <td>us/ca/ranchosantafe/5921valenciacir/359754519</td>\n",
       "      <td>32.990959</td>\n",
       "      <td>...</td>\n",
       "      <td>2016-08-03T00:00:00Z,2016-07-26T00:00:00Z,2016...</td>\n",
       "      <td>5.0</td>\n",
       "      <td>https://www.hotels.com/hotel/125419/reviews%20/</td>\n",
       "      <td>Our experience at Rancho Valencia was absolute...</td>\n",
       "      <td>Best romantic vacation ever!!!!</td>\n",
       "      <td>NaN</td>\n",
       "      <td>NaN</td>\n",
       "      <td>Paula</td>\n",
       "      <td>http://www.hotels.com/ho125419/%25252525253Flo...</td>\n",
       "      <td>http://www.ranchovalencia.com</td>\n",
       "    </tr>\n",
       "    <tr>\n",
       "      <th>1</th>\n",
       "      <td>AVwc252WIN2L1WUfpqLP</td>\n",
       "      <td>2016-10-30T21:42:42Z</td>\n",
       "      <td>2018-09-10T21:06:27Z</td>\n",
       "      <td>5921 Valencia Cir</td>\n",
       "      <td>Hotels,Hotels and motels,Hotel and motel reser...</td>\n",
       "      <td>Accommodation &amp; Food Services</td>\n",
       "      <td>Rancho Santa Fe</td>\n",
       "      <td>US</td>\n",
       "      <td>us/ca/ranchosantafe/5921valenciacir/359754519</td>\n",
       "      <td>32.990959</td>\n",
       "      <td>...</td>\n",
       "      <td>2016-08-02T00:00:00Z,2016-08-26T00:00:00Z,2016...</td>\n",
       "      <td>5.0</td>\n",
       "      <td>https://www.hotels.com/hotel/125419/reviews%20/</td>\n",
       "      <td>Amazing place. Everyone was extremely warm and...</td>\n",
       "      <td>Sweet sweet serenity</td>\n",
       "      <td>NaN</td>\n",
       "      <td>NaN</td>\n",
       "      <td>D</td>\n",
       "      <td>http://www.hotels.com/ho125419/%25252525253Flo...</td>\n",
       "      <td>http://www.ranchovalencia.com</td>\n",
       "    </tr>\n",
       "    <tr>\n",
       "      <th>2</th>\n",
       "      <td>AVwc252WIN2L1WUfpqLP</td>\n",
       "      <td>2016-10-30T21:42:42Z</td>\n",
       "      <td>2018-09-10T21:06:27Z</td>\n",
       "      <td>5921 Valencia Cir</td>\n",
       "      <td>Hotels,Hotels and motels,Hotel and motel reser...</td>\n",
       "      <td>Accommodation &amp; Food Services</td>\n",
       "      <td>Rancho Santa Fe</td>\n",
       "      <td>US</td>\n",
       "      <td>us/ca/ranchosantafe/5921valenciacir/359754519</td>\n",
       "      <td>32.990959</td>\n",
       "      <td>...</td>\n",
       "      <td>2016-11-15T00:00:00Z,2016-08-23T00:00:00Z,2016...</td>\n",
       "      <td>5.0</td>\n",
       "      <td>https://www.hotels.com/hotel/125419/reviews%20/</td>\n",
       "      <td>We booked a 3 night stay at Rancho Valencia to...</td>\n",
       "      <td>Amazing Property and Experience</td>\n",
       "      <td>NaN</td>\n",
       "      <td>NaN</td>\n",
       "      <td>Ron</td>\n",
       "      <td>http://www.hotels.com/ho125419/%25252525253Flo...</td>\n",
       "      <td>http://www.ranchovalencia.com</td>\n",
       "    </tr>\n",
       "  </tbody>\n",
       "</table>\n",
       "<p>3 rows × 25 columns</p>\n",
       "</div>"
      ],
      "text/plain": [
       "                     id             dateAdded           dateUpdated  \\\n",
       "0  AVwc252WIN2L1WUfpqLP  2016-10-30T21:42:42Z  2018-09-10T21:06:27Z   \n",
       "1  AVwc252WIN2L1WUfpqLP  2016-10-30T21:42:42Z  2018-09-10T21:06:27Z   \n",
       "2  AVwc252WIN2L1WUfpqLP  2016-10-30T21:42:42Z  2018-09-10T21:06:27Z   \n",
       "\n",
       "             address                                         categories  \\\n",
       "0  5921 Valencia Cir  Hotels,Hotels and motels,Hotel and motel reser...   \n",
       "1  5921 Valencia Cir  Hotels,Hotels and motels,Hotel and motel reser...   \n",
       "2  5921 Valencia Cir  Hotels,Hotels and motels,Hotel and motel reser...   \n",
       "\n",
       "               primaryCategories             city country  \\\n",
       "0  Accommodation & Food Services  Rancho Santa Fe      US   \n",
       "1  Accommodation & Food Services  Rancho Santa Fe      US   \n",
       "2  Accommodation & Food Services  Rancho Santa Fe      US   \n",
       "\n",
       "                                            keys   latitude  ...  \\\n",
       "0  us/ca/ranchosantafe/5921valenciacir/359754519  32.990959  ...   \n",
       "1  us/ca/ranchosantafe/5921valenciacir/359754519  32.990959  ...   \n",
       "2  us/ca/ranchosantafe/5921valenciacir/359754519  32.990959  ...   \n",
       "\n",
       "                                    reviews.dateSeen reviews.rating  \\\n",
       "0  2016-08-03T00:00:00Z,2016-07-26T00:00:00Z,2016...            5.0   \n",
       "1  2016-08-02T00:00:00Z,2016-08-26T00:00:00Z,2016...            5.0   \n",
       "2  2016-11-15T00:00:00Z,2016-08-23T00:00:00Z,2016...            5.0   \n",
       "\n",
       "                                reviews.sourceURLs  \\\n",
       "0  https://www.hotels.com/hotel/125419/reviews%20/   \n",
       "1  https://www.hotels.com/hotel/125419/reviews%20/   \n",
       "2  https://www.hotels.com/hotel/125419/reviews%20/   \n",
       "\n",
       "                                        reviews.text  \\\n",
       "0  Our experience at Rancho Valencia was absolute...   \n",
       "1  Amazing place. Everyone was extremely warm and...   \n",
       "2  We booked a 3 night stay at Rancho Valencia to...   \n",
       "\n",
       "                     reviews.title reviews.userCity  reviews.userProvince  \\\n",
       "0  Best romantic vacation ever!!!!              NaN                   NaN   \n",
       "1             Sweet sweet serenity              NaN                   NaN   \n",
       "2  Amazing Property and Experience              NaN                   NaN   \n",
       "\n",
       "  reviews.username                                         sourceURLs  \\\n",
       "0            Paula  http://www.hotels.com/ho125419/%25252525253Flo...   \n",
       "1                D  http://www.hotels.com/ho125419/%25252525253Flo...   \n",
       "2              Ron  http://www.hotels.com/ho125419/%25252525253Flo...   \n",
       "\n",
       "                        websites  \n",
       "0  http://www.ranchovalencia.com  \n",
       "1  http://www.ranchovalencia.com  \n",
       "2  http://www.ranchovalencia.com  \n",
       "\n",
       "[3 rows x 25 columns]"
      ]
     },
     "execution_count": 8,
     "metadata": {},
     "output_type": "execute_result"
    }
   ],
   "source": [
    "data.head(3)"
   ]
  },
  {
   "cell_type": "code",
   "execution_count": 9,
   "metadata": {
    "hidden": true
   },
   "outputs": [
    {
     "data": {
      "text/plain": [
       "Index(['id', 'dateAdded', 'dateUpdated', 'address', 'categories',\n",
       "       'primaryCategories', 'city', 'country', 'keys', 'latitude', 'longitude',\n",
       "       'name', 'postalCode', 'province', 'reviews.date', 'reviews.dateSeen',\n",
       "       'reviews.rating', 'reviews.sourceURLs', 'reviews.text', 'reviews.title',\n",
       "       'reviews.userCity', 'reviews.userProvince', 'reviews.username',\n",
       "       'sourceURLs', 'websites'],\n",
       "      dtype='object')"
      ]
     },
     "execution_count": 9,
     "metadata": {},
     "output_type": "execute_result"
    }
   ],
   "source": [
    "data.columns"
   ]
  },
  {
   "cell_type": "markdown",
   "metadata": {
    "heading_collapsed": true
   },
   "source": [
    "## Look for missing values"
   ]
  },
  {
   "cell_type": "code",
   "execution_count": 10,
   "metadata": {
    "hidden": true
   },
   "outputs": [
    {
     "data": {
      "text/plain": [
       "id                         0\n",
       "dateAdded                  0\n",
       "dateUpdated                0\n",
       "address                    0\n",
       "categories                 0\n",
       "primaryCategories          0\n",
       "city                       0\n",
       "country                    0\n",
       "keys                       0\n",
       "latitude                   0\n",
       "longitude                  0\n",
       "name                       0\n",
       "postalCode                 0\n",
       "province                   0\n",
       "reviews.date               0\n",
       "reviews.dateSeen           0\n",
       "reviews.rating             0\n",
       "reviews.sourceURLs         0\n",
       "reviews.text               1\n",
       "reviews.title              2\n",
       "reviews.userCity        5836\n",
       "reviews.userProvince    7297\n",
       "reviews.username           0\n",
       "sourceURLs                 0\n",
       "websites                   0\n",
       "dtype: int64"
      ]
     },
     "execution_count": 10,
     "metadata": {},
     "output_type": "execute_result"
    }
   ],
   "source": [
    "data.isnull().sum()"
   ]
  },
  {
   "cell_type": "code",
   "execution_count": 11,
   "metadata": {
    "hidden": true
   },
   "outputs": [
    {
     "data": {
      "text/plain": [
       "(20000, 23)"
      ]
     },
     "execution_count": 11,
     "metadata": {},
     "output_type": "execute_result"
    }
   ],
   "source": [
    "# ~30% or more of data missing\n",
    "data = data.drop(columns=['reviews.userCity', 'reviews.userProvince'])\n",
    "data.shape"
   ]
  },
  {
   "cell_type": "code",
   "execution_count": 12,
   "metadata": {
    "hidden": true
   },
   "outputs": [
    {
     "data": {
      "text/plain": [
       "id                    0\n",
       "dateAdded             0\n",
       "dateUpdated           0\n",
       "address               0\n",
       "categories            0\n",
       "primaryCategories     0\n",
       "city                  0\n",
       "country               0\n",
       "keys                  0\n",
       "latitude              0\n",
       "longitude             0\n",
       "name                  0\n",
       "postalCode            0\n",
       "province              0\n",
       "reviews.date          0\n",
       "reviews.dateSeen      0\n",
       "reviews.rating        0\n",
       "reviews.sourceURLs    0\n",
       "reviews.text          1\n",
       "reviews.title         2\n",
       "reviews.username      0\n",
       "sourceURLs            0\n",
       "websites              0\n",
       "dtype: int64"
      ]
     },
     "execution_count": 12,
     "metadata": {},
     "output_type": "execute_result"
    }
   ],
   "source": [
    "data.isnull().sum()"
   ]
  },
  {
   "cell_type": "code",
   "execution_count": 13,
   "metadata": {
    "hidden": true
   },
   "outputs": [
    {
     "data": {
      "text/plain": [
       "(19997, 23)"
      ]
     },
     "execution_count": 13,
     "metadata": {},
     "output_type": "execute_result"
    }
   ],
   "source": [
    "# NLP of reviews therefore drop missing reviews\n",
    "data = data.dropna()\n",
    "data.shape"
   ]
  },
  {
   "cell_type": "markdown",
   "metadata": {},
   "source": [
    "## Handle time data\n",
    "\n",
    "- dateAdded is date info was added to Datafiniti - not needed for this exercise\n",
    "- remove dateUpdated column\n",
    "- remove dateAdded column\n",
    "- remove reviews.dateSeen - not needed for this exercise\n",
    "- convert review.date to date/time dtype:\n",
    "    - parse month and year to separate columns\n",
    "    - create season column"
   ]
  },
  {
   "cell_type": "code",
   "execution_count": 14,
   "metadata": {},
   "outputs": [
    {
     "name": "stdout",
     "output_type": "stream",
     "text": [
      "<class 'pandas.core.frame.DataFrame'>\n",
      "Int64Index: 19997 entries, 0 to 19999\n",
      "Data columns (total 23 columns):\n",
      " #   Column              Non-Null Count  Dtype  \n",
      "---  ------              --------------  -----  \n",
      " 0   id                  19997 non-null  object \n",
      " 1   dateAdded           19997 non-null  object \n",
      " 2   dateUpdated         19997 non-null  object \n",
      " 3   address             19997 non-null  object \n",
      " 4   categories          19997 non-null  object \n",
      " 5   primaryCategories   19997 non-null  object \n",
      " 6   city                19997 non-null  object \n",
      " 7   country             19997 non-null  object \n",
      " 8   keys                19997 non-null  object \n",
      " 9   latitude            19997 non-null  float64\n",
      " 10  longitude           19997 non-null  float64\n",
      " 11  name                19997 non-null  object \n",
      " 12  postalCode          19997 non-null  object \n",
      " 13  province            19997 non-null  object \n",
      " 14  reviews.date        19997 non-null  object \n",
      " 15  reviews.dateSeen    19997 non-null  object \n",
      " 16  reviews.rating      19997 non-null  float64\n",
      " 17  reviews.sourceURLs  19997 non-null  object \n",
      " 18  reviews.text        19997 non-null  object \n",
      " 19  reviews.title       19997 non-null  object \n",
      " 20  reviews.username    19997 non-null  object \n",
      " 21  sourceURLs          19997 non-null  object \n",
      " 22  websites            19997 non-null  object \n",
      "dtypes: float64(3), object(20)\n",
      "memory usage: 3.7+ MB\n"
     ]
    }
   ],
   "source": [
    "data.info()"
   ]
  },
  {
   "cell_type": "code",
   "execution_count": 15,
   "metadata": {},
   "outputs": [
    {
     "data": {
      "text/plain": [
       "(19997, 20)"
      ]
     },
     "execution_count": 15,
     "metadata": {},
     "output_type": "execute_result"
    }
   ],
   "source": [
    "data = data.drop(columns=['dateAdded', 'dateUpdated', 'reviews.dateSeen'])\n",
    "data.shape"
   ]
  },
  {
   "cell_type": "code",
   "execution_count": 16,
   "metadata": {},
   "outputs": [
    {
     "name": "stdout",
     "output_type": "stream",
     "text": [
      "<class 'pandas.core.frame.DataFrame'>\n",
      "Int64Index: 19997 entries, 0 to 19999\n",
      "Data columns (total 20 columns):\n",
      " #   Column              Non-Null Count  Dtype              \n",
      "---  ------              --------------  -----              \n",
      " 0   id                  19997 non-null  object             \n",
      " 1   address             19997 non-null  object             \n",
      " 2   categories          19997 non-null  object             \n",
      " 3   primaryCategories   19997 non-null  object             \n",
      " 4   city                19997 non-null  object             \n",
      " 5   country             19997 non-null  object             \n",
      " 6   keys                19997 non-null  object             \n",
      " 7   latitude            19997 non-null  float64            \n",
      " 8   longitude           19997 non-null  float64            \n",
      " 9   name                19997 non-null  object             \n",
      " 10  postalCode          19997 non-null  object             \n",
      " 11  province            19997 non-null  object             \n",
      " 12  reviews.date        19997 non-null  datetime64[ns, UTC]\n",
      " 13  reviews.rating      19997 non-null  float64            \n",
      " 14  reviews.sourceURLs  19997 non-null  object             \n",
      " 15  reviews.text        19997 non-null  object             \n",
      " 16  reviews.title       19997 non-null  object             \n",
      " 17  reviews.username    19997 non-null  object             \n",
      " 18  sourceURLs          19997 non-null  object             \n",
      " 19  websites            19997 non-null  object             \n",
      "dtypes: datetime64[ns, UTC](1), float64(3), object(16)\n",
      "memory usage: 3.2+ MB\n"
     ]
    }
   ],
   "source": [
    "data['reviews.date'] = pd.to_datetime(data['reviews.date'])\n",
    "data.info()"
   ]
  },
  {
   "cell_type": "code",
   "execution_count": 17,
   "metadata": {},
   "outputs": [
    {
     "data": {
      "text/html": [
       "<div>\n",
       "<style scoped>\n",
       "    .dataframe tbody tr th:only-of-type {\n",
       "        vertical-align: middle;\n",
       "    }\n",
       "\n",
       "    .dataframe tbody tr th {\n",
       "        vertical-align: top;\n",
       "    }\n",
       "\n",
       "    .dataframe thead th {\n",
       "        text-align: right;\n",
       "    }\n",
       "</style>\n",
       "<table border=\"1\" class=\"dataframe\">\n",
       "  <thead>\n",
       "    <tr style=\"text-align: right;\">\n",
       "      <th></th>\n",
       "      <th>id</th>\n",
       "      <th>address</th>\n",
       "      <th>categories</th>\n",
       "      <th>primaryCategories</th>\n",
       "      <th>city</th>\n",
       "      <th>country</th>\n",
       "      <th>keys</th>\n",
       "      <th>latitude</th>\n",
       "      <th>longitude</th>\n",
       "      <th>name</th>\n",
       "      <th>...</th>\n",
       "      <th>reviews.date</th>\n",
       "      <th>reviews.rating</th>\n",
       "      <th>reviews.sourceURLs</th>\n",
       "      <th>reviews.text</th>\n",
       "      <th>reviews.title</th>\n",
       "      <th>reviews.username</th>\n",
       "      <th>sourceURLs</th>\n",
       "      <th>websites</th>\n",
       "      <th>month</th>\n",
       "      <th>year</th>\n",
       "    </tr>\n",
       "  </thead>\n",
       "  <tbody>\n",
       "    <tr>\n",
       "      <th>0</th>\n",
       "      <td>AVwc252WIN2L1WUfpqLP</td>\n",
       "      <td>5921 Valencia Cir</td>\n",
       "      <td>Hotels,Hotels and motels,Hotel and motel reser...</td>\n",
       "      <td>Accommodation &amp; Food Services</td>\n",
       "      <td>Rancho Santa Fe</td>\n",
       "      <td>US</td>\n",
       "      <td>us/ca/ranchosantafe/5921valenciacir/359754519</td>\n",
       "      <td>32.990959</td>\n",
       "      <td>-117.186136</td>\n",
       "      <td>Rancho Valencia Resort Spa</td>\n",
       "      <td>...</td>\n",
       "      <td>2013-11-14 00:00:00+00:00</td>\n",
       "      <td>5.0</td>\n",
       "      <td>https://www.hotels.com/hotel/125419/reviews%20/</td>\n",
       "      <td>Our experience at Rancho Valencia was absolute...</td>\n",
       "      <td>Best romantic vacation ever!!!!</td>\n",
       "      <td>Paula</td>\n",
       "      <td>http://www.hotels.com/ho125419/%25252525253Flo...</td>\n",
       "      <td>http://www.ranchovalencia.com</td>\n",
       "      <td>11</td>\n",
       "      <td>2013</td>\n",
       "    </tr>\n",
       "    <tr>\n",
       "      <th>1</th>\n",
       "      <td>AVwc252WIN2L1WUfpqLP</td>\n",
       "      <td>5921 Valencia Cir</td>\n",
       "      <td>Hotels,Hotels and motels,Hotel and motel reser...</td>\n",
       "      <td>Accommodation &amp; Food Services</td>\n",
       "      <td>Rancho Santa Fe</td>\n",
       "      <td>US</td>\n",
       "      <td>us/ca/ranchosantafe/5921valenciacir/359754519</td>\n",
       "      <td>32.990959</td>\n",
       "      <td>-117.186136</td>\n",
       "      <td>Rancho Valencia Resort Spa</td>\n",
       "      <td>...</td>\n",
       "      <td>2014-07-06 00:00:00+00:00</td>\n",
       "      <td>5.0</td>\n",
       "      <td>https://www.hotels.com/hotel/125419/reviews%20/</td>\n",
       "      <td>Amazing place. Everyone was extremely warm and...</td>\n",
       "      <td>Sweet sweet serenity</td>\n",
       "      <td>D</td>\n",
       "      <td>http://www.hotels.com/ho125419/%25252525253Flo...</td>\n",
       "      <td>http://www.ranchovalencia.com</td>\n",
       "      <td>7</td>\n",
       "      <td>2014</td>\n",
       "    </tr>\n",
       "    <tr>\n",
       "      <th>2</th>\n",
       "      <td>AVwc252WIN2L1WUfpqLP</td>\n",
       "      <td>5921 Valencia Cir</td>\n",
       "      <td>Hotels,Hotels and motels,Hotel and motel reser...</td>\n",
       "      <td>Accommodation &amp; Food Services</td>\n",
       "      <td>Rancho Santa Fe</td>\n",
       "      <td>US</td>\n",
       "      <td>us/ca/ranchosantafe/5921valenciacir/359754519</td>\n",
       "      <td>32.990959</td>\n",
       "      <td>-117.186136</td>\n",
       "      <td>Rancho Valencia Resort Spa</td>\n",
       "      <td>...</td>\n",
       "      <td>2015-01-02 00:00:00+00:00</td>\n",
       "      <td>5.0</td>\n",
       "      <td>https://www.hotels.com/hotel/125419/reviews%20/</td>\n",
       "      <td>We booked a 3 night stay at Rancho Valencia to...</td>\n",
       "      <td>Amazing Property and Experience</td>\n",
       "      <td>Ron</td>\n",
       "      <td>http://www.hotels.com/ho125419/%25252525253Flo...</td>\n",
       "      <td>http://www.ranchovalencia.com</td>\n",
       "      <td>1</td>\n",
       "      <td>2015</td>\n",
       "    </tr>\n",
       "    <tr>\n",
       "      <th>3</th>\n",
       "      <td>AVwdOclqIN2L1WUfti38</td>\n",
       "      <td>7520 Teague Rd</td>\n",
       "      <td>Hotels,Hotels and motels,Travel agencies and b...</td>\n",
       "      <td>Accommodation &amp; Food Services</td>\n",
       "      <td>Hanover</td>\n",
       "      <td>US</td>\n",
       "      <td>us/md/hanover/7520teaguerd/-2043779672</td>\n",
       "      <td>39.155929</td>\n",
       "      <td>-76.716341</td>\n",
       "      <td>Aloft Arundel Mills</td>\n",
       "      <td>...</td>\n",
       "      <td>2016-05-15 00:00:00+00:00</td>\n",
       "      <td>2.0</td>\n",
       "      <td>https://www.tripadvisor.com/Hotel_Review-g4118...</td>\n",
       "      <td>Currently in bed writing this for the past hr ...</td>\n",
       "      <td>Never again...beware, if you want sleep.</td>\n",
       "      <td>jaeem2016</td>\n",
       "      <td>http://www.yellowbook.com/profile/aloft-arunde...</td>\n",
       "      <td>http://www.starwoodhotels.com/alofthotels/prop...</td>\n",
       "      <td>5</td>\n",
       "      <td>2016</td>\n",
       "    </tr>\n",
       "    <tr>\n",
       "      <th>4</th>\n",
       "      <td>AVwdOclqIN2L1WUfti38</td>\n",
       "      <td>7520 Teague Rd</td>\n",
       "      <td>Hotels,Hotels and motels,Travel agencies and b...</td>\n",
       "      <td>Accommodation &amp; Food Services</td>\n",
       "      <td>Hanover</td>\n",
       "      <td>US</td>\n",
       "      <td>us/md/hanover/7520teaguerd/-2043779672</td>\n",
       "      <td>39.155929</td>\n",
       "      <td>-76.716341</td>\n",
       "      <td>Aloft Arundel Mills</td>\n",
       "      <td>...</td>\n",
       "      <td>2016-07-09 00:00:00+00:00</td>\n",
       "      <td>5.0</td>\n",
       "      <td>https://www.tripadvisor.com/Hotel_Review-g4118...</td>\n",
       "      <td>I live in Md and the Aloft is my Home away fro...</td>\n",
       "      <td>ALWAYS GREAT STAY...</td>\n",
       "      <td>MamaNiaOne</td>\n",
       "      <td>http://www.yellowbook.com/profile/aloft-arunde...</td>\n",
       "      <td>http://www.starwoodhotels.com/alofthotels/prop...</td>\n",
       "      <td>7</td>\n",
       "      <td>2016</td>\n",
       "    </tr>\n",
       "  </tbody>\n",
       "</table>\n",
       "<p>5 rows × 22 columns</p>\n",
       "</div>"
      ],
      "text/plain": [
       "                     id            address  \\\n",
       "0  AVwc252WIN2L1WUfpqLP  5921 Valencia Cir   \n",
       "1  AVwc252WIN2L1WUfpqLP  5921 Valencia Cir   \n",
       "2  AVwc252WIN2L1WUfpqLP  5921 Valencia Cir   \n",
       "3  AVwdOclqIN2L1WUfti38     7520 Teague Rd   \n",
       "4  AVwdOclqIN2L1WUfti38     7520 Teague Rd   \n",
       "\n",
       "                                          categories  \\\n",
       "0  Hotels,Hotels and motels,Hotel and motel reser...   \n",
       "1  Hotels,Hotels and motels,Hotel and motel reser...   \n",
       "2  Hotels,Hotels and motels,Hotel and motel reser...   \n",
       "3  Hotels,Hotels and motels,Travel agencies and b...   \n",
       "4  Hotels,Hotels and motels,Travel agencies and b...   \n",
       "\n",
       "               primaryCategories             city country  \\\n",
       "0  Accommodation & Food Services  Rancho Santa Fe      US   \n",
       "1  Accommodation & Food Services  Rancho Santa Fe      US   \n",
       "2  Accommodation & Food Services  Rancho Santa Fe      US   \n",
       "3  Accommodation & Food Services          Hanover      US   \n",
       "4  Accommodation & Food Services          Hanover      US   \n",
       "\n",
       "                                            keys   latitude   longitude  \\\n",
       "0  us/ca/ranchosantafe/5921valenciacir/359754519  32.990959 -117.186136   \n",
       "1  us/ca/ranchosantafe/5921valenciacir/359754519  32.990959 -117.186136   \n",
       "2  us/ca/ranchosantafe/5921valenciacir/359754519  32.990959 -117.186136   \n",
       "3         us/md/hanover/7520teaguerd/-2043779672  39.155929  -76.716341   \n",
       "4         us/md/hanover/7520teaguerd/-2043779672  39.155929  -76.716341   \n",
       "\n",
       "                         name  ...              reviews.date reviews.rating  \\\n",
       "0  Rancho Valencia Resort Spa  ... 2013-11-14 00:00:00+00:00            5.0   \n",
       "1  Rancho Valencia Resort Spa  ... 2014-07-06 00:00:00+00:00            5.0   \n",
       "2  Rancho Valencia Resort Spa  ... 2015-01-02 00:00:00+00:00            5.0   \n",
       "3         Aloft Arundel Mills  ... 2016-05-15 00:00:00+00:00            2.0   \n",
       "4         Aloft Arundel Mills  ... 2016-07-09 00:00:00+00:00            5.0   \n",
       "\n",
       "                                  reviews.sourceURLs  \\\n",
       "0    https://www.hotels.com/hotel/125419/reviews%20/   \n",
       "1    https://www.hotels.com/hotel/125419/reviews%20/   \n",
       "2    https://www.hotels.com/hotel/125419/reviews%20/   \n",
       "3  https://www.tripadvisor.com/Hotel_Review-g4118...   \n",
       "4  https://www.tripadvisor.com/Hotel_Review-g4118...   \n",
       "\n",
       "                                        reviews.text  \\\n",
       "0  Our experience at Rancho Valencia was absolute...   \n",
       "1  Amazing place. Everyone was extremely warm and...   \n",
       "2  We booked a 3 night stay at Rancho Valencia to...   \n",
       "3  Currently in bed writing this for the past hr ...   \n",
       "4  I live in Md and the Aloft is my Home away fro...   \n",
       "\n",
       "                              reviews.title reviews.username  \\\n",
       "0           Best romantic vacation ever!!!!            Paula   \n",
       "1                      Sweet sweet serenity                D   \n",
       "2           Amazing Property and Experience              Ron   \n",
       "3  Never again...beware, if you want sleep.        jaeem2016   \n",
       "4                      ALWAYS GREAT STAY...       MamaNiaOne   \n",
       "\n",
       "                                          sourceURLs  \\\n",
       "0  http://www.hotels.com/ho125419/%25252525253Flo...   \n",
       "1  http://www.hotels.com/ho125419/%25252525253Flo...   \n",
       "2  http://www.hotels.com/ho125419/%25252525253Flo...   \n",
       "3  http://www.yellowbook.com/profile/aloft-arunde...   \n",
       "4  http://www.yellowbook.com/profile/aloft-arunde...   \n",
       "\n",
       "                                            websites month  year  \n",
       "0                      http://www.ranchovalencia.com    11  2013  \n",
       "1                      http://www.ranchovalencia.com     7  2014  \n",
       "2                      http://www.ranchovalencia.com     1  2015  \n",
       "3  http://www.starwoodhotels.com/alofthotels/prop...     5  2016  \n",
       "4  http://www.starwoodhotels.com/alofthotels/prop...     7  2016  \n",
       "\n",
       "[5 rows x 22 columns]"
      ]
     },
     "execution_count": 17,
     "metadata": {},
     "output_type": "execute_result"
    }
   ],
   "source": [
    "data['month'] = data['reviews.date'].dt.month\n",
    "data['year'] = data['reviews.date'].dt.year\n",
    "data.head()"
   ]
  },
  {
   "cell_type": "code",
   "execution_count": 18,
   "metadata": {},
   "outputs": [
    {
     "data": {
      "text/plain": [
       "(19997, 21)"
      ]
     },
     "execution_count": 18,
     "metadata": {},
     "output_type": "execute_result"
    }
   ],
   "source": [
    "data = data.drop(columns='reviews.date')\n",
    "data.shape"
   ]
  },
  {
   "cell_type": "code",
   "execution_count": 19,
   "metadata": {},
   "outputs": [
    {
     "data": {
      "text/html": [
       "<div>\n",
       "<style scoped>\n",
       "    .dataframe tbody tr th:only-of-type {\n",
       "        vertical-align: middle;\n",
       "    }\n",
       "\n",
       "    .dataframe tbody tr th {\n",
       "        vertical-align: top;\n",
       "    }\n",
       "\n",
       "    .dataframe thead th {\n",
       "        text-align: right;\n",
       "    }\n",
       "</style>\n",
       "<table border=\"1\" class=\"dataframe\">\n",
       "  <thead>\n",
       "    <tr style=\"text-align: right;\">\n",
       "      <th></th>\n",
       "      <th>id</th>\n",
       "      <th>address</th>\n",
       "      <th>categories</th>\n",
       "      <th>primaryCategories</th>\n",
       "      <th>city</th>\n",
       "      <th>country</th>\n",
       "      <th>keys</th>\n",
       "      <th>latitude</th>\n",
       "      <th>longitude</th>\n",
       "      <th>name</th>\n",
       "      <th>...</th>\n",
       "      <th>reviews.rating</th>\n",
       "      <th>reviews.sourceURLs</th>\n",
       "      <th>reviews.text</th>\n",
       "      <th>reviews.title</th>\n",
       "      <th>reviews.username</th>\n",
       "      <th>sourceURLs</th>\n",
       "      <th>websites</th>\n",
       "      <th>month</th>\n",
       "      <th>year</th>\n",
       "      <th>visit_season</th>\n",
       "    </tr>\n",
       "  </thead>\n",
       "  <tbody>\n",
       "    <tr>\n",
       "      <th>19995</th>\n",
       "      <td>AVwdatg0ByjofQCxo5S5</td>\n",
       "      <td>3101 Coliseum Dr</td>\n",
       "      <td>Hotels,Hotels and motels,Corporate Lodging,New...</td>\n",
       "      <td>Accommodation &amp; Food Services</td>\n",
       "      <td>Hampton</td>\n",
       "      <td>US</td>\n",
       "      <td>us/va/hampton/3101coliseumdr/-1319580369</td>\n",
       "      <td>37.057650</td>\n",
       "      <td>-76.393310</td>\n",
       "      <td>Hampton Inn Hampton-newport News</td>\n",
       "      <td>...</td>\n",
       "      <td>4.0</td>\n",
       "      <td>http://www.tripadvisor.com/Hotel_Review-g57804...</td>\n",
       "      <td>My friends and I took a trip to Hampton for th...</td>\n",
       "      <td>Very accommodating and friendly staff!</td>\n",
       "      <td>Tiffany1017</td>\n",
       "      <td>https://www.tripadvisor.com/Hotel_Review-g5780...</td>\n",
       "      <td>https://ad.doubleclick.net/ddm/clk/317271033;1...</td>\n",
       "      <td>12</td>\n",
       "      <td>2015</td>\n",
       "      <td>winter</td>\n",
       "    </tr>\n",
       "    <tr>\n",
       "      <th>19996</th>\n",
       "      <td>AVwdatg0ByjofQCxo5S5</td>\n",
       "      <td>3101 Coliseum Dr</td>\n",
       "      <td>Hotels,Hotels and motels,Corporate Lodging,New...</td>\n",
       "      <td>Accommodation &amp; Food Services</td>\n",
       "      <td>Hampton</td>\n",
       "      <td>US</td>\n",
       "      <td>us/va/hampton/3101coliseumdr/-1319580369</td>\n",
       "      <td>37.057650</td>\n",
       "      <td>-76.393310</td>\n",
       "      <td>Hampton Inn Hampton-newport News</td>\n",
       "      <td>...</td>\n",
       "      <td>5.0</td>\n",
       "      <td>http://www.tripadvisor.com/Hotel_Review-g57804...</td>\n",
       "      <td>from check in to departure, staff is friendly,...</td>\n",
       "      <td>comfortable, friendly, clean, professional</td>\n",
       "      <td>bobg187</td>\n",
       "      <td>https://www.tripadvisor.com/Hotel_Review-g5780...</td>\n",
       "      <td>https://ad.doubleclick.net/ddm/clk/317271033;1...</td>\n",
       "      <td>11</td>\n",
       "      <td>2015</td>\n",
       "      <td>fall</td>\n",
       "    </tr>\n",
       "    <tr>\n",
       "      <th>19997</th>\n",
       "      <td>AVwdatg0ByjofQCxo5S5</td>\n",
       "      <td>3101 Coliseum Dr</td>\n",
       "      <td>Hotels,Hotels and motels,Corporate Lodging,New...</td>\n",
       "      <td>Accommodation &amp; Food Services</td>\n",
       "      <td>Hampton</td>\n",
       "      <td>US</td>\n",
       "      <td>us/va/hampton/3101coliseumdr/-1319580369</td>\n",
       "      <td>37.057650</td>\n",
       "      <td>-76.393310</td>\n",
       "      <td>Hampton Inn Hampton-newport News</td>\n",
       "      <td>...</td>\n",
       "      <td>5.0</td>\n",
       "      <td>https://www.tripadvisor.com/Hotel_Review-g5780...</td>\n",
       "      <td>This Hampton is located on a quiet street acro...</td>\n",
       "      <td>Great location</td>\n",
       "      <td>K261ANbrendah</td>\n",
       "      <td>https://www.tripadvisor.com/Hotel_Review-g5780...</td>\n",
       "      <td>https://ad.doubleclick.net/ddm/clk/317271033;1...</td>\n",
       "      <td>7</td>\n",
       "      <td>2016</td>\n",
       "      <td>summer</td>\n",
       "    </tr>\n",
       "    <tr>\n",
       "      <th>19998</th>\n",
       "      <td>AV1thTgM3-Khe5l_OvT5</td>\n",
       "      <td>7886 Main Street</td>\n",
       "      <td>Hotels,Bar,Hotel,Restaurants</td>\n",
       "      <td>Accommodation &amp; Food Services</td>\n",
       "      <td>Hunter</td>\n",
       "      <td>US</td>\n",
       "      <td>us/ny/hunter/7886mainstreet/-435384771</td>\n",
       "      <td>42.210915</td>\n",
       "      <td>-74.215309</td>\n",
       "      <td>Roseberry's Inn</td>\n",
       "      <td>...</td>\n",
       "      <td>5.0</td>\n",
       "      <td>https://www.tripadvisor.com/Hotel_Review-g4793...</td>\n",
       "      <td>Awesome wings (my favorite was garlic parmesan...</td>\n",
       "      <td>Great Atmosphere!</td>\n",
       "      <td>soccerrocks2016</td>\n",
       "      <td>https://www.bbb.org/us/ny/hunter/profile/hotel...</td>\n",
       "      <td>http://www.roseberrysinnhunter.com/</td>\n",
       "      <td>10</td>\n",
       "      <td>2016</td>\n",
       "      <td>fall</td>\n",
       "    </tr>\n",
       "    <tr>\n",
       "      <th>19999</th>\n",
       "      <td>AV1tg9C7a4HuVbed8XA5</td>\n",
       "      <td>3505 S Main St</td>\n",
       "      <td>Hotels,Hotels and motels,Corporate Lodging,Lod...</td>\n",
       "      <td>Accommodation &amp; Food Services</td>\n",
       "      <td>Lindale</td>\n",
       "      <td>US</td>\n",
       "      <td>us/tx/lindale/3505smainst/-147603681</td>\n",
       "      <td>32.469540</td>\n",
       "      <td>-95.390420</td>\n",
       "      <td>Hampton Inn-lindale/tyler</td>\n",
       "      <td>...</td>\n",
       "      <td>4.0</td>\n",
       "      <td>http://tripadvisor.com/Hotel_Review-g56167-d22...</td>\n",
       "      <td>Clean facility just off freeway ..... staff fr...</td>\n",
       "      <td>Health care appointments</td>\n",
       "      <td>tootallsmith</td>\n",
       "      <td>https://www.yellowpages.com/lindale-tx/mip/ham...</td>\n",
       "      <td>http://hamptoninn3.hilton.com/en/hotels/texas/...</td>\n",
       "      <td>6</td>\n",
       "      <td>2017</td>\n",
       "      <td>summer</td>\n",
       "    </tr>\n",
       "  </tbody>\n",
       "</table>\n",
       "<p>5 rows × 22 columns</p>\n",
       "</div>"
      ],
      "text/plain": [
       "                         id           address  \\\n",
       "19995  AVwdatg0ByjofQCxo5S5  3101 Coliseum Dr   \n",
       "19996  AVwdatg0ByjofQCxo5S5  3101 Coliseum Dr   \n",
       "19997  AVwdatg0ByjofQCxo5S5  3101 Coliseum Dr   \n",
       "19998  AV1thTgM3-Khe5l_OvT5  7886 Main Street   \n",
       "19999  AV1tg9C7a4HuVbed8XA5    3505 S Main St   \n",
       "\n",
       "                                              categories  \\\n",
       "19995  Hotels,Hotels and motels,Corporate Lodging,New...   \n",
       "19996  Hotels,Hotels and motels,Corporate Lodging,New...   \n",
       "19997  Hotels,Hotels and motels,Corporate Lodging,New...   \n",
       "19998                       Hotels,Bar,Hotel,Restaurants   \n",
       "19999  Hotels,Hotels and motels,Corporate Lodging,Lod...   \n",
       "\n",
       "                   primaryCategories     city country  \\\n",
       "19995  Accommodation & Food Services  Hampton      US   \n",
       "19996  Accommodation & Food Services  Hampton      US   \n",
       "19997  Accommodation & Food Services  Hampton      US   \n",
       "19998  Accommodation & Food Services   Hunter      US   \n",
       "19999  Accommodation & Food Services  Lindale      US   \n",
       "\n",
       "                                           keys   latitude  longitude  \\\n",
       "19995  us/va/hampton/3101coliseumdr/-1319580369  37.057650 -76.393310   \n",
       "19996  us/va/hampton/3101coliseumdr/-1319580369  37.057650 -76.393310   \n",
       "19997  us/va/hampton/3101coliseumdr/-1319580369  37.057650 -76.393310   \n",
       "19998    us/ny/hunter/7886mainstreet/-435384771  42.210915 -74.215309   \n",
       "19999      us/tx/lindale/3505smainst/-147603681  32.469540 -95.390420   \n",
       "\n",
       "                                   name  ... reviews.rating  \\\n",
       "19995  Hampton Inn Hampton-newport News  ...            4.0   \n",
       "19996  Hampton Inn Hampton-newport News  ...            5.0   \n",
       "19997  Hampton Inn Hampton-newport News  ...            5.0   \n",
       "19998                   Roseberry's Inn  ...            5.0   \n",
       "19999         Hampton Inn-lindale/tyler  ...            4.0   \n",
       "\n",
       "                                      reviews.sourceURLs  \\\n",
       "19995  http://www.tripadvisor.com/Hotel_Review-g57804...   \n",
       "19996  http://www.tripadvisor.com/Hotel_Review-g57804...   \n",
       "19997  https://www.tripadvisor.com/Hotel_Review-g5780...   \n",
       "19998  https://www.tripadvisor.com/Hotel_Review-g4793...   \n",
       "19999  http://tripadvisor.com/Hotel_Review-g56167-d22...   \n",
       "\n",
       "                                            reviews.text  \\\n",
       "19995  My friends and I took a trip to Hampton for th...   \n",
       "19996  from check in to departure, staff is friendly,...   \n",
       "19997  This Hampton is located on a quiet street acro...   \n",
       "19998  Awesome wings (my favorite was garlic parmesan...   \n",
       "19999  Clean facility just off freeway ..... staff fr...   \n",
       "\n",
       "                                    reviews.title reviews.username  \\\n",
       "19995      Very accommodating and friendly staff!      Tiffany1017   \n",
       "19996  comfortable, friendly, clean, professional          bobg187   \n",
       "19997                              Great location    K261ANbrendah   \n",
       "19998                           Great Atmosphere!  soccerrocks2016   \n",
       "19999                    Health care appointments     tootallsmith   \n",
       "\n",
       "                                              sourceURLs  \\\n",
       "19995  https://www.tripadvisor.com/Hotel_Review-g5780...   \n",
       "19996  https://www.tripadvisor.com/Hotel_Review-g5780...   \n",
       "19997  https://www.tripadvisor.com/Hotel_Review-g5780...   \n",
       "19998  https://www.bbb.org/us/ny/hunter/profile/hotel...   \n",
       "19999  https://www.yellowpages.com/lindale-tx/mip/ham...   \n",
       "\n",
       "                                                websites month  year  \\\n",
       "19995  https://ad.doubleclick.net/ddm/clk/317271033;1...    12  2015   \n",
       "19996  https://ad.doubleclick.net/ddm/clk/317271033;1...    11  2015   \n",
       "19997  https://ad.doubleclick.net/ddm/clk/317271033;1...     7  2016   \n",
       "19998                http://www.roseberrysinnhunter.com/    10  2016   \n",
       "19999  http://hamptoninn3.hilton.com/en/hotels/texas/...     6  2017   \n",
       "\n",
       "       visit_season  \n",
       "19995        winter  \n",
       "19996          fall  \n",
       "19997        summer  \n",
       "19998          fall  \n",
       "19999        summer  \n",
       "\n",
       "[5 rows x 22 columns]"
      ]
     },
     "execution_count": 19,
     "metadata": {},
     "output_type": "execute_result"
    }
   ],
   "source": [
    "def season(month):\n",
    "    if month >= 1 and month <= 2:\n",
    "        return 'winter'\n",
    "    if month >= 3 and month <= 5:\n",
    "        return 'spring'\n",
    "    if month >= 6 and month <= 8:\n",
    "        return 'summer'\n",
    "    if month >= 9 and month <= 11:\n",
    "        return 'fall'\n",
    "    if month == 12:\n",
    "        return 'winter'\n",
    "\n",
    "data['visit_season'] = data['month'].map(season)\n",
    "data.tail()"
   ]
  },
  {
   "cell_type": "markdown",
   "metadata": {},
   "source": [
    "## Explore each column"
   ]
  },
  {
   "cell_type": "code",
   "execution_count": 20,
   "metadata": {},
   "outputs": [
    {
     "data": {
      "text/plain": [
       "2975"
      ]
     },
     "execution_count": 20,
     "metadata": {},
     "output_type": "execute_result"
    }
   ],
   "source": [
    "data.id.nunique()"
   ]
  },
  {
   "cell_type": "code",
   "execution_count": 21,
   "metadata": {},
   "outputs": [
    {
     "data": {
      "text/plain": [
       "2970"
      ]
     },
     "execution_count": 21,
     "metadata": {},
     "output_type": "execute_result"
    }
   ],
   "source": [
    "data.address.nunique()"
   ]
  },
  {
   "cell_type": "code",
   "execution_count": 22,
   "metadata": {},
   "outputs": [
    {
     "data": {
      "text/plain": [
       "1652"
      ]
     },
     "execution_count": 22,
     "metadata": {},
     "output_type": "execute_result"
    }
   ],
   "source": [
    "data.categories.nunique()"
   ]
  },
  {
   "cell_type": "code",
   "execution_count": 23,
   "metadata": {},
   "outputs": [
    {
     "data": {
      "text/plain": [
       "array(['Accommodation & Food Services',\n",
       "       'Healthcare & Social Assistance,Accommodation & Food Services',\n",
       "       'Accommodation & Food Services,Arts Entertainment & Recreation',\n",
       "       'Arts Entertainment & Recreation',\n",
       "       'Wholesale Trade,Accommodation & Food Services', 'Utilities',\n",
       "       'Accommodation & Food Services,Administrative & Support & Waste Management & Remediation',\n",
       "       'Accommodation & Food Services,Agriculture'], dtype=object)"
      ]
     },
     "execution_count": 23,
     "metadata": {},
     "output_type": "execute_result"
    }
   ],
   "source": [
    "data.primaryCategories.unique()"
   ]
  },
  {
   "cell_type": "code",
   "execution_count": 24,
   "metadata": {},
   "outputs": [
    {
     "data": {
      "text/plain": [
       "1416"
      ]
     },
     "execution_count": 24,
     "metadata": {},
     "output_type": "execute_result"
    }
   ],
   "source": [
    "data.city.nunique()"
   ]
  },
  {
   "cell_type": "code",
   "execution_count": 25,
   "metadata": {},
   "outputs": [
    {
     "data": {
      "text/plain": [
       "1"
      ]
     },
     "execution_count": 25,
     "metadata": {},
     "output_type": "execute_result"
    }
   ],
   "source": [
    "data.country.nunique()"
   ]
  },
  {
   "cell_type": "code",
   "execution_count": 26,
   "metadata": {},
   "outputs": [
    {
     "data": {
      "text/plain": [
       "(19997, 21)"
      ]
     },
     "execution_count": 26,
     "metadata": {},
     "output_type": "execute_result"
    }
   ],
   "source": [
    "# All reviews in US\n",
    "data = data.drop(columns='country')\n",
    "data.shape"
   ]
  },
  {
   "cell_type": "code",
   "execution_count": 27,
   "metadata": {},
   "outputs": [
    {
     "data": {
      "text/plain": [
       "2976"
      ]
     },
     "execution_count": 27,
     "metadata": {},
     "output_type": "execute_result"
    }
   ],
   "source": [
    "data['keys'].nunique()"
   ]
  },
  {
   "cell_type": "code",
   "execution_count": 28,
   "metadata": {},
   "outputs": [
    {
     "data": {
      "text/plain": [
       "2764"
      ]
     },
     "execution_count": 28,
     "metadata": {},
     "output_type": "execute_result"
    }
   ],
   "source": [
    "data.name.nunique()"
   ]
  },
  {
   "cell_type": "code",
   "execution_count": 29,
   "metadata": {},
   "outputs": [
    {
     "data": {
      "text/plain": [
       "50"
      ]
     },
     "execution_count": 29,
     "metadata": {},
     "output_type": "execute_result"
    }
   ],
   "source": [
    "data.province.nunique()"
   ]
  },
  {
   "cell_type": "code",
   "execution_count": 30,
   "metadata": {},
   "outputs": [
    {
     "data": {
      "text/plain": [
       "array([5.  , 2.  , 4.  , 3.  , 1.  , 4.8 , 4.6 , 3.55, 4.4 , 4.15, 2.5 ,\n",
       "       3.95, 2.9 , 3.35, 3.75, 4.5 , 2.1 , 1.65, 3.15, 2.7 , 1.45, 2.75,\n",
       "       2.3 , 3.5 , 4.25, 1.25, 1.9 , 3.45, 3.25, 4.75])"
      ]
     },
     "execution_count": 30,
     "metadata": {},
     "output_type": "execute_result"
    }
   ],
   "source": [
    "data['reviews.rating'].unique()"
   ]
  },
  {
   "cell_type": "code",
   "execution_count": 31,
   "metadata": {},
   "outputs": [
    {
     "data": {
      "text/plain": [
       "19995     good\n",
       "19996    great\n",
       "19997    great\n",
       "19998    great\n",
       "19999     good\n",
       "Name: cat_rating, dtype: object"
      ]
     },
     "execution_count": 31,
     "metadata": {},
     "output_type": "execute_result"
    }
   ],
   "source": [
    "# Change reviews to categories rather than numbers\n",
    "def review_map(rating):\n",
    "    if rating == 5:\n",
    "        return 'great'\n",
    "    if rating >=4 and rating < 5:\n",
    "        return 'good'\n",
    "    if rating < 4:\n",
    "        return 'not great'\n",
    "\n",
    "data['cat_rating'] = data['reviews.rating'].map(review_map)\n",
    "data['cat_rating'].tail()"
   ]
  },
  {
   "cell_type": "code",
   "execution_count": 32,
   "metadata": {},
   "outputs": [
    {
     "data": {
      "text/plain": [
       "14256"
      ]
     },
     "execution_count": 32,
     "metadata": {},
     "output_type": "execute_result"
    }
   ],
   "source": [
    "data['reviews.sourceURLs'].nunique()"
   ]
  },
  {
   "cell_type": "code",
   "execution_count": 33,
   "metadata": {},
   "outputs": [],
   "source": [
    "def short_url(url):\n",
    "    parsed = urlparse(url)\n",
    "    short_url = parsed.netloc\n",
    "    return short_url.replace('www.', '')"
   ]
  },
  {
   "cell_type": "code",
   "execution_count": 34,
   "metadata": {},
   "outputs": [
    {
     "data": {
      "text/plain": [
       "19995    tripadvisor.com\n",
       "19996    tripadvisor.com\n",
       "19997    tripadvisor.com\n",
       "19998    tripadvisor.com\n",
       "19999    tripadvisor.com\n",
       "Name: short_source, dtype: object"
      ]
     },
     "execution_count": 34,
     "metadata": {},
     "output_type": "execute_result"
    }
   ],
   "source": [
    "data['short_source'] = data['reviews.sourceURLs'].map(short_url)\n",
    "data['short_source'].tail()"
   ]
  },
  {
   "cell_type": "code",
   "execution_count": 35,
   "metadata": {},
   "outputs": [
    {
     "data": {
      "text/plain": [
       "(19997, 21)"
      ]
     },
     "execution_count": 35,
     "metadata": {},
     "output_type": "execute_result"
    }
   ],
   "source": [
    "# drop long URLs for modeling\n",
    "data = data.drop(columns=['sourceURLs', 'websites'])\n",
    "data.shape"
   ]
  },
  {
   "cell_type": "code",
   "execution_count": 36,
   "metadata": {},
   "outputs": [
    {
     "data": {
      "text/plain": [
       "Index(['id', 'address', 'categories', 'primaryCategories', 'city', 'keys',\n",
       "       'latitude', 'longitude', 'name', 'postalCode', 'province',\n",
       "       'reviews.rating', 'reviews.sourceURLs', 'reviews.text', 'reviews.title',\n",
       "       'reviews.username', 'month', 'year', 'visit_season', 'cat_rating',\n",
       "       'short_source'],\n",
       "      dtype='object')"
      ]
     },
     "execution_count": 36,
     "metadata": {},
     "output_type": "execute_result"
    }
   ],
   "source": [
    "data.columns"
   ]
  },
  {
   "cell_type": "markdown",
   "metadata": {},
   "source": [
    "----------------------------------------------------\n",
    "\n",
    "- ID is unique identifier for hotel\n",
    "- remove address column - city, state, lat/lon sufficient for location information\n",
    "- remove keys column - not needed for this exercise\n",
    "- split reviews.date to month & date of review and add season\n",
    "- remove reviews.sourceURLs since short URLs created\n",
    "\n",
    "-----------------------------------------"
   ]
  },
  {
   "cell_type": "code",
   "execution_count": 37,
   "metadata": {},
   "outputs": [
    {
     "data": {
      "text/plain": [
       "(19997, 18)"
      ]
     },
     "execution_count": 37,
     "metadata": {},
     "output_type": "execute_result"
    }
   ],
   "source": [
    "data = data.drop(columns=['address', 'keys', 'reviews.sourceURLs'])\n",
    "data.shape"
   ]
  },
  {
   "cell_type": "code",
   "execution_count": 38,
   "metadata": {},
   "outputs": [
    {
     "data": {
      "text/plain": [
       "great        9223\n",
       "good         5749\n",
       "not great    5025\n",
       "Name: cat_rating, dtype: int64"
      ]
     },
     "execution_count": 38,
     "metadata": {},
     "output_type": "execute_result"
    }
   ],
   "source": [
    "data['cat_rating'].value_counts()"
   ]
  },
  {
   "cell_type": "code",
   "execution_count": 39,
   "metadata": {},
   "outputs": [
    {
     "data": {
      "text/plain": [
       "summer    6177\n",
       "spring    5338\n",
       "fall      4537\n",
       "winter    3945\n",
       "Name: visit_season, dtype: int64"
      ]
     },
     "execution_count": 39,
     "metadata": {},
     "output_type": "execute_result"
    }
   ],
   "source": [
    "data['visit_season'].value_counts()"
   ]
  },
  {
   "cell_type": "code",
   "execution_count": 40,
   "metadata": {},
   "outputs": [
    {
     "data": {
      "text/plain": [
       "Accommodation & Food Services                                                              19916\n",
       "Arts Entertainment & Recreation                                                               45\n",
       "Healthcare & Social Assistance,Accommodation & Food Services                                  18\n",
       "Accommodation & Food Services,Arts Entertainment & Recreation                                  8\n",
       "Wholesale Trade,Accommodation & Food Services                                                  7\n",
       "Accommodation & Food Services,Agriculture                                                      1\n",
       "Accommodation & Food Services,Administrative & Support & Waste Management & Remediation        1\n",
       "Utilities                                                                                      1\n",
       "Name: primaryCategories, dtype: int64"
      ]
     },
     "execution_count": 40,
     "metadata": {},
     "output_type": "execute_result"
    }
   ],
   "source": [
    "data['primaryCategories'].value_counts()"
   ]
  },
  {
   "cell_type": "code",
   "execution_count": 41,
   "metadata": {},
   "outputs": [
    {
     "data": {
      "text/plain": [
       "2016    6916\n",
       "2015    4618\n",
       "2017    2508\n",
       "2014    1652\n",
       "2018    1269\n",
       "2013    1135\n",
       "2012     692\n",
       "2011     418\n",
       "2010     223\n",
       "2009     167\n",
       "2007     135\n",
       "2008     122\n",
       "2006      42\n",
       "2019      40\n",
       "2005      32\n",
       "2004      22\n",
       "2003       5\n",
       "2002       1\n",
       "Name: year, dtype: int64"
      ]
     },
     "execution_count": 41,
     "metadata": {},
     "output_type": "execute_result"
    }
   ],
   "source": [
    "data['year'].value_counts()"
   ]
  },
  {
   "cell_type": "markdown",
   "metadata": {},
   "source": [
    "---------------------------------------\n",
    "\n",
    "- Remove primaryCategories column - all categories can be considered accommodation & food services\n",
    "- Remove reviews.username - not applicaple for aggregation\n",
    "\n",
    "---------------------------------------"
   ]
  },
  {
   "cell_type": "code",
   "execution_count": 42,
   "metadata": {},
   "outputs": [
    {
     "data": {
      "text/plain": [
       "(19997, 16)"
      ]
     },
     "execution_count": 42,
     "metadata": {},
     "output_type": "execute_result"
    }
   ],
   "source": [
    "data = data.drop(columns=['primaryCategories', 'reviews.username'])\n",
    "data.shape"
   ]
  },
  {
   "cell_type": "markdown",
   "metadata": {},
   "source": [
    "## Process text columns\n",
    "\n",
    "✅ pip install NLTK <br>\n",
    "✅ create functions in data.py to clean text:<br>\n",
    "- remove numbers\n",
    "- remove punctuation\n",
    "- convert all text to lower case\n",
    "- remove stopwords\n",
    "- lemmatize words <br>\n",
    "\n",
    "✅ add any functions used in cleaning data above to data.py & create classes <br>\n",
    "✅ create review_richness column (i.e introduce vocabulary richness feature) <br>\n",
    "✅ add richness functions to data.py <br>\n",
    "✅ test data.py"
   ]
  },
  {
   "cell_type": "code",
   "execution_count": 43,
   "metadata": {},
   "outputs": [],
   "source": [
    "def punc_remover(df, new_col, old_col):\n",
    "    df[new_col] = df[old_col]\n",
    "    for punctuation in string.punctuation:\n",
    "        df[new_col] = df[new_col].map(lambda x: x.replace(punctuation, '')) \n",
    "    return df\n",
    "\n",
    "def lower_case(df, new_col):\n",
    "    df[new_col] = df[new_col].map(lambda x: x.lower())\n",
    "    return df\n",
    "\n",
    "def remove_num(df, new_col):\n",
    "    df[new_col] = df[new_col].map(lambda x: ''.join(word for word in x if not word.isdigit()))\n",
    "    return df\n",
    "\n",
    "def remove_stop(df, new_col):\n",
    "    stop_words = set(stopwords.words('english')) \n",
    "    df[new_col] = df[new_col].map(word_tokenize) \n",
    "    df[new_col] = df[new_col].map(lambda x: ' '.join(w for w in x if not w in stop_words))\n",
    "    return df\n",
    "\n",
    "def lemmatize(df, new_col):\n",
    "    df[new_col] = df[new_col].map(word_tokenize)\n",
    "    lemmatizer = WordNetLemmatizer()\n",
    "    df[new_col] = df[new_col].map(lambda x: ' '.join(lemmatizer.lemmatize(word) for word in x))\n",
    "    return df\n",
    "\n",
    "def proc_text(df, new_col, old_col):\n",
    "    punc_remover(df, new_col, old_col)\n",
    "    lower_case(df, new_col)\n",
    "    remove_num(df, new_col)\n",
    "    remove_stop(df, new_col)\n",
    "    lemmatize(df, new_col)\n",
    "    df = df.drop(columns=old_col, inplace=True)\n",
    "    return df"
   ]
  },
  {
   "cell_type": "code",
   "execution_count": 44,
   "metadata": {},
   "outputs": [
    {
     "data": {
      "text/plain": [
       "Index(['id', 'categories', 'city', 'latitude', 'longitude', 'name',\n",
       "       'postalCode', 'province', 'reviews.rating', 'reviews.text',\n",
       "       'reviews.title', 'month', 'year', 'visit_season', 'cat_rating',\n",
       "       'short_source'],\n",
       "      dtype='object')"
      ]
     },
     "execution_count": 44,
     "metadata": {},
     "output_type": "execute_result"
    }
   ],
   "source": [
    "data.columns"
   ]
  },
  {
   "cell_type": "code",
   "execution_count": 45,
   "metadata": {},
   "outputs": [
    {
     "data": {
      "text/html": [
       "<div>\n",
       "<style scoped>\n",
       "    .dataframe tbody tr th:only-of-type {\n",
       "        vertical-align: middle;\n",
       "    }\n",
       "\n",
       "    .dataframe tbody tr th {\n",
       "        vertical-align: top;\n",
       "    }\n",
       "\n",
       "    .dataframe thead th {\n",
       "        text-align: right;\n",
       "    }\n",
       "</style>\n",
       "<table border=\"1\" class=\"dataframe\">\n",
       "  <thead>\n",
       "    <tr style=\"text-align: right;\">\n",
       "      <th></th>\n",
       "      <th>id</th>\n",
       "      <th>city</th>\n",
       "      <th>latitude</th>\n",
       "      <th>longitude</th>\n",
       "      <th>name</th>\n",
       "      <th>postalCode</th>\n",
       "      <th>province</th>\n",
       "      <th>reviews.rating</th>\n",
       "      <th>reviews.text</th>\n",
       "      <th>reviews.title</th>\n",
       "      <th>month</th>\n",
       "      <th>year</th>\n",
       "      <th>visit_season</th>\n",
       "      <th>cat_rating</th>\n",
       "      <th>short_source</th>\n",
       "      <th>clean_categories</th>\n",
       "    </tr>\n",
       "  </thead>\n",
       "  <tbody>\n",
       "    <tr>\n",
       "      <th>0</th>\n",
       "      <td>AVwc252WIN2L1WUfpqLP</td>\n",
       "      <td>Rancho Santa Fe</td>\n",
       "      <td>32.990959</td>\n",
       "      <td>-117.186136</td>\n",
       "      <td>Rancho Valencia Resort Spa</td>\n",
       "      <td>92067</td>\n",
       "      <td>CA</td>\n",
       "      <td>5.0</td>\n",
       "      <td>Our experience at Rancho Valencia was absolute...</td>\n",
       "      <td>Best romantic vacation ever!!!!</td>\n",
       "      <td>11</td>\n",
       "      <td>2013</td>\n",
       "      <td>fall</td>\n",
       "      <td>great</td>\n",
       "      <td>hotels.com</td>\n",
       "      <td>hotelshotels motelshotel motel reservationsres...</td>\n",
       "    </tr>\n",
       "    <tr>\n",
       "      <th>1</th>\n",
       "      <td>AVwc252WIN2L1WUfpqLP</td>\n",
       "      <td>Rancho Santa Fe</td>\n",
       "      <td>32.990959</td>\n",
       "      <td>-117.186136</td>\n",
       "      <td>Rancho Valencia Resort Spa</td>\n",
       "      <td>92067</td>\n",
       "      <td>CA</td>\n",
       "      <td>5.0</td>\n",
       "      <td>Amazing place. Everyone was extremely warm and...</td>\n",
       "      <td>Sweet sweet serenity</td>\n",
       "      <td>7</td>\n",
       "      <td>2014</td>\n",
       "      <td>summer</td>\n",
       "      <td>great</td>\n",
       "      <td>hotels.com</td>\n",
       "      <td>hotelshotels motelshotel motel reservationsres...</td>\n",
       "    </tr>\n",
       "    <tr>\n",
       "      <th>2</th>\n",
       "      <td>AVwc252WIN2L1WUfpqLP</td>\n",
       "      <td>Rancho Santa Fe</td>\n",
       "      <td>32.990959</td>\n",
       "      <td>-117.186136</td>\n",
       "      <td>Rancho Valencia Resort Spa</td>\n",
       "      <td>92067</td>\n",
       "      <td>CA</td>\n",
       "      <td>5.0</td>\n",
       "      <td>We booked a 3 night stay at Rancho Valencia to...</td>\n",
       "      <td>Amazing Property and Experience</td>\n",
       "      <td>1</td>\n",
       "      <td>2015</td>\n",
       "      <td>winter</td>\n",
       "      <td>great</td>\n",
       "      <td>hotels.com</td>\n",
       "      <td>hotelshotels motelshotel motel reservationsres...</td>\n",
       "    </tr>\n",
       "    <tr>\n",
       "      <th>3</th>\n",
       "      <td>AVwdOclqIN2L1WUfti38</td>\n",
       "      <td>Hanover</td>\n",
       "      <td>39.155929</td>\n",
       "      <td>-76.716341</td>\n",
       "      <td>Aloft Arundel Mills</td>\n",
       "      <td>21076</td>\n",
       "      <td>MD</td>\n",
       "      <td>2.0</td>\n",
       "      <td>Currently in bed writing this for the past hr ...</td>\n",
       "      <td>Never again...beware, if you want sleep.</td>\n",
       "      <td>5</td>\n",
       "      <td>2016</td>\n",
       "      <td>spring</td>\n",
       "      <td>not great</td>\n",
       "      <td>tripadvisor.com</td>\n",
       "      <td>hotelshotels motelstravel agency bureaushotel ...</td>\n",
       "    </tr>\n",
       "    <tr>\n",
       "      <th>4</th>\n",
       "      <td>AVwdOclqIN2L1WUfti38</td>\n",
       "      <td>Hanover</td>\n",
       "      <td>39.155929</td>\n",
       "      <td>-76.716341</td>\n",
       "      <td>Aloft Arundel Mills</td>\n",
       "      <td>21076</td>\n",
       "      <td>MD</td>\n",
       "      <td>5.0</td>\n",
       "      <td>I live in Md and the Aloft is my Home away fro...</td>\n",
       "      <td>ALWAYS GREAT STAY...</td>\n",
       "      <td>7</td>\n",
       "      <td>2016</td>\n",
       "      <td>summer</td>\n",
       "      <td>great</td>\n",
       "      <td>tripadvisor.com</td>\n",
       "      <td>hotelshotels motelstravel agency bureaushotel ...</td>\n",
       "    </tr>\n",
       "  </tbody>\n",
       "</table>\n",
       "</div>"
      ],
      "text/plain": [
       "                     id             city   latitude   longitude  \\\n",
       "0  AVwc252WIN2L1WUfpqLP  Rancho Santa Fe  32.990959 -117.186136   \n",
       "1  AVwc252WIN2L1WUfpqLP  Rancho Santa Fe  32.990959 -117.186136   \n",
       "2  AVwc252WIN2L1WUfpqLP  Rancho Santa Fe  32.990959 -117.186136   \n",
       "3  AVwdOclqIN2L1WUfti38          Hanover  39.155929  -76.716341   \n",
       "4  AVwdOclqIN2L1WUfti38          Hanover  39.155929  -76.716341   \n",
       "\n",
       "                         name postalCode province  reviews.rating  \\\n",
       "0  Rancho Valencia Resort Spa      92067       CA             5.0   \n",
       "1  Rancho Valencia Resort Spa      92067       CA             5.0   \n",
       "2  Rancho Valencia Resort Spa      92067       CA             5.0   \n",
       "3         Aloft Arundel Mills      21076       MD             2.0   \n",
       "4         Aloft Arundel Mills      21076       MD             5.0   \n",
       "\n",
       "                                        reviews.text  \\\n",
       "0  Our experience at Rancho Valencia was absolute...   \n",
       "1  Amazing place. Everyone was extremely warm and...   \n",
       "2  We booked a 3 night stay at Rancho Valencia to...   \n",
       "3  Currently in bed writing this for the past hr ...   \n",
       "4  I live in Md and the Aloft is my Home away fro...   \n",
       "\n",
       "                              reviews.title  month  year visit_season  \\\n",
       "0           Best romantic vacation ever!!!!     11  2013         fall   \n",
       "1                      Sweet sweet serenity      7  2014       summer   \n",
       "2           Amazing Property and Experience      1  2015       winter   \n",
       "3  Never again...beware, if you want sleep.      5  2016       spring   \n",
       "4                      ALWAYS GREAT STAY...      7  2016       summer   \n",
       "\n",
       "  cat_rating     short_source  \\\n",
       "0      great       hotels.com   \n",
       "1      great       hotels.com   \n",
       "2      great       hotels.com   \n",
       "3  not great  tripadvisor.com   \n",
       "4      great  tripadvisor.com   \n",
       "\n",
       "                                    clean_categories  \n",
       "0  hotelshotels motelshotel motel reservationsres...  \n",
       "1  hotelshotels motelshotel motel reservationsres...  \n",
       "2  hotelshotels motelshotel motel reservationsres...  \n",
       "3  hotelshotels motelstravel agency bureaushotel ...  \n",
       "4  hotelshotels motelstravel agency bureaushotel ...  "
      ]
     },
     "execution_count": 45,
     "metadata": {},
     "output_type": "execute_result"
    }
   ],
   "source": [
    "# Process categories column\n",
    "proc_text(data, 'clean_categories', 'categories')\n",
    "data.head()"
   ]
  },
  {
   "cell_type": "code",
   "execution_count": 46,
   "metadata": {},
   "outputs": [
    {
     "data": {
      "text/html": [
       "<div>\n",
       "<style scoped>\n",
       "    .dataframe tbody tr th:only-of-type {\n",
       "        vertical-align: middle;\n",
       "    }\n",
       "\n",
       "    .dataframe tbody tr th {\n",
       "        vertical-align: top;\n",
       "    }\n",
       "\n",
       "    .dataframe thead th {\n",
       "        text-align: right;\n",
       "    }\n",
       "</style>\n",
       "<table border=\"1\" class=\"dataframe\">\n",
       "  <thead>\n",
       "    <tr style=\"text-align: right;\">\n",
       "      <th></th>\n",
       "      <th>id</th>\n",
       "      <th>latitude</th>\n",
       "      <th>longitude</th>\n",
       "      <th>postalCode</th>\n",
       "      <th>reviews.rating</th>\n",
       "      <th>month</th>\n",
       "      <th>year</th>\n",
       "      <th>visit_season</th>\n",
       "      <th>cat_rating</th>\n",
       "      <th>short_source</th>\n",
       "      <th>clean_categories</th>\n",
       "      <th>clean_city</th>\n",
       "      <th>clean_state</th>\n",
       "      <th>clean_title</th>\n",
       "      <th>clean_review</th>\n",
       "      <th>clean_name</th>\n",
       "    </tr>\n",
       "  </thead>\n",
       "  <tbody>\n",
       "    <tr>\n",
       "      <th>0</th>\n",
       "      <td>AVwc252WIN2L1WUfpqLP</td>\n",
       "      <td>32.990959</td>\n",
       "      <td>-117.186136</td>\n",
       "      <td>92067</td>\n",
       "      <td>5.0</td>\n",
       "      <td>11</td>\n",
       "      <td>2013</td>\n",
       "      <td>fall</td>\n",
       "      <td>great</td>\n",
       "      <td>hotels.com</td>\n",
       "      <td>hotelshotels motelshotel motel reservationsres...</td>\n",
       "      <td>rancho santa fe</td>\n",
       "      <td>ca</td>\n",
       "      <td>best romantic vacation ever</td>\n",
       "      <td>experience rancho valencia absolutely perfect ...</td>\n",
       "      <td>rancho valencia resort spa</td>\n",
       "    </tr>\n",
       "    <tr>\n",
       "      <th>1</th>\n",
       "      <td>AVwc252WIN2L1WUfpqLP</td>\n",
       "      <td>32.990959</td>\n",
       "      <td>-117.186136</td>\n",
       "      <td>92067</td>\n",
       "      <td>5.0</td>\n",
       "      <td>7</td>\n",
       "      <td>2014</td>\n",
       "      <td>summer</td>\n",
       "      <td>great</td>\n",
       "      <td>hotels.com</td>\n",
       "      <td>hotelshotels motelshotel motel reservationsres...</td>\n",
       "      <td>rancho santa fe</td>\n",
       "      <td>ca</td>\n",
       "      <td>sweet sweet serenity</td>\n",
       "      <td>amazing place everyone extremely warm welcomin...</td>\n",
       "      <td>rancho valencia resort spa</td>\n",
       "    </tr>\n",
       "    <tr>\n",
       "      <th>2</th>\n",
       "      <td>AVwc252WIN2L1WUfpqLP</td>\n",
       "      <td>32.990959</td>\n",
       "      <td>-117.186136</td>\n",
       "      <td>92067</td>\n",
       "      <td>5.0</td>\n",
       "      <td>1</td>\n",
       "      <td>2015</td>\n",
       "      <td>winter</td>\n",
       "      <td>great</td>\n",
       "      <td>hotels.com</td>\n",
       "      <td>hotelshotels motelshotel motel reservationsres...</td>\n",
       "      <td>rancho santa fe</td>\n",
       "      <td>ca</td>\n",
       "      <td>amazing property experience</td>\n",
       "      <td>booked night stay rancho valencia play tennis ...</td>\n",
       "      <td>rancho valencia resort spa</td>\n",
       "    </tr>\n",
       "    <tr>\n",
       "      <th>3</th>\n",
       "      <td>AVwdOclqIN2L1WUfti38</td>\n",
       "      <td>39.155929</td>\n",
       "      <td>-76.716341</td>\n",
       "      <td>21076</td>\n",
       "      <td>2.0</td>\n",
       "      <td>5</td>\n",
       "      <td>2016</td>\n",
       "      <td>spring</td>\n",
       "      <td>not great</td>\n",
       "      <td>tripadvisor.com</td>\n",
       "      <td>hotelshotels motelstravel agency bureaushotel ...</td>\n",
       "      <td>hanover</td>\n",
       "      <td>md</td>\n",
       "      <td>never againbeware want sleep</td>\n",
       "      <td>currently bed writing past hr dog barking sque...</td>\n",
       "      <td>aloft arundel mill</td>\n",
       "    </tr>\n",
       "    <tr>\n",
       "      <th>4</th>\n",
       "      <td>AVwdOclqIN2L1WUfti38</td>\n",
       "      <td>39.155929</td>\n",
       "      <td>-76.716341</td>\n",
       "      <td>21076</td>\n",
       "      <td>5.0</td>\n",
       "      <td>7</td>\n",
       "      <td>2016</td>\n",
       "      <td>summer</td>\n",
       "      <td>great</td>\n",
       "      <td>tripadvisor.com</td>\n",
       "      <td>hotelshotels motelstravel agency bureaushotel ...</td>\n",
       "      <td>hanover</td>\n",
       "      <td>md</td>\n",
       "      <td>always great stay</td>\n",
       "      <td>live md aloft home away homewe stayed night st...</td>\n",
       "      <td>aloft arundel mill</td>\n",
       "    </tr>\n",
       "  </tbody>\n",
       "</table>\n",
       "</div>"
      ],
      "text/plain": [
       "                     id   latitude   longitude postalCode  reviews.rating  \\\n",
       "0  AVwc252WIN2L1WUfpqLP  32.990959 -117.186136      92067             5.0   \n",
       "1  AVwc252WIN2L1WUfpqLP  32.990959 -117.186136      92067             5.0   \n",
       "2  AVwc252WIN2L1WUfpqLP  32.990959 -117.186136      92067             5.0   \n",
       "3  AVwdOclqIN2L1WUfti38  39.155929  -76.716341      21076             2.0   \n",
       "4  AVwdOclqIN2L1WUfti38  39.155929  -76.716341      21076             5.0   \n",
       "\n",
       "   month  year visit_season cat_rating     short_source  \\\n",
       "0     11  2013         fall      great       hotels.com   \n",
       "1      7  2014       summer      great       hotels.com   \n",
       "2      1  2015       winter      great       hotels.com   \n",
       "3      5  2016       spring  not great  tripadvisor.com   \n",
       "4      7  2016       summer      great  tripadvisor.com   \n",
       "\n",
       "                                    clean_categories       clean_city  \\\n",
       "0  hotelshotels motelshotel motel reservationsres...  rancho santa fe   \n",
       "1  hotelshotels motelshotel motel reservationsres...  rancho santa fe   \n",
       "2  hotelshotels motelshotel motel reservationsres...  rancho santa fe   \n",
       "3  hotelshotels motelstravel agency bureaushotel ...          hanover   \n",
       "4  hotelshotels motelstravel agency bureaushotel ...          hanover   \n",
       "\n",
       "  clean_state                   clean_title  \\\n",
       "0          ca   best romantic vacation ever   \n",
       "1          ca          sweet sweet serenity   \n",
       "2          ca   amazing property experience   \n",
       "3          md  never againbeware want sleep   \n",
       "4          md             always great stay   \n",
       "\n",
       "                                        clean_review  \\\n",
       "0  experience rancho valencia absolutely perfect ...   \n",
       "1  amazing place everyone extremely warm welcomin...   \n",
       "2  booked night stay rancho valencia play tennis ...   \n",
       "3  currently bed writing past hr dog barking sque...   \n",
       "4  live md aloft home away homewe stayed night st...   \n",
       "\n",
       "                   clean_name  \n",
       "0  rancho valencia resort spa  \n",
       "1  rancho valencia resort spa  \n",
       "2  rancho valencia resort spa  \n",
       "3          aloft arundel mill  \n",
       "4          aloft arundel mill  "
      ]
     },
     "execution_count": 46,
     "metadata": {},
     "output_type": "execute_result"
    }
   ],
   "source": [
    "# Process remaining text columns\n",
    "proc_text(data, 'clean_city', 'city')\n",
    "proc_text(data, 'clean_state', 'province')\n",
    "proc_text(data, 'clean_title', 'reviews.title')\n",
    "proc_text(data, 'clean_review', 'reviews.text')\n",
    "proc_text(data, 'clean_name', 'name')\n",
    "data.head()"
   ]
  },
  {
   "cell_type": "code",
   "execution_count": 47,
   "metadata": {},
   "outputs": [
    {
     "data": {
      "text/html": [
       "<div>\n",
       "<style scoped>\n",
       "    .dataframe tbody tr th:only-of-type {\n",
       "        vertical-align: middle;\n",
       "    }\n",
       "\n",
       "    .dataframe tbody tr th {\n",
       "        vertical-align: top;\n",
       "    }\n",
       "\n",
       "    .dataframe thead th {\n",
       "        text-align: right;\n",
       "    }\n",
       "</style>\n",
       "<table border=\"1\" class=\"dataframe\">\n",
       "  <thead>\n",
       "    <tr style=\"text-align: right;\">\n",
       "      <th></th>\n",
       "      <th>id</th>\n",
       "      <th>latitude</th>\n",
       "      <th>longitude</th>\n",
       "      <th>postalCode</th>\n",
       "      <th>reviews.rating</th>\n",
       "      <th>month</th>\n",
       "      <th>year</th>\n",
       "      <th>visit_season</th>\n",
       "      <th>cat_rating</th>\n",
       "      <th>short_source</th>\n",
       "      <th>clean_categories</th>\n",
       "      <th>clean_city</th>\n",
       "      <th>clean_state</th>\n",
       "      <th>clean_title</th>\n",
       "      <th>clean_review</th>\n",
       "      <th>clean_name</th>\n",
       "    </tr>\n",
       "  </thead>\n",
       "  <tbody>\n",
       "    <tr>\n",
       "      <th>0</th>\n",
       "      <td>AVwc252WIN2L1WUfpqLP</td>\n",
       "      <td>32.990959</td>\n",
       "      <td>-117.186136</td>\n",
       "      <td>92067</td>\n",
       "      <td>5.0</td>\n",
       "      <td>11</td>\n",
       "      <td>2013</td>\n",
       "      <td>fall</td>\n",
       "      <td>great</td>\n",
       "      <td>hotels.com</td>\n",
       "      <td>hotelshotels motelshotel motel reservationsres...</td>\n",
       "      <td>rancho santa fe</td>\n",
       "      <td>ca</td>\n",
       "      <td>best romantic vacation ever</td>\n",
       "      <td>experience rancho valencia absolutely perfect ...</td>\n",
       "      <td>rancho valencia resort spa</td>\n",
       "    </tr>\n",
       "    <tr>\n",
       "      <th>1</th>\n",
       "      <td>AVwc252WIN2L1WUfpqLP</td>\n",
       "      <td>32.990959</td>\n",
       "      <td>-117.186136</td>\n",
       "      <td>92067</td>\n",
       "      <td>5.0</td>\n",
       "      <td>7</td>\n",
       "      <td>2014</td>\n",
       "      <td>summer</td>\n",
       "      <td>great</td>\n",
       "      <td>hotels.com</td>\n",
       "      <td>hotelshotels motelshotel motel reservationsres...</td>\n",
       "      <td>rancho santa fe</td>\n",
       "      <td>ca</td>\n",
       "      <td>sweet sweet serenity</td>\n",
       "      <td>amazing place everyone extremely warm welcomin...</td>\n",
       "      <td>rancho valencia resort spa</td>\n",
       "    </tr>\n",
       "    <tr>\n",
       "      <th>2</th>\n",
       "      <td>AVwc252WIN2L1WUfpqLP</td>\n",
       "      <td>32.990959</td>\n",
       "      <td>-117.186136</td>\n",
       "      <td>92067</td>\n",
       "      <td>5.0</td>\n",
       "      <td>1</td>\n",
       "      <td>2015</td>\n",
       "      <td>winter</td>\n",
       "      <td>great</td>\n",
       "      <td>hotels.com</td>\n",
       "      <td>hotelshotels motelshotel motel reservationsres...</td>\n",
       "      <td>rancho santa fe</td>\n",
       "      <td>ca</td>\n",
       "      <td>amazing property experience</td>\n",
       "      <td>booked night stay rancho valencia play tennis ...</td>\n",
       "      <td>rancho valencia resort spa</td>\n",
       "    </tr>\n",
       "    <tr>\n",
       "      <th>3</th>\n",
       "      <td>AVwdOclqIN2L1WUfti38</td>\n",
       "      <td>39.155929</td>\n",
       "      <td>-76.716341</td>\n",
       "      <td>21076</td>\n",
       "      <td>2.0</td>\n",
       "      <td>5</td>\n",
       "      <td>2016</td>\n",
       "      <td>spring</td>\n",
       "      <td>not great</td>\n",
       "      <td>tripadvisor.com</td>\n",
       "      <td>hotelshotels motelstravel agency bureaushotel ...</td>\n",
       "      <td>hanover</td>\n",
       "      <td>md</td>\n",
       "      <td>never againbeware want sleep</td>\n",
       "      <td>currently bed writing past hr dog barking sque...</td>\n",
       "      <td>aloft arundel mill</td>\n",
       "    </tr>\n",
       "    <tr>\n",
       "      <th>4</th>\n",
       "      <td>AVwdOclqIN2L1WUfti38</td>\n",
       "      <td>39.155929</td>\n",
       "      <td>-76.716341</td>\n",
       "      <td>21076</td>\n",
       "      <td>5.0</td>\n",
       "      <td>7</td>\n",
       "      <td>2016</td>\n",
       "      <td>summer</td>\n",
       "      <td>great</td>\n",
       "      <td>tripadvisor.com</td>\n",
       "      <td>hotelshotels motelstravel agency bureaushotel ...</td>\n",
       "      <td>hanover</td>\n",
       "      <td>md</td>\n",
       "      <td>always great stay</td>\n",
       "      <td>live md aloft home away homewe stayed night st...</td>\n",
       "      <td>aloft arundel mill</td>\n",
       "    </tr>\n",
       "  </tbody>\n",
       "</table>\n",
       "</div>"
      ],
      "text/plain": [
       "                     id   latitude   longitude postalCode  reviews.rating  \\\n",
       "0  AVwc252WIN2L1WUfpqLP  32.990959 -117.186136      92067             5.0   \n",
       "1  AVwc252WIN2L1WUfpqLP  32.990959 -117.186136      92067             5.0   \n",
       "2  AVwc252WIN2L1WUfpqLP  32.990959 -117.186136      92067             5.0   \n",
       "3  AVwdOclqIN2L1WUfti38  39.155929  -76.716341      21076             2.0   \n",
       "4  AVwdOclqIN2L1WUfti38  39.155929  -76.716341      21076             5.0   \n",
       "\n",
       "   month  year visit_season cat_rating     short_source  \\\n",
       "0     11  2013         fall      great       hotels.com   \n",
       "1      7  2014       summer      great       hotels.com   \n",
       "2      1  2015       winter      great       hotels.com   \n",
       "3      5  2016       spring  not great  tripadvisor.com   \n",
       "4      7  2016       summer      great  tripadvisor.com   \n",
       "\n",
       "                                    clean_categories       clean_city  \\\n",
       "0  hotelshotels motelshotel motel reservationsres...  rancho santa fe   \n",
       "1  hotelshotels motelshotel motel reservationsres...  rancho santa fe   \n",
       "2  hotelshotels motelshotel motel reservationsres...  rancho santa fe   \n",
       "3  hotelshotels motelstravel agency bureaushotel ...          hanover   \n",
       "4  hotelshotels motelstravel agency bureaushotel ...          hanover   \n",
       "\n",
       "  clean_state                   clean_title  \\\n",
       "0          ca   best romantic vacation ever   \n",
       "1          ca          sweet sweet serenity   \n",
       "2          ca   amazing property experience   \n",
       "3          md  never againbeware want sleep   \n",
       "4          md             always great stay   \n",
       "\n",
       "                                        clean_review  \\\n",
       "0  experience rancho valencia absolutely perfect ...   \n",
       "1  amazing place everyone extremely warm welcomin...   \n",
       "2  booked night stay rancho valencia play tennis ...   \n",
       "3  currently bed writing past hr dog barking sque...   \n",
       "4  live md aloft home away homewe stayed night st...   \n",
       "\n",
       "                   clean_name  \n",
       "0  rancho valencia resort spa  \n",
       "1  rancho valencia resort spa  \n",
       "2  rancho valencia resort spa  \n",
       "3          aloft arundel mill  \n",
       "4          aloft arundel mill  "
      ]
     },
     "execution_count": 47,
     "metadata": {},
     "output_type": "execute_result"
    }
   ],
   "source": [
    "data.head()"
   ]
  },
  {
   "cell_type": "code",
   "execution_count": 48,
   "metadata": {},
   "outputs": [
    {
     "data": {
      "text/html": [
       "<div>\n",
       "<style scoped>\n",
       "    .dataframe tbody tr th:only-of-type {\n",
       "        vertical-align: middle;\n",
       "    }\n",
       "\n",
       "    .dataframe tbody tr th {\n",
       "        vertical-align: top;\n",
       "    }\n",
       "\n",
       "    .dataframe thead th {\n",
       "        text-align: right;\n",
       "    }\n",
       "</style>\n",
       "<table border=\"1\" class=\"dataframe\">\n",
       "  <thead>\n",
       "    <tr style=\"text-align: right;\">\n",
       "      <th></th>\n",
       "      <th>id</th>\n",
       "      <th>latitude</th>\n",
       "      <th>longitude</th>\n",
       "      <th>postalCode</th>\n",
       "      <th>reviews.rating</th>\n",
       "      <th>month</th>\n",
       "      <th>year</th>\n",
       "      <th>visit_season</th>\n",
       "      <th>cat_rating</th>\n",
       "      <th>short_source</th>\n",
       "      <th>clean_categories</th>\n",
       "      <th>clean_city</th>\n",
       "      <th>clean_state</th>\n",
       "      <th>clean_title</th>\n",
       "      <th>clean_review</th>\n",
       "      <th>clean_name</th>\n",
       "    </tr>\n",
       "  </thead>\n",
       "  <tbody>\n",
       "    <tr>\n",
       "      <th>5805</th>\n",
       "      <td>AV48ic48a4HuVbedAUNM</td>\n",
       "      <td>38.89089</td>\n",
       "      <td>-77.073860</td>\n",
       "      <td>22209</td>\n",
       "      <td>5.0</td>\n",
       "      <td>5</td>\n",
       "      <td>2008</td>\n",
       "      <td>spring</td>\n",
       "      <td>great</td>\n",
       "      <td>expedia.com</td>\n",
       "      <td>hotelslodginghotelhotels motel</td>\n",
       "      <td>arlington</td>\n",
       "      <td>va</td>\n",
       "      <td>nice place stay</td>\n",
       "      <td></td>\n",
       "      <td>virginian suite ascend hotel collection member</td>\n",
       "    </tr>\n",
       "    <tr>\n",
       "      <th>6198</th>\n",
       "      <td>AVwd0HO5ByjofQCxsvv8</td>\n",
       "      <td>33.70112</td>\n",
       "      <td>-84.098459</td>\n",
       "      <td>30038</td>\n",
       "      <td>5.0</td>\n",
       "      <td>6</td>\n",
       "      <td>2016</td>\n",
       "      <td>summer</td>\n",
       "      <td>great</td>\n",
       "      <td>hotels.com</td>\n",
       "      <td>hotelhotels</td>\n",
       "      <td>lithonia</td>\n",
       "      <td>ga</td>\n",
       "      <td>nice hotel</td>\n",
       "      <td></td>\n",
       "      <td>hyatt place atlantaeastlithonia</td>\n",
       "    </tr>\n",
       "  </tbody>\n",
       "</table>\n",
       "</div>"
      ],
      "text/plain": [
       "                        id  latitude  longitude postalCode  reviews.rating  \\\n",
       "5805  AV48ic48a4HuVbedAUNM  38.89089 -77.073860      22209             5.0   \n",
       "6198  AVwd0HO5ByjofQCxsvv8  33.70112 -84.098459      30038             5.0   \n",
       "\n",
       "      month  year visit_season cat_rating short_source  \\\n",
       "5805      5  2008       spring      great  expedia.com   \n",
       "6198      6  2016       summer      great   hotels.com   \n",
       "\n",
       "                    clean_categories clean_city clean_state      clean_title  \\\n",
       "5805  hotelslodginghotelhotels motel  arlington          va  nice place stay   \n",
       "6198                     hotelhotels   lithonia          ga       nice hotel   \n",
       "\n",
       "     clean_review                                      clean_name  \n",
       "5805               virginian suite ascend hotel collection member  \n",
       "6198                              hyatt place atlantaeastlithonia  "
      ]
     },
     "execution_count": 48,
     "metadata": {},
     "output_type": "execute_result"
    }
   ],
   "source": [
    "data.loc[data['clean_review'] == '']"
   ]
  },
  {
   "cell_type": "code",
   "execution_count": 49,
   "metadata": {},
   "outputs": [
    {
     "data": {
      "text/plain": [
       "(19995, 16)"
      ]
     },
     "execution_count": 49,
     "metadata": {},
     "output_type": "execute_result"
    }
   ],
   "source": [
    "data = data[data.clean_review != '']\n",
    "data.shape"
   ]
  },
  {
   "cell_type": "code",
   "execution_count": 50,
   "metadata": {},
   "outputs": [
    {
     "data": {
      "text/plain": [
       "1.0"
      ]
     },
     "execution_count": 50,
     "metadata": {},
     "output_type": "execute_result"
    }
   ],
   "source": [
    "test = data.clean_review[0]\n",
    "tokens = word_tokenize(test)\n",
    "length = len(tokens)\n",
    "unique = set(tokens)\n",
    "unique_ct = len(unique)\n",
    "richness = unique_ct/length\n",
    "richness"
   ]
  },
  {
   "cell_type": "code",
   "execution_count": 51,
   "metadata": {},
   "outputs": [
    {
     "data": {
      "text/html": [
       "<div>\n",
       "<style scoped>\n",
       "    .dataframe tbody tr th:only-of-type {\n",
       "        vertical-align: middle;\n",
       "    }\n",
       "\n",
       "    .dataframe tbody tr th {\n",
       "        vertical-align: top;\n",
       "    }\n",
       "\n",
       "    .dataframe thead th {\n",
       "        text-align: right;\n",
       "    }\n",
       "</style>\n",
       "<table border=\"1\" class=\"dataframe\">\n",
       "  <thead>\n",
       "    <tr style=\"text-align: right;\">\n",
       "      <th></th>\n",
       "      <th>id</th>\n",
       "      <th>latitude</th>\n",
       "      <th>longitude</th>\n",
       "      <th>postalCode</th>\n",
       "      <th>reviews.rating</th>\n",
       "      <th>month</th>\n",
       "      <th>year</th>\n",
       "      <th>visit_season</th>\n",
       "      <th>cat_rating</th>\n",
       "      <th>short_source</th>\n",
       "      <th>clean_categories</th>\n",
       "      <th>clean_city</th>\n",
       "      <th>clean_state</th>\n",
       "      <th>clean_title</th>\n",
       "      <th>clean_review</th>\n",
       "      <th>clean_name</th>\n",
       "      <th>review_richness</th>\n",
       "    </tr>\n",
       "  </thead>\n",
       "  <tbody>\n",
       "    <tr>\n",
       "      <th>0</th>\n",
       "      <td>AVwc252WIN2L1WUfpqLP</td>\n",
       "      <td>32.990959</td>\n",
       "      <td>-117.186136</td>\n",
       "      <td>92067</td>\n",
       "      <td>5.0</td>\n",
       "      <td>11</td>\n",
       "      <td>2013</td>\n",
       "      <td>fall</td>\n",
       "      <td>great</td>\n",
       "      <td>hotels.com</td>\n",
       "      <td>hotelshotels motelshotel motel reservationsres...</td>\n",
       "      <td>rancho santa fe</td>\n",
       "      <td>ca</td>\n",
       "      <td>best romantic vacation ever</td>\n",
       "      <td>experience rancho valencia absolutely perfect ...</td>\n",
       "      <td>rancho valencia resort spa</td>\n",
       "      <td>1.000000</td>\n",
       "    </tr>\n",
       "    <tr>\n",
       "      <th>1</th>\n",
       "      <td>AVwc252WIN2L1WUfpqLP</td>\n",
       "      <td>32.990959</td>\n",
       "      <td>-117.186136</td>\n",
       "      <td>92067</td>\n",
       "      <td>5.0</td>\n",
       "      <td>7</td>\n",
       "      <td>2014</td>\n",
       "      <td>summer</td>\n",
       "      <td>great</td>\n",
       "      <td>hotels.com</td>\n",
       "      <td>hotelshotels motelshotel motel reservationsres...</td>\n",
       "      <td>rancho santa fe</td>\n",
       "      <td>ca</td>\n",
       "      <td>sweet sweet serenity</td>\n",
       "      <td>amazing place everyone extremely warm welcomin...</td>\n",
       "      <td>rancho valencia resort spa</td>\n",
       "      <td>0.933333</td>\n",
       "    </tr>\n",
       "    <tr>\n",
       "      <th>2</th>\n",
       "      <td>AVwc252WIN2L1WUfpqLP</td>\n",
       "      <td>32.990959</td>\n",
       "      <td>-117.186136</td>\n",
       "      <td>92067</td>\n",
       "      <td>5.0</td>\n",
       "      <td>1</td>\n",
       "      <td>2015</td>\n",
       "      <td>winter</td>\n",
       "      <td>great</td>\n",
       "      <td>hotels.com</td>\n",
       "      <td>hotelshotels motelshotel motel reservationsres...</td>\n",
       "      <td>rancho santa fe</td>\n",
       "      <td>ca</td>\n",
       "      <td>amazing property experience</td>\n",
       "      <td>booked night stay rancho valencia play tennis ...</td>\n",
       "      <td>rancho valencia resort spa</td>\n",
       "      <td>0.914894</td>\n",
       "    </tr>\n",
       "    <tr>\n",
       "      <th>3</th>\n",
       "      <td>AVwdOclqIN2L1WUfti38</td>\n",
       "      <td>39.155929</td>\n",
       "      <td>-76.716341</td>\n",
       "      <td>21076</td>\n",
       "      <td>2.0</td>\n",
       "      <td>5</td>\n",
       "      <td>2016</td>\n",
       "      <td>spring</td>\n",
       "      <td>not great</td>\n",
       "      <td>tripadvisor.com</td>\n",
       "      <td>hotelshotels motelstravel agency bureaushotel ...</td>\n",
       "      <td>hanover</td>\n",
       "      <td>md</td>\n",
       "      <td>never againbeware want sleep</td>\n",
       "      <td>currently bed writing past hr dog barking sque...</td>\n",
       "      <td>aloft arundel mill</td>\n",
       "      <td>1.000000</td>\n",
       "    </tr>\n",
       "    <tr>\n",
       "      <th>4</th>\n",
       "      <td>AVwdOclqIN2L1WUfti38</td>\n",
       "      <td>39.155929</td>\n",
       "      <td>-76.716341</td>\n",
       "      <td>21076</td>\n",
       "      <td>5.0</td>\n",
       "      <td>7</td>\n",
       "      <td>2016</td>\n",
       "      <td>summer</td>\n",
       "      <td>great</td>\n",
       "      <td>tripadvisor.com</td>\n",
       "      <td>hotelshotels motelstravel agency bureaushotel ...</td>\n",
       "      <td>hanover</td>\n",
       "      <td>md</td>\n",
       "      <td>always great stay</td>\n",
       "      <td>live md aloft home away homewe stayed night st...</td>\n",
       "      <td>aloft arundel mill</td>\n",
       "      <td>1.000000</td>\n",
       "    </tr>\n",
       "  </tbody>\n",
       "</table>\n",
       "</div>"
      ],
      "text/plain": [
       "                     id   latitude   longitude postalCode  reviews.rating  \\\n",
       "0  AVwc252WIN2L1WUfpqLP  32.990959 -117.186136      92067             5.0   \n",
       "1  AVwc252WIN2L1WUfpqLP  32.990959 -117.186136      92067             5.0   \n",
       "2  AVwc252WIN2L1WUfpqLP  32.990959 -117.186136      92067             5.0   \n",
       "3  AVwdOclqIN2L1WUfti38  39.155929  -76.716341      21076             2.0   \n",
       "4  AVwdOclqIN2L1WUfti38  39.155929  -76.716341      21076             5.0   \n",
       "\n",
       "   month  year visit_season cat_rating     short_source  \\\n",
       "0     11  2013         fall      great       hotels.com   \n",
       "1      7  2014       summer      great       hotels.com   \n",
       "2      1  2015       winter      great       hotels.com   \n",
       "3      5  2016       spring  not great  tripadvisor.com   \n",
       "4      7  2016       summer      great  tripadvisor.com   \n",
       "\n",
       "                                    clean_categories       clean_city  \\\n",
       "0  hotelshotels motelshotel motel reservationsres...  rancho santa fe   \n",
       "1  hotelshotels motelshotel motel reservationsres...  rancho santa fe   \n",
       "2  hotelshotels motelshotel motel reservationsres...  rancho santa fe   \n",
       "3  hotelshotels motelstravel agency bureaushotel ...          hanover   \n",
       "4  hotelshotels motelstravel agency bureaushotel ...          hanover   \n",
       "\n",
       "  clean_state                   clean_title  \\\n",
       "0          ca   best romantic vacation ever   \n",
       "1          ca          sweet sweet serenity   \n",
       "2          ca   amazing property experience   \n",
       "3          md  never againbeware want sleep   \n",
       "4          md             always great stay   \n",
       "\n",
       "                                        clean_review  \\\n",
       "0  experience rancho valencia absolutely perfect ...   \n",
       "1  amazing place everyone extremely warm welcomin...   \n",
       "2  booked night stay rancho valencia play tennis ...   \n",
       "3  currently bed writing past hr dog barking sque...   \n",
       "4  live md aloft home away homewe stayed night st...   \n",
       "\n",
       "                   clean_name  review_richness  \n",
       "0  rancho valencia resort spa         1.000000  \n",
       "1  rancho valencia resort spa         0.933333  \n",
       "2  rancho valencia resort spa         0.914894  \n",
       "3          aloft arundel mill         1.000000  \n",
       "4          aloft arundel mill         1.000000  "
      ]
     },
     "execution_count": 51,
     "metadata": {},
     "output_type": "execute_result"
    }
   ],
   "source": [
    "def vocab_richness(text):\n",
    "    tokens = word_tokenize(text)\n",
    "    total_length = len(tokens)\n",
    "    unique_words = set(tokens)\n",
    "    unique_word_length = len(unique_words)\n",
    "    return unique_word_length / total_length\n",
    "\n",
    "data['review_richness'] = data.clean_review.apply(vocab_richness)\n",
    "data.head()"
   ]
  },
  {
   "cell_type": "markdown",
   "metadata": {},
   "source": [
    "## Encode target data"
   ]
  },
  {
   "cell_type": "code",
   "execution_count": 133,
   "metadata": {},
   "outputs": [
    {
     "data": {
      "text/html": [
       "<div>\n",
       "<style scoped>\n",
       "    .dataframe tbody tr th:only-of-type {\n",
       "        vertical-align: middle;\n",
       "    }\n",
       "\n",
       "    .dataframe tbody tr th {\n",
       "        vertical-align: top;\n",
       "    }\n",
       "\n",
       "    .dataframe thead th {\n",
       "        text-align: right;\n",
       "    }\n",
       "</style>\n",
       "<table border=\"1\" class=\"dataframe\">\n",
       "  <thead>\n",
       "    <tr style=\"text-align: right;\">\n",
       "      <th></th>\n",
       "      <th>id</th>\n",
       "      <th>latitude</th>\n",
       "      <th>longitude</th>\n",
       "      <th>postalCode</th>\n",
       "      <th>reviews.rating</th>\n",
       "      <th>month</th>\n",
       "      <th>year</th>\n",
       "      <th>visit_season</th>\n",
       "      <th>cat_rating</th>\n",
       "      <th>short_source</th>\n",
       "      <th>clean_categories</th>\n",
       "      <th>clean_city</th>\n",
       "      <th>clean_state</th>\n",
       "      <th>clean_title</th>\n",
       "      <th>clean_review</th>\n",
       "      <th>clean_name</th>\n",
       "      <th>review_richness</th>\n",
       "      <th>good</th>\n",
       "      <th>great</th>\n",
       "      <th>not great</th>\n",
       "    </tr>\n",
       "  </thead>\n",
       "  <tbody>\n",
       "    <tr>\n",
       "      <th>0</th>\n",
       "      <td>AVwc252WIN2L1WUfpqLP</td>\n",
       "      <td>32.990959</td>\n",
       "      <td>-117.186136</td>\n",
       "      <td>92067</td>\n",
       "      <td>5.0</td>\n",
       "      <td>11</td>\n",
       "      <td>2013</td>\n",
       "      <td>fall</td>\n",
       "      <td>great</td>\n",
       "      <td>hotels.com</td>\n",
       "      <td>hotelshotels motelshotel motel reservationsres...</td>\n",
       "      <td>rancho santa fe</td>\n",
       "      <td>ca</td>\n",
       "      <td>best romantic vacation ever</td>\n",
       "      <td>experience rancho valencia absolutely perfect ...</td>\n",
       "      <td>rancho valencia resort spa</td>\n",
       "      <td>1.000000</td>\n",
       "      <td>0.0</td>\n",
       "      <td>1.0</td>\n",
       "      <td>0.0</td>\n",
       "    </tr>\n",
       "    <tr>\n",
       "      <th>1</th>\n",
       "      <td>AVwc252WIN2L1WUfpqLP</td>\n",
       "      <td>32.990959</td>\n",
       "      <td>-117.186136</td>\n",
       "      <td>92067</td>\n",
       "      <td>5.0</td>\n",
       "      <td>7</td>\n",
       "      <td>2014</td>\n",
       "      <td>summer</td>\n",
       "      <td>great</td>\n",
       "      <td>hotels.com</td>\n",
       "      <td>hotelshotels motelshotel motel reservationsres...</td>\n",
       "      <td>rancho santa fe</td>\n",
       "      <td>ca</td>\n",
       "      <td>sweet sweet serenity</td>\n",
       "      <td>amazing place everyone extremely warm welcomin...</td>\n",
       "      <td>rancho valencia resort spa</td>\n",
       "      <td>0.933333</td>\n",
       "      <td>0.0</td>\n",
       "      <td>1.0</td>\n",
       "      <td>0.0</td>\n",
       "    </tr>\n",
       "    <tr>\n",
       "      <th>2</th>\n",
       "      <td>AVwc252WIN2L1WUfpqLP</td>\n",
       "      <td>32.990959</td>\n",
       "      <td>-117.186136</td>\n",
       "      <td>92067</td>\n",
       "      <td>5.0</td>\n",
       "      <td>1</td>\n",
       "      <td>2015</td>\n",
       "      <td>winter</td>\n",
       "      <td>great</td>\n",
       "      <td>hotels.com</td>\n",
       "      <td>hotelshotels motelshotel motel reservationsres...</td>\n",
       "      <td>rancho santa fe</td>\n",
       "      <td>ca</td>\n",
       "      <td>amazing property experience</td>\n",
       "      <td>booked night stay rancho valencia play tennis ...</td>\n",
       "      <td>rancho valencia resort spa</td>\n",
       "      <td>0.914894</td>\n",
       "      <td>0.0</td>\n",
       "      <td>1.0</td>\n",
       "      <td>0.0</td>\n",
       "    </tr>\n",
       "    <tr>\n",
       "      <th>3</th>\n",
       "      <td>AVwdOclqIN2L1WUfti38</td>\n",
       "      <td>39.155929</td>\n",
       "      <td>-76.716341</td>\n",
       "      <td>21076</td>\n",
       "      <td>2.0</td>\n",
       "      <td>5</td>\n",
       "      <td>2016</td>\n",
       "      <td>spring</td>\n",
       "      <td>not great</td>\n",
       "      <td>tripadvisor.com</td>\n",
       "      <td>hotelshotels motelstravel agency bureaushotel ...</td>\n",
       "      <td>hanover</td>\n",
       "      <td>md</td>\n",
       "      <td>never againbeware want sleep</td>\n",
       "      <td>currently bed writing past hr dog barking sque...</td>\n",
       "      <td>aloft arundel mill</td>\n",
       "      <td>1.000000</td>\n",
       "      <td>0.0</td>\n",
       "      <td>0.0</td>\n",
       "      <td>1.0</td>\n",
       "    </tr>\n",
       "    <tr>\n",
       "      <th>4</th>\n",
       "      <td>AVwdOclqIN2L1WUfti38</td>\n",
       "      <td>39.155929</td>\n",
       "      <td>-76.716341</td>\n",
       "      <td>21076</td>\n",
       "      <td>5.0</td>\n",
       "      <td>7</td>\n",
       "      <td>2016</td>\n",
       "      <td>summer</td>\n",
       "      <td>great</td>\n",
       "      <td>tripadvisor.com</td>\n",
       "      <td>hotelshotels motelstravel agency bureaushotel ...</td>\n",
       "      <td>hanover</td>\n",
       "      <td>md</td>\n",
       "      <td>always great stay</td>\n",
       "      <td>live md aloft home away homewe stayed night st...</td>\n",
       "      <td>aloft arundel mill</td>\n",
       "      <td>1.000000</td>\n",
       "      <td>0.0</td>\n",
       "      <td>1.0</td>\n",
       "      <td>0.0</td>\n",
       "    </tr>\n",
       "  </tbody>\n",
       "</table>\n",
       "</div>"
      ],
      "text/plain": [
       "                     id   latitude   longitude postalCode  reviews.rating  \\\n",
       "0  AVwc252WIN2L1WUfpqLP  32.990959 -117.186136      92067             5.0   \n",
       "1  AVwc252WIN2L1WUfpqLP  32.990959 -117.186136      92067             5.0   \n",
       "2  AVwc252WIN2L1WUfpqLP  32.990959 -117.186136      92067             5.0   \n",
       "3  AVwdOclqIN2L1WUfti38  39.155929  -76.716341      21076             2.0   \n",
       "4  AVwdOclqIN2L1WUfti38  39.155929  -76.716341      21076             5.0   \n",
       "\n",
       "   month  year visit_season cat_rating     short_source  \\\n",
       "0     11  2013         fall      great       hotels.com   \n",
       "1      7  2014       summer      great       hotels.com   \n",
       "2      1  2015       winter      great       hotels.com   \n",
       "3      5  2016       spring  not great  tripadvisor.com   \n",
       "4      7  2016       summer      great  tripadvisor.com   \n",
       "\n",
       "                                    clean_categories       clean_city  \\\n",
       "0  hotelshotels motelshotel motel reservationsres...  rancho santa fe   \n",
       "1  hotelshotels motelshotel motel reservationsres...  rancho santa fe   \n",
       "2  hotelshotels motelshotel motel reservationsres...  rancho santa fe   \n",
       "3  hotelshotels motelstravel agency bureaushotel ...          hanover   \n",
       "4  hotelshotels motelstravel agency bureaushotel ...          hanover   \n",
       "\n",
       "  clean_state                   clean_title  \\\n",
       "0          ca   best romantic vacation ever   \n",
       "1          ca          sweet sweet serenity   \n",
       "2          ca   amazing property experience   \n",
       "3          md  never againbeware want sleep   \n",
       "4          md             always great stay   \n",
       "\n",
       "                                        clean_review  \\\n",
       "0  experience rancho valencia absolutely perfect ...   \n",
       "1  amazing place everyone extremely warm welcomin...   \n",
       "2  booked night stay rancho valencia play tennis ...   \n",
       "3  currently bed writing past hr dog barking sque...   \n",
       "4  live md aloft home away homewe stayed night st...   \n",
       "\n",
       "                   clean_name  review_richness  good  great  not great  \n",
       "0  rancho valencia resort spa         1.000000   0.0    1.0        0.0  \n",
       "1  rancho valencia resort spa         0.933333   0.0    1.0        0.0  \n",
       "2  rancho valencia resort spa         0.914894   0.0    1.0        0.0  \n",
       "3          aloft arundel mill         1.000000   0.0    0.0        1.0  \n",
       "4          aloft arundel mill         1.000000   0.0    1.0        0.0  "
      ]
     },
     "execution_count": 133,
     "metadata": {},
     "output_type": "execute_result"
    }
   ],
   "source": [
    "ohe = OneHotEncoder(categories=[['good', 'great', 'not great']], sparse=False, handle_unknown='ignore')\n",
    "\n",
    "ohe.fit(data[['cat_rating']])\n",
    "\n",
    "rating_ohe = ohe.transform(data[['cat_rating']])\n",
    "\n",
    "data[\"good\"],data[\"great\"],data['not great'] = rating_ohe.T\n",
    "\n",
    "data.head()"
   ]
  },
  {
   "cell_type": "markdown",
   "metadata": {},
   "source": [
    "## Machine Learning Methods\n",
    "✅ vectorize with Tfidf Vectorizer (tune max_df, min_df, max_features, ngram_range) <br>\n",
    "✅ create pipeline to tune vectorizer and Multinomial Naive Bayes (tune nb_alpha) algorithm together <br>\n",
    "✅ establish baseline evaluation using DummyClassifier (use accuracy as metric) <br>\n",
    "✅ use cross-validation, especially due to imbalance in data (mostly good reviews) <br>\n",
    "✅ visualize reviews text with a word cloud as a baseline for LDA <br>\n",
    "✅ train an LDA model to extract potential topics <br>\n",
    "✅ create visualization of extracted topics <br>\n"
   ]
  },
  {
   "cell_type": "markdown",
   "metadata": {},
   "source": [
    "### Multinomial Naive Bayes"
   ]
  },
  {
   "cell_type": "code",
   "execution_count": 52,
   "metadata": {},
   "outputs": [
    {
     "data": {
      "text/plain": [
       "Index(['id', 'latitude', 'longitude', 'postalCode', 'reviews.rating', 'month',\n",
       "       'year', 'visit_season', 'cat_rating', 'short_source',\n",
       "       'clean_categories', 'clean_city', 'clean_state', 'clean_title',\n",
       "       'clean_review', 'clean_name', 'review_richness'],\n",
       "      dtype='object')"
      ]
     },
     "execution_count": 52,
     "metadata": {},
     "output_type": "execute_result"
    }
   ],
   "source": [
    "data.columns"
   ]
  },
  {
   "cell_type": "code",
   "execution_count": 53,
   "metadata": {},
   "outputs": [],
   "source": [
    "# text_features = ['short_source', 'visit_season', 'clean_categories', 'clean_city', 'clean_state', 'clean_title', \\\n",
    "#                  'clean_review', 'clean_name']\n",
    "X = data.clean_review\n",
    "y = data.cat_rating"
   ]
  },
  {
   "cell_type": "code",
   "execution_count": 54,
   "metadata": {},
   "outputs": [
    {
     "name": "stdout",
     "output_type": "stream",
     "text": [
      "<class 'pandas.core.frame.DataFrame'>\n",
      "Int64Index: 19995 entries, 0 to 19999\n",
      "Data columns (total 17 columns):\n",
      " #   Column            Non-Null Count  Dtype  \n",
      "---  ------            --------------  -----  \n",
      " 0   id                19995 non-null  object \n",
      " 1   latitude          19995 non-null  float64\n",
      " 2   longitude         19995 non-null  float64\n",
      " 3   postalCode        19995 non-null  object \n",
      " 4   reviews.rating    19995 non-null  float64\n",
      " 5   month             19995 non-null  int64  \n",
      " 6   year              19995 non-null  int64  \n",
      " 7   visit_season      19995 non-null  object \n",
      " 8   cat_rating        19995 non-null  object \n",
      " 9   short_source      19995 non-null  object \n",
      " 10  clean_categories  19995 non-null  object \n",
      " 11  clean_city        19995 non-null  object \n",
      " 12  clean_state       19995 non-null  object \n",
      " 13  clean_title       19995 non-null  object \n",
      " 14  clean_review      19995 non-null  object \n",
      " 15  clean_name        19995 non-null  object \n",
      " 16  review_richness   19995 non-null  float64\n",
      "dtypes: float64(4), int64(2), object(11)\n",
      "memory usage: 3.2+ MB\n"
     ]
    }
   ],
   "source": [
    "data.info()"
   ]
  },
  {
   "cell_type": "code",
   "execution_count": 55,
   "metadata": {
    "scrolled": false
   },
   "outputs": [
    {
     "name": "stdout",
     "output_type": "stream",
     "text": [
      "Fitting 5 folds for each of 243 candidates, totalling 1215 fits\n"
     ]
    },
    {
     "name": "stderr",
     "output_type": "stream",
     "text": [
      "c:\\users\\njeri\\.venvs\\smart_stay\\lib\\site-packages\\sklearn\\model_selection\\_search.py:921: UserWarning: One or more of the test scores are non-finite: [0.49077269        nan        nan 0.48762191        nan        nan\n",
      " 0.48257064        nan        nan 0.50702676        nan        nan\n",
      " 0.48762191        nan        nan 0.48257064        nan        nan\n",
      " 0.51022756        nan        nan 0.48762191        nan        nan\n",
      " 0.48257064        nan        nan 0.49077269        nan        nan\n",
      " 0.48762191        nan        nan 0.48257064        nan        nan\n",
      " 0.50702676        nan        nan 0.48762191        nan        nan\n",
      " 0.48257064        nan        nan 0.51022756        nan        nan\n",
      " 0.48762191        nan        nan 0.48257064        nan        nan\n",
      " 0.49077269        nan        nan 0.48762191        nan        nan\n",
      " 0.48257064        nan        nan 0.50702676        nan        nan\n",
      " 0.48762191        nan        nan 0.48257064        nan        nan\n",
      " 0.51022756        nan        nan 0.48762191        nan        nan\n",
      " 0.48257064        nan        nan 0.49072268        nan        nan\n",
      " 0.48762191        nan        nan 0.48242061        nan        nan\n",
      " 0.50712678        nan        nan 0.48762191        nan        nan\n",
      " 0.48242061        nan        nan 0.51017754        nan        nan\n",
      " 0.48762191        nan        nan 0.48242061        nan        nan\n",
      " 0.49072268        nan        nan 0.48762191        nan        nan\n",
      " 0.48242061        nan        nan 0.50712678        nan        nan\n",
      " 0.48762191        nan        nan 0.48242061        nan        nan\n",
      " 0.51017754        nan        nan 0.48762191        nan        nan\n",
      " 0.48242061        nan        nan 0.49072268        nan        nan\n",
      " 0.48762191        nan        nan 0.48242061        nan        nan\n",
      " 0.50712678        nan        nan 0.48762191        nan        nan\n",
      " 0.48242061        nan        nan 0.51017754        nan        nan\n",
      " 0.48762191        nan        nan 0.48242061        nan        nan\n",
      " 0.49072268        nan        nan 0.48757189        nan        nan\n",
      " 0.48242061        nan        nan 0.50717679        nan        nan\n",
      " 0.48757189        nan        nan 0.48242061        nan        nan\n",
      " 0.51017754        nan        nan 0.48757189        nan        nan\n",
      " 0.48242061        nan        nan 0.49072268        nan        nan\n",
      " 0.48757189        nan        nan 0.48242061        nan        nan\n",
      " 0.50717679        nan        nan 0.48757189        nan        nan\n",
      " 0.48242061        nan        nan 0.51017754        nan        nan\n",
      " 0.48757189        nan        nan 0.48242061        nan        nan\n",
      " 0.49072268        nan        nan 0.48757189        nan        nan\n",
      " 0.48242061        nan        nan 0.50717679        nan        nan\n",
      " 0.48757189        nan        nan 0.48242061        nan        nan\n",
      " 0.51017754        nan        nan 0.48757189        nan        nan\n",
      " 0.48242061        nan        nan]\n",
      "  category=UserWarning\n"
     ]
    },
    {
     "name": "stdout",
     "output_type": "stream",
     "text": [
      "Wall time: 16min 3s\n"
     ]
    },
    {
     "data": {
      "text/plain": [
       "GridSearchCV(cv=5,\n",
       "             estimator=Pipeline(steps=[('tfidf', TfidfVectorizer()),\n",
       "                                       ('nb', MultinomialNB())]),\n",
       "             n_jobs=-1,\n",
       "             param_grid={'nb__alpha': (0.1, 0.5, 1),\n",
       "                         'tfidf__max_df': (0.7, 0.8, 0.9),\n",
       "                         'tfidf__max_features': (20, 30, 40),\n",
       "                         'tfidf__min_df': (0.1, 0.2, 0.3),\n",
       "                         'tfidf__ngram_range': ((1, 1), (2, 2), (3, 3))},\n",
       "             scoring='accuracy', verbose=1)"
      ]
     },
     "execution_count": 55,
     "metadata": {},
     "output_type": "execute_result"
    }
   ],
   "source": [
    "%%time\n",
    "# Create Pipeline\n",
    "pipeline = Pipeline([\n",
    "    ('tfidf', TfidfVectorizer()),\n",
    "    ('nb', MultinomialNB()),\n",
    "])\n",
    "\n",
    "# Set parameters to search\n",
    "parameters = {\n",
    "    'tfidf__ngram_range': ((1,1), (2,2), (3,3)),\n",
    "    'tfidf__max_df':(0.7, 0.8, 0.9),\n",
    "    'tfidf__min_df': (0.1, 0.2, 0.3),\n",
    "    'tfidf__max_features': (20, 30, 40),\n",
    "    'nb__alpha': (0.1, 0.5, 1)}\n",
    "\n",
    "# Perform grid search\n",
    "grid_search = GridSearchCV(pipeline, parameters, n_jobs=-1, \n",
    "                           verbose=1, scoring = \"accuracy\", \n",
    "                           refit=True, cv=5)\n",
    "\n",
    "grid_search.fit(X, y)"
   ]
  },
  {
   "cell_type": "code",
   "execution_count": 56,
   "metadata": {},
   "outputs": [
    {
     "data": {
      "text/plain": [
       "{'nb__alpha': 0.1,\n",
       " 'tfidf__max_df': 0.7,\n",
       " 'tfidf__max_features': 40,\n",
       " 'tfidf__min_df': 0.1,\n",
       " 'tfidf__ngram_range': (1, 1)}"
      ]
     },
     "execution_count": 56,
     "metadata": {},
     "output_type": "execute_result"
    }
   ],
   "source": [
    "grid_search.best_params_"
   ]
  },
  {
   "cell_type": "code",
   "execution_count": 57,
   "metadata": {},
   "outputs": [
    {
     "data": {
      "text/plain": [
       "0.5102275568892223"
      ]
     },
     "execution_count": 57,
     "metadata": {},
     "output_type": "execute_result"
    }
   ],
   "source": [
    "grid_search.best_score_"
   ]
  },
  {
   "cell_type": "code",
   "execution_count": 58,
   "metadata": {},
   "outputs": [
    {
     "name": "stdout",
     "output_type": "stream",
     "text": [
      "Fitting 5 folds for each of 9 candidates, totalling 45 fits\n",
      "Wall time: 22.9 s\n"
     ]
    },
    {
     "data": {
      "text/plain": [
       "GridSearchCV(cv=5,\n",
       "             estimator=Pipeline(steps=[('tfidf', TfidfVectorizer()),\n",
       "                                       ('nb', MultinomialNB())]),\n",
       "             n_jobs=-1,\n",
       "             param_grid={'nb__alpha': [0.1], 'tfidf__max_df': (0.5, 0.6, 0.7),\n",
       "                         'tfidf__max_features': (40, 50, 60),\n",
       "                         'tfidf__min_df': [0.1],\n",
       "                         'tfidf__ngram_range': [(1, 1)]},\n",
       "             scoring='accuracy', verbose=1)"
      ]
     },
     "execution_count": 58,
     "metadata": {},
     "output_type": "execute_result"
    }
   ],
   "source": [
    "%%time\n",
    "# Tune grid search\n",
    "\n",
    "parameters_2 = {\n",
    "    'tfidf__ngram_range': [(1,1)],\n",
    "    'tfidf__max_df':(0.5, 0.6, 0.7),\n",
    "    'tfidf__min_df': [0.1],\n",
    "    'tfidf__max_features': (40, 50, 60),\n",
    "    'nb__alpha': [0.1]}\n",
    "\n",
    "# Perform grid search\n",
    "grid_search_2 = GridSearchCV(pipeline, parameters_2, n_jobs=-1, \n",
    "                           verbose=1, scoring = \"accuracy\", \n",
    "                           refit=True, cv=5)\n",
    "\n",
    "grid_search_2.fit(X, y)"
   ]
  },
  {
   "cell_type": "code",
   "execution_count": 59,
   "metadata": {},
   "outputs": [
    {
     "data": {
      "text/plain": [
       "{'nb__alpha': 0.1,\n",
       " 'tfidf__max_df': 0.7,\n",
       " 'tfidf__max_features': 50,\n",
       " 'tfidf__min_df': 0.1,\n",
       " 'tfidf__ngram_range': (1, 1)}"
      ]
     },
     "execution_count": 59,
     "metadata": {},
     "output_type": "execute_result"
    }
   ],
   "source": [
    "grid_search_2.best_params_"
   ]
  },
  {
   "cell_type": "code",
   "execution_count": 60,
   "metadata": {},
   "outputs": [
    {
     "data": {
      "text/plain": [
       "0.5108277069267316"
      ]
     },
     "execution_count": 60,
     "metadata": {},
     "output_type": "execute_result"
    }
   ],
   "source": [
    "grid_search_2.best_score_"
   ]
  },
  {
   "cell_type": "code",
   "execution_count": 61,
   "metadata": {},
   "outputs": [
    {
     "data": {
      "text/plain": [
       "array(['great'], dtype='<U9')"
      ]
     },
     "execution_count": 61,
     "metadata": {},
     "output_type": "execute_result"
    }
   ],
   "source": [
    "# check with a 4-star review\n",
    "\n",
    "review = [['This is a great way to get around Hakone. It is included in the Hakone Freepass so why not? On a clear day, it also offers great views of the mountains.']]\n",
    "review_df = pd.DataFrame(data=review)\n",
    "proc_text(review_df, 'clean_review', 0)\n",
    "grid_search_2.predict(review_df.clean_review)"
   ]
  },
  {
   "cell_type": "code",
   "execution_count": 62,
   "metadata": {},
   "outputs": [
    {
     "data": {
      "text/plain": [
       "array(['great'], dtype='<U9')"
      ]
     },
     "execution_count": 62,
     "metadata": {},
     "output_type": "execute_result"
    }
   ],
   "source": [
    "# check with a 2-star review\n",
    "\n",
    "review_2 = [['So I know that when you eat at a diner you are going to get greasy food, but this had way too much grease. We may have just gone on a bad day but the hashbrowns were so greasy that they were soggy (versus crispy), and the scrambled eggs managed to somehow be both undercooked and overly greasy. The only thing that gave this place 2 stars instead of 1 is that our server was great.']]\n",
    "review_2_df = pd.DataFrame(data=review_2)\n",
    "proc_text(review_2_df, 'clean_review', 0)\n",
    "grid_search_2.predict(review_2_df.clean_review)"
   ]
  },
  {
   "cell_type": "code",
   "execution_count": 63,
   "metadata": {},
   "outputs": [
    {
     "data": {
      "text/plain": [
       "array(['good'], dtype='<U9')"
      ]
     },
     "execution_count": 63,
     "metadata": {},
     "output_type": "execute_result"
    }
   ],
   "source": [
    "# 1-star review\n",
    "\n",
    "review_3 = [['The waiters/waitresses seemed to hate their jobs and made it unpleasant to eat/be here. My sandwich wasn’t good, Denver Melt. My husband’s sausage sandwich was tasty. Just disappointed as the ratings were good - definitely not.']]\n",
    "review_3_df = pd.DataFrame(data=review_3)\n",
    "proc_text(review_3_df, 'clean_review', 0)\n",
    "grid_search_2.predict(review_3_df.clean_review)"
   ]
  },
  {
   "cell_type": "markdown",
   "metadata": {},
   "source": [
    "### Baseline evaluation"
   ]
  },
  {
   "cell_type": "code",
   "execution_count": 64,
   "metadata": {},
   "outputs": [
    {
     "name": "stdout",
     "output_type": "stream",
     "text": [
      "Fitting 5 folds for each of 3 candidates, totalling 15 fits\n",
      "Wall time: 8.71 s\n"
     ]
    },
    {
     "data": {
      "text/plain": [
       "GridSearchCV(cv=5,\n",
       "             estimator=Pipeline(steps=[('tfidf',\n",
       "                                        TfidfVectorizer(max_df=0.7,\n",
       "                                                        max_features=50,\n",
       "                                                        min_df=0.1)),\n",
       "                                       ('dc', DummyClassifier())]),\n",
       "             n_jobs=-1,\n",
       "             param_grid={'dc__strategy': ['stratified', 'most_frequent',\n",
       "                                          'prior']},\n",
       "             scoring='accuracy', verbose=1)"
      ]
     },
     "execution_count": 64,
     "metadata": {},
     "output_type": "execute_result"
    }
   ],
   "source": [
    "%%time\n",
    "\n",
    "pipeline_bl = Pipeline([\n",
    "    ('tfidf', TfidfVectorizer(max_df=0.7, max_features=50, min_df=0.1, ngram_range=(1,1))),\n",
    "    ('dc', DummyClassifier()),\n",
    "])\n",
    "\n",
    "parameters_bl = {\n",
    "    'dc__strategy': ['stratified', 'most_frequent', 'prior']\n",
    "}\n",
    "\n",
    "grid_search_bl = GridSearchCV(pipeline_bl, parameters_bl, n_jobs=-1, \n",
    "                           verbose=1, scoring = \"accuracy\", \n",
    "                           refit=True, cv=5)\n",
    "\n",
    "grid_search_bl.fit(X, y)"
   ]
  },
  {
   "cell_type": "code",
   "execution_count": 65,
   "metadata": {},
   "outputs": [
    {
     "data": {
      "text/plain": [
       "{'dc__strategy': 'most_frequent'}"
      ]
     },
     "execution_count": 65,
     "metadata": {},
     "output_type": "execute_result"
    }
   ],
   "source": [
    "grid_search_bl.best_params_"
   ]
  },
  {
   "cell_type": "code",
   "execution_count": 66,
   "metadata": {},
   "outputs": [
    {
     "data": {
      "text/plain": [
       "0.46116529132283074"
      ]
     },
     "execution_count": 66,
     "metadata": {},
     "output_type": "execute_result"
    }
   ],
   "source": [
    "grid_search_bl.best_score_"
   ]
  },
  {
   "cell_type": "code",
   "execution_count": 67,
   "metadata": {},
   "outputs": [
    {
     "name": "stdout",
     "output_type": "stream",
     "text": [
      "4-star result: ['great']\n",
      "2-star result: ['great']\n",
      "1-star result: ['great']\n"
     ]
    }
   ],
   "source": [
    "print(f'4-star result: {grid_search_bl.predict(review_df.clean_review)}')\n",
    "print(f'2-star result: {grid_search_bl.predict(review_2_df.clean_review)}')\n",
    "print(f'1-star result: {grid_search_bl.predict(review_3_df.clean_review)}')"
   ]
  },
  {
   "cell_type": "markdown",
   "metadata": {},
   "source": [
    "-----------------------------------------------------\n",
    "\n",
    "*Multinomial Naive Bayes is slightly better than the Dummy Classifier on accuracy score and neither does well on predicting ratings from new reviews. Try LDA to see topics can be allocated from the data*\n",
    "\n",
    "-----------------------------------------------------"
   ]
  },
  {
   "cell_type": "markdown",
   "metadata": {},
   "source": [
    "### Latent Dirichlet Allocation"
   ]
  },
  {
   "cell_type": "code",
   "execution_count": 68,
   "metadata": {},
   "outputs": [
    {
     "data": {
      "image/png": "[encoded data removed]",
      "text/plain": [
       "<PIL.Image.Image image mode=RGB size=400x200 at 0x1D0A99F3B88>"
      ]
     },
     "execution_count": 68,
     "metadata": {},
     "output_type": "execute_result"
    }
   ],
   "source": [
    "# Generate word cloud\n",
    "\n",
    "# Join the different processed reviews together.\n",
    "long_string = ' '.join(list(data['clean_review'].values))\n",
    "\n",
    "wordcloud = WordCloud(background_color=\"white\", max_words=5000, contour_width=3, contour_color='steelblue')\n",
    "wordcloud.generate(long_string)\n",
    "wordcloud.to_file('visualizations/review_cloud.png')\n",
    "wordcloud.to_image()"
   ]
  },
  {
   "cell_type": "code",
   "execution_count": 69,
   "metadata": {},
   "outputs": [
    {
     "name": "stdout",
     "output_type": "stream",
     "text": [
      "[(10938, 1)]\n"
     ]
    }
   ],
   "source": [
    "# Tokenize words\n",
    "text = word_tokenize(long_string)\n",
    "\n",
    "# Create Dictionary\n",
    "id2word = corpora.Dictionary([text])\n",
    "\n",
    "# Term Document Frequency\n",
    "corpus = [id2word.doc2bow([word]) for word in text]\n",
    "\n",
    "# View\n",
    "print(corpus[:1][0][:30])"
   ]
  },
  {
   "cell_type": "code",
   "execution_count": 70,
   "metadata": {},
   "outputs": [
    {
     "name": "stdout",
     "output_type": "stream",
     "text": [
      "[(0,\n",
      "  '0.130*\"stay\" + 0.036*\"well\" + 0.035*\"next\" + 0.034*\"review\" + 0.033*\"also\" '\n",
      "  '+ 0.029*\"enjoyed\" + 0.021*\"taking\" + 0.021*\"didnt\" + 0.021*\"right\" + '\n",
      "  '0.018*\"know\"'),\n",
      " (1,\n",
      "  '0.079*\"clean\" + 0.069*\"would\" + 0.052*\"service\" + 0.048*\"bed\" + '\n",
      "  '0.038*\"like\" + 0.038*\"front\" + 0.029*\"much\" + 0.024*\"staying\" + 0.022*\"go\" '\n",
      "  '+ 0.021*\"street\"'),\n",
      " (2,\n",
      "  '0.045*\"comfortable\" + 0.032*\"hope\" + 0.027*\"new\" + 0.027*\"make\" + '\n",
      "  '0.026*\"look\" + 0.025*\"visit\" + 0.022*\"trip\" + 0.022*\"manager\" + '\n",
      "  '0.020*\"morning\" + 0.020*\"appreciate\"'),\n",
      " (3,\n",
      "  '0.111*\"staff\" + 0.103*\"great\" + 0.070*\"nice\" + 0.054*\"stayed\" + 0.039*\"day\" '\n",
      "  '+ 0.028*\"really\" + 0.022*\"two\" + 0.022*\"floor\" + 0.020*\"wonderful\" + '\n",
      "  '0.019*\"recommend\"'),\n",
      " (4,\n",
      "  '0.079*\"breakfast\" + 0.063*\"location\" + 0.055*\"one\" + 0.049*\"area\" + '\n",
      "  '0.039*\"get\" + 0.030*\"best\" + 0.027*\"inn\" + 0.022*\"suite\" + 0.022*\"feedback\" '\n",
      "  '+ 0.021*\"little\"'),\n",
      " (5,\n",
      "  '0.039*\"restaurant\" + 0.036*\"parking\" + 0.029*\"small\" + 0.025*\"even\" + '\n",
      "  '0.024*\"walk\" + 0.023*\"first\" + 0.022*\"glad\" + 0.022*\"walking\" + 0.020*\"san\" '\n",
      "  '+ 0.019*\"business\"'),\n",
      " (6,\n",
      "  '0.244*\"hotel\" + 0.069*\"good\" + 0.038*\"experience\" + 0.026*\"need\" + '\n",
      "  '0.024*\"lot\" + 0.023*\"everything\" + 0.020*\"door\" + 0.019*\"got\" + '\n",
      "  '0.018*\"around\" + 0.018*\"way\"'),\n",
      " (7,\n",
      "  '0.101*\"time\" + 0.048*\"thank\" + 0.028*\"always\" + 0.027*\"property\" + '\n",
      "  '0.025*\"happy\" + 0.025*\"food\" + 0.024*\"many\" + 0.021*\"take\" + 0.020*\"come\" + '\n",
      "  '0.020*\"found\"'),\n",
      " (8,\n",
      "  '0.226*\"room\" + 0.053*\"night\" + 0.027*\"free\" + 0.024*\"close\" + 0.020*\"hear\" '\n",
      "  '+ 0.019*\"made\" + 0.016*\"definitely\" + 0.016*\"easy\" + 0.015*\"hot\" + '\n",
      "  '0.014*\"perfect\"'),\n",
      " (9,\n",
      "  '0.089*\"u\" + 0.047*\"friendly\" + 0.041*\"place\" + 0.040*\"back\" + 0.036*\"guest\" '\n",
      "  '+ 0.035*\"desk\" + 0.031*\"helpful\" + 0.031*\"pool\" + 0.026*\"could\" + '\n",
      "  '0.024*\"see\"')]\n"
     ]
    }
   ],
   "source": [
    "# number of topics\n",
    "num_topics = 10\n",
    "\n",
    "# Build LDA model\n",
    "lda_model = gensim.models.LdaMulticore(corpus=corpus,\n",
    "                                       id2word=id2word,\n",
    "                                       num_topics=num_topics)\n",
    "\n",
    "# Print the Keyword in the 10 topics\n",
    "pprint(lda_model.print_topics())\n",
    "doc_lda = lda_model[corpus]"
   ]
  },
  {
   "cell_type": "markdown",
   "metadata": {},
   "source": [
    "----------------------------------------------\n",
    "\n",
    "#### LDA Visualization with [pyLDAvis](https://pyldavis.readthedocs.io/en/latest/readme.html)\n",
    "\n",
    "- Intertopic Distance Map shows how topics are related to each other\n",
    "- Top-30 Most Salient terms provides most frequent/relevant terms within a topic. Since LDA is unsupervised, \\\n",
    "    this list can help with drawing meaning or context from a topic\n",
    "- More about LDA topic modeling [here](https://towardsdatascience.com/end-to-end-topic-modeling-in-python-latent-dirichlet-allocation-lda-35ce4ed6b3e0)\n",
    "    \n",
    "------------------------------------------------"
   ]
  },
  {
   "cell_type": "code",
   "execution_count": 71,
   "metadata": {},
   "outputs": [
    {
     "data": {
      "text/html": [
       "\n",
       "<link rel=\"stylesheet\" type=\"text/css\" href=\"https://cdn.rawgit.com/bmabey/pyLDAvis/files/ldavis.v1.0.0.css\">\n",
       "\n",
       "\n",
       "<div id=\"ldavis_el1288019956773296083560363159\"></div>\n",
       "<script type=\"text/javascript\">\n",
       "\n",
       "var ldavis_el1288019956773296083560363159_data = {\"mdsDat\": {\"x\": [-0.29343421527779323, 0.060506585712195485, 0.2095709861033182, 0.131095153389822, 0.163346610181158, -0.10741167895268729, -0.15642232896898195, 0.061765476413520884, -0.04489202602872365, -0.02412456257182904], \"y\": [-0.10412164851155083, 0.40753285925060617, -0.16047638225591188, -0.037813204314673825, -0.09700025698506647, 0.058048776544222004, -0.034846084965945434, -0.007954008695689609, 0.0031968158926606698, -0.02656686595865089], \"topics\": [1, 2, 3, 4, 5, 6, 7, 8, 9, 10], \"cluster\": [1, 1, 1, 1, 1, 1, 1, 1, 1, 1], \"Freq\": [10.60635412039255, 10.46428587857438, 10.366530717221496, 10.23130555667708, 10.133241401214613, 10.007011065860592, 9.99180287832582, 9.813532743321687, 9.410928821963472, 8.975006816448309]}, \"tinfo\": {\"Term\": [\"hotel\", \"room\", \"stay\", \"staff\", \"great\", \"time\", \"u\", \"breakfast\", \"clean\", \"nice\", \"would\", \"good\", \"location\", \"one\", \"stayed\", \"night\", \"service\", \"area\", \"friendly\", \"bed\", \"thank\", \"comfortable\", \"place\", \"back\", \"day\", \"get\", \"front\", \"like\", \"experience\", \"restaurant\", \"towel\", \"enough\", \"sharing\", \"perfect\", \"hot\", \"close\", \"warm\", \"easy\", \"quite\", \"let\", \"hear\", \"share\", \"clerk\", \"recently\", \"start\", \"called\", \"four\", \"waffle\", \"number\", \"vacation\", \"definitely\", \"bedroom\", \"airport\", \"different\", \"cold\", \"highway\", \"made\", \"choice\", \"river\", \"double\", \"room\", \"night\", \"free\", \"find\", \"love\", \"needed\", \"beautiful\", \"checked\", \"especially\", \"second\", \"everyone\", \"late\", \"king\", \"facility\", \"u\", \"future\", \"desk\", \"access\", \"family\", \"pool\", \"park\", \"kitchen\", \"expectation\", \"guest\", \"never\", \"place\", \"offered\", \"market\", \"write\", \"could\", \"overall\", \"bathroom\", \"reception\", \"full\", \"bus\", \"pretty\", \"long\", \"pleasant\", \"friendly\", \"back\", \"bourbon\", \"helpful\", \"booked\", \"elevator\", \"see\", \"check\", \"quiet\", \"price\", \"work\", \"lobby\", \"problem\", \"customer\", \"size\", \"st\", \"soon\", \"enjoyed\", \"please\", \"shuttle\", \"stay\", \"didnt\", \"also\", \"know\", \"air\", \"week\", \"arrived\", \"review\", \"taking\", \"town\", \"accommodating\", \"ask\", \"along\", \"checking\", \"looked\", \"francisco\", \"fast\", \"lake\", \"queen\", \"mile\", \"able\", \"bay\", \"owner\", \"wife\", \"group\", \"already\", \"well\", \"next\", \"right\", \"coffee\", \"comment\", \"noise\", \"safe\", \"hour\", \"complimentary\", \"wifi\", \"quality\", \"apologize\", \"plenty\", \"bar\", \"wanted\", \"etc\", \"short\", \"really\", \"day\", \"people\", \"stayed\", \"motel\", \"diego\", \"felt\", \"try\", \"recommend\", \"welcoming\", \"care\", \"husband\", \"traveling\", \"choose\", \"wonderful\", \"highly\", \"although\", \"ensure\", \"floor\", \"two\", \"regarding\", \"youre\", \"union\", \"shared\", \"ok\", \"seeing\", \"great\", \"may\", \"nice\", \"tried\", \"staff\", \"view\", \"minute\", \"shower\", \"bit\", \"amazing\", \"building\", \"ive\", \"entire\", \"inn\", \"one\", \"get\", \"orleans\", \"rate\", \"feedback\", \"best\", \"several\", \"opportunity\", \"suite\", \"fridge\", \"housekeeping\", \"kind\", \"contact\", \"garden\", \"internet\", \"breakfast\", \"plus\", \"area\", \"helped\", \"directly\", \"sure\", \"world\", \"decent\", \"delighted\", \"thought\", \"distance\", \"else\", \"shopping\", \"chicago\", \"location\", \"little\", \"large\", \"extremely\", \"looking\", \"team\", \"every\", \"recent\", \"fine\", \"valet\", \"reservation\", \"came\", \"extra\", \"used\", \"issue\", \"evening\", \"clean\", \"return\", \"star\", \"provided\", \"three\", \"welcome\", \"positive\", \"friend\", \"bring\", \"located\", \"told\", \"value\", \"amenity\", \"would\", \"cant\", \"pleasure\", \"balcony\", \"call\", \"standard\", \"either\", \"employee\", \"go\", \"staying\", \"concern\", \"dinner\", \"much\", \"pm\", \"spot\", \"service\", \"bed\", \"front\", \"like\", \"street\", \"excellent\", \"within\", \"available\", \"since\", \"asked\", \"gave\", \"charge\", \"around\", \"everything\", \"hampton\", \"lot\", \"downtown\", \"help\", \"experience\", \"went\", \"need\", \"got\", \"choosing\", \"center\", \"coming\", \"offer\", \"way\", \"working\", \"space\", \"window\", \"away\", \"holiday\", \"last\", \"hotel\", \"mall\", \"block\", \"thing\", \"still\", \"probably\", \"average\", \"fairly\", \"mention\", \"good\", \"door\", \"beach\", \"nothing\", \"seemed\", \"leave\", \"given\", \"make\", \"new\", \"appreciate\", \"forward\", \"lovely\", \"orlando\", \"microwave\", \"kid\", \"city\", \"another\", \"job\", \"worked\", \"however\", \"ground\", \"quick\", \"want\", \"thanks\", \"trip\", \"strive\", \"manager\", \"side\", \"refrigerator\", \"morning\", \"open\", \"tv\", \"look\", \"keep\", \"professional\", \"give\", \"kept\", \"comfortable\", \"hope\", \"visit\", \"dont\", \"better\", \"use\", \"near\", \"sleep\", \"loved\", \"tub\", \"option\", \"modern\", \"weekend\", \"san\", \"quarter\", \"glad\", \"enjoy\", \"water\", \"first\", \"accommodation\", \"busy\", \"provide\", \"living\", \"nearby\", \"walking\", \"selection\", \"regard\", \"carpet\", \"year\", \"consider\", \"business\", \"ever\", \"management\", \"spacious\", \"nicely\", \"head\", \"say\", \"took\", \"small\", \"big\", \"travel\", \"reason\", \"parking\", \"restaurant\", \"walk\", \"feel\", \"car\", \"even\", \"convenient\", \"old\", \"super\", \"though\", \"special\", \"hard\", \"key\", \"property\", \"sorry\", \"hilton\", \"always\", \"early\", \"come\", \"thank\", \"member\", \"food\", \"time\", \"pleased\", \"part\", \"im\", \"many\", \"chose\", \"happy\", \"take\", \"couldnt\", \"going\", \"plan\", \"making\", \"throughout\", \"found\", \"pas\", \"child\", \"couple\", \"across\", \"turned\", \"continue\", \"outside\", \"home\", \"wasnt\", \"far\", \"bad\", \"eat\", \"pillow\", \"top\", \"said\"], \"Freq\": [22040.0, 21780.0, 12205.0, 10332.0, 9535.0, 8157.0, 8371.0, 7256.0, 7166.0, 6512.0, 6238.0, 6312.0, 5792.0, 4995.0, 4957.0, 5127.0, 4690.0, 4447.0, 4467.0, 4387.0, 3878.0, 3989.0, 3901.0, 3802.0, 3613.0, 3529.0, 3461.0, 3489.0, 3392.0, 3334.0, 722.1585323691127, 1103.561381591975, 567.9840697720125, 1343.261217241008, 1451.7953554795797, 2342.954698088954, 481.0367249138565, 1506.6156066396254, 864.563401224608, 710.7998611321816, 1931.5333497069219, 959.644259126986, 382.1766359856737, 541.312411038672, 405.6290602953407, 763.2439682751188, 406.3119417002462, 420.96926149762, 328.98889540050436, 425.7195452490803, 1574.8073633994047, 656.7704554081851, 1096.862890461701, 560.0559289008937, 469.6618412564073, 299.25364593442725, 1777.5978421539985, 920.8918528890176, 282.8341607376482, 352.02273639140657, 21653.045169625962, 5078.005182985267, 2558.0113873125656, 1174.8964772683864, 1185.7283339177084, 1025.7734753116044, 1105.3154407811212, 827.143442163078, 704.8829511976604, 634.8366984128321, 587.0761546753763, 714.3779512484799, 626.0413712024549, 575.4565258235651, 8363.756784275816, 1018.7642792844413, 3323.1371202133096, 675.0862770331622, 1939.162976191989, 2963.347100281477, 1457.8392928655326, 680.6484093528334, 665.4628424662351, 3423.3078820530723, 1265.5363546169115, 3892.649620780199, 509.1168995439277, 576.6504737024793, 475.9834193395025, 2412.021563087868, 1111.9397509904622, 1961.567063778818, 514.8675474404175, 824.9012757658404, 324.26557777111634, 760.1681026980802, 858.5823739465624, 854.6144945702428, 4452.693981430156, 3789.9238357006834, 294.5479426927117, 2970.0496419833385, 1083.2317728236596, 902.4694154322783, 2268.075814475883, 1725.729770762324, 1505.936779225013, 1899.7910805146903, 1361.8032181246078, 1331.931628658468, 836.9656574798815, 834.8301143558186, 697.4621531980057, 714.4010467780917, 1215.4475900948023, 2690.041301942871, 1262.6477231571284, 1198.5090871899824, 12187.627132611096, 1964.9483522237642, 3043.545376212917, 1679.7135404606406, 440.34117478001815, 866.7867696905464, 922.3173725366611, 3189.2379191934156, 1987.5699383391175, 823.8521269099624, 606.5078447437841, 537.2614948616407, 418.0057714405486, 388.8233124138841, 590.5412488444973, 373.3363142696794, 291.0899137200674, 290.3213906404434, 423.812487003304, 495.5242139993221, 1436.3999344500255, 275.6827759808457, 269.49534677852694, 497.61943410934265, 408.4786362587887, 262.32943716039824, 3378.698404421484, 3262.5386701756374, 1955.2829142310852, 1318.8942618006545, 1120.2176812347093, 1151.488830493636, 772.6953232513395, 1079.3533579636278, 718.5901491873256, 782.3378631393463, 724.3097997133046, 637.0558318072473, 628.114470192918, 1245.0322895913732, 644.6230894786553, 651.4206922249613, 648.9867891218811, 2557.3813308767444, 3611.649087398691, 1584.509612564798, 4951.856127471632, 843.4688562687136, 813.6408968669842, 846.5339553170587, 620.6569073861777, 1707.8749083244638, 803.0710742277706, 661.963649834561, 729.225645868572, 441.9761978883613, 439.92132695781453, 1877.7142206052124, 666.2801806179939, 702.4104545558258, 402.4457005318856, 1998.332012104385, 2041.3614656747538, 604.6154490025731, 615.3697619041023, 365.3739849014921, 319.3788954772961, 543.4745855213894, 404.466629378774, 9503.028621164543, 689.882345548172, 6488.297218947333, 270.3914891436377, 10279.261904666904, 1704.7907329658094, 1638.28126300177, 1227.599064741205, 1157.1031614984768, 988.8483859839599, 739.6823855151413, 623.8402022220474, 624.2811055923042, 2466.549395459626, 4990.090004892318, 3524.8932907210233, 639.3562776137236, 867.2961975307419, 2036.6790543908653, 2726.7991053069013, 781.7463983401518, 514.9133782641613, 2043.5867450620465, 576.9106382024696, 672.7586547459696, 1281.2715139429324, 466.5275438160917, 684.5676687969403, 470.1858556381115, 7239.090973654277, 782.3373724428633, 4436.075953624064, 357.1843136396764, 542.1166549296005, 1381.1383926808799, 425.5182899900801, 509.6357174013375, 416.6180617066101, 526.7914981577878, 1205.088790449468, 460.7804823680856, 625.870723479751, 578.9670476557844, 5746.741790930924, 1911.6895635702972, 1257.6873579165783, 1038.4332424276467, 943.055605185081, 1228.594479004235, 1650.9864104598814, 1100.394630306005, 633.5367486472182, 671.4252183632962, 787.0540164155555, 784.0429761284107, 709.6346642931379, 652.4661751104024, 1177.6742482971213, 733.4869555142811, 7155.95489891544, 884.5703477435475, 748.0918030546112, 586.8009946063659, 589.0502636659901, 979.0805784311204, 484.8127689925118, 793.5922994294009, 469.67091240383166, 1362.5315133016559, 915.7478853561848, 1061.9705031412338, 965.8429839150582, 6221.307858588697, 834.9854056794678, 395.9788067308669, 490.72591980403735, 738.1398012652332, 569.9101501006085, 360.0573600127289, 355.9949342578107, 2006.1975596484663, 2179.7247279632716, 295.23014793786786, 755.8788754948303, 2609.271958119897, 580.2796901875375, 438.6850826931094, 4670.4458978859075, 4367.261321804318, 3446.3217746694836, 3464.3885425025733, 1853.639924408462, 1850.0005839574635, 1077.3335255974673, 1005.3336350718545, 926.9368695657233, 808.9899486526618, 668.0725802084887, 605.9568246897915, 1632.659839675135, 2091.174066513735, 797.6292526740872, 2174.6368866179328, 1468.9485877412349, 861.984991600253, 3386.7225862021223, 1418.7459252573926, 2358.357336322148, 1712.9963852185022, 705.1738826245399, 973.749097355391, 444.4740618265011, 1121.0046517143473, 1600.4473121513438, 677.3757682375376, 1240.9725638008, 580.8020051702043, 1574.6694354241213, 383.59508024699574, 912.695944335208, 21963.976843145192, 317.41794694155385, 916.0379716177838, 1557.8593528845995, 880.1776202660884, 405.46909986975055, 357.3337109852206, 225.7734957906469, 220.9809489455018, 6220.712042475461, 1843.7428702673806, 916.8789960352597, 840.3738865155099, 525.6063581220849, 488.17947081816135, 465.52358884282006, 2381.267529752393, 2387.0110910626618, 1759.7104449412254, 1744.3927429294745, 700.7456348362537, 632.7043049140758, 666.7316459430425, 819.488156204843, 1111.4710124961196, 1276.8709238507734, 433.92673283967355, 588.5226234326923, 1109.6872660638828, 360.3776057080219, 571.0636756748784, 1289.3062129511402, 630.8194696268748, 1971.3404779377654, 320.6197052170296, 1934.779363097699, 767.6425548512324, 390.5976923730525, 1787.989114583276, 619.043174362519, 963.6907278415974, 2317.7229024385674, 543.0562521980848, 415.84093527637145, 932.6040710819112, 589.1640204725068, 3973.5946118145316, 2827.249139454286, 2226.6351268375242, 1395.8110073761907, 1351.8748156253505, 1295.9564007633314, 1187.1744902478163, 842.9592327689727, 1072.9195228019692, 685.96346061507, 711.7918897150843, 665.5913570653975, 1043.178818722894, 1678.1979765735937, 853.482551896936, 1900.0899354197015, 889.3462186201066, 1477.2229661492202, 1988.6241760319951, 572.0443548566836, 547.4611310759092, 855.8813932837243, 437.68145489843835, 558.771134699645, 1891.187111824148, 414.76556420017783, 455.2778851817754, 453.0693308012044, 1462.5679817376895, 349.61133279102853, 1594.765087552275, 901.0200794538615, 542.0180532662926, 1343.5372350074924, 338.4921694482943, 291.163641441188, 1087.881445323644, 1029.8015038671272, 2502.7054489705597, 1076.4738677397106, 990.218012689709, 381.93601687520595, 3062.928574302692, 3315.489344842427, 2023.5796026768928, 1460.3265865466997, 1419.0696762641387, 2162.17699119779, 1234.0831215210324, 1319.3415802132126, 866.0208650617388, 1041.9522875650628, 662.6948715194304, 742.1646927794886, 759.1484897979494, 2218.6119534103286, 816.4543281833555, 940.7381773355272, 2286.1751456885413, 1019.401773468224, 1613.5265370026402, 3871.769426434517, 831.5044686422215, 2002.852569330632, 8139.218956778601, 935.0238396145479, 809.6063039696969, 1412.6586978777805, 1937.189960245665, 499.0755156108026, 2052.9339239256547, 1678.9652731565398, 630.7459277497012, 1106.2594203903623, 404.7464676602145, 669.4041848815192, 334.37314245046355, 1602.4631437909693, 311.7366493739633, 347.0757830129523, 811.4606803929951, 1173.4255208837724, 289.0732086298346, 288.0161062778841, 1060.7770338998178, 1072.977128727819, 976.6007364402851, 816.7724991066002, 1134.5363806583987, 640.6443525608164, 639.6845633246937, 785.418982043437, 1014.1861371990776], \"Total\": [22040.0, 21780.0, 12205.0, 10332.0, 9535.0, 8157.0, 8371.0, 7256.0, 7166.0, 6512.0, 6238.0, 6312.0, 5792.0, 4995.0, 4957.0, 5127.0, 4690.0, 4447.0, 4467.0, 4387.0, 3878.0, 3989.0, 3901.0, 3802.0, 3613.0, 3529.0, 3461.0, 3489.0, 3392.0, 3334.0, 723.1549420561406, 1105.413543913102, 568.9793025500214, 1345.9149351736567, 1454.6984756705367, 2347.655329631346, 482.0323217014284, 1509.7373595448146, 866.5692751259587, 712.6030812099825, 1936.448947357724, 962.1089124043948, 383.171745856793, 542.8131332295482, 406.764551207404, 765.4254874935887, 407.47505718361043, 422.2341437524892, 329.9842587416657, 427.02187583484556, 1579.6401149646595, 658.8096449570394, 1100.2768320889738, 561.8848229125064, 471.21253545558284, 300.2487453419088, 1783.73210843349, 924.1022522269884, 283.82925164054865, 353.2746766308942, 21780.938506065784, 5127.944195048227, 2575.2483679564302, 1179.880790958782, 1191.890378764271, 1029.7112902938309, 1111.3748577495744, 831.0812706394702, 707.6111368383163, 637.5995554900697, 589.3181751416689, 719.0565449434674, 629.582349760846, 581.4681755454144, 8371.323786854986, 1019.7611903089282, 3326.5757922220846, 676.0838346585626, 1942.105611215149, 2967.9096789410532, 1460.1047014393362, 681.8039173660933, 666.5997110077137, 3429.1641363620624, 1268.0881184852215, 3901.8938555021336, 510.3740541562756, 578.090940571366, 477.2367847645598, 2419.187102065848, 1115.2441994468838, 1967.46928099573, 516.418906968213, 827.423174167499, 325.2628086562984, 762.5703429626151, 861.312613436714, 857.33447543478, 4467.015202539407, 3802.1210772944764, 295.54467671415, 2980.445360311488, 1087.1398289858332, 906.2060782255361, 2279.8517444922772, 1734.8559645635175, 1512.2177841126013, 1912.8984328897677, 1368.3112901885377, 1338.0242533776948, 850.0562847786972, 849.7423768725954, 700.6747354588892, 723.8452655082941, 1216.598611492735, 2692.8176534731156, 1264.0658506176217, 1199.9418690252508, 12205.704795742839, 1968.15673400733, 3049.4079458619335, 1683.1505588955977, 441.3387705472399, 868.8662730195524, 924.7015895696521, 3197.9044976280547, 1993.1525382885184, 826.1928055844184, 608.2919444031411, 538.8665316526543, 419.2835345980121, 390.09499857776024, 592.488309892341, 374.6078425722381, 292.08718278660047, 291.3181631725728, 425.28577075204566, 497.2582417934021, 1441.5499178434316, 276.67975801840964, 270.49216166976504, 499.46416252212975, 410.025466230999, 263.3264851100833, 3400.0319914337433, 3283.5938562442116, 1964.6025132032878, 1327.014177990731, 1125.9522202700798, 1157.9983254455715, 775.6946563573159, 1087.474481755572, 721.8565711690577, 786.7171968528444, 728.0235708073644, 639.5794763739262, 630.9301149684001, 1260.5933148633662, 647.936721765316, 655.1642617527643, 653.0915069303062, 2558.8123019886625, 3613.9290514347067, 1586.160727502931, 4957.203305074246, 844.4597597059313, 814.631815523286, 847.7877028400192, 621.6482860566767, 1710.760612890669, 804.5359021359767, 663.216936519035, 730.6451181980966, 442.9671797214369, 440.91239679612414, 1882.0320237780177, 667.8424193666588, 704.1314228632712, 403.43662322979657, 2003.4690298357239, 2046.806550036296, 606.2357580776395, 617.2073249449445, 366.5029502874007, 320.36987153784804, 545.2305875374033, 405.78039472050017, 9535.576428777542, 692.3659430654443, 6512.060075809972, 271.383033620993, 10332.558160423865, 1712.2392694073587, 1644.9131454268957, 1232.3645473744612, 1163.9707108629682, 993.9118259039717, 742.613595097799, 626.6284128635716, 628.1676805755645, 2467.5443658522236, 4995.18310949472, 3529.994498662309, 640.3509781564476, 868.7271044895153, 2040.0756892504457, 2731.4792316294315, 783.1401095064388, 515.9085123834845, 2047.6033403917754, 578.073853643916, 674.1747219741093, 1283.9876924183634, 467.52267038424753, 686.1262357396622, 471.32817827214785, 7256.85609380125, 784.2756285414415, 4447.283461955191, 358.17950524152434, 543.6638701569273, 1385.0890604100798, 426.80875294246357, 511.23501093158177, 417.93371010612606, 528.4976379027706, 1209.039216758084, 462.3398007450458, 628.0113865150613, 581.0544126162443, 5792.453382065541, 1918.7442864715233, 1264.016224412855, 1043.0176123431497, 947.1616054381976, 1237.3501347082242, 1668.3699215446995, 1107.6311853597485, 635.9263778167791, 674.3543808977032, 791.9783400821109, 789.1189383803585, 713.3368132512414, 656.4346380084013, 1178.8130649463037, 734.4783877673249, 7166.252393155341, 885.9720685625205, 749.6732437373031, 588.0524284591315, 590.3394760126833, 981.2489978499045, 485.94363784941527, 795.4627403312965, 470.80174035058815, 1365.9278213914895, 918.1809359050909, 1064.7925996034157, 968.4233732506107, 6238.051046828433, 837.2461008457128, 397.1123518753425, 492.1767443291002, 740.3443816476653, 571.7050436340246, 361.19830456281215, 357.125678298902, 2012.7628479321713, 2186.978331428978, 296.2207816456812, 758.5799328457649, 2618.6924791327187, 582.530371018215, 440.496962172605, 4690.650820951143, 4387.839092819934, 3461.2553429365585, 3489.648944618122, 1862.6709904526647, 1860.1811946614123, 1082.199591463548, 1011.6962680844381, 932.8787223872338, 813.7408733326502, 671.2059538352895, 610.5749313870244, 1634.066652573481, 2093.6844680241084, 798.6160141626715, 2177.4098175328068, 1471.0110361005702, 863.2795464344381, 3392.142550777803, 1421.2610242155008, 2362.8863294094176, 1716.7622686823618, 706.7983140762706, 976.1134112024234, 445.60908890125205, 1123.9348440606323, 1605.000554687903, 679.4096825718374, 1244.9151976957266, 582.6587631118392, 1579.749620188793, 384.8858426439649, 915.86535582547, 22040.44766506033, 318.5522117234337, 919.4912766583191, 1563.8633639928162, 883.5770531386991, 407.10878797794743, 358.8411282335124, 226.76004510124332, 221.96787732044328, 6312.4082547478, 1865.2277273982236, 923.2770339292683, 846.9147210071703, 528.2008129465431, 490.52493986562047, 468.09614309676914, 2382.553577661731, 2389.553879324361, 1761.6870354065275, 1746.8464447495999, 701.7360649648422, 633.6936144977724, 667.8632599018631, 820.8911864719591, 1113.7295097287933, 1280.1710002324294, 435.0584032813691, 590.0633006988687, 1112.7253270819785, 361.36720692568525, 572.6340137912338, 1292.897119370257, 632.5899990626339, 1977.2370390516921, 321.60898410187224, 1941.041663945017, 770.1559883262762, 391.8924098522561, 1794.0449665583833, 621.1733594294991, 967.1647520793465, 2326.17760665803, 545.0387209188398, 417.38749870850563, 936.076288867922, 591.3857371469215, 3989.9103684153915, 2839.411790860711, 2235.7289288020393, 1402.4742592629336, 1357.9221713648753, 1303.2327691043615, 1193.2442235990213, 847.0805824242454, 1086.479654971312, 690.1610129938402, 718.804419404796, 670.259707423005, 1044.1603377698882, 1679.857481641606, 854.4636622968875, 1902.3399552919452, 890.6461115090979, 1479.5427513564648, 1991.759776714972, 573.0254573410365, 548.4424068191903, 857.4406190225453, 438.66256165429036, 560.0420431871613, 1895.6522690889299, 415.74686967052946, 456.39876367848166, 454.2007240216795, 1466.2946017395102, 350.59250905175503, 1599.314163181091, 903.6332308877983, 543.5902488117607, 1347.555516445242, 339.62158855934877, 292.1452971349317, 1091.5698629919207, 1033.3292248178793, 2511.2838793047786, 1080.1787128701835, 993.7787948221073, 383.3261063589766, 3074.4142849047157, 3334.3358125245713, 2031.6368912996638, 1467.517873391371, 1425.7507531341496, 2182.524964715996, 1240.7492222811456, 1329.166904426732, 871.9237336628116, 1051.5786361926312, 665.7597760858492, 747.4196334841048, 765.6849214627656, 2219.8747994349574, 817.578929920065, 942.2343024588623, 2289.8679413955206, 1021.0484454733254, 1616.2461729155316, 3878.9228534374047, 833.1813024707856, 2007.2788985170316, 8157.567550149867, 937.2398856966496, 811.5564447233796, 1416.0711046910617, 1942.0161442702765, 500.32163661938614, 2058.092835918435, 1683.3447769115073, 632.4458817436829, 1109.3111603957955, 405.86567946905143, 671.3349620777122, 335.3498447824326, 1607.17765491928, 312.712853432791, 348.19300252227526, 814.0767196550304, 1177.2631007649622, 290.0495420104332, 288.99232563518547, 1064.7221493384932, 1077.2399811721396, 980.6289080096511, 820.0674684771329, 1144.7546097689662, 643.3370763415912, 642.3845587442252, 790.5807099781229, 1026.5528154076476], \"Category\": [\"Default\", \"Default\", \"Default\", \"Default\", \"Default\", \"Default\", \"Default\", \"Default\", \"Default\", \"Default\", \"Default\", \"Default\", \"Default\", \"Default\", \"Default\", \"Default\", \"Default\", \"Default\", \"Default\", \"Default\", \"Default\", \"Default\", \"Default\", \"Default\", \"Default\", \"Default\", \"Default\", \"Default\", \"Default\", \"Default\", \"Topic1\", \"Topic1\", \"Topic1\", \"Topic1\", \"Topic1\", \"Topic1\", \"Topic1\", \"Topic1\", \"Topic1\", \"Topic1\", \"Topic1\", \"Topic1\", \"Topic1\", \"Topic1\", \"Topic1\", \"Topic1\", \"Topic1\", \"Topic1\", \"Topic1\", \"Topic1\", \"Topic1\", \"Topic1\", \"Topic1\", \"Topic1\", \"Topic1\", \"Topic1\", \"Topic1\", \"Topic1\", \"Topic1\", \"Topic1\", \"Topic1\", \"Topic1\", \"Topic1\", \"Topic1\", \"Topic1\", \"Topic1\", \"Topic1\", \"Topic1\", \"Topic1\", \"Topic1\", \"Topic1\", \"Topic1\", \"Topic1\", \"Topic1\", \"Topic2\", \"Topic2\", \"Topic2\", \"Topic2\", \"Topic2\", \"Topic2\", \"Topic2\", \"Topic2\", \"Topic2\", \"Topic2\", \"Topic2\", \"Topic2\", \"Topic2\", \"Topic2\", \"Topic2\", \"Topic2\", \"Topic2\", \"Topic2\", \"Topic2\", \"Topic2\", \"Topic2\", \"Topic2\", \"Topic2\", \"Topic2\", \"Topic2\", \"Topic2\", \"Topic2\", \"Topic2\", \"Topic2\", \"Topic2\", \"Topic2\", \"Topic2\", \"Topic2\", \"Topic2\", \"Topic2\", \"Topic2\", \"Topic2\", \"Topic2\", \"Topic2\", \"Topic2\", \"Topic3\", \"Topic3\", \"Topic3\", \"Topic3\", \"Topic3\", \"Topic3\", \"Topic3\", \"Topic3\", \"Topic3\", \"Topic3\", \"Topic3\", \"Topic3\", \"Topic3\", \"Topic3\", \"Topic3\", \"Topic3\", \"Topic3\", \"Topic3\", \"Topic3\", \"Topic3\", \"Topic3\", \"Topic3\", \"Topic3\", \"Topic3\", \"Topic3\", \"Topic3\", \"Topic3\", \"Topic3\", \"Topic3\", \"Topic3\", \"Topic3\", \"Topic3\", \"Topic3\", \"Topic3\", \"Topic3\", \"Topic3\", \"Topic3\", \"Topic3\", \"Topic3\", \"Topic3\", \"Topic3\", \"Topic3\", \"Topic3\", \"Topic3\", \"Topic3\", \"Topic3\", \"Topic3\", \"Topic4\", \"Topic4\", \"Topic4\", \"Topic4\", \"Topic4\", \"Topic4\", \"Topic4\", \"Topic4\", \"Topic4\", \"Topic4\", \"Topic4\", \"Topic4\", \"Topic4\", \"Topic4\", \"Topic4\", \"Topic4\", \"Topic4\", \"Topic4\", \"Topic4\", \"Topic4\", \"Topic4\", \"Topic4\", \"Topic4\", \"Topic4\", \"Topic4\", \"Topic4\", \"Topic4\", \"Topic4\", \"Topic4\", \"Topic4\", \"Topic4\", \"Topic4\", \"Topic4\", \"Topic4\", \"Topic4\", \"Topic4\", \"Topic4\", \"Topic4\", \"Topic4\", \"Topic5\", \"Topic5\", \"Topic5\", \"Topic5\", \"Topic5\", \"Topic5\", \"Topic5\", \"Topic5\", \"Topic5\", \"Topic5\", \"Topic5\", \"Topic5\", \"Topic5\", \"Topic5\", \"Topic5\", \"Topic5\", \"Topic5\", \"Topic5\", \"Topic5\", \"Topic5\", \"Topic5\", \"Topic5\", \"Topic5\", \"Topic5\", \"Topic5\", \"Topic5\", \"Topic5\", \"Topic5\", \"Topic5\", \"Topic5\", \"Topic5\", \"Topic5\", \"Topic5\", \"Topic5\", \"Topic5\", \"Topic5\", \"Topic5\", \"Topic5\", \"Topic5\", \"Topic5\", \"Topic5\", \"Topic5\", \"Topic5\", \"Topic5\", \"Topic6\", \"Topic6\", \"Topic6\", \"Topic6\", \"Topic6\", \"Topic6\", \"Topic6\", \"Topic6\", \"Topic6\", \"Topic6\", \"Topic6\", \"Topic6\", \"Topic6\", \"Topic6\", \"Topic6\", \"Topic6\", \"Topic6\", \"Topic6\", \"Topic6\", \"Topic6\", \"Topic6\", \"Topic6\", \"Topic6\", \"Topic6\", \"Topic6\", \"Topic6\", \"Topic6\", \"Topic6\", \"Topic6\", \"Topic6\", \"Topic6\", \"Topic6\", \"Topic6\", \"Topic6\", \"Topic6\", \"Topic6\", \"Topic6\", \"Topic6\", \"Topic6\", \"Topic6\", \"Topic6\", \"Topic6\", \"Topic7\", \"Topic7\", \"Topic7\", \"Topic7\", \"Topic7\", \"Topic7\", \"Topic7\", \"Topic7\", \"Topic7\", \"Topic7\", \"Topic7\", \"Topic7\", \"Topic7\", \"Topic7\", \"Topic7\", \"Topic7\", \"Topic7\", \"Topic7\", \"Topic7\", \"Topic7\", \"Topic7\", \"Topic7\", \"Topic7\", \"Topic7\", \"Topic7\", \"Topic7\", \"Topic7\", \"Topic7\", \"Topic7\", \"Topic7\", \"Topic7\", \"Topic7\", \"Topic7\", \"Topic7\", \"Topic7\", \"Topic7\", \"Topic7\", \"Topic8\", \"Topic8\", \"Topic8\", \"Topic8\", \"Topic8\", \"Topic8\", \"Topic8\", \"Topic8\", \"Topic8\", \"Topic8\", \"Topic8\", \"Topic8\", \"Topic8\", \"Topic8\", \"Topic8\", \"Topic8\", \"Topic8\", \"Topic8\", \"Topic8\", \"Topic8\", \"Topic8\", \"Topic8\", \"Topic8\", \"Topic8\", \"Topic8\", \"Topic8\", \"Topic8\", \"Topic8\", \"Topic8\", \"Topic8\", \"Topic8\", \"Topic8\", \"Topic8\", \"Topic8\", \"Topic8\", \"Topic8\", \"Topic8\", \"Topic8\", \"Topic8\", \"Topic8\", \"Topic8\", \"Topic8\", \"Topic9\", \"Topic9\", \"Topic9\", \"Topic9\", \"Topic9\", \"Topic9\", \"Topic9\", \"Topic9\", \"Topic9\", \"Topic9\", \"Topic9\", \"Topic9\", \"Topic9\", \"Topic9\", \"Topic9\", \"Topic9\", \"Topic9\", \"Topic9\", \"Topic9\", \"Topic9\", \"Topic9\", \"Topic9\", \"Topic9\", \"Topic9\", \"Topic9\", \"Topic9\", \"Topic9\", \"Topic9\", \"Topic9\", \"Topic9\", \"Topic9\", \"Topic9\", \"Topic9\", \"Topic9\", \"Topic9\", \"Topic9\", \"Topic9\", \"Topic9\", \"Topic9\", \"Topic9\", \"Topic9\", \"Topic9\", \"Topic9\", \"Topic10\", \"Topic10\", \"Topic10\", \"Topic10\", \"Topic10\", \"Topic10\", \"Topic10\", \"Topic10\", \"Topic10\", \"Topic10\", \"Topic10\", \"Topic10\", \"Topic10\", \"Topic10\", \"Topic10\", \"Topic10\", \"Topic10\", \"Topic10\", \"Topic10\", \"Topic10\", \"Topic10\", \"Topic10\", \"Topic10\", \"Topic10\", \"Topic10\", \"Topic10\", \"Topic10\", \"Topic10\", \"Topic10\", \"Topic10\", \"Topic10\", \"Topic10\", \"Topic10\", \"Topic10\", \"Topic10\", \"Topic10\", \"Topic10\", \"Topic10\"], \"logprob\": [30.0, 29.0, 28.0, 27.0, 26.0, 25.0, 24.0, 23.0, 22.0, 21.0, 20.0, 19.0, 18.0, 17.0, 16.0, 15.0, 14.0, 13.0, 12.0, 11.0, 10.0, 9.0, 8.0, 7.0, 6.0, 5.0, 4.0, 3.0, 2.0, 1.0, -4.886199951171875, -4.462100028991699, -5.126299858093262, -4.265600204467773, -4.187900066375732, -3.7093000411987305, -5.292500019073486, -4.1508002281188965, -4.706200122833252, -4.9019999504089355, -3.902400016784668, -4.601900100708008, -5.522500038146973, -5.1743998527526855, -5.4629998207092285, -4.830900192260742, -5.461299896240234, -5.425899982452393, -5.672399997711182, -5.414700031280518, -4.106500148773193, -4.981100082397461, -4.468200206756592, -5.140399932861328, -5.316400051116943, -5.767099857330322, -3.9853999614715576, -4.643099784851074, -5.823599815368652, -5.604700088500977, -1.4854999780654907, -2.935800075531006, -3.6214001178741455, -4.399499893188477, -4.3902997970581055, -4.535200119018555, -4.4604997634887695, -4.750500202178955, -4.910399913787842, -5.015100002288818, -5.093299865722656, -4.896999835968018, -5.0289998054504395, -5.11329984664917, -2.42330002784729, -4.528600215911865, -3.346299886703491, -4.940100193023682, -3.8849000930786133, -3.460900068283081, -4.170199871063232, -4.9319000244140625, -4.954500198364258, -3.3166000843048096, -4.311699867248535, -3.1881000995635986, -5.222300052642822, -5.097700119018555, -5.289599895477295, -3.6666998863220215, -4.441100120544434, -3.8733999729156494, -5.210999965667725, -4.739699840545654, -5.673399925231934, -4.821400165557861, -4.699699878692627, -4.7042999267578125, -3.0536999702453613, -3.2147998809814453, -5.769499778747559, -3.4586000442504883, -4.467199802398682, -4.649799823760986, -3.728300094604492, -4.001500129699707, -4.137800216674805, -3.905400037765503, -4.238399982452393, -4.2606000900268555, -4.725200176239014, -4.727700233459473, -4.90749979019165, -4.883500099182129, -4.342700004577637, -3.5481998920440674, -4.304599761962891, -4.3566999435424805, -2.037400007247925, -3.862299919128418, -3.424799919128418, -4.019199848175049, -5.357999801635742, -4.680799961090088, -4.61870002746582, -3.378000020980835, -3.8508999347686768, -4.731599807739258, -5.037799835205078, -5.15910005569458, -5.410099983215332, -5.482399940490723, -5.064499855041504, -5.523099899291992, -5.771900177001953, -5.774600028991699, -5.396299839019775, -5.2399001121521, -4.1757001876831055, -5.826300144195557, -5.848999977111816, -5.2357001304626465, -5.43310022354126, -5.875999927520752, -3.3203001022338867, -3.355299949645996, -3.867300033569336, -4.261000156402588, -4.424300193786621, -4.396699905395508, -4.7957000732421875, -4.461400032043457, -4.868299961090088, -4.783299922943115, -4.860300064086914, -4.988699913024902, -5.002799987792969, -4.318600177764893, -4.976900100708008, -4.966400146484375, -4.970099925994873, -3.585700035095215, -3.240499973297119, -4.0644001960754395, -2.9249000549316406, -4.694900035858154, -4.730899810791016, -4.691299915313721, -5.001699924468994, -3.9893999099731445, -4.74399995803833, -4.93720006942749, -4.840400218963623, -5.34119987487793, -5.345799922943115, -3.8945999145507812, -4.930699825286865, -4.877900123596191, -5.434899806976318, -3.83240008354187, -3.8111000061035156, -5.0278000831604, -5.010200023651123, -5.531499862670898, -5.666100025177002, -5.134399890899658, -5.429900169372559, -2.273099899291992, -4.895899772644043, -2.6547000408172607, -5.832600116729736, -2.194499969482422, -3.9911999702453613, -4.031000137329102, -4.3196001052856445, -4.378799915313721, -4.535900115966797, -4.826200008392334, -4.996500015258789, -4.995800018310547, -3.6122000217437744, -2.907599925994873, -3.255199909210205, -4.962299823760986, -4.657400131225586, -3.8036999702453613, -3.511899948120117, -4.761300086975098, -5.178800106048584, -3.800299882888794, -5.065100193023682, -4.911399841308594, -4.267199993133545, -5.277500152587891, -4.894000053405762, -5.269700050354004, -2.5355000495910645, -4.760499954223633, -3.0253000259399414, -5.54449987411499, -5.127299785614014, -4.1921000480651855, -5.369500160217285, -5.1890997886657715, -5.390600204467773, -5.156000137329102, -4.328499794006348, -5.289899826049805, -4.983699798583984, -5.061600208282471, -2.766400098800659, -3.8671000003814697, -4.285799980163574, -4.47730016708374, -4.573699951171875, -4.309199810028076, -4.013700008392334, -4.419400215148926, -4.971499919891357, -4.913400173187256, -4.754499912261963, -4.758299827575684, -4.857999801635742, -4.941999912261963, -4.339000225067139, -4.8125, -2.534600019454956, -4.625199794769287, -4.792699813842773, -5.035600185394287, -5.031799793243408, -4.523600101470947, -5.226500034332275, -4.733699798583984, -5.258200168609619, -4.19320011138916, -4.5904998779296875, -4.442399978637695, -4.537300109863281, -2.674499988555908, -4.682799816131592, -5.428899765014648, -5.214399814605713, -4.806099891662598, -5.064799785614014, -5.52400016784668, -5.535299777984619, -3.806299924850464, -3.723299980163574, -5.722499847412109, -4.782400131225586, -3.5434000492095947, -5.046800136566162, -5.326499938964844, -2.9612998962402344, -3.02839994430542, -3.265199899673462, -3.259999990463257, -3.8854000568389893, -3.8873000144958496, -4.427999973297119, -4.497200012207031, -4.578400135040283, -4.7144999504089355, -4.905900001525879, -5.003499984741211, -4.010799884796143, -3.7632999420166016, -4.727099895477295, -3.724100112915039, -4.116399765014648, -4.649499893188477, -3.281100034713745, -4.151199817657471, -3.6429998874664307, -3.9626998901367188, -4.850299835205078, -4.527599811553955, -5.3119001388549805, -4.3867998123168945, -4.030700206756592, -4.890500068664551, -4.285099983215332, -5.044300079345703, -4.046899795532227, -5.459199905395508, -4.592299938201904, -1.4115999937057495, -5.648499965667725, -4.588699817657471, -4.057700157165527, -4.628600120544434, -5.40369987487793, -5.530099868774414, -5.989200115203857, -6.010700225830078, -2.673099994659424, -3.88919997215271, -4.587800025939941, -4.674900054931641, -5.144199848175049, -5.218100070953369, -5.265600204467773, -3.6154000759124756, -3.6129000186920166, -3.917799949645996, -3.9265999794006348, -4.838600158691406, -4.940700054168701, -4.888400077819824, -4.68209981918335, -4.377299785614014, -4.23859977722168, -5.31790018081665, -5.0131001472473145, -4.378900051116943, -5.503600120544434, -5.0432000160217285, -4.228899955749512, -4.943699836730957, -3.80430006980896, -5.620500087738037, -3.822999954223633, -4.747399806976318, -5.423099994659424, -3.901900053024292, -4.962600231170654, -4.519999980926514, -3.642400026321411, -5.093500137329102, -5.360400199890137, -4.552800178527832, -5.01200008392334, -3.103300094604492, -3.443700075149536, -3.682499885559082, -4.149499893188477, -4.18149995803833, -4.223700046539307, -4.311399936676025, -4.653800010681152, -4.412600040435791, -4.859899997711182, -4.822999954223633, -4.890100002288818, -4.398799896240234, -3.9233999252319336, -4.5995001792907715, -3.7992000579833984, -4.5584001541137695, -4.050899982452393, -3.753700017929077, -4.999599933624268, -5.043600082397461, -4.596700191497803, -5.267399787902832, -5.023099899291992, -3.8039000034332275, -5.321100234985352, -5.22790002822876, -5.232800006866455, -4.0609002113342285, -5.492000102996826, -3.974400043487549, -4.545300006866455, -5.053599834442139, -4.1458001136779785, -5.5243000984191895, -5.675000190734863, -4.356900215148926, -4.4116997718811035, -3.523699998855591, -4.367400169372559, -4.450900077819824, -5.403600215911865, -3.321700096130371, -3.242500066757202, -3.7362000942230225, -4.062399864196777, -4.091100215911865, -3.6700000762939453, -4.230800151824951, -4.164000034332275, -4.58489990234375, -4.400000095367432, -4.852499961853027, -4.739299774169922, -4.716700077056885, -3.5968000888824463, -4.596499919891357, -4.454800128936768, -3.566800117492676, -4.374499797821045, -3.9151999950408936, -3.0399999618530273, -4.578199863433838, -3.6991000175476074, -2.296999931335449, -4.4608001708984375, -4.604899883270264, -4.0482001304626465, -3.7323999404907227, -5.088699817657471, -3.6744000911712646, -3.875499963760376, -4.854499816894531, -4.292699813842773, -5.2982001304626465, -4.795000076293945, -5.489200115203857, -3.922100067138672, -5.559299945831299, -5.451900005340576, -4.60260009765625, -4.233699798583984, -5.634699821472168, -5.638400077819824, -4.334700107574463, -4.323200225830078, -4.417300224304199, -4.596099853515625, -4.267399787902832, -4.838900089263916, -4.840400218963623, -4.635200023651123, -4.3796000480651855], \"loglift\": [30.0, 29.0, 28.0, 27.0, 26.0, 25.0, 24.0, 23.0, 22.0, 21.0, 20.0, 19.0, 18.0, 17.0, 16.0, 15.0, 14.0, 13.0, 12.0, 11.0, 10.0, 9.0, 8.0, 7.0, 6.0, 5.0, 4.0, 3.0, 2.0, 1.0, 2.2423, 2.242, 2.242, 2.2417, 2.2417, 2.2417, 2.2416, 2.2416, 2.2414, 2.2412, 2.2412, 2.2412, 2.2411, 2.2409, 2.2409, 2.2409, 2.2409, 2.2407, 2.2407, 2.2407, 2.2407, 2.2406, 2.2406, 2.2405, 2.2404, 2.2404, 2.2403, 2.2402, 2.2402, 2.2402, 2.2378, 2.2339, 2.237, 2.2395, 2.2385, 2.2399, 2.2382, 2.239, 2.2399, 2.2394, 2.2399, 2.2372, 2.2381, 2.2333, 2.2563, 2.2562, 2.2562, 2.2557, 2.2557, 2.2557, 2.2556, 2.2555, 2.2555, 2.2555, 2.2552, 2.2548, 2.2547, 2.2547, 2.2546, 2.2542, 2.2542, 2.2542, 2.2542, 2.2541, 2.2541, 2.254, 2.254, 2.254, 2.254, 2.254, 2.2538, 2.2537, 2.2536, 2.2531, 2.252, 2.2519, 2.253, 2.2503, 2.2524, 2.2526, 2.2417, 2.2395, 2.2526, 2.2441, 2.2656, 2.2656, 2.2655, 2.2654, 2.2651, 2.265, 2.2647, 2.2645, 2.2643, 2.2642, 2.264, 2.2639, 2.2638, 2.2638, 2.2637, 2.2636, 2.2635, 2.2633, 2.2633, 2.2632, 2.2632, 2.2632, 2.2631, 2.2631, 2.263, 2.263, 2.2629, 2.2629, 2.2628, 2.2628, 2.2603, 2.2602, 2.2618, 2.2605, 2.2615, 2.261, 2.2627, 2.2591, 2.2621, 2.261, 2.2615, 2.2626, 2.2621, 2.2542, 2.2615, 2.2609, 2.2603, 2.2792, 2.2791, 2.2787, 2.2786, 2.2785, 2.2785, 2.2782, 2.2781, 2.278, 2.2779, 2.2778, 2.2778, 2.2775, 2.2775, 2.2774, 2.2774, 2.2773, 2.2773, 2.2772, 2.2771, 2.277, 2.2767, 2.2766, 2.2766, 2.2765, 2.2765, 2.2763, 2.2761, 2.2761, 2.2761, 2.2745, 2.2754, 2.2757, 2.2758, 2.2738, 2.2746, 2.2758, 2.2753, 2.2735, 2.2889, 2.2883, 2.2879, 2.2878, 2.2877, 2.2877, 2.2876, 2.2876, 2.2874, 2.2874, 2.2873, 2.2872, 2.2872, 2.2872, 2.2871, 2.2869, 2.2869, 2.2869, 2.2868, 2.2866, 2.2865, 2.2865, 2.2863, 2.2862, 2.2862, 2.2861, 2.2861, 2.286, 2.2859, 2.2858, 2.2814, 2.2857, 2.2843, 2.2849, 2.285, 2.2822, 2.2789, 2.2828, 2.2856, 2.285, 2.2831, 2.2829, 2.2841, 2.2833, 2.3009, 2.3005, 2.3004, 2.3003, 2.2998, 2.2998, 2.2997, 2.2997, 2.2996, 2.2995, 2.2995, 2.2994, 2.2992, 2.2992, 2.2992, 2.2992, 2.2992, 2.299, 2.2989, 2.2989, 2.2987, 2.2987, 2.2987, 2.2986, 2.2986, 2.2985, 2.2983, 2.2983, 2.298, 2.2978, 2.2976, 2.2972, 2.2976, 2.2946, 2.297, 2.2964, 2.2974, 2.2956, 2.2955, 2.296, 2.2972, 2.2943, 2.3025, 2.3022, 2.3022, 2.3021, 2.302, 2.3019, 2.3018, 2.3016, 2.3015, 2.3012, 2.3011, 2.301, 2.3009, 2.3008, 2.3006, 2.3004, 2.3002, 2.3002, 2.3002, 2.3, 2.2999, 2.2999, 2.2998, 2.2996, 2.2996, 2.2996, 2.2994, 2.2992, 2.299, 2.2989, 2.2888, 2.2918, 2.2965, 2.2957, 2.2985, 2.2986, 2.2979, 2.3209, 2.3203, 2.3203, 2.32, 2.32, 2.3198, 2.3197, 2.3197, 2.3194, 2.3188, 2.3188, 2.3188, 2.3187, 2.3187, 2.3187, 2.3186, 2.3186, 2.3184, 2.3183, 2.3182, 2.3181, 2.3181, 2.318, 2.318, 2.3178, 2.3178, 2.3178, 2.3177, 2.3177, 2.3176, 2.3173, 2.3171, 2.3173, 2.3166, 2.3169, 2.3158, 2.3163, 2.3165, 2.3088, 2.3153, 2.3116, 2.3144, 2.3624, 2.3623, 2.3621, 2.3621, 2.3618, 2.3617, 2.3617, 2.3616, 2.3615, 2.3615, 2.3611, 2.361, 2.3609, 2.3609, 2.3608, 2.3608, 2.3608, 2.3605, 2.3605, 2.3604, 2.3604, 2.3603, 2.36, 2.3599, 2.3599, 2.3599, 2.3599, 2.3599, 2.3597, 2.3597, 2.3596, 2.3576, 2.3593, 2.3584, 2.3586, 2.3539, 2.3579, 2.3559, 2.3565, 2.3541, 2.3587, 2.3562, 2.3547, 2.4102, 2.4094, 2.4091, 2.4091, 2.4091, 2.409, 2.4089, 2.4087, 2.4085, 2.4085, 2.4084, 2.4083, 2.4083, 2.4082, 2.4082, 2.4082, 2.4081, 2.408, 2.408, 2.408, 2.4078, 2.4078, 2.4078, 2.4076, 2.4075, 2.4075, 2.4075, 2.4074, 2.4073, 2.407, 2.4068, 2.4066, 2.4067, 2.4018, 2.4065, 2.4065, 2.4042, 2.3986]}, \"token.table\": {\"Topic\": [3, 8, 10, 2, 2, 3, 9, 4, 7, 10, 3, 1, 4, 3, 3, 2, 3, 7, 9, 4, 10, 8, 10, 4, 6, 10, 6, 8, 8, 10, 1, 3, 3, 8, 3, 5, 7, 8, 7, 3, 4, 8, 3, 5, 6, 7, 8, 10, 2, 5, 6, 7, 9, 7, 1, 3, 5, 7, 10, 2, 3, 4, 5, 6, 1, 10, 6, 3, 4, 5, 7, 8, 9, 1, 2, 7, 9, 3, 2, 7, 8, 1, 2, 7, 1, 2, 4, 5, 6, 7, 9, 10, 1, 10, 3, 4, 5, 4, 8, 10, 2, 9, 2, 4, 5, 6, 7, 9, 2, 4, 5, 10, 2, 1, 2, 3, 4, 5, 6, 7, 8, 6, 4, 9, 10, 2, 4, 5, 7, 8, 9, 9, 5, 6, 1, 6, 5, 9, 6, 8, 1, 7, 9, 4, 9, 4, 7, 4, 5, 6, 10, 2, 3, 5, 7, 8, 9, 1, 2, 4, 3, 5, 9, 10, 1, 4, 4, 7, 9, 10, 5, 8, 2, 4, 6, 1, 1, 4, 9, 2, 3, 5, 1, 3, 10, 2, 6, 7, 8, 9, 10, 7, 3, 6, 3, 5, 7, 6, 9, 5, 10, 3, 7, 9, 2, 3, 4, 6, 7, 8, 10, 2, 7, 10, 2, 4, 6, 8, 10, 4, 8, 5, 9, 1, 7, 9, 5, 1, 2, 8, 2, 3, 4, 1, 7, 4, 6, 10, 1, 5, 1, 3, 5, 7, 1, 2, 5, 6, 8, 1, 4, 7, 1, 2, 7, 5, 10, 1, 6, 7, 10, 6, 1, 2, 6, 7, 5, 6, 9, 3, 7, 1, 4, 4, 4, 5, 7, 10, 1, 3, 9, 2, 3, 7, 4, 7, 9, 6, 4, 5, 9, 3, 4, 5, 6, 7, 9, 1, 7, 10, 1, 5, 7, 3, 6, 7, 2, 2, 7, 8, 10, 1, 4, 5, 7, 5, 8, 1, 3, 4, 6, 8, 10, 7, 2, 4, 9, 1, 2, 10, 3, 5, 7, 9, 1, 4, 7, 9, 10, 4, 1, 3, 5, 10, 3, 5, 7, 2, 9, 3, 4, 6, 8, 10, 2, 5, 8, 10, 3, 8, 3, 7, 9, 10, 1, 3, 1, 4, 5, 6, 9, 5, 6, 2, 5, 6, 7, 10, 2, 4, 6, 10, 2, 4, 6, 2, 5, 7, 5, 6, 10, 4, 5, 6, 2, 8, 5, 7, 9, 3, 9, 3, 6, 7, 1, 7, 10, 3, 5, 6, 7, 9, 2, 4, 5, 7, 1, 3, 4, 5, 6, 7, 9, 8, 3, 10, 2, 6, 10, 7, 5, 7, 9, 10, 9, 10, 9, 1, 3, 4, 10, 7, 5, 1, 2, 5, 8, 4, 1, 10, 7, 4, 6, 7, 8, 10, 5, 6, 7, 8, 10, 1, 4, 5, 1, 3, 5, 6, 7, 9, 10, 3, 4, 8, 3, 5, 5, 6, 8, 4, 5, 7, 8, 10, 5, 5, 6, 2, 4, 8, 5, 8, 5, 8, 6, 7, 9, 8, 2, 5, 9, 1, 3, 7, 2, 3, 4, 6, 8, 3, 2, 5, 7, 9, 10, 2, 5, 6, 7, 1, 6, 7, 7, 8, 1, 5, 2, 3, 4, 6, 7, 9, 10, 2, 5, 6, 10, 9, 1, 2, 4, 6, 10, 2, 4, 6, 1, 4, 5, 6, 7, 8, 10, 2, 7, 1, 4, 6, 7, 8, 3, 5, 2, 5, 6, 7, 4, 5, 7, 1, 3, 4, 7, 9, 10, 3, 4, 5, 6, 8, 9, 10, 8, 1, 5, 6, 9, 10, 8, 8, 10, 7, 9, 2, 5, 7, 8, 10, 3, 4, 5, 7, 8, 10, 2, 8, 2, 3, 4, 3, 10, 7, 8, 3, 2, 4, 8, 9, 8, 9, 2, 4, 8, 9, 10, 4, 2, 3, 4, 6, 3, 4, 8, 9, 2, 4, 5, 7, 1, 2, 7, 1, 2, 6, 2, 4, 8, 3, 4, 6, 8, 10, 1, 4, 6, 7, 9, 1, 6, 7, 1, 3, 8, 9, 10, 4, 5, 6, 7, 9, 10, 1, 5, 6, 7, 2, 4, 9, 1, 5, 6, 8, 9, 1, 5, 10, 2, 8, 5, 2, 3, 5, 6, 8, 10, 8, 5, 3, 7, 9, 10, 2, 5, 3, 2, 8, 1, 2, 3, 7, 9, 3, 10, 10, 4, 1, 4, 5, 1, 2, 10, 2, 4, 7, 10, 10, 2, 6, 2, 3, 3, 10, 6, 3, 4, 7, 2, 5, 1, 6, 2, 3, 6, 2, 9, 10, 2, 4, 5, 6, 7, 3, 7, 2, 6, 9, 10, 5, 8, 10, 5, 9, 6, 1, 3, 5, 7, 9, 3, 10, 8, 2, 3, 5, 6, 1, 8, 5, 4, 7, 9, 2, 3, 5, 1, 10, 2, 3, 4, 5, 8, 9, 4, 2, 5, 2, 4, 7, 9, 6, 3, 9, 10, 3, 4, 10, 1, 1, 4, 6, 7, 8, 10, 3, 4, 8, 1, 4, 6, 7, 8, 10, 8, 9, 4, 8, 9, 1, 2, 3, 1, 2, 4, 7, 8, 4, 2, 5, 7, 9, 1, 2, 6, 8, 9, 5, 1, 6, 8, 4, 1, 1, 5, 9, 3, 5, 8, 10, 4, 6, 7, 3, 7, 2, 8, 10, 1, 6, 7, 2, 5, 6, 5, 8, 9, 6, 9, 10, 3, 10, 1, 5, 7, 9, 2, 7, 9, 1, 5, 6, 9, 6, 7, 2, 6, 7, 4, 5, 6, 8, 9, 10, 6, 10, 5, 6, 1, 3, 5, 8, 10, 1, 2, 4, 10, 1, 2, 6, 7, 9, 2, 4, 7, 2, 3, 5, 6, 9, 8, 5, 7, 2, 4, 8, 9, 5, 7, 8, 9, 10, 9, 10, 3, 7, 8, 3, 5, 8, 10, 7, 8, 10, 2, 8, 1, 7, 8, 9, 1, 3, 8, 9, 5, 6, 10, 2, 3, 4, 6, 9, 10, 6, 7, 6, 9, 10, 2, 6, 10, 1, 3, 7, 10, 3, 6, 9, 4, 4, 3, 6, 8, 4, 2, 4, 7, 8, 10, 3, 4, 8, 1, 4, 5, 2, 3, 4, 7, 8, 10, 4, 1, 5, 6, 8, 9, 10, 5, 7, 9, 1, 4, 5, 6, 8, 2, 4, 9, 4, 5, 8, 10, 1, 2, 3, 4, 8, 9, 10, 2, 8, 9, 2, 4, 5, 8, 2, 3, 9, 1, 1, 5, 8, 10, 5, 9, 2, 3, 6, 7, 9, 3, 6, 9, 6, 8, 4, 10, 3, 4, 5, 6, 8, 10, 5, 7, 1, 3, 6, 1, 3, 7, 10, 1, 2, 5, 6, 7, 2, 3, 4, 6, 7, 2, 5, 9, 10, 8, 6, 7, 5, 2, 3, 5, 6, 7, 8, 9, 10, 2, 4, 6, 9, 4, 8], \"Freq\": [0.9961500342272335, 0.0013873955908457291, 0.0020810933862685935, 0.9983968931025987, 0.001643947465030471, 0.997876111273496, 0.9982104506389736, 0.0016988555903097954, 0.0008494277951548977, 0.996378803716695, 0.9969665693644365, 0.9970218112447642, 0.001817724359607592, 0.9969387431365682, 0.9949625837692371, 0.0006558650188847356, 0.9982265587425677, 0.0009837975283271034, 0.0003279325094423678, 0.9969729757910761, 0.0014201894242038121, 0.001310119219439223, 0.998310845212688, 0.9950580868685164, 0.0030183764010167334, 0.0010061254670055777, 0.9974976097050648, 0.0020652124424535507, 0.9975229869823221, 0.0015622912873646392, 0.0015635273440440358, 0.9959669181560508, 0.0005676377131135779, 0.9990423750798971, 0.001124281832442903, 0.9974628417433435, 0.0006745690994657418, 0.0004497127329771612, 0.9993472404740644, 0.9970784201085786, 0.0010814299567338162, 0.0010814299567338162, 0.9965361893103106, 0.0012288924309584346, 0.9941739766453735, 0.0024577848619168692, 0.0012288924309584346, 0.0012288924309584346, 0.0019768779060407447, 0.0009884389530203724, 0.9933811477854743, 0.0029653168590611173, 0.0009884389530203724, 0.9948692385330081, 0.0012660234093051933, 0.0006330117046525966, 0.0006330117046525966, 0.9969934348278398, 0.0006330117046525966, 0.9968120222770229, 0.0007890332630161131, 0.0010520443506881509, 0.0005260221753440754, 0.0007890332630161131, 0.007861946938843404, 0.9914788639541404, 0.997609102131178, 0.9876301780443312, 0.0015865545028824596, 0.0015865545028824596, 0.0031731090057649193, 0.004759663508647379, 0.0007932772514412298, 0.001016534295766898, 0.9972201441473272, 0.001016534295766898, 0.000508267147883449, 0.9975431595600701, 0.001083098531915405, 0.9932013537664263, 0.00433239412766162, 0.9942639895934996, 0.0026993592477651575, 0.0017995728318434382, 0.00045580522842615434, 0.00022790261421307717, 0.00045580522842615434, 0.0006837078426392315, 0.995250716268508, 0.0018232209137046174, 0.00022790261421307717, 0.0009116104568523087, 0.9972531595873079, 0.001517889131791945, 0.0007322039929283752, 0.0007322039929283752, 0.9983601443578396, 0.0029456769204817667, 0.9956387991228371, 0.0007364192301204417, 0.0018515454675881594, 0.9961314615624297, 0.002577384441036149, 0.9940112660929413, 0.0008591281470120496, 0.0017182562940240992, 0.9962030344964149, 0.0021751157958437004, 0.9961919995243894, 0.0009198448749071002, 0.0009198448749071002, 0.0018396897498142004, 0.9981570410260618, 0.00041340216220665815, 0.00041340216220665815, 0.00013780072073555272, 0.00027560144147110543, 0.9975394174046661, 0.0005512028829422109, 0.0005512028829422109, 0.00013780072073555272, 0.9982970743693702, 0.9964805450438127, 0.0013465953311402874, 0.0013465953311402874, 0.9961175743961777, 0.0006252680198935808, 0.0012505360397871616, 0.0006252680198935808, 0.0006252680198935808, 0.9973024917302614, 0.9973699940025501, 0.0013507227511802833, 0.996833390371049, 0.9968311905819455, 0.001306462897224044, 0.993513096529067, 0.005068944370046261, 0.9973172752390916, 0.0011943919463941216, 0.000701384865343227, 0.002805539461372908, 0.9952651239220391, 0.9981651003585309, 0.9973564022288477, 0.0010244711203876934, 0.9978348712576134, 0.0016378006180639132, 0.0016378006180639132, 0.9925071745467314, 0.0016378006180639132, 0.9948952738760963, 0.0005764167287810523, 0.001729250186343157, 0.0011528334575621046, 0.0011528334575621046, 0.0005764167287810523, 0.9950892039278784, 0.0024065035161496455, 0.0012032517580748228, 0.997192995086447, 0.9964643369508301, 0.0017210092175316582, 0.9965737320577, 0.996642955669124, 0.0021642626616050465, 0.9979306619574454, 0.9974556899182466, 0.0014148307658414846, 0.9973584260150804, 0.0008978840834014645, 0.997549216659027, 0.0012558865507717974, 0.00013954295008575525, 0.9985693508136646, 0.9969419826240765, 0.9980170301949405, 0.0004259569057596844, 0.0012778707172790532, 0.003767857256484357, 0.9939607442605733, 0.0015071429025937427, 0.9974267758933651, 0.0012374352580165548, 0.9986102532193597, 0.0017544253764226983, 0.0012531609831590701, 0.00025063219663181406, 0.996012349414829, 0.0005012643932636281, 0.00025063219663181406, 0.9963890123847796, 0.9947136120317325, 0.004440685767998806, 0.9960427441085263, 0.0027706335023881122, 0.0013853167511940561, 0.9958788116117342, 0.9983099780044999, 0.9988820426957735, 0.9965662561003846, 0.0032238585591421198, 0.0016119292795710599, 0.994560365495344, 0.9970291251719593, 0.000413361992194013, 0.000826723984388026, 0.000413361992194013, 0.001240085976582039, 0.001581162956177299, 0.9977138253478756, 0.0012283854529383368, 0.0012283854529383368, 0.9962206023329913, 0.9826507688990945, 0.0023536545362852564, 0.0011768272681426282, 0.011768272681426281, 0.0011768272681426282, 0.9994662176796357, 0.00027670714775183714, 0.997584259870365, 0.001956047568373265, 0.9970625492979689, 0.0012661111737117066, 0.0012661111737117066, 0.9977658894615393, 0.0003006094141423486, 0.9989250831950244, 0.0006012188282846972, 0.0010161792328031896, 0.9983960962291338, 0.9992244158511288, 0.9966455351067565, 0.0017797241698334937, 0.001318252641153534, 0.9965989967120716, 0.001318252641153534, 0.0018393718157348811, 0.9969395241283057, 0.0008271030303561191, 0.0016542060607122383, 0.9966591515791235, 0.0008271030303561191, 0.000713025564209319, 0.000713025564209319, 0.000713025564209319, 0.002139076692627957, 0.9953836876362093, 0.010186423738458359, 0.0005361275651820189, 0.9886192301956428, 0.996391825638196, 0.0006798045530989694, 0.998632888502386, 0.0009793854585777584, 0.9979937822907357, 0.9981868637432143, 0.0013247337275955067, 0.0031087902027553353, 0.996367259983085, 0.9966824191927962, 0.0011035017575231057, 0.9953585852858413, 0.0011035017575231057, 0.0011035017575231057, 0.9971021297693022, 0.9968479491470231, 0.9981517782564517, 0.9989536411908614, 0.0007427164618519416, 0.9987212533075195, 0.0009046388164017386, 0.9964390361531995, 0.9933653374657132, 0.0015919316305540276, 0.0015919316305540276, 0.0015919316305540276, 0.9963099268759631, 0.001413205570036827, 0.001413205570036827, 0.0015263347810283406, 0.9936439424494498, 0.003052669562056681, 0.008247328342630105, 0.0004581849079238947, 0.9905957709314602, 0.9979871596061268, 0.0011066436755734666, 0.0011066436755734666, 0.9970859516916933, 0.0005993874542368436, 0.00659326199660528, 0.9895886869450289, 0.0011987749084736872, 0.0011987749084736872, 0.0005993874542368436, 0.9960663437181254, 0.0016968762243920364, 0.0016968762243920364, 0.00047762688947286264, 0.00047762688947286264, 0.9987178258877558, 0.0005375820392496865, 0.9945267726119199, 0.004300656313997492, 0.9976001924673874, 0.00029479893165772306, 0.9984839815247081, 0.0005895978633154461, 0.0005895978633154461, 0.0014018623200479547, 0.0014018623200479547, 0.9953222472340479, 0.0014018623200479547, 0.9951893311447756, 0.002876269743192993, 0.9888761314592199, 0.0034395691529016345, 0.0017197845764508172, 0.0034395691529016345, 0.0017197845764508172, 0.0017197845764508172, 0.9966482406505786, 0.9984009050809518, 0.0005149050567720226, 0.0005149050567720226, 0.0012194118635836173, 0.0012194118635836173, 0.9962594925478153, 0.996277882595777, 0.998492365128092, 0.0004901778915700009, 0.0004901778915700009, 0.0006814227057344404, 0.0006814227057344404, 0.0013628454114688808, 0.994877150372283, 0.0020442681172033214, 0.9990708725340313, 0.9958633185689753, 0.0008475432498459364, 0.0008475432498459364, 0.001695086499691873, 0.0015725090747660676, 0.9969707534016868, 0.0015725090747660676, 0.0010041371571920278, 0.9986144028274716, 0.000998268488414813, 0.9972702199263982, 0.0004991342442074065, 0.0004991342442074065, 0.0004991342442074065, 0.0004981868741502714, 0.0004981868741502714, 0.0009963737483005429, 0.9978683089229938, 0.0005724601627153004, 0.998370523775484, 0.0012444175003792281, 0.0006222087501896141, 0.0006222087501896141, 0.9967784178037616, 0.9963800061927576, 0.995707931363108, 0.9933022506989811, 0.0007766241209530736, 0.0015532482419061472, 0.0003883120604765368, 0.0034948085442888313, 0.9981423590824132, 0.9981611453847766, 0.9968625129076257, 0.00044772625776223925, 0.0011193156444055982, 0.0013431787732867176, 0.00022386312888111962, 0.0014445625949566488, 0.0020223876329393082, 0.9955925404441223, 0.0005778250379826595, 0.997071420957073, 0.0012085714193419068, 0.0012085714193419068, 0.9992535602294321, 0.9983585589925036, 0.00145745775035402, 0.0014898556758711275, 0.9952235914819131, 0.0014898556758711275, 0.0008498596814065432, 0.9985851256526882, 0.0002832865604688477, 0.0021365779945337286, 0.9967136344499844, 0.002136313265442289, 0.9955219816961068, 0.002136313265442289, 0.0005256683997085756, 0.9987699594462935, 0.0009936590403855658, 0.9966400175067226, 0.0019873180807711316, 0.0009014603257423337, 0.0009014603257423337, 0.9970151202710211, 0.0001584181440178338, 0.0003168362880356676, 0.004910962464552848, 0.9855192739349442, 0.009029834209016527, 0.0005824918325864148, 0.0005824918325864148, 0.0005824918325864148, 0.9978085092205287, 0.0005243521497987719, 0.0009438338696377894, 0.9965836959075459, 0.0004194817198390175, 0.0006292225797585263, 0.0006292225797585263, 0.00031461128987926313, 0.9962165716770022, 0.995060145288981, 0.0024388729051200513, 0.9982024376445854, 0.0005832325081183671, 0.0005832325081183671, 0.9992286478711332, 0.00048588673093249686, 0.00048588673093249686, 0.00048588673093249686, 0.997525458604416, 0.9927488746063023, 0.005351745954750956, 0.9960797002513352, 0.9977025227730406, 0.0005164091732779713, 0.0005164091732779713, 0.0005164091732779713, 0.9985178075401845, 0.9967069437969964, 0.0003355203263634028, 0.9964953692993063, 0.0006710406527268056, 0.0023486422845438192, 0.9972412363856642, 0.9958409639964132, 0.9986900259779958, 0.9976984275704203, 0.0009282982598843991, 0.0018565965197687982, 0.0009282982598843991, 0.0009282982598843991, 0.9960640328559602, 0.0003521856192957732, 0.0003521856192957732, 0.003169670573661959, 0.995628745749151, 0.0003521856192957732, 0.9981449931269827, 0.0006874276812169302, 0.0006874276812169302, 9.074225852365534e-05, 4.537112926182767e-05, 4.537112926182767e-05, 4.537112926182767e-05, 0.996531483106783, 0.0012703916193311747, 0.0019963296875204176, 0.9922071902396357, 0.004597809037255031, 0.0018391236149020124, 0.0014832950085577423, 0.9982575407593606, 0.000898694381858288, 0.000898694381858288, 0.9975507638626996, 0.997748403216388, 0.000706179228350377, 0.000706179228350377, 0.000706179228350377, 0.9978312496590829, 0.9997793896394501, 0.9971820520533764, 0.9993102681243691, 0.0015958420963233886, 0.9958054681057945, 0.9975672156349901, 0.0018347320320915462, 0.9962594934257095, 0.0016909437228303731, 0.9959658527470898, 0.006530101168047025, 0.001306020233609405, 0.9912693573095384, 0.9976961788564364, 0.0007788236646696522, 0.9976731144418245, 0.0007788236646696522, 0.9943099583998712, 0.0015883545661339797, 0.0015883545661339797, 0.9988208965281412, 0.9981281776137335, 0.0005941239152462699, 0.0005941239152462699, 0.0005941239152462699, 0.995475176836839, 0.00079112908575561, 0.9952403898805574, 0.00079112908575561, 0.00158225817151122, 0.00158225817151122, 0.0010918635513827242, 0.0010918635513827242, 0.0010918635513827242, 0.9968714224124271, 0.9929678062469135, 0.0027814224264619426, 0.0013907112132309713, 0.9948525759642065, 0.002038632327795505, 0.9977503869233059, 0.0014033057481340448, 0.0014328088811658842, 0.0014328088811658842, 0.0002865617762331768, 0.9926499928717245, 0.0008596853286995305, 0.0028656177623317684, 0.0002865617762331768, 0.0005211741903549591, 0.996485051958682, 0.0005211741903549591, 0.0020846967614198365, 0.9984895869577023, 0.0007473706081751584, 0.995497650089311, 0.0007473706081751584, 0.0007473706081751584, 0.0022421118245254754, 0.0014642062111031404, 0.0007321031055515702, 0.9978565328667902, 0.0017263842003393186, 0.00017263842003393187, 0.9921529999350064, 0.0012084689402375231, 0.0012084689402375231, 0.0031074915606107735, 0.00017263842003393187, 0.9973150126903559, 0.002322037282166137, 0.00042988978878387484, 0.00042988978878387484, 0.00042988978878387484, 0.0017195591551354993, 0.9964845304010218, 0.9974880350084688, 0.0016877970135507087, 0.0010557860393183454, 0.9956062350771997, 0.0010557860393183454, 0.0010557860393183454, 0.00045926127086773507, 0.00045926127086773507, 0.9988932641373238, 0.995057952585893, 0.0008390033327031138, 0.0008390033327031138, 0.0016780066654062276, 0.0008390033327031138, 0.0008390033327031138, 0.0009204037971851435, 0.0027612113915554304, 0.0009204037971851435, 0.0009204037971851435, 0.9875932743796589, 0.004602018985925717, 0.0027612113915554304, 0.9989510800405006, 0.9967864521772138, 0.0011212446031239752, 0.0005606223015619876, 0.0005606223015619876, 0.0011212446031239752, 0.9993479358968893, 0.001489569375182105, 0.9965219119968283, 0.995127292587184, 0.9970745449992217, 0.0005151872927691708, 0.0015455618783075124, 0.0005151872927691708, 0.9968874115083456, 0.0005151872927691708, 0.0005149287779869388, 0.0005149287779869388, 0.0005149287779869388, 0.0005149287779869388, 0.0005149287779869388, 0.9974170429607003, 0.9981128564819097, 0.00172983164034993, 0.0014443229191379756, 0.0014443229191379756, 0.9965828142052032, 0.0012002189643892827, 0.9985821783718832, 0.9956395613089276, 0.9987074301676814, 0.9974696411489046, 0.0012158696679884277, 0.9957972580825223, 0.0012158696679884277, 0.0012158696679884277, 0.9936446911908481, 0.005967835983128216, 0.0005573996296861811, 0.0005573996296861811, 0.9966305378788918, 0.0005573996296861811, 0.0011147992593723622, 0.9982713685416583, 0.0003818699629561653, 0.0003818699629561653, 0.002673089740693157, 0.9962987333526353, 0.001676102813192483, 0.0025141542197887248, 0.9947670196297387, 0.9981393482867267, 0.00042321121738003416, 0.0008464224347600683, 0.00042321121738003416, 0.9979320505821205, 0.9963957952789156, 0.0009711459992971888, 0.0019422919985943776, 0.0007885887308797888, 0.9983533332938126, 0.0007885887308797888, 0.00041848815741403033, 0.00041848815741403033, 0.9989312317472905, 0.9937282571640066, 0.004263621084981946, 0.0006090887264259924, 0.0003045443632129962, 0.0012181774528519848, 0.00015356123689869673, 0.9963053049987444, 0.00015356123689869673, 0.003224785974872631, 0.9952253077720193, 0.9902603863949114, 0.009165466356943843, 0.00039001984497633377, 0.0017271182142948656, 0.9939565323266951, 0.0008635591071474328, 0.0008635591071474328, 0.0017271182142948656, 0.0011807564270588863, 0.0011807564270588863, 0.0023615128541177727, 0.9918353987294646, 0.0011807564270588863, 0.0023615128541177727, 0.9970172554732792, 0.0008897312911726523, 0.0008897312911726523, 0.9973887774045432, 0.997307750766157, 0.9959089097560025, 0.001834086389974222, 0.000752350962598861, 0.004514105775593166, 0.001504701925197722, 0.000752350962598861, 0.9923509196678977, 0.0006005785842560354, 0.9989623784792057, 0.0002001928614186785, 0.0016098565478056314, 0.9965012030916858, 0.9982390048590452, 0.0013911990146471933, 0.0013911990146471933, 0.0027823980292943865, 0.0013911990146471933, 0.9905336984288016, 0.0013911990146471933, 0.9989054418698504, 0.9978902536225727, 0.0009392121696926238, 0.0009392121696926238, 0.0009392121696926238, 0.9965041120438739, 0.997091041183184, 0.0017933292107611225, 0.9944835308330052, 0.9985585270444911, 0.0006848823916628883, 0.00032526520739575366, 0.0019515912443745218, 0.00032526520739575366, 0.0006505304147915073, 0.9962873302531934, 0.001232200183365991, 0.9980821485264526, 0.9977204217064771, 0.999268215709288, 0.9978342352124352, 0.0007429890061149927, 0.0007429890061149927, 0.0015566999336890422, 0.0015566999336890422, 0.9962879575609871, 0.9977206311008199, 0.0015377148180336295, 0.0005125716060112098, 0.0002562858030056049, 0.9978670789060462, 0.9972770540533832, 0.002332811822347095, 0.000791098026666412, 0.9991568076796783, 0.0010669627010770043, 0.997610125506999, 0.9971988988252583, 0.9953558803124387, 0.0015849615928542017, 0.0015849615928542017, 0.0012750619343606946, 0.9970984326700632, 0.0017166486929292332, 0.9956562418989553, 0.9983457451633754, 0.0010108124318225198, 0.9980581331333168, 0.996629369360695, 0.0013113544333693357, 0.0013113544333693357, 0.993257126113966, 0.002091067633924139, 0.0005227669084810348, 0.0010455338169620696, 0.002613834542405174, 0.002456345894587195, 0.994820087307814, 0.9846406820201368, 0.0011763926905855875, 0.012940319596441463, 0.0011763926905855875, 0.0023958551779682752, 0.9966757540348025, 0.9996059239759016, 0.001166261520407055, 0.998319861468439, 0.9982103152572821, 0.0013735819005022307, 0.9944732959636151, 0.0013735819005022307, 0.0013735819005022307, 0.9982870397402822, 0.996976689933049, 0.0023513601177666253, 0.9971464954021584, 0.995888301157462, 0.000661280412455154, 0.002645121649820616, 0.000661280412455154, 0.998189094431336, 0.0011539758317125272, 0.9980119136601243, 0.9992917409427593, 0.0003908063124531714, 0.996540526885652, 0.004514137978496918, 0.0009028275956993835, 0.9931103552693219, 0.9966597469395027, 0.0018422546154149772, 0.9972524108837472, 0.0005845353186558942, 0.9983863242642672, 0.0005845353186558942, 0.9977228192488021, 0.996935215890578, 0.9979615882745715, 0.005050643177419836, 0.9937140451573527, 0.0014995490199933646, 0.0002999098039986729, 0.003598917647984075, 0.9942010002556008, 0.9989028225640367, 0.9972155210905581, 0.0018762286379878797, 0.0006254095459959599, 0.9951122361196459, 0.0015270264492884592, 0.0030540528985769184, 0.9970783432794347, 0.9941261251883083, 4.591170392963138e-05, 0.0009182340785926277, 0.003672936314370511, 0.000596852151085208, 0.000596852151085208, 0.9965261377847179, 0.0012891670605235678, 0.0012891670605235678, 0.0009741339997230406, 0.0009741339997230406, 0.0009741339997230406, 0.0019482679994460813, 0.007793071997784325, 0.9877718757191633, 0.0005952885949722179, 0.9988942623633816, 0.000916111770674088, 0.001832223541348176, 0.9967296064934077, 0.9959229025997803, 0.0015683825237791818, 0.0015683825237791818, 0.0035090001002594136, 0.9948015284235437, 0.0004386250125324267, 0.0004386250125324267, 0.0004386250125324267, 0.9956124180870628, 0.001893219350461707, 0.001893219350461707, 0.9958333783428579, 0.9982035470979701, 0.00021319003229433006, 0.0006395700968829901, 0.9955974508145213, 0.00021319003229433006, 0.0027714704198262908, 0.9985441819508424, 0.9978080315261559, 0.0010393833661730791, 0.0010393833661730791, 0.9957240937442952, 0.9982788432801818, 0.001592327816776006, 0.9967972133017797, 0.001592327816776006, 0.9937351705130307, 0.0015311789992496622, 0.0015311789992496622, 0.0030623579984993244, 0.996458395866905, 0.0024343446153100284, 0.0008114482051033428, 0.9992150711217237, 0.0008333737040214543, 0.001298438258167968, 0.9972005822729995, 0.001298438258167968, 0.00321585210167835, 0.9936982994186102, 0.0021439014011189, 0.9947554331947154, 0.001427195743464441, 0.001427195743464441, 0.0035415756921429497, 0.9951827694921689, 0.0011805252307143166, 0.002787418840891008, 0.9967013369643133, 0.00039820269155585827, 0.9986859992460673, 0.9980687737143381, 0.0008032675654140524, 0.0008032675654140524, 0.9968550486788389, 0.0008032675654140524, 0.0007420844542553102, 0.0022262533627659307, 0.9973615065191369, 0.0015020432833584868, 0.0015020432833584868, 0.0015020432833584868, 0.9958546968666768, 0.9966016515409738, 0.0022701632153552934, 0.9863986600763622, 0.0041445321851948, 0.006907553641991333, 0.9948165633725629, 0.003580913789744608, 9.67814537768813e-05, 0.0007742516302150504, 0.0002903443613306439, 0.0003871258151075252, 0.997017616596162, 0.0017491537133265999, 0.001333914486549843, 0.9977680359392826, 0.9981204084644678, 0.9985494655131252, 0.0007373601238610212, 0.0004096445132561229, 0.0002457867079536737, 0.00020172664675188718, 0.00020172664675188718, 0.9989503547153453, 0.00040345329350377436, 0.0004572519012324174, 0.0009145038024648348, 0.9968091446866699, 0.0009145038024648348, 0.0009145038024648348, 0.001131763207801443, 0.001131763207801443, 0.9959516228652697, 0.0010737269277565555, 0.0010737269277565555, 0.0016105903916348334, 0.995344862030327, 0.0005368634638782777, 0.9981064456157128, 0.9982402156117376, 0.0014651275180211413, 0.0011468892993647054, 0.0011468892993647054, 0.002293778598729411, 0.9932061332498349, 0.9970477996491653, 0.0007219752350826686, 0.0007219752350826686, 0.0007219752350826686, 0.0007219752350826686, 0.001782166102362112, 0.9974189619553288, 0.9974148801009768, 0.0015051532395889992, 0.0005017177465296664, 0.0008081786811586737, 0.9932515991440101, 0.0008081786811586737, 0.004849072086952043, 0.0012890176445682917, 0.00025780352891365834, 0.998215263953685, 0.0015808027339695395, 0.9974865251347794, 0.0006394420529468927, 0.9962507184912587, 0.0012788841058937854, 0.0012788841058937854, 0.0019019024646994012, 0.005705707394098203, 0.0009509512323497006, 0.990891184108388, 0.9971662353899751, 0.9977310072134588, 0.995974816140713, 0.00012258556167047964, 0.0006129278083523981, 0.0004903422466819185, 0.0004903422466819185, 0.0003677566850114389, 0.9977238864360337, 0.9976247209892883, 0.001089109957411887, 0.0009677457832243606, 0.9967781567210914, 0.0009677457832243606, 0.001264892992427898, 0.003794678977283694, 0.9929409990558999, 0.9984029120331298, 0.9973458912137739, 0.001210371227201182, 0.001210371227201182, 0.0020125203017216852, 0.0010062601508608426, 0.9961975493522341, 0.9978165883033476, 0.9949037579743305, 0.001011512509880568, 0.0015172687648208523, 0.9968455784872999, 0.9989571497722788, 0.0014489372496747004, 0.0014489372496747004, 0.0014489372496747004, 0.9939709532768444, 0.9963815077825724, 0.0010339500047433074, 0.0010339500047433074, 0.9967278045725483, 0.0014656978696627686, 0.997163117327237, 0.0009771319131085124, 0.9991251339642977, 0.00011945542012963865, 0.0002389108402592773, 0.00011945542012963865, 0.0002389108402592773, 0.00011945542012963865, 0.9958992136728445, 0.0007673226331526668, 0.002301967899458, 0.0007673226331526668, 0.994450132565856, 0.0015346452663053335, 0.0007673226331526668, 0.9932443570896018, 0.0015233809157815979, 0.0030467618315631957, 0.997606970760344, 0.00296579966951144, 0.9950257891210882, 0.9973773300035558, 0.0018783000565038715, 0.001168061050656922, 0.995772045685026, 0.002920152626642305, 0.0008945628310457346, 0.0017891256620914692, 0.9960957123694255, 0.0008945628310457346, 0.9970771104830104, 0.00098442788106716, 0.00049221394053358, 0.0014766418216007398, 0.00049221394053358, 0.9962410156399658, 0.00049221394053358, 0.0005275229092942295, 0.001055045818588459, 0.9975458214753881, 0.0007734567468810503, 0.0007734567468810503, 0.0007734567468810503, 0.9969857467296738, 0.001543360588168982, 0.9954675793689933, 0.001543360588168982, 0.9978583973419364, 0.00101975374357428, 0.00101975374357428, 0.00203950748714856, 0.9962994074720716, 0.0006758844913965389, 0.9982813937926879, 0.0006230527441745668, 0.0006230527441745668, 0.0006230527441745668, 0.996884390679307, 0.0012461054883491337, 0.9978520595429875, 0.0011509250975120962, 0.9988887360227008, 0.9977080253280947, 0.0010191093210705766, 0.9980909464302351, 0.0012429526107474909, 0.9938141783704587, 0.00029411487965979834, 0.003235263676257782, 0.0023529190372783867, 0.00029411487965979834, 0.00029411487965979834, 0.0007036005230298734, 0.9984091421793905, 0.0020021456493501534, 0.9970685333763764, 0.0020021456493501534, 0.003813314380314926, 0.9940039484687574, 0.9971531139375984, 0.001716270419858173, 0.0018480879273805998, 0.0009240439636902999, 0.0009240439636902999, 0.9951953488944529, 0.0009240439636902999, 0.0005313405868581268, 0.0005313405868581268, 0.9978576221195622, 0.0005313405868581268, 0.0005313405868581268, 0.9953875333531246, 0.0007308278512137479, 0.002192483553641244, 0.0014616557024274958, 0.9981979887622068, 0.0014718659825609197, 0.9964532701937426, 0.9981051163152397, 0.0004809194374139128, 0.00016030647913797095, 0.00016030647913797095, 0.9972666067173173, 0.00016030647913797095, 0.0004809194374139128, 0.0012824518331037676, 0.00016030647913797095, 0.9974084462806656, 0.000681991189774326, 0.000681991189774326, 0.9977531106398388, 0.99642368964895, 0.0016202011213804065], \"Term\": [\"able\", \"able\", \"able\", \"access\", \"accommodating\", \"accommodating\", \"accommodation\", \"across\", \"across\", \"across\", \"air\", \"airport\", \"airport\", \"along\", \"already\", \"also\", \"also\", \"also\", \"also\", \"although\", \"although\", \"always\", \"always\", \"amazing\", \"amazing\", \"amazing\", \"amenity\", \"amenity\", \"another\", \"another\", \"apologize\", \"apologize\", \"appreciate\", \"appreciate\", \"area\", \"area\", \"area\", \"area\", \"around\", \"arrived\", \"arrived\", \"arrived\", \"ask\", \"asked\", \"asked\", \"asked\", \"asked\", \"asked\", \"available\", \"available\", \"available\", \"available\", \"available\", \"average\", \"away\", \"away\", \"away\", \"away\", \"away\", \"back\", \"back\", \"back\", \"back\", \"back\", \"bad\", \"bad\", \"balcony\", \"bar\", \"bar\", \"bar\", \"bar\", \"bar\", \"bar\", \"bathroom\", \"bathroom\", \"bathroom\", \"bathroom\", \"bay\", \"beach\", \"beach\", \"beach\", \"beautiful\", \"beautiful\", \"beautiful\", \"bed\", \"bed\", \"bed\", \"bed\", \"bed\", \"bed\", \"bed\", \"bed\", \"bedroom\", \"bedroom\", \"best\", \"best\", \"best\", \"better\", \"better\", \"better\", \"big\", \"big\", \"bit\", \"bit\", \"bit\", \"bit\", \"block\", \"block\", \"booked\", \"booked\", \"booked\", \"booked\", \"bourbon\", \"breakfast\", \"breakfast\", \"breakfast\", \"breakfast\", \"breakfast\", \"breakfast\", \"breakfast\", \"breakfast\", \"bring\", \"building\", \"building\", \"building\", \"bus\", \"business\", \"business\", \"business\", \"business\", \"business\", \"busy\", \"call\", \"call\", \"called\", \"called\", \"came\", \"came\", \"cant\", \"cant\", \"car\", \"car\", \"car\", \"care\", \"carpet\", \"center\", \"center\", \"charge\", \"charge\", \"charge\", \"charge\", \"check\", \"check\", \"check\", \"check\", \"check\", \"check\", \"checked\", \"checked\", \"checked\", \"checking\", \"chicago\", \"chicago\", \"child\", \"choice\", \"choice\", \"choose\", \"choosing\", \"choosing\", \"chose\", \"city\", \"city\", \"clean\", \"clean\", \"clean\", \"clerk\", \"close\", \"close\", \"close\", \"coffee\", \"coffee\", \"coffee\", \"cold\", \"come\", \"come\", \"comfortable\", \"comfortable\", \"comfortable\", \"comfortable\", \"comfortable\", \"comfortable\", \"coming\", \"comment\", \"comment\", \"complimentary\", \"complimentary\", \"complimentary\", \"concern\", \"consider\", \"contact\", \"continue\", \"convenient\", \"convenient\", \"convenient\", \"could\", \"could\", \"could\", \"could\", \"could\", \"couldnt\", \"couldnt\", \"couple\", \"couple\", \"couple\", \"customer\", \"customer\", \"customer\", \"customer\", \"customer\", \"day\", \"day\", \"decent\", \"decent\", \"definitely\", \"definitely\", \"definitely\", \"delighted\", \"desk\", \"desk\", \"desk\", \"didnt\", \"didnt\", \"diego\", \"different\", \"different\", \"dinner\", \"dinner\", \"dinner\", \"directly\", \"directly\", \"distance\", \"distance\", \"distance\", \"distance\", \"dont\", \"dont\", \"dont\", \"dont\", \"dont\", \"door\", \"door\", \"door\", \"double\", \"downtown\", \"downtown\", \"early\", \"early\", \"easy\", \"easy\", \"eat\", \"eat\", \"either\", \"elevator\", \"elevator\", \"elevator\", \"elevator\", \"else\", \"employee\", \"enjoy\", \"enjoyed\", \"enjoyed\", \"enough\", \"enough\", \"ensure\", \"entire\", \"entire\", \"entire\", \"entire\", \"especially\", \"especially\", \"especially\", \"etc\", \"etc\", \"etc\", \"even\", \"even\", \"even\", \"evening\", \"ever\", \"ever\", \"ever\", \"every\", \"every\", \"every\", \"every\", \"every\", \"every\", \"everyone\", \"everyone\", \"everyone\", \"everything\", \"everything\", \"everything\", \"excellent\", \"excellent\", \"excellent\", \"expectation\", \"experience\", \"experience\", \"experience\", \"experience\", \"extra\", \"extra\", \"extra\", \"extra\", \"extremely\", \"extremely\", \"facility\", \"facility\", \"facility\", \"facility\", \"facility\", \"facility\", \"fairly\", \"family\", \"family\", \"family\", \"far\", \"far\", \"far\", \"fast\", \"feedback\", \"feedback\", \"feedback\", \"feel\", \"feel\", \"feel\", \"feel\", \"feel\", \"felt\", \"find\", \"find\", \"find\", \"find\", \"fine\", \"fine\", \"fine\", \"first\", \"first\", \"floor\", \"floor\", \"floor\", \"floor\", \"floor\", \"food\", \"food\", \"food\", \"food\", \"forward\", \"forward\", \"found\", \"found\", \"found\", \"found\", \"four\", \"francisco\", \"free\", \"free\", \"free\", \"free\", \"free\", \"fridge\", \"friend\", \"friendly\", \"friendly\", \"friendly\", \"friendly\", \"friendly\", \"front\", \"front\", \"front\", \"front\", \"full\", \"full\", \"full\", \"future\", \"garden\", \"garden\", \"gave\", \"gave\", \"gave\", \"get\", \"get\", \"get\", \"give\", \"give\", \"given\", \"given\", \"given\", \"glad\", \"glad\", \"go\", \"go\", \"go\", \"going\", \"going\", \"going\", \"good\", \"good\", \"good\", \"good\", \"good\", \"got\", \"got\", \"got\", \"got\", \"great\", \"great\", \"great\", \"great\", \"great\", \"great\", \"great\", \"ground\", \"group\", \"group\", \"guest\", \"guest\", \"guest\", \"hampton\", \"happy\", \"happy\", \"happy\", \"happy\", \"hard\", \"hard\", \"head\", \"hear\", \"hear\", \"hear\", \"hear\", \"help\", \"helped\", \"helpful\", \"helpful\", \"helpful\", \"helpful\", \"highly\", \"highway\", \"hilton\", \"holiday\", \"home\", \"home\", \"home\", \"home\", \"home\", \"hope\", \"hope\", \"hope\", \"hope\", \"hope\", \"hot\", \"hot\", \"hot\", \"hotel\", \"hotel\", \"hotel\", \"hotel\", \"hotel\", \"hotel\", \"hotel\", \"hour\", \"hour\", \"hour\", \"housekeeping\", \"housekeeping\", \"however\", \"however\", \"however\", \"husband\", \"im\", \"im\", \"im\", \"im\", \"inn\", \"internet\", \"issue\", \"ive\", \"ive\", \"job\", \"keep\", \"keep\", \"kept\", \"kept\", \"key\", \"key\", \"key\", \"kid\", \"kind\", \"kind\", \"kind\", \"king\", \"king\", \"king\", \"kitchen\", \"know\", \"know\", \"know\", \"know\", \"lake\", \"large\", \"large\", \"large\", \"large\", \"large\", \"last\", \"last\", \"last\", \"last\", \"late\", \"late\", \"late\", \"leave\", \"leave\", \"let\", \"let\", \"like\", \"like\", \"like\", \"like\", \"like\", \"like\", \"like\", \"little\", \"little\", \"little\", \"little\", \"living\", \"lobby\", \"lobby\", \"lobby\", \"lobby\", \"lobby\", \"located\", \"located\", \"located\", \"location\", \"location\", \"location\", \"location\", \"location\", \"location\", \"location\", \"long\", \"long\", \"look\", \"look\", \"look\", \"look\", \"look\", \"looked\", \"looked\", \"looking\", \"looking\", \"looking\", \"looking\", \"lot\", \"lot\", \"lot\", \"love\", \"love\", \"love\", \"love\", \"love\", \"love\", \"loved\", \"loved\", \"loved\", \"loved\", \"loved\", \"loved\", \"loved\", \"lovely\", \"made\", \"made\", \"made\", \"made\", \"made\", \"make\", \"making\", \"making\", \"mall\", \"management\", \"manager\", \"manager\", \"manager\", \"manager\", \"manager\", \"many\", \"many\", \"many\", \"many\", \"many\", \"many\", \"market\", \"market\", \"may\", \"may\", \"may\", \"member\", \"member\", \"mention\", \"microwave\", \"mile\", \"minute\", \"minute\", \"minute\", \"minute\", \"modern\", \"modern\", \"morning\", \"morning\", \"morning\", \"morning\", \"morning\", \"motel\", \"much\", \"much\", \"much\", \"much\", \"near\", \"near\", \"near\", \"nearby\", \"need\", \"need\", \"need\", \"need\", \"needed\", \"needed\", \"needed\", \"never\", \"never\", \"never\", \"new\", \"new\", \"new\", \"next\", \"next\", \"next\", \"next\", \"next\", \"nice\", \"nice\", \"nice\", \"nice\", \"nicely\", \"night\", \"night\", \"night\", \"noise\", \"noise\", \"noise\", \"noise\", \"noise\", \"nothing\", \"nothing\", \"nothing\", \"nothing\", \"nothing\", \"nothing\", \"number\", \"offer\", \"offer\", \"offer\", \"offered\", \"ok\", \"ok\", \"old\", \"old\", \"old\", \"old\", \"old\", \"one\", \"one\", \"one\", \"open\", \"open\", \"opportunity\", \"option\", \"option\", \"option\", \"option\", \"option\", \"option\", \"orlando\", \"orleans\", \"outside\", \"outside\", \"outside\", \"outside\", \"overall\", \"overall\", \"owner\", \"park\", \"park\", \"parking\", \"parking\", \"parking\", \"parking\", \"parking\", \"part\", \"part\", \"pas\", \"people\", \"perfect\", \"perfect\", \"perfect\", \"pillow\", \"pillow\", \"pillow\", \"place\", \"place\", \"place\", \"place\", \"plan\", \"pleasant\", \"pleasant\", \"please\", \"please\", \"pleased\", \"pleased\", \"pleasure\", \"plenty\", \"plenty\", \"plenty\", \"plus\", \"plus\", \"pm\", \"pm\", \"pool\", \"pool\", \"positive\", \"pretty\", \"pretty\", \"pretty\", \"price\", \"price\", \"price\", \"price\", \"price\", \"probably\", \"probably\", \"problem\", \"problem\", \"problem\", \"problem\", \"professional\", \"professional\", \"property\", \"provide\", \"provide\", \"provided\", \"quality\", \"quality\", \"quality\", \"quality\", \"quarter\", \"queen\", \"queen\", \"quick\", \"quiet\", \"quiet\", \"quiet\", \"quiet\", \"quite\", \"quite\", \"rate\", \"really\", \"really\", \"reason\", \"recent\", \"recent\", \"recent\", \"recently\", \"recently\", \"reception\", \"recommend\", \"recommend\", \"recommend\", \"refrigerator\", \"regard\", \"regarding\", \"reservation\", \"reservation\", \"restaurant\", \"restaurant\", \"restaurant\", \"restaurant\", \"return\", \"review\", \"review\", \"review\", \"right\", \"right\", \"right\", \"river\", \"room\", \"room\", \"room\", \"room\", \"room\", \"room\", \"safe\", \"safe\", \"safe\", \"said\", \"said\", \"said\", \"said\", \"said\", \"said\", \"san\", \"san\", \"say\", \"say\", \"say\", \"second\", \"second\", \"second\", \"see\", \"see\", \"see\", \"see\", \"see\", \"seeing\", \"seemed\", \"seemed\", \"seemed\", \"selection\", \"service\", \"service\", \"service\", \"service\", \"service\", \"several\", \"share\", \"share\", \"share\", \"shared\", \"sharing\", \"shopping\", \"shopping\", \"shopping\", \"short\", \"short\", \"short\", \"short\", \"shower\", \"shower\", \"shower\", \"shuttle\", \"shuttle\", \"side\", \"side\", \"side\", \"since\", \"since\", \"since\", \"size\", \"size\", \"size\", \"sleep\", \"sleep\", \"sleep\", \"small\", \"small\", \"small\", \"soon\", \"sorry\", \"space\", \"space\", \"space\", \"space\", \"spacious\", \"spacious\", \"spacious\", \"special\", \"special\", \"special\", \"special\", \"spot\", \"spot\", \"st\", \"st\", \"st\", \"staff\", \"staff\", \"staff\", \"staff\", \"staff\", \"staff\", \"standard\", \"standard\", \"star\", \"star\", \"start\", \"stay\", \"stay\", \"stay\", \"stay\", \"stayed\", \"stayed\", \"stayed\", \"stayed\", \"staying\", \"staying\", \"staying\", \"staying\", \"staying\", \"still\", \"still\", \"still\", \"street\", \"street\", \"street\", \"street\", \"street\", \"strive\", \"suite\", \"suite\", \"super\", \"super\", \"super\", \"super\", \"sure\", \"sure\", \"sure\", \"sure\", \"sure\", \"take\", \"take\", \"taking\", \"taking\", \"taking\", \"team\", \"team\", \"team\", \"team\", \"thank\", \"thank\", \"thank\", \"thanks\", \"thanks\", \"thing\", \"thing\", \"thing\", \"thing\", \"though\", \"though\", \"though\", \"though\", \"thought\", \"three\", \"throughout\", \"time\", \"time\", \"time\", \"time\", \"time\", \"time\", \"told\", \"told\", \"took\", \"took\", \"took\", \"top\", \"top\", \"top\", \"towel\", \"town\", \"town\", \"town\", \"travel\", \"travel\", \"travel\", \"traveling\", \"tried\", \"trip\", \"trip\", \"trip\", \"try\", \"tub\", \"tub\", \"tub\", \"tub\", \"turned\", \"tv\", \"tv\", \"tv\", \"two\", \"two\", \"two\", \"u\", \"u\", \"u\", \"u\", \"u\", \"u\", \"union\", \"use\", \"use\", \"use\", \"use\", \"use\", \"use\", \"used\", \"used\", \"used\", \"vacation\", \"valet\", \"valet\", \"value\", \"value\", \"view\", \"view\", \"view\", \"visit\", \"visit\", \"visit\", \"visit\", \"waffle\", \"walk\", \"walk\", \"walk\", \"walk\", \"walk\", \"walk\", \"walking\", \"walking\", \"walking\", \"want\", \"want\", \"want\", \"want\", \"wanted\", \"wanted\", \"wanted\", \"warm\", \"wasnt\", \"wasnt\", \"wasnt\", \"wasnt\", \"water\", \"water\", \"way\", \"way\", \"way\", \"way\", \"way\", \"week\", \"week\", \"weekend\", \"welcome\", \"welcome\", \"welcoming\", \"welcoming\", \"well\", \"well\", \"well\", \"well\", \"well\", \"well\", \"went\", \"went\", \"wife\", \"wife\", \"wife\", \"wifi\", \"wifi\", \"window\", \"window\", \"within\", \"within\", \"within\", \"within\", \"within\", \"wonderful\", \"wonderful\", \"wonderful\", \"wonderful\", \"wonderful\", \"work\", \"work\", \"work\", \"work\", \"worked\", \"working\", \"working\", \"world\", \"would\", \"would\", \"would\", \"would\", \"would\", \"would\", \"would\", \"would\", \"write\", \"year\", \"year\", \"year\", \"youre\", \"youre\"]}, \"R\": 30, \"lambda.step\": 0.01, \"plot.opts\": {\"xlab\": \"PC1\", \"ylab\": \"PC2\"}, \"topic.order\": [9, 10, 1, 4, 5, 2, 7, 3, 6, 8]};\n",
       "\n",
       "function LDAvis_load_lib(url, callback){\n",
       "  var s = document.createElement('script');\n",
       "  s.src = url;\n",
       "  s.async = true;\n",
       "  s.onreadystatechange = s.onload = callback;\n",
       "  s.onerror = function(){console.warn(\"failed to load library \" + url);};\n",
       "  document.getElementsByTagName(\"head\")[0].appendChild(s);\n",
       "}\n",
       "\n",
       "if(typeof(LDAvis) !== \"undefined\"){\n",
       "   // already loaded: just create the visualization\n",
       "   !function(LDAvis){\n",
       "       new LDAvis(\"#\" + \"ldavis_el1288019956773296083560363159\", ldavis_el1288019956773296083560363159_data);\n",
       "   }(LDAvis);\n",
       "}else if(typeof define === \"function\" && define.amd){\n",
       "   // require.js is available: use it to load d3/LDAvis\n",
       "   require.config({paths: {d3: \"https://cdnjs.cloudflare.com/ajax/libs/d3/3.5.5/d3.min\"}});\n",
       "   require([\"d3\"], function(d3){\n",
       "      window.d3 = d3;\n",
       "      LDAvis_load_lib(\"https://cdn.rawgit.com/bmabey/pyLDAvis/files/ldavis.v1.0.0.js\", function(){\n",
       "        new LDAvis(\"#\" + \"ldavis_el1288019956773296083560363159\", ldavis_el1288019956773296083560363159_data);\n",
       "      });\n",
       "    });\n",
       "}else{\n",
       "    // require.js not available: dynamically load d3 & LDAvis\n",
       "    LDAvis_load_lib(\"https://cdnjs.cloudflare.com/ajax/libs/d3/3.5.5/d3.min.js\", function(){\n",
       "         LDAvis_load_lib(\"https://cdn.rawgit.com/bmabey/pyLDAvis/files/ldavis.v1.0.0.js\", function(){\n",
       "                 new LDAvis(\"#\" + \"ldavis_el1288019956773296083560363159\", ldavis_el1288019956773296083560363159_data);\n",
       "            })\n",
       "         });\n",
       "}\n",
       "</script>"
      ],
      "text/plain": [
       "PreparedData(topic_coordinates=              x         y  topics  cluster       Freq\n",
       "topic                                                \n",
       "8     -0.293434 -0.104122       1        1  10.606354\n",
       "9      0.060507  0.407533       2        1  10.464286\n",
       "0      0.209571 -0.160476       3        1  10.366531\n",
       "3      0.131095 -0.037813       4        1  10.231306\n",
       "4      0.163347 -0.097000       5        1  10.133241\n",
       "1     -0.107412  0.058049       6        1  10.007011\n",
       "6     -0.156422 -0.034846       7        1   9.991803\n",
       "2      0.061765 -0.007954       8        1   9.813533\n",
       "5     -0.044892  0.003197       9        1   9.410929\n",
       "7     -0.024125 -0.026567      10        1   8.975007, topic_info=         Term          Freq         Total Category  logprob  loglift\n",
       "14840   hotel  22040.000000  22040.000000  Default  30.0000  30.0000\n",
       "26587    room  21780.000000  21780.000000  Default  29.0000  29.0000\n",
       "29777    stay  12205.000000  12205.000000  Default  28.0000  28.0000\n",
       "29564   staff  10332.000000  10332.000000  Default  27.0000  27.0000\n",
       "13414   great   9535.000000   9535.000000  Default  26.0000  26.0000\n",
       "...       ...           ...           ...      ...      ...      ...\n",
       "2562      bad   1134.536381   1144.754610  Topic10  -4.2674   2.4018\n",
       "9701      eat    640.644353    643.337076  Topic10  -4.8389   2.4065\n",
       "23239  pillow    639.684563    642.384559  Topic10  -4.8404   2.4065\n",
       "31998     top    785.418982    790.580710  Topic10  -4.6352   2.4042\n",
       "27026    said   1014.186137   1026.552815  Topic10  -4.3796   2.3986\n",
       "\n",
       "[446 rows x 6 columns], token_table=       Topic      Freq           Term\n",
       "term                                 \n",
       "38         3  0.996150           able\n",
       "38         8  0.001387           able\n",
       "38        10  0.002081           able\n",
       "134        2  0.998397         access\n",
       "170        2  0.001644  accommodating\n",
       "...      ...       ...            ...\n",
       "35373      4  0.000682           year\n",
       "35373      6  0.000682           year\n",
       "35373      9  0.997753           year\n",
       "35520      4  0.996424          youre\n",
       "35520      8  0.001620          youre\n",
       "\n",
       "[1114 rows x 3 columns], R=30, lambda_step=0.01, plot_opts={'xlab': 'PC1', 'ylab': 'PC2'}, topic_order=[9, 10, 1, 4, 5, 2, 7, 3, 6, 8])"
      ]
     },
     "execution_count": 71,
     "metadata": {},
     "output_type": "execute_result"
    }
   ],
   "source": [
    "# Visualize LDA output topics\n",
    "pyLDAvis.enable_notebook()\n",
    "LDAvis_data_filepath = os.path.join('visualizations/ldavis_prepared_'+str(num_topics))\n",
    "\n",
    "if 1 == 1:\n",
    "    LDAvis_prepared = pyLDAvis.gensim.prepare(lda_model, corpus, id2word)\n",
    "    with open(LDAvis_data_filepath, 'wb') as f:\n",
    "        pickle.dump(LDAvis_prepared, f)\n",
    "        \n",
    "# load the pre-prepared pyLDAvis data from disk\n",
    "with open(LDAvis_data_filepath, 'rb') as f:\n",
    "    LDAvis_prepared = pickle.load(f)\n",
    "pyLDAvis.save_html(LDAvis_prepared, 'visualizations/ldavis_prepared_'+ str(num_topics) +'.html')\n",
    "LDAvis_prepared"
   ]
  },
  {
   "cell_type": "code",
   "execution_count": 72,
   "metadata": {},
   "outputs": [
    {
     "name": "stdout",
     "output_type": "stream",
     "text": [
      "[(0,\n",
      "  '0.508*\"hotel\" + 0.304*\"stay\" + 0.044*\"excellent\" + 0.030*\"shower\" + '\n",
      "  '0.030*\"large\" + 0.021*\"still\" + 0.008*\"nicely\" + 0.003*\"sight\" + '\n",
      "  '0.002*\"receptionist\" + 0.001*\"showing\"'),\n",
      " (1,\n",
      "  '0.411*\"need\" + 0.167*\"last\" + 0.047*\"maker\" + 0.007*\"marble\" + 0.004*\"tony\" '\n",
      "  '+ 0.001*\"draining\" + 0.000*\"room\" + 0.000*\"good\" + 0.000*\"staff\" + '\n",
      "  '0.000*\"bad\"'),\n",
      " (2,\n",
      "  '0.282*\"could\" + 0.205*\"manager\" + 0.075*\"second\" + 0.056*\"person\" + '\n",
      "  '0.051*\"leave\" + 0.047*\"cost\" + 0.022*\"low\" + 0.017*\"unless\" + 0.011*\"hello\" '\n",
      "  '+ 0.006*\"napa\"'),\n",
      " (3,\n",
      "  '0.554*\"staff\" + 0.250*\"friendly\" + 0.041*\"plus\" + 0.025*\"request\" + '\n",
      "  '0.013*\"tripadvisor\" + 0.007*\"paying\" + 0.003*\"butter\" + 0.000*\"manager\" + '\n",
      "  '0.000*\"good\" + 0.000*\"room\"'),\n",
      " (4,\n",
      "  '0.407*\"first\" + 0.090*\"choose\" + 0.064*\"usually\" + 0.005*\"powell\" + '\n",
      "  '0.000*\"tha\" + 0.000*\"good\" + 0.000*\"room\" + 0.000*\"bad\" + 0.000*\"hotel\" + '\n",
      "  '0.000*\"location\"'),\n",
      " (5,\n",
      "  '0.263*\"door\" + 0.139*\"since\" + 0.127*\"full\" + 0.073*\"truly\" + '\n",
      "  '0.037*\"waikiki\" + 0.017*\"layout\" + 0.016*\"term\" + 0.016*\"box\" + '\n",
      "  '0.013*\"environment\" + 0.007*\"mary\"'),\n",
      " (6,\n",
      "  '0.385*\"u\" + 0.264*\"location\" + 0.195*\"bed\" + 0.039*\"customer\" + '\n",
      "  '0.020*\"queen\" + 0.005*\"planned\" + 0.002*\"satisfying\" + 0.001*\"warehouse\" + '\n",
      "  '0.000*\"humbled\" + 0.000*\"sacramento\"'),\n",
      " (7,\n",
      "  '0.211*\"beach\" + 0.165*\"called\" + 0.129*\"choosing\" + 0.048*\"possible\" + '\n",
      "  '0.026*\"relatively\" + 0.008*\"cabinet\" + 0.001*\"japanese\" + 0.000*\"good\" + '\n",
      "  '0.000*\"room\" + 0.000*\"bad\"'),\n",
      " (8,\n",
      "  '0.348*\"helpful\" + 0.134*\"please\" + 0.129*\"hour\" + 0.061*\"put\" + '\n",
      "  '0.043*\"liked\" + 0.017*\"hit\" + 0.017*\"beautifully\" + 0.015*\"planning\" + '\n",
      "  '0.011*\"saved\" + 0.000*\"aera\"'),\n",
      " (9,\n",
      "  '0.160*\"part\" + 0.142*\"gave\" + 0.113*\"money\" + 0.069*\"store\" + '\n",
      "  '0.066*\"lounge\" + 0.016*\"challenge\" + 0.015*\"realized\" + 0.000*\"hitandmiss\" '\n",
      "  '+ 0.000*\"good\" + 0.000*\"room\"'),\n",
      " (10,\n",
      "  '0.566*\"day\" + 0.115*\"far\" + 0.004*\"whats\" + 0.000*\"good\" + 0.000*\"room\" + '\n",
      "  '0.000*\"bad\" + 0.000*\"staff\" + 0.000*\"hotel\" + 0.000*\"great\" + '\n",
      "  '0.000*\"location\"'),\n",
      " (11,\n",
      "  '0.740*\"clean\" + 0.059*\"included\" + 0.000*\"good\" + 0.000*\"bad\" + '\n",
      "  '0.000*\"room\" + 0.000*\"hotel\" + 0.000*\"staff\" + 0.000*\"location\" + '\n",
      "  '0.000*\"great\" + 0.000*\"breakfast\"'),\n",
      " (12,\n",
      "  '0.420*\"service\" + 0.106*\"overall\" + 0.094*\"extremely\" + 0.084*\"took\" + '\n",
      "  '0.054*\"without\" + 0.035*\"someone\" + 0.028*\"central\" + 0.000*\"room\" + '\n",
      "  '0.000*\"good\" + 0.000*\"bad\"'),\n",
      " (13,\n",
      "  '0.212*\"bit\" + 0.167*\"choice\" + 0.125*\"king\" + 0.073*\"expensive\" + '\n",
      "  '0.059*\"least\" + 0.000*\"room\" + 0.000*\"good\" + 0.000*\"hotel\" + 0.000*\"bad\" + '\n",
      "  '0.000*\"staff\"'),\n",
      " (14,\n",
      "  '0.302*\"food\" + 0.170*\"value\" + 0.119*\"tub\" + 0.059*\"thats\" + 0.018*\"strip\" '\n",
      "  '+ 0.000*\"staff\" + 0.000*\"good\" + 0.000*\"hotel\" + 0.000*\"room\" + '\n",
      "  '0.000*\"bad\"'),\n",
      " (15,\n",
      "  '0.325*\"well\" + 0.213*\"new\" + 0.176*\"two\" + 0.038*\"square\" + '\n",
      "  '0.037*\"professional\" + 0.024*\"online\" + 0.006*\"beginning\" + 0.005*\"indeed\" '\n",
      "  '+ 0.000*\"good\" + 0.000*\"room\"'),\n",
      " (16,\n",
      "  '0.239*\"team\" + 0.130*\"modern\" + 0.128*\"entire\" + 0.042*\"prior\" + '\n",
      "  '0.022*\"piece\" + 0.017*\"alternative\" + 0.015*\"supposed\" + 0.012*\"overly\" + '\n",
      "  '0.000*\"good\" + 0.000*\"room\"'),\n",
      " (17,\n",
      "  '0.396*\"would\" + 0.120*\"check\" + 0.113*\"happy\" + 0.083*\"another\" + '\n",
      "  '0.049*\"welcoming\" + 0.031*\"ready\" + 0.031*\"disappointed\" + 0.013*\"knew\" + '\n",
      "  '0.011*\"spotless\" + 0.011*\"tourist\"'),\n",
      " (18,\n",
      "  '0.249*\"place\" + 0.211*\"get\" + 0.082*\"bar\" + 0.075*\"old\" + 0.070*\"near\" + '\n",
      "  '0.051*\"bad\" + 0.036*\"eat\" + 0.031*\"expect\" + 0.025*\"dining\" + 0.021*\"name\"'),\n",
      " (19,\n",
      "  '0.499*\"pool\" + 0.096*\"garden\" + 0.039*\"brought\" + 0.026*\"treat\" + 0.011*\"m\" '\n",
      "  '+ 0.009*\"phenomenal\" + 0.007*\"steak\" + 0.006*\"parade\" + 0.003*\"asian\" + '\n",
      "  '0.002*\"seated\"')]\n"
     ]
    }
   ],
   "source": [
    "# Try with more topics\n",
    "\n",
    "# number of topics\n",
    "num_topics_2 = 20\n",
    "\n",
    "# Build LDA model\n",
    "lda_model_2 = gensim.models.LdaMulticore(corpus=corpus,\n",
    "                                       id2word=id2word,\n",
    "                                       num_topics=num_topics_2)\n",
    "\n",
    "# Print the Keyword in the 10 topics\n",
    "pprint(lda_model_2.print_topics())\n",
    "doc_lda_2 = lda_model_2[corpus]"
   ]
  },
  {
   "cell_type": "code",
   "execution_count": 73,
   "metadata": {},
   "outputs": [
    {
     "data": {
      "text/html": [
       "\n",
       "<link rel=\"stylesheet\" type=\"text/css\" href=\"https://cdn.rawgit.com/bmabey/pyLDAvis/files/ldavis.v1.0.0.css\">\n",
       "\n",
       "\n",
       "<div id=\"ldavis_el128801995815194312992982240\"></div>\n",
       "<script type=\"text/javascript\">\n",
       "\n",
       "var ldavis_el128801995815194312992982240_data = {\"mdsDat\": {\"x\": [-0.3714022288817777, -0.1939303632049381, -0.1435993944675063, -0.11783352453093493, -0.09476234368035126, -0.017067597332125872, -0.02030115938527676, 0.006549328659070489, 0.020983339587622343, 0.026248099227795293, 0.0656041441350958, 0.07175573278095197, 0.07669958750748668, 0.08309001759119257, 0.09325213131121801, 0.0932206686469739, 0.10112118447191701, 0.10483222876740031, 0.10644355022830358, 0.10909659856788273], \"y\": [-0.2967245308173582, 0.3027086023374729, 0.11491021749961133, 0.07402679367737144, 0.05178874190883019, 0.002344615868355279, 0.003604494788236711, -0.005714028914615387, -0.009751614590273903, -0.010995552385631954, -0.01943041750916118, -0.020393118190351084, -0.021088052052418472, -0.021883235747118354, -0.023180592305894036, -0.02317549134983074, -0.023971928340370645, -0.024289245665034463, -0.024174558976848698, -0.024611099234972223], \"topics\": [1, 2, 3, 4, 5, 6, 7, 8, 9, 10, 11, 12, 13, 14, 15, 16, 17, 18, 19, 20], \"cluster\": [1, 1, 1, 1, 1, 1, 1, 1, 1, 1, 1, 1, 1, 1, 1, 1, 1, 1, 1, 1], \"Freq\": [6.602608197658453, 5.56634966482722, 5.436499181690832, 5.3579884890364085, 5.208842645017345, 4.995492650790808, 4.993940122642007, 4.96743811273571, 4.896190738012533, 4.893973328762474, 4.764399112060789, 4.748098357713791, 4.741667407739709, 4.741112836179841, 4.70923221599588, 4.706681700042213, 4.675299982978321, 4.6699772671066935, 4.664099751465648, 4.660108237543326]}, \"tinfo\": {\"Term\": [\"clean\", \"hotel\", \"staff\", \"day\", \"pool\", \"service\", \"u\", \"would\", \"need\", \"first\", \"stay\", \"helpful\", \"well\", \"food\", \"location\", \"could\", \"friendly\", \"place\", \"door\", \"team\", \"get\", \"new\", \"bed\", \"bit\", \"beach\", \"manager\", \"two\", \"value\", \"choice\", \"last\", \"hotel\", \"stay\", \"excellent\", \"shower\", \"large\", \"still\", \"nicely\", \"sight\", \"receptionist\", \"showing\", \"secret\", \"olivia\", \"parasailing\", \"time\", \"coffee\", \"walk\", \"experience\", \"wasnt\", \"also\", \"buffet\", \"close\", \"found\", \"long\", \"size\", \"facility\", \"stayed\", \"free\", \"regis\", \"property\", \"available\", \"room\", \"breakfast\", \"bathroom\", \"like\", \"loved\", \"nice\", \"one\", \"restaurant\", \"good\", \"area\", \"floor\", \"great\", \"night\", \"really\", \"comfortable\", \"small\", \"bad\", \"staff\", \"location\", \"bed\", \"u\", \"helpful\", \"service\", \"friendly\", \"clean\", \"would\", \"u\", \"location\", \"bed\", \"customer\", \"queen\", \"planned\", \"satisfying\", \"warehouse\", \"humbled\", \"sacramento\", \"hated\", \"nice\", \"night\", \"one\", \"much\", \"experience\", \"price\", \"perfect\", \"parking\", \"visit\", \"best\", \"like\", \"everything\", \"street\", \"really\", \"right\", \"lot\", \"review\", \"st\", \"stayed\", \"next\", \"room\", \"didnt\", \"good\", \"great\", \"breakfast\", \"time\", \"bathroom\", \"small\", \"would\", \"money\", \"comfortable\", \"bad\", \"hotel\", \"staff\", \"stay\", \"friendly\", \"service\", \"clean\", \"staff\", \"friendly\", \"plus\", \"request\", \"tripadvisor\", \"paying\", \"butter\", \"good\", \"great\", \"breakfast\", \"street\", \"comfortable\", \"stayed\", \"floor\", \"small\", \"night\", \"walking\", \"next\", \"size\", \"enjoyed\", \"center\", \"booked\", \"told\", \"view\", \"top\", \"use\", \"nice\", \"think\", \"facility\", \"thing\", \"really\", \"back\", \"coffee\", \"bathroom\", \"price\", \"free\", \"restaurant\", \"even\", \"little\", \"room\", \"time\", \"like\", \"area\", \"manager\", \"parking\", \"one\", \"bad\", \"hotel\", \"location\", \"bed\", \"stay\", \"u\", \"service\", \"day\", \"helpful\", \"would\", \"clean\", \"place\", \"get\", \"bar\", \"old\", \"near\", \"bad\", \"eat\", \"expect\", \"dining\", \"name\", \"public\", \"leaving\", \"ten\", \"random\", \"good\", \"room\", \"night\", \"price\", \"breakfast\", \"comfortable\", \"view\", \"restaurant\", \"bathroom\", \"couple\", \"walk\", \"arrived\", \"awesome\", \"noise\", \"much\", \"couldnt\", \"area\", \"small\", \"great\", \"time\", \"like\", \"one\", \"parking\", \"nice\", \"really\", \"hotel\", \"staff\", \"location\", \"bed\", \"stay\", \"friendly\", \"clean\", \"u\", \"would\", \"check\", \"happy\", \"another\", \"welcoming\", \"ready\", \"disappointed\", \"knew\", \"spotless\", \"tourist\", \"reasonably\", \"abundance\", \"mexico\", \"intent\", \"room\", \"bathroom\", \"like\", \"even\", \"floor\", \"night\", \"comfortable\", \"great\", \"street\", \"loved\", \"guest\", \"especially\", \"amazing\", \"available\", \"away\", \"felt\", \"parking\", \"one\", \"small\", \"didnt\", \"good\", \"nice\", \"free\", \"breakfast\", \"time\", \"hotel\", \"bad\", \"staff\", \"location\", \"stay\", \"friendly\", \"bed\", \"u\", \"service\", \"overall\", \"extremely\", \"took\", \"without\", \"someone\", \"central\", \"room\", \"like\", \"great\", \"little\", \"also\", \"small\", \"area\", \"front\", \"st\", \"recommend\", \"available\", \"night\", \"boston\", \"definitely\", \"vega\", \"awesome\", \"perfect\", \"water\", \"looking\", \"going\", \"price\", \"help\", \"next\", \"time\", \"didnt\", \"breakfast\", \"everything\", \"good\", \"coffee\", \"nothing\", \"one\", \"even\", \"comfortable\", \"back\", \"restaurant\", \"nice\", \"parking\", \"really\", \"bad\", \"hotel\", \"staff\", \"location\", \"stay\", \"bed\", \"clean\", \"would\", \"day\", \"friendly\", \"u\", \"get\", \"helpful\", \"well\", \"new\", \"two\", \"square\", \"professional\", \"online\", \"beginning\", \"indeed\", \"great\", \"good\", \"room\", \"didnt\", \"area\", \"bathroom\", \"walk\", \"nice\", \"thing\", \"nothing\", \"extra\", \"wonderful\", \"building\", \"water\", \"feel\", \"used\", \"perfect\", \"year\", \"restaurant\", \"amazing\", \"la\", \"even\", \"breakfast\", \"parking\", \"small\", \"night\", \"experience\", \"comfortable\", \"also\", \"really\", \"front\", \"like\", \"one\", \"time\", \"price\", \"free\", \"back\", \"bad\", \"staff\", \"hotel\", \"location\", \"bed\", \"clean\", \"stay\", \"friendly\", \"would\", \"u\", \"service\", \"get\", \"clean\", \"included\", \"great\", \"back\", \"little\", \"night\", \"street\", \"arrived\", \"never\", \"stayed\", \"restaurant\", \"like\", \"fremont\", \"available\", \"quiet\", \"around\", \"sleep\", \"enjoyed\", \"better\", \"feel\", \"york\", \"coffee\", \"long\", \"drink\", \"wanted\", \"building\", \"review\", \"fresh\", \"made\", \"decor\", \"parking\", \"best\", \"morning\", \"bathroom\", \"good\", \"breakfast\", \"time\", \"next\", \"guest\", \"comfortable\", \"one\", \"even\", \"free\", \"room\", \"nice\", \"area\", \"small\", \"price\", \"didnt\", \"floor\", \"also\", \"really\", \"bad\", \"hotel\", \"staff\", \"location\", \"friendly\", \"bed\", \"stay\", \"get\", \"day\", \"service\", \"u\", \"place\", \"could\", \"manager\", \"second\", \"person\", \"leave\", \"cost\", \"low\", \"unless\", \"hello\", \"napa\", \"famous\", \"tasting\", \"dj\", \"nice\", \"bathroom\", \"floor\", \"good\", \"really\", \"close\", \"though\", \"front\", \"desk\", \"free\", \"coffee\", \"review\", \"make\", \"comfortable\", \"drink\", \"small\", \"spacious\", \"area\", \"back\", \"one\", \"didnt\", \"night\", \"great\", \"time\", \"room\", \"breakfast\", \"also\", \"restaurant\", \"like\", \"hotel\", \"bad\", \"staff\", \"location\", \"stay\", \"bed\", \"friendly\", \"clean\", \"u\", \"helpful\", \"please\", \"hour\", \"put\", \"liked\", \"hit\", \"beautifully\", \"planning\", \"saved\", \"aera\", \"relies\", \"room\", \"good\", \"nice\", \"night\", \"perfect\", \"every\", \"right\", \"thank\", \"one\", \"desk\", \"york\", \"option\", \"walk\", \"charge\", \"next\", \"noise\", \"parking\", \"facility\", \"enjoyed\", \"loved\", \"breakfast\", \"everything\", \"comfortable\", \"great\", \"time\", \"even\", \"free\", \"back\", \"restaurant\", \"really\", \"like\", \"also\", \"location\", \"bad\", \"hotel\", \"staff\", \"stay\", \"bed\", \"friendly\", \"u\", \"service\", \"would\", \"door\", \"since\", \"full\", \"truly\", \"waikiki\", \"layout\", \"term\", \"box\", \"environment\", \"mary\", \"resident\", \"endless\", \"vale\", \"room\", \"nice\", \"great\", \"one\", \"close\", \"small\", \"work\", \"even\", \"ocean\", \"coffee\", \"also\", \"thing\", \"able\", \"nothing\", \"car\", \"quite\", \"several\", \"front\", \"breakfast\", \"floor\", \"didnt\", \"good\", \"time\", \"comfortable\", \"restaurant\", \"price\", \"really\", \"parking\", \"night\", \"like\", \"hotel\", \"bad\", \"staff\", \"location\", \"bed\", \"stay\", \"friendly\", \"u\", \"clean\", \"service\", \"pool\", \"garden\", \"brought\", \"treat\", \"m\", \"phenomenal\", \"steak\", \"parade\", \"asian\", \"seated\", \"environmentally\", \"leonor\", \"good\", \"great\", \"back\", \"didnt\", \"st\", \"one\", \"visit\", \"perfect\", \"right\", \"away\", \"close\", \"convenient\", \"regis\", \"vega\", \"nothing\", \"ocean\", \"comfortable\", \"arrived\", \"parking\", \"really\", \"like\", \"breakfast\", \"room\", \"restaurant\", \"area\", \"bathroom\", \"night\", \"nice\", \"time\", \"small\", \"bad\", \"hotel\", \"staff\", \"location\", \"bed\", \"stay\", \"u\", \"service\", \"friendly\", \"clean\", \"day\", \"far\", \"whats\", \"great\", \"small\", \"experience\", \"view\", \"area\", \"next\", \"comfortable\", \"coffee\", \"wasnt\", \"amazing\", \"hear\", \"etc\", \"thing\", \"never\", \"plenty\", \"facility\", \"make\", \"recommend\", \"everything\", \"told\", \"take\", \"made\", \"min\", \"thank\", \"shopping\", \"go\", \"complimentary\", \"little\", \"price\", \"restaurant\", \"walk\", \"breakfast\", \"like\", \"time\", \"desk\", \"room\", \"floor\", \"one\", \"good\", \"really\", \"night\", \"nice\", \"free\", \"back\", \"parking\", \"bathroom\", \"also\", \"bad\", \"staff\", \"hotel\", \"location\", \"stay\", \"bed\", \"friendly\", \"u\", \"helpful\", \"service\", \"would\", \"get\", \"clean\", \"food\", \"value\", \"tub\", \"thats\", \"strip\", \"nice\", \"back\", \"everything\", \"time\", \"street\", \"people\", \"experience\", \"dont\", \"next\", \"like\", \"walking\", \"also\", \"go\", \"nothing\", \"visit\", \"minute\", \"free\", \"best\", \"guest\", \"car\", \"look\", \"within\", \"loved\", \"made\", \"trip\", \"parking\", \"breakfast\", \"really\", \"small\", \"good\", \"perfect\", \"bathroom\", \"room\", \"comfortable\", \"great\", \"floor\", \"didnt\", \"restaurant\", \"one\", \"price\", \"night\", \"staff\", \"hotel\", \"bad\", \"location\", \"stay\", \"bed\", \"friendly\", \"service\", \"would\", \"well\", \"day\", \"u\", \"helpful\", \"get\", \"bit\", \"choice\", \"king\", \"expensive\", \"least\", \"room\", \"breakfast\", \"time\", \"night\", \"everything\", \"parking\", \"desk\", \"free\", \"got\", \"price\", \"like\", \"close\", \"restaurant\", \"guest\", \"comfortable\", \"within\", \"view\", \"great\", \"next\", \"amenity\", \"really\", \"towel\", \"couple\", \"area\", \"block\", \"bathroom\", \"work\", \"street\", \"nice\", \"good\", \"small\", \"one\", \"also\", \"back\", \"hotel\", \"bad\", \"staff\", \"location\", \"stay\", \"friendly\", \"bed\", \"would\", \"u\", \"clean\", \"service\", \"helpful\", \"need\", \"last\", \"maker\", \"marble\", \"tony\", \"draining\", \"room\", \"great\", \"really\", \"price\", \"even\", \"nice\", \"boston\", \"property\", \"small\", \"loved\", \"many\", \"st\", \"work\", \"go\", \"buffet\", \"made\", \"view\", \"around\", \"regis\", \"little\", \"lot\", \"went\", \"feel\", \"close\", \"also\", \"good\", \"like\", \"one\", \"time\", \"back\", \"comfortable\", \"night\", \"breakfast\", \"restaurant\", \"free\", \"bathroom\", \"everything\", \"parking\", \"floor\", \"staff\", \"bad\", \"hotel\", \"location\", \"friendly\", \"stay\", \"bed\", \"service\", \"clean\", \"u\", \"day\", \"helpful\", \"team\", \"modern\", \"entire\", \"prior\", \"piece\", \"alternative\", \"supposed\", \"overly\", \"good\", \"stayed\", \"small\", \"like\", \"nice\", \"front\", \"definitely\", \"also\", \"perfect\", \"offer\", \"parking\", \"one\", \"option\", \"really\", \"restaurant\", \"thing\", \"long\", \"walking\", \"casino\", \"area\", \"even\", \"sure\", \"time\", \"room\", \"breakfast\", \"floor\", \"comfortable\", \"great\", \"bathroom\", \"free\", \"night\", \"everything\", \"bad\", \"staff\", \"hotel\", \"location\", \"stay\", \"bed\", \"clean\", \"friendly\", \"u\", \"service\", \"helpful\", \"day\", \"beach\", \"called\", \"choosing\", \"possible\", \"relatively\", \"cabinet\", \"japanese\", \"like\", \"street\", \"free\", \"parking\", \"floor\", \"comfortable\", \"make\", \"guest\", \"back\", \"always\", \"super\", \"city\", \"minute\", \"short\", \"distance\", \"best\", \"enjoyed\", \"vega\", \"view\", \"nothing\", \"th\", \"casino\", \"perfect\", \"go\", \"located\", \"little\", \"even\", \"nice\", \"good\", \"room\", \"breakfast\", \"experience\", \"one\", \"price\", \"small\", \"great\", \"time\", \"also\", \"didnt\", \"night\", \"really\", \"restaurant\", \"area\", \"bad\", \"hotel\", \"staff\", \"location\", \"stay\", \"service\", \"u\", \"bed\", \"friendly\", \"get\", \"clean\", \"would\", \"part\", \"gave\", \"money\", \"store\", \"lounge\", \"challenge\", \"realized\", \"hitandmiss\", \"good\", \"room\", \"breakfast\", \"didnt\", \"also\", \"back\", \"floor\", \"bathroom\", \"walk\", \"best\", \"got\", \"though\", \"everything\", \"time\", \"coffee\", \"much\", \"ever\", \"definitely\", \"stayed\", \"feel\", \"wish\", \"across\", \"great\", \"night\", \"area\", \"one\", \"free\", \"price\", \"nice\", \"like\", \"really\", \"comfortable\", \"small\", \"restaurant\", \"parking\", \"hotel\", \"staff\", \"bad\", \"location\", \"friendly\", \"bed\", \"stay\", \"would\", \"u\", \"helpful\", \"day\", \"clean\", \"first\", \"choose\", \"usually\", \"powell\", \"tha\", \"time\", \"really\", \"restaurant\", \"one\", \"much\", \"breakfast\", \"recommend\", \"also\", \"floor\", \"loved\", \"amazing\", \"minute\", \"every\", \"best\", \"walking\", \"see\", \"close\", \"use\", \"didnt\", \"valet\", \"asked\", \"review\", \"guest\", \"sure\", \"front\", \"good\", \"night\", \"free\", \"great\", \"bathroom\", \"comfortable\", \"nice\", \"room\", \"like\", \"little\", \"parking\", \"small\", \"price\", \"back\", \"bad\", \"hotel\", \"location\", \"staff\", \"bed\", \"friendly\", \"stay\", \"u\", \"helpful\", \"clean\", \"would\", \"well\", \"get\"], \"Freq\": [33137.0, 30272.0, 27159.0, 24226.0, 21366.0, 18942.0, 19309.0, 18610.0, 17437.0, 17129.0, 18081.0, 15368.0, 14626.0, 12918.0, 13255.0, 12474.0, 12277.0, 12025.0, 11298.0, 10062.0, 10200.0, 9579.0, 9793.0, 9019.0, 8901.0, 9044.0, 7939.0, 7291.0, 7110.0, 7091.0, 30266.037193196044, 18075.66222747368, 2643.973629180632, 1809.817352799698, 1807.3444768549161, 1233.2337808440911, 468.85880963646446, 190.41950231229782, 105.37675984429274, 86.44183827250424, 27.246070662043426, 9.255467882286851, 0.14697382186916, 0.07897751333971836, 0.07894849387213063, 0.07894553574119155, 0.07895051785645738, 0.07893938932724948, 0.07895717195877572, 0.07893854317995569, 0.07894762064812344, 0.07893228168998166, 0.07893668165590936, 0.07893638381206194, 0.07893456290308572, 0.07894287545409988, 0.07895534428062113, 0.07893730442031759, 0.07893582873943722, 0.0789354225887362, 0.07920644018234715, 0.07900645834634425, 0.07895303599080368, 0.07896934294144956, 0.07894283483902978, 0.07898081669875331, 0.07896110485139723, 0.07895487043813662, 0.07918634249182512, 0.07894980709273058, 0.07895022678178831, 0.07901028293211217, 0.0789558790457108, 0.07895512766691393, 0.07895872886979628, 0.0789511812359357, 0.07913954039271114, 0.07908189406987999, 0.07903384644194957, 0.07898382221394085, 0.07898195392071616, 0.07897127892645774, 0.07896895032910524, 0.0789680838742764, 0.07896532881868783, 0.07896513928169402, 19303.246289157683, 13248.464632063535, 9786.912920647625, 1955.1765863765543, 987.9804260654844, 260.2272735658559, 79.37751054267488, 35.98600686916833, 22.383257598752643, 22.182583573707152, 21.141543240735096, 0.12519781108705907, 0.12515873107708553, 0.1251633079123657, 0.12512711553163378, 0.12513586972779317, 0.12514415596822565, 0.12513277665457387, 0.12515007960291497, 0.12511701453606527, 0.12512809709730485, 0.1251688777268713, 0.12513767306937487, 0.12513079069612312, 0.12515279602884186, 0.12512490130209672, 0.1251168205056419, 0.12511822437282263, 0.12511808741017086, 0.12512251586924494, 0.12512842809037997, 0.1255065819719348, 0.125136988256116, 0.12554250042736317, 0.12525817737582953, 0.12520669083231592, 0.12516092247951394, 0.1251364404055089, 0.12514239828086118, 4.618142120271347, 2.393841628124983, 0.12514609627245915, 0.12543484778306688, 0.1254219961209085, 0.12527958920372392, 0.12520316404403267, 0.12518204896855045, 0.1251737741416723, 0.12515524994301952, 27151.79487594679, 12271.433988701621, 2001.003187336371, 1234.4218276052384, 621.8708611467363, 367.13165415619795, 140.04054042834488, 0.14730902716155037, 0.14685279040043625, 0.14678119128206651, 0.14666100107589147, 0.14670603617447683, 0.14665125833426682, 0.14666863697750807, 0.14668239274771952, 0.1466836412455021, 0.1466430427729655, 0.1466553382466634, 0.14663494983198208, 0.14664151559264219, 0.14662618805290087, 0.14663023452339258, 0.14662918667703936, 0.14665188258315812, 0.1466309479506969, 0.14663761403707165, 0.14672407250851421, 0.1466259762541699, 0.14662922011894425, 0.1466379930453271, 0.14667869184357835, 0.14666726585940756, 0.14664988721616634, 0.14666114599081267, 0.14666025420668227, 0.146661859418117, 0.1466649360733669, 0.1466522504441119, 0.14665018819331035, 0.14697730575964374, 0.14668102162961902, 0.14667858037056206, 0.14665503726951942, 2.206891231591783, 0.14665820310318234, 0.14666054403652465, 0.14695778683448957, 0.14694316157475096, 0.14678372171953655, 0.14675556363561906, 0.1467516397854453, 0.14670726237765613, 0.14670456473066165, 0.14668351862518414, 0.14667870299087998, 0.14667806759468707, 0.1466778669432577, 12019.575609109257, 10193.978258729941, 3980.6225047396183, 3606.6890180487912, 3368.036218009784, 2459.766339025565, 1729.6066708074181, 1498.6469743225593, 1218.0335094413053, 996.4986050596574, 691.8256403372346, 565.0956665209936, 242.65595168487002, 87.22044004525486, 0.15927289511382417, 0.15917542449236727, 0.1585898756665772, 0.15856874897529433, 0.15867386607471942, 0.15859864274907523, 0.15854600729513024, 0.1585697926755917, 0.1585595534263584, 0.15851617943926286, 0.1585389650647026, 0.15852757225198275, 0.15852218895571202, 0.15852343040974995, 0.15853565818270773, 0.15851639916564125, 0.15855299459396327, 0.15856880390688893, 0.15871449348208502, 0.15858940325486365, 0.1585839650269983, 0.15857246235108924, 0.15855941060421247, 0.15859096331215025, 0.15855746602576365, 0.1588980199396411, 0.1588050427226224, 0.15873493902159488, 0.1586546510029286, 0.1586323268028835, 0.15860417985381084, 0.1586005543685673, 0.1585910402163827, 18600.28092668663, 5632.411761497983, 5306.984428556495, 3878.097041361176, 2300.6849986482675, 1477.314988172588, 1462.0874154631651, 602.9030359212165, 531.3006774322769, 526.8750656820948, 500.2132080191137, 56.95959469853829, 46.26316871894259, 22.6619457708456, 0.16944872674607125, 0.1688899656060918, 0.16892275474707613, 0.16887508766687642, 0.16888273490627212, 0.16889733515243682, 0.16891811940923016, 0.1690626800031139, 0.16886297597766592, 0.16885321399888426, 0.16885466654714937, 0.16883276083765136, 0.16884761741586282, 0.16883569797568743, 0.16884462687531704, 0.16883167142645253, 0.16888031043232962, 0.16889107637829454, 0.16888352526341638, 0.16886739770547293, 0.16934712313102757, 0.16892094974224672, 0.168870548453548, 0.16894024940926908, 0.16887457500278286, 0.16919282191936608, 0.16915319725713418, 0.16913045846848412, 0.16904233364690047, 0.16896071325100395, 0.16895405929828952, 0.1689407727538646, 0.16890530280689098, 18936.122071596084, 4778.4026339500915, 4228.229007821823, 3786.319317132051, 2420.2584417723647, 1566.47247146884, 1265.9797689928018, 0.2267621398756797, 0.22602668980454582, 0.22622544569842162, 0.2259491500129235, 0.22597051698852774, 0.22598155898263195, 0.2259538618100366, 0.2259313476142657, 0.2259178677773073, 0.2259055351605156, 0.22590514592510189, 0.22597912113977778, 0.22590326120625664, 0.22591213167647395, 0.22590490009220904, 0.22590408064923284, 0.22593630524427166, 0.22591557333697396, 0.2258941244170721, 0.22589305914120303, 0.2259555416681378, 0.22588982234144708, 0.22593403129001272, 0.22600483116315587, 0.22595009237234612, 0.22609408898933775, 0.22594378266142942, 0.22667241086978648, 0.22592993407513176, 0.22592087923024481, 0.22596877567220333, 0.2259343795532776, 0.22598032981816768, 0.22594720383585504, 0.22594982605337885, 0.22599596069293856, 0.22594808473705444, 0.2259416316236169, 0.2265443933908306, 0.2263248031592851, 0.22627899629691586, 0.22616894510521307, 0.22604504532721256, 0.2260291686195488, 0.22601824954189104, 0.22601462350672138, 0.22599721034347725, 0.22598524647602483, 0.22598350515970042, 0.22598022738779563, 0.22597807634998313, 14620.642435116628, 9573.227320169097, 7933.621461186195, 1711.1777828283252, 1676.7368311104592, 1068.0402744341795, 265.2710301397159, 245.61772492061496, 0.22272783849313163, 0.2232580171641004, 0.22316239740920418, 0.22243143568469023, 0.22242174878298412, 0.22242594712304703, 0.22239262663874287, 0.22250985248518235, 0.22237972442293977, 0.22238926796669253, 0.22236372977128546, 0.22237634527118183, 0.22235617275917224, 0.22237822940428323, 0.22236950504883543, 0.22235754489958304, 0.22239807424097083, 0.22236182515847644, 0.22242719638521208, 0.22237968346352452, 0.22234986500922405, 0.22240239545927948, 0.22256381651477145, 0.22242568088684792, 0.22243151760352073, 0.22243297166276205, 0.22239934398284353, 0.22245609325266946, 0.2224156663098198, 0.22242563992743267, 0.22238695375973103, 0.2224390131765111, 0.222424206347899, 0.22243567498416839, 0.22240432055179613, 0.22240419767355038, 0.2224041362344275, 0.22298676343662122, 0.22278755732056307, 0.22276582835077405, 0.2225635297988647, 0.2225062275769329, 0.22249283384814683, 0.22247567185315797, 0.22247554897491223, 0.22246756188893888, 0.22246242148232528, 0.22245556078027126, 0.22244595579739562, 33131.94736330366, 2625.973126072215, 0.2534195260951155, 0.2531331909646137, 0.25310638269542324, 0.2531482044102013, 0.25309949728889863, 0.2530710593376906, 0.2530632572350311, 0.25308383197050394, 0.2531316631377221, 0.25317112181357454, 0.2530486919519983, 0.2530553940192959, 0.25305101424887344, 0.25306319612195544, 0.25305406990265655, 0.2530682277651849, 0.25306144421378646, 0.2530572681536162, 0.2530517476057814, 0.25308637834865655, 0.2530546199203375, 0.2530509327647726, 0.25303543041457965, 0.2530394435065481, 0.2530637868816868, 0.2530368767573703, 0.2530701833836061, 0.25304017686345603, 0.25312324990430596, 0.25307939108700583, 0.25305516993801846, 0.2531037955752202, 0.2539402909838568, 0.25325433745160103, 0.2531552731559529, 0.25308269119309157, 0.2530753576240122, 0.25314669695433495, 0.25312732410935007, 0.2530881506278507, 0.2531025936847322, 0.25370563714433986, 0.25317099958742323, 0.2530917562993148, 0.25311143470967795, 0.25309554531000583, 0.2530928563346767, 0.25309271373750014, 0.2530972972181748, 0.25308876175860734, 0.25374929225138776, 0.2536873643347169, 0.25350082685677117, 0.25342920233209526, 0.25321744552492637, 0.2531993764255556, 0.2531952003653854, 0.25317505342144214, 0.2531524619544724, 0.25314838774942827, 0.2531352076961105, 0.2531095198333072, 12468.726512158119, 9036.100391791138, 3310.7963438922534, 2459.409231288482, 2240.6224147123457, 2093.517733822553, 979.9022542681768, 750.9855731313106, 481.782921496006, 262.5709088511929, 246.92155520708414, 163.47730990652693, 78.66986709391125, 0.26850515155763816, 0.26838443753532987, 0.2683787953795966, 0.26935504895222656, 0.2684044360659718, 0.26835490155282565, 0.2683174143472951, 0.2683429546394402, 0.2683425329836736, 0.26837813277767775, 0.26834596646634407, 0.26832337776456483, 0.2683241809184059, 0.2684313417196466, 0.2683076359492805, 0.2683936336468098, 0.2682986406262608, 0.26836178859701254, 0.26837383590462816, 0.26840387385828307, 0.2683637362450771, 0.26839068205644395, 0.2686281344895474, 0.2684217440312462, 0.2690239487812579, 0.2685043082461051, 0.2683671295700555, 0.26836871579889154, 0.2683720890450239, 0.2688858866359831, 0.2688700243476226, 0.2687422024138211, 0.26868740724301615, 0.268556774270771, 0.2685435623900859, 0.26847567581167203, 0.26843053856580557, 0.26842110150817333, 15362.699810438253, 5905.587605389135, 5703.1623001319795, 2706.44664596242, 1905.758951856955, 766.2365976946154, 744.0492774407086, 674.2709772992392, 485.8444407430016, 5.292688230990852, 0.30691139362444964, 0.27770779622901937, 0.277665810306525, 0.2767004552051954, 0.27660245460312066, 0.27654945038643436, 0.2765209714074575, 0.276531528097339, 0.2765151511791959, 0.2766032573932257, 0.2765304644004498, 0.27649839293575285, 0.2765053571399142, 0.27652530647402485, 0.2764846652249564, 0.27653528114108017, 0.27649771056416356, 0.2765742766704332, 0.27648964252360775, 0.2765095316484605, 0.27652091119819966, 0.27674037394316925, 0.276547322992656, 0.27661535945405946, 0.27681569572477616, 0.27660857587767174, 0.27653634483796935, 0.2765518186172443, 0.27655003240926057, 0.27654945038643436, 0.2765501528277763, 0.27655436747582784, 0.2765419442989521, 1.21393937847616, 0.277337529362815, 0.27703305114571997, 0.27684574014445784, 0.276705472643352, 0.27670121785579516, 0.27663540913693324, 0.27660871636594014, 0.2766008088834053, 0.2765904528910501, 11292.621531187728, 5962.278872809282, 5447.650747981217, 3122.1556979036677, 1602.638935967441, 751.4898435052472, 691.1736721388907, 673.5138674919401, 557.8723860896379, 281.87370504012705, 165.2515657633236, 42.8630021275024, 23.14237041657831, 0.34734226449585254, 0.3461607395683184, 0.34637808450967783, 0.34604151637232994, 0.34595828287267233, 0.3460174841646823, 0.34592053472212336, 0.34596449607757634, 0.3459108046087831, 0.34594628630722873, 0.3459905212000045, 0.34591404797989656, 0.34589962865530793, 0.34592901437913076, 0.3459047086341603, 0.3458810671941167, 0.3458752056800563, 0.3459331955924938, 0.34619395481466064, 0.3459669969902421, 0.345965238536024, 0.3470715406997831, 0.3460396016110702, 0.34603409178785344, 0.3459823932338407, 0.3459627767001186, 0.34598106462398703, 0.34597063112895954, 0.34597621910569715, 0.3459900913556401, 0.34665228613742316, 0.3466380231198762, 0.3463964896638275, 0.34627707108403705, 0.34618961729425596, 0.34616464724435864, 0.34614694547189623, 0.346102280734756, 0.34609825582843456, 0.34609044047635407, 21360.29818079825, 4117.570754167189, 1650.9866257787503, 1121.1260690291654, 491.34005628363286, 370.6022302915542, 318.86374839981096, 243.29612871627984, 109.4375630650831, 75.09687342758066, 42.10575475545805, 13.48680571153261, 0.36295878529864456, 0.36190424605523197, 0.36149168322999053, 0.36147906567709476, 0.3614178082366469, 0.36152447329029386, 0.3614001280853669, 0.36144206976582616, 0.36142618099551294, 0.36140748832455616, 0.36143817545937684, 0.36138096809763626, 0.36139319621988714, 0.36138739370327766, 0.3614177692935824, 0.36139198898488784, 0.36154931896544057, 0.3613964284942401, 0.3614841282754789, 0.3614941755861181, 0.3615345984870621, 0.36168398408245817, 0.3624816548724733, 0.3614677721883917, 0.3614471323642103, 0.3614522728487234, 0.36147431462322654, 0.3615198390656192, 0.36148720477757385, 0.36145363585598067, 0.36240115955816576, 0.36217949563507024, 0.36198287210244384, 0.3618479733270392, 0.3616791161993965, 0.3616517781681223, 0.36157755268719816, 0.3615766959397793, 0.36155636766011384, 0.36153389751190124, 24220.25646659554, 4916.431958836598, 181.8927572443756, 0.37696498966221503, 0.3764877276677307, 0.37642869216352376, 0.3764117748747688, 0.3764390369883716, 0.37641539167443366, 0.37653171261849355, 0.3764092858943543, 0.37636273418253896, 0.37637374014280944, 0.37633236084341803, 0.3763292496178999, 0.37636055632467624, 0.3763470224936723, 0.37631497687083537, 0.3763364443269106, 0.37636355087923745, 0.3763428223392228, 0.3764164028227271, 0.37633212750150413, 0.3763298329726845, 0.3763703566850584, 0.3763229104959066, 0.3763594285054259, 0.3763213937734665, 0.37636510649199656, 0.37631952703815563, 0.37639792992121307, 0.3764271754410837, 0.3764430038009073, 0.3763757235490772, 0.37665437268454666, 0.37649200560281815, 0.3764909166738868, 0.3763774736134312, 0.37741215054981125, 0.3764083914170178, 0.3764516374517201, 0.3774523631396334, 0.37643724803369866, 0.3764374035949746, 0.37649515571865527, 0.37640784695255214, 0.3764031801142749, 0.3764093636749922, 0.3763954798311175, 0.3763922908249614, 0.3773569262968641, 0.3770683601300556, 0.37701473038018646, 0.3768999650488857, 0.3766401388278011, 0.3766021040958417, 0.3765804032978526, 0.3765328404377439, 0.3765013003890536, 0.3764943390219567, 0.3764934445446203, 0.3764691769855787, 0.37644315936218314, 12913.168383684802, 7285.216910506465, 5091.223773537885, 2539.2701489390083, 751.1342964260566, 0.39716739951105756, 0.3970041570465873, 0.3969788424100056, 0.3970778844674152, 0.3969472671643767, 0.39690585381881677, 0.39694738382168815, 0.396886955334364, 0.3969367680063474, 0.3970549029770622, 0.39689854329396673, 0.39697919238193985, 0.3969014597267526, 0.39691098674051994, 0.39688582764702013, 0.39690013761055637, 0.3969723096005651, 0.39691930829540245, 0.3969153419468136, 0.3968812391261036, 0.39687606731862995, 0.3968775060921377, 0.39691083119743803, 0.3969029762718013, 0.3968845444165943, 0.39698389756016783, 0.3972201286158269, 0.3969925302012141, 0.39698976931151014, 0.39824006348971686, 0.3969267354775639, 0.3969491725671302, 0.39791552284930026, 0.3970164449500586, 0.3972329609200849, 0.3969416287276573, 0.3969406954691658, 0.39695181679952274, 0.3969676044223372, 0.39694022883992003, 0.3969457506193281, 1.6294209522475815, 0.3979897946709149, 0.3976076642044192, 0.397256681240077, 0.3971832649054129, 0.39710790428222487, 0.3970324658874959, 0.39702496093379347, 0.397007462337078, 0.3970048569904559, 0.3970014350426538, 0.39699910189642507, 0.3969990241248841, 0.3969879416802976, 9013.512648937969, 7104.921928957704, 5300.063759800394, 3091.774683031988, 2501.972159358321, 0.4344983253869362, 0.43321329521670393, 0.4330082774786939, 0.43293759502568746, 0.4328718564819623, 0.43291032627605763, 0.4328302967445662, 0.43288475699524326, 0.4328027190006063, 0.4328748691766806, 0.4329652113939386, 0.4328309533575176, 0.4328889670429907, 0.4328113708418486, 0.43295690717131763, 0.4327634380963945, 0.43281372692361547, 0.43333071306213544, 0.43281813009281916, 0.43274466669084194, 0.43289441306805837, 0.43273636246822095, 0.43273373601641524, 0.4328418840319443, 0.43275648572396763, 0.43284814116712844, 0.4327702359716563, 0.4328126840677514, 0.43300456954673294, 0.43412872954386583, 0.4328618914148171, 0.4328672215670111, 0.43282106553895494, 0.43281627612683865, 0.43395252552713603, 0.4335868307374829, 0.43342549707288835, 0.43334326595679507, 0.43304871711164356, 0.43301704519281004, 0.432990935171918, 0.432975948946909, 0.4329726658821519, 0.4329575251599778, 0.43293759502568746, 0.43288336652075793, 17431.61539939659, 7085.910257867545, 2008.8669831817738, 286.59560693961504, 160.4145165470177, 27.965219314591334, 0.43429515809195146, 0.43312624797632193, 0.4326012035085981, 0.4325618666721441, 0.43252534788187375, 0.4327144658031574, 0.4324383744839044, 0.4324396869985652, 0.4325751462322424, 0.4324763602023251, 0.4324599923724365, 0.43245744454985946, 0.43245146102714077, 0.43246172952419354, 0.43244169437392893, 0.4324636596928125, 0.4324859724420474, 0.43244420359313357, 0.4324373707962225, 0.4324936159097784, 0.4324439719728993, 0.43240671971855377, 0.4324325453746752, 0.4324865900960055, 0.43253534615531986, 0.43400501514515255, 0.4326021299895352, 0.43257047522418457, 0.4326062605503797, 0.43252534788187375, 0.43259452512517654, 0.43253604101602267, 0.4326784102533556, 0.43251137346107266, 0.4325034211663626, 0.4324952372514183, 0.4324874007668254, 0.4325008733437856, 0.43248933093544434, 0.43335782960722224, 0.43334269708524975, 0.4332421739035754, 0.4329308763087129, 0.43277098114032, 0.4327383998940323, 0.43272079675622754, 0.43264285654739476, 0.4326289593333384, 0.43258008746390686, 0.4325754550592214, 0.43256703952404285, 10056.821553285536, 5496.24316215571, 5406.240430591052, 1785.4312371141657, 917.5549230716791, 718.7059606497625, 640.6097494814438, 505.4557727104231, 0.46803521859499086, 0.46587515090969706, 0.4659726647497443, 0.46602657920476065, 0.46611124713980756, 0.4658699358557268, 0.46583542446915877, 0.4659378465952957, 0.4658840471782346, 0.4658086206255909, 0.4659499255805945, 0.4659859324605805, 0.4658232687918898, 0.4659614293761172, 0.4659421796916092, 0.4658306312210243, 0.465813720641606, 0.4658357695830244, 0.4658070484402028, 0.46590425551236947, 0.46588930057818995, 0.46579876570742645, 0.4660236265639098, 0.46735668638907807, 0.4662006699770039, 0.4659034119006978, 0.4659970144502673, 0.4663196575686935, 0.4658994239182499, 0.46590210813720523, 0.4658930584847274, 0.4658781035505479, 0.46711295930793756, 0.4667181490455991, 0.46658401478980466, 0.4663824299462622, 0.4661523540358086, 0.46614928635700253, 0.4660855553298069, 0.46606991016789606, 0.46606580714749296, 0.46599697610428226, 0.46597274144171447, 0.46596645270016207, 8895.421590119093, 6941.411011148911, 5451.846753092202, 2003.9341656508605, 1092.6407981147522, 348.42561709754483, 43.00872319155139, 0.48572022352342775, 0.4855651756952321, 0.48561205774605015, 0.4856313621199164, 0.4855849396970476, 0.4856977400562462, 0.4855022066661922, 0.4855272180870943, 0.4855957409538537, 0.48548470250179365, 0.4854759312684298, 0.48547397784964574, 0.48549749547971294, 0.48544582563775746, 0.4854622190346121, 0.48552074499347647, 0.4854901797348549, 0.4854654747325856, 0.48552606901722134, 0.48550584538745667, 0.4854376289393301, 0.48545838880170217, 0.4855325038085101, 0.48549309071186647, 0.48547294368676003, 0.48553369118071216, 0.48554161976283583, 0.4857478012003795, 0.4871670174005109, 0.4869732842199246, 0.48584891934920277, 0.4855357978088127, 0.4856109852808354, 0.4855591239272344, 0.48558689311583164, 0.48591024137809136, 0.48562542525890595, 0.4855557916246027, 0.4855450669724548, 0.48556850799786383, 0.4855603496017656, 0.48554786304247904, 0.48553821085554594, 0.48662404358319344, 0.4864520278232067, 0.4860501214839635, 0.4859319204963618, 0.48578679297140304, 0.4857528188054916, 0.4856982379865245, 0.48567985286855664, 0.48565124102871915, 0.4856485598656822, 0.4856481385400621, 0.48563101739895453, 6709.256429868743, 5960.355627850001, 4733.444979002115, 2922.301953185252, 2776.775582680365, 662.6206149131183, 629.8556759998054, 3.936355964116592, 0.49693497907569634, 0.49646273193029766, 0.4951516483811484, 0.4947274484139288, 0.49473942195435083, 0.4947331482782192, 0.49471023405868947, 0.4947121085107044, 0.49464960127412433, 0.49465120794728, 0.4946260749886306, 0.4945971166177058, 0.4946887352417017, 0.49481822544722415, 0.49465178175912133, 0.4946293648431874, 0.494556796772323, 0.49459964138980755, 0.4946258837180168, 0.49458912150605017, 0.4945473862581255, 0.49455763836302363, 0.4952295720291984, 0.4947417554558388, 0.49467886567803115, 0.4947567510719584, 0.49469944639607283, 0.49469259890809986, 0.49486516325584334, 0.4947836819743772, 0.49472932286594373, 0.49476968096544927, 0.4947191090151684, 0.4946880084133694, 0.49468238505732454, 0.4956284860212775, 0.49548285257595287, 0.4954662885408004, 0.4951119406017297, 0.4949723513078002, 0.49492832081251026, 0.4949122158268308, 0.49484335840587357, 0.4948135584442482, 0.4947919066107694, 0.4947688393747487, 0.4947514337488956, 17124.223788702868, 3779.3610830677612, 2669.8660306428405, 199.55319338683003, 20.456099961937298, 0.5107509926072279, 0.51066847263688, 0.5106426732019635, 0.510685863367083, 0.5105372586219639, 0.5109537570549793, 0.5104928453725224, 0.5106221865395705, 0.5105986039449876, 0.5105353857740959, 0.5105198296703758, 0.5105174599445019, 0.5105056877579031, 0.5105418069667862, 0.5105105800951909, 0.5104950239914708, 0.5105536555961552, 0.5104983874733563, 0.5105905010113545, 0.5104972408318044, 0.5104532480175986, 0.5105027064898682, 0.5105291939097159, 0.510462153600318, 0.5105278943826238, 0.5124402631627918, 0.5106345320469454, 0.5105922209736823, 0.5110730842191413, 0.5105802959015431, 0.5106764991277429, 0.51074617671271, 0.5119120436212417, 0.5106414118962564, 0.5105405838824641, 0.5105736071591573, 0.5105790345958361, 0.5105569044138855, 0.5105377937213547, 0.5116292435931714, 0.5116141843674572, 0.511261133433644, 0.5111836204647392, 0.510874753452057, 0.5108205173066548, 0.5107811875014264, 0.5107334489914847, 0.5107053944948494, 0.5107016870204985, 0.5106508143569816, 0.5106489797304986, 0.5106264291133124], \"Total\": [33137.0, 30272.0, 27159.0, 24226.0, 21366.0, 18942.0, 19309.0, 18610.0, 17437.0, 17129.0, 18081.0, 15368.0, 14626.0, 12918.0, 13255.0, 12474.0, 12277.0, 12025.0, 11298.0, 10062.0, 10200.0, 9579.0, 9793.0, 9019.0, 8901.0, 9044.0, 7939.0, 7291.0, 7110.0, 7091.0, 30272.197655848482, 18081.813812978507, 2650.121663671622, 1815.9646384419586, 1813.4915276051254, 1239.3807178099335, 475.00507258485743, 196.56571052575555, 111.52315268403446, 92.58800295018804, 33.3921894313499, 15.401673187882139, 6.293104029035943, 6.228837950354981, 6.226759821183809, 6.226544771879673, 6.226965853871624, 6.226147363348846, 6.2275586217787, 6.22609098792137, 6.226826547920054, 6.225632819178655, 6.225982848612745, 6.2259618205438425, 6.225825966853286, 6.226497537750087, 6.22748108707165, 6.226065028277064, 6.225952363160402, 6.22593848909818, 6.247326220998732, 6.231564521519587, 6.227329352761582, 6.228697638533319, 6.226536076213881, 6.229829590399383, 6.228238393418966, 6.227682295060318, 6.249983442152871, 6.227201352501594, 6.227298442793661, 6.23418486207536, 6.227984074029931, 6.227929889552589, 6.228781379891962, 6.227926287827244, 2465.848278236648, 27159.116414998683, 13255.510258624763, 9793.01815769739, 19309.350161250888, 15368.651459306644, 18942.124838183136, 12277.517104628003, 33137.92297364667, 18610.833475285563, 19309.350161250888, 13255.510258624763, 9793.01815769739, 1961.2772236206717, 994.0807473333019, 266.32726411462914, 85.4774618674162, 42.0859737572763, 28.483208517082723, 28.282555640184096, 27.24149401826541, 6.229829590399383, 6.227984074029931, 6.228238393418966, 6.226482233335021, 6.226965853871624, 6.227392112284107, 6.226846903201863, 6.227728849924989, 6.226104702584466, 6.226657946616335, 6.228697638533319, 6.227167801068036, 6.226830636275476, 6.227929889552589, 6.2265771664504515, 6.226180006490461, 6.226252695698852, 6.22627315529544, 6.226497537750087, 6.226815430744674, 6.247326220998732, 6.227287603634626, 6.249983442152871, 6.23418486207536, 6.231564521519587, 6.228837950354981, 6.227329352761582, 6.227926287827244, 18610.833475285563, 4741.444878514496, 6.228781379891962, 2465.848278236648, 30272.197655848482, 27159.116414998683, 18081.813812978507, 12277.517104628003, 18942.124838183136, 33137.92297364667, 27159.116414998683, 12277.517104628003, 2007.081992736874, 1240.5004984483533, 627.9495713288031, 373.21028664895147, 146.11896100416243, 6.249983442152871, 6.23418486207536, 6.231564521519587, 6.226830636275476, 6.228781379891962, 6.226497537750087, 6.227298442793661, 6.227926287827244, 6.227984074029931, 6.226277869193128, 6.226815430744674, 6.2259618205438425, 6.226279791715647, 6.225649586802315, 6.225822896367637, 6.2257793947443485, 6.226745164366521, 6.225874968846005, 6.226158025788427, 6.229829590399383, 6.225677633225101, 6.225825966853286, 6.226199975737688, 6.227929889552589, 6.227503678751809, 6.226759821183809, 6.227329352761582, 6.227392112284107, 6.22748108707165, 6.227682295060318, 6.22700338663595, 6.226891571595463, 6.247326220998732, 6.228837950354981, 6.228697638533319, 6.227201352501594, 9044.118355505267, 6.227728849924989, 6.228238393418966, 2465.848278236648, 30272.197655848482, 13255.510258624763, 9793.01815769739, 18081.813812978507, 19309.350161250888, 18942.124838183136, 24226.10795669342, 15368.651459306644, 18610.833475285563, 33137.92297364667, 12025.644312861583, 10200.047660987078, 3986.6910956243646, 3612.7566940329434, 3374.1037759183746, 2465.848278236648, 1735.6734218619433, 1504.7137223125976, 1224.1002858882464, 1002.565367059216, 697.8926778979366, 571.1623062698551, 248.72248552493318, 93.286973885318, 6.249983442152871, 6.247326220998732, 6.227984074029931, 6.227392112284107, 6.231564521519587, 6.228781379891962, 6.226745164366521, 6.227682295060318, 6.227329352761582, 6.225635949896101, 6.226544771879673, 6.226147418948148, 6.2259458609198335, 6.225999121995227, 6.226482233335021, 6.225732983524747, 6.227201352501594, 6.227926287827244, 6.23418486207536, 6.228837950354981, 6.228697638533319, 6.228238393418966, 6.227728849924989, 6.229829590399383, 6.227929889552589, 30272.197655848482, 27159.116414998683, 13255.510258624763, 9793.01815769739, 18081.813812978507, 12277.517104628003, 33137.92297364667, 19309.350161250888, 18610.833475285563, 5638.469577519043, 5313.041383485165, 3884.153858452428, 2306.7416640475644, 1483.3718021654402, 1468.1439284769804, 608.9593373461357, 537.3569734313535, 532.9314104903929, 506.26951653720886, 63.015817550190555, 52.31939157059485, 28.71816862249786, 6.247326220998732, 6.227329352761582, 6.228697638533319, 6.22700338663595, 6.227298442793661, 6.227984074029931, 6.228781379891962, 6.23418486207536, 6.226830636275476, 6.226536076213881, 6.22660231209141, 6.22580995384577, 6.226360014924225, 6.22593848909818, 6.226268500890138, 6.225795249296912, 6.227728849924989, 6.228238393418966, 6.227926287827244, 6.227287603634626, 6.249983442152871, 6.229829590399383, 6.22748108707165, 6.231564521519587, 6.228837950354981, 30272.197655848482, 2465.848278236648, 27159.116414998683, 13255.510258624763, 18081.813812978507, 12277.517104628003, 9793.01815769739, 19309.350161250888, 18942.124838183136, 4784.402397586126, 4234.229008746493, 3792.319023832692, 2426.2578810756277, 1572.4718732674626, 1271.9794648553864, 6.247326220998732, 6.228697638533319, 6.23418486207536, 6.226891571595463, 6.2275586217787, 6.227926287827244, 6.227201352501594, 6.2266108410822145, 6.22627315529544, 6.225947113459365, 6.22593848909818, 6.227984074029931, 6.225916267414571, 6.226161122839057, 6.225965570192955, 6.2259458609198335, 6.226846903201863, 6.226280551813757, 6.225693221671276, 6.225668900397128, 6.227392112284107, 6.225583665527104, 6.226815430744674, 6.228837950354981, 6.227287603634626, 6.231564521519587, 6.227167801068036, 6.249983442152871, 6.226759821183809, 6.226496087700692, 6.228238393418966, 6.22700338663595, 6.228781379891962, 6.227503678751809, 6.227682295060318, 6.229829590399383, 6.227728849924989, 6.227929889552589, 2465.848278236648, 30272.197655848482, 27159.116414998683, 13255.510258624763, 18081.813812978507, 9793.01815769739, 33137.92297364667, 18610.833475285563, 24226.10795669342, 12277.517104628003, 19309.350161250888, 10200.047660987078, 15368.651459306644, 14626.647681700664, 9579.232019295921, 7939.625453603932, 1717.1806120515844, 1682.7397247429512, 1074.0430907794448, 271.27373130539024, 251.6204359031449, 6.23418486207536, 6.249983442152871, 6.247326220998732, 6.227287603634626, 6.227201352501594, 6.227329352761582, 6.226544771879673, 6.229829590399383, 6.226199975737688, 6.226496087700692, 6.225794110170687, 6.226216752221623, 6.22565358205771, 6.226280551813757, 6.226040778256272, 6.225706905623345, 6.226846903201863, 6.225847571113691, 6.227682295060318, 6.226360014924225, 6.225527186360739, 6.22700338663595, 6.231564521519587, 6.227728849924989, 6.227926287827244, 6.227984074029931, 6.226965853871624, 6.228781379891962, 6.2275586217787, 6.227929889552589, 6.2266108410822145, 6.228697638533319, 6.228238393418966, 6.228837950354981, 6.227392112284107, 6.22748108707165, 6.227503678751809, 2465.848278236648, 27159.116414998683, 30272.197655848482, 13255.510258624763, 9793.01815769739, 33137.92297364667, 18081.813812978507, 12277.517104628003, 18610.833475285563, 19309.350161250888, 18942.124838183136, 10200.047660987078, 33137.92297364667, 2631.945689907653, 6.23418486207536, 6.227503678751809, 6.226891571595463, 6.227984074029931, 6.226830636275476, 6.226147418948148, 6.225991256514678, 6.226497537750087, 6.227682295060318, 6.228697638533319, 6.225754886705896, 6.22593848909818, 6.225843065061813, 6.226150191389393, 6.22593041514078, 6.226279791715647, 6.2261425186635, 6.226040778256272, 6.225906227451709, 6.226759821183809, 6.225982848612745, 6.225912855877894, 6.225533117408445, 6.22565358205771, 6.226252695698852, 6.225592846188584, 6.226418977425749, 6.225680990193057, 6.227728849924989, 6.226657946616335, 6.226057883943422, 6.227329352761582, 6.249983442152871, 6.231564521519587, 6.228837950354981, 6.226815430744674, 6.22660231209141, 6.228781379891962, 6.228238393418966, 6.22700338663595, 6.22748108707165, 6.247326220998732, 6.229829590399383, 6.227201352501594, 6.227926287827244, 6.227392112284107, 6.227287603634626, 6.227298442793661, 6.2275586217787, 6.227929889552589, 2465.848278236648, 30272.197655848482, 27159.116414998683, 13255.510258624763, 12277.517104628003, 9793.01815769739, 18081.813812978507, 10200.047660987078, 24226.10795669342, 18942.124838183136, 19309.350161250888, 12025.644312861583, 12474.684616840344, 9044.118355505267, 3316.7534759553537, 2465.366521197753, 2246.579657983038, 2099.474871124107, 985.8592816599544, 756.9423958413566, 487.7397217539477, 268.52821802469873, 252.87841031318766, 169.43410953147963, 84.6266460292298, 6.229829590399383, 6.227329352761582, 6.227298442793661, 6.249983442152871, 6.227929889552589, 6.226826547920054, 6.226013506685393, 6.2266108410822145, 6.226626122672616, 6.22748108707165, 6.226759821183809, 6.226252695698852, 6.226276213421219, 6.228781379891962, 6.225912855877894, 6.227926287827244, 6.225724956714033, 6.227201352501594, 6.227503678751809, 6.228238393418966, 6.227287603634626, 6.227984074029931, 6.23418486207536, 6.228837950354981, 6.247326220998732, 6.231564521519587, 6.2275586217787, 6.227682295060318, 6.228697638533319, 30272.197655848482, 2465.848278236648, 27159.116414998683, 13255.510258624763, 18081.813812978507, 9793.01815769739, 12277.517104628003, 33137.92297364667, 19309.350161250888, 15368.651459306644, 5911.536553733459, 5709.112009642498, 2712.395636660584, 1911.7083111916868, 772.1852262993128, 749.9979122799548, 680.2196242217364, 491.79308455008754, 11.241269302617589, 6.255502859431927, 6.247326220998732, 6.249983442152871, 6.229829590399383, 6.227984074029931, 6.226846903201863, 6.2262134101875075, 6.2265771664504515, 6.226240309772231, 6.228238393418966, 6.226626122672616, 6.225906227451709, 6.226077995243602, 6.226544771879673, 6.225635568445004, 6.226815430744674, 6.225999121995227, 6.227728849924989, 6.225825966853286, 6.226279791715647, 6.226536076213881, 6.231564521519587, 6.227167801068036, 6.228781379891962, 6.23418486207536, 6.228837950354981, 6.22700338663595, 6.22748108707165, 6.227503678751809, 6.227682295060318, 6.227929889552589, 6.228697638533319, 6.2275586217787, 13255.510258624763, 2465.848278236648, 30272.197655848482, 27159.116414998683, 18081.813812978507, 9793.01815769739, 12277.517104628003, 19309.350161250888, 18942.124838183136, 18610.833475285563, 11298.501633907155, 5968.158540611549, 5453.530362095062, 3128.035134373673, 1608.5184695317937, 757.3691161784222, 697.0529521826099, 679.39311943557, 563.7516166807978, 287.75295107811945, 171.1307954080211, 48.742218522003554, 29.02165293082578, 6.247326220998732, 6.229829590399383, 6.23418486207536, 6.228238393418966, 6.226826547920054, 6.227926287827244, 6.226187106927609, 6.22700338663595, 6.226068866288316, 6.226759821183809, 6.2275586217787, 6.226199975737688, 6.2259638673983195, 6.226496087700692, 6.226067874550149, 6.225651366003154, 6.22556269955873, 6.2266108410822145, 6.231564521519587, 6.227298442793661, 6.227287603634626, 6.249983442152871, 6.228837950354981, 6.228781379891962, 6.227682295060318, 6.227392112284107, 6.227929889552589, 6.227728849924989, 6.227984074029931, 6.228697638533319, 30272.197655848482, 2465.848278236648, 27159.116414998683, 13255.510258624763, 9793.01815769739, 18081.813812978507, 12277.517104628003, 19309.350161250888, 33137.92297364667, 18942.124838183136, 21366.163154033835, 4123.434675474079, 1656.8504201356404, 1126.9898856531368, 497.20377707402594, 376.4659814170948, 324.72748330726824, 249.15986179280506, 115.30139728175863, 80.96062555564271, 47.969462982320486, 19.350634312939526, 6.249983442152871, 6.23418486207536, 6.227503678751809, 6.227287603634626, 6.22627315529544, 6.228238393418966, 6.226104702584466, 6.226846903201863, 6.2265771664504515, 6.226268500890138, 6.226826547920054, 6.225846442826247, 6.226065028277064, 6.225965570192955, 6.226496087700692, 6.226068866288316, 6.228781379891962, 6.226147418948148, 6.227728849924989, 6.227929889552589, 6.228697638533319, 6.231564521519587, 6.247326220998732, 6.227682295060318, 6.227201352501594, 6.227329352761582, 6.227984074029931, 6.229829590399383, 6.228837950354981, 6.227926287827244, 2465.848278236648, 30272.197655848482, 27159.116414998683, 13255.510258624763, 9793.01815769739, 18081.813812978507, 19309.350161250888, 18942.124838183136, 12277.517104628003, 33137.92297364667, 24226.10795669342, 4922.281098139853, 187.74155371348445, 6.23418486207536, 6.227926287827244, 6.226965853871624, 6.226745164366521, 6.227201352501594, 6.226815430744674, 6.228781379891962, 6.226759821183809, 6.226147363348846, 6.226360014924225, 6.225678140016469, 6.225677346479515, 6.226199975737688, 6.225991256514678, 6.225464315125529, 6.225825966853286, 6.226276213421219, 6.225947113459365, 6.227167801068036, 6.2257793947443485, 6.225743111398204, 6.226418977425749, 6.225634985392467, 6.226240309772231, 6.2256188959393794, 6.226342796248246, 6.225590928755961, 6.226891571595463, 6.227392112284107, 6.227682295060318, 6.226544771879673, 6.231564521519587, 6.228697638533319, 6.228837950354981, 6.226626122672616, 6.247326220998732, 6.227298442793661, 6.228238393418966, 6.249983442152871, 6.227929889552589, 6.227984074029931, 6.229829590399383, 6.22748108707165, 6.227503678751809, 6.227728849924989, 6.227329352761582, 6.2275586217787, 2465.848278236648, 27159.116414998683, 30272.197655848482, 13255.510258624763, 18081.813812978507, 9793.01815769739, 12277.517104628003, 19309.350161250888, 15368.651459306644, 18942.124838183136, 18610.833475285563, 10200.047660987078, 33137.92297364667, 12918.998120615397, 7291.045901098484, 5097.052453388061, 2545.098702943894, 756.9637211289482, 6.229829590399383, 6.227503678751809, 6.227167801068036, 6.228837950354981, 6.226830636275476, 6.226245700228983, 6.226965853871624, 6.226031468173126, 6.226815430744674, 6.228697638533319, 6.226277869193128, 6.2275586217787, 6.226342796248246, 6.226496087700692, 6.226104702584466, 6.226337598243614, 6.22748108707165, 6.226657946616335, 6.22660231209141, 6.226067874550149, 6.225987809798055, 6.226011069032639, 6.226536076213881, 6.226418977425749, 6.226130443704147, 6.227728849924989, 6.231564521519587, 6.227929889552589, 6.227926287827244, 6.249983442152871, 6.226846903201863, 6.227329352761582, 6.247326220998732, 6.228781379891962, 6.23418486207536, 6.227298442793661, 6.227287603634626, 6.227682295060318, 6.228238393418966, 6.227392112284107, 6.227984074029931, 27159.116414998683, 30272.197655848482, 2465.848278236648, 13255.510258624763, 18081.813812978507, 9793.01815769739, 12277.517104628003, 18942.124838183136, 18610.833475285563, 14626.647681700664, 24226.10795669342, 19309.350161250888, 15368.651459306644, 10200.047660987078, 9019.30634453709, 7110.71508029033, 5305.856849565896, 3097.5679102831677, 2507.7647570164177, 6.247326220998732, 6.231564521519587, 6.228837950354981, 6.227984074029931, 6.227167801068036, 6.227728849924989, 6.226626122672616, 6.22748108707165, 6.226351815019536, 6.227392112284107, 6.228697638533319, 6.226826547920054, 6.227682295060318, 6.22660231209141, 6.228781379891962, 6.226011069032639, 6.226745164366521, 6.23418486207536, 6.226815430744674, 6.225767949272438, 6.227929889552589, 6.225672086945941, 6.225635949896101, 6.227201352501594, 6.2259843739734935, 6.227329352761582, 6.226187106927609, 6.226830636275476, 6.229829590399383, 6.249983442152871, 6.227926287827244, 6.228238393418966, 6.2275586217787, 6.227503678751809, 30272.197655848482, 2465.848278236648, 27159.116414998683, 13255.510258624763, 18081.813812978507, 12277.517104628003, 9793.01815769739, 18610.833475285563, 19309.350161250888, 33137.92297364667, 18942.124838183136, 15368.651459306644, 17437.40943220067, 7091.703397125289, 2014.6597638461276, 292.38838451052123, 166.2072278604044, 33.75789791624469, 6.247326220998732, 6.23418486207536, 6.227929889552589, 6.227392112284107, 6.22700338663595, 6.229829590399383, 6.225916267414571, 6.225952363160402, 6.227926287827244, 6.226536076213881, 6.22630225777268, 6.22627315529544, 6.226187106927609, 6.226342796248246, 6.22609098792137, 6.226418977425749, 6.226745164366521, 6.226150191389393, 6.226065028277064, 6.226891571595463, 6.226180006490461, 6.225661218731506, 6.226040778256272, 6.226826547920054, 6.2275586217787, 6.249983442152871, 6.228697638533319, 6.228238393418966, 6.228837950354981, 6.227503678751809, 6.228781379891962, 6.227984074029931, 6.231564521519587, 6.227682295060318, 6.22748108707165, 6.227329352761582, 6.227167801068036, 6.227728849924989, 6.227298442793661, 27159.116414998683, 2465.848278236648, 30272.197655848482, 13255.510258624763, 12277.517104628003, 18081.813812978507, 9793.01815769739, 18942.124838183136, 33137.92297364667, 19309.350161250888, 24226.10795669342, 15368.651459306644, 10062.581123923614, 5502.003137421954, 5412.000231652806, 1791.1906167422262, 923.3142693377823, 724.4653037185597, 646.3691605593955, 511.2151078915812, 6.249983442152871, 6.226497537750087, 6.227926287827244, 6.228697638533319, 6.229829590399383, 6.2266108410822145, 6.226161122839057, 6.2275586217787, 6.226846903201863, 6.225840161845903, 6.227728849924989, 6.228238393418966, 6.226077995243602, 6.227929889552589, 6.227682295060318, 6.226199975737688, 6.225982848612745, 6.226277869193128, 6.22589532159961, 6.227201352501594, 6.22700338663595, 6.225796687047966, 6.228837950354981, 6.247326220998732, 6.231564521519587, 6.227298442793661, 6.228781379891962, 6.23418486207536, 6.227329352761582, 6.22748108707165, 6.227984074029931, 6.227167801068036, 2465.848278236648, 27159.116414998683, 30272.197655848482, 13255.510258624763, 18081.813812978507, 9793.01815769739, 33137.92297364667, 12277.517104628003, 19309.350161250888, 18942.124838183136, 15368.651459306644, 24226.10795669342, 8901.16264551591, 6947.150937662045, 5457.5865539393, 2009.673991098437, 1098.380571020611, 354.16527976946844, 48.74843699546927, 6.228697638533319, 6.226830636275476, 6.22748108707165, 6.227728849924989, 6.227298442793661, 6.228781379891962, 6.226276213421219, 6.22660231209141, 6.227503678751809, 6.226083235591515, 6.226040266386154, 6.226019103464447, 6.226337598243614, 6.225681501432238, 6.225902042880443, 6.226657946616335, 6.226279791715647, 6.225965570192955, 6.226745164366521, 6.226496087700692, 6.225624102528257, 6.22589532159961, 6.226846903201863, 6.226342796248246, 6.226085567561784, 6.226891571595463, 6.22700338663595, 6.229829590399383, 6.249983442152871, 6.247326220998732, 6.231564521519587, 6.226965853871624, 6.228238393418966, 6.227392112284107, 6.227926287827244, 6.23418486207536, 6.228837950354981, 6.2275586217787, 6.227287603634626, 6.227984074029931, 6.227929889552589, 6.227682295060318, 6.227201352501594, 2465.848278236648, 30272.197655848482, 27159.116414998683, 13255.510258624763, 18081.813812978507, 18942.124838183136, 19309.350161250888, 9793.01815769739, 12277.517104628003, 10200.047660987078, 33137.92297364667, 18610.833475285563, 6714.987351897005, 5966.086599097147, 4741.444878514496, 2928.032657957499, 2782.5066114107235, 668.3512277603821, 635.5862836327537, 9.666890184896767, 6.249983442152871, 6.247326220998732, 6.231564521519587, 6.227287603634626, 6.2275586217787, 6.227503678751809, 6.227298442793661, 6.227329352761582, 6.226544771879673, 6.226657946616335, 6.226351815019536, 6.226013506685393, 6.227167801068036, 6.228837950354981, 6.226759821183809, 6.226482233335021, 6.225601713296166, 6.226161122839057, 6.226497537750087, 6.226040778256272, 6.225521771958789, 6.225654058403066, 6.23418486207536, 6.227984074029931, 6.227201352501594, 6.228238393418966, 6.22748108707165, 6.227392112284107, 6.229829590399383, 6.228697638533319, 6.227929889552589, 6.228781379891962, 6.227926287827244, 6.227682295060318, 6.227728849924989, 30272.197655848482, 27159.116414998683, 2465.848278236648, 13255.510258624763, 12277.517104628003, 9793.01815769739, 18081.813812978507, 18610.833475285563, 19309.350161250888, 15368.651459306644, 24226.10795669342, 33137.92297364667, 17129.939455511016, 3785.07583678183, 2675.580778021465, 205.26783778922407, 26.17074436433134, 6.228837950354981, 6.227929889552589, 6.227682295060318, 6.228238393418966, 6.226482233335021, 6.231564521519587, 6.225947113459365, 6.2275586217787, 6.227298442793661, 6.226536076213881, 6.226360014924225, 6.226337598243614, 6.2262134101875075, 6.226657946616335, 6.226277869193128, 6.226101056744539, 6.226826547920054, 6.226158025788427, 6.227287603634626, 6.226156197414847, 6.225627419627238, 6.226252695698852, 6.22660231209141, 6.225796687047966, 6.2266108410822145, 6.249983442152871, 6.227984074029931, 6.22748108707165, 6.23418486207536, 6.227329352761582, 6.228781379891962, 6.229829590399383, 6.247326220998732, 6.228697638533319, 6.226891571595463, 6.227728849924989, 6.227926287827244, 6.227392112284107, 6.227503678751809, 2465.848278236648, 30272.197655848482, 13255.510258624763, 27159.116414998683, 9793.01815769739, 12277.517104628003, 18081.813812978507, 19309.350161250888, 15368.651459306644, 33137.92297364667, 18610.833475285563, 14626.647681700664, 10200.047660987078], \"Category\": [\"Default\", \"Default\", \"Default\", \"Default\", \"Default\", \"Default\", \"Default\", \"Default\", \"Default\", \"Default\", \"Default\", \"Default\", \"Default\", \"Default\", \"Default\", \"Default\", \"Default\", \"Default\", \"Default\", \"Default\", \"Default\", \"Default\", \"Default\", \"Default\", \"Default\", \"Default\", \"Default\", \"Default\", \"Default\", \"Default\", \"Topic1\", \"Topic1\", \"Topic1\", \"Topic1\", \"Topic1\", \"Topic1\", \"Topic1\", \"Topic1\", \"Topic1\", \"Topic1\", \"Topic1\", \"Topic1\", \"Topic1\", \"Topic1\", \"Topic1\", \"Topic1\", \"Topic1\", \"Topic1\", \"Topic1\", \"Topic1\", \"Topic1\", \"Topic1\", \"Topic1\", \"Topic1\", \"Topic1\", \"Topic1\", \"Topic1\", \"Topic1\", \"Topic1\", \"Topic1\", \"Topic1\", \"Topic1\", \"Topic1\", \"Topic1\", \"Topic1\", \"Topic1\", \"Topic1\", \"Topic1\", \"Topic1\", \"Topic1\", \"Topic1\", \"Topic1\", \"Topic1\", \"Topic1\", \"Topic1\", \"Topic1\", \"Topic1\", \"Topic1\", \"Topic1\", \"Topic1\", \"Topic1\", \"Topic1\", \"Topic1\", \"Topic1\", \"Topic1\", \"Topic1\", \"Topic2\", \"Topic2\", \"Topic2\", \"Topic2\", \"Topic2\", \"Topic2\", \"Topic2\", \"Topic2\", \"Topic2\", \"Topic2\", \"Topic2\", \"Topic2\", \"Topic2\", \"Topic2\", \"Topic2\", \"Topic2\", \"Topic2\", \"Topic2\", \"Topic2\", \"Topic2\", \"Topic2\", \"Topic2\", \"Topic2\", \"Topic2\", \"Topic2\", \"Topic2\", \"Topic2\", \"Topic2\", \"Topic2\", \"Topic2\", \"Topic2\", \"Topic2\", \"Topic2\", \"Topic2\", \"Topic2\", \"Topic2\", \"Topic2\", \"Topic2\", \"Topic2\", \"Topic2\", \"Topic2\", \"Topic2\", \"Topic2\", \"Topic2\", \"Topic2\", \"Topic2\", \"Topic2\", \"Topic2\", \"Topic2\", \"Topic3\", \"Topic3\", \"Topic3\", \"Topic3\", \"Topic3\", \"Topic3\", \"Topic3\", \"Topic3\", \"Topic3\", \"Topic3\", \"Topic3\", \"Topic3\", \"Topic3\", \"Topic3\", \"Topic3\", \"Topic3\", \"Topic3\", \"Topic3\", \"Topic3\", \"Topic3\", \"Topic3\", \"Topic3\", \"Topic3\", \"Topic3\", \"Topic3\", \"Topic3\", \"Topic3\", \"Topic3\", \"Topic3\", \"Topic3\", \"Topic3\", \"Topic3\", \"Topic3\", \"Topic3\", \"Topic3\", \"Topic3\", \"Topic3\", \"Topic3\", \"Topic3\", \"Topic3\", \"Topic3\", \"Topic3\", \"Topic3\", \"Topic3\", \"Topic3\", \"Topic3\", \"Topic3\", \"Topic3\", \"Topic3\", \"Topic3\", \"Topic3\", \"Topic3\", \"Topic3\", \"Topic3\", \"Topic3\", \"Topic3\", \"Topic3\", \"Topic4\", \"Topic4\", \"Topic4\", \"Topic4\", \"Topic4\", \"Topic4\", \"Topic4\", \"Topic4\", \"Topic4\", \"Topic4\", \"Topic4\", \"Topic4\", \"Topic4\", \"Topic4\", \"Topic4\", \"Topic4\", \"Topic4\", \"Topic4\", \"Topic4\", \"Topic4\", \"Topic4\", \"Topic4\", \"Topic4\", \"Topic4\", \"Topic4\", \"Topic4\", \"Topic4\", \"Topic4\", \"Topic4\", \"Topic4\", \"Topic4\", \"Topic4\", \"Topic4\", \"Topic4\", \"Topic4\", \"Topic4\", \"Topic4\", \"Topic4\", \"Topic4\", \"Topic4\", \"Topic4\", \"Topic4\", \"Topic4\", \"Topic4\", \"Topic4\", \"Topic4\", \"Topic4\", \"Topic5\", \"Topic5\", \"Topic5\", \"Topic5\", \"Topic5\", \"Topic5\", \"Topic5\", \"Topic5\", \"Topic5\", \"Topic5\", \"Topic5\", \"Topic5\", \"Topic5\", \"Topic5\", \"Topic5\", \"Topic5\", \"Topic5\", \"Topic5\", \"Topic5\", \"Topic5\", \"Topic5\", \"Topic5\", \"Topic5\", \"Topic5\", \"Topic5\", \"Topic5\", \"Topic5\", \"Topic5\", \"Topic5\", \"Topic5\", \"Topic5\", \"Topic5\", \"Topic5\", \"Topic5\", \"Topic5\", \"Topic5\", \"Topic5\", \"Topic5\", \"Topic5\", \"Topic5\", \"Topic5\", \"Topic5\", \"Topic5\", \"Topic5\", \"Topic5\", \"Topic5\", \"Topic5\", \"Topic6\", \"Topic6\", \"Topic6\", \"Topic6\", \"Topic6\", \"Topic6\", \"Topic6\", \"Topic6\", \"Topic6\", \"Topic6\", \"Topic6\", \"Topic6\", \"Topic6\", \"Topic6\", \"Topic6\", \"Topic6\", \"Topic6\", \"Topic6\", \"Topic6\", \"Topic6\", \"Topic6\", \"Topic6\", \"Topic6\", \"Topic6\", \"Topic6\", \"Topic6\", \"Topic6\", \"Topic6\", \"Topic6\", \"Topic6\", \"Topic6\", \"Topic6\", \"Topic6\", \"Topic6\", \"Topic6\", \"Topic6\", \"Topic6\", \"Topic6\", \"Topic6\", \"Topic6\", \"Topic6\", \"Topic6\", \"Topic6\", \"Topic6\", \"Topic6\", \"Topic6\", \"Topic6\", \"Topic6\", \"Topic6\", \"Topic6\", \"Topic6\", \"Topic6\", \"Topic6\", \"Topic6\", \"Topic6\", \"Topic6\", \"Topic6\", \"Topic6\", \"Topic7\", \"Topic7\", \"Topic7\", \"Topic7\", \"Topic7\", \"Topic7\", \"Topic7\", \"Topic7\", \"Topic7\", \"Topic7\", \"Topic7\", \"Topic7\", \"Topic7\", \"Topic7\", \"Topic7\", \"Topic7\", \"Topic7\", \"Topic7\", \"Topic7\", \"Topic7\", \"Topic7\", \"Topic7\", \"Topic7\", \"Topic7\", \"Topic7\", \"Topic7\", \"Topic7\", \"Topic7\", \"Topic7\", \"Topic7\", \"Topic7\", \"Topic7\", \"Topic7\", \"Topic7\", \"Topic7\", \"Topic7\", \"Topic7\", \"Topic7\", \"Topic7\", \"Topic7\", \"Topic7\", \"Topic7\", \"Topic7\", \"Topic7\", \"Topic7\", \"Topic7\", \"Topic7\", \"Topic7\", \"Topic7\", \"Topic7\", \"Topic7\", \"Topic7\", \"Topic7\", \"Topic7\", \"Topic7\", \"Topic7\", \"Topic7\", \"Topic8\", \"Topic8\", \"Topic8\", \"Topic8\", \"Topic8\", \"Topic8\", \"Topic8\", \"Topic8\", \"Topic8\", \"Topic8\", \"Topic8\", \"Topic8\", \"Topic8\", \"Topic8\", \"Topic8\", \"Topic8\", \"Topic8\", \"Topic8\", \"Topic8\", \"Topic8\", \"Topic8\", \"Topic8\", \"Topic8\", \"Topic8\", \"Topic8\", \"Topic8\", \"Topic8\", \"Topic8\", \"Topic8\", \"Topic8\", \"Topic8\", \"Topic8\", \"Topic8\", \"Topic8\", \"Topic8\", \"Topic8\", \"Topic8\", \"Topic8\", \"Topic8\", \"Topic8\", \"Topic8\", \"Topic8\", \"Topic8\", \"Topic8\", \"Topic8\", \"Topic8\", \"Topic8\", \"Topic8\", \"Topic8\", \"Topic8\", \"Topic8\", \"Topic8\", \"Topic8\", \"Topic8\", \"Topic8\", \"Topic8\", \"Topic8\", \"Topic8\", \"Topic8\", \"Topic8\", \"Topic8\", \"Topic8\", \"Topic8\", \"Topic8\", \"Topic9\", \"Topic9\", \"Topic9\", \"Topic9\", \"Topic9\", \"Topic9\", \"Topic9\", \"Topic9\", \"Topic9\", \"Topic9\", \"Topic9\", \"Topic9\", \"Topic9\", \"Topic9\", \"Topic9\", \"Topic9\", \"Topic9\", \"Topic9\", \"Topic9\", \"Topic9\", \"Topic9\", \"Topic9\", \"Topic9\", \"Topic9\", \"Topic9\", \"Topic9\", \"Topic9\", \"Topic9\", \"Topic9\", \"Topic9\", \"Topic9\", \"Topic9\", \"Topic9\", \"Topic9\", \"Topic9\", \"Topic9\", \"Topic9\", \"Topic9\", \"Topic9\", \"Topic9\", \"Topic9\", \"Topic9\", \"Topic9\", \"Topic9\", \"Topic9\", \"Topic9\", \"Topic9\", \"Topic9\", \"Topic9\", \"Topic9\", \"Topic9\", \"Topic10\", \"Topic10\", \"Topic10\", \"Topic10\", \"Topic10\", \"Topic10\", \"Topic10\", \"Topic10\", \"Topic10\", \"Topic10\", \"Topic10\", \"Topic10\", \"Topic10\", \"Topic10\", \"Topic10\", \"Topic10\", \"Topic10\", \"Topic10\", \"Topic10\", \"Topic10\", \"Topic10\", \"Topic10\", \"Topic10\", \"Topic10\", \"Topic10\", \"Topic10\", \"Topic10\", \"Topic10\", \"Topic10\", \"Topic10\", \"Topic10\", \"Topic10\", \"Topic10\", \"Topic10\", \"Topic10\", \"Topic10\", \"Topic10\", \"Topic10\", \"Topic10\", \"Topic10\", \"Topic10\", \"Topic10\", \"Topic10\", \"Topic10\", \"Topic10\", \"Topic10\", \"Topic10\", \"Topic10\", \"Topic10\", \"Topic10\", \"Topic10\", \"Topic10\", \"Topic10\", \"Topic11\", \"Topic11\", \"Topic11\", \"Topic11\", \"Topic11\", \"Topic11\", \"Topic11\", \"Topic11\", \"Topic11\", \"Topic11\", \"Topic11\", \"Topic11\", \"Topic11\", \"Topic11\", \"Topic11\", \"Topic11\", \"Topic11\", \"Topic11\", \"Topic11\", \"Topic11\", \"Topic11\", \"Topic11\", \"Topic11\", \"Topic11\", \"Topic11\", \"Topic11\", \"Topic11\", \"Topic11\", \"Topic11\", \"Topic11\", \"Topic11\", \"Topic11\", \"Topic11\", \"Topic11\", \"Topic11\", \"Topic11\", \"Topic11\", \"Topic11\", \"Topic11\", \"Topic11\", \"Topic11\", \"Topic11\", \"Topic11\", \"Topic11\", \"Topic11\", \"Topic11\", \"Topic11\", \"Topic11\", \"Topic11\", \"Topic11\", \"Topic11\", \"Topic11\", \"Topic11\", \"Topic12\", \"Topic12\", \"Topic12\", \"Topic12\", \"Topic12\", \"Topic12\", \"Topic12\", \"Topic12\", \"Topic12\", \"Topic12\", \"Topic12\", \"Topic12\", \"Topic12\", \"Topic12\", \"Topic12\", \"Topic12\", \"Topic12\", \"Topic12\", \"Topic12\", \"Topic12\", \"Topic12\", \"Topic12\", \"Topic12\", \"Topic12\", \"Topic12\", \"Topic12\", \"Topic12\", \"Topic12\", \"Topic12\", \"Topic12\", \"Topic12\", \"Topic12\", \"Topic12\", \"Topic12\", \"Topic12\", \"Topic12\", \"Topic12\", \"Topic12\", \"Topic12\", \"Topic12\", \"Topic12\", \"Topic12\", \"Topic12\", \"Topic12\", \"Topic12\", \"Topic12\", \"Topic12\", \"Topic12\", \"Topic12\", \"Topic12\", \"Topic12\", \"Topic12\", \"Topic13\", \"Topic13\", \"Topic13\", \"Topic13\", \"Topic13\", \"Topic13\", \"Topic13\", \"Topic13\", \"Topic13\", \"Topic13\", \"Topic13\", \"Topic13\", \"Topic13\", \"Topic13\", \"Topic13\", \"Topic13\", \"Topic13\", \"Topic13\", \"Topic13\", \"Topic13\", \"Topic13\", \"Topic13\", \"Topic13\", \"Topic13\", \"Topic13\", \"Topic13\", \"Topic13\", \"Topic13\", \"Topic13\", \"Topic13\", \"Topic13\", \"Topic13\", \"Topic13\", \"Topic13\", \"Topic13\", \"Topic13\", \"Topic13\", \"Topic13\", \"Topic13\", \"Topic13\", \"Topic13\", \"Topic13\", \"Topic13\", \"Topic13\", \"Topic13\", \"Topic13\", \"Topic13\", \"Topic13\", \"Topic13\", \"Topic13\", \"Topic13\", \"Topic13\", \"Topic13\", \"Topic13\", \"Topic13\", \"Topic13\", \"Topic13\", \"Topic13\", \"Topic13\", \"Topic13\", \"Topic13\", \"Topic13\", \"Topic13\", \"Topic14\", \"Topic14\", \"Topic14\", \"Topic14\", \"Topic14\", \"Topic14\", \"Topic14\", \"Topic14\", \"Topic14\", \"Topic14\", \"Topic14\", \"Topic14\", \"Topic14\", \"Topic14\", \"Topic14\", \"Topic14\", \"Topic14\", \"Topic14\", \"Topic14\", \"Topic14\", \"Topic14\", \"Topic14\", \"Topic14\", \"Topic14\", \"Topic14\", \"Topic14\", \"Topic14\", \"Topic14\", \"Topic14\", \"Topic14\", \"Topic14\", \"Topic14\", \"Topic14\", \"Topic14\", \"Topic14\", \"Topic14\", \"Topic14\", \"Topic14\", \"Topic14\", \"Topic14\", \"Topic14\", \"Topic14\", \"Topic14\", \"Topic14\", \"Topic14\", \"Topic14\", \"Topic14\", \"Topic14\", \"Topic14\", \"Topic14\", \"Topic14\", \"Topic14\", \"Topic14\", \"Topic14\", \"Topic14\", \"Topic14\", \"Topic14\", \"Topic14\", \"Topic14\", \"Topic14\", \"Topic15\", \"Topic15\", \"Topic15\", \"Topic15\", \"Topic15\", \"Topic15\", \"Topic15\", \"Topic15\", \"Topic15\", \"Topic15\", \"Topic15\", \"Topic15\", \"Topic15\", \"Topic15\", \"Topic15\", \"Topic15\", \"Topic15\", \"Topic15\", \"Topic15\", \"Topic15\", \"Topic15\", \"Topic15\", \"Topic15\", \"Topic15\", \"Topic15\", \"Topic15\", \"Topic15\", \"Topic15\", \"Topic15\", \"Topic15\", \"Topic15\", \"Topic15\", \"Topic15\", \"Topic15\", \"Topic15\", \"Topic15\", \"Topic15\", \"Topic15\", \"Topic15\", \"Topic15\", \"Topic15\", \"Topic15\", \"Topic15\", \"Topic15\", \"Topic15\", \"Topic15\", \"Topic15\", \"Topic15\", \"Topic15\", \"Topic15\", \"Topic15\", \"Topic16\", \"Topic16\", \"Topic16\", \"Topic16\", \"Topic16\", \"Topic16\", \"Topic16\", \"Topic16\", \"Topic16\", \"Topic16\", \"Topic16\", \"Topic16\", \"Topic16\", \"Topic16\", \"Topic16\", \"Topic16\", \"Topic16\", \"Topic16\", \"Topic16\", \"Topic16\", \"Topic16\", \"Topic16\", \"Topic16\", \"Topic16\", \"Topic16\", \"Topic16\", \"Topic16\", \"Topic16\", \"Topic16\", \"Topic16\", \"Topic16\", \"Topic16\", \"Topic16\", \"Topic16\", \"Topic16\", \"Topic16\", \"Topic16\", \"Topic16\", \"Topic16\", \"Topic16\", \"Topic16\", \"Topic16\", \"Topic16\", \"Topic16\", \"Topic16\", \"Topic16\", \"Topic16\", \"Topic16\", \"Topic16\", \"Topic16\", \"Topic16\", \"Topic16\", \"Topic16\", \"Topic16\", \"Topic16\", \"Topic16\", \"Topic16\", \"Topic17\", \"Topic17\", \"Topic17\", \"Topic17\", \"Topic17\", \"Topic17\", \"Topic17\", \"Topic17\", \"Topic17\", \"Topic17\", \"Topic17\", \"Topic17\", \"Topic17\", \"Topic17\", \"Topic17\", \"Topic17\", \"Topic17\", \"Topic17\", \"Topic17\", \"Topic17\", \"Topic17\", \"Topic17\", \"Topic17\", \"Topic17\", \"Topic17\", \"Topic17\", \"Topic17\", \"Topic17\", \"Topic17\", \"Topic17\", \"Topic17\", \"Topic17\", \"Topic17\", \"Topic17\", \"Topic17\", \"Topic17\", \"Topic17\", \"Topic17\", \"Topic17\", \"Topic17\", \"Topic17\", \"Topic17\", \"Topic17\", \"Topic17\", \"Topic17\", \"Topic17\", \"Topic17\", \"Topic17\", \"Topic17\", \"Topic17\", \"Topic17\", \"Topic17\", \"Topic18\", \"Topic18\", \"Topic18\", \"Topic18\", \"Topic18\", \"Topic18\", \"Topic18\", \"Topic18\", \"Topic18\", \"Topic18\", \"Topic18\", \"Topic18\", \"Topic18\", \"Topic18\", \"Topic18\", \"Topic18\", \"Topic18\", \"Topic18\", \"Topic18\", \"Topic18\", \"Topic18\", \"Topic18\", \"Topic18\", \"Topic18\", \"Topic18\", \"Topic18\", \"Topic18\", \"Topic18\", \"Topic18\", \"Topic18\", \"Topic18\", \"Topic18\", \"Topic18\", \"Topic18\", \"Topic18\", \"Topic18\", \"Topic18\", \"Topic18\", \"Topic18\", \"Topic18\", \"Topic18\", \"Topic18\", \"Topic18\", \"Topic18\", \"Topic18\", \"Topic18\", \"Topic18\", \"Topic18\", \"Topic18\", \"Topic18\", \"Topic18\", \"Topic18\", \"Topic18\", \"Topic18\", \"Topic18\", \"Topic18\", \"Topic18\", \"Topic18\", \"Topic18\", \"Topic18\", \"Topic18\", \"Topic18\", \"Topic19\", \"Topic19\", \"Topic19\", \"Topic19\", \"Topic19\", \"Topic19\", \"Topic19\", \"Topic19\", \"Topic19\", \"Topic19\", \"Topic19\", \"Topic19\", \"Topic19\", \"Topic19\", \"Topic19\", \"Topic19\", \"Topic19\", \"Topic19\", \"Topic19\", \"Topic19\", \"Topic19\", \"Topic19\", \"Topic19\", \"Topic19\", \"Topic19\", \"Topic19\", \"Topic19\", \"Topic19\", \"Topic19\", \"Topic19\", \"Topic19\", \"Topic19\", \"Topic19\", \"Topic19\", \"Topic19\", \"Topic19\", \"Topic19\", \"Topic19\", \"Topic19\", \"Topic19\", \"Topic19\", \"Topic19\", \"Topic19\", \"Topic19\", \"Topic19\", \"Topic19\", \"Topic19\", \"Topic19\", \"Topic19\", \"Topic19\", \"Topic19\", \"Topic19\", \"Topic19\", \"Topic19\", \"Topic19\", \"Topic20\", \"Topic20\", \"Topic20\", \"Topic20\", \"Topic20\", \"Topic20\", \"Topic20\", \"Topic20\", \"Topic20\", \"Topic20\", \"Topic20\", \"Topic20\", \"Topic20\", \"Topic20\", \"Topic20\", \"Topic20\", \"Topic20\", \"Topic20\", \"Topic20\", \"Topic20\", \"Topic20\", \"Topic20\", \"Topic20\", \"Topic20\", \"Topic20\", \"Topic20\", \"Topic20\", \"Topic20\", \"Topic20\", \"Topic20\", \"Topic20\", \"Topic20\", \"Topic20\", \"Topic20\", \"Topic20\", \"Topic20\", \"Topic20\", \"Topic20\", \"Topic20\", \"Topic20\", \"Topic20\", \"Topic20\", \"Topic20\", \"Topic20\", \"Topic20\", \"Topic20\", \"Topic20\", \"Topic20\", \"Topic20\", \"Topic20\", \"Topic20\", \"Topic20\", \"Topic20\", \"Topic20\", \"Topic20\", \"Topic20\", \"Topic20\"], \"logprob\": [30.0, 29.0, 28.0, 27.0, 26.0, 25.0, 24.0, 23.0, 22.0, 21.0, 20.0, 19.0, 18.0, 17.0, 16.0, 15.0, 14.0, 13.0, 12.0, 11.0, 10.0, 9.0, 8.0, 7.0, 6.0, 5.0, 4.0, 3.0, 2.0, 1.0, -0.6766999959945679, -1.1921000480651855, -3.1143999099731445, -3.493499994277954, -3.494800090789795, -3.877000093460083, -4.844099998474121, -5.745200157165527, -6.336900234222412, -6.534999847412109, -7.689499855041504, -8.769200325012207, -12.91189956665039, -13.532999992370605, -13.53339958190918, -13.53339958190918, -13.53339958190918, -13.533499717712402, -13.533300399780273, -13.533499717712402, -13.53339958190918, -13.533599853515625, -13.533599853515625, -13.533599853515625, -13.533599853515625, -13.533499717712402, -13.533300399780273, -13.533499717712402, -13.533599853515625, -13.533599853515625, -13.530099868774414, -13.532699584960938, -13.533300399780273, -13.533100128173828, -13.533499717712402, -13.532999992370605, -13.53320026397705, -13.533300399780273, -13.530400276184082, -13.53339958190918, -13.53339958190918, -13.532600402832031, -13.533300399780273, -13.533300399780273, -13.533300399780273, -13.53339958190918, -13.531000137329102, -13.531700134277344, -13.532299995422363, -13.532999992370605, -13.532999992370605, -13.533100128173828, -13.533100128173828, -13.53320026397705, -13.53320026397705, -13.53320026397705, -0.9556999802589417, -1.3321000337600708, -1.6348999738693237, -3.245500087738037, -3.928100109100342, -5.262199878692627, -6.44950008392334, -7.240600109100342, -7.715400218963623, -7.724400043487549, -7.772500038146973, -12.901599884033203, -12.901900291442871, -12.901900291442871, -12.902099609375, -12.902099609375, -12.902000427246094, -12.902099609375, -12.902000427246094, -12.902199745178223, -12.902099609375, -12.901800155639648, -12.902099609375, -12.902099609375, -12.901900291442871, -12.902199745178223, -12.902199745178223, -12.902199745178223, -12.902199745178223, -12.902199745178223, -12.902099609375, -12.899100303649902, -12.902099609375, -12.898799896240234, -12.901100158691406, -12.90149974822998, -12.901900291442871, -12.902099609375, -12.902000427246094, -9.293700218200684, -9.950799942016602, -12.902000427246094, -12.899700164794922, -12.899800300598145, -12.900899887084961, -12.90149974822998, -12.901700019836426, -12.901800155639648, -12.901900291442871, -0.5909000039100647, -1.38510000705719, -3.198699951171875, -3.68179988861084, -4.367400169372559, -4.894400119781494, -5.8582000732421875, -12.715299606323242, -12.718400001525879, -12.718899726867676, -12.71969985961914, -12.719400405883789, -12.719799995422363, -12.71969985961914, -12.719599723815918, -12.719599723815918, -12.719900131225586, -12.719799995422363, -12.719900131225586, -12.719900131225586, -12.720000267028809, -12.720000267028809, -12.720000267028809, -12.719799995422363, -12.720000267028809, -12.719900131225586, -12.719300270080566, -12.720000267028809, -12.720000267028809, -12.719900131225586, -12.719599723815918, -12.71969985961914, -12.719799995422363, -12.71969985961914, -12.71969985961914, -12.71969985961914, -12.71969985961914, -12.719799995422363, -12.719799995422363, -12.717599868774414, -12.719599723815918, -12.719599723815918, -12.719799995422363, -10.008500099182129, -12.719799995422363, -12.71969985961914, -12.717700004577637, -12.71780014038086, -12.718899726867676, -12.719099998474121, -12.719099998474121, -12.719400405883789, -12.719400405883789, -12.719599723815918, -12.719599723815918, -12.719599723815918, -12.719599723815918, -1.3912999629974365, -1.555999994277954, -2.4964001178741455, -2.5950000286102295, -2.6635000705718994, -2.9776999950408936, -3.329900026321411, -3.4732000827789307, -3.6805999279022217, -3.8812999725341797, -4.246200084686279, -4.448599815368652, -5.293900012969971, -6.3171000480651855, -12.622699737548828, -12.623299598693848, -12.626999855041504, -12.627099990844727, -12.626500129699707, -12.626899719238281, -12.627300262451172, -12.627099990844727, -12.62720012664795, -12.6274995803833, -12.627300262451172, -12.627400398254395, -12.627400398254395, -12.627400398254395, -12.627300262451172, -12.6274995803833, -12.62720012664795, -12.627099990844727, -12.626199722290039, -12.626999855041504, -12.626999855041504, -12.627099990844727, -12.62720012664795, -12.626999855041504, -12.62720012664795, -12.625100135803223, -12.62559986114502, -12.626099586486816, -12.62660026550293, -12.626700401306152, -12.626899719238281, -12.626899719238281, -12.626999855041504, -0.9264000058174133, -2.121000051498413, -2.1805999279022217, -2.4941999912261963, -3.016400098800659, -3.459399938583374, -3.4697000980377197, -4.355599880218506, -4.48199987411499, -4.4903998374938965, -4.542300224304199, -6.715000152587891, -6.922999858856201, -7.636600017547607, -12.532500267028809, -12.535799980163574, -12.535599708557129, -12.535900115966797, -12.535900115966797, -12.535799980163574, -12.535699844360352, -12.534799575805664, -12.53600025177002, -12.536100387573242, -12.536100387573242, -12.536199569702148, -12.536100387573242, -12.536199569702148, -12.536100387573242, -12.536199569702148, -12.535900115966797, -12.535799980163574, -12.535900115966797, -12.53600025177002, -12.533100128173828, -12.535699844360352, -12.53600025177002, -12.535499572753906, -12.535900115966797, -12.534099578857422, -12.534299850463867, -12.53439998626709, -12.534899711608887, -12.535400390625, -12.535499572753906, -12.535499572753906, -12.535799980163574, -0.8666999936103821, -2.2437000274658203, -2.365999937057495, -2.4763998985290527, -2.9238998889923096, -3.3589000701904297, -3.571899890899658, -12.199399948120117, -12.20259952545166, -12.201700210571289, -12.20300006866455, -12.202899932861328, -12.202799797058105, -12.202899932861328, -12.20300006866455, -12.203100204467773, -12.203200340270996, -12.203200340270996, -12.202799797058105, -12.203200340270996, -12.203100204467773, -12.203200340270996, -12.203200340270996, -12.20300006866455, -12.203100204467773, -12.203200340270996, -12.203200340270996, -12.202899932861328, -12.203200340270996, -12.20300006866455, -12.202699661254883, -12.20300006866455, -12.202300071716309, -12.20300006866455, -12.199799537658691, -12.20300006866455, -12.203100204467773, -12.202899932861328, -12.20300006866455, -12.202799797058105, -12.20300006866455, -12.20300006866455, -12.202799797058105, -12.20300006866455, -12.20300006866455, -12.200300216674805, -12.201299667358398, -12.201499938964844, -12.20199966430664, -12.202500343322754, -12.20259952545166, -12.202699661254883, -12.202699661254883, -12.202699661254883, -12.202799797058105, -12.202799797058105, -12.202799797058105, -12.202799797058105, -1.125, -1.5484999418258667, -1.736299991607666, -3.2702999114990234, -3.290600061416626, -3.7416000366210938, -5.134500026702881, -5.211400032043457, -12.217000007629395, -12.214599609375, -12.215100288391113, -12.218299865722656, -12.218400001525879, -12.218400001525879, -12.218500137329102, -12.218000411987305, -12.218600273132324, -12.218500137329102, -12.218600273132324, -12.218600273132324, -12.218700408935547, -12.218600273132324, -12.218600273132324, -12.218700408935547, -12.218500137329102, -12.218700408935547, -12.218400001525879, -12.218600273132324, -12.218700408935547, -12.218500137329102, -12.217700004577637, -12.218400001525879, -12.218299865722656, -12.218299865722656, -12.218500137329102, -12.218199729919434, -12.218400001525879, -12.218400001525879, -12.218500137329102, -12.218299865722656, -12.218400001525879, -12.218299865722656, -12.218500137329102, -12.218500137329102, -12.218500137329102, -12.215800285339355, -12.216699600219727, -12.21679973602295, -12.217700004577637, -12.218000411987305, -12.218099594116211, -12.218099594116211, -12.218099594116211, -12.218199729919434, -12.218199729919434, -12.218199729919434, -12.218299865722656, -0.30160000920295715, -2.836699962615967, -12.082599639892578, -12.083700180053711, -12.083800315856934, -12.083700180053711, -12.083900451660156, -12.083999633789062, -12.083999633789062, -12.083900451660156, -12.083700180053711, -12.083600044250488, -12.084099769592285, -12.083999633789062, -12.083999633789062, -12.083999633789062, -12.083999633789062, -12.083999633789062, -12.083999633789062, -12.083999633789062, -12.083999633789062, -12.083900451660156, -12.083999633789062, -12.083999633789062, -12.084099769592285, -12.084099769592285, -12.083999633789062, -12.084099769592285, -12.083999633789062, -12.084099769592285, -12.083800315856934, -12.083900451660156, -12.083999633789062, -12.083800315856934, -12.080499649047852, -12.083200454711914, -12.083600044250488, -12.083900451660156, -12.083999633789062, -12.083700180053711, -12.083700180053711, -12.083900451660156, -12.083800315856934, -12.081500053405762, -12.083600044250488, -12.083900451660156, -12.083800315856934, -12.083900451660156, -12.083900451660156, -12.083900451660156, -12.083900451660156, -12.083900451660156, -12.081299781799316, -12.081500053405762, -12.082300186157227, -12.082599639892578, -12.083399772644043, -12.083499908447266, -12.083499908447266, -12.083600044250488, -12.083600044250488, -12.083700180053711, -12.083700180053711, -12.083800315856934, -1.2645000219345093, -1.5865000486373901, -2.5905001163482666, -2.8877999782562256, -2.9809000492095947, -3.048799991607666, -3.808000087738037, -4.073999881744385, -4.517899990081787, -5.124899864196777, -5.186399936676025, -5.598800182342529, -6.3302001953125, -12.010299682617188, -12.0108003616333, -12.0108003616333, -12.007200241088867, -12.010700225830078, -12.010899543762207, -12.01099967956543, -12.010899543762207, -12.010899543762207, -12.0108003616333, -12.010899543762207, -12.01099967956543, -12.01099967956543, -12.010600090026855, -12.011099815368652, -12.010700225830078, -12.011099815368652, -12.010899543762207, -12.0108003616333, -12.010700225830078, -12.0108003616333, -12.010700225830078, -12.009900093078613, -12.010600090026855, -12.008399963378906, -12.010299682617188, -12.0108003616333, -12.0108003616333, -12.0108003616333, -12.008899688720703, -12.008999824523926, -12.009400367736816, -12.009599685668945, -12.010100364685059, -12.010199546813965, -12.01039981842041, -12.010600090026855, -12.010600090026855, -1.055299997329712, -2.0113000869750977, -2.0462000370025635, -2.791599988937378, -3.1422998905181885, -4.053500175476074, -4.082900047302246, -4.181399822235107, -4.509099960327148, -9.02869987487793, -11.876199722290039, -11.976200103759766, -11.976300239562988, -11.9798002243042, -11.980199813842773, -11.980299949645996, -11.980500221252441, -11.980400085449219, -11.980500221252441, -11.980199813842773, -11.980400085449219, -11.980500221252441, -11.980500221252441, -11.980400085449219, -11.980600357055664, -11.980400085449219, -11.980500221252441, -11.980299949645996, -11.980600357055664, -11.980500221252441, -11.980500221252441, -11.979700088500977, -11.980400085449219, -11.98009967803955, -11.979399681091309, -11.98009967803955, -11.980400085449219, -11.980299949645996, -11.980299949645996, -11.980299949645996, -11.980299949645996, -11.980299949645996, -11.980400085449219, -10.501099586486816, -11.977499961853027, -11.978599548339844, -11.979299545288086, -11.9798002243042, -11.9798002243042, -11.979999542236328, -11.98009967803955, -11.980199813842773, -11.980199813842773, -1.3361999988555908, -1.9749000072479248, -2.065200090408325, -2.6219000816345215, -3.2887001037597656, -4.04610013961792, -4.129799842834473, -4.155600070953369, -4.343999862670898, -5.026700019836426, -5.560699939727783, -6.910099983215332, -7.526500225067139, -11.725600242614746, -11.729000091552734, -11.728400230407715, -11.729299545288086, -11.729599952697754, -11.729399681091309, -11.729700088500977, -11.729599952697754, -11.729700088500977, -11.729599952697754, -11.729499816894531, -11.729700088500977, -11.7298002243042, -11.729700088500977, -11.729700088500977, -11.7298002243042, -11.7298002243042, -11.729700088500977, -11.728899955749512, -11.729599952697754, -11.729599952697754, -11.726400375366211, -11.729399681091309, -11.729399681091309, -11.729499816894531, -11.729599952697754, -11.729499816894531, -11.729599952697754, -11.729499816894531, -11.729499816894531, -11.72760009765625, -11.72760009765625, -11.728300094604492, -11.728699684143066, -11.728899955749512, -11.729000091552734, -11.729000091552734, -11.72920036315918, -11.72920036315918, -11.72920036315918, -0.6953999996185303, -2.3417000770568848, -3.2555999755859375, -3.6426000595092773, -4.467599868774414, -4.749599933624268, -4.900000095367432, -5.170400142669678, -5.969399929046631, -6.345900058746338, -6.924499988555908, -8.062999725341797, -11.678199768066406, -11.681099891662598, -11.68220043182373, -11.682299613952637, -11.68239974975586, -11.682100296020508, -11.682499885559082, -11.68239974975586, -11.68239974975586, -11.682499885559082, -11.68239974975586, -11.682499885559082, -11.682499885559082, -11.682499885559082, -11.68239974975586, -11.682499885559082, -11.682100296020508, -11.682499885559082, -11.682299613952637, -11.68220043182373, -11.682100296020508, -11.681699752807617, -11.679499626159668, -11.682299613952637, -11.68239974975586, -11.682299613952637, -11.682299613952637, -11.68220043182373, -11.682299613952637, -11.682299613952637, -11.679699897766113, -11.680299758911133, -11.680899620056152, -11.681300163269043, -11.681699752807617, -11.68179988861084, -11.682000160217285, -11.682000160217285, -11.682100296020508, -11.682100296020508, -0.5684000253677368, -2.1630001068115234, -5.45989990234375, -11.638999938964844, -11.640199661254883, -11.640399932861328, -11.640399932861328, -11.640399932861328, -11.640399932861328, -11.64009952545166, -11.640399932861328, -11.640600204467773, -11.64050006866455, -11.640600204467773, -11.640700340270996, -11.640600204467773, -11.640600204467773, -11.640700340270996, -11.640600204467773, -11.640600204467773, -11.640600204467773, -11.640399932861328, -11.640600204467773, -11.640700340270996, -11.64050006866455, -11.640700340270996, -11.640600204467773, -11.640700340270996, -11.640600204467773, -11.640700340270996, -11.64050006866455, -11.640399932861328, -11.640399932861328, -11.64050006866455, -11.639800071716309, -11.640199661254883, -11.640199661254883, -11.64050006866455, -11.637800216674805, -11.640399932861328, -11.640299797058105, -11.637700080871582, -11.640399932861328, -11.640399932861328, -11.640199661254883, -11.640399932861328, -11.64050006866455, -11.640399932861328, -11.64050006866455, -11.64050006866455, -11.637900352478027, -11.638699531555176, -11.638799667358398, -11.639100074768066, -11.639800071716309, -11.639900207519531, -11.640000343322754, -11.64009952545166, -11.640199661254883, -11.640199661254883, -11.640199661254883, -11.640299797058105, -11.640399932861328, -1.1971999406814575, -1.7696000337600708, -2.128000020980835, -2.8236000537872314, -4.0416998863220215, -11.586600303649902, -11.5871000289917, -11.5871000289917, -11.586899757385254, -11.587200164794922, -11.587300300598145, -11.587200164794922, -11.587400436401367, -11.587200164794922, -11.586899757385254, -11.587300300598145, -11.5871000289917, -11.587300300598145, -11.587300300598145, -11.587400436401367, -11.587300300598145, -11.5871000289917, -11.587300300598145, -11.587300300598145, -11.587400436401367, -11.587400436401367, -11.587400436401367, -11.587300300598145, -11.587300300598145, -11.587400436401367, -11.5871000289917, -11.58650016784668, -11.5871000289917, -11.5871000289917, -11.583999633789062, -11.587300300598145, -11.587200164794922, -11.584799766540527, -11.586999893188477, -11.58650016784668, -11.587200164794922, -11.587200164794922, -11.587200164794922, -11.587200164794922, -11.587200164794922, -11.587200164794922, -10.175000190734863, -11.584600448608398, -11.58549976348877, -11.586400032043457, -11.586600303649902, -11.586799621582031, -11.586999893188477, -11.586999893188477, -11.5871000289917, -11.5871000289917, -11.5871000289917, -11.5871000289917, -11.5871000289917, -11.5871000289917, -1.5499999523162842, -1.7879999876022339, -2.0810000896453857, -2.619999885559082, -2.831700086593628, -11.490099906921387, -11.493000030517578, -11.493499755859375, -11.49370002746582, -11.493800163269043, -11.49370002746582, -11.493900299072266, -11.493800163269043, -11.494000434875488, -11.493800163269043, -11.493599891662598, -11.493900299072266, -11.493800163269043, -11.494000434875488, -11.493599891662598, -11.494099617004395, -11.494000434875488, -11.492799758911133, -11.493900299072266, -11.494099617004395, -11.493800163269043, -11.494099617004395, -11.494099617004395, -11.493900299072266, -11.494099617004395, -11.493900299072266, -11.494099617004395, -11.494000434875488, -11.493499755859375, -11.490900039672852, -11.493800163269043, -11.493800163269043, -11.493900299072266, -11.493900299072266, -11.491299629211426, -11.492199897766113, -11.492500305175781, -11.49269962310791, -11.493399620056152, -11.493499755859375, -11.493499755859375, -11.493599891662598, -11.493599891662598, -11.493599891662598, -11.49370002746582, -11.493800163269043, -0.8899000287055969, -1.7900999784469604, -3.050600051879883, -4.997900009155273, -5.578199863433838, -7.324999809265137, -11.489999771118164, -11.49269962310791, -11.493900299072266, -11.494000434875488, -11.494099617004395, -11.493599891662598, -11.49429988861084, -11.49429988861084, -11.494000434875488, -11.494199752807617, -11.494199752807617, -11.494199752807617, -11.494199752807617, -11.494199752807617, -11.49429988861084, -11.494199752807617, -11.494199752807617, -11.49429988861084, -11.49429988861084, -11.494099617004395, -11.49429988861084, -11.49429988861084, -11.49429988861084, -11.494199752807617, -11.494099617004395, -11.490699768066406, -11.493900299072266, -11.494000434875488, -11.493900299072266, -11.494099617004395, -11.493900299072266, -11.494099617004395, -11.49370002746582, -11.494099617004395, -11.494099617004395, -11.494099617004395, -11.494199752807617, -11.494099617004395, -11.494199752807617, -11.492199897766113, -11.492199897766113, -11.492400169372559, -11.4931001663208, -11.493499755859375, -11.493599891662598, -11.493599891662598, -11.493800163269043, -11.493800163269043, -11.493900299072266, -11.494000434875488, -11.494000434875488, -1.4333000183105469, -2.0374999046325684, -2.053999900817871, -3.161900043487549, -3.8276000022888184, -4.071800231933594, -4.1869001388549805, -4.423799991607666, -11.408499717712402, -11.413100242614746, -11.4128999710083, -11.412799835205078, -11.412599563598633, -11.413100242614746, -11.413200378417969, -11.413000106811523, -11.413100242614746, -11.413299560546875, -11.4128999710083, -11.4128999710083, -11.413200378417969, -11.4128999710083, -11.413000106811523, -11.413200378417969, -11.413200378417969, -11.413200378417969, -11.413299560546875, -11.413000106811523, -11.413100242614746, -11.413299560546875, -11.412799835205078, -11.409899711608887, -11.412400245666504, -11.413000106811523, -11.412799835205078, -11.412199974060059, -11.413100242614746, -11.413100242614746, -11.413100242614746, -11.413100242614746, -11.410499572753906, -11.411299705505371, -11.411600112915039, -11.411999702453613, -11.412500381469727, -11.412500381469727, -11.412699699401855, -11.412699699401855, -11.412699699401855, -11.412799835205078, -11.4128999710083, -11.4128999710083, -1.554800033569336, -1.802899956703186, -2.0443999767303467, -3.045300006866455, -3.6517999172210693, -4.7947001457214355, -6.88670015335083, -11.37030029296875, -11.370599746704102, -11.370499610900879, -11.370400428771973, -11.370499610900879, -11.37030029296875, -11.370699882507324, -11.370699882507324, -11.370499610900879, -11.370699882507324, -11.370800018310547, -11.370800018310547, -11.370699882507324, -11.370800018310547, -11.370800018310547, -11.370699882507324, -11.370699882507324, -11.370800018310547, -11.370699882507324, -11.370699882507324, -11.370800018310547, -11.370800018310547, -11.370599746704102, -11.370699882507324, -11.370800018310547, -11.370599746704102, -11.370599746704102, -11.370200157165527, -11.367300033569336, -11.36769962310791, -11.369999885559082, -11.370599746704102, -11.370499610900879, -11.370599746704102, -11.370499610900879, -11.36989974975586, -11.370400428771973, -11.370599746704102, -11.370599746704102, -11.370599746704102, -11.370599746704102, -11.370599746704102, -11.370599746704102, -11.368399620056152, -11.36870002746582, -11.369600296020508, -11.369799613952637, -11.370100021362305, -11.370200157165527, -11.37030029296875, -11.37030029296875, -11.370400428771973, -11.370400428771973, -11.370400428771973, -11.370400428771973, -1.8356000185012817, -1.9539999961853027, -2.184499979019165, -2.6666998863220215, -2.7177999019622803, -4.150700092315674, -4.201399803161621, -9.276599884033203, -11.346199989318848, -11.347100257873535, -11.349800109863281, -11.350600242614746, -11.350600242614746, -11.350600242614746, -11.350700378417969, -11.350700378417969, -11.350799560546875, -11.350799560546875, -11.350799560546875, -11.350899696350098, -11.350700378417969, -11.3503999710083, -11.350799560546875, -11.350799560546875, -11.35099983215332, -11.350899696350098, -11.350799560546875, -11.350899696350098, -11.35099983215332, -11.35099983215332, -11.349599838256836, -11.350600242614746, -11.350700378417969, -11.350600242614746, -11.350700378417969, -11.350700378417969, -11.350299835205078, -11.350500106811523, -11.350600242614746, -11.350500106811523, -11.350600242614746, -11.350700378417969, -11.350700378417969, -11.348799705505371, -11.349100112915039, -11.349100112915039, -11.349800109863281, -11.350099563598633, -11.350199699401855, -11.350199699401855, -11.3503999710083, -11.3503999710083, -11.350500106811523, -11.350500106811523, -11.350600242614746, -0.8978000283241272, -2.4086999893188477, -2.756200075149536, -5.349899768829346, -7.627699851989746, -11.317899703979492, -11.318099975585938, -11.318099975585938, -11.317999839782715, -11.318300247192383, -11.317500114440918, -11.318400382995605, -11.318099975585938, -11.31820011138916, -11.318300247192383, -11.318300247192383, -11.318300247192383, -11.318400382995605, -11.318300247192383, -11.318400382995605, -11.318400382995605, -11.318300247192383, -11.318400382995605, -11.31820011138916, -11.318400382995605, -11.318499565124512, -11.318400382995605, -11.318300247192383, -11.318499565124512, -11.318300247192383, -11.314599990844727, -11.318099975585938, -11.31820011138916, -11.317299842834473, -11.31820011138916, -11.317999839782715, -11.317899703979492, -11.315600395202637, -11.318099975585938, -11.318300247192383, -11.31820011138916, -11.31820011138916, -11.318300247192383, -11.318300247192383, -11.316200256347656, -11.316200256347656, -11.316900253295898, -11.317000389099121, -11.31760025024414, -11.31779956817627, -11.31779956817627, -11.317899703979492, -11.317999839782715, -11.317999839782715, -11.318099975585938, -11.318099975585938, -11.318099975585938], \"loglift\": [30.0, 29.0, 28.0, 27.0, 26.0, 25.0, 24.0, 23.0, 22.0, 21.0, 20.0, 19.0, 18.0, 17.0, 16.0, 15.0, 14.0, 13.0, 12.0, 11.0, 10.0, 9.0, 8.0, 7.0, 6.0, 5.0, 4.0, 3.0, 2.0, 1.0, 2.7175, 2.7174, 2.7154, 2.7143, 2.7143, 2.7127, 2.7047, 2.6859, 2.661, 2.649, 2.5143, 2.2084, -1.0392, -1.6501, -1.6501, -1.6501, -1.6501, -1.6501, -1.6501, -1.6501, -1.6501, -1.6501, -1.6501, -1.6501, -1.6501, -1.6501, -1.6501, -1.6501, -1.6501, -1.6501, -1.6501, -1.6501, -1.6501, -1.6502, -1.6501, -1.6502, -1.6502, -1.6502, -1.6508, -1.6502, -1.6502, -1.6505, -1.6502, -1.6502, -1.6503, -1.6503, -7.6291, -10.029, -9.3123, -9.0102, -9.6892, -9.4611, -9.6701, -9.2365, -10.2295, -9.6525, 2.8881, 2.8879, 2.8878, 2.8853, 2.8823, 2.8653, 2.8144, 2.7318, 2.6474, 2.6455, 2.6349, -1.0188, -1.0188, -1.0188, -1.0188, -1.0188, -1.0188, -1.0188, -1.0188, -1.0188, -1.0188, -1.0188, -1.0188, -1.0188, -1.0188, -1.0188, -1.0188, -1.0188, -1.0188, -1.0188, -1.0188, -1.0191, -1.0189, -1.0193, -1.019, -1.019, -1.0189, -1.0189, -1.0189, -5.4131, -4.7028, -1.019, -6.9978, -9.5056, -9.3982, -8.992, -8.6051, -9.0388, -9.5982, 2.9118, 2.9115, 2.909, 2.9071, 2.9023, 2.8956, 2.8695, -0.8358, -0.8363, -0.8364, -0.8365, -0.8365, -0.8365, -0.8365, -0.8365, -0.8365, -0.8365, -0.8365, -0.8365, -0.8365, -0.8365, -0.8365, -0.8365, -0.8365, -0.8365, -0.8365, -0.8365, -0.8365, -0.8365, -0.8365, -0.8365, -0.8365, -0.8365, -0.8365, -0.8366, -0.8366, -0.8366, -0.8366, -0.8365, -0.8376, -0.8366, -0.8366, -0.8366, -5.4063, -0.8366, -0.8367, -6.8159, -9.3237, -8.4989, -8.1964, -8.8096, -8.8756, -8.8564, -9.1026, -8.6476, -8.839, -9.4159, 2.9261, 2.926, 2.9251, 2.9249, 2.9248, 2.9241, 2.9231, 2.9225, 2.9216, 2.9205, 2.9179, 2.9159, 2.9019, 2.8593, -0.7431, -0.7433, -0.7439, -0.7439, -0.744, -0.744, -0.744, -0.744, -0.744, -0.744, -0.744, -0.744, -0.744, -0.744, -0.744, -0.744, -0.744, -0.744, -0.7441, -0.744, -0.7441, -0.7441, -0.7441, -0.7442, -0.7441, -9.2309, -9.123, -8.4061, -8.1039, -8.7172, -8.3303, -9.3232, -8.7832, 2.9542, 2.9537, 2.9537, 2.9533, 2.9522, 2.9507, 2.9507, 2.9448, 2.9435, 2.9434, 2.9428, 2.8538, 2.8318, 2.718, -0.6525, -0.6526, -0.6527, -0.6527, -0.6527, -0.6527, -0.6527, -0.6527, -0.6527, -0.6527, -0.6527, -0.6527, -0.6527, -0.6527, -0.6527, -0.6527, -0.6528, -0.6528, -0.6528, -0.6528, -0.6536, -0.6529, -0.6528, -0.653, -0.653, -9.1399, -6.6324, -9.0317, -8.315, -8.6259, -8.2388, -8.0128, -8.6919, 2.9963, 2.9954, 2.9952, 2.9951, 2.9942, 2.9928, 2.9919, -0.3194, -0.3196, -0.3196, -0.3197, -0.3197, -0.3197, -0.3197, -0.3197, -0.3197, -0.3197, -0.3197, -0.3197, -0.3197, -0.3197, -0.3197, -0.3197, -0.3197, -0.3197, -0.3197, -0.3197, -0.3197, -0.3197, -0.3197, -0.3198, -0.3197, -0.3198, -0.3198, -0.3202, -0.3198, -0.3198, -0.3198, -0.3198, -0.3199, -0.3198, -0.3198, -0.32, -0.3198, -0.3199, -6.2985, -8.8071, -8.6988, -7.982, -8.293, -7.6799, -8.8989, -8.322, -8.5858, -7.9062, -8.359, -7.7208, -8.1308, 2.9965, 2.9963, 2.9962, 2.9934, 2.9934, 2.9913, 2.9746, 2.9728, -0.3349, -0.3351, -0.3351, -0.3351, -0.3352, -0.3352, -0.3352, -0.3352, -0.3352, -0.3352, -0.3352, -0.3352, -0.3352, -0.3352, -0.3352, -0.3352, -0.3352, -0.3352, -0.3352, -0.3352, -0.3352, -0.3352, -0.3352, -0.3352, -0.3352, -0.3352, -0.3352, -0.3353, -0.3352, -0.3353, -0.3352, -0.3353, -0.3353, -0.3354, -0.3353, -0.3353, -0.3353, -6.314, -8.7141, -8.8227, -7.9978, -7.6953, -8.9143, -8.3087, -7.9215, -8.3375, -8.3744, -8.3552, -7.7363, 3.0021, 3.0, -0.2005, -0.2005, -0.2006, -0.2006, -0.2006, -0.2006, -0.2006, -0.2006, -0.2006, -0.2006, -0.2006, -0.2006, -0.2006, -0.2006, -0.2006, -0.2006, -0.2006, -0.2006, -0.2006, -0.2006, -0.2006, -0.2006, -0.2006, -0.2006, -0.2006, -0.2006, -0.2006, -0.2006, -0.2006, -0.2006, -0.2006, -0.2006, -0.201, -0.2007, -0.2007, -0.2006, -0.2006, -0.2007, -0.2007, -0.2006, -0.2007, -0.2015, -0.2008, -0.2007, -0.2007, -0.2007, -0.2007, -0.2007, -0.2007, -0.2008, -6.1794, -8.6874, -8.5796, -7.8626, -7.7868, -7.5607, -8.174, -7.6016, -8.4667, -8.2207, -8.2399, -7.7665, 3.0162, 3.0158, 3.0149, 3.0143, 3.0141, 3.0139, 3.0107, 3.0088, 3.0044, 2.9943, 2.9929, 2.9809, 2.9437, -0.1275, -0.1276, -0.1276, -0.1276, -0.1276, -0.1276, -0.1276, -0.1276, -0.1276, -0.1276, -0.1276, -0.1276, -0.1276, -0.1276, -0.1276, -0.1276, -0.1276, -0.1276, -0.1276, -0.1276, -0.1276, -0.1277, -0.1278, -0.1277, -0.1284, -0.1278, -0.1277, -0.1277, -0.1278, -8.6147, -6.1071, -8.5068, -7.7897, -8.1006, -7.4875, -7.7138, -8.7069, -8.1668, 3.0168, 3.0162, 3.0161, 3.015, 3.014, 3.0094, 3.0092, 3.0084, 3.005, 2.2639, 0.0025, -0.0962, -0.0968, -0.097, -0.0971, -0.0971, -0.0971, -0.0971, -0.0971, -0.0971, -0.0971, -0.0971, -0.0971, -0.0971, -0.0971, -0.0971, -0.0971, -0.0971, -0.0971, -0.0971, -0.0971, -0.0971, -0.0971, -0.0971, -0.0973, -0.0972, -0.0971, -0.0972, -0.0972, -0.0972, -0.0972, -0.0973, -0.0972, -6.2811, -6.0756, -8.5844, -8.4766, -8.0703, -7.4571, -7.6834, -8.1363, -8.1172, -8.0996, 3.0435, 3.043, 3.0429, 3.0421, 3.0403, 3.0362, 3.0355, 3.0353, 3.0335, 3.0234, 3.009, 2.9155, 2.8176, 0.1544, 0.1538, 0.1537, 0.1537, 0.1537, 0.1537, 0.1537, 0.1537, 0.1537, 0.1537, 0.1537, 0.1537, 0.1537, 0.1537, 0.1537, 0.1537, 0.1537, 0.1537, 0.1536, 0.1536, 0.1536, 0.1532, 0.1536, 0.1536, 0.1536, 0.1536, 0.1536, 0.1536, 0.1536, 0.1535, -8.3334, -5.8258, -8.2256, -7.5087, -7.2062, -7.8195, -7.4324, -7.8854, -8.4255, -7.8662, 3.0472, 3.046, 3.0439, 3.0422, 3.0356, 3.0317, 3.0292, 3.0236, 2.9952, 2.9722, 2.917, 2.6864, 0.2014, 0.201, 0.2009, 0.2009, 0.2009, 0.2009, 0.2009, 0.2009, 0.2009, 0.2009, 0.2009, 0.2009, 0.2009, 0.2009, 0.2009, 0.2009, 0.2009, 0.2009, 0.2009, 0.2009, 0.2009, 0.2008, 0.2005, 0.2008, 0.2009, 0.2009, 0.2008, 0.2006, 0.2007, 0.2008, -5.7779, -8.2862, -8.1782, -7.4613, -7.159, -7.7723, -7.8382, -7.819, -7.3854, -8.3784, 3.0485, 3.0476, 3.0171, 0.2431, 0.2429, 0.2429, 0.2429, 0.2429, 0.2429, 0.2428, 0.2428, 0.2428, 0.2428, 0.2428, 0.2428, 0.2428, 0.2428, 0.2428, 0.2428, 0.2428, 0.2428, 0.2428, 0.2428, 0.2428, 0.2428, 0.2428, 0.2428, 0.2428, 0.2428, 0.2428, 0.2428, 0.2428, 0.2428, 0.2428, 0.2427, 0.2428, 0.2427, 0.2428, 0.2422, 0.2428, 0.2427, 0.2419, 0.2427, 0.2427, 0.2426, 0.2427, 0.2427, 0.2427, 0.2427, 0.2427, -5.7361, -8.136, -8.2447, -7.4192, -7.7303, -7.1172, -7.3434, -7.7963, -7.5681, -7.7772, -7.7596, -7.1583, -8.3366, 3.0484, 3.0481, 3.0478, 3.0466, 3.0412, 0.2962, 0.2961, 0.2961, 0.2961, 0.2961, 0.2961, 0.2961, 0.2961, 0.2961, 0.2961, 0.296, 0.296, 0.296, 0.296, 0.296, 0.296, 0.296, 0.296, 0.296, 0.296, 0.296, 0.296, 0.296, 0.296, 0.296, 0.296, 0.296, 0.296, 0.296, 0.2956, 0.296, 0.296, 0.2952, 0.2959, 0.2956, 0.296, 0.296, 0.296, 0.2959, 0.296, 0.2959, -6.6723, -8.1904, -5.6837, -7.3664, -7.6771, -7.0641, -7.2904, -7.724, -7.7064, -7.4655, -7.9701, -7.7433, -7.515, -7.1051, 3.055, 3.0548, 3.0546, 3.0538, 3.0533, 0.3899, 0.3895, 0.3895, 0.3894, 0.3894, 0.3894, 0.3894, 0.3894, 0.3894, 0.3894, 0.3894, 0.3894, 0.3894, 0.3894, 0.3893, 0.3893, 0.3893, 0.3893, 0.3893, 0.3893, 0.3893, 0.3893, 0.3893, 0.3893, 0.3893, 0.3893, 0.3893, 0.3893, 0.3893, 0.3887, 0.3893, 0.3892, 0.3892, 0.3892, -8.0972, -5.5903, -7.9899, -7.2727, -7.5839, -7.1969, -6.9708, -7.6129, -7.6498, -8.1899, -7.6307, -7.4217, 3.0559, 3.0554, 3.0533, 3.0362, 3.0207, 2.8679, 0.39, 0.3894, 0.3892, 0.3892, 0.3892, 0.3892, 0.3892, 0.3891, 0.3891, 0.3891, 0.3891, 0.3891, 0.3891, 0.3891, 0.3891, 0.3891, 0.3891, 0.3891, 0.3891, 0.3891, 0.3891, 0.3891, 0.3891, 0.3891, 0.3891, 0.3889, 0.3891, 0.3891, 0.3891, 0.3891, 0.3891, 0.389, 0.3888, 0.389, 0.3891, 0.3891, 0.3891, 0.389, 0.389, -7.9895, -5.5903, -8.0983, -7.2732, -7.1969, -7.5841, -6.9709, -7.6308, -8.1901, -7.6501, -7.877, -7.4219, 3.0623, 3.0618, 3.0618, 3.0597, 3.0566, 3.0549, 3.0539, 3.0515, 0.4711, 0.4702, 0.4702, 0.4702, 0.4702, 0.4702, 0.4702, 0.4702, 0.4702, 0.4702, 0.4702, 0.4702, 0.4702, 0.4702, 0.4702, 0.4702, 0.4702, 0.4702, 0.4702, 0.4702, 0.4702, 0.4702, 0.4702, 0.4701, 0.4701, 0.4702, 0.4701, 0.4699, 0.4701, 0.4701, 0.47, 0.4701, -5.5086, -7.9086, -8.0174, -7.192, -7.503, -6.8898, -8.1089, -7.1161, -7.5689, -7.5498, -7.3408, -7.796, 3.0634, 3.0632, 3.063, 3.0612, 3.0588, 3.0477, 2.9387, 0.5127, 0.5127, 0.5127, 0.5127, 0.5127, 0.5127, 0.5127, 0.5127, 0.5127, 0.5127, 0.5126, 0.5126, 0.5126, 0.5126, 0.5126, 0.5126, 0.5126, 0.5126, 0.5126, 0.5126, 0.5126, 0.5126, 0.5126, 0.5126, 0.5126, 0.5126, 0.5126, 0.5126, 0.5123, 0.5123, 0.5125, 0.5126, 0.5126, 0.5126, 0.5126, 0.5122, 0.5125, 0.5126, 0.5126, 0.5125, 0.5125, 0.5125, 0.5126, -5.4665, -7.9746, -7.8669, -7.1498, -7.4606, -7.5072, -7.5265, -6.8476, -7.0738, -6.8884, -8.0667, -7.4898, 3.0644, 3.0643, 3.0636, 3.0633, 3.0632, 3.0567, 3.0562, 2.1668, 0.5334, 0.5329, 0.5328, 0.5326, 0.5326, 0.5326, 0.5325, 0.5325, 0.5325, 0.5325, 0.5325, 0.5325, 0.5325, 0.5325, 0.5325, 0.5325, 0.5325, 0.5325, 0.5325, 0.5325, 0.5325, 0.5325, 0.5325, 0.5325, 0.5325, 0.5325, 0.5325, 0.5325, 0.5325, 0.5325, 0.5325, 0.5324, 0.5325, 0.5324, 0.5324, -7.9546, -7.8464, -5.4473, -7.1299, -7.0535, -6.8275, -7.4408, -7.4697, -7.5066, -7.2784, -7.7336, -8.0469, 3.0658, 3.0646, 3.064, 3.0379, 2.8198, 0.5651, 0.5651, 0.565, 0.565, 0.565, 0.565, 0.565, 0.565, 0.565, 0.565, 0.565, 0.565, 0.565, 0.565, 0.565, 0.565, 0.565, 0.565, 0.565, 0.565, 0.565, 0.565, 0.565, 0.565, 0.565, 0.565, 0.565, 0.565, 0.5648, 0.565, 0.5649, 0.5649, 0.5644, 0.5649, 0.565, 0.5649, 0.5649, 0.5649, 0.5649, -5.4143, -7.922, -7.0969, -7.8144, -6.7949, -7.0211, -7.4083, -7.4741, -7.2459, -8.0143, -7.4374, -7.1965, -6.8361]}, \"token.table\": {\"Topic\": [20, 5, 20, 20, 10, 20, 20, 17, 20, 20, 20, 20, 5, 20, 20, 20, 20, 12, 20, 20, 20, 20, 20, 20, 4, 20, 4, 20, 20, 18, 20, 10, 20, 2, 20, 7, 20, 20, 20, 15, 20, 20, 20, 20, 11, 20, 20, 12, 20, 20, 20, 3, 20, 18, 20, 18, 20, 20, 20, 20, 6, 20, 19, 20, 20, 5, 20, 15, 20, 20, 18, 20, 20, 8, 20, 20, 20, 20, 20, 20, 9, 20, 9, 20, 20, 20, 2, 20, 13, 20, 20, 20, 20, 20, 4, 20, 5, 20, 20, 9, 20, 20, 11, 20, 16, 20, 20, 4, 20, 11, 20, 20, 17, 20, 11, 20, 12, 20, 20, 20, 20, 20, 20, 20, 1, 20, 4, 20, 15, 20, 20, 20, 6, 20, 20, 9, 20, 13, 20, 20, 20, 20, 20, 14, 20, 20, 20, 20, 20, 3, 20, 20, 11, 20, 12, 20, 19, 20, 4, 20, 20, 20, 20, 20, 20, 20, 5, 20, 2, 20, 20, 9, 20, 20, 10, 20, 10, 20, 19, 20, 1, 20, 10, 20, 2, 20, 8, 20, 7, 20, 5, 20, 18, 20, 15, 20, 5, 20, 20, 1, 20, 16, 20, 11, 20, 15, 20, 9, 20, 4, 20, 12, 20, 20, 10, 20, 20, 20, 2, 10, 20, 20, 20, 20, 20, 19, 20, 20, 9, 20, 12, 20, 20, 20, 16, 20, 3, 9, 20, 20, 16, 20, 11, 20, 5, 20, 20, 20, 17, 20, 2, 19, 20, 20, 20, 4, 20, 9, 20, 4, 20, 16, 20, 20, 7, 20, 20, 20, 1, 20, 20, 20, 20, 20, 20, 4, 20, 1, 20, 20, 7, 20, 20, 6, 20, 17, 20, 12, 20, 20, 20, 19, 20, 3, 20, 20, 20, 9, 20, 12, 20, 17, 20, 4, 20, 2, 20, 10, 20, 10, 20, 20, 3, 20, 12, 20, 18, 20, 20, 20, 17, 20, 7, 20, 20, 4, 20, 10, 20, 2, 20, 20, 20, 4, 20, 5, 20, 19, 20, 20, 5, 20, 1, 20, 20, 20, 18, 20, 20, 3, 20, 11, 20, 20, 20, 20, 20, 2, 20, 2, 20, 10, 20, 12, 20, 9, 20, 1, 20, 20, 6, 20, 20, 20, 20, 1, 20, 1, 20, 1, 20, 11, 20, 20, 20, 20, 6, 20, 20, 5, 20, 7, 20, 20, 3, 14, 20, 1, 20, 20, 12, 20, 1, 20, 19, 20, 20, 14, 20, 20, 17, 20, 20, 20, 9, 20, 17, 20, 4, 20, 11, 20, 20, 20, 20, 14, 20, 20, 20, 20, 20, 20, 16, 20, 6, 20, 20, 5, 20, 20, 12, 20, 20, 3, 20, 11, 20, 14, 20, 7, 20, 2, 20, 9, 20, 20, 20, 20, 11, 20, 20, 14, 20, 20, 20, 20, 11, 20, 20, 20, 20, 2, 20, 20, 20, 5, 20, 7, 20, 20, 13, 20, 20, 20, 6, 20, 20, 20, 2, 5, 20, 20, 20], \"Freq\": [0.16061770053572058, 0.904534801196555, 0.015869031599939562, 0.16062569340007765, 0.44478962876867684, 0.08895792575373537, 0.1605765695248297, 0.9924560863156494, 0.00138032835370744, 0.16061462112865474, 0.16060748135396247, 0.16062275499954395, 0.9984156501836208, 0.00025745633063012396, 0.1605857821825979, 0.16061289388472744, 0.16061296540404452, 0.945348474256907, 0.008672921782173458, 0.16062638069977458, 0.16061835524893675, 0.160609841971485, 0.1606181650690194, 0.16057798623419392, 0.9976282895065911, 0.0004055399550839801, 0.9985724764001377, 0.0002508345833710469, 0.1605824814061807, 0.999307658363145, 0.00011234487446465936, 0.9920027613653998, 0.0013333370448459674, 0.9993854644604473, 0.00010211356538882674, 0.9768730600076884, 0.0036863134339912766, 0.1605997966442682, 0.16061309181445776, 0.9994116682221018, 0.00011087327138030861, 0.16061717150789903, 0.16062133739516346, 0.16061892853166637, 0.9920618574411667, 0.0014719018656397132, 0.16047334446216194, 0.9964689509297034, 0.0006035547855419161, 0.1606144211416123, 0.16062570569008097, 0.9581234292790508, 0.006843738780564649, 0.9825920830707021, 0.0028235404685939716, 0.9991146100441406, 0.00014394390002076655, 0.16061501739928474, 0.16061946890283912, 0.1606258087702027, 0.9952990869580853, 0.0007861762140269237, 0.9919933897954913, 0.0014962192907925964, 0.16062617045375385, 0.9988526004388074, 0.00017735308956654962, 0.9991962720730899, 0.00014063283210036451, 0.9983947912687013, 0.9989763691543715, 0.00018323117556022953, 0.1606162755658031, 0.9998212629786307, 3.017690640403932e-05, 0.16059544814750457, 0.1605971691083925, 0.16054504709833706, 0.16062732220021186, 0.16062072991733573, 0.9973922664188996, 0.0004763095828170485, 0.9995443077709019, 8.016234724283438e-05, 0.16062365710934204, 0.16062616061202373, 0.9967994205280764, 0.0005098718263570722, 0.999747877095886, 4.1277781878442855e-05, 0.16062499854638235, 0.16061261189206288, 0.16060061746099769, 0.16058355798700205, 0.9950165146119382, 0.0008169265308800806, 0.9958151729147197, 0.0006811321292166346, 0.16061929550329793, 0.933512123034081, 0.01181660915233014, 0.16061595658677663, 0.9995130651757712, 8.850731118177377e-05, 0.8294355314856877, 0.029622697553060275, 0.16061901654403957, 0.9967312849350097, 0.00057614525140752, 0.8821920976081267, 0.020516095293212248, 0.16060955071928285, 0.9988913097937961, 0.00018477456710947027, 0.9897976049901877, 0.0017738308333157483, 0.8755570187533561, 0.020846595684603716, 0.1606216713027493, 0.16062509255566837, 0.1605908874477481, 0.1606270439472985, 0.16061126307745435, 0.1605866474046978, 0.9976900442890834, 0.00037734116652385905, 0.9962027844713105, 0.0006645782418087462, 0.9982024896807965, 0.0003228339229239316, 0.16059185540229817, 0.16062208005985343, 0.9985288918635186, 0.0002361705042250517, 0.1606212581790861, 0.9767540047965847, 0.003954469655046902, 0.9987239456636828, 0.00020315784085917063, 0.16061571641040073, 0.16062205067102575, 0.999653270490159, 0.16058327847723722, 0.9995357131753254, 7.740538319331879e-05, 0.16062624138696469, 0.16057856876932405, 0.16062309201014968, 0.160627272728286, 0.9994691838282558, 8.144969308355112e-05, 0.1606010116132768, 0.9989859115604268, 0.00018336745806909452, 0.9986820027715234, 0.00024251627070702366, 0.9989798004108643, 0.00016761406047162154, 0.9994070948305261, 9.803875758588642e-05, 0.16060792550685796, 0.16062531046843997, 0.16000042388200947, 0.16060769286883966, 0.16040589461556326, 0.16060123159915074, 0.9988629142803321, 0.00018821611348790882, 0.7708828299181942, 0.036708706186580675, 0.16062507208208401, 0.9882319985476942, 0.0020502738559080792, 0.16062750959999067, 0.999632273571848, 6.506751764446059e-05, 0.9919899706849412, 0.0012950260713902625, 0.4137835357072194, 0.10344588392680484, 0.9997952690478921, 3.3033610951162755e-05, 0.9989294290194035, 0.0001751585882902689, 0.7723848943073096, 0.03510840428669589, 0.9977409526608196, 0.00037994704975659544, 0.977663038842726, 0.003974239995295634, 0.8008867244404214, 0.034821161932192236, 0.8820795629610948, 0.020513478208397554, 0.9988961538669527, 0.00018847097242772693, 0.9902138993843058, 0.001642145770123227, 0.1606289668432997, 0.9964204257332826, 0.0005514224824201896, 0.9991957648528278, 0.0001410098454491713, 0.9915904728059682, 0.0013203601502076807, 0.9977012369281095, 0.00039876148558277757, 0.9975163765223231, 0.0004451210961723887, 0.9892109367123684, 0.0017508158171900326, 0.6718126026136034, 0.05167789250873872, 0.16054720553676957, 0.9970140260633545, 0.0005230923536533865, 0.16059377114603887, 0.16061456097070845, 0.9994334236496195, 7.544032485277925e-05, 7.544032485277925e-05, 0.1606172108589758, 0.1606170828709727, 0.1606246829700921, 0.16061212476310568, 0.9980209889212333, 0.00035938818470336093, 0.1606029400231247, 0.9940566754617467, 0.0010143435463895374, 0.9875226670430094, 0.002011247794384948, 0.16060596044460856, 0.1606096430229714, 0.9971907098420814, 0.0004963617271488708, 0.00022113819405985275, 0.9991023607624148, 0.00011056909702992638, 0.16060897119982215, 0.9815711403189228, 0.00342010850285339, 0.9800073255319712, 0.0034752032820282667, 0.8792151173610637, 0.019113372116544864, 0.16062618549695773, 0.1606080595890094, 0.998908917848279, 0.00018175198650805657, 0.0004218123486076683, 0.998218922980047, 0.00021090617430383416, 0.16061527512921644, 0.16060432882089526, 0.993451432420338, 0.0009974411972091747, 0.9794128972166707, 0.0037240034114702308, 0.9981909934241091, 0.00029637499804753835, 0.9996897800546748, 5.734796810777161e-05, 0.16061699395315274, 0.9993494239117116, 0.00010439250223667727, 0.16059573486995238, 0.16051803432008352, 0.9873578769334412, 0.002105240675764267, 0.16056560005827564, 0.16061679104116755, 0.16060397146563984, 0.16061499181523703, 0.1606208919606297, 0.9984065647037755, 0.0002767969405887928, 0.5843520953996801, 0.06492801059996446, 0.16055904363851012, 0.994373511797316, 0.0009310613406341911, 0.16061475631431982, 0.9986618187489086, 0.000209012519620952, 0.9878424800135224, 0.0019561237227990543, 0.9752774714655789, 0.004013487536895386, 0.1589040949245507, 0.16057218034019652, 0.9991083599144363, 0.00014892060812556808, 0.983359819192784, 0.0026794545482092206, 0.1606104301285802, 0.16059492316822452, 0.9974176167547452, 0.00040561920160827377, 0.9854808091915245, 0.0026562825045593655, 0.9942443548050072, 0.001083054852728766, 0.9995306436216855, 8.315562758915852e-05, 0.9762425220126699, 0.003754778930817961, 0.9908564469470394, 0.0014701134227700881, 0.9990634323778371, 0.00016916075726004692, 0.16063058904223054, 0.9969697337931966, 0.0004982357490220873, 0.9997115460558171, 4.680297500261316e-05, 0.9971766609293005, 0.0004975931441762976, 0.9743367599816914, 0.16058086305941896, 0.9965438537448987, 0.0005582878732464418, 0.9965890596991593, 0.000594268968216553, 0.16061799732312482, 0.9915564698060948, 0.0014328850719741255, 0.9976420708785471, 0.0003686777793342746, 0.9938830448636954, 0.0010059544988498942, 0.1606208170603914, 0.1606257628656769, 0.9326060903953549, 0.010719610234429367, 0.9957045144338469, 0.0006741398201989485, 0.9912108178281872, 0.001573350504489186, 0.1605669970173411, 0.9876162472113842, 0.0019752324944227683, 0.9415085340842565, 0.008966747943659585, 0.1606181327557669, 0.16061509082514827, 0.9951013599816216, 0.0009104312534141094, 0.15985925072230112, 0.994759777640973, 0.0008061262379586491, 0.9641747974500811, 0.005843483620909582, 0.1605733806930359, 0.16061024967566903, 0.1606018801771414, 0.1600684780376547, 0.7778646413672112, 0.0353574836985096, 0.9242202362365022, 0.011698990332107622, 0.9882204839147194, 0.002033375481306007, 0.9263762413551748, 0.012351683218068997, 0.9982653290342308, 0.0003014996463407523, 0.8085723176525628, 0.029947122876020846, 0.16061416139667883, 0.9996766551674926, 5.279238778873535e-05, 0.1606280505488894, 0.1606266006183327, 0.1606249853562131, 0.9967154435082634, 0.0005506715157504217, 0.9288460411687207, 0.010800535362426986, 0.9665978847063702, 0.005087357287928264, 0.9989681003663622, 0.00016755587057470014, 0.1606177533405833, 0.16061856354322715, 0.16056708987621515, 0.9958842677077495, 0.0006359414225464556, 0.16062386420099817, 0.9881699247508405, 0.0018609603102652365, 0.9964007210376081, 0.0005823499246274741, 0.1606097219087635, 0.9997379732503097, 7.364009820641645e-05, 3.6820049103208224e-05, 0.9996784718038445, 5.5304186313556344e-05, 0.16060393406360277, 0.982362184903676, 0.003079505281829705, 0.9948516886552756, 0.000806854573118634, 0.9979396889781594, 0.0003415262453724023, 0.16059534270521628, 0.9921215231820438, 0.001321067274543334, 0.16061572961532428, 0.9916933528283608, 0.001547103514552825, 0.16062201357785771, 0.1606233958110449, 0.9620258898915262, 0.00590199932448789, 0.9994453586157587, 9.937808080101011e-05, 0.97699248818274, 0.004020545218859012, 0.9913163667643082, 0.0014346112398904607, 0.16062646628374094, 0.7642121187526641, 0.16061056917936117, 0.9976037460013478, 0.0003929120701068719, 0.16061160963297177, 0.16062508515751206, 0.16061641994933293, 0.16054358902417906, 0.16062245971069514, 0.9626536827530883, 0.006016585517206802, 0.9983337309458987, 0.0002636908956539616, 0.1606199939773854, 0.9888702178673707, 0.00187641407564966, 0.1606252282539601, 0.9946850581984901, 0.0008873194096329081, 0.16061340330753887, 0.9905253994899411, 0.0015924845650963683, 0.9980706308866696, 0.00031968950380738937, 0.9988125581513219, 0.00019619182049721506, 0.9992914711611013, 0.00012595052573243022, 0.9996711354241412, 5.178838187971513e-05, 0.9921494741554916, 0.0013211044928834775, 0.16061269178489387, 0.16062432992095307, 0.9979141807015104, 0.7925117171934135, 0.03445703118232232, 0.16061273895043118, 0.9991707772546634, 0.00013715453359707116, 0.16061765660695873, 0.16059754712986318, 0.16061406734533368, 0.996569222152979, 0.0006216900949176413, 0.16060271573348367, 0.16060960031158897, 0.16062881381253954, 0.855391874918325, 0.023760885414397918, 0.1606129668383133, 0.1606095311122293, 0.9975109202139741, 0.00043351191665101006, 0.9996138772312312, 6.836836585946456e-05, 0.16062550865942435, 0.9694177788565299, 0.005326471312398516, 0.16062910654400642, 0.160616482835032, 0.9974207683674361, 0.00041215734230059343, 0.1606111768664627, 0.16061194159862996, 0.0002686607242303145, 0.99941789413677, 5.37321448460629e-05, 0.16062070080863192, 0.1606191875474656], \"Term\": [\"able\", \"abundance\", \"abundance\", \"across\", \"aera\", \"aera\", \"also\", \"alternative\", \"alternative\", \"always\", \"amazing\", \"amenity\", \"another\", \"another\", \"area\", \"around\", \"arrived\", \"asian\", \"asian\", \"asked\", \"available\", \"away\", \"awesome\", \"back\", \"bad\", \"bad\", \"bar\", \"bar\", \"bathroom\", \"beach\", \"beach\", \"beautifully\", \"beautifully\", \"bed\", \"bed\", \"beginning\", \"beginning\", \"best\", \"better\", \"bit\", \"bit\", \"block\", \"booked\", \"boston\", \"box\", \"box\", \"breakfast\", \"brought\", \"brought\", \"buffet\", \"building\", \"butter\", \"butter\", \"cabinet\", \"cabinet\", \"called\", \"called\", \"car\", \"casino\", \"center\", \"central\", \"central\", \"challenge\", \"challenge\", \"charge\", \"check\", \"check\", \"choice\", \"choice\", \"choose\", \"choosing\", \"choosing\", \"city\", \"clean\", \"clean\", \"close\", \"coffee\", \"comfortable\", \"complimentary\", \"convenient\", \"cost\", \"cost\", \"could\", \"could\", \"couldnt\", \"couple\", \"customer\", \"customer\", \"day\", \"day\", \"decor\", \"definitely\", \"desk\", \"didnt\", \"dining\", \"dining\", \"disappointed\", \"disappointed\", \"distance\", \"dj\", \"dj\", \"dont\", \"door\", \"door\", \"draining\", \"draining\", \"drink\", \"eat\", \"eat\", \"endless\", \"endless\", \"enjoyed\", \"entire\", \"entire\", \"environment\", \"environment\", \"environmentally\", \"environmentally\", \"especially\", \"etc\", \"even\", \"ever\", \"every\", \"everything\", \"excellent\", \"excellent\", \"expect\", \"expect\", \"expensive\", \"expensive\", \"experience\", \"extra\", \"extremely\", \"extremely\", \"facility\", \"famous\", \"famous\", \"far\", \"far\", \"feel\", \"felt\", \"first\", \"floor\", \"food\", \"food\", \"found\", \"free\", \"fremont\", \"fresh\", \"friendly\", \"friendly\", \"front\", \"full\", \"full\", \"garden\", \"garden\", \"gave\", \"gave\", \"get\", \"get\", \"go\", \"going\", \"good\", \"got\", \"great\", \"guest\", \"happy\", \"happy\", \"hated\", \"hated\", \"hear\", \"hello\", \"hello\", \"help\", \"helpful\", \"helpful\", \"hit\", \"hit\", \"hitandmiss\", \"hitandmiss\", \"hotel\", \"hotel\", \"hour\", \"hour\", \"humbled\", \"humbled\", \"included\", \"included\", \"indeed\", \"indeed\", \"intent\", \"intent\", \"japanese\", \"japanese\", \"king\", \"king\", \"knew\", \"knew\", \"la\", \"large\", \"large\", \"last\", \"last\", \"layout\", \"layout\", \"least\", \"least\", \"leave\", \"leave\", \"leaving\", \"leaving\", \"leonor\", \"leonor\", \"like\", \"liked\", \"liked\", \"little\", \"located\", \"location\", \"location\", \"location\", \"long\", \"look\", \"looking\", \"lot\", \"lounge\", \"lounge\", \"loved\", \"low\", \"low\", \"m\", \"m\", \"made\", \"make\", \"maker\", \"maker\", \"manager\", \"manager\", \"manager\", \"many\", \"marble\", \"marble\", \"mary\", \"mary\", \"mexico\", \"mexico\", \"min\", \"minute\", \"modern\", \"modern\", \"money\", \"money\", \"money\", \"morning\", \"much\", \"name\", \"name\", \"napa\", \"napa\", \"near\", \"near\", \"need\", \"need\", \"never\", \"new\", \"new\", \"next\", \"nice\", \"nicely\", \"nicely\", \"night\", \"noise\", \"nothing\", \"ocean\", \"offer\", \"old\", \"old\", \"olivia\", \"olivia\", \"one\", \"online\", \"online\", \"option\", \"overall\", \"overall\", \"overly\", \"overly\", \"parade\", \"parade\", \"parasailing\", \"parking\", \"part\", \"part\", \"paying\", \"paying\", \"people\", \"perfect\", \"person\", \"person\", \"phenomenal\", \"phenomenal\", \"piece\", \"piece\", \"place\", \"place\", \"planned\", \"planned\", \"planning\", \"planning\", \"please\", \"please\", \"plenty\", \"plus\", \"plus\", \"pool\", \"pool\", \"possible\", \"possible\", \"powell\", \"price\", \"prior\", \"prior\", \"professional\", \"professional\", \"property\", \"public\", \"public\", \"put\", \"put\", \"queen\", \"queen\", \"quiet\", \"quite\", \"random\", \"random\", \"ready\", \"ready\", \"realized\", \"realized\", \"really\", \"reasonably\", \"reasonably\", \"receptionist\", \"receptionist\", \"recommend\", \"regis\", \"relatively\", \"relatively\", \"relies\", \"request\", \"request\", \"resident\", \"resident\", \"restaurant\", \"review\", \"right\", \"room\", \"sacramento\", \"sacramento\", \"satisfying\", \"satisfying\", \"saved\", \"saved\", \"seated\", \"seated\", \"second\", \"second\", \"secret\", \"secret\", \"see\", \"service\", \"service\", \"several\", \"shopping\", \"short\", \"shower\", \"shower\", \"showing\", \"showing\", \"sight\", \"sight\", \"since\", \"since\", \"size\", \"sleep\", \"small\", \"someone\", \"someone\", \"spacious\", \"spotless\", \"spotless\", \"square\", \"square\", \"st\", \"staff\", \"staff\", \"staff\", \"stay\", \"stay\", \"stayed\", \"steak\", \"steak\", \"still\", \"still\", \"store\", \"store\", \"street\", \"strip\", \"strip\", \"super\", \"supposed\", \"supposed\", \"sure\", \"take\", \"tasting\", \"tasting\", \"team\", \"team\", \"ten\", \"ten\", \"term\", \"term\", \"th\", \"tha\", \"thank\", \"thats\", \"thats\", \"thing\", \"think\", \"though\", \"time\", \"told\", \"tony\", \"tony\", \"took\", \"took\", \"top\", \"tourist\", \"tourist\", \"towel\", \"treat\", \"treat\", \"trip\", \"tripadvisor\", \"tripadvisor\", \"truly\", \"truly\", \"tub\", \"tub\", \"two\", \"two\", \"u\", \"u\", \"unless\", \"unless\", \"use\", \"used\", \"usually\", \"vale\", \"vale\", \"valet\", \"value\", \"value\", \"vega\", \"view\", \"visit\", \"waikiki\", \"waikiki\", \"walk\", \"walking\", \"wanted\", \"warehouse\", \"warehouse\", \"wasnt\", \"water\", \"welcoming\", \"welcoming\", \"well\", \"well\", \"went\", \"whats\", \"whats\", \"wish\", \"within\", \"without\", \"without\", \"wonderful\", \"work\", \"would\", \"would\", \"would\", \"year\", \"york\"]}, \"R\": 30, \"lambda.step\": 0.01, \"plot.opts\": {\"xlab\": \"PC1\", \"ylab\": \"PC2\"}, \"topic.order\": [1, 7, 4, 19, 18, 13, 16, 12, 3, 9, 6, 20, 11, 15, 14, 2, 17, 8, 10, 5]};\n",
       "\n",
       "function LDAvis_load_lib(url, callback){\n",
       "  var s = document.createElement('script');\n",
       "  s.src = url;\n",
       "  s.async = true;\n",
       "  s.onreadystatechange = s.onload = callback;\n",
       "  s.onerror = function(){console.warn(\"failed to load library \" + url);};\n",
       "  document.getElementsByTagName(\"head\")[0].appendChild(s);\n",
       "}\n",
       "\n",
       "if(typeof(LDAvis) !== \"undefined\"){\n",
       "   // already loaded: just create the visualization\n",
       "   !function(LDAvis){\n",
       "       new LDAvis(\"#\" + \"ldavis_el128801995815194312992982240\", ldavis_el128801995815194312992982240_data);\n",
       "   }(LDAvis);\n",
       "}else if(typeof define === \"function\" && define.amd){\n",
       "   // require.js is available: use it to load d3/LDAvis\n",
       "   require.config({paths: {d3: \"https://cdnjs.cloudflare.com/ajax/libs/d3/3.5.5/d3.min\"}});\n",
       "   require([\"d3\"], function(d3){\n",
       "      window.d3 = d3;\n",
       "      LDAvis_load_lib(\"https://cdn.rawgit.com/bmabey/pyLDAvis/files/ldavis.v1.0.0.js\", function(){\n",
       "        new LDAvis(\"#\" + \"ldavis_el128801995815194312992982240\", ldavis_el128801995815194312992982240_data);\n",
       "      });\n",
       "    });\n",
       "}else{\n",
       "    // require.js not available: dynamically load d3 & LDAvis\n",
       "    LDAvis_load_lib(\"https://cdnjs.cloudflare.com/ajax/libs/d3/3.5.5/d3.min.js\", function(){\n",
       "         LDAvis_load_lib(\"https://cdn.rawgit.com/bmabey/pyLDAvis/files/ldavis.v1.0.0.js\", function(){\n",
       "                 new LDAvis(\"#\" + \"ldavis_el128801995815194312992982240\", ldavis_el128801995815194312992982240_data);\n",
       "            })\n",
       "         });\n",
       "}\n",
       "</script>"
      ],
      "text/plain": [
       "PreparedData(topic_coordinates=              x         y  topics  cluster      Freq\n",
       "topic                                               \n",
       "0     -0.371402 -0.296725       1        1  6.602608\n",
       "6     -0.193930  0.302709       2        1  5.566350\n",
       "3     -0.143599  0.114910       3        1  5.436499\n",
       "18    -0.117834  0.074027       4        1  5.357988\n",
       "17    -0.094762  0.051789       5        1  5.208843\n",
       "12    -0.017068  0.002345       6        1  4.995493\n",
       "15    -0.020301  0.003604       7        1  4.993940\n",
       "11     0.006549 -0.005714       8        1  4.967438\n",
       "2      0.020983 -0.009752       9        1  4.896191\n",
       "8      0.026248 -0.010996      10        1  4.893973\n",
       "5      0.065604 -0.019430      11        1  4.764399\n",
       "19     0.071756 -0.020393      12        1  4.748098\n",
       "10     0.076700 -0.021088      13        1  4.741667\n",
       "14     0.083090 -0.021883      14        1  4.741113\n",
       "13     0.093252 -0.023181      15        1  4.709232\n",
       "1      0.093221 -0.023175      16        1  4.706682\n",
       "16     0.101121 -0.023972      17        1  4.675300\n",
       "7      0.104832 -0.024289      18        1  4.669977\n",
       "9      0.106444 -0.024175      19        1  4.664100\n",
       "4      0.109097 -0.024611      20        1  4.660108, topic_info=          Term          Freq         Total Category  logprob  loglift\n",
       "5813     clean  33137.000000  33137.000000  Default  30.0000  30.0000\n",
       "14840    hotel  30272.000000  30272.000000  Default  29.0000  29.0000\n",
       "29564    staff  27159.000000  27159.000000  Default  28.0000  28.0000\n",
       "7792       day  24226.000000  24226.000000  Default  27.0000  27.0000\n",
       "23687     pool  21366.000000  21366.000000  Default  26.0000  26.0000\n",
       "...        ...           ...           ...      ...      ...      ...\n",
       "14228  helpful      0.510705  15368.651459  Topic20 -11.3180  -7.2459\n",
       "5813     clean      0.510702  33137.922974  Topic20 -11.3180  -8.0143\n",
       "35219    would      0.510651  18610.833475  Topic20 -11.3181  -7.4374\n",
       "34515     well      0.510649  14626.647682  Topic20 -11.3181  -7.1965\n",
       "12978      get      0.510626  10200.047661  Topic20 -11.3181  -6.8361\n",
       "\n",
       "[1131 rows x 6 columns], token_table=       Topic      Freq       Term\n",
       "term                             \n",
       "38        20  0.160618       able\n",
       "99         5  0.904535  abundance\n",
       "99        20  0.015869  abundance\n",
       "282       20  0.160626     across\n",
       "468       10  0.444790       aera\n",
       "...      ...       ...        ...\n",
       "35219      2  0.000269      would\n",
       "35219      5  0.999418      would\n",
       "35219     20  0.000054      would\n",
       "35373     20  0.160621       year\n",
       "35445     20  0.160619       york\n",
       "\n",
       "[493 rows x 3 columns], R=30, lambda_step=0.01, plot_opts={'xlab': 'PC1', 'ylab': 'PC2'}, topic_order=[1, 7, 4, 19, 18, 13, 16, 12, 3, 9, 6, 20, 11, 15, 14, 2, 17, 8, 10, 5])"
      ]
     },
     "execution_count": 73,
     "metadata": {},
     "output_type": "execute_result"
    }
   ],
   "source": [
    "LDAvis_data_filepath = os.path.join('visualizations/ldavis_prepared_'+str(num_topics_2))\n",
    "\n",
    "if 1 == 1:\n",
    "    LDAvis_prepared_2 = pyLDAvis.gensim.prepare(lda_model_2, corpus, id2word)\n",
    "    with open(LDAvis_data_filepath, 'wb') as f:\n",
    "        pickle.dump(LDAvis_prepared_2, f)\n",
    "        \n",
    "# load the pre-prepared pyLDAvis data from disk\n",
    "with open(LDAvis_data_filepath, 'rb') as f:\n",
    "    LDAvis_prepared_2 = pickle.load(f)\n",
    "pyLDAvis.save_html(LDAvis_prepared_2, 'visualizations/ldavis_prepared_'+ str(num_topics_2) +'.html')\n",
    "LDAvis_prepared_2"
   ]
  },
  {
   "cell_type": "code",
   "execution_count": 74,
   "metadata": {},
   "outputs": [
    {
     "name": "stdout",
     "output_type": "stream",
     "text": [
      "[(0,\n",
      "  '0.112*\"hotel\" + 0.036*\"clean\" + 0.028*\"night\" + 0.017*\"experience\" + '\n",
      "  '0.017*\"helpful\" + 0.015*\"parking\" + 0.014*\"much\" + 0.014*\"inn\" + '\n",
      "  '0.013*\"see\" + 0.012*\"close\"'),\n",
      " (1,\n",
      "  '0.120*\"room\" + 0.055*\"staff\" + 0.032*\"location\" + 0.027*\"one\" + '\n",
      "  '0.025*\"service\" + 0.022*\"bed\" + 0.022*\"back\" + 0.019*\"well\" + 0.019*\"desk\" '\n",
      "  '+ 0.018*\"thank\"'),\n",
      " (2,\n",
      "  '0.039*\"time\" + 0.033*\"would\" + 0.025*\"friendly\" + 0.024*\"area\" + '\n",
      "  '0.020*\"guest\" + 0.019*\"like\" + 0.019*\"review\" + 0.019*\"front\" + '\n",
      "  '0.017*\"also\" + 0.017*\"restaurant\"'),\n",
      " (3,\n",
      "  '0.036*\"breakfast\" + 0.032*\"nice\" + 0.030*\"good\" + 0.018*\"get\" + '\n",
      "  '0.017*\"next\" + 0.017*\"day\" + 0.011*\"feedback\" + 0.011*\"staying\" + '\n",
      "  '0.011*\"taking\" + 0.009*\"know\"'),\n",
      " (4,\n",
      "  '0.071*\"stay\" + 0.052*\"great\" + 0.050*\"u\" + 0.027*\"stayed\" + 0.023*\"place\" + '\n",
      "  '0.021*\"comfortable\" + 0.016*\"hope\" + 0.014*\"really\" + 0.014*\"could\" + '\n",
      "  '0.013*\"new\"')]\n"
     ]
    }
   ],
   "source": [
    "# Try with fewer topics\n",
    "\n",
    "# number of topics\n",
    "num_topics_3 = 5\n",
    "\n",
    "# Build LDA model\n",
    "lda_model_3 = gensim.models.LdaMulticore(corpus=corpus,\n",
    "                                       id2word=id2word,\n",
    "                                       num_topics=num_topics_3)\n",
    "\n",
    "# Print the Keyword in the 10 topics\n",
    "pprint(lda_model_3.print_topics())\n",
    "doc_lda_3 = lda_model_3[corpus]"
   ]
  },
  {
   "cell_type": "code",
   "execution_count": 75,
   "metadata": {},
   "outputs": [
    {
     "data": {
      "text/html": [
       "\n",
       "<link rel=\"stylesheet\" type=\"text/css\" href=\"https://cdn.rawgit.com/bmabey/pyLDAvis/files/ldavis.v1.0.0.css\">\n",
       "\n",
       "\n",
       "<div id=\"ldavis_el1288019958151922649253806731\"></div>\n",
       "<script type=\"text/javascript\">\n",
       "\n",
       "var ldavis_el1288019958151922649253806731_data = {\"mdsDat\": {\"x\": [0.05670044909721568, -0.36639934746537534, 0.27851278282046027, 0.01064167003532577, 0.020544445512373513], \"y\": [0.1938162940134037, -0.18261939947761804, -0.2987632598096094, 0.060549120385325915, 0.2270172448884978], \"topics\": [1, 2, 3, 4, 5], \"cluster\": [1, 1, 1, 1, 1], \"Freq\": [20.630848492314012, 19.999714512418006, 19.99931009207272, 19.84647864939341, 19.52364825380185]}, \"tinfo\": {\"Term\": [\"room\", \"hotel\", \"stay\", \"staff\", \"great\", \"u\", \"time\", \"clean\", \"breakfast\", \"would\", \"nice\", \"location\", \"good\", \"night\", \"one\", \"stayed\", \"friendly\", \"service\", \"area\", \"place\", \"bed\", \"back\", \"comfortable\", \"guest\", \"well\", \"review\", \"like\", \"front\", \"desk\", \"get\", \"next\", \"get\", \"day\", \"recommend\", \"staying\", \"made\", \"check\", \"comment\", \"airport\", \"french\", \"feedback\", \"please\", \"shuttle\", \"bit\", \"town\", \"know\", \"water\", \"seattle\", \"san\", \"western\", \"provide\", \"motel\", \"welcome\", \"courtyard\", \"noise\", \"found\", \"extra\", \"atlanta\", \"welcoming\", \"looked\", \"breakfast\", \"nice\", \"taking\", \"got\", \"food\", \"kind\", \"large\", \"city\", \"good\", \"located\", \"big\", \"desk\", \"best\", \"pool\", \"room\", \"property\", \"staff\", \"back\", \"floor\", \"minute\", \"excellent\", \"thank\", \"space\", \"one\", \"even\", \"diego\", \"across\", \"bed\", \"problem\", \"service\", \"orleans\", \"friend\", \"around\", \"reservation\", \"called\", \"definitely\", \"hampton\", \"needed\", \"regarding\", \"short\", \"quite\", \"location\", \"well\", \"free\", \"two\", \"street\", \"manager\", \"many\", \"walking\", \"feel\", \"distance\", \"spacious\", \"use\", \"away\", \"inn\", \"experience\", \"much\", \"hotel\", \"clean\", \"everything\", \"see\", \"glad\", \"right\", \"park\", \"door\", \"team\", \"little\", \"need\", \"recent\", \"went\", \"loved\", \"since\", \"pretty\", \"helpful\", \"several\", \"night\", \"find\", \"beach\", \"dont\", \"quality\", \"work\", \"working\", \"fine\", \"easy\", \"close\", \"parking\", \"happy\", \"lot\", \"quiet\", \"hot\", \"better\", \"take\", \"appreciate\", \"want\", \"love\", \"front\", \"friendly\", \"restaurant\", \"walk\", \"area\", \"first\", \"business\", \"come\", \"soon\", \"bathroom\", \"within\", \"review\", \"price\", \"center\", \"issue\", \"sure\", \"came\", \"return\", \"choice\", \"still\", \"hear\", \"member\", \"customer\", \"downtown\", \"husband\", \"lovely\", \"last\", \"housekeeping\", \"especially\", \"dinner\", \"time\", \"would\", \"guest\", \"like\", \"enjoyed\", \"also\", \"visit\", \"small\", \"wonderful\", \"view\", \"way\", \"coffee\", \"suite\", \"stayed\", \"hope\", \"look\", \"forward\", \"really\", \"didnt\", \"another\", \"future\", \"year\", \"perfect\", \"stay\", \"near\", \"booked\", \"every\", \"im\", \"quarter\", \"value\", \"travel\", \"give\", \"long\", \"family\", \"u\", \"trip\", \"apologize\", \"star\", \"plus\", \"thanks\", \"though\", \"open\", \"ask\", \"great\", \"place\", \"comfortable\", \"could\", \"make\", \"always\", \"go\", \"morning\", \"lobby\", \"thing\", \"able\", \"bar\", \"never\", \"new\", \"people\", \"car\"], \"Freq\": [21641.0, 20220.0, 12453.0, 9988.0, 9167.0, 8852.0, 7017.0, 6570.0, 6690.0, 5895.0, 5954.0, 5791.0, 5598.0, 4990.0, 4844.0, 4712.0, 4560.0, 4535.0, 4354.0, 4016.0, 4055.0, 3900.0, 3765.0, 3644.0, 3451.0, 3420.0, 3424.0, 3370.0, 3376.0, 3379.0, 3220.522792582914, 3378.2183396582554, 3216.1268914139278, 1509.701128485576, 1994.3789484502872, 1705.5399983727407, 1629.9734696295948, 1157.560161944867, 1140.4512348902244, 1064.2502720859732, 2074.9320613377868, 1302.178466175261, 1196.2265051618376, 1124.5040940925012, 851.6171364182248, 1717.242244224133, 1257.7610643970045, 916.9772732631458, 1569.5333806243807, 835.3049989388908, 761.2544236576078, 708.166249772618, 874.5421855299735, 658.6628059362909, 1129.479502216934, 1291.2795942209914, 653.4022360322422, 629.9717969033613, 780.577328922212, 558.5821106751658, 6675.701111406112, 5931.755223717088, 1988.4740246845056, 1516.1735168287496, 1580.190971838492, 1231.6807389633307, 1215.7796884183056, 1073.0990807891249, 5494.2620400445985, 1234.1340919255567, 927.4321366740363, 3375.4735136231084, 2777.9795386747055, 2845.5265336557327, 21629.952869859284, 1767.1166328112279, 9982.910198860025, 3897.6202589604995, 1908.1183287935928, 1554.2101037144034, 1751.3016646576261, 3255.1139347412527, 1173.2356288515336, 4840.384049354799, 1904.976264342314, 873.9477749423318, 971.6127157912281, 4050.8080788536868, 840.0755105376007, 4530.237797850135, 736.1780078655082, 771.1838241760158, 1529.5418910919914, 770.7617131973959, 743.437795987849, 1557.6934851209373, 686.44655695655, 959.9918980875468, 610.8698790380193, 666.2188661640389, 854.2913953181577, 5758.477947417261, 3446.4382133721338, 2531.4576567297754, 1921.6243683709474, 1865.313957562526, 1892.5492700998795, 1618.6771834928938, 1738.67075369094, 1338.0671944820601, 1260.0927313586749, 1117.3616905373199, 1155.971155449225, 1428.7075905136523, 2451.3017368789256, 3147.8794428059, 2568.156926567303, 20209.331070551543, 6566.732193188469, 1890.110240147804, 2422.927147308308, 1636.010280367582, 1946.1013817541439, 1295.9164799874618, 1677.1880281610663, 1242.8609911655487, 1917.5672230148696, 2177.530257954194, 1093.7279820736537, 1284.0870296284952, 1012.3063860421943, 846.5342598966866, 794.3512784922366, 3004.5110798911774, 786.1934307202985, 4983.973335785156, 1145.1626680608747, 904.4690379610438, 1312.2938196207035, 693.1181203748278, 1361.2928082240323, 607.9824259672134, 613.6961359860751, 1502.985022997671, 2235.447651377545, 2636.523581024509, 1825.5809722454842, 1964.9789183089244, 1489.286261819772, 1334.4030517596566, 1264.6933288049952, 1424.9111881246388, 1716.5083908313813, 1208.5436258352738, 1230.7029962866945, 3369.767056453667, 4559.081819942016, 3031.143246534235, 1876.0258654718089, 4351.872981940802, 1794.18287159472, 1447.8725972875136, 1384.3176680596303, 1325.1287752836092, 2042.2642847905875, 1104.846663837676, 3417.1869778154664, 1879.9356045679542, 961.495536487782, 1124.8943277693024, 1396.9173923581964, 797.7828792991146, 891.2668313048762, 944.4095965981858, 825.8317069454905, 2087.8278468279595, 712.4959446676341, 877.8819421865455, 1370.4273931577256, 705.1341806447679, 714.0280203370671, 833.4084932839276, 684.5246250652431, 719.7515310044396, 630.7623788139344, 6993.967185294782, 5886.026200320473, 3638.8999877637384, 3418.348431687479, 2808.0740958421775, 3050.0368740303156, 2171.688550108137, 2302.652475215552, 1882.440697886336, 1719.4019439704225, 1499.1669207447596, 1383.9772994019593, 1845.2466711275983, 4711.862457684435, 2879.898359087955, 2220.1709175089936, 1673.7764320855547, 2449.4171029772415, 1999.538377771616, 1240.6475100705868, 1088.3300633758688, 1228.1611589872255, 1347.9311883082466, 12442.952121931392, 1160.6229682208007, 1091.3293685649232, 1691.3565926267504, 1126.379991964157, 869.231569490182, 1018.4935503733024, 934.0848725674847, 890.6805820272854, 854.0589369504237, 1863.8679234344613, 8841.617521131737, 1892.1371311650119, 699.0792307882213, 734.0447523973821, 806.9699356672105, 654.4186230224122, 956.0524485171231, 612.9399859449665, 560.3804891013274, 9131.170212881656, 4009.928463572187, 3747.088879383661, 2448.6474154963116, 2267.9089224244008, 1904.4301585287276, 1915.674580983934, 1693.466428335553, 1438.7528353043394, 1465.6981280964524, 1470.8101385151695, 1325.7524156233212, 1246.303663630647, 2299.287051040853, 1529.2745763774199, 1271.8377260638722], \"Total\": [21641.0, 20220.0, 12453.0, 9988.0, 9167.0, 8852.0, 7017.0, 6570.0, 6690.0, 5895.0, 5954.0, 5791.0, 5598.0, 4990.0, 4844.0, 4712.0, 4560.0, 4535.0, 4354.0, 4016.0, 4055.0, 3900.0, 3765.0, 3644.0, 3451.0, 3420.0, 3424.0, 3370.0, 3376.0, 3379.0, 3221.63359600675, 3379.658311168491, 3218.056919047456, 1510.6897707020978, 1995.697932694376, 1706.674954759785, 1631.1286851072832, 1158.4691957418245, 1141.3594552194259, 1065.1694838460846, 2076.7622426815765, 1303.371213388841, 1197.4021885047744, 1125.6410678121101, 852.4991384136564, 1719.0880605646573, 1259.1130276846682, 917.964334718753, 1571.2699329205107, 836.2357644483424, 762.1605934162915, 709.0144057877358, 875.5964564016936, 659.5706089491379, 1131.1099272958581, 1293.2235008406174, 654.395039395405, 630.9293975383953, 781.7900876205003, 559.4745336671617, 6690.154670035767, 5954.969897443046, 1991.7734853572424, 1519.2030852311636, 1584.6925928605785, 1233.6518478258793, 1217.9102702321152, 1075.1659243307665, 5598.720215781182, 1238.9944194354134, 929.675221825864, 3376.6565518483258, 2779.0318769246123, 2846.671535376061, 21641.118735545708, 1768.145563469332, 9988.939596363898, 3900.012833299422, 1909.318687286657, 1555.2870752410363, 1752.539334135712, 3257.690652572825, 1174.207512398715, 4844.560599396607, 1906.6265628586052, 874.789214271971, 972.5523232588946, 4055.12897792993, 841.0119194705513, 4535.293713608301, 737.0174146527655, 772.0638865192142, 1531.299140666125, 771.6546662751981, 744.3380563373777, 1559.5917574042753, 687.2972358742397, 961.2341991766083, 611.7338911879152, 667.1709372316925, 855.5133716340943, 5791.189182950203, 3451.8480793594363, 2535.935046043378, 1925.669754866668, 1869.345227560423, 1897.209371331692, 1622.7718103214875, 1745.1014839142256, 1340.1077662359469, 1262.5901269104047, 1119.0418994861834, 1158.4261537981583, 1437.0638088923938, 2452.1624040135866, 3149.119047978535, 2569.4177290407933, 20220.666799130067, 6570.643646520279, 1891.3312270060947, 2424.5292183180372, 1637.1887057386075, 1947.5058384217866, 1296.8619578045298, 1678.4709432650784, 1243.826869485037, 1919.0658871893165, 2179.3975070532783, 1094.7115224894544, 1285.4647884077524, 1013.4364143854922, 847.4916197802106, 795.2577607657108, 3007.9846312660966, 787.1206347240565, 4990.004029662932, 1146.5761677016105, 905.5982847176214, 1314.0288050110873, 694.0608803583568, 1363.2113987376658, 608.8905737840189, 614.61586977576, 1505.241375673317, 2241.8997215087343, 2648.582095537319, 1829.2865557844439, 1970.7043965233242, 1492.8140408562704, 1336.8585356715762, 1266.6077374932495, 1428.9150756087686, 1725.437983611787, 1211.2336910992403, 1237.962828149256, 3370.931758044426, 4560.891909847415, 3032.368245000531, 1877.0883880120145, 4354.499936117216, 1795.3422308260356, 1448.8209288273201, 1385.2628496816035, 1326.0500588373748, 2043.9618746800663, 1105.8581888902058, 3420.382544801296, 1881.7471169217001, 962.4402389233078, 1126.0915407791792, 1398.5770608674443, 798.7308197365295, 892.3307827964763, 945.542414814926, 826.8377541796706, 2090.3823655988926, 713.3812659563555, 878.997004459561, 1372.1897978474437, 706.0436276925149, 714.9541586138898, 834.4987686950311, 685.4316273170062, 720.7480598626637, 631.6498753138668, 7017.303609467919, 5895.742083110888, 3644.3112019352147, 3424.65675590587, 2813.4784678981136, 3060.5497888552427, 2174.9151056754977, 2310.0726234138388, 1886.1101023947836, 1722.7466888445836, 1502.6453430775073, 1387.2727021175717, 1855.7799823231676, 4712.965443382878, 2881.00942492552, 2221.1664188112413, 1674.678513592342, 2450.769699666322, 2000.9920489968786, 1241.5895116800937, 1089.1891529196394, 1229.143375660187, 1349.0776156286302, 12453.657689650237, 1161.6523463521823, 1092.298810961653, 1692.886139976366, 1127.4460769521659, 870.06942267894, 1019.492941483542, 935.0144510972167, 891.6174687663951, 855.0769834836947, 1866.0953909211278, 8852.217729867769, 1894.4239556002276, 699.9276714965838, 734.9715058184993, 808.0201316381495, 655.2909075333333, 957.3356741649894, 613.8390680449393, 561.2662258085918, 9167.351106329108, 4016.5261087669965, 3765.426111228707, 2454.810305109132, 2273.619460121792, 1908.465119052268, 1921.4112812156843, 1698.7829114125248, 1441.6322984567337, 1469.5825984660657, 1475.1656116579325, 1328.380670059473, 1248.7348256636797, 2322.257506777743, 1537.2594747656397, 1275.723864067976], \"Category\": [\"Default\", \"Default\", \"Default\", \"Default\", \"Default\", \"Default\", \"Default\", \"Default\", \"Default\", \"Default\", \"Default\", \"Default\", \"Default\", \"Default\", \"Default\", \"Default\", \"Default\", \"Default\", \"Default\", \"Default\", \"Default\", \"Default\", \"Default\", \"Default\", \"Default\", \"Default\", \"Default\", \"Default\", \"Default\", \"Default\", \"Topic1\", \"Topic1\", \"Topic1\", \"Topic1\", \"Topic1\", \"Topic1\", \"Topic1\", \"Topic1\", \"Topic1\", \"Topic1\", \"Topic1\", \"Topic1\", \"Topic1\", \"Topic1\", \"Topic1\", \"Topic1\", \"Topic1\", \"Topic1\", \"Topic1\", \"Topic1\", \"Topic1\", \"Topic1\", \"Topic1\", \"Topic1\", \"Topic1\", \"Topic1\", \"Topic1\", \"Topic1\", \"Topic1\", \"Topic1\", \"Topic1\", \"Topic1\", \"Topic1\", \"Topic1\", \"Topic1\", \"Topic1\", \"Topic1\", \"Topic1\", \"Topic1\", \"Topic1\", \"Topic1\", \"Topic2\", \"Topic2\", \"Topic2\", \"Topic2\", \"Topic2\", \"Topic2\", \"Topic2\", \"Topic2\", \"Topic2\", \"Topic2\", \"Topic2\", \"Topic2\", \"Topic2\", \"Topic2\", \"Topic2\", \"Topic2\", \"Topic2\", \"Topic2\", \"Topic2\", \"Topic2\", \"Topic2\", \"Topic2\", \"Topic2\", \"Topic2\", \"Topic2\", \"Topic2\", \"Topic2\", \"Topic2\", \"Topic2\", \"Topic2\", \"Topic2\", \"Topic2\", \"Topic2\", \"Topic2\", \"Topic2\", \"Topic2\", \"Topic2\", \"Topic2\", \"Topic2\", \"Topic2\", \"Topic2\", \"Topic2\", \"Topic2\", \"Topic3\", \"Topic3\", \"Topic3\", \"Topic3\", \"Topic3\", \"Topic3\", \"Topic3\", \"Topic3\", \"Topic3\", \"Topic3\", \"Topic3\", \"Topic3\", \"Topic3\", \"Topic3\", \"Topic3\", \"Topic3\", \"Topic3\", \"Topic3\", \"Topic3\", \"Topic3\", \"Topic3\", \"Topic3\", \"Topic3\", \"Topic3\", \"Topic3\", \"Topic3\", \"Topic3\", \"Topic3\", \"Topic3\", \"Topic3\", \"Topic3\", \"Topic3\", \"Topic3\", \"Topic3\", \"Topic3\", \"Topic3\", \"Topic3\", \"Topic3\", \"Topic3\", \"Topic3\", \"Topic3\", \"Topic4\", \"Topic4\", \"Topic4\", \"Topic4\", \"Topic4\", \"Topic4\", \"Topic4\", \"Topic4\", \"Topic4\", \"Topic4\", \"Topic4\", \"Topic4\", \"Topic4\", \"Topic4\", \"Topic4\", \"Topic4\", \"Topic4\", \"Topic4\", \"Topic4\", \"Topic4\", \"Topic4\", \"Topic4\", \"Topic4\", \"Topic4\", \"Topic4\", \"Topic4\", \"Topic4\", \"Topic4\", \"Topic4\", \"Topic4\", \"Topic4\", \"Topic4\", \"Topic4\", \"Topic4\", \"Topic4\", \"Topic4\", \"Topic4\", \"Topic4\", \"Topic4\", \"Topic4\", \"Topic4\", \"Topic4\", \"Topic4\", \"Topic5\", \"Topic5\", \"Topic5\", \"Topic5\", \"Topic5\", \"Topic5\", \"Topic5\", \"Topic5\", \"Topic5\", \"Topic5\", \"Topic5\", \"Topic5\", \"Topic5\", \"Topic5\", \"Topic5\", \"Topic5\", \"Topic5\", \"Topic5\", \"Topic5\", \"Topic5\", \"Topic5\", \"Topic5\", \"Topic5\", \"Topic5\", \"Topic5\", \"Topic5\", \"Topic5\", \"Topic5\", \"Topic5\", \"Topic5\", \"Topic5\", \"Topic5\", \"Topic5\", \"Topic5\", \"Topic5\", \"Topic5\", \"Topic5\", \"Topic5\", \"Topic5\", \"Topic5\", \"Topic5\", \"Topic5\", \"Topic5\", \"Topic5\", \"Topic5\", \"Topic5\"], \"logprob\": [30.0, 29.0, 28.0, 27.0, 26.0, 25.0, 24.0, 23.0, 22.0, 21.0, 20.0, 19.0, 18.0, 17.0, 16.0, 15.0, 14.0, 13.0, 12.0, 11.0, 10.0, 9.0, 8.0, 7.0, 6.0, 5.0, 4.0, 3.0, 2.0, 1.0, -4.05649995803833, -4.008699893951416, -4.057799816131592, -4.8140997886657715, -4.535699844360352, -4.6921000480651855, -4.737400054931641, -5.079699993133545, -5.094600200653076, -5.163700103759766, -4.496099948883057, -4.961999893188477, -5.046800136566162, -5.108699798583984, -5.386600017547607, -4.685299873352051, -4.996699810028076, -5.312699794769287, -4.775199890136719, -5.406000137329102, -5.498799800872803, -5.571100234985352, -5.360099792480469, -5.643599987030029, -5.104300022125244, -4.970399856567383, -5.651599884033203, -5.6880998611450195, -5.473700046539307, -5.8084001541137695, -3.327500104904175, -3.44569993019104, -4.538599967956543, -4.809800148010254, -4.768499851226807, -5.017600059509277, -5.030600070953369, -5.1554999351501465, -3.5223000049591064, -5.015600204467773, -5.301300048828125, -3.9783999919891357, -4.1732001304626465, -4.149199962615967, -2.1208999156951904, -4.6255998611450195, -2.8940999507904053, -3.8345999717712402, -4.548799991607666, -4.754000186920166, -4.6346001625061035, -4.014699935913086, -5.035200119018555, -3.6178998947143555, -4.55049991607666, -5.329699993133545, -5.223700046539307, -3.7960000038146973, -5.369200229644775, -3.6842000484466553, -5.501200199127197, -5.454800128936768, -4.769999980926514, -5.4552998542785645, -5.491399765014648, -4.751699924468994, -5.571199893951416, -5.235799789428711, -5.68779993057251, -5.601099967956543, -5.352399826049805, -3.4442999362945557, -3.9576001167297363, -4.26609992980957, -4.541800022125244, -4.571499824523926, -4.557000160217285, -4.7133002281188965, -4.6417999267578125, -4.90369987487793, -4.963799953460693, -5.084000110626221, -5.050000190734863, -4.838200092315674, -4.298299789428711, -4.0482001304626465, -4.251699924468994, -2.188800096511841, -3.3129000663757324, -4.558300018310547, -4.309899806976318, -4.702700138092041, -4.529099941253662, -4.935699939727783, -4.677800178527832, -4.977499961853027, -4.543900012969971, -4.4166998863220215, -5.105299949645996, -4.944900035858154, -5.182700157165527, -5.361499786376953, -5.42519998550415, -4.094799995422363, -5.435500144958496, -3.58870005607605, -5.0594000816345215, -5.295300006866455, -4.923099994659424, -5.561500072479248, -4.886499881744385, -5.692500114440918, -5.683199882507324, -4.787499904632568, -4.390500068664551, -4.225500106811523, -4.5929999351501465, -4.519400119781494, -4.796599864959717, -4.906400203704834, -4.960100173950195, -4.840799808502197, -4.654600143432617, -5.005499839782715, -4.987299919128418, -3.972399950027466, -3.670099973678589, -4.0782999992370605, -4.55810022354126, -3.716599941253662, -4.602700233459473, -4.817200183868408, -4.861999988555908, -4.905700206756592, -4.473199844360352, -5.087500095367432, -3.958400011062622, -4.556000232696533, -5.226500034332275, -5.0696001052856445, -4.853000164031982, -5.4131999015808105, -5.3024001121521, -5.2444000244140625, -5.378600120544434, -4.451099872589111, -5.526199817657471, -5.317500114440918, -4.872099876403809, -5.536600112915039, -5.524099826812744, -5.369500160217285, -5.566299915313721, -5.51609992980957, -5.648099899291992, -3.2421998977661133, -3.4147000312805176, -3.8956000804901123, -3.9581000804901123, -4.154799938201904, -4.0721001625061035, -4.4116997718811035, -4.3531999588012695, -4.554699897766113, -4.645299911499023, -4.782299995422363, -4.862299919128418, -4.5746002197265625, -3.620800018310547, -4.113100051879883, -4.373300075531006, -4.655799865722656, -4.275000095367432, -4.47790002822876, -4.9552001953125, -5.08620023727417, -4.9653000831604, -4.872300148010254, -2.6496999263763428, -5.021900177001953, -5.083499908447266, -4.645299911499023, -5.051799774169922, -5.310999870300293, -5.152500152587891, -5.238999843597412, -5.286600112915039, -5.32859992980957, -4.5482001304626465, -2.9914000034332275, -4.533100128173828, -5.528800010681152, -5.480000019073486, -5.385300159454346, -5.594900131225586, -5.215799808502197, -5.660299777984619, -5.75, -2.959199905395508, -3.782099962234497, -3.849900007247925, -4.275300025939941, -4.3520002365112305, -4.526700019836426, -4.5208001136779785, -4.644100189208984, -4.80709981918335, -4.78849983215332, -4.784999847412109, -4.888899803161621, -4.950699806213379, -4.338200092315674, -4.746099948883057, -4.9303998947143555], \"loglift\": [30.0, 29.0, 28.0, 27.0, 26.0, 25.0, 24.0, 23.0, 22.0, 21.0, 20.0, 19.0, 18.0, 17.0, 16.0, 15.0, 14.0, 13.0, 12.0, 11.0, 10.0, 9.0, 8.0, 7.0, 6.0, 5.0, 4.0, 3.0, 2.0, 1.0, 1.578, 1.578, 1.5778, 1.5777, 1.5777, 1.5777, 1.5777, 1.5776, 1.5776, 1.5775, 1.5775, 1.5775, 1.5774, 1.5774, 1.5773, 1.5773, 1.5773, 1.5773, 1.5773, 1.5773, 1.5772, 1.5772, 1.5772, 1.577, 1.5769, 1.5769, 1.5769, 1.5769, 1.5768, 1.5768, 1.5762, 1.5745, 1.5767, 1.5764, 1.5755, 1.5768, 1.5766, 1.5765, 1.5595, 1.5745, 1.576, 1.6091, 1.6091, 1.609, 1.6089, 1.6089, 1.6088, 1.6088, 1.6088, 1.6088, 1.6087, 1.6087, 1.6086, 1.6086, 1.6086, 1.6085, 1.6085, 1.6084, 1.6083, 1.6083, 1.6083, 1.6083, 1.6083, 1.6083, 1.6082, 1.6082, 1.6082, 1.6082, 1.608, 1.608, 1.608, 1.6038, 1.6079, 1.6077, 1.6073, 1.6073, 1.607, 1.6069, 1.6058, 1.6079, 1.6075, 1.6079, 1.6073, 1.6036, 1.6091, 1.6091, 1.609, 1.6089, 1.6089, 1.6088, 1.6088, 1.6088, 1.6088, 1.6087, 1.6087, 1.6087, 1.6087, 1.6086, 1.6086, 1.6084, 1.6084, 1.6083, 1.6083, 1.6083, 1.6083, 1.6083, 1.6082, 1.6082, 1.6082, 1.6081, 1.6081, 1.608, 1.608, 1.608, 1.6066, 1.6049, 1.6074, 1.6066, 1.6071, 1.6076, 1.608, 1.6067, 1.6043, 1.6072, 1.6036, 1.6168, 1.6167, 1.6167, 1.6166, 1.6165, 1.6165, 1.6165, 1.6165, 1.6164, 1.6163, 1.6162, 1.6162, 1.6162, 1.6162, 1.6161, 1.616, 1.616, 1.616, 1.6159, 1.6159, 1.6159, 1.6159, 1.6159, 1.6159, 1.6159, 1.6158, 1.6158, 1.6158, 1.6158, 1.6157, 1.6138, 1.6155, 1.6157, 1.6153, 1.6152, 1.6137, 1.6157, 1.6139, 1.6152, 1.6152, 1.6148, 1.6148, 1.6115, 1.6333, 1.6332, 1.6331, 1.633, 1.633, 1.6328, 1.6328, 1.6328, 1.6327, 1.6327, 1.6327, 1.6327, 1.6327, 1.6326, 1.6326, 1.6326, 1.6326, 1.6325, 1.6325, 1.6324, 1.6323, 1.6323, 1.6323, 1.6323, 1.6323, 1.6322, 1.6322, 1.6322, 1.6321, 1.632, 1.6296, 1.6319, 1.6287, 1.631, 1.631, 1.6314, 1.6306, 1.6304, 1.6315, 1.6309, 1.6306, 1.6316, 1.6316, 1.6236, 1.6283, 1.6305]}, \"token.table\": {\"Topic\": [2, 5, 2, 1, 3, 4, 5, 2, 3, 5, 5, 5, 3, 4, 2, 4, 2, 5, 5, 1, 2, 3, 4, 5, 2, 5, 2, 5, 1, 4, 3, 1, 2, 3, 5, 2, 1, 3, 1, 4, 5, 1, 5, 1, 2, 3, 4, 5, 4, 2, 4, 3, 4, 5, 4, 1, 4, 1, 3, 5, 1, 3, 4, 5, 2, 3, 4, 5, 3, 4, 4, 1, 2, 3, 5, 1, 4, 5, 1, 4, 1, 5, 1, 2, 3, 2, 5, 2, 4, 1, 2, 5, 2, 3, 1, 3, 3, 4, 3, 4, 2, 4, 5, 4, 2, 4, 4, 5, 3, 2, 3, 1, 2, 4, 5, 1, 4, 1, 2, 4, 1, 3, 3, 4, 2, 1, 4, 5, 1, 3, 4, 2, 5, 1, 2, 3, 4, 4, 5, 1, 5, 3, 5, 1, 2, 4, 5, 1, 2, 3, 4, 5, 1, 2, 1, 2, 3, 4, 5, 1, 4, 2, 3, 4, 1, 4, 1, 2, 3, 5, 3, 5, 1, 2, 3, 4, 5, 4, 4, 5, 3, 4, 5, 1, 5, 1, 5, 1, 5, 4, 1, 3, 4, 1, 3, 1, 5, 1, 2, 1, 2, 3, 4, 5, 5, 5, 1, 2, 3, 4, 5, 1, 2, 3, 5, 3, 4, 1, 1, 3, 4, 5, 1, 2, 3, 4, 1, 2, 3, 4, 2, 2, 3, 5, 1, 3, 5, 2, 3, 2, 3, 2, 5, 4, 5, 1, 1, 2, 3, 5, 1, 2, 3, 4, 5, 1, 3, 2, 3, 5, 2, 3, 3, 4, 5, 1, 2, 4, 5, 5, 1, 4, 5, 1, 5, 5, 2, 3, 2, 3, 4, 2, 2, 1, 3, 5, 1, 3, 5, 2, 5, 3, 1, 2, 2, 4, 4, 1, 4, 5, 2, 3, 1, 2, 3, 4, 5, 1, 3, 1, 1, 3, 5, 1, 2, 3, 3, 2, 1, 3, 1, 3, 4, 4, 2, 1, 2, 1, 2, 3, 4, 5, 5, 2, 3, 5, 5, 1, 3, 4, 2, 5, 1, 3, 4, 2, 4, 1, 2, 3, 5, 1, 2, 3, 1, 2, 4, 5, 3, 5, 1, 5, 2, 3, 4, 5, 1, 5, 1, 3, 4, 5, 2, 5, 4, 5, 1, 2, 4, 5, 1, 4, 1, 4, 4, 2, 3, 5, 3, 4, 1, 2, 3, 4, 1, 1, 4, 2, 4, 2, 3, 1, 4, 2, 4, 3, 4, 3, 4, 5, 5], \"Freq\": [0.0027115599552950645, 0.9971761735597601, 0.9994320889008379, 0.9988089157949241, 0.00032673868062575663, 0.9965529759085577, 0.0029406481256318098, 0.0015719438464192532, 0.0005239812821397511, 0.997660361194086, 0.9995251959890544, 0.9986746180578913, 0.9951096569729361, 0.0046365039346438494, 0.0004592949889404163, 0.9994258959343458, 0.9991516088322496, 0.0006530402672106206, 0.997743983602848, 0.998526938922134, 0.9943886911336185, 0.004871043273572659, 0.0006958633247960941, 0.0006958633247960941, 0.9994838905958884, 0.0002564094126721109, 0.0015055925195828527, 0.9982078404834313, 0.0004892459161727399, 0.9990401608247349, 0.9982351062887451, 0.0002466012808575282, 0.9989817887538468, 0.0004932025617150564, 0.0002466012808575282, 0.9996286919437015, 0.0007895104146285303, 0.9987306745050908, 0.9971224124693676, 0.001075644457895758, 0.001075644457895758, 0.9994304864752703, 0.9988109380431262, 0.9978842536930927, 0.001793680503942048, 0.000149473375328504, 0.000298946750657008, 0.000149473375328504, 0.9994333814407385, 0.9982023539895813, 0.999085023742078, 0.001567737389204653, 0.0007838686946023265, 0.9970809795341592, 0.9985035549584679, 0.9993080342969942, 0.9983687513211896, 0.9979854976039026, 0.000930089000562817, 0.000930089000562817, 0.0001521920916422832, 0.9994454658148737, 0.0001521920916422832, 0.0001521920916422832, 0.0008921005613284332, 0.9969223772845242, 0.0004460502806642166, 0.0017842011226568665, 0.0014416776146082483, 0.9976409093089079, 0.9990883681881069, 0.0010622967711600502, 0.0023901677351101133, 0.0013278709639500629, 0.9951065003841771, 0.9995949864324842, 0.002036817260215028, 0.9976330940533209, 0.9991348781443627, 0.9988657476026622, 0.9993608195568943, 0.0003107465234940592, 0.0006411934374828715, 0.9989793755983138, 0.0006411934374828715, 0.9995094106187913, 0.9995042214198823, 0.9990978234995412, 0.99897114629597, 0.0007920226672823979, 0.9979485607758214, 0.0007920226672823979, 0.0007610183248544254, 0.9984560422090061, 0.0005957803463995214, 0.9991236409119976, 0.0007287621592644848, 0.9984041581923442, 0.9985109526554741, 0.0013286905557624404, 0.0007108638018097772, 0.998052777740927, 0.0007108638018097772, 0.9989621063110371, 0.9991468896477732, 0.0005244865562455503, 0.0005907071812957018, 0.9988858435710317, 0.9992961428505561, 0.9991216550146813, 0.9996446472929458, 0.997868199922949, 0.000535878286214719, 0.000535878286214719, 0.9988771255042361, 0.9991514470721015, 0.00048151876967330193, 0.0007462086447038278, 0.9984271666137216, 0.0007462086447038278, 0.0008721618573361486, 0.9986253266498901, 0.9989979598542018, 0.9992523816334349, 0.9993093414444443, 0.9970387992714046, 0.002524148858914948, 0.9995948394949629, 0.9982806523086133, 0.00077326154322898, 0.00077326154322898, 0.9980539540825079, 0.0011829955994656356, 0.9989020678269322, 0.9986220226877718, 0.00021925536052299363, 0.999585188624328, 0.9997235903568198, 0.9989082218488389, 0.9995093257910095, 0.9993074734535548, 0.9992739348039472, 0.0006108031386332195, 0.001040901559990109, 0.0005204507799950545, 0.0015613523399851637, 0.9971836944705245, 0.9812956869168055, 0.0001786122473456144, 0.0007144489893824576, 0.0003572244946912288, 0.017325387992524595, 0.9978916016809719, 0.0013164796855949497, 0.00010908276430141346, 0.0029452346361381635, 0.0008726621144113076, 0.00010908276430141346, 0.9960347208362063, 0.0013720013804926657, 0.9985426047225621, 0.9981125547921204, 0.998203367441776, 0.0016399836266841883, 0.0009567627592509861, 0.9988603206580294, 0.0003324485070853198, 0.0006648970141706396, 0.999007763791386, 0.9996496280377334, 0.9978617515651047, 0.0014960446050451344, 4.9454353307627916e-05, 0.0002967261198457675, 0.9994230259938526, 0.00014836305992288376, 9.890870661525583e-05, 0.9993702839206651, 0.9985218651488639, 0.998717387038079, 0.9995259677696371, 0.9990306820186003, 0.0008880272729054225, 0.9986610097258879, 0.0008106014689333506, 0.9987853673045862, 0.0005817037666305103, 0.998431518085687, 0.0008210785510573083, 0.9982039893271804, 0.000292000066364457, 0.001460000331822285, 0.998056226833714, 0.0005210868509911404, 0.9994445802010072, 0.0013873163095339904, 0.9981740847097061, 0.9959689734214547, 0.0032284245491781354, 0.0001726761064798388, 0.994269021110912, 0.0001726761064798388, 0.002762817703677421, 0.0025901415971975824, 0.9987404836003105, 0.9994748620358372, 0.9991518225788557, 0.0005074327746790332, 0.9971054022443001, 0.002029731098716133, 0.0005074327746790332, 0.0008077786967925294, 0.0016155573935850587, 0.9943755757516036, 0.004038893483962647, 0.9985826299853621, 0.9986654268635353, 0.9996045206160069, 0.00043982734030013643, 0.0008796546806002729, 0.0013194820209004093, 0.9975284078007095, 0.0005270899538610641, 0.9977812826589944, 0.0010541799077221283, 0.0005270899538610641, 0.0006162295854781271, 0.9976756988890877, 0.001848688756434381, 0.9980637759606656, 0.9991724516576229, 0.000588656733760353, 0.002354626935041412, 0.9965958502562777, 0.998569273375188, 0.9994482294471742, 0.999438432372447, 0.0004588424079424046, 0.9993587644985573, 0.9987160265649458, 0.0010403291943384852, 0.0016016210638932383, 0.9978099228054874, 0.009473540266654657, 0.9899849578654117, 0.999803330829572, 0.9961427349191289, 0.000671707845528745, 0.0030226853048793524, 0.00016792696138218625, 0.00020040063977013432, 0.000601201919310403, 0.9987967886143495, 0.00020040063977013432, 0.00020040063977013432, 0.9981346399276131, 0.0008840873692892941, 0.9990586144392176, 0.0006192512072970357, 0.9986330813911671, 0.9986195514074184, 0.9993353511533417, 0.9956270581316569, 0.003398044567002242, 0.0011326815223340807, 0.0006505082690431642, 0.0019515248071294926, 0.002602033076172657, 0.9946271433669981, 0.9992012204367293, 0.0007469141040691374, 0.0004979427360460916, 0.9983751857724137, 0.9989479486927783, 0.0007672411280282475, 0.998737492299751, 0.9997640980465377, 0.9984184237768396, 0.0005314210347434321, 0.0005314210347434321, 0.9990715453176524, 0.9987967834377564, 0.999352110203481, 0.9984772324542663, 0.9984714880374629, 0.9987708766093086, 0.0006698758000871998, 0.9974450663298406, 0.0013397516001743997, 0.9982310368437566, 0.999277900462633, 0.9993500365394562, 0.9995434067831298, 0.9988003097449937, 0.999151607184133, 0.9995487866611231, 0.9985086440789303, 0.0002923649582763539, 0.9990110624303012, 0.0005847299165527078, 0.0005134772796421379, 0.9992267861836004, 4.6208332028486684e-05, 0.999486221776167, 0.0002772499921709201, 9.241666405697337e-05, 4.6208332028486684e-05, 0.9991917792774471, 0.0006364278848900937, 0.9989494856365543, 0.00041245120596803016, 0.9993692720605372, 0.00041245120596803016, 0.0002204928860504594, 0.9988327738085812, 0.0006614786581513782, 0.9985762859279514, 0.9982449217039473, 0.9988289744930855, 0.9994199119274617, 0.00043288682349829945, 0.0021644341174914972, 0.9969383545165836, 0.9992081303187789, 0.9989716362857803, 0.0008936215886636216, 0.9981753145372654, 0.00040044290601737656, 0.9994053826928676, 0.00010011072650434414, 0.00010011072650434414, 0.00010011072650434414, 0.9986781721321055, 8.029769445414113e-05, 0.0007226792500872703, 0.9991442120928782, 0.9997951516100688, 0.9991492035610401, 0.0005010778352863792, 0.9989867973790073, 0.997675534996768, 0.0016048400026757662, 0.0005388569817140419, 0.0048497128354263765, 0.9941911312624072, 0.0007150124422745548, 0.998872381857553, 0.0013996633068959182, 0.0006998316534479591, 0.9972601061633417, 0.0006998316534479591, 0.9981054646098145, 0.0010041302460863325, 0.999335221399921, 0.00030696591746985874, 0.9991740613643901, 0.00030696591746985874, 0.9980300237367972, 0.0020413959740210367, 0.9975621659716132, 0.0010445656909967586, 0.9986048005929014, 0.0004275146362418075, 0.0005700195149890766, 0.9966791219584005, 0.0022800780599563065, 0.9994144998027972, 0.9989150423332749, 0.0005278649465151853, 0.0005278649465151853, 0.0005278649465151853, 0.9987204788067306, 0.9980942968765056, 0.0015578995268623918, 0.0010166943781368602, 0.9988457434984576, 0.0008632401786866406, 0.9979056465617565, 0.0008632401786866406, 0.9985356039038685, 0.0011609367836552717, 0.9978251655517061, 0.0009195761226637987, 0.9986596692128853, 0.9994201722098088, 0.9965036509506943, 0.0028651628836995234, 0.0005730325767399047, 0.9981558545508975, 0.0016512090232438338, 0.9991160224219784, 0.0007942098747392514, 0.0019964790852483004, 0.997574049595734, 0.9993187998908256, 0.9989893864951587, 0.0012791157317479625, 0.9983058120679166, 0.0011587995497015862, 0.0007779287375414267, 0.9988604990031918, 0.9985222296140879, 0.9992239611743825, 0.001590575224739487, 0.9978208576532382, 0.9983778020491073, 0.0007335619412557732, 0.9985373828691676, 0.9983476069723614, 0.0015265253929240999, 0.9990697784466577], \"Term\": [\"able\", \"able\", \"across\", \"airport\", \"also\", \"also\", \"also\", \"always\", \"always\", \"always\", \"another\", \"apologize\", \"appreciate\", \"appreciate\", \"area\", \"area\", \"around\", \"around\", \"ask\", \"atlanta\", \"away\", \"away\", \"away\", \"away\", \"back\", \"back\", \"bar\", \"bar\", \"bathroom\", \"bathroom\", \"beach\", \"bed\", \"bed\", \"bed\", \"bed\", \"best\", \"better\", \"better\", \"big\", \"big\", \"big\", \"bit\", \"booked\", \"breakfast\", \"breakfast\", \"breakfast\", \"breakfast\", \"breakfast\", \"business\", \"called\", \"came\", \"car\", \"car\", \"car\", \"center\", \"check\", \"choice\", \"city\", \"city\", \"city\", \"clean\", \"clean\", \"clean\", \"clean\", \"close\", \"close\", \"close\", \"close\", \"coffee\", \"coffee\", \"come\", \"comfortable\", \"comfortable\", \"comfortable\", \"comfortable\", \"comment\", \"could\", \"could\", \"courtyard\", \"customer\", \"day\", \"day\", \"definitely\", \"definitely\", \"definitely\", \"desk\", \"didnt\", \"diego\", \"dinner\", \"distance\", \"distance\", \"distance\", \"dont\", \"dont\", \"door\", \"door\", \"downtown\", \"downtown\", \"easy\", \"easy\", \"enjoyed\", \"enjoyed\", \"enjoyed\", \"especially\", \"even\", \"even\", \"every\", \"every\", \"everything\", \"excellent\", \"experience\", \"extra\", \"family\", \"family\", \"family\", \"feedback\", \"feedback\", \"feel\", \"feel\", \"feel\", \"find\", \"find\", \"fine\", \"first\", \"floor\", \"food\", \"food\", \"forward\", \"found\", \"found\", \"found\", \"free\", \"free\", \"french\", \"friend\", \"friendly\", \"friendly\", \"front\", \"future\", \"get\", \"give\", \"glad\", \"glad\", \"go\", \"go\", \"go\", \"go\", \"good\", \"good\", \"good\", \"good\", \"good\", \"got\", \"got\", \"great\", \"great\", \"great\", \"great\", \"great\", \"guest\", \"guest\", \"hampton\", \"happy\", \"happy\", \"hear\", \"hear\", \"helpful\", \"helpful\", \"helpful\", \"hope\", \"hot\", \"hot\", \"hotel\", \"hotel\", \"hotel\", \"hotel\", \"hotel\", \"housekeeping\", \"husband\", \"im\", \"inn\", \"issue\", \"issue\", \"kind\", \"kind\", \"know\", \"know\", \"large\", \"large\", \"last\", \"like\", \"like\", \"like\", \"little\", \"little\", \"lobby\", \"lobby\", \"located\", \"located\", \"location\", \"location\", \"location\", \"location\", \"location\", \"long\", \"look\", \"looked\", \"lot\", \"lot\", \"lot\", \"lot\", \"love\", \"love\", \"love\", \"love\", \"loved\", \"lovely\", \"made\", \"make\", \"make\", \"make\", \"make\", \"manager\", \"manager\", \"manager\", \"manager\", \"many\", \"many\", \"many\", \"member\", \"minute\", \"morning\", \"morning\", \"morning\", \"motel\", \"much\", \"near\", \"need\", \"need\", \"needed\", \"needed\", \"never\", \"never\", \"new\", \"new\", \"next\", \"nice\", \"nice\", \"nice\", \"nice\", \"night\", \"night\", \"night\", \"night\", \"night\", \"noise\", \"noise\", \"one\", \"one\", \"open\", \"orleans\", \"park\", \"parking\", \"parking\", \"parking\", \"people\", \"people\", \"people\", \"people\", \"perfect\", \"place\", \"place\", \"place\", \"please\", \"please\", \"plus\", \"pool\", \"pretty\", \"price\", \"price\", \"price\", \"problem\", \"property\", \"provide\", \"quality\", \"quarter\", \"quiet\", \"quiet\", \"quiet\", \"quite\", \"really\", \"recent\", \"recommend\", \"regarding\", \"reservation\", \"restaurant\", \"return\", \"review\", \"review\", \"review\", \"right\", \"right\", \"room\", \"room\", \"room\", \"room\", \"room\", \"san\", \"san\", \"seattle\", \"see\", \"see\", \"see\", \"service\", \"service\", \"service\", \"several\", \"short\", \"shuttle\", \"since\", \"small\", \"small\", \"small\", \"soon\", \"space\", \"spacious\", \"spacious\", \"staff\", \"staff\", \"staff\", \"staff\", \"staff\", \"star\", \"stay\", \"stay\", \"stay\", \"stayed\", \"staying\", \"staying\", \"still\", \"street\", \"street\", \"suite\", \"suite\", \"suite\", \"sure\", \"sure\", \"take\", \"take\", \"take\", \"take\", \"taking\", \"taking\", \"team\", \"thank\", \"thank\", \"thank\", \"thanks\", \"thing\", \"thing\", \"though\", \"though\", \"time\", \"time\", \"time\", \"time\", \"town\", \"travel\", \"trip\", \"trip\", \"trip\", \"trip\", \"two\", \"two\", \"u\", \"u\", \"use\", \"use\", \"use\", \"value\", \"view\", \"view\", \"visit\", \"visit\", \"walk\", \"walking\", \"walking\", \"walking\", \"want\", \"want\", \"water\", \"water\", \"way\", \"way\", \"welcome\", \"welcoming\", \"welcoming\", \"well\", \"well\", \"went\", \"went\", \"western\", \"within\", \"wonderful\", \"wonderful\", \"work\", \"work\", \"working\", \"would\", \"would\", \"year\"]}, \"R\": 30, \"lambda.step\": 0.01, \"plot.opts\": {\"xlab\": \"PC1\", \"ylab\": \"PC2\"}, \"topic.order\": [4, 2, 1, 3, 5]};\n",
       "\n",
       "function LDAvis_load_lib(url, callback){\n",
       "  var s = document.createElement('script');\n",
       "  s.src = url;\n",
       "  s.async = true;\n",
       "  s.onreadystatechange = s.onload = callback;\n",
       "  s.onerror = function(){console.warn(\"failed to load library \" + url);};\n",
       "  document.getElementsByTagName(\"head\")[0].appendChild(s);\n",
       "}\n",
       "\n",
       "if(typeof(LDAvis) !== \"undefined\"){\n",
       "   // already loaded: just create the visualization\n",
       "   !function(LDAvis){\n",
       "       new LDAvis(\"#\" + \"ldavis_el1288019958151922649253806731\", ldavis_el1288019958151922649253806731_data);\n",
       "   }(LDAvis);\n",
       "}else if(typeof define === \"function\" && define.amd){\n",
       "   // require.js is available: use it to load d3/LDAvis\n",
       "   require.config({paths: {d3: \"https://cdnjs.cloudflare.com/ajax/libs/d3/3.5.5/d3.min\"}});\n",
       "   require([\"d3\"], function(d3){\n",
       "      window.d3 = d3;\n",
       "      LDAvis_load_lib(\"https://cdn.rawgit.com/bmabey/pyLDAvis/files/ldavis.v1.0.0.js\", function(){\n",
       "        new LDAvis(\"#\" + \"ldavis_el1288019958151922649253806731\", ldavis_el1288019958151922649253806731_data);\n",
       "      });\n",
       "    });\n",
       "}else{\n",
       "    // require.js not available: dynamically load d3 & LDAvis\n",
       "    LDAvis_load_lib(\"https://cdnjs.cloudflare.com/ajax/libs/d3/3.5.5/d3.min.js\", function(){\n",
       "         LDAvis_load_lib(\"https://cdn.rawgit.com/bmabey/pyLDAvis/files/ldavis.v1.0.0.js\", function(){\n",
       "                 new LDAvis(\"#\" + \"ldavis_el1288019958151922649253806731\", ldavis_el1288019958151922649253806731_data);\n",
       "            })\n",
       "         });\n",
       "}\n",
       "</script>"
      ],
      "text/plain": [
       "PreparedData(topic_coordinates=              x         y  topics  cluster       Freq\n",
       "topic                                                \n",
       "3      0.056700  0.193816       1        1  20.630848\n",
       "1     -0.366399 -0.182619       2        1  19.999715\n",
       "0      0.278513 -0.298763       3        1  19.999310\n",
       "2      0.010642  0.060549       4        1  19.846479\n",
       "4      0.020544  0.227017       5        1  19.523648, topic_info=         Term          Freq         Total Category  logprob  loglift\n",
       "26587    room  21641.000000  21641.000000  Default  30.0000  30.0000\n",
       "14840   hotel  20220.000000  20220.000000  Default  29.0000  29.0000\n",
       "29777    stay  12453.000000  12453.000000  Default  28.0000  28.0000\n",
       "29564   staff   9988.000000   9988.000000  Default  27.0000  27.0000\n",
       "13414   great   9167.000000   9167.000000  Default  26.0000  26.0000\n",
       "...       ...           ...           ...      ...      ...      ...\n",
       "2711      bar   1325.752416   1328.380670   Topic5  -4.8889   1.6316\n",
       "20704   never   1246.303664   1248.734826   Topic5  -4.9507   1.6316\n",
       "20712     new   2299.287051   2322.257507   Topic5  -4.3382   1.6236\n",
       "22910  people   1529.274576   1537.259475   Topic5  -4.7461   1.6283\n",
       "4785      car   1271.837726   1275.723864   Topic5  -4.9304   1.6305\n",
       "\n",
       "[244 rows x 6 columns], token_table=       Topic      Freq     Term\n",
       "term                           \n",
       "38         2  0.002712     able\n",
       "38         5  0.997176     able\n",
       "282        2  0.999432   across\n",
       "787        1  0.998809  airport\n",
       "1051       3  0.000327     also\n",
       "...      ...       ...      ...\n",
       "35125      4  0.000734     work\n",
       "35141      3  0.998537  working\n",
       "35219      4  0.998348    would\n",
       "35219      5  0.001527    would\n",
       "35373      5  0.999070     year\n",
       "\n",
       "[411 rows x 3 columns], R=30, lambda_step=0.01, plot_opts={'xlab': 'PC1', 'ylab': 'PC2'}, topic_order=[4, 2, 1, 3, 5])"
      ]
     },
     "execution_count": 75,
     "metadata": {},
     "output_type": "execute_result"
    }
   ],
   "source": [
    "LDAvis_data_filepath = os.path.join('visualizations/ldavis_prepared_'+str(num_topics_3))\n",
    "\n",
    "if 1 == 1:\n",
    "    LDAvis_prepared_3 = pyLDAvis.gensim.prepare(lda_model_3, corpus, id2word)\n",
    "    with open(LDAvis_data_filepath, 'wb') as f:\n",
    "        pickle.dump(LDAvis_prepared_3, f)\n",
    "        \n",
    "# load the pre-prepared pyLDAvis data from disk\n",
    "with open(LDAvis_data_filepath, 'rb') as f:\n",
    "    LDAvis_prepared_3 = pickle.load(f)\n",
    "pyLDAvis.save_html(LDAvis_prepared_3, 'visualizations/ldavis_prepared_'+ str(num_topics_3) +'.html')\n",
    "LDAvis_prepared_3"
   ]
  },
  {
   "cell_type": "markdown",
   "metadata": {},
   "source": [
    "## Deep Learning Methods\n",
    "- complete embeddings (with visualization) using Word2Vec\n",
    "- model with CNN (1D)\n",
    "- model with RNN (with embedding layer, using only words that occur more than 15 times)"
   ]
  },
  {
   "cell_type": "markdown",
   "metadata": {},
   "source": [
    "### Embedding with [visualizations](https://towardsdatascience.com/visualization-of-word-embedding-vectors-using-gensim-and-pca-8f592a5d3354)"
   ]
  },
  {
   "cell_type": "code",
   "execution_count": 161,
   "metadata": {},
   "outputs": [
    {
     "data": {
      "text/plain": [
       "(19995, 3)"
      ]
     },
     "execution_count": 161,
     "metadata": {},
     "output_type": "execute_result"
    }
   ],
   "source": [
    "X = data.clean_review\n",
    "y = data[['good', 'great', 'not great']]\n",
    "y.shape"
   ]
  },
  {
   "cell_type": "code",
   "execution_count": 162,
   "metadata": {},
   "outputs": [],
   "source": [
    "X_train, X_test, y_train, y_test = train_test_split(X, y, test_size=0.3, random_state=3)"
   ]
  },
  {
   "cell_type": "code",
   "execution_count": 154,
   "metadata": {},
   "outputs": [],
   "source": [
    "text_train = X_train\n",
    "text_test = X_test"
   ]
  },
  {
   "cell_type": "code",
   "execution_count": 155,
   "metadata": {},
   "outputs": [],
   "source": [
    "def tokenizer(text):\n",
    "    tokenized_text = [word_tokenize(sentence) for sentence in text]\n",
    "    return tokenized_text\n",
    "\n",
    "X_train = tokenizer(X_train)\n",
    "X_test = tokenizer(X_test)"
   ]
  },
  {
   "cell_type": "code",
   "execution_count": 79,
   "metadata": {},
   "outputs": [],
   "source": [
    "word2vec = Word2Vec(sentences=X_train, size=50, min_count=1000)"
   ]
  },
  {
   "cell_type": "code",
   "execution_count": 80,
   "metadata": {},
   "outputs": [
    {
     "name": "stdout",
     "output_type": "stream",
     "text": [
      "(103, 50)\n"
     ]
    },
    {
     "data": {
      "text/html": [
       "<div>\n",
       "<style scoped>\n",
       "    .dataframe tbody tr th:only-of-type {\n",
       "        vertical-align: middle;\n",
       "    }\n",
       "\n",
       "    .dataframe tbody tr th {\n",
       "        vertical-align: top;\n",
       "    }\n",
       "\n",
       "    .dataframe thead th {\n",
       "        text-align: right;\n",
       "    }\n",
       "</style>\n",
       "<table border=\"1\" class=\"dataframe\">\n",
       "  <thead>\n",
       "    <tr style=\"text-align: right;\">\n",
       "      <th></th>\n",
       "      <th>0</th>\n",
       "      <th>1</th>\n",
       "      <th>2</th>\n",
       "      <th>3</th>\n",
       "      <th>4</th>\n",
       "      <th>5</th>\n",
       "      <th>6</th>\n",
       "      <th>7</th>\n",
       "      <th>8</th>\n",
       "      <th>9</th>\n",
       "      <th>...</th>\n",
       "      <th>40</th>\n",
       "      <th>41</th>\n",
       "      <th>42</th>\n",
       "      <th>43</th>\n",
       "      <th>44</th>\n",
       "      <th>45</th>\n",
       "      <th>46</th>\n",
       "      <th>47</th>\n",
       "      <th>48</th>\n",
       "      <th>49</th>\n",
       "    </tr>\n",
       "  </thead>\n",
       "  <tbody>\n",
       "    <tr>\n",
       "      <th>0</th>\n",
       "      <td>-0.125595</td>\n",
       "      <td>0.546646</td>\n",
       "      <td>0.398221</td>\n",
       "      <td>-0.217981</td>\n",
       "      <td>0.799523</td>\n",
       "      <td>-0.729544</td>\n",
       "      <td>0.260877</td>\n",
       "      <td>-0.233547</td>\n",
       "      <td>-0.067403</td>\n",
       "      <td>-0.246213</td>\n",
       "      <td>...</td>\n",
       "      <td>0.173569</td>\n",
       "      <td>0.137958</td>\n",
       "      <td>0.671476</td>\n",
       "      <td>-0.212890</td>\n",
       "      <td>0.702101</td>\n",
       "      <td>0.221450</td>\n",
       "      <td>-0.387175</td>\n",
       "      <td>-0.270518</td>\n",
       "      <td>-0.653245</td>\n",
       "      <td>0.219790</td>\n",
       "    </tr>\n",
       "    <tr>\n",
       "      <th>1</th>\n",
       "      <td>0.108064</td>\n",
       "      <td>-0.077176</td>\n",
       "      <td>0.142046</td>\n",
       "      <td>0.254492</td>\n",
       "      <td>0.078631</td>\n",
       "      <td>-0.269732</td>\n",
       "      <td>-0.269350</td>\n",
       "      <td>-0.215355</td>\n",
       "      <td>0.097712</td>\n",
       "      <td>0.053599</td>\n",
       "      <td>...</td>\n",
       "      <td>-0.059794</td>\n",
       "      <td>0.392920</td>\n",
       "      <td>0.047210</td>\n",
       "      <td>0.020382</td>\n",
       "      <td>-0.460018</td>\n",
       "      <td>-0.409051</td>\n",
       "      <td>0.630427</td>\n",
       "      <td>0.264516</td>\n",
       "      <td>-0.025428</td>\n",
       "      <td>-0.005574</td>\n",
       "    </tr>\n",
       "    <tr>\n",
       "      <th>2</th>\n",
       "      <td>0.130673</td>\n",
       "      <td>0.121878</td>\n",
       "      <td>0.066512</td>\n",
       "      <td>0.235435</td>\n",
       "      <td>0.242903</td>\n",
       "      <td>0.053329</td>\n",
       "      <td>-0.229577</td>\n",
       "      <td>-0.175816</td>\n",
       "      <td>-0.278610</td>\n",
       "      <td>-0.176067</td>\n",
       "      <td>...</td>\n",
       "      <td>-0.292663</td>\n",
       "      <td>0.216091</td>\n",
       "      <td>0.132159</td>\n",
       "      <td>0.045269</td>\n",
       "      <td>0.011356</td>\n",
       "      <td>0.107577</td>\n",
       "      <td>-0.040977</td>\n",
       "      <td>0.197208</td>\n",
       "      <td>-0.190070</td>\n",
       "      <td>0.140583</td>\n",
       "    </tr>\n",
       "    <tr>\n",
       "      <th>3</th>\n",
       "      <td>0.176669</td>\n",
       "      <td>0.588524</td>\n",
       "      <td>0.116711</td>\n",
       "      <td>0.090779</td>\n",
       "      <td>0.793488</td>\n",
       "      <td>-0.704390</td>\n",
       "      <td>-0.229466</td>\n",
       "      <td>-0.393149</td>\n",
       "      <td>-0.175391</td>\n",
       "      <td>-0.817709</td>\n",
       "      <td>...</td>\n",
       "      <td>0.413299</td>\n",
       "      <td>-0.671190</td>\n",
       "      <td>0.493308</td>\n",
       "      <td>0.210822</td>\n",
       "      <td>0.309706</td>\n",
       "      <td>-0.297011</td>\n",
       "      <td>0.022378</td>\n",
       "      <td>0.060209</td>\n",
       "      <td>-0.194679</td>\n",
       "      <td>-0.256392</td>\n",
       "    </tr>\n",
       "    <tr>\n",
       "      <th>4</th>\n",
       "      <td>-0.245913</td>\n",
       "      <td>0.659373</td>\n",
       "      <td>-0.206926</td>\n",
       "      <td>-0.101153</td>\n",
       "      <td>0.682629</td>\n",
       "      <td>-0.115717</td>\n",
       "      <td>0.542026</td>\n",
       "      <td>-0.157829</td>\n",
       "      <td>-0.058147</td>\n",
       "      <td>-0.570658</td>\n",
       "      <td>...</td>\n",
       "      <td>0.164255</td>\n",
       "      <td>-0.288908</td>\n",
       "      <td>0.513912</td>\n",
       "      <td>-0.204331</td>\n",
       "      <td>-0.015929</td>\n",
       "      <td>0.409026</td>\n",
       "      <td>-0.206597</td>\n",
       "      <td>-0.588169</td>\n",
       "      <td>-0.367001</td>\n",
       "      <td>-0.248530</td>\n",
       "    </tr>\n",
       "  </tbody>\n",
       "</table>\n",
       "<p>5 rows × 50 columns</p>\n",
       "</div>"
      ],
      "text/plain": [
       "         0         1         2         3         4         5         6   \\\n",
       "0 -0.125595  0.546646  0.398221 -0.217981  0.799523 -0.729544  0.260877   \n",
       "1  0.108064 -0.077176  0.142046  0.254492  0.078631 -0.269732 -0.269350   \n",
       "2  0.130673  0.121878  0.066512  0.235435  0.242903  0.053329 -0.229577   \n",
       "3  0.176669  0.588524  0.116711  0.090779  0.793488 -0.704390 -0.229466   \n",
       "4 -0.245913  0.659373 -0.206926 -0.101153  0.682629 -0.115717  0.542026   \n",
       "\n",
       "         7         8         9   ...        40        41        42        43  \\\n",
       "0 -0.233547 -0.067403 -0.246213  ...  0.173569  0.137958  0.671476 -0.212890   \n",
       "1 -0.215355  0.097712  0.053599  ... -0.059794  0.392920  0.047210  0.020382   \n",
       "2 -0.175816 -0.278610 -0.176067  ... -0.292663  0.216091  0.132159  0.045269   \n",
       "3 -0.393149 -0.175391 -0.817709  ...  0.413299 -0.671190  0.493308  0.210822   \n",
       "4 -0.157829 -0.058147 -0.570658  ...  0.164255 -0.288908  0.513912 -0.204331   \n",
       "\n",
       "         44        45        46        47        48        49  \n",
       "0  0.702101  0.221450 -0.387175 -0.270518 -0.653245  0.219790  \n",
       "1 -0.460018 -0.409051  0.630427  0.264516 -0.025428 -0.005574  \n",
       "2  0.011356  0.107577 -0.040977  0.197208 -0.190070  0.140583  \n",
       "3  0.309706 -0.297011  0.022378  0.060209 -0.194679 -0.256392  \n",
       "4 -0.015929  0.409026 -0.206597 -0.588169 -0.367001 -0.248530  \n",
       "\n",
       "[5 rows x 50 columns]"
      ]
     },
     "execution_count": 80,
     "metadata": {},
     "output_type": "execute_result"
    }
   ],
   "source": [
    "X=word2vec[word2vec.wv.vocab]\n",
    "df=pd.DataFrame(X)\n",
    "print(df.shape)\n",
    "df.head()"
   ]
  },
  {
   "cell_type": "code",
   "execution_count": 81,
   "metadata": {},
   "outputs": [],
   "source": [
    "# Implement PCA\n",
    "\n",
    "# Computing the correlation matrix\n",
    "X_corr=df.corr()\n",
    "\n",
    "# Computing eigen values and eigen vectors\n",
    "values,vectors=np.linalg.eig(X_corr)\n",
    "\n",
    "# Sorting the eigen vectors corresponding to eigen values in descending order\n",
    "args = (-values).argsort()\n",
    "values = vectors[args]\n",
    "vectors = vectors[:, args]\n",
    "\n",
    "# Taking first 2 components which explain maximum variance for projecting\n",
    "new_vectors=vectors[:,:2]\n",
    "\n",
    "# Projecting it onto new dimesion with 2 axis\n",
    "new_X=np.dot(X,new_vectors)"
   ]
  },
  {
   "cell_type": "code",
   "execution_count": 82,
   "metadata": {},
   "outputs": [
    {
     "data": {
      "image/png": "[encoded data removed]",
      "text/plain": [
       "<Figure size 1800x1080 with 1 Axes>"
      ]
     },
     "metadata": {
      "needs_background": "light"
     },
     "output_type": "display_data"
    }
   ],
   "source": [
    "plt.figure(figsize=(25, 15))\n",
    "plt.scatter(new_X[:,0],new_X[:,1],linewidths=10,color='green')\n",
    "plt.xlabel(\"PC1\",size=15)\n",
    "plt.ylabel(\"PC2\",size=15)\n",
    "plt.title(\"Training Data Embedding Space\",size=20)\n",
    "vocab=list(word2vec.wv.vocab)\n",
    "for i, word in enumerate(vocab):\n",
    "  plt.annotate(word,xy=(new_X[i,0],new_X[i,1]))\n",
    "plt.savefig('visualizations/embedding_train.png')"
   ]
  },
  {
   "cell_type": "code",
   "execution_count": 83,
   "metadata": {},
   "outputs": [],
   "source": [
    "# Repeat with test data\n",
    "\n",
    "word2vec_test = Word2Vec(sentences=X_test, size=50, min_count=1000)"
   ]
  },
  {
   "cell_type": "code",
   "execution_count": 84,
   "metadata": {},
   "outputs": [
    {
     "name": "stdout",
     "output_type": "stream",
     "text": [
      "(25, 50)\n"
     ]
    },
    {
     "data": {
      "text/html": [
       "<div>\n",
       "<style scoped>\n",
       "    .dataframe tbody tr th:only-of-type {\n",
       "        vertical-align: middle;\n",
       "    }\n",
       "\n",
       "    .dataframe tbody tr th {\n",
       "        vertical-align: top;\n",
       "    }\n",
       "\n",
       "    .dataframe thead th {\n",
       "        text-align: right;\n",
       "    }\n",
       "</style>\n",
       "<table border=\"1\" class=\"dataframe\">\n",
       "  <thead>\n",
       "    <tr style=\"text-align: right;\">\n",
       "      <th></th>\n",
       "      <th>0</th>\n",
       "      <th>1</th>\n",
       "      <th>2</th>\n",
       "      <th>3</th>\n",
       "      <th>4</th>\n",
       "      <th>5</th>\n",
       "      <th>6</th>\n",
       "      <th>7</th>\n",
       "      <th>8</th>\n",
       "      <th>9</th>\n",
       "      <th>...</th>\n",
       "      <th>40</th>\n",
       "      <th>41</th>\n",
       "      <th>42</th>\n",
       "      <th>43</th>\n",
       "      <th>44</th>\n",
       "      <th>45</th>\n",
       "      <th>46</th>\n",
       "      <th>47</th>\n",
       "      <th>48</th>\n",
       "      <th>49</th>\n",
       "    </tr>\n",
       "  </thead>\n",
       "  <tbody>\n",
       "    <tr>\n",
       "      <th>0</th>\n",
       "      <td>0.149475</td>\n",
       "      <td>-0.089367</td>\n",
       "      <td>-0.053725</td>\n",
       "      <td>-0.085491</td>\n",
       "      <td>0.262660</td>\n",
       "      <td>0.161640</td>\n",
       "      <td>-0.186203</td>\n",
       "      <td>-0.135352</td>\n",
       "      <td>-0.086912</td>\n",
       "      <td>-0.496027</td>\n",
       "      <td>...</td>\n",
       "      <td>-0.270708</td>\n",
       "      <td>-0.137494</td>\n",
       "      <td>0.138740</td>\n",
       "      <td>-0.329140</td>\n",
       "      <td>-0.501011</td>\n",
       "      <td>-0.106201</td>\n",
       "      <td>0.050774</td>\n",
       "      <td>-0.042230</td>\n",
       "      <td>-0.428181</td>\n",
       "      <td>-0.318480</td>\n",
       "    </tr>\n",
       "    <tr>\n",
       "      <th>1</th>\n",
       "      <td>0.127054</td>\n",
       "      <td>-0.079218</td>\n",
       "      <td>-0.104662</td>\n",
       "      <td>-0.070142</td>\n",
       "      <td>0.222089</td>\n",
       "      <td>0.190405</td>\n",
       "      <td>-0.186759</td>\n",
       "      <td>-0.122672</td>\n",
       "      <td>-0.099675</td>\n",
       "      <td>-0.483153</td>\n",
       "      <td>...</td>\n",
       "      <td>-0.251167</td>\n",
       "      <td>-0.154793</td>\n",
       "      <td>0.171427</td>\n",
       "      <td>-0.316151</td>\n",
       "      <td>-0.519904</td>\n",
       "      <td>-0.126814</td>\n",
       "      <td>0.018799</td>\n",
       "      <td>-0.039388</td>\n",
       "      <td>-0.398498</td>\n",
       "      <td>-0.351105</td>\n",
       "    </tr>\n",
       "    <tr>\n",
       "      <th>2</th>\n",
       "      <td>0.138468</td>\n",
       "      <td>-0.068535</td>\n",
       "      <td>-0.123571</td>\n",
       "      <td>-0.083346</td>\n",
       "      <td>0.201931</td>\n",
       "      <td>0.208597</td>\n",
       "      <td>-0.202453</td>\n",
       "      <td>-0.125658</td>\n",
       "      <td>-0.102891</td>\n",
       "      <td>-0.499079</td>\n",
       "      <td>...</td>\n",
       "      <td>-0.236447</td>\n",
       "      <td>-0.162847</td>\n",
       "      <td>0.197156</td>\n",
       "      <td>-0.296882</td>\n",
       "      <td>-0.510667</td>\n",
       "      <td>-0.134766</td>\n",
       "      <td>0.018986</td>\n",
       "      <td>-0.041584</td>\n",
       "      <td>-0.389338</td>\n",
       "      <td>-0.363250</td>\n",
       "    </tr>\n",
       "    <tr>\n",
       "      <th>3</th>\n",
       "      <td>0.146814</td>\n",
       "      <td>-0.070676</td>\n",
       "      <td>-0.100278</td>\n",
       "      <td>-0.109760</td>\n",
       "      <td>0.241559</td>\n",
       "      <td>0.191254</td>\n",
       "      <td>-0.209931</td>\n",
       "      <td>-0.128875</td>\n",
       "      <td>-0.123182</td>\n",
       "      <td>-0.515691</td>\n",
       "      <td>...</td>\n",
       "      <td>-0.240626</td>\n",
       "      <td>-0.174904</td>\n",
       "      <td>0.195586</td>\n",
       "      <td>-0.293485</td>\n",
       "      <td>-0.498475</td>\n",
       "      <td>-0.102843</td>\n",
       "      <td>0.023354</td>\n",
       "      <td>-0.042834</td>\n",
       "      <td>-0.396765</td>\n",
       "      <td>-0.344195</td>\n",
       "    </tr>\n",
       "    <tr>\n",
       "      <th>4</th>\n",
       "      <td>0.153484</td>\n",
       "      <td>-0.072462</td>\n",
       "      <td>-0.121676</td>\n",
       "      <td>-0.073913</td>\n",
       "      <td>0.199845</td>\n",
       "      <td>0.192307</td>\n",
       "      <td>-0.201237</td>\n",
       "      <td>-0.117380</td>\n",
       "      <td>-0.112310</td>\n",
       "      <td>-0.499367</td>\n",
       "      <td>...</td>\n",
       "      <td>-0.223617</td>\n",
       "      <td>-0.171471</td>\n",
       "      <td>0.168011</td>\n",
       "      <td>-0.295306</td>\n",
       "      <td>-0.517102</td>\n",
       "      <td>-0.114088</td>\n",
       "      <td>0.023986</td>\n",
       "      <td>-0.048638</td>\n",
       "      <td>-0.390393</td>\n",
       "      <td>-0.364698</td>\n",
       "    </tr>\n",
       "  </tbody>\n",
       "</table>\n",
       "<p>5 rows × 50 columns</p>\n",
       "</div>"
      ],
      "text/plain": [
       "         0         1         2         3         4         5         6   \\\n",
       "0  0.149475 -0.089367 -0.053725 -0.085491  0.262660  0.161640 -0.186203   \n",
       "1  0.127054 -0.079218 -0.104662 -0.070142  0.222089  0.190405 -0.186759   \n",
       "2  0.138468 -0.068535 -0.123571 -0.083346  0.201931  0.208597 -0.202453   \n",
       "3  0.146814 -0.070676 -0.100278 -0.109760  0.241559  0.191254 -0.209931   \n",
       "4  0.153484 -0.072462 -0.121676 -0.073913  0.199845  0.192307 -0.201237   \n",
       "\n",
       "         7         8         9   ...        40        41        42        43  \\\n",
       "0 -0.135352 -0.086912 -0.496027  ... -0.270708 -0.137494  0.138740 -0.329140   \n",
       "1 -0.122672 -0.099675 -0.483153  ... -0.251167 -0.154793  0.171427 -0.316151   \n",
       "2 -0.125658 -0.102891 -0.499079  ... -0.236447 -0.162847  0.197156 -0.296882   \n",
       "3 -0.128875 -0.123182 -0.515691  ... -0.240626 -0.174904  0.195586 -0.293485   \n",
       "4 -0.117380 -0.112310 -0.499367  ... -0.223617 -0.171471  0.168011 -0.295306   \n",
       "\n",
       "         44        45        46        47        48        49  \n",
       "0 -0.501011 -0.106201  0.050774 -0.042230 -0.428181 -0.318480  \n",
       "1 -0.519904 -0.126814  0.018799 -0.039388 -0.398498 -0.351105  \n",
       "2 -0.510667 -0.134766  0.018986 -0.041584 -0.389338 -0.363250  \n",
       "3 -0.498475 -0.102843  0.023354 -0.042834 -0.396765 -0.344195  \n",
       "4 -0.517102 -0.114088  0.023986 -0.048638 -0.390393 -0.364698  \n",
       "\n",
       "[5 rows x 50 columns]"
      ]
     },
     "execution_count": 84,
     "metadata": {},
     "output_type": "execute_result"
    }
   ],
   "source": [
    "X_test = word2vec_test[word2vec_test.wv.vocab]\n",
    "df_test = pd.DataFrame(X_test)\n",
    "print(df_test.shape)\n",
    "df_test.head()"
   ]
  },
  {
   "cell_type": "code",
   "execution_count": 85,
   "metadata": {},
   "outputs": [],
   "source": [
    "# Computing the correlation matrix\n",
    "X_corr_test = df_test.corr()\n",
    "\n",
    "# Computing eigen values and eigen vectors\n",
    "values_test, vectors_test=np.linalg.eig(X_corr_test)\n",
    "\n",
    "# Sorting the eigen vectors corresponding to eigen values in descending order\n",
    "args_test = (-values_test).argsort()\n",
    "values_test = vectors_test[args_test]\n",
    "vectors_test = vectors_test[:, args_test]\n",
    "\n",
    "# Taking first 2 components which explain maximum variance for projecting\n",
    "new_vectors_test = vectors_test[:,:2]\n",
    "\n",
    "# Projecting it onto new dimesion with 2 axis\n",
    "new_X_test = np.dot(X_test, new_vectors_test)"
   ]
  },
  {
   "cell_type": "code",
   "execution_count": 86,
   "metadata": {},
   "outputs": [
    {
     "name": "stderr",
     "output_type": "stream",
     "text": [
      "c:\\users\\njeri\\.venvs\\smart_stay\\lib\\site-packages\\numpy\\core\\_asarray.py:136: ComplexWarning: Casting complex values to real discards the imaginary part\n",
      "  return array(a, dtype, copy=False, order=order, subok=True)\n",
      "c:\\users\\njeri\\.venvs\\smart_stay\\lib\\site-packages\\matplotlib\\text.py:1346: ComplexWarning: Casting complex values to real discards the imaginary part\n",
      "  x = float(self.convert_xunits(x))\n",
      "c:\\users\\njeri\\.venvs\\smart_stay\\lib\\site-packages\\matplotlib\\text.py:1348: ComplexWarning: Casting complex values to real discards the imaginary part\n",
      "  y = float(self.convert_yunits(y))\n",
      "c:\\users\\njeri\\.venvs\\smart_stay\\lib\\site-packages\\matplotlib\\text.py:824: ComplexWarning: Casting complex values to real discards the imaginary part\n",
      "  x = float(self.convert_xunits(self._x))\n",
      "c:\\users\\njeri\\.venvs\\smart_stay\\lib\\site-packages\\matplotlib\\text.py:825: ComplexWarning: Casting complex values to real discards the imaginary part\n",
      "  y = float(self.convert_yunits(self._y))\n",
      "c:\\users\\njeri\\.venvs\\smart_stay\\lib\\site-packages\\matplotlib\\text.py:686: ComplexWarning: Casting complex values to real discards the imaginary part\n",
      "  posx = float(textobj.convert_xunits(textobj._x))\n",
      "c:\\users\\njeri\\.venvs\\smart_stay\\lib\\site-packages\\matplotlib\\text.py:687: ComplexWarning: Casting complex values to real discards the imaginary part\n",
      "  posy = float(textobj.convert_yunits(textobj._y))\n"
     ]
    },
    {
     "data": {
      "image/png": "[encoded data removed]",
      "text/plain": [
       "<Figure size 1080x720 with 1 Axes>"
      ]
     },
     "metadata": {
      "needs_background": "light"
     },
     "output_type": "display_data"
    }
   ],
   "source": [
    "plt.figure(figsize=(15, 10))\n",
    "plt.scatter(new_X_test[:,0],new_X_test[:,1],linewidths=10,color='purple')\n",
    "plt.xlabel(\"PC1\",size=15)\n",
    "plt.ylabel(\"PC2\",size=15)\n",
    "plt.title(\"Test Data Embedding Space\",size=20)\n",
    "vocab_test = list(word2vec_test.wv.vocab)\n",
    "for i, word in enumerate(vocab_test):\n",
    "  plt.annotate(word,xy=(new_X_test[i,0],new_X_test[i,1]))\n",
    "plt.savefig('visualizations/embedding_test.png')"
   ]
  },
  {
   "cell_type": "markdown",
   "metadata": {},
   "source": [
    "### Model with RNN"
   ]
  },
  {
   "cell_type": "code",
   "execution_count": 156,
   "metadata": {},
   "outputs": [],
   "source": [
    "def embed_sentence(word2vec, sentence):\n",
    "    embedded_sentence = []\n",
    "    for word in sentence:\n",
    "        if word in word2vec.wv:\n",
    "            embedded_sentence.append(word2vec.wv[word])\n",
    "    return np.array(embedded_sentence)\n",
    "\n",
    "def embedding(word2vec, sentences):\n",
    "    embedded_sentences = [embed_sentence(word2vec, sentence) for sentence in sentences]\n",
    "    return embedded_sentences\n",
    "    \n",
    "X_train = embedding(word2vec, text_train)\n",
    "X_test = embedding(word2vec, text_test)"
   ]
  },
  {
   "cell_type": "code",
   "execution_count": 157,
   "metadata": {},
   "outputs": [],
   "source": [
    "X_train_pad = pad_sequences(X_train, padding='post', value=-1000, dtype='float32')\n",
    "X_test_pad = pad_sequences(X_test, padding='post', value=-1000, dtype='float32')"
   ]
  },
  {
   "cell_type": "code",
   "execution_count": 158,
   "metadata": {},
   "outputs": [
    {
     "name": "stdout",
     "output_type": "stream",
     "text": [
      "type: <class 'numpy.ndarray'> & <class 'numpy.ndarray'>\n",
      "shape: (13996, 185, 50) & (5999, 269, 50)\n",
      "embedding space: 50\n",
      "initial size: 13996 & 5999\n"
     ]
    }
   ],
   "source": [
    "print(f'type: {type(X_train_pad)} & {type(X_test_pad)}')\n",
    "print(f'shape: {X_train_pad.shape} & {X_test_pad.shape}')\n",
    "print(f'embedding space: {word2vec.wv.vector_size}')\n",
    "print(f'initial size: {len(X_train)} & {len(X_test)}')"
   ]
  },
  {
   "cell_type": "code",
   "execution_count": 163,
   "metadata": {},
   "outputs": [
    {
     "data": {
      "text/plain": [
       "(13996, 3)"
      ]
     },
     "execution_count": 163,
     "metadata": {},
     "output_type": "execute_result"
    }
   ],
   "source": [
    "y_train_arr = y_train.to_numpy()\n",
    "y_test_arr = y_test.to_numpy()\n",
    "y_train_arr.shape"
   ]
  },
  {
   "cell_type": "code",
   "execution_count": 165,
   "metadata": {},
   "outputs": [],
   "source": [
    "# Initial RNN\n",
    "\n",
    "def init_model():\n",
    "    model = models.Sequential()\n",
    "    model.add(layers.Masking(mask_value=-1000))\n",
    "    model.add(layers.LSTM(30, activation='tanh'))\n",
    "    model.add(layers.Dense(15, activation='relu'))\n",
    "    model.add(layers.Dense(3, activation='softmax')) #3-class classification\n",
    "    model.compile(loss='categorical_crossentropy',\n",
    "              optimizer='rmsprop', \n",
    "              metrics=['accuracy'])  \n",
    "    return model\n",
    "\n",
    "model = init_model()"
   ]
  },
  {
   "cell_type": "code",
   "execution_count": 166,
   "metadata": {
    "collapsed": true
   },
   "outputs": [
    {
     "name": "stdout",
     "output_type": "stream",
     "text": [
      "Epoch 1/2000\n",
      "438/438 - 64s - loss: 1.0624 - accuracy: 0.4647\n",
      "WARNING:tensorflow:Early stopping conditioned on metric `val_loss` which is not available. Available metrics are: loss,accuracy\n",
      "Epoch 2/2000\n",
      "438/438 - 58s - loss: 1.0598 - accuracy: 0.4650\n",
      "WARNING:tensorflow:Early stopping conditioned on metric `val_loss` which is not available. Available metrics are: loss,accuracy\n",
      "Epoch 3/2000\n",
      "438/438 - 59s - loss: 1.0588 - accuracy: 0.4668\n",
      "WARNING:tensorflow:Early stopping conditioned on metric `val_loss` which is not available. Available metrics are: loss,accuracy\n",
      "Epoch 4/2000\n",
      "438/438 - 59s - loss: 1.0582 - accuracy: 0.4676\n",
      "WARNING:tensorflow:Early stopping conditioned on metric `val_loss` which is not available. Available metrics are: loss,accuracy\n",
      "Epoch 5/2000\n",
      "438/438 - 54s - loss: 1.0573 - accuracy: 0.4696\n",
      "WARNING:tensorflow:Early stopping conditioned on metric `val_loss` which is not available. Available metrics are: loss,accuracy\n",
      "Epoch 6/2000\n",
      "438/438 - 60s - loss: 1.0571 - accuracy: 0.4696\n",
      "WARNING:tensorflow:Early stopping conditioned on metric `val_loss` which is not available. Available metrics are: loss,accuracy\n",
      "Epoch 7/2000\n",
      "438/438 - 60s - loss: 1.0563 - accuracy: 0.4690\n",
      "WARNING:tensorflow:Early stopping conditioned on metric `val_loss` which is not available. Available metrics are: loss,accuracy\n",
      "Epoch 8/2000\n",
      "438/438 - 59s - loss: 1.0564 - accuracy: 0.4694\n",
      "WARNING:tensorflow:Early stopping conditioned on metric `val_loss` which is not available. Available metrics are: loss,accuracy\n",
      "Epoch 9/2000\n",
      "438/438 - 36s - loss: 1.0560 - accuracy: 0.4688\n",
      "WARNING:tensorflow:Early stopping conditioned on metric `val_loss` which is not available. Available metrics are: loss,accuracy\n",
      "Epoch 10/2000\n",
      "438/438 - 19s - loss: 1.0560 - accuracy: 0.4682\n",
      "WARNING:tensorflow:Early stopping conditioned on metric `val_loss` which is not available. Available metrics are: loss,accuracy\n",
      "Epoch 11/2000\n",
      "438/438 - 20s - loss: 1.0555 - accuracy: 0.4697\n",
      "WARNING:tensorflow:Early stopping conditioned on metric `val_loss` which is not available. Available metrics are: loss,accuracy\n",
      "Epoch 12/2000\n",
      "438/438 - 20s - loss: 1.0563 - accuracy: 0.4705\n",
      "WARNING:tensorflow:Early stopping conditioned on metric `val_loss` which is not available. Available metrics are: loss,accuracy\n",
      "Epoch 13/2000\n",
      "438/438 - 20s - loss: 1.0561 - accuracy: 0.4695\n",
      "WARNING:tensorflow:Early stopping conditioned on metric `val_loss` which is not available. Available metrics are: loss,accuracy\n",
      "Epoch 14/2000\n",
      "438/438 - 20s - loss: 1.0556 - accuracy: 0.4693\n",
      "WARNING:tensorflow:Early stopping conditioned on metric `val_loss` which is not available. Available metrics are: loss,accuracy\n",
      "Epoch 15/2000\n",
      "438/438 - 20s - loss: 1.0555 - accuracy: 0.4692\n",
      "WARNING:tensorflow:Early stopping conditioned on metric `val_loss` which is not available. Available metrics are: loss,accuracy\n",
      "Epoch 16/2000\n",
      "438/438 - 20s - loss: 1.0554 - accuracy: 0.4708\n",
      "WARNING:tensorflow:Early stopping conditioned on metric `val_loss` which is not available. Available metrics are: loss,accuracy\n",
      "Epoch 17/2000\n",
      "438/438 - 20s - loss: 1.0560 - accuracy: 0.4702\n",
      "WARNING:tensorflow:Early stopping conditioned on metric `val_loss` which is not available. Available metrics are: loss,accuracy\n",
      "Epoch 18/2000\n",
      "438/438 - 20s - loss: 1.0558 - accuracy: 0.4690\n",
      "WARNING:tensorflow:Early stopping conditioned on metric `val_loss` which is not available. Available metrics are: loss,accuracy\n",
      "Epoch 19/2000\n",
      "438/438 - 20s - loss: 1.0553 - accuracy: 0.4701\n",
      "WARNING:tensorflow:Early stopping conditioned on metric `val_loss` which is not available. Available metrics are: loss,accuracy\n",
      "Epoch 20/2000\n",
      "438/438 - 20s - loss: 1.0556 - accuracy: 0.4706\n",
      "WARNING:tensorflow:Early stopping conditioned on metric `val_loss` which is not available. Available metrics are: loss,accuracy\n",
      "Epoch 21/2000\n",
      "438/438 - 20s - loss: 1.0555 - accuracy: 0.4692\n",
      "WARNING:tensorflow:Early stopping conditioned on metric `val_loss` which is not available. Available metrics are: loss,accuracy\n",
      "Epoch 22/2000\n",
      "438/438 - 20s - loss: 1.0553 - accuracy: 0.4698\n",
      "WARNING:tensorflow:Early stopping conditioned on metric `val_loss` which is not available. Available metrics are: loss,accuracy\n",
      "Epoch 23/2000\n",
      "438/438 - 20s - loss: 1.0557 - accuracy: 0.4693\n",
      "WARNING:tensorflow:Early stopping conditioned on metric `val_loss` which is not available. Available metrics are: loss,accuracy\n",
      "Epoch 24/2000\n",
      "438/438 - 20s - loss: 1.0554 - accuracy: 0.4706\n",
      "WARNING:tensorflow:Early stopping conditioned on metric `val_loss` which is not available. Available metrics are: loss,accuracy\n",
      "Epoch 25/2000\n",
      "438/438 - 20s - loss: 1.0552 - accuracy: 0.4705\n",
      "WARNING:tensorflow:Early stopping conditioned on metric `val_loss` which is not available. Available metrics are: loss,accuracy\n",
      "Epoch 26/2000\n",
      "438/438 - 20s - loss: 1.0549 - accuracy: 0.4701\n",
      "WARNING:tensorflow:Early stopping conditioned on metric `val_loss` which is not available. Available metrics are: loss,accuracy\n",
      "Epoch 27/2000\n",
      "438/438 - 20s - loss: 1.0550 - accuracy: 0.4716\n",
      "WARNING:tensorflow:Early stopping conditioned on metric `val_loss` which is not available. Available metrics are: loss,accuracy\n",
      "Epoch 28/2000\n",
      "438/438 - 20s - loss: 1.0547 - accuracy: 0.4714\n",
      "WARNING:tensorflow:Early stopping conditioned on metric `val_loss` which is not available. Available metrics are: loss,accuracy\n",
      "Epoch 29/2000\n",
      "438/438 - 20s - loss: 1.0555 - accuracy: 0.4701\n",
      "WARNING:tensorflow:Early stopping conditioned on metric `val_loss` which is not available. Available metrics are: loss,accuracy\n",
      "Epoch 30/2000\n",
      "438/438 - 20s - loss: 1.0551 - accuracy: 0.4710\n",
      "WARNING:tensorflow:Early stopping conditioned on metric `val_loss` which is not available. Available metrics are: loss,accuracy\n",
      "Epoch 31/2000\n",
      "438/438 - 20s - loss: 1.0552 - accuracy: 0.4704\n",
      "WARNING:tensorflow:Early stopping conditioned on metric `val_loss` which is not available. Available metrics are: loss,accuracy\n",
      "Epoch 32/2000\n",
      "438/438 - 20s - loss: 1.0549 - accuracy: 0.4714\n",
      "WARNING:tensorflow:Early stopping conditioned on metric `val_loss` which is not available. Available metrics are: loss,accuracy\n",
      "Epoch 33/2000\n",
      "438/438 - 20s - loss: 1.0553 - accuracy: 0.4709\n",
      "WARNING:tensorflow:Early stopping conditioned on metric `val_loss` which is not available. Available metrics are: loss,accuracy\n",
      "Epoch 34/2000\n",
      "438/438 - 20s - loss: 1.0548 - accuracy: 0.4710\n",
      "WARNING:tensorflow:Early stopping conditioned on metric `val_loss` which is not available. Available metrics are: loss,accuracy\n",
      "Epoch 35/2000\n",
      "438/438 - 20s - loss: 1.0554 - accuracy: 0.4711\n",
      "WARNING:tensorflow:Early stopping conditioned on metric `val_loss` which is not available. Available metrics are: loss,accuracy\n",
      "Epoch 36/2000\n",
      "438/438 - 20s - loss: 1.0553 - accuracy: 0.4701\n",
      "WARNING:tensorflow:Early stopping conditioned on metric `val_loss` which is not available. Available metrics are: loss,accuracy\n",
      "Epoch 37/2000\n",
      "438/438 - 20s - loss: 1.0551 - accuracy: 0.4713\n",
      "WARNING:tensorflow:Early stopping conditioned on metric `val_loss` which is not available. Available metrics are: loss,accuracy\n",
      "Epoch 38/2000\n",
      "438/438 - 20s - loss: 1.0550 - accuracy: 0.4708\n",
      "WARNING:tensorflow:Early stopping conditioned on metric `val_loss` which is not available. Available metrics are: loss,accuracy\n",
      "Epoch 39/2000\n",
      "438/438 - 20s - loss: 1.0553 - accuracy: 0.4708\n",
      "WARNING:tensorflow:Early stopping conditioned on metric `val_loss` which is not available. Available metrics are: loss,accuracy\n",
      "Epoch 40/2000\n",
      "438/438 - 20s - loss: 1.0552 - accuracy: 0.4711\n",
      "WARNING:tensorflow:Early stopping conditioned on metric `val_loss` which is not available. Available metrics are: loss,accuracy\n",
      "Epoch 41/2000\n",
      "438/438 - 20s - loss: 1.0553 - accuracy: 0.4718\n",
      "WARNING:tensorflow:Early stopping conditioned on metric `val_loss` which is not available. Available metrics are: loss,accuracy\n",
      "Epoch 42/2000\n",
      "438/438 - 20s - loss: 1.0555 - accuracy: 0.4705\n",
      "WARNING:tensorflow:Early stopping conditioned on metric `val_loss` which is not available. Available metrics are: loss,accuracy\n",
      "Epoch 43/2000\n",
      "438/438 - 20s - loss: 1.0552 - accuracy: 0.4710\n",
      "WARNING:tensorflow:Early stopping conditioned on metric `val_loss` which is not available. Available metrics are: loss,accuracy\n",
      "Epoch 44/2000\n",
      "438/438 - 21s - loss: 1.0553 - accuracy: 0.4703\n"
     ]
    },
    {
     "name": "stdout",
     "output_type": "stream",
     "text": [
      "WARNING:tensorflow:Early stopping conditioned on metric `val_loss` which is not available. Available metrics are: loss,accuracy\n",
      "Epoch 45/2000\n",
      "438/438 - 20s - loss: 1.0549 - accuracy: 0.4713\n",
      "WARNING:tensorflow:Early stopping conditioned on metric `val_loss` which is not available. Available metrics are: loss,accuracy\n",
      "Epoch 46/2000\n",
      "438/438 - 20s - loss: 1.0555 - accuracy: 0.4701\n",
      "WARNING:tensorflow:Early stopping conditioned on metric `val_loss` which is not available. Available metrics are: loss,accuracy\n",
      "Epoch 47/2000\n",
      "438/438 - 20s - loss: 1.0551 - accuracy: 0.4708\n",
      "WARNING:tensorflow:Early stopping conditioned on metric `val_loss` which is not available. Available metrics are: loss,accuracy\n",
      "Epoch 48/2000\n",
      "438/438 - 20s - loss: 1.0548 - accuracy: 0.4706\n",
      "WARNING:tensorflow:Early stopping conditioned on metric `val_loss` which is not available. Available metrics are: loss,accuracy\n",
      "Epoch 49/2000\n",
      "438/438 - 20s - loss: 1.0548 - accuracy: 0.4706\n",
      "WARNING:tensorflow:Early stopping conditioned on metric `val_loss` which is not available. Available metrics are: loss,accuracy\n",
      "Epoch 50/2000\n",
      "438/438 - 20s - loss: 1.0553 - accuracy: 0.4700\n",
      "WARNING:tensorflow:Early stopping conditioned on metric `val_loss` which is not available. Available metrics are: loss,accuracy\n",
      "Epoch 51/2000\n",
      "438/438 - 20s - loss: 1.0548 - accuracy: 0.4707\n",
      "WARNING:tensorflow:Early stopping conditioned on metric `val_loss` which is not available. Available metrics are: loss,accuracy\n",
      "Epoch 52/2000\n",
      "438/438 - 20s - loss: 1.0552 - accuracy: 0.4706\n",
      "WARNING:tensorflow:Early stopping conditioned on metric `val_loss` which is not available. Available metrics are: loss,accuracy\n",
      "Epoch 53/2000\n",
      "438/438 - 20s - loss: 1.0549 - accuracy: 0.4707\n",
      "WARNING:tensorflow:Early stopping conditioned on metric `val_loss` which is not available. Available metrics are: loss,accuracy\n",
      "Epoch 54/2000\n",
      "438/438 - 20s - loss: 1.0546 - accuracy: 0.4708\n",
      "WARNING:tensorflow:Early stopping conditioned on metric `val_loss` which is not available. Available metrics are: loss,accuracy\n",
      "Epoch 55/2000\n",
      "438/438 - 21s - loss: 1.0549 - accuracy: 0.4708\n",
      "WARNING:tensorflow:Early stopping conditioned on metric `val_loss` which is not available. Available metrics are: loss,accuracy\n",
      "Epoch 56/2000\n",
      "438/438 - 20s - loss: 1.0552 - accuracy: 0.4710\n",
      "WARNING:tensorflow:Early stopping conditioned on metric `val_loss` which is not available. Available metrics are: loss,accuracy\n",
      "Epoch 57/2000\n",
      "438/438 - 20s - loss: 1.0551 - accuracy: 0.4712\n",
      "WARNING:tensorflow:Early stopping conditioned on metric `val_loss` which is not available. Available metrics are: loss,accuracy\n",
      "Epoch 58/2000\n",
      "438/438 - 20s - loss: 1.0551 - accuracy: 0.4702\n",
      "WARNING:tensorflow:Early stopping conditioned on metric `val_loss` which is not available. Available metrics are: loss,accuracy\n",
      "Epoch 59/2000\n",
      "438/438 - 20s - loss: 1.0549 - accuracy: 0.4705\n",
      "WARNING:tensorflow:Early stopping conditioned on metric `val_loss` which is not available. Available metrics are: loss,accuracy\n",
      "Epoch 60/2000\n",
      "438/438 - 20s - loss: 1.0550 - accuracy: 0.4717\n",
      "WARNING:tensorflow:Early stopping conditioned on metric `val_loss` which is not available. Available metrics are: loss,accuracy\n",
      "Epoch 61/2000\n",
      "438/438 - 20s - loss: 1.0547 - accuracy: 0.4713\n",
      "WARNING:tensorflow:Early stopping conditioned on metric `val_loss` which is not available. Available metrics are: loss,accuracy\n",
      "Epoch 62/2000\n",
      "438/438 - 20s - loss: 1.0551 - accuracy: 0.4702\n",
      "WARNING:tensorflow:Early stopping conditioned on metric `val_loss` which is not available. Available metrics are: loss,accuracy\n",
      "Epoch 63/2000\n",
      "438/438 - 20s - loss: 1.0547 - accuracy: 0.4719\n",
      "WARNING:tensorflow:Early stopping conditioned on metric `val_loss` which is not available. Available metrics are: loss,accuracy\n",
      "Epoch 64/2000\n",
      "438/438 - 20s - loss: 1.0548 - accuracy: 0.4704\n",
      "WARNING:tensorflow:Early stopping conditioned on metric `val_loss` which is not available. Available metrics are: loss,accuracy\n",
      "Epoch 65/2000\n",
      "438/438 - 20s - loss: 1.0550 - accuracy: 0.4702\n",
      "WARNING:tensorflow:Early stopping conditioned on metric `val_loss` which is not available. Available metrics are: loss,accuracy\n",
      "Epoch 66/2000\n",
      "438/438 - 20s - loss: 1.0550 - accuracy: 0.4701\n",
      "WARNING:tensorflow:Early stopping conditioned on metric `val_loss` which is not available. Available metrics are: loss,accuracy\n",
      "Epoch 67/2000\n",
      "438/438 - 21s - loss: 1.0550 - accuracy: 0.4711\n",
      "WARNING:tensorflow:Early stopping conditioned on metric `val_loss` which is not available. Available metrics are: loss,accuracy\n",
      "Epoch 68/2000\n",
      "438/438 - 20s - loss: 1.0551 - accuracy: 0.4698\n",
      "WARNING:tensorflow:Early stopping conditioned on metric `val_loss` which is not available. Available metrics are: loss,accuracy\n",
      "Epoch 69/2000\n",
      "438/438 - 20s - loss: 1.0549 - accuracy: 0.4711\n",
      "WARNING:tensorflow:Early stopping conditioned on metric `val_loss` which is not available. Available metrics are: loss,accuracy\n",
      "Epoch 70/2000\n",
      "438/438 - 21s - loss: 1.0550 - accuracy: 0.4717\n",
      "WARNING:tensorflow:Early stopping conditioned on metric `val_loss` which is not available. Available metrics are: loss,accuracy\n",
      "Epoch 71/2000\n",
      "438/438 - 20s - loss: 1.0547 - accuracy: 0.4698\n",
      "WARNING:tensorflow:Early stopping conditioned on metric `val_loss` which is not available. Available metrics are: loss,accuracy\n",
      "Epoch 72/2000\n",
      "438/438 - 20s - loss: 1.0549 - accuracy: 0.4716\n",
      "WARNING:tensorflow:Early stopping conditioned on metric `val_loss` which is not available. Available metrics are: loss,accuracy\n",
      "Epoch 73/2000\n",
      "438/438 - 20s - loss: 1.0547 - accuracy: 0.4707\n",
      "WARNING:tensorflow:Early stopping conditioned on metric `val_loss` which is not available. Available metrics are: loss,accuracy\n",
      "Epoch 74/2000\n",
      "438/438 - 20s - loss: 1.0547 - accuracy: 0.4712\n",
      "WARNING:tensorflow:Early stopping conditioned on metric `val_loss` which is not available. Available metrics are: loss,accuracy\n",
      "Epoch 75/2000\n",
      "438/438 - 20s - loss: 1.0548 - accuracy: 0.4708\n",
      "WARNING:tensorflow:Early stopping conditioned on metric `val_loss` which is not available. Available metrics are: loss,accuracy\n",
      "Epoch 76/2000\n",
      "438/438 - 20s - loss: 1.0548 - accuracy: 0.4721\n",
      "WARNING:tensorflow:Early stopping conditioned on metric `val_loss` which is not available. Available metrics are: loss,accuracy\n",
      "Epoch 77/2000\n",
      "438/438 - 20s - loss: 1.0551 - accuracy: 0.4700\n",
      "WARNING:tensorflow:Early stopping conditioned on metric `val_loss` which is not available. Available metrics are: loss,accuracy\n",
      "Epoch 78/2000\n",
      "438/438 - 20s - loss: 1.0549 - accuracy: 0.4708\n",
      "WARNING:tensorflow:Early stopping conditioned on metric `val_loss` which is not available. Available metrics are: loss,accuracy\n",
      "Epoch 79/2000\n",
      "438/438 - 20s - loss: 1.0545 - accuracy: 0.4716\n",
      "WARNING:tensorflow:Early stopping conditioned on metric `val_loss` which is not available. Available metrics are: loss,accuracy\n",
      "Epoch 80/2000\n",
      "438/438 - 20s - loss: 1.0549 - accuracy: 0.4705\n",
      "WARNING:tensorflow:Early stopping conditioned on metric `val_loss` which is not available. Available metrics are: loss,accuracy\n",
      "Epoch 81/2000\n",
      "438/438 - 20s - loss: 1.0548 - accuracy: 0.4703\n",
      "WARNING:tensorflow:Early stopping conditioned on metric `val_loss` which is not available. Available metrics are: loss,accuracy\n",
      "Epoch 82/2000\n",
      "438/438 - 20s - loss: 1.0550 - accuracy: 0.4704\n",
      "WARNING:tensorflow:Early stopping conditioned on metric `val_loss` which is not available. Available metrics are: loss,accuracy\n",
      "Epoch 83/2000\n",
      "438/438 - 20s - loss: 1.0550 - accuracy: 0.4709\n",
      "WARNING:tensorflow:Early stopping conditioned on metric `val_loss` which is not available. Available metrics are: loss,accuracy\n",
      "Epoch 84/2000\n",
      "438/438 - 20s - loss: 1.0550 - accuracy: 0.4706\n",
      "WARNING:tensorflow:Early stopping conditioned on metric `val_loss` which is not available. Available metrics are: loss,accuracy\n",
      "Epoch 85/2000\n",
      "438/438 - 20s - loss: 1.0549 - accuracy: 0.4706\n",
      "WARNING:tensorflow:Early stopping conditioned on metric `val_loss` which is not available. Available metrics are: loss,accuracy\n",
      "Epoch 86/2000\n",
      "438/438 - 20s - loss: 1.0546 - accuracy: 0.4706\n",
      "WARNING:tensorflow:Early stopping conditioned on metric `val_loss` which is not available. Available metrics are: loss,accuracy\n",
      "Epoch 87/2000\n",
      "438/438 - 20s - loss: 1.0551 - accuracy: 0.4707\n",
      "WARNING:tensorflow:Early stopping conditioned on metric `val_loss` which is not available. Available metrics are: loss,accuracy\n"
     ]
    },
    {
     "name": "stdout",
     "output_type": "stream",
     "text": [
      "Epoch 88/2000\n",
      "438/438 - 20s - loss: 1.0550 - accuracy: 0.4709\n",
      "WARNING:tensorflow:Early stopping conditioned on metric `val_loss` which is not available. Available metrics are: loss,accuracy\n",
      "Epoch 89/2000\n",
      "438/438 - 20s - loss: 1.0549 - accuracy: 0.4707\n",
      "WARNING:tensorflow:Early stopping conditioned on metric `val_loss` which is not available. Available metrics are: loss,accuracy\n",
      "Epoch 90/2000\n",
      "438/438 - 20s - loss: 1.0547 - accuracy: 0.4711\n",
      "WARNING:tensorflow:Early stopping conditioned on metric `val_loss` which is not available. Available metrics are: loss,accuracy\n",
      "Epoch 91/2000\n",
      "438/438 - 23s - loss: 1.0548 - accuracy: 0.4711\n",
      "WARNING:tensorflow:Early stopping conditioned on metric `val_loss` which is not available. Available metrics are: loss,accuracy\n",
      "Epoch 92/2000\n",
      "438/438 - 21s - loss: 1.0545 - accuracy: 0.4710\n",
      "WARNING:tensorflow:Early stopping conditioned on metric `val_loss` which is not available. Available metrics are: loss,accuracy\n",
      "Epoch 93/2000\n",
      "438/438 - 21s - loss: 1.0548 - accuracy: 0.4706\n",
      "WARNING:tensorflow:Early stopping conditioned on metric `val_loss` which is not available. Available metrics are: loss,accuracy\n",
      "Epoch 94/2000\n",
      "438/438 - 21s - loss: 1.0547 - accuracy: 0.4719\n",
      "WARNING:tensorflow:Early stopping conditioned on metric `val_loss` which is not available. Available metrics are: loss,accuracy\n",
      "Epoch 95/2000\n",
      "438/438 - 20s - loss: 1.0547 - accuracy: 0.4701\n",
      "WARNING:tensorflow:Early stopping conditioned on metric `val_loss` which is not available. Available metrics are: loss,accuracy\n",
      "Epoch 96/2000\n",
      "438/438 - 20s - loss: 1.0547 - accuracy: 0.4702\n",
      "WARNING:tensorflow:Early stopping conditioned on metric `val_loss` which is not available. Available metrics are: loss,accuracy\n",
      "Epoch 97/2000\n",
      "438/438 - 20s - loss: 1.0548 - accuracy: 0.4712\n",
      "WARNING:tensorflow:Early stopping conditioned on metric `val_loss` which is not available. Available metrics are: loss,accuracy\n",
      "Epoch 98/2000\n",
      "438/438 - 21s - loss: 1.0544 - accuracy: 0.4706\n",
      "WARNING:tensorflow:Early stopping conditioned on metric `val_loss` which is not available. Available metrics are: loss,accuracy\n",
      "Epoch 99/2000\n",
      "438/438 - 20s - loss: 1.0549 - accuracy: 0.4699\n",
      "WARNING:tensorflow:Early stopping conditioned on metric `val_loss` which is not available. Available metrics are: loss,accuracy\n",
      "Epoch 100/2000\n",
      "438/438 - 20s - loss: 1.0546 - accuracy: 0.4710\n",
      "WARNING:tensorflow:Early stopping conditioned on metric `val_loss` which is not available. Available metrics are: loss,accuracy\n",
      "Epoch 101/2000\n",
      "438/438 - 20s - loss: 1.0548 - accuracy: 0.4706\n",
      "WARNING:tensorflow:Early stopping conditioned on metric `val_loss` which is not available. Available metrics are: loss,accuracy\n",
      "Epoch 102/2000\n",
      "438/438 - 19s - loss: 1.0545 - accuracy: 0.4708\n",
      "WARNING:tensorflow:Early stopping conditioned on metric `val_loss` which is not available. Available metrics are: loss,accuracy\n",
      "Epoch 103/2000\n",
      "438/438 - 19s - loss: 1.0548 - accuracy: 0.4708\n",
      "WARNING:tensorflow:Early stopping conditioned on metric `val_loss` which is not available. Available metrics are: loss,accuracy\n",
      "Epoch 104/2000\n",
      "438/438 - 19s - loss: 1.0547 - accuracy: 0.4707\n",
      "WARNING:tensorflow:Early stopping conditioned on metric `val_loss` which is not available. Available metrics are: loss,accuracy\n",
      "Epoch 105/2000\n",
      "438/438 - 19s - loss: 1.0547 - accuracy: 0.4705\n",
      "WARNING:tensorflow:Early stopping conditioned on metric `val_loss` which is not available. Available metrics are: loss,accuracy\n",
      "Epoch 106/2000\n",
      "438/438 - 19s - loss: 1.0546 - accuracy: 0.4715\n",
      "WARNING:tensorflow:Early stopping conditioned on metric `val_loss` which is not available. Available metrics are: loss,accuracy\n",
      "Epoch 107/2000\n",
      "438/438 - 19s - loss: 1.0549 - accuracy: 0.4698\n",
      "WARNING:tensorflow:Early stopping conditioned on metric `val_loss` which is not available. Available metrics are: loss,accuracy\n",
      "Epoch 108/2000\n",
      "438/438 - 19s - loss: 1.0546 - accuracy: 0.4723\n",
      "WARNING:tensorflow:Early stopping conditioned on metric `val_loss` which is not available. Available metrics are: loss,accuracy\n",
      "Epoch 109/2000\n",
      "438/438 - 19s - loss: 1.0545 - accuracy: 0.4711\n",
      "WARNING:tensorflow:Early stopping conditioned on metric `val_loss` which is not available. Available metrics are: loss,accuracy\n",
      "Epoch 110/2000\n",
      "438/438 - 19s - loss: 1.0548 - accuracy: 0.4705\n",
      "WARNING:tensorflow:Early stopping conditioned on metric `val_loss` which is not available. Available metrics are: loss,accuracy\n",
      "Epoch 111/2000\n",
      "438/438 - 19s - loss: 1.0545 - accuracy: 0.4703\n",
      "WARNING:tensorflow:Early stopping conditioned on metric `val_loss` which is not available. Available metrics are: loss,accuracy\n",
      "Epoch 112/2000\n",
      "438/438 - 19s - loss: 1.0547 - accuracy: 0.4704\n",
      "WARNING:tensorflow:Early stopping conditioned on metric `val_loss` which is not available. Available metrics are: loss,accuracy\n",
      "Epoch 113/2000\n",
      "438/438 - 19s - loss: 1.0544 - accuracy: 0.4711\n",
      "WARNING:tensorflow:Early stopping conditioned on metric `val_loss` which is not available. Available metrics are: loss,accuracy\n",
      "Epoch 114/2000\n",
      "438/438 - 19s - loss: 1.0548 - accuracy: 0.4704\n",
      "WARNING:tensorflow:Early stopping conditioned on metric `val_loss` which is not available. Available metrics are: loss,accuracy\n",
      "Epoch 115/2000\n",
      "438/438 - 19s - loss: 1.0546 - accuracy: 0.4710\n",
      "WARNING:tensorflow:Early stopping conditioned on metric `val_loss` which is not available. Available metrics are: loss,accuracy\n",
      "Epoch 116/2000\n",
      "438/438 - 19s - loss: 1.0545 - accuracy: 0.4700\n",
      "WARNING:tensorflow:Early stopping conditioned on metric `val_loss` which is not available. Available metrics are: loss,accuracy\n",
      "Epoch 117/2000\n",
      "438/438 - 19s - loss: 1.0546 - accuracy: 0.4711\n",
      "WARNING:tensorflow:Early stopping conditioned on metric `val_loss` which is not available. Available metrics are: loss,accuracy\n",
      "Epoch 118/2000\n",
      "438/438 - 19s - loss: 1.0546 - accuracy: 0.4707\n",
      "WARNING:tensorflow:Early stopping conditioned on metric `val_loss` which is not available. Available metrics are: loss,accuracy\n",
      "Epoch 119/2000\n",
      "438/438 - 19s - loss: 1.0548 - accuracy: 0.4707\n",
      "WARNING:tensorflow:Early stopping conditioned on metric `val_loss` which is not available. Available metrics are: loss,accuracy\n",
      "Epoch 120/2000\n",
      "438/438 - 19s - loss: 1.0545 - accuracy: 0.4707\n",
      "WARNING:tensorflow:Early stopping conditioned on metric `val_loss` which is not available. Available metrics are: loss,accuracy\n",
      "Epoch 121/2000\n",
      "438/438 - 19s - loss: 1.0544 - accuracy: 0.4701\n",
      "WARNING:tensorflow:Early stopping conditioned on metric `val_loss` which is not available. Available metrics are: loss,accuracy\n",
      "Epoch 122/2000\n",
      "438/438 - 19s - loss: 1.0547 - accuracy: 0.4711\n",
      "WARNING:tensorflow:Early stopping conditioned on metric `val_loss` which is not available. Available metrics are: loss,accuracy\n",
      "Epoch 123/2000\n",
      "438/438 - 19s - loss: 1.0546 - accuracy: 0.4711\n",
      "WARNING:tensorflow:Early stopping conditioned on metric `val_loss` which is not available. Available metrics are: loss,accuracy\n",
      "Epoch 124/2000\n",
      "438/438 - 19s - loss: 1.0547 - accuracy: 0.4701\n",
      "WARNING:tensorflow:Early stopping conditioned on metric `val_loss` which is not available. Available metrics are: loss,accuracy\n",
      "Epoch 125/2000\n",
      "438/438 - 19s - loss: 1.0546 - accuracy: 0.4702\n",
      "WARNING:tensorflow:Early stopping conditioned on metric `val_loss` which is not available. Available metrics are: loss,accuracy\n",
      "Epoch 126/2000\n",
      "438/438 - 19s - loss: 1.0548 - accuracy: 0.4699\n",
      "WARNING:tensorflow:Early stopping conditioned on metric `val_loss` which is not available. Available metrics are: loss,accuracy\n",
      "Epoch 127/2000\n",
      "438/438 - 19s - loss: 1.0546 - accuracy: 0.4703\n",
      "WARNING:tensorflow:Early stopping conditioned on metric `val_loss` which is not available. Available metrics are: loss,accuracy\n",
      "Epoch 128/2000\n",
      "438/438 - 19s - loss: 1.0548 - accuracy: 0.4701\n",
      "WARNING:tensorflow:Early stopping conditioned on metric `val_loss` which is not available. Available metrics are: loss,accuracy\n",
      "Epoch 129/2000\n",
      "438/438 - 20s - loss: 1.0547 - accuracy: 0.4713\n",
      "WARNING:tensorflow:Early stopping conditioned on metric `val_loss` which is not available. Available metrics are: loss,accuracy\n",
      "Epoch 130/2000\n",
      "438/438 - 20s - loss: 1.0548 - accuracy: 0.4703\n",
      "WARNING:tensorflow:Early stopping conditioned on metric `val_loss` which is not available. Available metrics are: loss,accuracy\n"
     ]
    },
    {
     "name": "stdout",
     "output_type": "stream",
     "text": [
      "Epoch 131/2000\n",
      "438/438 - 20s - loss: 1.0546 - accuracy: 0.4705\n",
      "WARNING:tensorflow:Early stopping conditioned on metric `val_loss` which is not available. Available metrics are: loss,accuracy\n",
      "Epoch 132/2000\n",
      "438/438 - 20s - loss: 1.0546 - accuracy: 0.4709\n",
      "WARNING:tensorflow:Early stopping conditioned on metric `val_loss` which is not available. Available metrics are: loss,accuracy\n",
      "Epoch 133/2000\n",
      "438/438 - 20s - loss: 1.0548 - accuracy: 0.4703\n",
      "WARNING:tensorflow:Early stopping conditioned on metric `val_loss` which is not available. Available metrics are: loss,accuracy\n",
      "Epoch 134/2000\n"
     ]
    },
    {
     "ename": "KeyboardInterrupt",
     "evalue": "",
     "output_type": "error",
     "traceback": [
      "\u001b[1;31m---------------------------------------------------------------------------\u001b[0m",
      "\u001b[1;31mKeyboardInterrupt\u001b[0m                         Traceback (most recent call last)",
      "\u001b[1;32m<ipython-input-166-c407a4ef3197>\u001b[0m in \u001b[0;36m<module>\u001b[1;34m\u001b[0m\n\u001b[0;32m      4\u001b[0m                     \u001b[0mbatch_size\u001b[0m\u001b[1;33m=\u001b[0m\u001b[1;36m32\u001b[0m\u001b[1;33m,\u001b[0m\u001b[1;33m\u001b[0m\u001b[1;33m\u001b[0m\u001b[0m\n\u001b[0;32m      5\u001b[0m                     \u001b[0mverbose\u001b[0m\u001b[1;33m=\u001b[0m\u001b[1;36m2\u001b[0m\u001b[1;33m,\u001b[0m\u001b[1;33m\u001b[0m\u001b[1;33m\u001b[0m\u001b[0m\n\u001b[1;32m----> 6\u001b[1;33m                     callbacks=[es])\n\u001b[0m",
      "\u001b[1;32mc:\\users\\njeri\\.venvs\\smart_stay\\lib\\site-packages\\tensorflow\\python\\keras\\engine\\training.py\u001b[0m in \u001b[0;36mfit\u001b[1;34m(self, x, y, batch_size, epochs, verbose, callbacks, validation_split, validation_data, shuffle, class_weight, sample_weight, initial_epoch, steps_per_epoch, validation_steps, validation_batch_size, validation_freq, max_queue_size, workers, use_multiprocessing)\u001b[0m\n\u001b[0;32m   1098\u001b[0m                 _r=1):\n\u001b[0;32m   1099\u001b[0m               \u001b[0mcallbacks\u001b[0m\u001b[1;33m.\u001b[0m\u001b[0mon_train_batch_begin\u001b[0m\u001b[1;33m(\u001b[0m\u001b[0mstep\u001b[0m\u001b[1;33m)\u001b[0m\u001b[1;33m\u001b[0m\u001b[1;33m\u001b[0m\u001b[0m\n\u001b[1;32m-> 1100\u001b[1;33m               \u001b[0mtmp_logs\u001b[0m \u001b[1;33m=\u001b[0m \u001b[0mself\u001b[0m\u001b[1;33m.\u001b[0m\u001b[0mtrain_function\u001b[0m\u001b[1;33m(\u001b[0m\u001b[0miterator\u001b[0m\u001b[1;33m)\u001b[0m\u001b[1;33m\u001b[0m\u001b[1;33m\u001b[0m\u001b[0m\n\u001b[0m\u001b[0;32m   1101\u001b[0m               \u001b[1;32mif\u001b[0m \u001b[0mdata_handler\u001b[0m\u001b[1;33m.\u001b[0m\u001b[0mshould_sync\u001b[0m\u001b[1;33m:\u001b[0m\u001b[1;33m\u001b[0m\u001b[1;33m\u001b[0m\u001b[0m\n\u001b[0;32m   1102\u001b[0m                 \u001b[0mcontext\u001b[0m\u001b[1;33m.\u001b[0m\u001b[0masync_wait\u001b[0m\u001b[1;33m(\u001b[0m\u001b[1;33m)\u001b[0m\u001b[1;33m\u001b[0m\u001b[1;33m\u001b[0m\u001b[0m\n",
      "\u001b[1;32mc:\\users\\njeri\\.venvs\\smart_stay\\lib\\site-packages\\tensorflow\\python\\eager\\def_function.py\u001b[0m in \u001b[0;36m__call__\u001b[1;34m(self, *args, **kwds)\u001b[0m\n\u001b[0;32m    826\u001b[0m     \u001b[0mtracing_count\u001b[0m \u001b[1;33m=\u001b[0m \u001b[0mself\u001b[0m\u001b[1;33m.\u001b[0m\u001b[0mexperimental_get_tracing_count\u001b[0m\u001b[1;33m(\u001b[0m\u001b[1;33m)\u001b[0m\u001b[1;33m\u001b[0m\u001b[1;33m\u001b[0m\u001b[0m\n\u001b[0;32m    827\u001b[0m     \u001b[1;32mwith\u001b[0m \u001b[0mtrace\u001b[0m\u001b[1;33m.\u001b[0m\u001b[0mTrace\u001b[0m\u001b[1;33m(\u001b[0m\u001b[0mself\u001b[0m\u001b[1;33m.\u001b[0m\u001b[0m_name\u001b[0m\u001b[1;33m)\u001b[0m \u001b[1;32mas\u001b[0m \u001b[0mtm\u001b[0m\u001b[1;33m:\u001b[0m\u001b[1;33m\u001b[0m\u001b[1;33m\u001b[0m\u001b[0m\n\u001b[1;32m--> 828\u001b[1;33m       \u001b[0mresult\u001b[0m \u001b[1;33m=\u001b[0m \u001b[0mself\u001b[0m\u001b[1;33m.\u001b[0m\u001b[0m_call\u001b[0m\u001b[1;33m(\u001b[0m\u001b[1;33m*\u001b[0m\u001b[0margs\u001b[0m\u001b[1;33m,\u001b[0m \u001b[1;33m**\u001b[0m\u001b[0mkwds\u001b[0m\u001b[1;33m)\u001b[0m\u001b[1;33m\u001b[0m\u001b[1;33m\u001b[0m\u001b[0m\n\u001b[0m\u001b[0;32m    829\u001b[0m       \u001b[0mcompiler\u001b[0m \u001b[1;33m=\u001b[0m \u001b[1;34m\"xla\"\u001b[0m \u001b[1;32mif\u001b[0m \u001b[0mself\u001b[0m\u001b[1;33m.\u001b[0m\u001b[0m_experimental_compile\u001b[0m \u001b[1;32melse\u001b[0m \u001b[1;34m\"nonXla\"\u001b[0m\u001b[1;33m\u001b[0m\u001b[1;33m\u001b[0m\u001b[0m\n\u001b[0;32m    830\u001b[0m       \u001b[0mnew_tracing_count\u001b[0m \u001b[1;33m=\u001b[0m \u001b[0mself\u001b[0m\u001b[1;33m.\u001b[0m\u001b[0mexperimental_get_tracing_count\u001b[0m\u001b[1;33m(\u001b[0m\u001b[1;33m)\u001b[0m\u001b[1;33m\u001b[0m\u001b[1;33m\u001b[0m\u001b[0m\n",
      "\u001b[1;32mc:\\users\\njeri\\.venvs\\smart_stay\\lib\\site-packages\\tensorflow\\python\\eager\\def_function.py\u001b[0m in \u001b[0;36m_call\u001b[1;34m(self, *args, **kwds)\u001b[0m\n\u001b[0;32m    853\u001b[0m       \u001b[1;31m# In this case we have created variables on the first call, so we run the\u001b[0m\u001b[1;33m\u001b[0m\u001b[1;33m\u001b[0m\u001b[1;33m\u001b[0m\u001b[0m\n\u001b[0;32m    854\u001b[0m       \u001b[1;31m# defunned version which is guaranteed to never create variables.\u001b[0m\u001b[1;33m\u001b[0m\u001b[1;33m\u001b[0m\u001b[1;33m\u001b[0m\u001b[0m\n\u001b[1;32m--> 855\u001b[1;33m       \u001b[1;32mreturn\u001b[0m \u001b[0mself\u001b[0m\u001b[1;33m.\u001b[0m\u001b[0m_stateless_fn\u001b[0m\u001b[1;33m(\u001b[0m\u001b[1;33m*\u001b[0m\u001b[0margs\u001b[0m\u001b[1;33m,\u001b[0m \u001b[1;33m**\u001b[0m\u001b[0mkwds\u001b[0m\u001b[1;33m)\u001b[0m  \u001b[1;31m# pylint: disable=not-callable\u001b[0m\u001b[1;33m\u001b[0m\u001b[1;33m\u001b[0m\u001b[0m\n\u001b[0m\u001b[0;32m    856\u001b[0m     \u001b[1;32melif\u001b[0m \u001b[0mself\u001b[0m\u001b[1;33m.\u001b[0m\u001b[0m_stateful_fn\u001b[0m \u001b[1;32mis\u001b[0m \u001b[1;32mnot\u001b[0m \u001b[1;32mNone\u001b[0m\u001b[1;33m:\u001b[0m\u001b[1;33m\u001b[0m\u001b[1;33m\u001b[0m\u001b[0m\n\u001b[0;32m    857\u001b[0m       \u001b[1;31m# Release the lock early so that multiple threads can perform the call\u001b[0m\u001b[1;33m\u001b[0m\u001b[1;33m\u001b[0m\u001b[1;33m\u001b[0m\u001b[0m\n",
      "\u001b[1;32mc:\\users\\njeri\\.venvs\\smart_stay\\lib\\site-packages\\tensorflow\\python\\eager\\function.py\u001b[0m in \u001b[0;36m__call__\u001b[1;34m(self, *args, **kwargs)\u001b[0m\n\u001b[0;32m   2941\u001b[0m        filtered_flat_args) = self._maybe_define_function(args, kwargs)\n\u001b[0;32m   2942\u001b[0m     return graph_function._call_flat(\n\u001b[1;32m-> 2943\u001b[1;33m         filtered_flat_args, captured_inputs=graph_function.captured_inputs)  # pylint: disable=protected-access\n\u001b[0m\u001b[0;32m   2944\u001b[0m \u001b[1;33m\u001b[0m\u001b[0m\n\u001b[0;32m   2945\u001b[0m   \u001b[1;33m@\u001b[0m\u001b[0mproperty\u001b[0m\u001b[1;33m\u001b[0m\u001b[1;33m\u001b[0m\u001b[0m\n",
      "\u001b[1;32mc:\\users\\njeri\\.venvs\\smart_stay\\lib\\site-packages\\tensorflow\\python\\eager\\function.py\u001b[0m in \u001b[0;36m_call_flat\u001b[1;34m(self, args, captured_inputs, cancellation_manager)\u001b[0m\n\u001b[0;32m   1917\u001b[0m       \u001b[1;31m# No tape is watching; skip to running the function.\u001b[0m\u001b[1;33m\u001b[0m\u001b[1;33m\u001b[0m\u001b[1;33m\u001b[0m\u001b[0m\n\u001b[0;32m   1918\u001b[0m       return self._build_call_outputs(self._inference_function.call(\n\u001b[1;32m-> 1919\u001b[1;33m           ctx, args, cancellation_manager=cancellation_manager))\n\u001b[0m\u001b[0;32m   1920\u001b[0m     forward_backward = self._select_forward_and_backward_functions(\n\u001b[0;32m   1921\u001b[0m         \u001b[0margs\u001b[0m\u001b[1;33m,\u001b[0m\u001b[1;33m\u001b[0m\u001b[1;33m\u001b[0m\u001b[0m\n",
      "\u001b[1;32mc:\\users\\njeri\\.venvs\\smart_stay\\lib\\site-packages\\tensorflow\\python\\eager\\function.py\u001b[0m in \u001b[0;36mcall\u001b[1;34m(self, ctx, args, cancellation_manager)\u001b[0m\n\u001b[0;32m    558\u001b[0m               \u001b[0minputs\u001b[0m\u001b[1;33m=\u001b[0m\u001b[0margs\u001b[0m\u001b[1;33m,\u001b[0m\u001b[1;33m\u001b[0m\u001b[1;33m\u001b[0m\u001b[0m\n\u001b[0;32m    559\u001b[0m               \u001b[0mattrs\u001b[0m\u001b[1;33m=\u001b[0m\u001b[0mattrs\u001b[0m\u001b[1;33m,\u001b[0m\u001b[1;33m\u001b[0m\u001b[1;33m\u001b[0m\u001b[0m\n\u001b[1;32m--> 560\u001b[1;33m               ctx=ctx)\n\u001b[0m\u001b[0;32m    561\u001b[0m         \u001b[1;32melse\u001b[0m\u001b[1;33m:\u001b[0m\u001b[1;33m\u001b[0m\u001b[1;33m\u001b[0m\u001b[0m\n\u001b[0;32m    562\u001b[0m           outputs = execute.execute_with_cancellation(\n",
      "\u001b[1;32mc:\\users\\njeri\\.venvs\\smart_stay\\lib\\site-packages\\tensorflow\\python\\eager\\execute.py\u001b[0m in \u001b[0;36mquick_execute\u001b[1;34m(op_name, num_outputs, inputs, attrs, ctx, name)\u001b[0m\n\u001b[0;32m     58\u001b[0m     \u001b[0mctx\u001b[0m\u001b[1;33m.\u001b[0m\u001b[0mensure_initialized\u001b[0m\u001b[1;33m(\u001b[0m\u001b[1;33m)\u001b[0m\u001b[1;33m\u001b[0m\u001b[1;33m\u001b[0m\u001b[0m\n\u001b[0;32m     59\u001b[0m     tensors = pywrap_tfe.TFE_Py_Execute(ctx._handle, device_name, op_name,\n\u001b[1;32m---> 60\u001b[1;33m                                         inputs, attrs, num_outputs)\n\u001b[0m\u001b[0;32m     61\u001b[0m   \u001b[1;32mexcept\u001b[0m \u001b[0mcore\u001b[0m\u001b[1;33m.\u001b[0m\u001b[0m_NotOkStatusException\u001b[0m \u001b[1;32mas\u001b[0m \u001b[0me\u001b[0m\u001b[1;33m:\u001b[0m\u001b[1;33m\u001b[0m\u001b[1;33m\u001b[0m\u001b[0m\n\u001b[0;32m     62\u001b[0m     \u001b[1;32mif\u001b[0m \u001b[0mname\u001b[0m \u001b[1;32mis\u001b[0m \u001b[1;32mnot\u001b[0m \u001b[1;32mNone\u001b[0m\u001b[1;33m:\u001b[0m\u001b[1;33m\u001b[0m\u001b[1;33m\u001b[0m\u001b[0m\n",
      "\u001b[1;31mKeyboardInterrupt\u001b[0m: "
     ]
    }
   ],
   "source": [
    "es = EarlyStopping(patience=3, restore_best_weights=True)\n",
    "history = model.fit(X_train_pad, y_train_arr,\n",
    "                    epochs=2000,\n",
    "                    batch_size=32, \n",
    "                    verbose=2, \n",
    "                    callbacks=[es])"
   ]
  },
  {
   "cell_type": "code",
   "execution_count": 167,
   "metadata": {},
   "outputs": [
    {
     "name": "stdout",
     "output_type": "stream",
     "text": [
      "accuracy = 0.45757627487182617\n"
     ]
    }
   ],
   "source": [
    "results = model.evaluate(X_test_pad, y_test_arr, verbose=0)\n",
    "print(f'accuracy = {results[1]}')"
   ]
  },
  {
   "cell_type": "markdown",
   "metadata": {},
   "source": [
    "--------------------------------------------------------------------\n",
    "\n",
    "At stopping point, model is about the same as baseline in accuracy score. Stopped model due to lengthy training time. To shorten training time, try:\n",
    "\n",
    "- using pretrained embedding space\n",
    "- running on cloud\n",
    "\n",
    "---------------------------------------------------------------------"
   ]
  },
  {
   "cell_type": "markdown",
   "metadata": {},
   "source": [
    "Ideas to improve model before engineering:\n",
    "\n",
    "- combine all text columns into one\n",
    "- train-test split for Multinomial NB and LDA"
   ]
  },
  {
   "cell_type": "markdown",
   "metadata": {},
   "source": [
    "## Engineering\n",
    "\n",
    "From data & models to a deployed product:\n",
    "- create package (init, setup, reqs, etc)\n",
    "- check formatting with Black\n",
    "- use MLflow to track performance of model iterations\n",
    "- train on GCP\n",
    "- build API with FastAPI and Uvicorn\n",
    "- build Docker image & deploy to Cloud Run (may also consider Heroku)\n",
    "- build UI; initial ideas:\n",
    "    - \"where do you want to go?\" User input of location\n",
    "    - Or could be \"what do you want to do?\" User input of activities with location then suggested\n",
    "    - Locations show map of hotel locations (using lat/lon to locate, Taxi Fare interface as a starting point)\n",
    "    - Location page shows average rating and number of ratings and some blurbs of what has been said\n",
    "- consider flask or streamlit for app (dependent on which works better with Cloud Run)"
   ]
  },
  {
   "cell_type": "markdown",
   "metadata": {},
   "source": [
    "## Kitt References\n",
    "- Machine Learning:\n",
    "    - Natural Language Processing\n",
    "    - Performance Metrics\n",
    "- Deep Learning:\n",
    "    - Natural Langauge Processing\n",
    "- Data Engineering:\n",
    "    - Code as a Product\n",
    "    - Machine Learning Iteration\n",
    "    - Train at Scale\n",
    "    - Predict in Production\n",
    "    - User Interface"
   ]
  },
  {
   "cell_type": "code",
   "execution_count": null,
   "metadata": {},
   "outputs": [],
   "source": []
  },
  {
   "cell_type": "code",
   "execution_count": null,
   "metadata": {},
   "outputs": [],
   "source": []
  }
 ],
 "metadata": {
  "kernelspec": {
   "display_name": "Python 3",
   "language": "python",
   "name": "python3"
  },
  "language_info": {
   "codemirror_mode": {
    "name": "ipython",
    "version": 3
   },
   "file_extension": ".py",
   "mimetype": "text/x-python",
   "name": "python",
   "nbconvert_exporter": "python",
   "pygments_lexer": "ipython3",
   "version": "3.7.7"
  },
  "toc": {
   "base_numbering": 1,
   "nav_menu": {},
   "number_sections": true,
   "sideBar": true,
   "skip_h1_title": false,
   "title_cell": "Table of Contents",
   "title_sidebar": "Contents",
   "toc_cell": false,
   "toc_position": {
    "height": "calc(100% - 180px)",
    "left": "10px",
    "top": "150px",
    "width": "307.2px"
   },
   "toc_section_display": true,
   "toc_window_display": true
  }
 },
 "nbformat": 4,
 "nbformat_minor": 4
}
