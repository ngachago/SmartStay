{
 "cells": [
  {
   "cell_type": "code",
   "execution_count": 37,
   "metadata": {},
   "outputs": [],
   "source": [
    "import pandas as pd\n",
    "from urllib.parse import urlparse"
   ]
  },
  {
   "cell_type": "code",
   "execution_count": 2,
   "metadata": {},
   "outputs": [
    {
     "name": "stdout",
     "output_type": "stream",
     "text": [
      "/c/Users/njeri/Projects/SmartStay\n"
     ]
    }
   ],
   "source": [
    "!pwd"
   ]
  },
  {
   "cell_type": "code",
   "execution_count": 3,
   "metadata": {},
   "outputs": [
    {
     "data": {
      "text/plain": [
       "(10000, 25)"
      ]
     },
     "execution_count": 3,
     "metadata": {},
     "output_type": "execute_result"
    }
   ],
   "source": [
    "df_1 = pd.read_csv('data/Datafiniti_Hotel_Reviews.csv')\n",
    "df_1.shape"
   ]
  },
  {
   "cell_type": "code",
   "execution_count": 4,
   "metadata": {},
   "outputs": [
    {
     "data": {
      "text/plain": [
       "Index(['id', 'dateAdded', 'dateUpdated', 'address', 'categories',\n",
       "       'primaryCategories', 'city', 'country', 'keys', 'latitude', 'longitude',\n",
       "       'name', 'postalCode', 'province', 'reviews.date', 'reviews.dateAdded',\n",
       "       'reviews.dateSeen', 'reviews.rating', 'reviews.sourceURLs',\n",
       "       'reviews.text', 'reviews.title', 'reviews.userCity',\n",
       "       'reviews.userProvince', 'reviews.username', 'sourceURLs', 'websites'],\n",
       "      dtype='object')"
      ]
     },
     "execution_count": 4,
     "metadata": {},
     "output_type": "execute_result"
    }
   ],
   "source": [
    "df_2 = pd.read_csv('data/Datafiniti_Hotel_Reviews_Jun19.csv')\n",
    "df_2.columns"
   ]
  },
  {
   "cell_type": "code",
   "execution_count": 5,
   "metadata": {},
   "outputs": [
    {
     "data": {
      "text/plain": [
       "(10000, 25)"
      ]
     },
     "execution_count": 5,
     "metadata": {},
     "output_type": "execute_result"
    }
   ],
   "source": [
    "df_3 = df_2.drop('reviews.dateAdded', axis=1)\n",
    "df_3.shape"
   ]
  },
  {
   "cell_type": "code",
   "execution_count": 6,
   "metadata": {},
   "outputs": [
    {
     "data": {
      "text/plain": [
       "(20000, 25)"
      ]
     },
     "execution_count": 6,
     "metadata": {},
     "output_type": "execute_result"
    }
   ],
   "source": [
    "data = pd.concat([df_1, df_3], ignore_index=True)\n",
    "data.shape"
   ]
  },
  {
   "cell_type": "code",
   "execution_count": 7,
   "metadata": {},
   "outputs": [
    {
     "data": {
      "text/html": [
       "<div>\n",
       "<style scoped>\n",
       "    .dataframe tbody tr th:only-of-type {\n",
       "        vertical-align: middle;\n",
       "    }\n",
       "\n",
       "    .dataframe tbody tr th {\n",
       "        vertical-align: top;\n",
       "    }\n",
       "\n",
       "    .dataframe thead th {\n",
       "        text-align: right;\n",
       "    }\n",
       "</style>\n",
       "<table border=\"1\" class=\"dataframe\">\n",
       "  <thead>\n",
       "    <tr style=\"text-align: right;\">\n",
       "      <th></th>\n",
       "      <th>id</th>\n",
       "      <th>dateAdded</th>\n",
       "      <th>dateUpdated</th>\n",
       "      <th>address</th>\n",
       "      <th>categories</th>\n",
       "      <th>primaryCategories</th>\n",
       "      <th>city</th>\n",
       "      <th>country</th>\n",
       "      <th>keys</th>\n",
       "      <th>latitude</th>\n",
       "      <th>...</th>\n",
       "      <th>reviews.dateSeen</th>\n",
       "      <th>reviews.rating</th>\n",
       "      <th>reviews.sourceURLs</th>\n",
       "      <th>reviews.text</th>\n",
       "      <th>reviews.title</th>\n",
       "      <th>reviews.userCity</th>\n",
       "      <th>reviews.userProvince</th>\n",
       "      <th>reviews.username</th>\n",
       "      <th>sourceURLs</th>\n",
       "      <th>websites</th>\n",
       "    </tr>\n",
       "  </thead>\n",
       "  <tbody>\n",
       "    <tr>\n",
       "      <th>0</th>\n",
       "      <td>AVwc252WIN2L1WUfpqLP</td>\n",
       "      <td>2016-10-30T21:42:42Z</td>\n",
       "      <td>2018-09-10T21:06:27Z</td>\n",
       "      <td>5921 Valencia Cir</td>\n",
       "      <td>Hotels,Hotels and motels,Hotel and motel reser...</td>\n",
       "      <td>Accommodation &amp; Food Services</td>\n",
       "      <td>Rancho Santa Fe</td>\n",
       "      <td>US</td>\n",
       "      <td>us/ca/ranchosantafe/5921valenciacir/359754519</td>\n",
       "      <td>32.990959</td>\n",
       "      <td>...</td>\n",
       "      <td>2016-08-03T00:00:00Z,2016-07-26T00:00:00Z,2016...</td>\n",
       "      <td>5.0</td>\n",
       "      <td>https://www.hotels.com/hotel/125419/reviews%20/</td>\n",
       "      <td>Our experience at Rancho Valencia was absolute...</td>\n",
       "      <td>Best romantic vacation ever!!!!</td>\n",
       "      <td>NaN</td>\n",
       "      <td>NaN</td>\n",
       "      <td>Paula</td>\n",
       "      <td>http://www.hotels.com/ho125419/%25252525253Flo...</td>\n",
       "      <td>http://www.ranchovalencia.com</td>\n",
       "    </tr>\n",
       "    <tr>\n",
       "      <th>1</th>\n",
       "      <td>AVwc252WIN2L1WUfpqLP</td>\n",
       "      <td>2016-10-30T21:42:42Z</td>\n",
       "      <td>2018-09-10T21:06:27Z</td>\n",
       "      <td>5921 Valencia Cir</td>\n",
       "      <td>Hotels,Hotels and motels,Hotel and motel reser...</td>\n",
       "      <td>Accommodation &amp; Food Services</td>\n",
       "      <td>Rancho Santa Fe</td>\n",
       "      <td>US</td>\n",
       "      <td>us/ca/ranchosantafe/5921valenciacir/359754519</td>\n",
       "      <td>32.990959</td>\n",
       "      <td>...</td>\n",
       "      <td>2016-08-02T00:00:00Z,2016-08-26T00:00:00Z,2016...</td>\n",
       "      <td>5.0</td>\n",
       "      <td>https://www.hotels.com/hotel/125419/reviews%20/</td>\n",
       "      <td>Amazing place. Everyone was extremely warm and...</td>\n",
       "      <td>Sweet sweet serenity</td>\n",
       "      <td>NaN</td>\n",
       "      <td>NaN</td>\n",
       "      <td>D</td>\n",
       "      <td>http://www.hotels.com/ho125419/%25252525253Flo...</td>\n",
       "      <td>http://www.ranchovalencia.com</td>\n",
       "    </tr>\n",
       "    <tr>\n",
       "      <th>2</th>\n",
       "      <td>AVwc252WIN2L1WUfpqLP</td>\n",
       "      <td>2016-10-30T21:42:42Z</td>\n",
       "      <td>2018-09-10T21:06:27Z</td>\n",
       "      <td>5921 Valencia Cir</td>\n",
       "      <td>Hotels,Hotels and motels,Hotel and motel reser...</td>\n",
       "      <td>Accommodation &amp; Food Services</td>\n",
       "      <td>Rancho Santa Fe</td>\n",
       "      <td>US</td>\n",
       "      <td>us/ca/ranchosantafe/5921valenciacir/359754519</td>\n",
       "      <td>32.990959</td>\n",
       "      <td>...</td>\n",
       "      <td>2016-11-15T00:00:00Z,2016-08-23T00:00:00Z,2016...</td>\n",
       "      <td>5.0</td>\n",
       "      <td>https://www.hotels.com/hotel/125419/reviews%20/</td>\n",
       "      <td>We booked a 3 night stay at Rancho Valencia to...</td>\n",
       "      <td>Amazing Property and Experience</td>\n",
       "      <td>NaN</td>\n",
       "      <td>NaN</td>\n",
       "      <td>Ron</td>\n",
       "      <td>http://www.hotels.com/ho125419/%25252525253Flo...</td>\n",
       "      <td>http://www.ranchovalencia.com</td>\n",
       "    </tr>\n",
       "  </tbody>\n",
       "</table>\n",
       "<p>3 rows × 25 columns</p>\n",
       "</div>"
      ],
      "text/plain": [
       "                     id             dateAdded           dateUpdated  \\\n",
       "0  AVwc252WIN2L1WUfpqLP  2016-10-30T21:42:42Z  2018-09-10T21:06:27Z   \n",
       "1  AVwc252WIN2L1WUfpqLP  2016-10-30T21:42:42Z  2018-09-10T21:06:27Z   \n",
       "2  AVwc252WIN2L1WUfpqLP  2016-10-30T21:42:42Z  2018-09-10T21:06:27Z   \n",
       "\n",
       "             address                                         categories  \\\n",
       "0  5921 Valencia Cir  Hotels,Hotels and motels,Hotel and motel reser...   \n",
       "1  5921 Valencia Cir  Hotels,Hotels and motels,Hotel and motel reser...   \n",
       "2  5921 Valencia Cir  Hotels,Hotels and motels,Hotel and motel reser...   \n",
       "\n",
       "               primaryCategories             city country  \\\n",
       "0  Accommodation & Food Services  Rancho Santa Fe      US   \n",
       "1  Accommodation & Food Services  Rancho Santa Fe      US   \n",
       "2  Accommodation & Food Services  Rancho Santa Fe      US   \n",
       "\n",
       "                                            keys   latitude  ...  \\\n",
       "0  us/ca/ranchosantafe/5921valenciacir/359754519  32.990959  ...   \n",
       "1  us/ca/ranchosantafe/5921valenciacir/359754519  32.990959  ...   \n",
       "2  us/ca/ranchosantafe/5921valenciacir/359754519  32.990959  ...   \n",
       "\n",
       "                                    reviews.dateSeen reviews.rating  \\\n",
       "0  2016-08-03T00:00:00Z,2016-07-26T00:00:00Z,2016...            5.0   \n",
       "1  2016-08-02T00:00:00Z,2016-08-26T00:00:00Z,2016...            5.0   \n",
       "2  2016-11-15T00:00:00Z,2016-08-23T00:00:00Z,2016...            5.0   \n",
       "\n",
       "                                reviews.sourceURLs  \\\n",
       "0  https://www.hotels.com/hotel/125419/reviews%20/   \n",
       "1  https://www.hotels.com/hotel/125419/reviews%20/   \n",
       "2  https://www.hotels.com/hotel/125419/reviews%20/   \n",
       "\n",
       "                                        reviews.text  \\\n",
       "0  Our experience at Rancho Valencia was absolute...   \n",
       "1  Amazing place. Everyone was extremely warm and...   \n",
       "2  We booked a 3 night stay at Rancho Valencia to...   \n",
       "\n",
       "                     reviews.title reviews.userCity  reviews.userProvince  \\\n",
       "0  Best romantic vacation ever!!!!              NaN                   NaN   \n",
       "1             Sweet sweet serenity              NaN                   NaN   \n",
       "2  Amazing Property and Experience              NaN                   NaN   \n",
       "\n",
       "  reviews.username                                         sourceURLs  \\\n",
       "0            Paula  http://www.hotels.com/ho125419/%25252525253Flo...   \n",
       "1                D  http://www.hotels.com/ho125419/%25252525253Flo...   \n",
       "2              Ron  http://www.hotels.com/ho125419/%25252525253Flo...   \n",
       "\n",
       "                        websites  \n",
       "0  http://www.ranchovalencia.com  \n",
       "1  http://www.ranchovalencia.com  \n",
       "2  http://www.ranchovalencia.com  \n",
       "\n",
       "[3 rows x 25 columns]"
      ]
     },
     "execution_count": 7,
     "metadata": {},
     "output_type": "execute_result"
    }
   ],
   "source": [
    "data.head(3)"
   ]
  },
  {
   "cell_type": "code",
   "execution_count": 8,
   "metadata": {},
   "outputs": [
    {
     "data": {
      "text/plain": [
       "Index(['id', 'dateAdded', 'dateUpdated', 'address', 'categories',\n",
       "       'primaryCategories', 'city', 'country', 'keys', 'latitude', 'longitude',\n",
       "       'name', 'postalCode', 'province', 'reviews.date', 'reviews.dateSeen',\n",
       "       'reviews.rating', 'reviews.sourceURLs', 'reviews.text', 'reviews.title',\n",
       "       'reviews.userCity', 'reviews.userProvince', 'reviews.username',\n",
       "       'sourceURLs', 'websites'],\n",
       "      dtype='object')"
      ]
     },
     "execution_count": 8,
     "metadata": {},
     "output_type": "execute_result"
    }
   ],
   "source": [
    "data.columns"
   ]
  },
  {
   "cell_type": "markdown",
   "metadata": {},
   "source": [
    "## Look for missing values"
   ]
  },
  {
   "cell_type": "code",
   "execution_count": 9,
   "metadata": {},
   "outputs": [
    {
     "data": {
      "text/plain": [
       "id                         0\n",
       "dateAdded                  0\n",
       "dateUpdated                0\n",
       "address                    0\n",
       "categories                 0\n",
       "primaryCategories          0\n",
       "city                       0\n",
       "country                    0\n",
       "keys                       0\n",
       "latitude                   0\n",
       "longitude                  0\n",
       "name                       0\n",
       "postalCode                 0\n",
       "province                   0\n",
       "reviews.date               0\n",
       "reviews.dateSeen           0\n",
       "reviews.rating             0\n",
       "reviews.sourceURLs         0\n",
       "reviews.text               1\n",
       "reviews.title              2\n",
       "reviews.userCity        5836\n",
       "reviews.userProvince    7297\n",
       "reviews.username           0\n",
       "sourceURLs                 0\n",
       "websites                   0\n",
       "dtype: int64"
      ]
     },
     "execution_count": 9,
     "metadata": {},
     "output_type": "execute_result"
    }
   ],
   "source": [
    "data.isnull().sum()"
   ]
  },
  {
   "cell_type": "code",
   "execution_count": 10,
   "metadata": {},
   "outputs": [
    {
     "data": {
      "text/plain": [
       "(20000, 23)"
      ]
     },
     "execution_count": 10,
     "metadata": {},
     "output_type": "execute_result"
    }
   ],
   "source": [
    "data = data.drop(columns=['reviews.userCity', 'reviews.userProvince'])\n",
    "data.shape"
   ]
  },
  {
   "cell_type": "code",
   "execution_count": 11,
   "metadata": {},
   "outputs": [
    {
     "data": {
      "text/plain": [
       "id                    0\n",
       "dateAdded             0\n",
       "dateUpdated           0\n",
       "address               0\n",
       "categories            0\n",
       "primaryCategories     0\n",
       "city                  0\n",
       "country               0\n",
       "keys                  0\n",
       "latitude              0\n",
       "longitude             0\n",
       "name                  0\n",
       "postalCode            0\n",
       "province              0\n",
       "reviews.date          0\n",
       "reviews.dateSeen      0\n",
       "reviews.rating        0\n",
       "reviews.sourceURLs    0\n",
       "reviews.text          1\n",
       "reviews.title         2\n",
       "reviews.username      0\n",
       "sourceURLs            0\n",
       "websites              0\n",
       "dtype: int64"
      ]
     },
     "execution_count": 11,
     "metadata": {},
     "output_type": "execute_result"
    }
   ],
   "source": [
    "data.isnull().sum()"
   ]
  },
  {
   "cell_type": "code",
   "execution_count": 12,
   "metadata": {},
   "outputs": [
    {
     "data": {
      "text/plain": [
       "(19997, 23)"
      ]
     },
     "execution_count": 12,
     "metadata": {},
     "output_type": "execute_result"
    }
   ],
   "source": [
    "data = data.dropna()\n",
    "data.shape"
   ]
  },
  {
   "cell_type": "markdown",
   "metadata": {},
   "source": [
    "## Handle time data"
   ]
  },
  {
   "cell_type": "code",
   "execution_count": 13,
   "metadata": {},
   "outputs": [
    {
     "name": "stdout",
     "output_type": "stream",
     "text": [
      "<class 'pandas.core.frame.DataFrame'>\n",
      "Int64Index: 19997 entries, 0 to 19999\n",
      "Data columns (total 23 columns):\n",
      " #   Column              Non-Null Count  Dtype  \n",
      "---  ------              --------------  -----  \n",
      " 0   id                  19997 non-null  object \n",
      " 1   dateAdded           19997 non-null  object \n",
      " 2   dateUpdated         19997 non-null  object \n",
      " 3   address             19997 non-null  object \n",
      " 4   categories          19997 non-null  object \n",
      " 5   primaryCategories   19997 non-null  object \n",
      " 6   city                19997 non-null  object \n",
      " 7   country             19997 non-null  object \n",
      " 8   keys                19997 non-null  object \n",
      " 9   latitude            19997 non-null  float64\n",
      " 10  longitude           19997 non-null  float64\n",
      " 11  name                19997 non-null  object \n",
      " 12  postalCode          19997 non-null  object \n",
      " 13  province            19997 non-null  object \n",
      " 14  reviews.date        19997 non-null  object \n",
      " 15  reviews.dateSeen    19997 non-null  object \n",
      " 16  reviews.rating      19997 non-null  float64\n",
      " 17  reviews.sourceURLs  19997 non-null  object \n",
      " 18  reviews.text        19997 non-null  object \n",
      " 19  reviews.title       19997 non-null  object \n",
      " 20  reviews.username    19997 non-null  object \n",
      " 21  sourceURLs          19997 non-null  object \n",
      " 22  websites            19997 non-null  object \n",
      "dtypes: float64(3), object(20)\n",
      "memory usage: 3.7+ MB\n"
     ]
    }
   ],
   "source": [
    "data.info()"
   ]
  },
  {
   "cell_type": "code",
   "execution_count": 14,
   "metadata": {},
   "outputs": [
    {
     "name": "stdout",
     "output_type": "stream",
     "text": [
      "<class 'pandas.core.frame.DataFrame'>\n",
      "Int64Index: 19997 entries, 0 to 19999\n",
      "Data columns (total 23 columns):\n",
      " #   Column              Non-Null Count  Dtype              \n",
      "---  ------              --------------  -----              \n",
      " 0   id                  19997 non-null  object             \n",
      " 1   dateAdded           19997 non-null  datetime64[ns, UTC]\n",
      " 2   dateUpdated         19997 non-null  datetime64[ns, UTC]\n",
      " 3   address             19997 non-null  object             \n",
      " 4   categories          19997 non-null  object             \n",
      " 5   primaryCategories   19997 non-null  object             \n",
      " 6   city                19997 non-null  object             \n",
      " 7   country             19997 non-null  object             \n",
      " 8   keys                19997 non-null  object             \n",
      " 9   latitude            19997 non-null  float64            \n",
      " 10  longitude           19997 non-null  float64            \n",
      " 11  name                19997 non-null  object             \n",
      " 12  postalCode          19997 non-null  object             \n",
      " 13  province            19997 non-null  object             \n",
      " 14  reviews.date        19997 non-null  datetime64[ns, UTC]\n",
      " 15  reviews.dateSeen    19997 non-null  object             \n",
      " 16  reviews.rating      19997 non-null  float64            \n",
      " 17  reviews.sourceURLs  19997 non-null  object             \n",
      " 18  reviews.text        19997 non-null  object             \n",
      " 19  reviews.title       19997 non-null  object             \n",
      " 20  reviews.username    19997 non-null  object             \n",
      " 21  sourceURLs          19997 non-null  object             \n",
      " 22  websites            19997 non-null  object             \n",
      "dtypes: datetime64[ns, UTC](3), float64(3), object(17)\n",
      "memory usage: 3.7+ MB\n"
     ]
    }
   ],
   "source": [
    "data['dateAdded'] = pd.to_datetime(data['dateAdded'])\n",
    "data['dateUpdated'] = pd.to_datetime(data['dateUpdated'])\n",
    "data['reviews.date'] = pd.to_datetime(data['reviews.date'])\n",
    "data.info()"
   ]
  },
  {
   "cell_type": "code",
   "execution_count": 15,
   "metadata": {},
   "outputs": [
    {
     "data": {
      "text/plain": [
       "(19997, 22)"
      ]
     },
     "execution_count": 15,
     "metadata": {},
     "output_type": "execute_result"
    }
   ],
   "source": [
    "data = data.drop(columns='reviews.dateSeen')\n",
    "data.shape"
   ]
  },
  {
   "cell_type": "markdown",
   "metadata": {},
   "source": [
    "## Explore each column"
   ]
  },
  {
   "cell_type": "code",
   "execution_count": 16,
   "metadata": {},
   "outputs": [
    {
     "data": {
      "text/plain": [
       "2975"
      ]
     },
     "execution_count": 16,
     "metadata": {},
     "output_type": "execute_result"
    }
   ],
   "source": [
    "data.id.nunique()"
   ]
  },
  {
   "cell_type": "code",
   "execution_count": 17,
   "metadata": {},
   "outputs": [
    {
     "data": {
      "text/plain": [
       "2970"
      ]
     },
     "execution_count": 17,
     "metadata": {},
     "output_type": "execute_result"
    }
   ],
   "source": [
    "data.address.nunique()"
   ]
  },
  {
   "cell_type": "code",
   "execution_count": 18,
   "metadata": {},
   "outputs": [
    {
     "data": {
      "text/plain": [
       "1652"
      ]
     },
     "execution_count": 18,
     "metadata": {},
     "output_type": "execute_result"
    }
   ],
   "source": [
    "data.categories.nunique()"
   ]
  },
  {
   "cell_type": "code",
   "execution_count": 20,
   "metadata": {},
   "outputs": [
    {
     "data": {
      "text/plain": [
       "array(['Accommodation & Food Services',\n",
       "       'Healthcare & Social Assistance,Accommodation & Food Services',\n",
       "       'Accommodation & Food Services,Arts Entertainment & Recreation',\n",
       "       'Arts Entertainment & Recreation',\n",
       "       'Wholesale Trade,Accommodation & Food Services', 'Utilities',\n",
       "       'Accommodation & Food Services,Administrative & Support & Waste Management & Remediation',\n",
       "       'Accommodation & Food Services,Agriculture'], dtype=object)"
      ]
     },
     "execution_count": 20,
     "metadata": {},
     "output_type": "execute_result"
    }
   ],
   "source": [
    "data.primaryCategories.unique()"
   ]
  },
  {
   "cell_type": "code",
   "execution_count": 21,
   "metadata": {},
   "outputs": [
    {
     "data": {
      "text/plain": [
       "1416"
      ]
     },
     "execution_count": 21,
     "metadata": {},
     "output_type": "execute_result"
    }
   ],
   "source": [
    "data.city.nunique()"
   ]
  },
  {
   "cell_type": "code",
   "execution_count": 22,
   "metadata": {},
   "outputs": [
    {
     "data": {
      "text/plain": [
       "1"
      ]
     },
     "execution_count": 22,
     "metadata": {},
     "output_type": "execute_result"
    }
   ],
   "source": [
    "data.country.nunique()"
   ]
  },
  {
   "cell_type": "code",
   "execution_count": 23,
   "metadata": {},
   "outputs": [
    {
     "data": {
      "text/plain": [
       "(19997, 21)"
      ]
     },
     "execution_count": 23,
     "metadata": {},
     "output_type": "execute_result"
    }
   ],
   "source": [
    "data = data.drop(columns='country')\n",
    "data.shape"
   ]
  },
  {
   "cell_type": "code",
   "execution_count": 25,
   "metadata": {},
   "outputs": [
    {
     "data": {
      "text/plain": [
       "2976"
      ]
     },
     "execution_count": 25,
     "metadata": {},
     "output_type": "execute_result"
    }
   ],
   "source": [
    "data['keys'].nunique()"
   ]
  },
  {
   "cell_type": "code",
   "execution_count": 26,
   "metadata": {},
   "outputs": [
    {
     "data": {
      "text/plain": [
       "2764"
      ]
     },
     "execution_count": 26,
     "metadata": {},
     "output_type": "execute_result"
    }
   ],
   "source": [
    "data.name.nunique()"
   ]
  },
  {
   "cell_type": "code",
   "execution_count": 27,
   "metadata": {},
   "outputs": [
    {
     "data": {
      "text/plain": [
       "50"
      ]
     },
     "execution_count": 27,
     "metadata": {},
     "output_type": "execute_result"
    }
   ],
   "source": [
    "data.province.nunique()"
   ]
  },
  {
   "cell_type": "code",
   "execution_count": 31,
   "metadata": {},
   "outputs": [
    {
     "data": {
      "text/plain": [
       "array([5.  , 2.  , 4.  , 3.  , 1.  , 4.8 , 4.6 , 3.55, 4.4 , 4.15, 2.5 ,\n",
       "       3.95, 2.9 , 3.35, 3.75, 4.5 , 2.1 , 1.65, 3.15, 2.7 , 1.45, 2.75,\n",
       "       2.3 , 3.5 , 4.25, 1.25, 1.9 , 3.45, 3.25, 4.75])"
      ]
     },
     "execution_count": 31,
     "metadata": {},
     "output_type": "execute_result"
    }
   ],
   "source": [
    "data['reviews.rating'].unique()"
   ]
  },
  {
   "cell_type": "code",
   "execution_count": 35,
   "metadata": {},
   "outputs": [
    {
     "data": {
      "text/plain": [
       "19995    great\n",
       "19996    great\n",
       "19997    great\n",
       "19998    great\n",
       "19999    great\n",
       "Name: cat_rating, dtype: object"
      ]
     },
     "execution_count": 35,
     "metadata": {},
     "output_type": "execute_result"
    }
   ],
   "source": [
    "def review_map(rating):\n",
    "    if rating >= 4:\n",
    "        return 'great'\n",
    "    if rating == 3:\n",
    "        return 'ok'\n",
    "    if rating < 3:\n",
    "        return 'bad'\n",
    "\n",
    "data['cat_rating'] = data['reviews.rating'].map(review_map)\n",
    "data['cat_rating'].tail()"
   ]
  },
  {
   "cell_type": "code",
   "execution_count": 36,
   "metadata": {},
   "outputs": [
    {
     "data": {
      "text/plain": [
       "14256"
      ]
     },
     "execution_count": 36,
     "metadata": {},
     "output_type": "execute_result"
    }
   ],
   "source": [
    "data['reviews.sourceURLs'].nunique()"
   ]
  },
  {
   "cell_type": "code",
   "execution_count": 44,
   "metadata": {},
   "outputs": [],
   "source": [
    "url = 'https://www.tripadvisor.com/Hotel_Review-g53573-d666353-Reviews-Candlelight_Inn_Bed_Breakfast-Ronks_Lancaster_County_Pennsylvania.html'\n",
    "parsed = urlparse(url)\n",
    "parsed.netloc\n",
    "\n",
    "def short_url(url):\n",
    "    parsed = urlparse(url)\n",
    "    short_url = parsed.netloc\n",
    "    return short_url.replace('www.', '')"
   ]
  },
  {
   "cell_type": "code",
   "execution_count": 46,
   "metadata": {},
   "outputs": [
    {
     "data": {
      "text/plain": [
       "19995    tripadvisor.com\n",
       "19996    tripadvisor.com\n",
       "19997    tripadvisor.com\n",
       "19998    tripadvisor.com\n",
       "19999    tripadvisor.com\n",
       "Name: short_source, dtype: object"
      ]
     },
     "execution_count": 46,
     "metadata": {},
     "output_type": "execute_result"
    }
   ],
   "source": [
    "data['short_source'] = data['reviews.sourceURLs'].map(short_url )\n",
    "data['short_source'].tail()"
   ]
  },
  {
   "cell_type": "code",
   "execution_count": 47,
   "metadata": {},
   "outputs": [
    {
     "data": {
      "text/plain": [
       "(19997, 21)"
      ]
     },
     "execution_count": 47,
     "metadata": {},
     "output_type": "execute_result"
    }
   ],
   "source": [
    "data = data.drop(columns=['sourceURLs', 'websites'])\n",
    "data.shape"
   ]
  },
  {
   "cell_type": "code",
   "execution_count": 48,
   "metadata": {},
   "outputs": [
    {
     "data": {
      "text/plain": [
       "Index(['id', 'dateAdded', 'dateUpdated', 'address', 'categories',\n",
       "       'primaryCategories', 'city', 'keys', 'latitude', 'longitude', 'name',\n",
       "       'postalCode', 'province', 'reviews.date', 'reviews.rating',\n",
       "       'reviews.sourceURLs', 'reviews.text', 'reviews.title',\n",
       "       'reviews.username', 'cat_rating', 'short_source'],\n",
       "      dtype='object')"
      ]
     },
     "execution_count": 48,
     "metadata": {},
     "output_type": "execute_result"
    }
   ],
   "source": [
    "data.columns"
   ]
  },
  {
   "cell_type": "markdown",
   "metadata": {},
   "source": [
    "## Next steps\n",
    "\n",
    "- ID is unique identifier for hotel\n",
    "- dateAdded is date info was added to Datafiniti\n",
    "- remove dateUpdated column\n",
    "- remove dateAdded column\n",
    "- remove address column\n",
    "- remove keys column\n",
    "- split reviews.date to month & date of review and add season\n",
    "- remove reviews.sourceURLs"
   ]
  },
  {
   "cell_type": "code",
   "execution_count": 49,
   "metadata": {},
   "outputs": [
    {
     "data": {
      "text/plain": [
       "(19997, 16)"
      ]
     },
     "execution_count": 49,
     "metadata": {},
     "output_type": "execute_result"
    }
   ],
   "source": [
    "data = data.drop(columns=['dateAdded', 'dateUpdated', 'address', 'keys', 'reviews.sourceURLs'])\n",
    "data.shape"
   ]
  },
  {
   "cell_type": "code",
   "execution_count": 51,
   "metadata": {},
   "outputs": [
    {
     "data": {
      "text/plain": [
       "0   2013-11-14 00:00:00+00:00\n",
       "1   2014-07-06 00:00:00+00:00\n",
       "2   2015-01-02 00:00:00+00:00\n",
       "3   2016-05-15 00:00:00+00:00\n",
       "4   2016-07-09 00:00:00+00:00\n",
       "Name: reviews.date, dtype: datetime64[ns, UTC]"
      ]
     },
     "execution_count": 51,
     "metadata": {},
     "output_type": "execute_result"
    }
   ],
   "source": [
    "data['reviews.date'].head()"
   ]
  },
  {
   "cell_type": "code",
   "execution_count": 52,
   "metadata": {},
   "outputs": [
    {
     "data": {
      "text/html": [
       "<div>\n",
       "<style scoped>\n",
       "    .dataframe tbody tr th:only-of-type {\n",
       "        vertical-align: middle;\n",
       "    }\n",
       "\n",
       "    .dataframe tbody tr th {\n",
       "        vertical-align: top;\n",
       "    }\n",
       "\n",
       "    .dataframe thead th {\n",
       "        text-align: right;\n",
       "    }\n",
       "</style>\n",
       "<table border=\"1\" class=\"dataframe\">\n",
       "  <thead>\n",
       "    <tr style=\"text-align: right;\">\n",
       "      <th></th>\n",
       "      <th>id</th>\n",
       "      <th>categories</th>\n",
       "      <th>primaryCategories</th>\n",
       "      <th>city</th>\n",
       "      <th>latitude</th>\n",
       "      <th>longitude</th>\n",
       "      <th>name</th>\n",
       "      <th>postalCode</th>\n",
       "      <th>province</th>\n",
       "      <th>reviews.date</th>\n",
       "      <th>reviews.rating</th>\n",
       "      <th>reviews.text</th>\n",
       "      <th>reviews.title</th>\n",
       "      <th>reviews.username</th>\n",
       "      <th>cat_rating</th>\n",
       "      <th>short_source</th>\n",
       "      <th>month</th>\n",
       "      <th>year</th>\n",
       "    </tr>\n",
       "  </thead>\n",
       "  <tbody>\n",
       "    <tr>\n",
       "      <th>0</th>\n",
       "      <td>AVwc252WIN2L1WUfpqLP</td>\n",
       "      <td>Hotels,Hotels and motels,Hotel and motel reser...</td>\n",
       "      <td>Accommodation &amp; Food Services</td>\n",
       "      <td>Rancho Santa Fe</td>\n",
       "      <td>32.990959</td>\n",
       "      <td>-117.186136</td>\n",
       "      <td>Rancho Valencia Resort Spa</td>\n",
       "      <td>92067</td>\n",
       "      <td>CA</td>\n",
       "      <td>2013-11-14 00:00:00+00:00</td>\n",
       "      <td>5.0</td>\n",
       "      <td>Our experience at Rancho Valencia was absolute...</td>\n",
       "      <td>Best romantic vacation ever!!!!</td>\n",
       "      <td>Paula</td>\n",
       "      <td>great</td>\n",
       "      <td>hotels.com</td>\n",
       "      <td>11</td>\n",
       "      <td>2013</td>\n",
       "    </tr>\n",
       "    <tr>\n",
       "      <th>1</th>\n",
       "      <td>AVwc252WIN2L1WUfpqLP</td>\n",
       "      <td>Hotels,Hotels and motels,Hotel and motel reser...</td>\n",
       "      <td>Accommodation &amp; Food Services</td>\n",
       "      <td>Rancho Santa Fe</td>\n",
       "      <td>32.990959</td>\n",
       "      <td>-117.186136</td>\n",
       "      <td>Rancho Valencia Resort Spa</td>\n",
       "      <td>92067</td>\n",
       "      <td>CA</td>\n",
       "      <td>2014-07-06 00:00:00+00:00</td>\n",
       "      <td>5.0</td>\n",
       "      <td>Amazing place. Everyone was extremely warm and...</td>\n",
       "      <td>Sweet sweet serenity</td>\n",
       "      <td>D</td>\n",
       "      <td>great</td>\n",
       "      <td>hotels.com</td>\n",
       "      <td>7</td>\n",
       "      <td>2014</td>\n",
       "    </tr>\n",
       "    <tr>\n",
       "      <th>2</th>\n",
       "      <td>AVwc252WIN2L1WUfpqLP</td>\n",
       "      <td>Hotels,Hotels and motels,Hotel and motel reser...</td>\n",
       "      <td>Accommodation &amp; Food Services</td>\n",
       "      <td>Rancho Santa Fe</td>\n",
       "      <td>32.990959</td>\n",
       "      <td>-117.186136</td>\n",
       "      <td>Rancho Valencia Resort Spa</td>\n",
       "      <td>92067</td>\n",
       "      <td>CA</td>\n",
       "      <td>2015-01-02 00:00:00+00:00</td>\n",
       "      <td>5.0</td>\n",
       "      <td>We booked a 3 night stay at Rancho Valencia to...</td>\n",
       "      <td>Amazing Property and Experience</td>\n",
       "      <td>Ron</td>\n",
       "      <td>great</td>\n",
       "      <td>hotels.com</td>\n",
       "      <td>1</td>\n",
       "      <td>2015</td>\n",
       "    </tr>\n",
       "    <tr>\n",
       "      <th>3</th>\n",
       "      <td>AVwdOclqIN2L1WUfti38</td>\n",
       "      <td>Hotels,Hotels and motels,Travel agencies and b...</td>\n",
       "      <td>Accommodation &amp; Food Services</td>\n",
       "      <td>Hanover</td>\n",
       "      <td>39.155929</td>\n",
       "      <td>-76.716341</td>\n",
       "      <td>Aloft Arundel Mills</td>\n",
       "      <td>21076</td>\n",
       "      <td>MD</td>\n",
       "      <td>2016-05-15 00:00:00+00:00</td>\n",
       "      <td>2.0</td>\n",
       "      <td>Currently in bed writing this for the past hr ...</td>\n",
       "      <td>Never again...beware, if you want sleep.</td>\n",
       "      <td>jaeem2016</td>\n",
       "      <td>bad</td>\n",
       "      <td>tripadvisor.com</td>\n",
       "      <td>5</td>\n",
       "      <td>2016</td>\n",
       "    </tr>\n",
       "    <tr>\n",
       "      <th>4</th>\n",
       "      <td>AVwdOclqIN2L1WUfti38</td>\n",
       "      <td>Hotels,Hotels and motels,Travel agencies and b...</td>\n",
       "      <td>Accommodation &amp; Food Services</td>\n",
       "      <td>Hanover</td>\n",
       "      <td>39.155929</td>\n",
       "      <td>-76.716341</td>\n",
       "      <td>Aloft Arundel Mills</td>\n",
       "      <td>21076</td>\n",
       "      <td>MD</td>\n",
       "      <td>2016-07-09 00:00:00+00:00</td>\n",
       "      <td>5.0</td>\n",
       "      <td>I live in Md and the Aloft is my Home away fro...</td>\n",
       "      <td>ALWAYS GREAT STAY...</td>\n",
       "      <td>MamaNiaOne</td>\n",
       "      <td>great</td>\n",
       "      <td>tripadvisor.com</td>\n",
       "      <td>7</td>\n",
       "      <td>2016</td>\n",
       "    </tr>\n",
       "  </tbody>\n",
       "</table>\n",
       "</div>"
      ],
      "text/plain": [
       "                     id                                         categories  \\\n",
       "0  AVwc252WIN2L1WUfpqLP  Hotels,Hotels and motels,Hotel and motel reser...   \n",
       "1  AVwc252WIN2L1WUfpqLP  Hotels,Hotels and motels,Hotel and motel reser...   \n",
       "2  AVwc252WIN2L1WUfpqLP  Hotels,Hotels and motels,Hotel and motel reser...   \n",
       "3  AVwdOclqIN2L1WUfti38  Hotels,Hotels and motels,Travel agencies and b...   \n",
       "4  AVwdOclqIN2L1WUfti38  Hotels,Hotels and motels,Travel agencies and b...   \n",
       "\n",
       "               primaryCategories             city   latitude   longitude  \\\n",
       "0  Accommodation & Food Services  Rancho Santa Fe  32.990959 -117.186136   \n",
       "1  Accommodation & Food Services  Rancho Santa Fe  32.990959 -117.186136   \n",
       "2  Accommodation & Food Services  Rancho Santa Fe  32.990959 -117.186136   \n",
       "3  Accommodation & Food Services          Hanover  39.155929  -76.716341   \n",
       "4  Accommodation & Food Services          Hanover  39.155929  -76.716341   \n",
       "\n",
       "                         name postalCode province              reviews.date  \\\n",
       "0  Rancho Valencia Resort Spa      92067       CA 2013-11-14 00:00:00+00:00   \n",
       "1  Rancho Valencia Resort Spa      92067       CA 2014-07-06 00:00:00+00:00   \n",
       "2  Rancho Valencia Resort Spa      92067       CA 2015-01-02 00:00:00+00:00   \n",
       "3         Aloft Arundel Mills      21076       MD 2016-05-15 00:00:00+00:00   \n",
       "4         Aloft Arundel Mills      21076       MD 2016-07-09 00:00:00+00:00   \n",
       "\n",
       "   reviews.rating                                       reviews.text  \\\n",
       "0             5.0  Our experience at Rancho Valencia was absolute...   \n",
       "1             5.0  Amazing place. Everyone was extremely warm and...   \n",
       "2             5.0  We booked a 3 night stay at Rancho Valencia to...   \n",
       "3             2.0  Currently in bed writing this for the past hr ...   \n",
       "4             5.0  I live in Md and the Aloft is my Home away fro...   \n",
       "\n",
       "                              reviews.title reviews.username cat_rating  \\\n",
       "0           Best romantic vacation ever!!!!            Paula      great   \n",
       "1                      Sweet sweet serenity                D      great   \n",
       "2           Amazing Property and Experience              Ron      great   \n",
       "3  Never again...beware, if you want sleep.        jaeem2016        bad   \n",
       "4                      ALWAYS GREAT STAY...       MamaNiaOne      great   \n",
       "\n",
       "      short_source  month  year  \n",
       "0       hotels.com     11  2013  \n",
       "1       hotels.com      7  2014  \n",
       "2       hotels.com      1  2015  \n",
       "3  tripadvisor.com      5  2016  \n",
       "4  tripadvisor.com      7  2016  "
      ]
     },
     "execution_count": 52,
     "metadata": {},
     "output_type": "execute_result"
    }
   ],
   "source": [
    "data['month'] = data['reviews.date'].dt.month\n",
    "data['year'] = data['reviews.date'].dt.year\n",
    "data.head()"
   ]
  },
  {
   "cell_type": "code",
   "execution_count": 53,
   "metadata": {},
   "outputs": [
    {
     "data": {
      "text/plain": [
       "(19997, 17)"
      ]
     },
     "execution_count": 53,
     "metadata": {},
     "output_type": "execute_result"
    }
   ],
   "source": [
    "data = data.drop(columns='reviews.date')\n",
    "data.shape"
   ]
  },
  {
   "cell_type": "code",
   "execution_count": 57,
   "metadata": {},
   "outputs": [
    {
     "data": {
      "text/html": [
       "<div>\n",
       "<style scoped>\n",
       "    .dataframe tbody tr th:only-of-type {\n",
       "        vertical-align: middle;\n",
       "    }\n",
       "\n",
       "    .dataframe tbody tr th {\n",
       "        vertical-align: top;\n",
       "    }\n",
       "\n",
       "    .dataframe thead th {\n",
       "        text-align: right;\n",
       "    }\n",
       "</style>\n",
       "<table border=\"1\" class=\"dataframe\">\n",
       "  <thead>\n",
       "    <tr style=\"text-align: right;\">\n",
       "      <th></th>\n",
       "      <th>id</th>\n",
       "      <th>categories</th>\n",
       "      <th>primaryCategories</th>\n",
       "      <th>city</th>\n",
       "      <th>latitude</th>\n",
       "      <th>longitude</th>\n",
       "      <th>name</th>\n",
       "      <th>postalCode</th>\n",
       "      <th>province</th>\n",
       "      <th>reviews.rating</th>\n",
       "      <th>reviews.text</th>\n",
       "      <th>reviews.title</th>\n",
       "      <th>reviews.username</th>\n",
       "      <th>cat_rating</th>\n",
       "      <th>short_source</th>\n",
       "      <th>month</th>\n",
       "      <th>year</th>\n",
       "      <th>visit_season</th>\n",
       "    </tr>\n",
       "  </thead>\n",
       "  <tbody>\n",
       "    <tr>\n",
       "      <th>19995</th>\n",
       "      <td>AVwdatg0ByjofQCxo5S5</td>\n",
       "      <td>Hotels,Hotels and motels,Corporate Lodging,New...</td>\n",
       "      <td>Accommodation &amp; Food Services</td>\n",
       "      <td>Hampton</td>\n",
       "      <td>37.057650</td>\n",
       "      <td>-76.393310</td>\n",
       "      <td>Hampton Inn Hampton-newport News</td>\n",
       "      <td>23666</td>\n",
       "      <td>VA</td>\n",
       "      <td>4.0</td>\n",
       "      <td>My friends and I took a trip to Hampton for th...</td>\n",
       "      <td>Very accommodating and friendly staff!</td>\n",
       "      <td>Tiffany1017</td>\n",
       "      <td>great</td>\n",
       "      <td>tripadvisor.com</td>\n",
       "      <td>12</td>\n",
       "      <td>2015</td>\n",
       "      <td>winter</td>\n",
       "    </tr>\n",
       "    <tr>\n",
       "      <th>19996</th>\n",
       "      <td>AVwdatg0ByjofQCxo5S5</td>\n",
       "      <td>Hotels,Hotels and motels,Corporate Lodging,New...</td>\n",
       "      <td>Accommodation &amp; Food Services</td>\n",
       "      <td>Hampton</td>\n",
       "      <td>37.057650</td>\n",
       "      <td>-76.393310</td>\n",
       "      <td>Hampton Inn Hampton-newport News</td>\n",
       "      <td>23666</td>\n",
       "      <td>VA</td>\n",
       "      <td>5.0</td>\n",
       "      <td>from check in to departure, staff is friendly,...</td>\n",
       "      <td>comfortable, friendly, clean, professional</td>\n",
       "      <td>bobg187</td>\n",
       "      <td>great</td>\n",
       "      <td>tripadvisor.com</td>\n",
       "      <td>11</td>\n",
       "      <td>2015</td>\n",
       "      <td>fall</td>\n",
       "    </tr>\n",
       "    <tr>\n",
       "      <th>19997</th>\n",
       "      <td>AVwdatg0ByjofQCxo5S5</td>\n",
       "      <td>Hotels,Hotels and motels,Corporate Lodging,New...</td>\n",
       "      <td>Accommodation &amp; Food Services</td>\n",
       "      <td>Hampton</td>\n",
       "      <td>37.057650</td>\n",
       "      <td>-76.393310</td>\n",
       "      <td>Hampton Inn Hampton-newport News</td>\n",
       "      <td>23666</td>\n",
       "      <td>VA</td>\n",
       "      <td>5.0</td>\n",
       "      <td>This Hampton is located on a quiet street acro...</td>\n",
       "      <td>Great location</td>\n",
       "      <td>K261ANbrendah</td>\n",
       "      <td>great</td>\n",
       "      <td>tripadvisor.com</td>\n",
       "      <td>7</td>\n",
       "      <td>2016</td>\n",
       "      <td>summer</td>\n",
       "    </tr>\n",
       "    <tr>\n",
       "      <th>19998</th>\n",
       "      <td>AV1thTgM3-Khe5l_OvT5</td>\n",
       "      <td>Hotels,Bar,Hotel,Restaurants</td>\n",
       "      <td>Accommodation &amp; Food Services</td>\n",
       "      <td>Hunter</td>\n",
       "      <td>42.210915</td>\n",
       "      <td>-74.215309</td>\n",
       "      <td>Roseberry's Inn</td>\n",
       "      <td>12442</td>\n",
       "      <td>NY</td>\n",
       "      <td>5.0</td>\n",
       "      <td>Awesome wings (my favorite was garlic parmesan...</td>\n",
       "      <td>Great Atmosphere!</td>\n",
       "      <td>soccerrocks2016</td>\n",
       "      <td>great</td>\n",
       "      <td>tripadvisor.com</td>\n",
       "      <td>10</td>\n",
       "      <td>2016</td>\n",
       "      <td>fall</td>\n",
       "    </tr>\n",
       "    <tr>\n",
       "      <th>19999</th>\n",
       "      <td>AV1tg9C7a4HuVbed8XA5</td>\n",
       "      <td>Hotels,Hotels and motels,Corporate Lodging,Lod...</td>\n",
       "      <td>Accommodation &amp; Food Services</td>\n",
       "      <td>Lindale</td>\n",
       "      <td>32.469540</td>\n",
       "      <td>-95.390420</td>\n",
       "      <td>Hampton Inn-lindale/tyler</td>\n",
       "      <td>75771</td>\n",
       "      <td>TX</td>\n",
       "      <td>4.0</td>\n",
       "      <td>Clean facility just off freeway ..... staff fr...</td>\n",
       "      <td>Health care appointments</td>\n",
       "      <td>tootallsmith</td>\n",
       "      <td>great</td>\n",
       "      <td>tripadvisor.com</td>\n",
       "      <td>6</td>\n",
       "      <td>2017</td>\n",
       "      <td>summer</td>\n",
       "    </tr>\n",
       "  </tbody>\n",
       "</table>\n",
       "</div>"
      ],
      "text/plain": [
       "                         id  \\\n",
       "19995  AVwdatg0ByjofQCxo5S5   \n",
       "19996  AVwdatg0ByjofQCxo5S5   \n",
       "19997  AVwdatg0ByjofQCxo5S5   \n",
       "19998  AV1thTgM3-Khe5l_OvT5   \n",
       "19999  AV1tg9C7a4HuVbed8XA5   \n",
       "\n",
       "                                              categories  \\\n",
       "19995  Hotels,Hotels and motels,Corporate Lodging,New...   \n",
       "19996  Hotels,Hotels and motels,Corporate Lodging,New...   \n",
       "19997  Hotels,Hotels and motels,Corporate Lodging,New...   \n",
       "19998                       Hotels,Bar,Hotel,Restaurants   \n",
       "19999  Hotels,Hotels and motels,Corporate Lodging,Lod...   \n",
       "\n",
       "                   primaryCategories     city   latitude  longitude  \\\n",
       "19995  Accommodation & Food Services  Hampton  37.057650 -76.393310   \n",
       "19996  Accommodation & Food Services  Hampton  37.057650 -76.393310   \n",
       "19997  Accommodation & Food Services  Hampton  37.057650 -76.393310   \n",
       "19998  Accommodation & Food Services   Hunter  42.210915 -74.215309   \n",
       "19999  Accommodation & Food Services  Lindale  32.469540 -95.390420   \n",
       "\n",
       "                                   name postalCode province  reviews.rating  \\\n",
       "19995  Hampton Inn Hampton-newport News      23666       VA             4.0   \n",
       "19996  Hampton Inn Hampton-newport News      23666       VA             5.0   \n",
       "19997  Hampton Inn Hampton-newport News      23666       VA             5.0   \n",
       "19998                   Roseberry's Inn      12442       NY             5.0   \n",
       "19999         Hampton Inn-lindale/tyler      75771       TX             4.0   \n",
       "\n",
       "                                            reviews.text  \\\n",
       "19995  My friends and I took a trip to Hampton for th...   \n",
       "19996  from check in to departure, staff is friendly,...   \n",
       "19997  This Hampton is located on a quiet street acro...   \n",
       "19998  Awesome wings (my favorite was garlic parmesan...   \n",
       "19999  Clean facility just off freeway ..... staff fr...   \n",
       "\n",
       "                                    reviews.title reviews.username cat_rating  \\\n",
       "19995      Very accommodating and friendly staff!      Tiffany1017      great   \n",
       "19996  comfortable, friendly, clean, professional          bobg187      great   \n",
       "19997                              Great location    K261ANbrendah      great   \n",
       "19998                           Great Atmosphere!  soccerrocks2016      great   \n",
       "19999                    Health care appointments     tootallsmith      great   \n",
       "\n",
       "          short_source  month  year visit_season  \n",
       "19995  tripadvisor.com     12  2015       winter  \n",
       "19996  tripadvisor.com     11  2015         fall  \n",
       "19997  tripadvisor.com      7  2016       summer  \n",
       "19998  tripadvisor.com     10  2016         fall  \n",
       "19999  tripadvisor.com      6  2017       summer  "
      ]
     },
     "execution_count": 57,
     "metadata": {},
     "output_type": "execute_result"
    }
   ],
   "source": [
    "def season(month):\n",
    "    if month == 12:\n",
    "        return 'winter'\n",
    "    if month >= 1 and month <= 2:\n",
    "        return 'winter'\n",
    "    if month >= 3 and month <= 5:\n",
    "        return 'spring'\n",
    "    if month >= 6 and month <= 8:\n",
    "        return 'summer'\n",
    "    if month >= 9 and month <= 11:\n",
    "        return 'fall'\n",
    "\n",
    "data['visit_season'] = data['month'].map(season)\n",
    "data.tail()"
   ]
  },
  {
   "cell_type": "code",
   "execution_count": 58,
   "metadata": {},
   "outputs": [
    {
     "data": {
      "text/plain": [
       "great    14972\n",
       "ok        2376\n",
       "bad       2374\n",
       "Name: cat_rating, dtype: int64"
      ]
     },
     "execution_count": 58,
     "metadata": {},
     "output_type": "execute_result"
    }
   ],
   "source": [
    "data['cat_rating'].value_counts()"
   ]
  },
  {
   "cell_type": "code",
   "execution_count": 60,
   "metadata": {},
   "outputs": [
    {
     "data": {
      "text/plain": [
       "summer    6177\n",
       "spring    5338\n",
       "fall      4537\n",
       "winter    3945\n",
       "Name: visit_season, dtype: int64"
      ]
     },
     "execution_count": 60,
     "metadata": {},
     "output_type": "execute_result"
    }
   ],
   "source": [
    "data['visit_season'].value_counts()"
   ]
  },
  {
   "cell_type": "code",
   "execution_count": 61,
   "metadata": {},
   "outputs": [
    {
     "data": {
      "text/plain": [
       "Accommodation & Food Services                                                              19916\n",
       "Arts Entertainment & Recreation                                                               45\n",
       "Healthcare & Social Assistance,Accommodation & Food Services                                  18\n",
       "Accommodation & Food Services,Arts Entertainment & Recreation                                  8\n",
       "Wholesale Trade,Accommodation & Food Services                                                  7\n",
       "Accommodation & Food Services,Administrative & Support & Waste Management & Remediation        1\n",
       "Utilities                                                                                      1\n",
       "Accommodation & Food Services,Agriculture                                                      1\n",
       "Name: primaryCategories, dtype: int64"
      ]
     },
     "execution_count": 61,
     "metadata": {},
     "output_type": "execute_result"
    }
   ],
   "source": [
    "data['primaryCategories'].value_counts()"
   ]
  },
  {
   "cell_type": "code",
   "execution_count": 66,
   "metadata": {},
   "outputs": [
    {
     "data": {
      "text/plain": [
       "2016    6916\n",
       "2015    4618\n",
       "2017    2508\n",
       "2014    1652\n",
       "2018    1269\n",
       "2013    1135\n",
       "2012     692\n",
       "2011     418\n",
       "2010     223\n",
       "2009     167\n",
       "2007     135\n",
       "2008     122\n",
       "2006      42\n",
       "2019      40\n",
       "2005      32\n",
       "2004      22\n",
       "2003       5\n",
       "2002       1\n",
       "Name: year, dtype: int64"
      ]
     },
     "execution_count": 66,
     "metadata": {},
     "output_type": "execute_result"
    }
   ],
   "source": [
    "data['year'].value_counts()"
   ]
  },
  {
   "cell_type": "markdown",
   "metadata": {},
   "source": [
    "## Further processing\n",
    "- Remove primaryCategories column - all categories can be considered accommodation & food services\n",
    "- Remove reviews.username - not applicaple for aggregation"
   ]
  },
  {
   "cell_type": "code",
   "execution_count": 67,
   "metadata": {},
   "outputs": [
    {
     "data": {
      "text/plain": [
       "(19997, 16)"
      ]
     },
     "execution_count": 67,
     "metadata": {},
     "output_type": "execute_result"
    }
   ],
   "source": [
    "data = data.drop(columns=['primaryCategories', 'reviews.username'])\n",
    "data.shape"
   ]
  },
  {
   "cell_type": "markdown",
   "metadata": {},
   "source": [
    "## Process text columns\n",
    "- pip install NLTK\n",
    "- convert all text to lower case\n",
    "- remove numbers\n",
    "- remove punctuation\n",
    "- remove stopwords\n",
    "- lemmatize words\n",
    "- vecotrize with Tfidf Vectorizer (tune max_df, min_df, max_features, ngram_range)\n",
    "- create review_richness column (i.e introduce vocabulary richness feature)\n",
    "- create pipeline to tune vectorizer and Multinomial Naive Bayes algorithm together"
   ]
  },
  {
   "cell_type": "code",
   "execution_count": 68,
   "metadata": {},
   "outputs": [],
   "source": [
    "# Complete remaining planning before beginning modeling"
   ]
  },
  {
   "cell_type": "code",
   "execution_count": null,
   "metadata": {},
   "outputs": [],
   "source": []
  }
 ],
 "metadata": {
  "kernelspec": {
   "display_name": "Python 3",
   "language": "python",
   "name": "python3"
  },
  "language_info": {
   "codemirror_mode": {
    "name": "ipython",
    "version": 3
   },
   "file_extension": ".py",
   "mimetype": "text/x-python",
   "name": "python",
   "nbconvert_exporter": "python",
   "pygments_lexer": "ipython3",
   "version": "3.7.7"
  },
  "toc": {
   "base_numbering": 1,
   "nav_menu": {},
   "number_sections": true,
   "sideBar": true,
   "skip_h1_title": false,
   "title_cell": "Table of Contents",
   "title_sidebar": "Contents",
   "toc_cell": false,
   "toc_position": {},
   "toc_section_display": true,
   "toc_window_display": false
  }
 },
 "nbformat": 4,
 "nbformat_minor": 4
}
